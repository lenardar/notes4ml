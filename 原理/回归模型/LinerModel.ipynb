{
 "cells": [
  {
   "cell_type": "markdown",
   "metadata": {},
   "source": [
    "# OLS预测加州房价"
   ]
  },
  {
   "cell_type": "code",
   "execution_count": 1,
   "metadata": {},
   "outputs": [],
   "source": [
    "from sklearn.linear_model import LinearRegression as LR\n",
    "from sklearn.model_selection import train_test_split\n",
    "from sklearn.model_selection import cross_val_score\n",
    "from sklearn.datasets import fetch_california_housing as fch\n",
    "import pandas as pd\n",
    "import numpy as np"
   ]
  },
  {
   "cell_type": "code",
   "execution_count": 2,
   "metadata": {},
   "outputs": [
    {
     "data": {
      "text/plain": [
       "{'data': array([[   8.3252    ,   41.        ,    6.98412698, ...,    2.55555556,\n",
       "           37.88      , -122.23      ],\n",
       "        [   8.3014    ,   21.        ,    6.23813708, ...,    2.10984183,\n",
       "           37.86      , -122.22      ],\n",
       "        [   7.2574    ,   52.        ,    8.28813559, ...,    2.80225989,\n",
       "           37.85      , -122.24      ],\n",
       "        ...,\n",
       "        [   1.7       ,   17.        ,    5.20554273, ...,    2.3256351 ,\n",
       "           39.43      , -121.22      ],\n",
       "        [   1.8672    ,   18.        ,    5.32951289, ...,    2.12320917,\n",
       "           39.43      , -121.32      ],\n",
       "        [   2.3886    ,   16.        ,    5.25471698, ...,    2.61698113,\n",
       "           39.37      , -121.24      ]]),\n",
       " 'target': array([4.526, 3.585, 3.521, ..., 0.923, 0.847, 0.894]),\n",
       " 'frame': None,\n",
       " 'target_names': ['MedHouseVal'],\n",
       " 'feature_names': ['MedInc',\n",
       "  'HouseAge',\n",
       "  'AveRooms',\n",
       "  'AveBedrms',\n",
       "  'Population',\n",
       "  'AveOccup',\n",
       "  'Latitude',\n",
       "  'Longitude'],\n",
       " 'DESCR': '.. _california_housing_dataset:\\n\\nCalifornia Housing dataset\\n--------------------------\\n\\n**Data Set Characteristics:**\\n\\n:Number of Instances: 20640\\n\\n:Number of Attributes: 8 numeric, predictive attributes and the target\\n\\n:Attribute Information:\\n    - MedInc        median income in block group\\n    - HouseAge      median house age in block group\\n    - AveRooms      average number of rooms per household\\n    - AveBedrms     average number of bedrooms per household\\n    - Population    block group population\\n    - AveOccup      average number of household members\\n    - Latitude      block group latitude\\n    - Longitude     block group longitude\\n\\n:Missing Attribute Values: None\\n\\nThis dataset was obtained from the StatLib repository.\\nhttps://www.dcc.fc.up.pt/~ltorgo/Regression/cal_housing.html\\n\\nThe target variable is the median house value for California districts,\\nexpressed in hundreds of thousands of dollars ($100,000).\\n\\nThis dataset was derived from the 1990 U.S. census, using one row per census\\nblock group. A block group is the smallest geographical unit for which the U.S.\\nCensus Bureau publishes sample data (a block group typically has a population\\nof 600 to 3,000 people).\\n\\nA household is a group of people residing within a home. Since the average\\nnumber of rooms and bedrooms in this dataset are provided per household, these\\ncolumns may take surprisingly large values for block groups with few households\\nand many empty houses, such as vacation resorts.\\n\\nIt can be downloaded/loaded using the\\n:func:`sklearn.datasets.fetch_california_housing` function.\\n\\n.. topic:: References\\n\\n    - Pace, R. Kelley and Ronald Barry, Sparse Spatial Autoregressions,\\n      Statistics and Probability Letters, 33 (1997) 291-297\\n'}"
      ]
     },
     "execution_count": 2,
     "metadata": {},
     "output_type": "execute_result"
    }
   ],
   "source": [
    "housevalue = fch()\n",
    "housevalue"
   ]
  },
  {
   "cell_type": "code",
   "execution_count": 3,
   "metadata": {},
   "outputs": [
    {
     "data": {
      "text/html": [
       "<div>\n",
       "<style scoped>\n",
       "    .dataframe tbody tr th:only-of-type {\n",
       "        vertical-align: middle;\n",
       "    }\n",
       "\n",
       "    .dataframe tbody tr th {\n",
       "        vertical-align: top;\n",
       "    }\n",
       "\n",
       "    .dataframe thead th {\n",
       "        text-align: right;\n",
       "    }\n",
       "</style>\n",
       "<table border=\"1\" class=\"dataframe\">\n",
       "  <thead>\n",
       "    <tr style=\"text-align: right;\">\n",
       "      <th></th>\n",
       "      <th>0</th>\n",
       "      <th>1</th>\n",
       "      <th>2</th>\n",
       "      <th>3</th>\n",
       "      <th>4</th>\n",
       "      <th>5</th>\n",
       "      <th>6</th>\n",
       "      <th>7</th>\n",
       "    </tr>\n",
       "  </thead>\n",
       "  <tbody>\n",
       "    <tr>\n",
       "      <th>0</th>\n",
       "      <td>8.3252</td>\n",
       "      <td>41.0</td>\n",
       "      <td>6.984127</td>\n",
       "      <td>1.023810</td>\n",
       "      <td>322.0</td>\n",
       "      <td>2.555556</td>\n",
       "      <td>37.88</td>\n",
       "      <td>-122.23</td>\n",
       "    </tr>\n",
       "    <tr>\n",
       "      <th>1</th>\n",
       "      <td>8.3014</td>\n",
       "      <td>21.0</td>\n",
       "      <td>6.238137</td>\n",
       "      <td>0.971880</td>\n",
       "      <td>2401.0</td>\n",
       "      <td>2.109842</td>\n",
       "      <td>37.86</td>\n",
       "      <td>-122.22</td>\n",
       "    </tr>\n",
       "    <tr>\n",
       "      <th>2</th>\n",
       "      <td>7.2574</td>\n",
       "      <td>52.0</td>\n",
       "      <td>8.288136</td>\n",
       "      <td>1.073446</td>\n",
       "      <td>496.0</td>\n",
       "      <td>2.802260</td>\n",
       "      <td>37.85</td>\n",
       "      <td>-122.24</td>\n",
       "    </tr>\n",
       "    <tr>\n",
       "      <th>3</th>\n",
       "      <td>5.6431</td>\n",
       "      <td>52.0</td>\n",
       "      <td>5.817352</td>\n",
       "      <td>1.073059</td>\n",
       "      <td>558.0</td>\n",
       "      <td>2.547945</td>\n",
       "      <td>37.85</td>\n",
       "      <td>-122.25</td>\n",
       "    </tr>\n",
       "    <tr>\n",
       "      <th>4</th>\n",
       "      <td>3.8462</td>\n",
       "      <td>52.0</td>\n",
       "      <td>6.281853</td>\n",
       "      <td>1.081081</td>\n",
       "      <td>565.0</td>\n",
       "      <td>2.181467</td>\n",
       "      <td>37.85</td>\n",
       "      <td>-122.25</td>\n",
       "    </tr>\n",
       "    <tr>\n",
       "      <th>...</th>\n",
       "      <td>...</td>\n",
       "      <td>...</td>\n",
       "      <td>...</td>\n",
       "      <td>...</td>\n",
       "      <td>...</td>\n",
       "      <td>...</td>\n",
       "      <td>...</td>\n",
       "      <td>...</td>\n",
       "    </tr>\n",
       "    <tr>\n",
       "      <th>20635</th>\n",
       "      <td>1.5603</td>\n",
       "      <td>25.0</td>\n",
       "      <td>5.045455</td>\n",
       "      <td>1.133333</td>\n",
       "      <td>845.0</td>\n",
       "      <td>2.560606</td>\n",
       "      <td>39.48</td>\n",
       "      <td>-121.09</td>\n",
       "    </tr>\n",
       "    <tr>\n",
       "      <th>20636</th>\n",
       "      <td>2.5568</td>\n",
       "      <td>18.0</td>\n",
       "      <td>6.114035</td>\n",
       "      <td>1.315789</td>\n",
       "      <td>356.0</td>\n",
       "      <td>3.122807</td>\n",
       "      <td>39.49</td>\n",
       "      <td>-121.21</td>\n",
       "    </tr>\n",
       "    <tr>\n",
       "      <th>20637</th>\n",
       "      <td>1.7000</td>\n",
       "      <td>17.0</td>\n",
       "      <td>5.205543</td>\n",
       "      <td>1.120092</td>\n",
       "      <td>1007.0</td>\n",
       "      <td>2.325635</td>\n",
       "      <td>39.43</td>\n",
       "      <td>-121.22</td>\n",
       "    </tr>\n",
       "    <tr>\n",
       "      <th>20638</th>\n",
       "      <td>1.8672</td>\n",
       "      <td>18.0</td>\n",
       "      <td>5.329513</td>\n",
       "      <td>1.171920</td>\n",
       "      <td>741.0</td>\n",
       "      <td>2.123209</td>\n",
       "      <td>39.43</td>\n",
       "      <td>-121.32</td>\n",
       "    </tr>\n",
       "    <tr>\n",
       "      <th>20639</th>\n",
       "      <td>2.3886</td>\n",
       "      <td>16.0</td>\n",
       "      <td>5.254717</td>\n",
       "      <td>1.162264</td>\n",
       "      <td>1387.0</td>\n",
       "      <td>2.616981</td>\n",
       "      <td>39.37</td>\n",
       "      <td>-121.24</td>\n",
       "    </tr>\n",
       "  </tbody>\n",
       "</table>\n",
       "<p>20640 rows × 8 columns</p>\n",
       "</div>"
      ],
      "text/plain": [
       "            0     1         2         3       4         5      6       7\n",
       "0      8.3252  41.0  6.984127  1.023810   322.0  2.555556  37.88 -122.23\n",
       "1      8.3014  21.0  6.238137  0.971880  2401.0  2.109842  37.86 -122.22\n",
       "2      7.2574  52.0  8.288136  1.073446   496.0  2.802260  37.85 -122.24\n",
       "3      5.6431  52.0  5.817352  1.073059   558.0  2.547945  37.85 -122.25\n",
       "4      3.8462  52.0  6.281853  1.081081   565.0  2.181467  37.85 -122.25\n",
       "...       ...   ...       ...       ...     ...       ...    ...     ...\n",
       "20635  1.5603  25.0  5.045455  1.133333   845.0  2.560606  39.48 -121.09\n",
       "20636  2.5568  18.0  6.114035  1.315789   356.0  3.122807  39.49 -121.21\n",
       "20637  1.7000  17.0  5.205543  1.120092  1007.0  2.325635  39.43 -121.22\n",
       "20638  1.8672  18.0  5.329513  1.171920   741.0  2.123209  39.43 -121.32\n",
       "20639  2.3886  16.0  5.254717  1.162264  1387.0  2.616981  39.37 -121.24\n",
       "\n",
       "[20640 rows x 8 columns]"
      ]
     },
     "execution_count": 3,
     "metadata": {},
     "output_type": "execute_result"
    }
   ],
   "source": [
    "X = pd.DataFrame(housevalue.data)\n",
    "X"
   ]
  },
  {
   "cell_type": "code",
   "execution_count": 4,
   "metadata": {},
   "outputs": [
    {
     "data": {
      "text/plain": [
       "(20640, 8)"
      ]
     },
     "execution_count": 4,
     "metadata": {},
     "output_type": "execute_result"
    }
   ],
   "source": [
    "X.shape"
   ]
  },
  {
   "cell_type": "code",
   "execution_count": 5,
   "metadata": {},
   "outputs": [
    {
     "data": {
      "text/plain": [
       "array([4.526, 3.585, 3.521, ..., 0.923, 0.847, 0.894])"
      ]
     },
     "execution_count": 5,
     "metadata": {},
     "output_type": "execute_result"
    }
   ],
   "source": [
    "y = housevalue.target\n",
    "y"
   ]
  },
  {
   "cell_type": "code",
   "execution_count": 6,
   "metadata": {},
   "outputs": [
    {
     "data": {
      "text/plain": [
       "(20640,)"
      ]
     },
     "execution_count": 6,
     "metadata": {},
     "output_type": "execute_result"
    }
   ],
   "source": [
    "y.shape"
   ]
  },
  {
   "cell_type": "code",
   "execution_count": 7,
   "metadata": {},
   "outputs": [
    {
     "data": {
      "text/plain": [
       "(0.14999, 5.00001)"
      ]
     },
     "execution_count": 7,
     "metadata": {},
     "output_type": "execute_result"
    }
   ],
   "source": [
    "y.min(), y.max()"
   ]
  },
  {
   "cell_type": "code",
   "execution_count": 8,
   "metadata": {},
   "outputs": [
    {
     "data": {
      "text/plain": [
       "['MedInc',\n",
       " 'HouseAge',\n",
       " 'AveRooms',\n",
       " 'AveBedrms',\n",
       " 'Population',\n",
       " 'AveOccup',\n",
       " 'Latitude',\n",
       " 'Longitude']"
      ]
     },
     "execution_count": 8,
     "metadata": {},
     "output_type": "execute_result"
    }
   ],
   "source": [
    "housevalue.feature_names"
   ]
  },
  {
   "cell_type": "code",
   "execution_count": 9,
   "metadata": {},
   "outputs": [
    {
     "data": {
      "text/html": [
       "<div>\n",
       "<style scoped>\n",
       "    .dataframe tbody tr th:only-of-type {\n",
       "        vertical-align: middle;\n",
       "    }\n",
       "\n",
       "    .dataframe tbody tr th {\n",
       "        vertical-align: top;\n",
       "    }\n",
       "\n",
       "    .dataframe thead th {\n",
       "        text-align: right;\n",
       "    }\n",
       "</style>\n",
       "<table border=\"1\" class=\"dataframe\">\n",
       "  <thead>\n",
       "    <tr style=\"text-align: right;\">\n",
       "      <th></th>\n",
       "      <th>MedInc</th>\n",
       "      <th>HouseAge</th>\n",
       "      <th>AveRooms</th>\n",
       "      <th>AveBedrms</th>\n",
       "      <th>Population</th>\n",
       "      <th>AveOccup</th>\n",
       "      <th>Latitude</th>\n",
       "      <th>Longitude</th>\n",
       "    </tr>\n",
       "  </thead>\n",
       "  <tbody>\n",
       "    <tr>\n",
       "      <th>0</th>\n",
       "      <td>8.3252</td>\n",
       "      <td>41.0</td>\n",
       "      <td>6.984127</td>\n",
       "      <td>1.023810</td>\n",
       "      <td>322.0</td>\n",
       "      <td>2.555556</td>\n",
       "      <td>37.88</td>\n",
       "      <td>-122.23</td>\n",
       "    </tr>\n",
       "    <tr>\n",
       "      <th>1</th>\n",
       "      <td>8.3014</td>\n",
       "      <td>21.0</td>\n",
       "      <td>6.238137</td>\n",
       "      <td>0.971880</td>\n",
       "      <td>2401.0</td>\n",
       "      <td>2.109842</td>\n",
       "      <td>37.86</td>\n",
       "      <td>-122.22</td>\n",
       "    </tr>\n",
       "    <tr>\n",
       "      <th>2</th>\n",
       "      <td>7.2574</td>\n",
       "      <td>52.0</td>\n",
       "      <td>8.288136</td>\n",
       "      <td>1.073446</td>\n",
       "      <td>496.0</td>\n",
       "      <td>2.802260</td>\n",
       "      <td>37.85</td>\n",
       "      <td>-122.24</td>\n",
       "    </tr>\n",
       "    <tr>\n",
       "      <th>3</th>\n",
       "      <td>5.6431</td>\n",
       "      <td>52.0</td>\n",
       "      <td>5.817352</td>\n",
       "      <td>1.073059</td>\n",
       "      <td>558.0</td>\n",
       "      <td>2.547945</td>\n",
       "      <td>37.85</td>\n",
       "      <td>-122.25</td>\n",
       "    </tr>\n",
       "    <tr>\n",
       "      <th>4</th>\n",
       "      <td>3.8462</td>\n",
       "      <td>52.0</td>\n",
       "      <td>6.281853</td>\n",
       "      <td>1.081081</td>\n",
       "      <td>565.0</td>\n",
       "      <td>2.181467</td>\n",
       "      <td>37.85</td>\n",
       "      <td>-122.25</td>\n",
       "    </tr>\n",
       "    <tr>\n",
       "      <th>...</th>\n",
       "      <td>...</td>\n",
       "      <td>...</td>\n",
       "      <td>...</td>\n",
       "      <td>...</td>\n",
       "      <td>...</td>\n",
       "      <td>...</td>\n",
       "      <td>...</td>\n",
       "      <td>...</td>\n",
       "    </tr>\n",
       "    <tr>\n",
       "      <th>20635</th>\n",
       "      <td>1.5603</td>\n",
       "      <td>25.0</td>\n",
       "      <td>5.045455</td>\n",
       "      <td>1.133333</td>\n",
       "      <td>845.0</td>\n",
       "      <td>2.560606</td>\n",
       "      <td>39.48</td>\n",
       "      <td>-121.09</td>\n",
       "    </tr>\n",
       "    <tr>\n",
       "      <th>20636</th>\n",
       "      <td>2.5568</td>\n",
       "      <td>18.0</td>\n",
       "      <td>6.114035</td>\n",
       "      <td>1.315789</td>\n",
       "      <td>356.0</td>\n",
       "      <td>3.122807</td>\n",
       "      <td>39.49</td>\n",
       "      <td>-121.21</td>\n",
       "    </tr>\n",
       "    <tr>\n",
       "      <th>20637</th>\n",
       "      <td>1.7000</td>\n",
       "      <td>17.0</td>\n",
       "      <td>5.205543</td>\n",
       "      <td>1.120092</td>\n",
       "      <td>1007.0</td>\n",
       "      <td>2.325635</td>\n",
       "      <td>39.43</td>\n",
       "      <td>-121.22</td>\n",
       "    </tr>\n",
       "    <tr>\n",
       "      <th>20638</th>\n",
       "      <td>1.8672</td>\n",
       "      <td>18.0</td>\n",
       "      <td>5.329513</td>\n",
       "      <td>1.171920</td>\n",
       "      <td>741.0</td>\n",
       "      <td>2.123209</td>\n",
       "      <td>39.43</td>\n",
       "      <td>-121.32</td>\n",
       "    </tr>\n",
       "    <tr>\n",
       "      <th>20639</th>\n",
       "      <td>2.3886</td>\n",
       "      <td>16.0</td>\n",
       "      <td>5.254717</td>\n",
       "      <td>1.162264</td>\n",
       "      <td>1387.0</td>\n",
       "      <td>2.616981</td>\n",
       "      <td>39.37</td>\n",
       "      <td>-121.24</td>\n",
       "    </tr>\n",
       "  </tbody>\n",
       "</table>\n",
       "<p>20640 rows × 8 columns</p>\n",
       "</div>"
      ],
      "text/plain": [
       "       MedInc  HouseAge  AveRooms  AveBedrms  Population  AveOccup  Latitude  \\\n",
       "0      8.3252      41.0  6.984127   1.023810       322.0  2.555556     37.88   \n",
       "1      8.3014      21.0  6.238137   0.971880      2401.0  2.109842     37.86   \n",
       "2      7.2574      52.0  8.288136   1.073446       496.0  2.802260     37.85   \n",
       "3      5.6431      52.0  5.817352   1.073059       558.0  2.547945     37.85   \n",
       "4      3.8462      52.0  6.281853   1.081081       565.0  2.181467     37.85   \n",
       "...       ...       ...       ...        ...         ...       ...       ...   \n",
       "20635  1.5603      25.0  5.045455   1.133333       845.0  2.560606     39.48   \n",
       "20636  2.5568      18.0  6.114035   1.315789       356.0  3.122807     39.49   \n",
       "20637  1.7000      17.0  5.205543   1.120092      1007.0  2.325635     39.43   \n",
       "20638  1.8672      18.0  5.329513   1.171920       741.0  2.123209     39.43   \n",
       "20639  2.3886      16.0  5.254717   1.162264      1387.0  2.616981     39.37   \n",
       "\n",
       "       Longitude  \n",
       "0        -122.23  \n",
       "1        -122.22  \n",
       "2        -122.24  \n",
       "3        -122.25  \n",
       "4        -122.25  \n",
       "...          ...  \n",
       "20635    -121.09  \n",
       "20636    -121.21  \n",
       "20637    -121.22  \n",
       "20638    -121.32  \n",
       "20639    -121.24  \n",
       "\n",
       "[20640 rows x 8 columns]"
      ]
     },
     "execution_count": 9,
     "metadata": {},
     "output_type": "execute_result"
    }
   ],
   "source": [
    "X.columns = housevalue.feature_names\n",
    "X"
   ]
  },
  {
   "cell_type": "code",
   "execution_count": 10,
   "metadata": {},
   "outputs": [],
   "source": [
    "# 划分训练集和测试集\n",
    "Xtrain, Xtest, Ytrain, Ytest = train_test_split(X, y, test_size=0.3, random_state=420)"
   ]
  },
  {
   "cell_type": "code",
   "execution_count": 11,
   "metadata": {},
   "outputs": [
    {
     "data": {
      "text/html": [
       "<div>\n",
       "<style scoped>\n",
       "    .dataframe tbody tr th:only-of-type {\n",
       "        vertical-align: middle;\n",
       "    }\n",
       "\n",
       "    .dataframe tbody tr th {\n",
       "        vertical-align: top;\n",
       "    }\n",
       "\n",
       "    .dataframe thead th {\n",
       "        text-align: right;\n",
       "    }\n",
       "</style>\n",
       "<table border=\"1\" class=\"dataframe\">\n",
       "  <thead>\n",
       "    <tr style=\"text-align: right;\">\n",
       "      <th></th>\n",
       "      <th>MedInc</th>\n",
       "      <th>HouseAge</th>\n",
       "      <th>AveRooms</th>\n",
       "      <th>AveBedrms</th>\n",
       "      <th>Population</th>\n",
       "      <th>AveOccup</th>\n",
       "      <th>Latitude</th>\n",
       "      <th>Longitude</th>\n",
       "    </tr>\n",
       "  </thead>\n",
       "  <tbody>\n",
       "    <tr>\n",
       "      <th>17073</th>\n",
       "      <td>4.1776</td>\n",
       "      <td>35.0</td>\n",
       "      <td>4.425172</td>\n",
       "      <td>1.030683</td>\n",
       "      <td>5380.0</td>\n",
       "      <td>3.368817</td>\n",
       "      <td>37.48</td>\n",
       "      <td>-122.19</td>\n",
       "    </tr>\n",
       "    <tr>\n",
       "      <th>16956</th>\n",
       "      <td>5.3261</td>\n",
       "      <td>38.0</td>\n",
       "      <td>6.267516</td>\n",
       "      <td>1.089172</td>\n",
       "      <td>429.0</td>\n",
       "      <td>2.732484</td>\n",
       "      <td>37.53</td>\n",
       "      <td>-122.30</td>\n",
       "    </tr>\n",
       "    <tr>\n",
       "      <th>20012</th>\n",
       "      <td>1.9439</td>\n",
       "      <td>26.0</td>\n",
       "      <td>5.768977</td>\n",
       "      <td>1.141914</td>\n",
       "      <td>891.0</td>\n",
       "      <td>2.940594</td>\n",
       "      <td>36.02</td>\n",
       "      <td>-119.08</td>\n",
       "    </tr>\n",
       "    <tr>\n",
       "      <th>13072</th>\n",
       "      <td>2.5000</td>\n",
       "      <td>22.0</td>\n",
       "      <td>4.916000</td>\n",
       "      <td>1.012000</td>\n",
       "      <td>733.0</td>\n",
       "      <td>2.932000</td>\n",
       "      <td>38.57</td>\n",
       "      <td>-121.31</td>\n",
       "    </tr>\n",
       "    <tr>\n",
       "      <th>8457</th>\n",
       "      <td>3.8250</td>\n",
       "      <td>34.0</td>\n",
       "      <td>5.036765</td>\n",
       "      <td>1.098039</td>\n",
       "      <td>1134.0</td>\n",
       "      <td>2.779412</td>\n",
       "      <td>33.91</td>\n",
       "      <td>-118.35</td>\n",
       "    </tr>\n",
       "  </tbody>\n",
       "</table>\n",
       "</div>"
      ],
      "text/plain": [
       "       MedInc  HouseAge  AveRooms  AveBedrms  Population  AveOccup  Latitude  \\\n",
       "17073  4.1776      35.0  4.425172   1.030683      5380.0  3.368817     37.48   \n",
       "16956  5.3261      38.0  6.267516   1.089172       429.0  2.732484     37.53   \n",
       "20012  1.9439      26.0  5.768977   1.141914       891.0  2.940594     36.02   \n",
       "13072  2.5000      22.0  4.916000   1.012000       733.0  2.932000     38.57   \n",
       "8457   3.8250      34.0  5.036765   1.098039      1134.0  2.779412     33.91   \n",
       "\n",
       "       Longitude  \n",
       "17073    -122.19  \n",
       "16956    -122.30  \n",
       "20012    -119.08  \n",
       "13072    -121.31  \n",
       "8457     -118.35  "
      ]
     },
     "execution_count": 11,
     "metadata": {},
     "output_type": "execute_result"
    }
   ],
   "source": [
    "Xtrain.head()"
   ]
  },
  {
   "cell_type": "code",
   "execution_count": 12,
   "metadata": {},
   "outputs": [
    {
     "data": {
      "text/html": [
       "<div>\n",
       "<style scoped>\n",
       "    .dataframe tbody tr th:only-of-type {\n",
       "        vertical-align: middle;\n",
       "    }\n",
       "\n",
       "    .dataframe tbody tr th {\n",
       "        vertical-align: top;\n",
       "    }\n",
       "\n",
       "    .dataframe thead th {\n",
       "        text-align: right;\n",
       "    }\n",
       "</style>\n",
       "<table border=\"1\" class=\"dataframe\">\n",
       "  <thead>\n",
       "    <tr style=\"text-align: right;\">\n",
       "      <th></th>\n",
       "      <th>MedInc</th>\n",
       "      <th>HouseAge</th>\n",
       "      <th>AveRooms</th>\n",
       "      <th>AveBedrms</th>\n",
       "      <th>Population</th>\n",
       "      <th>AveOccup</th>\n",
       "      <th>Latitude</th>\n",
       "      <th>Longitude</th>\n",
       "    </tr>\n",
       "  </thead>\n",
       "  <tbody>\n",
       "    <tr>\n",
       "      <th>0</th>\n",
       "      <td>4.1776</td>\n",
       "      <td>35.0</td>\n",
       "      <td>4.425172</td>\n",
       "      <td>1.030683</td>\n",
       "      <td>5380.0</td>\n",
       "      <td>3.368817</td>\n",
       "      <td>37.48</td>\n",
       "      <td>-122.19</td>\n",
       "    </tr>\n",
       "    <tr>\n",
       "      <th>1</th>\n",
       "      <td>5.3261</td>\n",
       "      <td>38.0</td>\n",
       "      <td>6.267516</td>\n",
       "      <td>1.089172</td>\n",
       "      <td>429.0</td>\n",
       "      <td>2.732484</td>\n",
       "      <td>37.53</td>\n",
       "      <td>-122.30</td>\n",
       "    </tr>\n",
       "    <tr>\n",
       "      <th>2</th>\n",
       "      <td>1.9439</td>\n",
       "      <td>26.0</td>\n",
       "      <td>5.768977</td>\n",
       "      <td>1.141914</td>\n",
       "      <td>891.0</td>\n",
       "      <td>2.940594</td>\n",
       "      <td>36.02</td>\n",
       "      <td>-119.08</td>\n",
       "    </tr>\n",
       "    <tr>\n",
       "      <th>3</th>\n",
       "      <td>2.5000</td>\n",
       "      <td>22.0</td>\n",
       "      <td>4.916000</td>\n",
       "      <td>1.012000</td>\n",
       "      <td>733.0</td>\n",
       "      <td>2.932000</td>\n",
       "      <td>38.57</td>\n",
       "      <td>-121.31</td>\n",
       "    </tr>\n",
       "    <tr>\n",
       "      <th>4</th>\n",
       "      <td>3.8250</td>\n",
       "      <td>34.0</td>\n",
       "      <td>5.036765</td>\n",
       "      <td>1.098039</td>\n",
       "      <td>1134.0</td>\n",
       "      <td>2.779412</td>\n",
       "      <td>33.91</td>\n",
       "      <td>-118.35</td>\n",
       "    </tr>\n",
       "    <tr>\n",
       "      <th>...</th>\n",
       "      <td>...</td>\n",
       "      <td>...</td>\n",
       "      <td>...</td>\n",
       "      <td>...</td>\n",
       "      <td>...</td>\n",
       "      <td>...</td>\n",
       "      <td>...</td>\n",
       "      <td>...</td>\n",
       "    </tr>\n",
       "    <tr>\n",
       "      <th>14443</th>\n",
       "      <td>4.7981</td>\n",
       "      <td>16.0</td>\n",
       "      <td>6.408537</td>\n",
       "      <td>1.067073</td>\n",
       "      <td>1003.0</td>\n",
       "      <td>3.057927</td>\n",
       "      <td>33.54</td>\n",
       "      <td>-117.67</td>\n",
       "    </tr>\n",
       "    <tr>\n",
       "      <th>14444</th>\n",
       "      <td>2.3816</td>\n",
       "      <td>16.0</td>\n",
       "      <td>6.055954</td>\n",
       "      <td>1.120516</td>\n",
       "      <td>1516.0</td>\n",
       "      <td>2.175036</td>\n",
       "      <td>38.15</td>\n",
       "      <td>-120.46</td>\n",
       "    </tr>\n",
       "    <tr>\n",
       "      <th>14445</th>\n",
       "      <td>1.7500</td>\n",
       "      <td>25.0</td>\n",
       "      <td>3.912500</td>\n",
       "      <td>1.029167</td>\n",
       "      <td>1003.0</td>\n",
       "      <td>4.179167</td>\n",
       "      <td>32.71</td>\n",
       "      <td>-117.10</td>\n",
       "    </tr>\n",
       "    <tr>\n",
       "      <th>14446</th>\n",
       "      <td>3.5647</td>\n",
       "      <td>33.0</td>\n",
       "      <td>5.423358</td>\n",
       "      <td>1.058394</td>\n",
       "      <td>781.0</td>\n",
       "      <td>2.850365</td>\n",
       "      <td>38.22</td>\n",
       "      <td>-122.49</td>\n",
       "    </tr>\n",
       "    <tr>\n",
       "      <th>14447</th>\n",
       "      <td>5.0599</td>\n",
       "      <td>35.0</td>\n",
       "      <td>5.271429</td>\n",
       "      <td>0.985714</td>\n",
       "      <td>641.0</td>\n",
       "      <td>3.052381</td>\n",
       "      <td>33.83</td>\n",
       "      <td>-117.95</td>\n",
       "    </tr>\n",
       "  </tbody>\n",
       "</table>\n",
       "<p>14448 rows × 8 columns</p>\n",
       "</div>"
      ],
      "text/plain": [
       "       MedInc  HouseAge  AveRooms  AveBedrms  Population  AveOccup  Latitude  \\\n",
       "0      4.1776      35.0  4.425172   1.030683      5380.0  3.368817     37.48   \n",
       "1      5.3261      38.0  6.267516   1.089172       429.0  2.732484     37.53   \n",
       "2      1.9439      26.0  5.768977   1.141914       891.0  2.940594     36.02   \n",
       "3      2.5000      22.0  4.916000   1.012000       733.0  2.932000     38.57   \n",
       "4      3.8250      34.0  5.036765   1.098039      1134.0  2.779412     33.91   \n",
       "...       ...       ...       ...        ...         ...       ...       ...   \n",
       "14443  4.7981      16.0  6.408537   1.067073      1003.0  3.057927     33.54   \n",
       "14444  2.3816      16.0  6.055954   1.120516      1516.0  2.175036     38.15   \n",
       "14445  1.7500      25.0  3.912500   1.029167      1003.0  4.179167     32.71   \n",
       "14446  3.5647      33.0  5.423358   1.058394       781.0  2.850365     38.22   \n",
       "14447  5.0599      35.0  5.271429   0.985714       641.0  3.052381     33.83   \n",
       "\n",
       "       Longitude  \n",
       "0        -122.19  \n",
       "1        -122.30  \n",
       "2        -119.08  \n",
       "3        -121.31  \n",
       "4        -118.35  \n",
       "...          ...  \n",
       "14443    -117.67  \n",
       "14444    -120.46  \n",
       "14445    -117.10  \n",
       "14446    -122.49  \n",
       "14447    -117.95  \n",
       "\n",
       "[14448 rows x 8 columns]"
      ]
     },
     "execution_count": 12,
     "metadata": {},
     "output_type": "execute_result"
    }
   ],
   "source": [
    "# 恢复索引\n",
    "Xtrain.index = range(Xtrain.shape[0])\n",
    "Xtrain"
   ]
  },
  {
   "cell_type": "code",
   "execution_count": 13,
   "metadata": {},
   "outputs": [
    {
     "data": {
      "text/html": [
       "<div>\n",
       "<style scoped>\n",
       "    .dataframe tbody tr th:only-of-type {\n",
       "        vertical-align: middle;\n",
       "    }\n",
       "\n",
       "    .dataframe tbody tr th {\n",
       "        vertical-align: top;\n",
       "    }\n",
       "\n",
       "    .dataframe thead th {\n",
       "        text-align: right;\n",
       "    }\n",
       "</style>\n",
       "<table border=\"1\" class=\"dataframe\">\n",
       "  <thead>\n",
       "    <tr style=\"text-align: right;\">\n",
       "      <th></th>\n",
       "      <th>MedInc</th>\n",
       "      <th>HouseAge</th>\n",
       "      <th>AveRooms</th>\n",
       "      <th>AveBedrms</th>\n",
       "      <th>Population</th>\n",
       "      <th>AveOccup</th>\n",
       "      <th>Latitude</th>\n",
       "      <th>Longitude</th>\n",
       "    </tr>\n",
       "  </thead>\n",
       "  <tbody>\n",
       "    <tr>\n",
       "      <th>0</th>\n",
       "      <td>1.7656</td>\n",
       "      <td>42.0</td>\n",
       "      <td>4.144703</td>\n",
       "      <td>1.031008</td>\n",
       "      <td>1581.0</td>\n",
       "      <td>4.085271</td>\n",
       "      <td>33.96</td>\n",
       "      <td>-118.28</td>\n",
       "    </tr>\n",
       "    <tr>\n",
       "      <th>1</th>\n",
       "      <td>1.5281</td>\n",
       "      <td>29.0</td>\n",
       "      <td>5.095890</td>\n",
       "      <td>1.095890</td>\n",
       "      <td>1137.0</td>\n",
       "      <td>3.115068</td>\n",
       "      <td>39.29</td>\n",
       "      <td>-121.68</td>\n",
       "    </tr>\n",
       "    <tr>\n",
       "      <th>2</th>\n",
       "      <td>4.1750</td>\n",
       "      <td>14.0</td>\n",
       "      <td>5.604699</td>\n",
       "      <td>1.045965</td>\n",
       "      <td>2823.0</td>\n",
       "      <td>2.883555</td>\n",
       "      <td>37.14</td>\n",
       "      <td>-121.64</td>\n",
       "    </tr>\n",
       "    <tr>\n",
       "      <th>3</th>\n",
       "      <td>3.0278</td>\n",
       "      <td>52.0</td>\n",
       "      <td>5.172932</td>\n",
       "      <td>1.085714</td>\n",
       "      <td>1663.0</td>\n",
       "      <td>2.500752</td>\n",
       "      <td>37.78</td>\n",
       "      <td>-122.49</td>\n",
       "    </tr>\n",
       "    <tr>\n",
       "      <th>4</th>\n",
       "      <td>4.5000</td>\n",
       "      <td>36.0</td>\n",
       "      <td>4.940447</td>\n",
       "      <td>0.982630</td>\n",
       "      <td>1306.0</td>\n",
       "      <td>3.240695</td>\n",
       "      <td>33.95</td>\n",
       "      <td>-118.09</td>\n",
       "    </tr>\n",
       "    <tr>\n",
       "      <th>...</th>\n",
       "      <td>...</td>\n",
       "      <td>...</td>\n",
       "      <td>...</td>\n",
       "      <td>...</td>\n",
       "      <td>...</td>\n",
       "      <td>...</td>\n",
       "      <td>...</td>\n",
       "      <td>...</td>\n",
       "    </tr>\n",
       "    <tr>\n",
       "      <th>6187</th>\n",
       "      <td>4.7250</td>\n",
       "      <td>44.0</td>\n",
       "      <td>5.969945</td>\n",
       "      <td>0.975410</td>\n",
       "      <td>943.0</td>\n",
       "      <td>2.576503</td>\n",
       "      <td>37.94</td>\n",
       "      <td>-122.08</td>\n",
       "    </tr>\n",
       "    <tr>\n",
       "      <th>6188</th>\n",
       "      <td>2.8500</td>\n",
       "      <td>38.0</td>\n",
       "      <td>5.089347</td>\n",
       "      <td>1.089347</td>\n",
       "      <td>1080.0</td>\n",
       "      <td>3.711340</td>\n",
       "      <td>32.68</td>\n",
       "      <td>-117.06</td>\n",
       "    </tr>\n",
       "    <tr>\n",
       "      <th>6189</th>\n",
       "      <td>3.7857</td>\n",
       "      <td>39.0</td>\n",
       "      <td>5.663507</td>\n",
       "      <td>1.052133</td>\n",
       "      <td>1246.0</td>\n",
       "      <td>2.952607</td>\n",
       "      <td>34.06</td>\n",
       "      <td>-118.14</td>\n",
       "    </tr>\n",
       "    <tr>\n",
       "      <th>6190</th>\n",
       "      <td>3.7500</td>\n",
       "      <td>38.0</td>\n",
       "      <td>5.275229</td>\n",
       "      <td>0.981651</td>\n",
       "      <td>259.0</td>\n",
       "      <td>2.376147</td>\n",
       "      <td>38.72</td>\n",
       "      <td>-121.90</td>\n",
       "    </tr>\n",
       "    <tr>\n",
       "      <th>6191</th>\n",
       "      <td>1.9355</td>\n",
       "      <td>10.0</td>\n",
       "      <td>5.136555</td>\n",
       "      <td>1.105042</td>\n",
       "      <td>1262.0</td>\n",
       "      <td>2.651261</td>\n",
       "      <td>36.22</td>\n",
       "      <td>-119.36</td>\n",
       "    </tr>\n",
       "  </tbody>\n",
       "</table>\n",
       "<p>6192 rows × 8 columns</p>\n",
       "</div>"
      ],
      "text/plain": [
       "      MedInc  HouseAge  AveRooms  AveBedrms  Population  AveOccup  Latitude  \\\n",
       "0     1.7656      42.0  4.144703   1.031008      1581.0  4.085271     33.96   \n",
       "1     1.5281      29.0  5.095890   1.095890      1137.0  3.115068     39.29   \n",
       "2     4.1750      14.0  5.604699   1.045965      2823.0  2.883555     37.14   \n",
       "3     3.0278      52.0  5.172932   1.085714      1663.0  2.500752     37.78   \n",
       "4     4.5000      36.0  4.940447   0.982630      1306.0  3.240695     33.95   \n",
       "...      ...       ...       ...        ...         ...       ...       ...   \n",
       "6187  4.7250      44.0  5.969945   0.975410       943.0  2.576503     37.94   \n",
       "6188  2.8500      38.0  5.089347   1.089347      1080.0  3.711340     32.68   \n",
       "6189  3.7857      39.0  5.663507   1.052133      1246.0  2.952607     34.06   \n",
       "6190  3.7500      38.0  5.275229   0.981651       259.0  2.376147     38.72   \n",
       "6191  1.9355      10.0  5.136555   1.105042      1262.0  2.651261     36.22   \n",
       "\n",
       "      Longitude  \n",
       "0       -118.28  \n",
       "1       -121.68  \n",
       "2       -121.64  \n",
       "3       -122.49  \n",
       "4       -118.09  \n",
       "...         ...  \n",
       "6187    -122.08  \n",
       "6188    -117.06  \n",
       "6189    -118.14  \n",
       "6190    -121.90  \n",
       "6191    -119.36  \n",
       "\n",
       "[6192 rows x 8 columns]"
      ]
     },
     "execution_count": 13,
     "metadata": {},
     "output_type": "execute_result"
    }
   ],
   "source": [
    "# 恢复索引\n",
    "Xtest.index = range(Xtest.shape[0])\n",
    "Xtest"
   ]
  },
  {
   "cell_type": "code",
   "execution_count": 14,
   "metadata": {},
   "outputs": [],
   "source": [
    "# 建模\n",
    "reg = LR().fit(Xtrain, Ytrain)"
   ]
  },
  {
   "cell_type": "code",
   "execution_count": 15,
   "metadata": {},
   "outputs": [
    {
     "data": {
      "text/plain": [
       "array([ 4.37358931e-01,  1.02112683e-02, -1.07807216e-01,  6.26433828e-01,\n",
       "        5.21612535e-07, -3.34850965e-03, -4.13095938e-01, -4.26210954e-01])"
      ]
     },
     "execution_count": 15,
     "metadata": {},
     "output_type": "execute_result"
    }
   ],
   "source": [
    "reg.coef_"
   ]
  },
  {
   "cell_type": "code",
   "execution_count": 16,
   "metadata": {},
   "outputs": [
    {
     "data": {
      "text/plain": [
       "-36.25689322920394"
      ]
     },
     "execution_count": 16,
     "metadata": {},
     "output_type": "execute_result"
    }
   ],
   "source": [
    "reg.intercept_"
   ]
  },
  {
   "cell_type": "code",
   "execution_count": 17,
   "metadata": {},
   "outputs": [
    {
     "data": {
      "text/plain": [
       "0.6043668160178817"
      ]
     },
     "execution_count": 17,
     "metadata": {},
     "output_type": "execute_result"
    }
   ],
   "source": [
    "reg.score(Xtest, Ytest)"
   ]
  },
  {
   "cell_type": "code",
   "execution_count": 18,
   "metadata": {},
   "outputs": [
    {
     "data": {
      "text/plain": [
       "0.6067440341875014"
      ]
     },
     "execution_count": 18,
     "metadata": {},
     "output_type": "execute_result"
    }
   ],
   "source": [
    "reg.score(Xtrain, Ytrain)"
   ]
  },
  {
   "cell_type": "code",
   "execution_count": 19,
   "metadata": {},
   "outputs": [
    {
     "data": {
      "text/html": [
       "<div>\n",
       "<style scoped>\n",
       "    .dataframe tbody tr th:only-of-type {\n",
       "        vertical-align: middle;\n",
       "    }\n",
       "\n",
       "    .dataframe tbody tr th {\n",
       "        vertical-align: top;\n",
       "    }\n",
       "\n",
       "    .dataframe thead th {\n",
       "        text-align: right;\n",
       "    }\n",
       "</style>\n",
       "<table border=\"1\" class=\"dataframe\">\n",
       "  <thead>\n",
       "    <tr style=\"text-align: right;\">\n",
       "      <th></th>\n",
       "      <th>0</th>\n",
       "    </tr>\n",
       "  </thead>\n",
       "  <tbody>\n",
       "    <tr>\n",
       "      <th>MedInc</th>\n",
       "      <td>4.373589e-01</td>\n",
       "    </tr>\n",
       "    <tr>\n",
       "      <th>HouseAge</th>\n",
       "      <td>1.021127e-02</td>\n",
       "    </tr>\n",
       "    <tr>\n",
       "      <th>AveRooms</th>\n",
       "      <td>-1.078072e-01</td>\n",
       "    </tr>\n",
       "    <tr>\n",
       "      <th>AveBedrms</th>\n",
       "      <td>6.264338e-01</td>\n",
       "    </tr>\n",
       "    <tr>\n",
       "      <th>Population</th>\n",
       "      <td>5.216125e-07</td>\n",
       "    </tr>\n",
       "    <tr>\n",
       "      <th>AveOccup</th>\n",
       "      <td>-3.348510e-03</td>\n",
       "    </tr>\n",
       "    <tr>\n",
       "      <th>Latitude</th>\n",
       "      <td>-4.130959e-01</td>\n",
       "    </tr>\n",
       "    <tr>\n",
       "      <th>Longitude</th>\n",
       "      <td>-4.262110e-01</td>\n",
       "    </tr>\n",
       "  </tbody>\n",
       "</table>\n",
       "</div>"
      ],
      "text/plain": [
       "                       0\n",
       "MedInc      4.373589e-01\n",
       "HouseAge    1.021127e-02\n",
       "AveRooms   -1.078072e-01\n",
       "AveBedrms   6.264338e-01\n",
       "Population  5.216125e-07\n",
       "AveOccup   -3.348510e-03\n",
       "Latitude   -4.130959e-01\n",
       "Longitude  -4.262110e-01"
      ]
     },
     "execution_count": 19,
     "metadata": {},
     "output_type": "execute_result"
    }
   ],
   "source": [
    "pd.DataFrame(reg.coef_, index=X.columns)"
   ]
  },
  {
   "cell_type": "code",
   "execution_count": 20,
   "metadata": {},
   "outputs": [
    {
     "data": {
      "text/plain": [
       "(0.5309012639324571, 0.5218522662533102)"
      ]
     },
     "execution_count": 20,
     "metadata": {},
     "output_type": "execute_result"
    }
   ],
   "source": [
    "from sklearn.metrics import mean_squared_error as MSE\n",
    "\n",
    "Ytest_pred = reg.predict(Xtest)\n",
    "Ytrain_pred = reg.predict(Xtrain)\n",
    "\n",
    "MSE(y_true=Ytest, y_pred=Ytest_pred), MSE(y_true=Ytrain, y_pred=Ytrain_pred)"
   ]
  },
  {
   "cell_type": "code",
   "execution_count": 21,
   "metadata": {},
   "outputs": [
    {
     "data": {
      "text/plain": [
       "(0.5307069814636167, 0.5309427617356035)"
      ]
     },
     "execution_count": 21,
     "metadata": {},
     "output_type": "execute_result"
    }
   ],
   "source": [
    "from sklearn.metrics import mean_absolute_error as MAE\n",
    "\n",
    "MAE(y_true=Ytest, y_pred=Ytest_pred), MAE(y_true=Ytrain, y_pred=Ytrain_pred)"
   ]
  },
  {
   "cell_type": "code",
   "execution_count": 22,
   "metadata": {},
   "outputs": [
    {
     "data": {
      "text/plain": [
       "(0.6043668160178817, 0.6067440341875014)"
      ]
     },
     "execution_count": 22,
     "metadata": {},
     "output_type": "execute_result"
    }
   ],
   "source": [
    "from sklearn.metrics import r2_score\n",
    "\n",
    "r2_score(y_true=Ytest, y_pred=Ytest_pred), r2_score(y_true=Ytrain, y_pred=Ytrain_pred)"
   ]
  },
  {
   "cell_type": "code",
   "execution_count": 23,
   "metadata": {},
   "outputs": [
    {
     "data": {
      "text/plain": [
       "0.5110068610524556"
      ]
     },
     "execution_count": 23,
     "metadata": {},
     "output_type": "execute_result"
    }
   ],
   "source": [
    "# 交叉验证\n",
    "cross_val_score(reg, X, y, cv=10, scoring=\"r2\").mean()"
   ]
  },
  {
   "cell_type": "code",
   "execution_count": 24,
   "metadata": {},
   "outputs": [
    {
     "data": {
      "text/plain": [
       "<matplotlib.legend.Legend at 0x1a48cc0e1b0>"
      ]
     },
     "execution_count": 24,
     "metadata": {},
     "output_type": "execute_result"
    },
    {
     "data": {
      "image/png": "[encoded data removed]",
      "text/plain": [
       "<Figure size 640x480 with 1 Axes>"
      ]
     },
     "metadata": {},
     "output_type": "display_data"
    }
   ],
   "source": [
    "import matplotlib.pyplot as plt\n",
    "\n",
    "plt.plot(range(len(Ytest)), sorted(Ytest), c=\"black\", label=\"Data\")\n",
    "plt.plot(range(len(Ytest)), sorted(Ytest_pred), c=\"red\", label=\"Predict\")\n",
    "\n",
    "plt.legend()"
   ]
  },
  {
   "cell_type": "markdown",
   "metadata": {},
   "source": [
    "# Ridge预测加州房价"
   ]
  },
  {
   "cell_type": "code",
   "execution_count": 25,
   "metadata": {},
   "outputs": [],
   "source": [
    "from sklearn.linear_model import Ridge, Lasso, LinearRegression\n",
    "from sklearn.model_selection import train_test_split\n",
    "from sklearn.model_selection import cross_val_score\n",
    "from sklearn.datasets import fetch_california_housing as fch\n",
    "import pandas as pd\n",
    "import numpy as np"
   ]
  },
  {
   "cell_type": "code",
   "execution_count": 26,
   "metadata": {},
   "outputs": [],
   "source": [
    "# 导入数据\n",
    "housevalue = fch()\n",
    "X = pd.DataFrame(housevalue.data)\n",
    "y = housevalue.target"
   ]
  },
  {
   "cell_type": "code",
   "execution_count": 27,
   "metadata": {},
   "outputs": [],
   "source": [
    "# 命名特征\n",
    "feature_name = housevalue.feature_names\n",
    "X.columns = feature_name"
   ]
  },
  {
   "cell_type": "code",
   "execution_count": 28,
   "metadata": {},
   "outputs": [
    {
     "data": {
      "text/html": [
       "<div>\n",
       "<style scoped>\n",
       "    .dataframe tbody tr th:only-of-type {\n",
       "        vertical-align: middle;\n",
       "    }\n",
       "\n",
       "    .dataframe tbody tr th {\n",
       "        vertical-align: top;\n",
       "    }\n",
       "\n",
       "    .dataframe thead th {\n",
       "        text-align: right;\n",
       "    }\n",
       "</style>\n",
       "<table border=\"1\" class=\"dataframe\">\n",
       "  <thead>\n",
       "    <tr style=\"text-align: right;\">\n",
       "      <th></th>\n",
       "      <th>MedInc</th>\n",
       "      <th>HouseAge</th>\n",
       "      <th>AveRooms</th>\n",
       "      <th>AveBedrms</th>\n",
       "      <th>Population</th>\n",
       "      <th>AveOccup</th>\n",
       "      <th>Latitude</th>\n",
       "      <th>Longitude</th>\n",
       "    </tr>\n",
       "  </thead>\n",
       "  <tbody>\n",
       "    <tr>\n",
       "      <th>0</th>\n",
       "      <td>8.3252</td>\n",
       "      <td>41.0</td>\n",
       "      <td>6.984127</td>\n",
       "      <td>1.023810</td>\n",
       "      <td>322.0</td>\n",
       "      <td>2.555556</td>\n",
       "      <td>37.88</td>\n",
       "      <td>-122.23</td>\n",
       "    </tr>\n",
       "    <tr>\n",
       "      <th>1</th>\n",
       "      <td>8.3014</td>\n",
       "      <td>21.0</td>\n",
       "      <td>6.238137</td>\n",
       "      <td>0.971880</td>\n",
       "      <td>2401.0</td>\n",
       "      <td>2.109842</td>\n",
       "      <td>37.86</td>\n",
       "      <td>-122.22</td>\n",
       "    </tr>\n",
       "    <tr>\n",
       "      <th>2</th>\n",
       "      <td>7.2574</td>\n",
       "      <td>52.0</td>\n",
       "      <td>8.288136</td>\n",
       "      <td>1.073446</td>\n",
       "      <td>496.0</td>\n",
       "      <td>2.802260</td>\n",
       "      <td>37.85</td>\n",
       "      <td>-122.24</td>\n",
       "    </tr>\n",
       "    <tr>\n",
       "      <th>3</th>\n",
       "      <td>5.6431</td>\n",
       "      <td>52.0</td>\n",
       "      <td>5.817352</td>\n",
       "      <td>1.073059</td>\n",
       "      <td>558.0</td>\n",
       "      <td>2.547945</td>\n",
       "      <td>37.85</td>\n",
       "      <td>-122.25</td>\n",
       "    </tr>\n",
       "    <tr>\n",
       "      <th>4</th>\n",
       "      <td>3.8462</td>\n",
       "      <td>52.0</td>\n",
       "      <td>6.281853</td>\n",
       "      <td>1.081081</td>\n",
       "      <td>565.0</td>\n",
       "      <td>2.181467</td>\n",
       "      <td>37.85</td>\n",
       "      <td>-122.25</td>\n",
       "    </tr>\n",
       "  </tbody>\n",
       "</table>\n",
       "</div>"
      ],
      "text/plain": [
       "   MedInc  HouseAge  AveRooms  AveBedrms  Population  AveOccup  Latitude  \\\n",
       "0  8.3252      41.0  6.984127   1.023810       322.0  2.555556     37.88   \n",
       "1  8.3014      21.0  6.238137   0.971880      2401.0  2.109842     37.86   \n",
       "2  7.2574      52.0  8.288136   1.073446       496.0  2.802260     37.85   \n",
       "3  5.6431      52.0  5.817352   1.073059       558.0  2.547945     37.85   \n",
       "4  3.8462      52.0  6.281853   1.081081       565.0  2.181467     37.85   \n",
       "\n",
       "   Longitude  \n",
       "0    -122.23  \n",
       "1    -122.22  \n",
       "2    -122.24  \n",
       "3    -122.25  \n",
       "4    -122.25  "
      ]
     },
     "execution_count": 28,
     "metadata": {},
     "output_type": "execute_result"
    }
   ],
   "source": [
    "X.head()"
   ]
  },
  {
   "cell_type": "code",
   "execution_count": 29,
   "metadata": {},
   "outputs": [],
   "source": [
    "# 划分训练集和测试集\n",
    "Xtrain, Xtest, Ytrain, Ytest = train_test_split(X, y, test_size=0.3, random_state=420)"
   ]
  },
  {
   "cell_type": "code",
   "execution_count": 30,
   "metadata": {},
   "outputs": [],
   "source": [
    "# 恢复索引\n",
    "for i in [Xtrain, Xtest]:\n",
    "    i.index = range(i.shape[0])"
   ]
  },
  {
   "cell_type": "code",
   "execution_count": 31,
   "metadata": {},
   "outputs": [
    {
     "data": {
      "text/plain": [
       "0.6043610352312279"
      ]
     },
     "execution_count": 31,
     "metadata": {},
     "output_type": "execute_result"
    }
   ],
   "source": [
    "# 岭回归建模\n",
    "reg = Ridge(alpha=1).fit(Xtrain, Ytrain)\n",
    "reg.score(Xtest, Ytest)"
   ]
  },
  {
   "cell_type": "code",
   "execution_count": 32,
   "metadata": {},
   "outputs": [
    {
     "data": {
      "text/html": [
       "<style>#sk-container-id-1 {\n",
       "  /* Definition of color scheme common for light and dark mode */\n",
       "  --sklearn-color-text: black;\n",
       "  --sklearn-color-line: gray;\n",
       "  /* Definition of color scheme for unfitted estimators */\n",
       "  --sklearn-color-unfitted-level-0: #fff5e6;\n",
       "  --sklearn-color-unfitted-level-1: #f6e4d2;\n",
       "  --sklearn-color-unfitted-level-2: #ffe0b3;\n",
       "  --sklearn-color-unfitted-level-3: chocolate;\n",
       "  /* Definition of color scheme for fitted estimators */\n",
       "  --sklearn-color-fitted-level-0: #f0f8ff;\n",
       "  --sklearn-color-fitted-level-1: #d4ebff;\n",
       "  --sklearn-color-fitted-level-2: #b3dbfd;\n",
       "  --sklearn-color-fitted-level-3: cornflowerblue;\n",
       "\n",
       "  /* Specific color for light theme */\n",
       "  --sklearn-color-text-on-default-background: var(--sg-text-color, var(--theme-code-foreground, var(--jp-content-font-color1, black)));\n",
       "  --sklearn-color-background: var(--sg-background-color, var(--theme-background, var(--jp-layout-color0, white)));\n",
       "  --sklearn-color-border-box: var(--sg-text-color, var(--theme-code-foreground, var(--jp-content-font-color1, black)));\n",
       "  --sklearn-color-icon: #696969;\n",
       "\n",
       "  @media (prefers-color-scheme: dark) {\n",
       "    /* Redefinition of color scheme for dark theme */\n",
       "    --sklearn-color-text-on-default-background: var(--sg-text-color, var(--theme-code-foreground, var(--jp-content-font-color1, white)));\n",
       "    --sklearn-color-background: var(--sg-background-color, var(--theme-background, var(--jp-layout-color0, #111)));\n",
       "    --sklearn-color-border-box: var(--sg-text-color, var(--theme-code-foreground, var(--jp-content-font-color1, white)));\n",
       "    --sklearn-color-icon: #878787;\n",
       "  }\n",
       "}\n",
       "\n",
       "#sk-container-id-1 {\n",
       "  color: var(--sklearn-color-text);\n",
       "}\n",
       "\n",
       "#sk-container-id-1 pre {\n",
       "  padding: 0;\n",
       "}\n",
       "\n",
       "#sk-container-id-1 input.sk-hidden--visually {\n",
       "  border: 0;\n",
       "  clip: rect(1px 1px 1px 1px);\n",
       "  clip: rect(1px, 1px, 1px, 1px);\n",
       "  height: 1px;\n",
       "  margin: -1px;\n",
       "  overflow: hidden;\n",
       "  padding: 0;\n",
       "  position: absolute;\n",
       "  width: 1px;\n",
       "}\n",
       "\n",
       "#sk-container-id-1 div.sk-dashed-wrapped {\n",
       "  border: 1px dashed var(--sklearn-color-line);\n",
       "  margin: 0 0.4em 0.5em 0.4em;\n",
       "  box-sizing: border-box;\n",
       "  padding-bottom: 0.4em;\n",
       "  background-color: var(--sklearn-color-background);\n",
       "}\n",
       "\n",
       "#sk-container-id-1 div.sk-container {\n",
       "  /* jupyter's `normalize.less` sets `[hidden] { display: none; }`\n",
       "     but bootstrap.min.css set `[hidden] { display: none !important; }`\n",
       "     so we also need the `!important` here to be able to override the\n",
       "     default hidden behavior on the sphinx rendered scikit-learn.org.\n",
       "     See: https://github.com/scikit-learn/scikit-learn/issues/21755 */\n",
       "  display: inline-block !important;\n",
       "  position: relative;\n",
       "}\n",
       "\n",
       "#sk-container-id-1 div.sk-text-repr-fallback {\n",
       "  display: none;\n",
       "}\n",
       "\n",
       "div.sk-parallel-item,\n",
       "div.sk-serial,\n",
       "div.sk-item {\n",
       "  /* draw centered vertical line to link estimators */\n",
       "  background-image: linear-gradient(var(--sklearn-color-text-on-default-background), var(--sklearn-color-text-on-default-background));\n",
       "  background-size: 2px 100%;\n",
       "  background-repeat: no-repeat;\n",
       "  background-position: center center;\n",
       "}\n",
       "\n",
       "/* Parallel-specific style estimator block */\n",
       "\n",
       "#sk-container-id-1 div.sk-parallel-item::after {\n",
       "  content: \"\";\n",
       "  width: 100%;\n",
       "  border-bottom: 2px solid var(--sklearn-color-text-on-default-background);\n",
       "  flex-grow: 1;\n",
       "}\n",
       "\n",
       "#sk-container-id-1 div.sk-parallel {\n",
       "  display: flex;\n",
       "  align-items: stretch;\n",
       "  justify-content: center;\n",
       "  background-color: var(--sklearn-color-background);\n",
       "  position: relative;\n",
       "}\n",
       "\n",
       "#sk-container-id-1 div.sk-parallel-item {\n",
       "  display: flex;\n",
       "  flex-direction: column;\n",
       "}\n",
       "\n",
       "#sk-container-id-1 div.sk-parallel-item:first-child::after {\n",
       "  align-self: flex-end;\n",
       "  width: 50%;\n",
       "}\n",
       "\n",
       "#sk-container-id-1 div.sk-parallel-item:last-child::after {\n",
       "  align-self: flex-start;\n",
       "  width: 50%;\n",
       "}\n",
       "\n",
       "#sk-container-id-1 div.sk-parallel-item:only-child::after {\n",
       "  width: 0;\n",
       "}\n",
       "\n",
       "/* Serial-specific style estimator block */\n",
       "\n",
       "#sk-container-id-1 div.sk-serial {\n",
       "  display: flex;\n",
       "  flex-direction: column;\n",
       "  align-items: center;\n",
       "  background-color: var(--sklearn-color-background);\n",
       "  padding-right: 1em;\n",
       "  padding-left: 1em;\n",
       "}\n",
       "\n",
       "\n",
       "/* Toggleable style: style used for estimator/Pipeline/ColumnTransformer box that is\n",
       "clickable and can be expanded/collapsed.\n",
       "- Pipeline and ColumnTransformer use this feature and define the default style\n",
       "- Estimators will overwrite some part of the style using the `sk-estimator` class\n",
       "*/\n",
       "\n",
       "/* Pipeline and ColumnTransformer style (default) */\n",
       "\n",
       "#sk-container-id-1 div.sk-toggleable {\n",
       "  /* Default theme specific background. It is overwritten whether we have a\n",
       "  specific estimator or a Pipeline/ColumnTransformer */\n",
       "  background-color: var(--sklearn-color-background);\n",
       "}\n",
       "\n",
       "/* Toggleable label */\n",
       "#sk-container-id-1 label.sk-toggleable__label {\n",
       "  cursor: pointer;\n",
       "  display: block;\n",
       "  width: 100%;\n",
       "  margin-bottom: 0;\n",
       "  padding: 0.5em;\n",
       "  box-sizing: border-box;\n",
       "  text-align: center;\n",
       "}\n",
       "\n",
       "#sk-container-id-1 label.sk-toggleable__label-arrow:before {\n",
       "  /* Arrow on the left of the label */\n",
       "  content: \"▸\";\n",
       "  float: left;\n",
       "  margin-right: 0.25em;\n",
       "  color: var(--sklearn-color-icon);\n",
       "}\n",
       "\n",
       "#sk-container-id-1 label.sk-toggleable__label-arrow:hover:before {\n",
       "  color: var(--sklearn-color-text);\n",
       "}\n",
       "\n",
       "/* Toggleable content - dropdown */\n",
       "\n",
       "#sk-container-id-1 div.sk-toggleable__content {\n",
       "  max-height: 0;\n",
       "  max-width: 0;\n",
       "  overflow: hidden;\n",
       "  text-align: left;\n",
       "  /* unfitted */\n",
       "  background-color: var(--sklearn-color-unfitted-level-0);\n",
       "}\n",
       "\n",
       "#sk-container-id-1 div.sk-toggleable__content.fitted {\n",
       "  /* fitted */\n",
       "  background-color: var(--sklearn-color-fitted-level-0);\n",
       "}\n",
       "\n",
       "#sk-container-id-1 div.sk-toggleable__content pre {\n",
       "  margin: 0.2em;\n",
       "  border-radius: 0.25em;\n",
       "  color: var(--sklearn-color-text);\n",
       "  /* unfitted */\n",
       "  background-color: var(--sklearn-color-unfitted-level-0);\n",
       "}\n",
       "\n",
       "#sk-container-id-1 div.sk-toggleable__content.fitted pre {\n",
       "  /* unfitted */\n",
       "  background-color: var(--sklearn-color-fitted-level-0);\n",
       "}\n",
       "\n",
       "#sk-container-id-1 input.sk-toggleable__control:checked~div.sk-toggleable__content {\n",
       "  /* Expand drop-down */\n",
       "  max-height: 200px;\n",
       "  max-width: 100%;\n",
       "  overflow: auto;\n",
       "}\n",
       "\n",
       "#sk-container-id-1 input.sk-toggleable__control:checked~label.sk-toggleable__label-arrow:before {\n",
       "  content: \"▾\";\n",
       "}\n",
       "\n",
       "/* Pipeline/ColumnTransformer-specific style */\n",
       "\n",
       "#sk-container-id-1 div.sk-label input.sk-toggleable__control:checked~label.sk-toggleable__label {\n",
       "  color: var(--sklearn-color-text);\n",
       "  background-color: var(--sklearn-color-unfitted-level-2);\n",
       "}\n",
       "\n",
       "#sk-container-id-1 div.sk-label.fitted input.sk-toggleable__control:checked~label.sk-toggleable__label {\n",
       "  background-color: var(--sklearn-color-fitted-level-2);\n",
       "}\n",
       "\n",
       "/* Estimator-specific style */\n",
       "\n",
       "/* Colorize estimator box */\n",
       "#sk-container-id-1 div.sk-estimator input.sk-toggleable__control:checked~label.sk-toggleable__label {\n",
       "  /* unfitted */\n",
       "  background-color: var(--sklearn-color-unfitted-level-2);\n",
       "}\n",
       "\n",
       "#sk-container-id-1 div.sk-estimator.fitted input.sk-toggleable__control:checked~label.sk-toggleable__label {\n",
       "  /* fitted */\n",
       "  background-color: var(--sklearn-color-fitted-level-2);\n",
       "}\n",
       "\n",
       "#sk-container-id-1 div.sk-label label.sk-toggleable__label,\n",
       "#sk-container-id-1 div.sk-label label {\n",
       "  /* The background is the default theme color */\n",
       "  color: var(--sklearn-color-text-on-default-background);\n",
       "}\n",
       "\n",
       "/* On hover, darken the color of the background */\n",
       "#sk-container-id-1 div.sk-label:hover label.sk-toggleable__label {\n",
       "  color: var(--sklearn-color-text);\n",
       "  background-color: var(--sklearn-color-unfitted-level-2);\n",
       "}\n",
       "\n",
       "/* Label box, darken color on hover, fitted */\n",
       "#sk-container-id-1 div.sk-label.fitted:hover label.sk-toggleable__label.fitted {\n",
       "  color: var(--sklearn-color-text);\n",
       "  background-color: var(--sklearn-color-fitted-level-2);\n",
       "}\n",
       "\n",
       "/* Estimator label */\n",
       "\n",
       "#sk-container-id-1 div.sk-label label {\n",
       "  font-family: monospace;\n",
       "  font-weight: bold;\n",
       "  display: inline-block;\n",
       "  line-height: 1.2em;\n",
       "}\n",
       "\n",
       "#sk-container-id-1 div.sk-label-container {\n",
       "  text-align: center;\n",
       "}\n",
       "\n",
       "/* Estimator-specific */\n",
       "#sk-container-id-1 div.sk-estimator {\n",
       "  font-family: monospace;\n",
       "  border: 1px dotted var(--sklearn-color-border-box);\n",
       "  border-radius: 0.25em;\n",
       "  box-sizing: border-box;\n",
       "  margin-bottom: 0.5em;\n",
       "  /* unfitted */\n",
       "  background-color: var(--sklearn-color-unfitted-level-0);\n",
       "}\n",
       "\n",
       "#sk-container-id-1 div.sk-estimator.fitted {\n",
       "  /* fitted */\n",
       "  background-color: var(--sklearn-color-fitted-level-0);\n",
       "}\n",
       "\n",
       "/* on hover */\n",
       "#sk-container-id-1 div.sk-estimator:hover {\n",
       "  /* unfitted */\n",
       "  background-color: var(--sklearn-color-unfitted-level-2);\n",
       "}\n",
       "\n",
       "#sk-container-id-1 div.sk-estimator.fitted:hover {\n",
       "  /* fitted */\n",
       "  background-color: var(--sklearn-color-fitted-level-2);\n",
       "}\n",
       "\n",
       "/* Specification for estimator info (e.g. \"i\" and \"?\") */\n",
       "\n",
       "/* Common style for \"i\" and \"?\" */\n",
       "\n",
       ".sk-estimator-doc-link,\n",
       "a:link.sk-estimator-doc-link,\n",
       "a:visited.sk-estimator-doc-link {\n",
       "  float: right;\n",
       "  font-size: smaller;\n",
       "  line-height: 1em;\n",
       "  font-family: monospace;\n",
       "  background-color: var(--sklearn-color-background);\n",
       "  border-radius: 1em;\n",
       "  height: 1em;\n",
       "  width: 1em;\n",
       "  text-decoration: none !important;\n",
       "  margin-left: 1ex;\n",
       "  /* unfitted */\n",
       "  border: var(--sklearn-color-unfitted-level-1) 1pt solid;\n",
       "  color: var(--sklearn-color-unfitted-level-1);\n",
       "}\n",
       "\n",
       ".sk-estimator-doc-link.fitted,\n",
       "a:link.sk-estimator-doc-link.fitted,\n",
       "a:visited.sk-estimator-doc-link.fitted {\n",
       "  /* fitted */\n",
       "  border: var(--sklearn-color-fitted-level-1) 1pt solid;\n",
       "  color: var(--sklearn-color-fitted-level-1);\n",
       "}\n",
       "\n",
       "/* On hover */\n",
       "div.sk-estimator:hover .sk-estimator-doc-link:hover,\n",
       ".sk-estimator-doc-link:hover,\n",
       "div.sk-label-container:hover .sk-estimator-doc-link:hover,\n",
       ".sk-estimator-doc-link:hover {\n",
       "  /* unfitted */\n",
       "  background-color: var(--sklearn-color-unfitted-level-3);\n",
       "  color: var(--sklearn-color-background);\n",
       "  text-decoration: none;\n",
       "}\n",
       "\n",
       "div.sk-estimator.fitted:hover .sk-estimator-doc-link.fitted:hover,\n",
       ".sk-estimator-doc-link.fitted:hover,\n",
       "div.sk-label-container:hover .sk-estimator-doc-link.fitted:hover,\n",
       ".sk-estimator-doc-link.fitted:hover {\n",
       "  /* fitted */\n",
       "  background-color: var(--sklearn-color-fitted-level-3);\n",
       "  color: var(--sklearn-color-background);\n",
       "  text-decoration: none;\n",
       "}\n",
       "\n",
       "/* Span, style for the box shown on hovering the info icon */\n",
       ".sk-estimator-doc-link span {\n",
       "  display: none;\n",
       "  z-index: 9999;\n",
       "  position: relative;\n",
       "  font-weight: normal;\n",
       "  right: .2ex;\n",
       "  padding: .5ex;\n",
       "  margin: .5ex;\n",
       "  width: min-content;\n",
       "  min-width: 20ex;\n",
       "  max-width: 50ex;\n",
       "  color: var(--sklearn-color-text);\n",
       "  box-shadow: 2pt 2pt 4pt #999;\n",
       "  /* unfitted */\n",
       "  background: var(--sklearn-color-unfitted-level-0);\n",
       "  border: .5pt solid var(--sklearn-color-unfitted-level-3);\n",
       "}\n",
       "\n",
       ".sk-estimator-doc-link.fitted span {\n",
       "  /* fitted */\n",
       "  background: var(--sklearn-color-fitted-level-0);\n",
       "  border: var(--sklearn-color-fitted-level-3);\n",
       "}\n",
       "\n",
       ".sk-estimator-doc-link:hover span {\n",
       "  display: block;\n",
       "}\n",
       "\n",
       "/* \"?\"-specific style due to the `<a>` HTML tag */\n",
       "\n",
       "#sk-container-id-1 a.estimator_doc_link {\n",
       "  float: right;\n",
       "  font-size: 1rem;\n",
       "  line-height: 1em;\n",
       "  font-family: monospace;\n",
       "  background-color: var(--sklearn-color-background);\n",
       "  border-radius: 1rem;\n",
       "  height: 1rem;\n",
       "  width: 1rem;\n",
       "  text-decoration: none;\n",
       "  /* unfitted */\n",
       "  color: var(--sklearn-color-unfitted-level-1);\n",
       "  border: var(--sklearn-color-unfitted-level-1) 1pt solid;\n",
       "}\n",
       "\n",
       "#sk-container-id-1 a.estimator_doc_link.fitted {\n",
       "  /* fitted */\n",
       "  border: var(--sklearn-color-fitted-level-1) 1pt solid;\n",
       "  color: var(--sklearn-color-fitted-level-1);\n",
       "}\n",
       "\n",
       "/* On hover */\n",
       "#sk-container-id-1 a.estimator_doc_link:hover {\n",
       "  /* unfitted */\n",
       "  background-color: var(--sklearn-color-unfitted-level-3);\n",
       "  color: var(--sklearn-color-background);\n",
       "  text-decoration: none;\n",
       "}\n",
       "\n",
       "#sk-container-id-1 a.estimator_doc_link.fitted:hover {\n",
       "  /* fitted */\n",
       "  background-color: var(--sklearn-color-fitted-level-3);\n",
       "}\n",
       "</style><div id=\"sk-container-id-1\" class=\"sk-top-container\"><div class=\"sk-text-repr-fallback\"><pre>GridSearchCV(cv=5, estimator=Ridge(),\n",
       "             param_grid={&#x27;alpha&#x27;: array([  1, 101, 201, 301, 401, 501, 601, 701, 801, 901])})</pre><b>In a Jupyter environment, please rerun this cell to show the HTML representation or trust the notebook. <br />On GitHub, the HTML representation is unable to render, please try loading this page with nbviewer.org.</b></div><div class=\"sk-container\" hidden><div class=\"sk-item sk-dashed-wrapped\"><div class=\"sk-label-container\"><div class=\"sk-label fitted sk-toggleable\"><input class=\"sk-toggleable__control sk-hidden--visually\" id=\"sk-estimator-id-1\" type=\"checkbox\" ><label for=\"sk-estimator-id-1\" class=\"sk-toggleable__label fitted sk-toggleable__label-arrow fitted\">&nbsp;&nbsp;GridSearchCV<a class=\"sk-estimator-doc-link fitted\" rel=\"noreferrer\" target=\"_blank\" href=\"https://scikit-learn.org/1.4/modules/generated/sklearn.model_selection.GridSearchCV.html\">?<span>Documentation for GridSearchCV</span></a><span class=\"sk-estimator-doc-link fitted\">i<span>Fitted</span></span></label><div class=\"sk-toggleable__content fitted\"><pre>GridSearchCV(cv=5, estimator=Ridge(),\n",
       "             param_grid={&#x27;alpha&#x27;: array([  1, 101, 201, 301, 401, 501, 601, 701, 801, 901])})</pre></div> </div></div><div class=\"sk-parallel\"><div class=\"sk-parallel-item\"><div class=\"sk-item\"><div class=\"sk-label-container\"><div class=\"sk-label fitted sk-toggleable\"><input class=\"sk-toggleable__control sk-hidden--visually\" id=\"sk-estimator-id-2\" type=\"checkbox\" ><label for=\"sk-estimator-id-2\" class=\"sk-toggleable__label fitted sk-toggleable__label-arrow fitted\">estimator: Ridge</label><div class=\"sk-toggleable__content fitted\"><pre>Ridge()</pre></div> </div></div><div class=\"sk-serial\"><div class=\"sk-item\"><div class=\"sk-estimator fitted sk-toggleable\"><input class=\"sk-toggleable__control sk-hidden--visually\" id=\"sk-estimator-id-3\" type=\"checkbox\" ><label for=\"sk-estimator-id-3\" class=\"sk-toggleable__label fitted sk-toggleable__label-arrow fitted\">&nbsp;Ridge<a class=\"sk-estimator-doc-link fitted\" rel=\"noreferrer\" target=\"_blank\" href=\"https://scikit-learn.org/1.4/modules/generated/sklearn.linear_model.Ridge.html\">?<span>Documentation for Ridge</span></a></label><div class=\"sk-toggleable__content fitted\"><pre>Ridge()</pre></div> </div></div></div></div></div></div></div></div></div>"
      ],
      "text/plain": [
       "GridSearchCV(cv=5, estimator=Ridge(),\n",
       "             param_grid={'alpha': array([  1, 101, 201, 301, 401, 501, 601, 701, 801, 901])})"
      ]
     },
     "execution_count": 32,
     "metadata": {},
     "output_type": "execute_result"
    }
   ],
   "source": [
    "# 参数选择\n",
    "from sklearn.model_selection import GridSearchCV\n",
    "\n",
    "alpharange = np.arange(1, 1001, 100)\n",
    "\n",
    "GS = GridSearchCV(Ridge(), param_grid={\"alpha\": alpharange}, cv=5)\n",
    "\n",
    "GS.fit(Xtrain, Ytrain)"
   ]
  },
  {
   "cell_type": "code",
   "execution_count": 33,
   "metadata": {},
   "outputs": [
    {
     "data": {
      "text/plain": [
       "{'alpha': 101}"
      ]
     },
     "execution_count": 33,
     "metadata": {},
     "output_type": "execute_result"
    }
   ],
   "source": [
    "GS.best_params_"
   ]
  },
  {
   "cell_type": "code",
   "execution_count": 34,
   "metadata": {},
   "outputs": [
    {
     "data": {
      "text/plain": [
       "0.6048006343679606"
      ]
     },
     "execution_count": 34,
     "metadata": {},
     "output_type": "execute_result"
    }
   ],
   "source": [
    "GS.best_score_"
   ]
  },
  {
   "cell_type": "code",
   "execution_count": 35,
   "metadata": {},
   "outputs": [
    {
     "data": {
      "text/plain": [
       "0.6043668160178817"
      ]
     },
     "execution_count": 35,
     "metadata": {},
     "output_type": "execute_result"
    }
   ],
   "source": [
    "LR = LinearRegression().fit(Xtrain, Ytrain)\n",
    "LR.score(Xtest, Ytest)"
   ]
  },
  {
   "cell_type": "code",
   "execution_count": 36,
   "metadata": {},
   "outputs": [
    {
     "data": {
      "text/plain": [
       "[<matplotlib.lines.Line2D at 0x1a48760a5a0>]"
      ]
     },
     "execution_count": 36,
     "metadata": {},
     "output_type": "execute_result"
    },
    {
     "data": {
      "image/png": "[encoded data removed]",
      "text/plain": [
       "<Figure size 640x480 with 1 Axes>"
      ]
     },
     "metadata": {},
     "output_type": "display_data"
    }
   ],
   "source": [
    "# 绘制得分曲线\n",
    "result = []\n",
    "for i in alpharange:\n",
    "    reg = Ridge(alpha=i)\n",
    "    score = cross_val_score(reg, Xtrain, Ytrain, cv=5).mean()\n",
    "    result.append(score)\n",
    "    \n",
    "plt.plot(alpharange, result)\n",
    "plt.plot(alpharange, LR.score(Xtest, Ytest)*np.ones_like(alpharange))"
   ]
  },
  {
   "cell_type": "code",
   "execution_count": 37,
   "metadata": {},
   "outputs": [
    {
     "data": {
      "text/plain": [
       "[<matplotlib.lines.Line2D at 0x1a48d3dc5f0>]"
      ]
     },
     "execution_count": 37,
     "metadata": {},
     "output_type": "execute_result"
    },
    {
     "data": {
      "image/png": "[encoded data removed]",
      "text/plain": [
       "<Figure size 640x480 with 1 Axes>"
      ]
     },
     "metadata": {},
     "output_type": "display_data"
    }
   ],
   "source": [
    "# 模型方差绘图\n",
    "\n",
    "alpharange = np.arange(1, 800, 10)\n",
    "ridge, lr = [], []\n",
    "for alpha in alpharange:\n",
    "    reg = Ridge(alpha=alpha)\n",
    "    linear = LinearRegression()\n",
    "    regs = cross_val_score(reg, X, y, cv=5, scoring=\"r2\").var()\n",
    "    linears = cross_val_score(linear, X, y, cv=5, scoring=\"r2\").var()\n",
    "    ridge.append(regs)\n",
    "    lr.append(linears)\n",
    "    \n",
    "plt.plot(alpharange, ridge, color=\"red\", label=\"Ridge\")\n",
    "plt.plot(alpharange, lr, color=\"orange\", label=\"LR\")"
   ]
  },
  {
   "cell_type": "code",
   "execution_count": 38,
   "metadata": {},
   "outputs": [
    {
     "data": {
      "text/plain": [
       "[<matplotlib.lines.Line2D at 0x1a48f766900>]"
      ]
     },
     "execution_count": 38,
     "metadata": {},
     "output_type": "execute_result"
    },
    {
     "data": {
      "image/png": "[encoded data removed]",
      "text/plain": [
       "<Figure size 640x480 with 1 Axes>"
      ]
     },
     "metadata": {},
     "output_type": "display_data"
    }
   ],
   "source": [
    "# 模型偏差绘图\n",
    "ridge, lr = [], []\n",
    "\n",
    "for alpha in alpharange:\n",
    "    reg = Ridge(alpha=alpha)\n",
    "    linear = LinearRegression()\n",
    "    regs = cross_val_score(reg, X, y, cv=5, scoring=\"r2\").mean()\n",
    "    linears = cross_val_score(linear, X, y, cv=5, scoring=\"r2\").mean()\n",
    "    ridge.append(regs)\n",
    "    lr.append(linears)\n",
    "    \n",
    "plt.plot(alpharange, ridge, color=\"red\", label=\"Ridge\")"
   ]
  },
  {
   "cell_type": "markdown",
   "metadata": {},
   "source": [
    "# 绘制岭迹图"
   ]
  },
  {
   "cell_type": "code",
   "execution_count": 39,
   "metadata": {},
   "outputs": [
    {
     "data": {
      "text/plain": [
       "[<matplotlib.lines.Line2D at 0x1a48d35db20>,\n",
       " <matplotlib.lines.Line2D at 0x1a48d35e4e0>,\n",
       " <matplotlib.lines.Line2D at 0x1a48d35fef0>,\n",
       " <matplotlib.lines.Line2D at 0x1a48d35fb30>,\n",
       " <matplotlib.lines.Line2D at 0x1a48d35c800>,\n",
       " <matplotlib.lines.Line2D at 0x1a48d35e510>,\n",
       " <matplotlib.lines.Line2D at 0x1a48d3dcbc0>,\n",
       " <matplotlib.lines.Line2D at 0x1a48d3dd3d0>]"
      ]
     },
     "execution_count": 39,
     "metadata": {},
     "output_type": "execute_result"
    },
    {
     "data": {
      "image/png": "[encoded data removed]",
      "text/plain": [
       "<Figure size 640x480 with 1 Axes>"
      ]
     },
     "metadata": {},
     "output_type": "display_data"
    }
   ],
   "source": [
    "alphas = np.arange(1, 1001, 100)\n",
    "coefs = []\n",
    "\n",
    "for a in alphas:\n",
    "    reg = Ridge(a).fit(X, y)\n",
    "    coefs.append(reg.coef_)\n",
    "    \n",
    "plt.plot(alphas, coefs)"
   ]
  },
  {
   "cell_type": "markdown",
   "metadata": {},
   "source": [
    "不太好用，为什么交点说明有多重共线性？哪一个喇叭口才是最佳的参数选择？这些问题解决不好，那么就说明这个技术并不可行。"
   ]
  },
  {
   "cell_type": "markdown",
   "metadata": {},
   "source": [
    "# Lasso回归"
   ]
  },
  {
   "cell_type": "code",
   "execution_count": 40,
   "metadata": {},
   "outputs": [],
   "source": [
    "from sklearn.linear_model import Ridge, Lasso, LinearRegression\n",
    "from sklearn.model_selection import train_test_split\n",
    "from sklearn.model_selection import cross_val_score\n",
    "from sklearn.datasets import fetch_california_housing as fch\n",
    "import pandas as pd\n",
    "import numpy as np"
   ]
  },
  {
   "cell_type": "code",
   "execution_count": 41,
   "metadata": {},
   "outputs": [],
   "source": [
    "# 导入数据\n",
    "housevalue = fch()\n",
    "X = pd.DataFrame(housevalue.data)\n",
    "y = housevalue.target"
   ]
  },
  {
   "cell_type": "code",
   "execution_count": 42,
   "metadata": {},
   "outputs": [
    {
     "data": {
      "text/html": [
       "<div>\n",
       "<style scoped>\n",
       "    .dataframe tbody tr th:only-of-type {\n",
       "        vertical-align: middle;\n",
       "    }\n",
       "\n",
       "    .dataframe tbody tr th {\n",
       "        vertical-align: top;\n",
       "    }\n",
       "\n",
       "    .dataframe thead th {\n",
       "        text-align: right;\n",
       "    }\n",
       "</style>\n",
       "<table border=\"1\" class=\"dataframe\">\n",
       "  <thead>\n",
       "    <tr style=\"text-align: right;\">\n",
       "      <th></th>\n",
       "      <th>MedInc</th>\n",
       "      <th>HouseAge</th>\n",
       "      <th>AveRooms</th>\n",
       "      <th>AveBedrms</th>\n",
       "      <th>Population</th>\n",
       "      <th>AveOccup</th>\n",
       "      <th>Latitude</th>\n",
       "      <th>Longitude</th>\n",
       "    </tr>\n",
       "  </thead>\n",
       "  <tbody>\n",
       "    <tr>\n",
       "      <th>0</th>\n",
       "      <td>8.3252</td>\n",
       "      <td>41.0</td>\n",
       "      <td>6.984127</td>\n",
       "      <td>1.023810</td>\n",
       "      <td>322.0</td>\n",
       "      <td>2.555556</td>\n",
       "      <td>37.88</td>\n",
       "      <td>-122.23</td>\n",
       "    </tr>\n",
       "    <tr>\n",
       "      <th>1</th>\n",
       "      <td>8.3014</td>\n",
       "      <td>21.0</td>\n",
       "      <td>6.238137</td>\n",
       "      <td>0.971880</td>\n",
       "      <td>2401.0</td>\n",
       "      <td>2.109842</td>\n",
       "      <td>37.86</td>\n",
       "      <td>-122.22</td>\n",
       "    </tr>\n",
       "    <tr>\n",
       "      <th>2</th>\n",
       "      <td>7.2574</td>\n",
       "      <td>52.0</td>\n",
       "      <td>8.288136</td>\n",
       "      <td>1.073446</td>\n",
       "      <td>496.0</td>\n",
       "      <td>2.802260</td>\n",
       "      <td>37.85</td>\n",
       "      <td>-122.24</td>\n",
       "    </tr>\n",
       "    <tr>\n",
       "      <th>3</th>\n",
       "      <td>5.6431</td>\n",
       "      <td>52.0</td>\n",
       "      <td>5.817352</td>\n",
       "      <td>1.073059</td>\n",
       "      <td>558.0</td>\n",
       "      <td>2.547945</td>\n",
       "      <td>37.85</td>\n",
       "      <td>-122.25</td>\n",
       "    </tr>\n",
       "    <tr>\n",
       "      <th>4</th>\n",
       "      <td>3.8462</td>\n",
       "      <td>52.0</td>\n",
       "      <td>6.281853</td>\n",
       "      <td>1.081081</td>\n",
       "      <td>565.0</td>\n",
       "      <td>2.181467</td>\n",
       "      <td>37.85</td>\n",
       "      <td>-122.25</td>\n",
       "    </tr>\n",
       "  </tbody>\n",
       "</table>\n",
       "</div>"
      ],
      "text/plain": [
       "   MedInc  HouseAge  AveRooms  AveBedrms  Population  AveOccup  Latitude  \\\n",
       "0  8.3252      41.0  6.984127   1.023810       322.0  2.555556     37.88   \n",
       "1  8.3014      21.0  6.238137   0.971880      2401.0  2.109842     37.86   \n",
       "2  7.2574      52.0  8.288136   1.073446       496.0  2.802260     37.85   \n",
       "3  5.6431      52.0  5.817352   1.073059       558.0  2.547945     37.85   \n",
       "4  3.8462      52.0  6.281853   1.081081       565.0  2.181467     37.85   \n",
       "\n",
       "   Longitude  \n",
       "0    -122.23  \n",
       "1    -122.22  \n",
       "2    -122.24  \n",
       "3    -122.25  \n",
       "4    -122.25  "
      ]
     },
     "execution_count": 42,
     "metadata": {},
     "output_type": "execute_result"
    }
   ],
   "source": [
    "# 命名特征\n",
    "feature_name = housevalue.feature_names\n",
    "X.columns = feature_name\n",
    "X.head()"
   ]
  },
  {
   "cell_type": "code",
   "execution_count": 43,
   "metadata": {},
   "outputs": [],
   "source": [
    "# 划分训练集和测试集\n",
    "Xtrain, Xtest, Ytrain, Ytest = train_test_split(X, y, test_size=0.3, random_state=420)"
   ]
  },
  {
   "cell_type": "code",
   "execution_count": 44,
   "metadata": {},
   "outputs": [],
   "source": [
    "# 恢复索引\n",
    "for i in [Xtrain, Xtest]:\n",
    "    i.index = range(i.shape[0])"
   ]
  },
  {
   "cell_type": "code",
   "execution_count": 45,
   "metadata": {},
   "outputs": [
    {
     "data": {
      "text/plain": [
       "array([ 4.37358931e-01,  1.02112683e-02, -1.07807216e-01,  6.26433828e-01,\n",
       "        5.21612535e-07, -3.34850965e-03, -4.13095938e-01, -4.26210954e-01])"
      ]
     },
     "execution_count": 45,
     "metadata": {},
     "output_type": "execute_result"
    }
   ],
   "source": [
    "# 线性回归\n",
    "reg = LinearRegression().fit(Xtrain, Ytrain)\n",
    "reg.coef_"
   ]
  },
  {
   "cell_type": "code",
   "execution_count": 46,
   "metadata": {},
   "outputs": [
    {
     "data": {
      "text/plain": [
       "array([ 4.37345348e-01,  1.02115085e-02, -1.07781093e-01,  6.26297900e-01,\n",
       "        5.22555203e-07, -3.34847836e-03, -4.13093701e-01, -4.26206805e-01])"
      ]
     },
     "execution_count": 46,
     "metadata": {},
     "output_type": "execute_result"
    }
   ],
   "source": [
    "regRidge = Ridge(alpha=0.1).fit(Xtrain, Ytrain)\n",
    "regRidge.coef_"
   ]
  },
  {
   "cell_type": "code",
   "execution_count": 47,
   "metadata": {},
   "outputs": [
    {
     "data": {
      "text/plain": [
       "array([ 3.90885144e-01,  1.60546957e-02, -0.00000000e+00,  0.00000000e+00,\n",
       "        2.37770148e-05, -3.05018690e-03, -1.07715093e-01, -9.29434448e-02])"
      ]
     },
     "execution_count": 47,
     "metadata": {},
     "output_type": "execute_result"
    }
   ],
   "source": [
    "regLasso = Lasso(alpha=0.1).fit(Xtrain, Ytrain)\n",
    "regLasso.coef_"
   ]
  },
  {
   "cell_type": "code",
   "execution_count": 48,
   "metadata": {},
   "outputs": [
    {
     "data": {
      "text/plain": [
       "array([1.00000000e-10, 1.09698580e-10, 1.20337784e-10, 1.32008840e-10,\n",
       "       1.44811823e-10, 1.58856513e-10, 1.74263339e-10, 1.91164408e-10,\n",
       "       2.09704640e-10, 2.30043012e-10, 2.52353917e-10, 2.76828663e-10,\n",
       "       3.03677112e-10, 3.33129479e-10, 3.65438307e-10, 4.00880633e-10,\n",
       "       4.39760361e-10, 4.82410870e-10, 5.29197874e-10, 5.80522552e-10,\n",
       "       6.36824994e-10, 6.98587975e-10, 7.66341087e-10, 8.40665289e-10,\n",
       "       9.22197882e-10, 1.01163798e-09, 1.10975250e-09, 1.21738273e-09,\n",
       "       1.33545156e-09, 1.46497140e-09, 1.60705282e-09, 1.76291412e-09,\n",
       "       1.93389175e-09, 2.12145178e-09, 2.32720248e-09, 2.55290807e-09,\n",
       "       2.80050389e-09, 3.07211300e-09, 3.37006433e-09, 3.69691271e-09,\n",
       "       4.05546074e-09, 4.44878283e-09, 4.88025158e-09, 5.35356668e-09,\n",
       "       5.87278661e-09, 6.44236351e-09, 7.06718127e-09, 7.75259749e-09,\n",
       "       8.50448934e-09, 9.32930403e-09, 1.02341140e-08, 1.12266777e-08,\n",
       "       1.23155060e-08, 1.35099352e-08, 1.48202071e-08, 1.62575567e-08,\n",
       "       1.78343088e-08, 1.95639834e-08, 2.14614120e-08, 2.35428641e-08,\n",
       "       2.58261876e-08, 2.83309610e-08, 3.10786619e-08, 3.40928507e-08,\n",
       "       3.73993730e-08, 4.10265811e-08, 4.50055768e-08, 4.93704785e-08,\n",
       "       5.41587138e-08, 5.94113398e-08, 6.51733960e-08, 7.14942899e-08,\n",
       "       7.84282206e-08, 8.60346442e-08, 9.43787828e-08, 1.03532184e-07,\n",
       "       1.13573336e-07, 1.24588336e-07, 1.36671636e-07, 1.49926843e-07,\n",
       "       1.64467618e-07, 1.80418641e-07, 1.97916687e-07, 2.17111795e-07,\n",
       "       2.38168555e-07, 2.61267523e-07, 2.86606762e-07, 3.14403547e-07,\n",
       "       3.44896226e-07, 3.78346262e-07, 4.15040476e-07, 4.55293507e-07,\n",
       "       4.99450512e-07, 5.47890118e-07, 6.01027678e-07, 6.59318827e-07,\n",
       "       7.23263390e-07, 7.93409667e-07, 8.70359136e-07, 9.54771611e-07,\n",
       "       1.04737090e-06, 1.14895100e-06, 1.26038293e-06, 1.38262217e-06,\n",
       "       1.51671689e-06, 1.66381689e-06, 1.82518349e-06, 2.00220037e-06,\n",
       "       2.19638537e-06, 2.40940356e-06, 2.64308149e-06, 2.89942285e-06,\n",
       "       3.18062569e-06, 3.48910121e-06, 3.82749448e-06, 4.19870708e-06,\n",
       "       4.60592204e-06, 5.05263107e-06, 5.54266452e-06, 6.08022426e-06,\n",
       "       6.66991966e-06, 7.31680714e-06, 8.02643352e-06, 8.80488358e-06,\n",
       "       9.65883224e-06, 1.05956018e-05, 1.16232247e-05, 1.27505124e-05,\n",
       "       1.39871310e-05, 1.53436841e-05, 1.68318035e-05, 1.84642494e-05,\n",
       "       2.02550194e-05, 2.22194686e-05, 2.43744415e-05, 2.67384162e-05,\n",
       "       2.93316628e-05, 3.21764175e-05, 3.52970730e-05, 3.87203878e-05,\n",
       "       4.24757155e-05, 4.65952567e-05, 5.11143348e-05, 5.60716994e-05,\n",
       "       6.15098579e-05, 6.74754405e-05, 7.40196000e-05, 8.11984499e-05,\n",
       "       8.90735464e-05, 9.77124154e-05, 1.07189132e-04, 1.17584955e-04,\n",
       "       1.28989026e-04, 1.41499130e-04, 1.55222536e-04, 1.70276917e-04,\n",
       "       1.86791360e-04, 2.04907469e-04, 2.24780583e-04, 2.46581108e-04,\n",
       "       2.70495973e-04, 2.96730241e-04, 3.25508860e-04, 3.57078596e-04,\n",
       "       3.91710149e-04, 4.29700470e-04, 4.71375313e-04, 5.17092024e-04,\n",
       "       5.67242607e-04, 6.22257084e-04, 6.82607183e-04, 7.48810386e-04,\n",
       "       8.21434358e-04, 9.01101825e-04, 9.88495905e-04, 1.08436597e-03,\n",
       "       1.18953407e-03, 1.30490198e-03, 1.43145894e-03, 1.57029012e-03,\n",
       "       1.72258597e-03, 1.88965234e-03, 2.07292178e-03, 2.27396575e-03,\n",
       "       2.49450814e-03, 2.73644000e-03, 3.00183581e-03, 3.29297126e-03,\n",
       "       3.61234270e-03, 3.96268864e-03, 4.34701316e-03, 4.76861170e-03,\n",
       "       5.23109931e-03, 5.73844165e-03, 6.29498899e-03, 6.90551352e-03,\n",
       "       7.57525026e-03, 8.30994195e-03, 9.11588830e-03, 1.00000000e-02])"
      ]
     },
     "execution_count": 48,
     "metadata": {},
     "output_type": "execute_result"
    }
   ],
   "source": [
    "#lasso参数选择\n",
    "from sklearn.linear_model import LassoCV\n",
    "\n",
    "alpharange = np.logspace(-10, -2, 200, base=10)\n",
    "alpharange"
   ]
  },
  {
   "cell_type": "code",
   "execution_count": 49,
   "metadata": {},
   "outputs": [
    {
     "data": {
      "text/plain": [
       "0.0020729217795953697"
      ]
     },
     "execution_count": 49,
     "metadata": {},
     "output_type": "execute_result"
    }
   ],
   "source": [
    "lasso = LassoCV(alphas=alpharange, cv=5).fit(Xtrain, Ytrain)\n",
    "lasso.alpha_"
   ]
  },
  {
   "cell_type": "code",
   "execution_count": 50,
   "metadata": {},
   "outputs": [
    {
     "data": {
      "text/plain": [
       "array([[0.52454913, 0.49856261, 0.55984312, 0.50526576, 0.55262557],\n",
       "       [0.52361933, 0.49748809, 0.55887637, 0.50429373, 0.55283734],\n",
       "       [0.52281927, 0.49655113, 0.55803797, 0.5034594 , 0.55320522],\n",
       "       [0.52213811, 0.49574741, 0.55731858, 0.50274517, 0.55367515],\n",
       "       [0.52155715, 0.49505688, 0.55669995, 0.50213252, 0.55421553],\n",
       "       [0.52106069, 0.49446226, 0.55616707, 0.50160604, 0.55480104],\n",
       "       [0.5206358 , 0.49394903, 0.55570702, 0.50115266, 0.55541214],\n",
       "       [0.52027135, 0.49350539, 0.55530895, 0.50076146, 0.55603333],\n",
       "       [0.51995825, 0.49312085, 0.5549639 , 0.50042318, 0.55665306],\n",
       "       [0.5196886 , 0.49278705, 0.55466406, 0.50013007, 0.55726225],\n",
       "       [0.51945602, 0.49249647, 0.55440306, 0.49987554, 0.55785451],\n",
       "       [0.51925489, 0.49224316, 0.55417527, 0.49965404, 0.55842496],\n",
       "       [0.51908068, 0.49202169, 0.55397615, 0.49946088, 0.55897049],\n",
       "       [0.51892938, 0.49182782, 0.55380162, 0.49929206, 0.55948886],\n",
       "       [0.51879778, 0.49165759, 0.55364841, 0.49914421, 0.55997905],\n",
       "       [0.51868299, 0.49150788, 0.55351357, 0.49901446, 0.5604405 ],\n",
       "       [0.51858268, 0.49137604, 0.55339469, 0.49890035, 0.56087323],\n",
       "       [0.51849488, 0.49125956, 0.55328972, 0.4987998 , 0.56127784],\n",
       "       [0.5184178 , 0.49115652, 0.55319678, 0.49871101, 0.56165507],\n",
       "       [0.51835002, 0.49106526, 0.55311438, 0.49863248, 0.5620059 ],\n",
       "       [0.51829033, 0.49098418, 0.55304118, 0.49856287, 0.56233145],\n",
       "       [0.51823761, 0.49091208, 0.55297609, 0.49850108, 0.56263308],\n",
       "       [0.51819098, 0.49084785, 0.55291806, 0.49844612, 0.56291204],\n",
       "       [0.51814966, 0.49079058, 0.55286626, 0.49839716, 0.56316966],\n",
       "       [0.51811298, 0.49073937, 0.55281996, 0.49835348, 0.56340721],\n",
       "       [0.51808038, 0.49069355, 0.55277854, 0.49831445, 0.5636261 ],\n",
       "       [0.51805132, 0.49065249, 0.5527414 , 0.49827953, 0.56382754],\n",
       "       [0.5180254 , 0.49061566, 0.55270806, 0.49824828, 0.56401276],\n",
       "       [0.51800224, 0.49058258, 0.55267812, 0.49822015, 0.56418292],\n",
       "       [0.51798152, 0.49055285, 0.55265118, 0.49819493, 0.56433912],\n",
       "       [0.51796296, 0.49052608, 0.55262693, 0.49817225, 0.56448243],\n",
       "       [0.5179463 , 0.49050195, 0.55260507, 0.49815185, 0.56461379],\n",
       "       [0.51793135, 0.49048019, 0.55258536, 0.49813345, 0.5647342 ],\n",
       "       [0.51791791, 0.49046055, 0.55256757, 0.49811687, 0.56484448],\n",
       "       [0.5179058 , 0.49044281, 0.55255149, 0.4981019 , 0.56494544],\n",
       "       [0.5178949 , 0.49042677, 0.55253695, 0.49808838, 0.56503784],\n",
       "       [0.51788506, 0.49041226, 0.55252379, 0.49807615, 0.56512236],\n",
       "       [0.51787619, 0.49039913, 0.55251189, 0.4980651 , 0.56519967],\n",
       "       [0.51786817, 0.49038724, 0.5525011 , 0.49805509, 0.56527034],\n",
       "       [0.51786092, 0.49037646, 0.55249132, 0.49804603, 0.56533494],\n",
       "       [0.51785437, 0.49036669, 0.55248246, 0.49803782, 0.56539397],\n",
       "       [0.51784843, 0.49035783, 0.55247442, 0.49803037, 0.5654479 ],\n",
       "       [0.51784306, 0.49034979, 0.55246712, 0.49802362, 0.56549716],\n",
       "       [0.51783819, 0.49034249, 0.5524605 , 0.49801749, 0.56554215],\n",
       "       [0.51783377, 0.49033586, 0.55245448, 0.49801193, 0.56558322],\n",
       "       [0.51782977, 0.49032984, 0.55244901, 0.49800688, 0.56562073],\n",
       "       [0.51782614, 0.49032437, 0.55244405, 0.49800229, 0.56565496],\n",
       "       [0.51782284, 0.49031939, 0.55243953, 0.49799812, 0.56568621],\n",
       "       [0.51781984, 0.49031487, 0.55243543, 0.49799434, 0.56571472],\n",
       "       [0.51781712, 0.49031076, 0.55243169, 0.49799089, 0.56574074],\n",
       "       [0.51781465, 0.49030702, 0.5524283 , 0.49798776, 0.56576449],\n",
       "       [0.5178124 , 0.49030362, 0.55242521, 0.49798491, 0.56578615],\n",
       "       [0.51781036, 0.49030052, 0.5524224 , 0.49798232, 0.56580591],\n",
       "       [0.5178085 , 0.4902977 , 0.55241984, 0.49797996, 0.56582394],\n",
       "       [0.51780681, 0.49029514, 0.55241751, 0.49797781, 0.56584039],\n",
       "       [0.51780528, 0.4902928 , 0.55241539, 0.49797586, 0.56585539],\n",
       "       [0.51780388, 0.49029068, 0.55241346, 0.49797408, 0.56586907],\n",
       "       [0.51780261, 0.49028874, 0.55241171, 0.49797246, 0.56588155],\n",
       "       [0.51780145, 0.49028698, 0.55241011, 0.49797099, 0.56589293],\n",
       "       [0.51780039, 0.49028538, 0.55240865, 0.49796965, 0.56590331],\n",
       "       [0.51779943, 0.49028392, 0.55240732, 0.49796843, 0.56591277],\n",
       "       [0.51779856, 0.49028258, 0.55240611, 0.49796731, 0.5659214 ],\n",
       "       [0.51779777, 0.49028137, 0.55240501, 0.4979663 , 0.56592927],\n",
       "       [0.51779704, 0.49028027, 0.55240401, 0.49796538, 0.56593645],\n",
       "       [0.51779638, 0.49027926, 0.5524031 , 0.49796454, 0.56594299],\n",
       "       [0.51779578, 0.49027834, 0.55240226, 0.49796377, 0.56594896],\n",
       "       [0.51779523, 0.49027751, 0.55240151, 0.49796307, 0.5659544 ],\n",
       "       [0.51779473, 0.49027675, 0.55240081, 0.49796243, 0.56595936],\n",
       "       [0.51779428, 0.49027605, 0.55240018, 0.49796185, 0.56596388],\n",
       "       [0.51779386, 0.49027542, 0.55239961, 0.49796133, 0.565968  ],\n",
       "       [0.51779349, 0.49027485, 0.55239909, 0.49796085, 0.56597176],\n",
       "       [0.51779314, 0.49027432, 0.55239861, 0.49796041, 0.56597519],\n",
       "       [0.51779283, 0.49027384, 0.55239818, 0.49796001, 0.56597831],\n",
       "       [0.51779254, 0.49027341, 0.55239778, 0.49795964, 0.56598116],\n",
       "       [0.51779228, 0.49027301, 0.55239742, 0.49795931, 0.56598376],\n",
       "       [0.51779205, 0.49027265, 0.55239709, 0.49795901, 0.56598613],\n",
       "       [0.51779183, 0.49027232, 0.55239679, 0.49795873, 0.56598828],\n",
       "       [0.51779163, 0.49027202, 0.55239652, 0.49795848, 0.56599025],\n",
       "       [0.51779146, 0.49027174, 0.55239627, 0.49795825, 0.56599205],\n",
       "       [0.51779129, 0.49027149, 0.55239604, 0.49795804, 0.56599368],\n",
       "       [0.51779114, 0.49027127, 0.55239584, 0.49795785, 0.56599517],\n",
       "       [0.51779101, 0.49027106, 0.55239565, 0.49795768, 0.56599653],\n",
       "       [0.51779088, 0.49027087, 0.55239548, 0.49795752, 0.56599777],\n",
       "       [0.51779077, 0.4902707 , 0.55239532, 0.49795738, 0.5659989 ],\n",
       "       [0.51779067, 0.49027054, 0.55239518, 0.49795725, 0.56599993],\n",
       "       [0.51779057, 0.4902704 , 0.55239505, 0.49795713, 0.56600087],\n",
       "       [0.51779049, 0.49027027, 0.55239493, 0.49795702, 0.56600172],\n",
       "       [0.51779041, 0.49027015, 0.55239482, 0.49795692, 0.5660025 ],\n",
       "       [0.51779034, 0.49027004, 0.55239472, 0.49795683, 0.56600322],\n",
       "       [0.51779027, 0.49026994, 0.55239463, 0.49795675, 0.56600386],\n",
       "       [0.51779022, 0.49026985, 0.55239455, 0.49795667, 0.56600446],\n",
       "       [0.51779016, 0.49026977, 0.55239448, 0.4979566 , 0.56600499],\n",
       "       [0.51779011, 0.49026969, 0.55239441, 0.49795654, 0.56600549],\n",
       "       [0.51779007, 0.49026962, 0.55239435, 0.49795648, 0.56600593],\n",
       "       [0.51779003, 0.49026956, 0.55239429, 0.49795643, 0.56600634],\n",
       "       [0.51778999, 0.49026951, 0.55239424, 0.49795638, 0.56600671],\n",
       "       [0.51778996, 0.49026945, 0.55239419, 0.49795634, 0.56600705],\n",
       "       [0.51778993, 0.49026941, 0.55239415, 0.4979563 , 0.56600736],\n",
       "       [0.5177899 , 0.49026936, 0.55239411, 0.49795626, 0.56600764],\n",
       "       [0.51778987, 0.49026932, 0.55239407, 0.49795623, 0.5660079 ],\n",
       "       [0.51778985, 0.49026929, 0.55239404, 0.4979562 , 0.56600813],\n",
       "       [0.51778983, 0.49026926, 0.55239401, 0.49795617, 0.56600835],\n",
       "       [0.51778981, 0.49026923, 0.55239398, 0.49795615, 0.56600854],\n",
       "       [0.51778979, 0.4902692 , 0.55239396, 0.49795613, 0.56600872],\n",
       "       [0.51778977, 0.49026918, 0.55239394, 0.49795611, 0.56600888],\n",
       "       [0.51778976, 0.49026915, 0.55239392, 0.49795609, 0.56600903],\n",
       "       [0.51778975, 0.49026913, 0.5523939 , 0.49795607, 0.56600916],\n",
       "       [0.51778973, 0.49026911, 0.55239388, 0.49795605, 0.56600929],\n",
       "       [0.51778972, 0.4902691 , 0.55239387, 0.49795604, 0.5660094 ],\n",
       "       [0.51778971, 0.49026908, 0.55239385, 0.49795603, 0.5660095 ],\n",
       "       [0.5177897 , 0.49026907, 0.55239384, 0.49795602, 0.56600959],\n",
       "       [0.5177897 , 0.49026905, 0.55239383, 0.49795601, 0.56600968],\n",
       "       [0.51778969, 0.49026904, 0.55239382, 0.497956  , 0.56600975],\n",
       "       [0.51778968, 0.49026903, 0.55239381, 0.49795599, 0.56600983],\n",
       "       [0.51778967, 0.49026902, 0.5523938 , 0.49795598, 0.56600989],\n",
       "       [0.51778967, 0.49026901, 0.55239379, 0.49795597, 0.56600995],\n",
       "       [0.51778966, 0.490269  , 0.55239378, 0.49795596, 0.56601   ],\n",
       "       [0.51778966, 0.490269  , 0.55239378, 0.49795596, 0.56601005],\n",
       "       [0.51778965, 0.49026899, 0.55239377, 0.49795595, 0.56601009],\n",
       "       [0.51778965, 0.49026898, 0.55239376, 0.49795595, 0.56601013],\n",
       "       [0.51778965, 0.49026898, 0.55239376, 0.49795594, 0.56601017],\n",
       "       [0.51778964, 0.49026897, 0.55239375, 0.49795594, 0.5660102 ],\n",
       "       [0.51778964, 0.49026897, 0.55239375, 0.49795593, 0.56601023],\n",
       "       [0.51778964, 0.49026896, 0.55239375, 0.49795593, 0.56601026],\n",
       "       [0.51778963, 0.49026896, 0.55239374, 0.49795593, 0.56601029],\n",
       "       [0.51778963, 0.49026896, 0.55239374, 0.49795592, 0.56601031],\n",
       "       [0.51778963, 0.49026895, 0.55239374, 0.49795592, 0.56601033],\n",
       "       [0.51778963, 0.49026895, 0.55239373, 0.49795592, 0.56601035],\n",
       "       [0.51778963, 0.49026895, 0.55239373, 0.49795592, 0.56601037],\n",
       "       [0.51778962, 0.49026895, 0.55239373, 0.49795591, 0.56601039],\n",
       "       [0.51778962, 0.49026894, 0.55239373, 0.49795591, 0.5660104 ],\n",
       "       [0.51778962, 0.49026894, 0.55239372, 0.49795591, 0.56601041],\n",
       "       [0.51778962, 0.49026894, 0.55239372, 0.49795591, 0.56601043],\n",
       "       [0.51778962, 0.49026894, 0.55239372, 0.49795591, 0.56601044],\n",
       "       [0.51778962, 0.49026894, 0.55239372, 0.49795591, 0.56601045],\n",
       "       [0.51778962, 0.49026894, 0.55239372, 0.49795591, 0.56601046],\n",
       "       [0.51778962, 0.49026893, 0.55239372, 0.4979559 , 0.56601046],\n",
       "       [0.51778962, 0.49026893, 0.55239372, 0.4979559 , 0.56601047],\n",
       "       [0.51778962, 0.49026893, 0.55239372, 0.4979559 , 0.56601048],\n",
       "       [0.51778961, 0.49026893, 0.55239371, 0.4979559 , 0.56601048],\n",
       "       [0.51778961, 0.49026893, 0.55239371, 0.4979559 , 0.56601049],\n",
       "       [0.51778961, 0.49026893, 0.55239371, 0.4979559 , 0.5660105 ],\n",
       "       [0.51778961, 0.49026893, 0.55239371, 0.4979559 , 0.5660105 ],\n",
       "       [0.51778961, 0.49026893, 0.55239371, 0.4979559 , 0.5660105 ],\n",
       "       [0.51778961, 0.49026893, 0.55239371, 0.4979559 , 0.56601051],\n",
       "       [0.51778961, 0.49026893, 0.55239371, 0.4979559 , 0.56601051],\n",
       "       [0.51778961, 0.49026893, 0.55239371, 0.4979559 , 0.56601052],\n",
       "       [0.51778961, 0.49026893, 0.55239371, 0.4979559 , 0.56601052],\n",
       "       [0.51778961, 0.49026893, 0.55239371, 0.4979559 , 0.56601052],\n",
       "       [0.51778961, 0.49026892, 0.55239371, 0.4979559 , 0.56601052],\n",
       "       [0.51778961, 0.49026892, 0.55239371, 0.4979559 , 0.56601053],\n",
       "       [0.51778961, 0.49026892, 0.55239371, 0.4979559 , 0.56601053],\n",
       "       [0.51778961, 0.49026892, 0.55239371, 0.4979559 , 0.56601053],\n",
       "       [0.51778961, 0.49026892, 0.55239371, 0.4979559 , 0.56601053],\n",
       "       [0.51778961, 0.49026892, 0.55239371, 0.4979559 , 0.56601053],\n",
       "       [0.51778961, 0.49026892, 0.55239371, 0.4979559 , 0.56601054],\n",
       "       [0.51778961, 0.49026892, 0.55239371, 0.4979559 , 0.56601054],\n",
       "       [0.51778961, 0.49026892, 0.55239371, 0.4979559 , 0.56601054],\n",
       "       [0.51778961, 0.49026892, 0.55239371, 0.4979559 , 0.56601054],\n",
       "       [0.51778961, 0.49026892, 0.55239371, 0.4979559 , 0.56601054],\n",
       "       [0.51778961, 0.49026892, 0.55239371, 0.4979559 , 0.56601054],\n",
       "       [0.51778961, 0.49026892, 0.55239371, 0.4979559 , 0.56601054],\n",
       "       [0.51778961, 0.49026892, 0.55239371, 0.49795589, 0.56601054],\n",
       "       [0.51778961, 0.49026892, 0.55239371, 0.49795589, 0.56601054],\n",
       "       [0.51778961, 0.49026892, 0.55239371, 0.49795589, 0.56601054],\n",
       "       [0.51778961, 0.49026892, 0.55239371, 0.49795589, 0.56601054],\n",
       "       [0.51778961, 0.49026892, 0.55239371, 0.49795589, 0.56601054],\n",
       "       [0.51778961, 0.49026892, 0.55239371, 0.49795589, 0.56601055],\n",
       "       [0.51778961, 0.49026892, 0.55239371, 0.49795589, 0.56601055],\n",
       "       [0.51778961, 0.49026892, 0.55239371, 0.49795589, 0.56601055],\n",
       "       [0.51778961, 0.49026892, 0.55239371, 0.49795589, 0.56601055],\n",
       "       [0.51778961, 0.49026892, 0.55239371, 0.49795589, 0.56601055],\n",
       "       [0.51778961, 0.49026892, 0.55239371, 0.49795589, 0.56601055],\n",
       "       [0.51778961, 0.49026892, 0.55239371, 0.49795589, 0.56601055],\n",
       "       [0.51778961, 0.49026892, 0.55239371, 0.49795589, 0.56601055],\n",
       "       [0.51778961, 0.49026892, 0.55239371, 0.49795589, 0.56601055],\n",
       "       [0.51778961, 0.49026892, 0.55239371, 0.49795589, 0.56601055],\n",
       "       [0.51778961, 0.49026892, 0.55239371, 0.49795589, 0.56601055],\n",
       "       [0.51778961, 0.49026892, 0.55239371, 0.49795589, 0.56601055],\n",
       "       [0.51778961, 0.49026892, 0.55239371, 0.49795589, 0.56601055],\n",
       "       [0.51778961, 0.49026892, 0.55239371, 0.49795589, 0.56601055],\n",
       "       [0.51778961, 0.49026892, 0.55239371, 0.49795589, 0.56601055],\n",
       "       [0.51778961, 0.49026892, 0.55239371, 0.49795589, 0.56601055],\n",
       "       [0.51778961, 0.49026892, 0.55239371, 0.49795589, 0.56601055],\n",
       "       [0.51778961, 0.49026892, 0.55239371, 0.49795589, 0.56601055],\n",
       "       [0.51778961, 0.49026892, 0.55239371, 0.49795589, 0.56601055],\n",
       "       [0.51778961, 0.49026892, 0.55239371, 0.49795589, 0.56601055],\n",
       "       [0.51778961, 0.49026892, 0.55239371, 0.49795589, 0.56601055],\n",
       "       [0.51778961, 0.49026892, 0.55239371, 0.49795589, 0.56601055],\n",
       "       [0.51778961, 0.49026892, 0.55239371, 0.49795589, 0.56601055],\n",
       "       [0.51778961, 0.49026892, 0.55239371, 0.49795589, 0.56601055],\n",
       "       [0.51778961, 0.49026892, 0.55239371, 0.49795589, 0.56601055],\n",
       "       [0.51778961, 0.49026892, 0.55239371, 0.49795589, 0.56601055],\n",
       "       [0.51778961, 0.49026892, 0.55239371, 0.49795589, 0.56601055],\n",
       "       [0.51778961, 0.49026892, 0.55239371, 0.49795589, 0.56601055],\n",
       "       [0.51778961, 0.49026892, 0.55239371, 0.49795589, 0.56601055],\n",
       "       [0.51778961, 0.49026892, 0.55239371, 0.49795589, 0.56601055],\n",
       "       [0.51778961, 0.49026892, 0.55239371, 0.49795589, 0.56601055],\n",
       "       [0.51778961, 0.49026892, 0.55239371, 0.49795589, 0.56601055],\n",
       "       [0.51778961, 0.49026892, 0.55239371, 0.49795589, 0.56601055]])"
      ]
     },
     "execution_count": 50,
     "metadata": {},
     "output_type": "execute_result"
    }
   ],
   "source": [
    "lasso.mse_path_"
   ]
  },
  {
   "cell_type": "code",
   "execution_count": 51,
   "metadata": {},
   "outputs": [
    {
     "data": {
      "text/plain": [
       "(200, 5)"
      ]
     },
     "execution_count": 51,
     "metadata": {},
     "output_type": "execute_result"
    }
   ],
   "source": [
    "lasso.mse_path_.shape"
   ]
  },
  {
   "cell_type": "code",
   "execution_count": 52,
   "metadata": {},
   "outputs": [
    {
     "data": {
      "text/plain": [
       "array([ 4.29867301e-01,  1.03623683e-02, -9.32648616e-02,  5.51755252e-01,\n",
       "        1.14732262e-06, -3.31941716e-03, -4.10451223e-01, -4.22410330e-01])"
      ]
     },
     "execution_count": 52,
     "metadata": {},
     "output_type": "execute_result"
    }
   ],
   "source": [
    "lasso.coef_"
   ]
  },
  {
   "cell_type": "code",
   "execution_count": 53,
   "metadata": {},
   "outputs": [
    {
     "data": {
      "text/plain": [
       "0.0020954551690628535"
      ]
     },
     "execution_count": 53,
     "metadata": {},
     "output_type": "execute_result"
    }
   ],
   "source": [
    "# 正则化路径\n",
    "ls = LassoCV(eps=0.00001, n_alphas=300, cv=5).fit(Xtrain, Ytrain)\n",
    "ls.alpha_"
   ]
  },
  {
   "cell_type": "code",
   "execution_count": 54,
   "metadata": {},
   "outputs": [
    {
     "data": {
      "text/plain": [
       "array([ 4.29785372e-01,  1.03639989e-02, -9.31060823e-02,  5.50940621e-01,\n",
       "        1.15407943e-06, -3.31909776e-03, -4.10423420e-01, -4.22369926e-01])"
      ]
     },
     "execution_count": 54,
     "metadata": {},
     "output_type": "execute_result"
    }
   ],
   "source": [
    "ls.coef_"
   ]
  },
  {
   "cell_type": "code",
   "execution_count": 55,
   "metadata": {},
   "outputs": [
    {
     "data": {
      "text/plain": [
       "0.6038915423819202"
      ]
     },
     "execution_count": 55,
     "metadata": {},
     "output_type": "execute_result"
    }
   ],
   "source": [
    "ls.score(Xtest, Ytest)"
   ]
  },
  {
   "cell_type": "markdown",
   "metadata": {},
   "source": [
    "# 弹性网络"
   ]
  },
  {
   "cell_type": "code",
   "execution_count": 56,
   "metadata": {},
   "outputs": [
    {
     "data": {
      "text/plain": [
       "array([ 3.84380278e-01,  1.38494559e-02,  0.00000000e+00,  0.00000000e+00,\n",
       "        1.43373197e-05, -3.15901410e-03, -2.34959485e-01, -2.28970177e-01])"
      ]
     },
     "execution_count": 56,
     "metadata": {},
     "output_type": "execute_result"
    }
   ],
   "source": [
    "# 弹性网络\n",
    "from sklearn.linear_model import ElasticNet\n",
    "\n",
    "elastic = ElasticNet(alpha=0.1, l1_ratio=0.5).fit(Xtrain, Ytrain)\n",
    "\n",
    "elastic.coef_"
   ]
  },
  {
   "cell_type": "markdown",
   "metadata": {},
   "source": [
    "# 多项式回归"
   ]
  },
  {
   "cell_type": "code",
   "execution_count": 57,
   "metadata": {},
   "outputs": [],
   "source": [
    "import numpy as np\n",
    "import pandas as pd\n",
    "import matplotlib.pyplot as plt\n",
    "from sklearn.linear_model import LinearRegression\n",
    "from sklearn.tree import DecisionTreeRegressor"
   ]
  },
  {
   "cell_type": "code",
   "execution_count": 59,
   "metadata": {},
   "outputs": [
    {
     "data": {
      "text/plain": [
       "array([-0.75275929,  2.70428584,  1.39196365,  0.59195091, -2.06388816,\n",
       "       -2.06403288, -2.65149833,  2.19705687,  0.60669007,  1.24843547,\n",
       "       -2.87649303,  2.81945911,  1.99465584, -1.72596534, -1.9090502 ,\n",
       "       -1.89957294, -1.17454654,  0.14853859, -0.40832989, -1.25262516,\n",
       "        0.67111737, -2.16303684, -1.24713211, -0.80182894, -0.26358009,\n",
       "        1.71105577, -1.80195731,  0.08540663,  0.55448741, -2.72129752,\n",
       "        0.64526911, -1.97685526, -2.60969044,  2.69331322,  2.7937922 ,\n",
       "        1.85038409, -1.17231738, -2.41396732,  1.10539816, -0.35908504,\n",
       "       -2.26777059, -0.02893854, -2.79366887,  2.45592241, -1.44732011,\n",
       "        0.97513371, -1.12973354,  0.12040813,  0.28026168, -1.89087327,\n",
       "        2.81750777,  1.65079694,  2.63699365,  2.3689641 ,  0.58739987,\n",
       "        2.53124541, -2.46904499, -1.82410283, -2.72863627, -1.04801802,\n",
       "       -0.66793626, -1.37190581,  1.97242505, -0.85948004, -1.31439294,\n",
       "        0.2561765 , -2.15445465,  1.81318188, -2.55269614,  2.92132162,\n",
       "        1.63346862, -1.80770591, -2.9668673 ,  1.89276857,  1.24114406,\n",
       "        1.37404301,  1.62762208, -2.55573209, -0.84920563, -2.30478564,\n",
       "        2.17862056,  0.73978876, -1.01461185, -2.6186499 , -1.13410607,\n",
       "       -1.04890007,  1.37763707,  0.82534483,  2.32327646, -0.16671045,\n",
       "       -2.28243452,  1.27946872,  1.56471029,  0.36766319,  1.62580308,\n",
       "       -0.03722642,  0.13639698, -0.43475389, -2.84748524, -2.35265144])"
      ]
     },
     "execution_count": 59,
     "metadata": {},
     "output_type": "execute_result"
    }
   ],
   "source": [
    "rnd = np.random.RandomState(42)\n",
    "X = rnd.uniform(-3, 3, size=100)\n",
    "X"
   ]
  },
  {
   "cell_type": "code",
   "execution_count": 60,
   "metadata": {},
   "outputs": [
    {
     "data": {
      "text/plain": [
       "array([-6.54639413e-01,  3.23832143e-01,  1.01463893e+00, -1.04541922e-01,\n",
       "       -9.54097511e-01, -7.61767511e-01,  2.19222347e-02,  6.37468193e-01,\n",
       "        3.00653482e-01,  7.81237778e-01,  4.31286305e-02,  4.26174779e-01,\n",
       "        7.34921650e-01, -8.16896281e-01, -9.10976357e-01, -6.23556402e-01,\n",
       "       -1.15653261e+00,  3.87722577e-02, -5.27779796e-01, -1.43764744e+00,\n",
       "        7.20568176e-01, -7.42673638e-01, -9.46371922e-01, -7.96824836e-01,\n",
       "       -7.32328912e-01,  8.49964652e-01, -1.08763923e+00, -1.82122918e-01,\n",
       "        4.72745679e-01, -2.73346296e-01,  1.23014210e+00, -8.60492039e-01,\n",
       "       -4.21323537e-01,  4.08600304e-01, -2.98759618e-01,  9.52331322e-01,\n",
       "       -9.01575520e-01,  1.55982485e-01,  8.29522626e-01, -2.50901995e-01,\n",
       "       -7.78358506e-01, -4.18493846e-01,  3.99942125e-02,  8.83836261e-01,\n",
       "       -7.28709177e-01,  5.24647761e-01, -4.36700367e-01, -3.47166298e-01,\n",
       "        4.72226156e-01, -2.19059337e-01, -1.17373303e-02,  8.08035747e-01,\n",
       "        5.16673582e-01,  5.30194678e-01,  3.73107829e-02,  5.96006368e-01,\n",
       "       -9.77082123e-01, -8.10224942e-01, -7.07793691e-01, -3.49790543e-01,\n",
       "       -8.80451494e-01, -1.08764023e+00,  1.19159792e+00, -1.16779132e+00,\n",
       "       -8.91488367e-01,  6.89097940e-01, -1.37027995e+00,  1.03231278e+00,\n",
       "       -4.68816156e-01,  4.79101740e-01,  5.85719831e-01, -1.41222014e+00,\n",
       "        1.42839751e-04,  1.04760806e+00,  1.02965258e+00,  1.09618916e+00,\n",
       "        7.71710944e-01, -4.75498741e-01, -6.53065072e-01, -9.80625265e-01,\n",
       "        1.44281734e+00,  8.32076210e-01, -1.24637686e+00, -2.80580559e-01,\n",
       "       -1.23105035e+00, -6.04513872e-01,  1.36760121e+00,  4.61220951e-01,\n",
       "        1.05112144e+00, -2.83456659e-02, -4.83272973e-01,  1.59012773e+00,\n",
       "        9.18185441e-01,  1.08190382e-01,  7.01982700e-01, -3.09154586e-01,\n",
       "        1.10273875e-01, -3.07469874e-01, -1.97655440e-01, -4.33879904e-01])"
      ]
     },
     "execution_count": 60,
     "metadata": {},
     "output_type": "execute_result"
    }
   ],
   "source": [
    "# 生成y\n",
    "y = np.sin(X) + rnd.normal(size=len(X)) / 3\n",
    "y"
   ]
  },
  {
   "cell_type": "code",
   "execution_count": 61,
   "metadata": {},
   "outputs": [
    {
     "data": {
      "image/png": "[encoded data removed]",
      "text/plain": [
       "<Figure size 640x480 with 1 Axes>"
      ]
     },
     "metadata": {},
     "output_type": "display_data"
    }
   ],
   "source": [
    "# 生成图\n",
    "plt.figure()\n",
    "plt.scatter(X, y, c=\"orange\", edgecolor=\"k\", s=20)\n",
    "plt.show()"
   ]
  },
  {
   "cell_type": "code",
   "execution_count": 62,
   "metadata": {},
   "outputs": [
    {
     "data": {
      "text/plain": [
       "(100,)"
      ]
     },
     "execution_count": 62,
     "metadata": {},
     "output_type": "execute_result"
    }
   ],
   "source": [
    "X.shape"
   ]
  },
  {
   "cell_type": "code",
   "execution_count": 65,
   "metadata": {},
   "outputs": [],
   "source": [
    "X = X.reshape(-1, 1)"
   ]
  },
  {
   "cell_type": "code",
   "execution_count": 67,
   "metadata": {},
   "outputs": [],
   "source": [
    "LinearR = LinearRegression().fit(X, y)\n",
    "TreeR = DecisionTreeRegressor(random_state=0).fit(X, y)"
   ]
  },
  {
   "cell_type": "code",
   "execution_count": 68,
   "metadata": {},
   "outputs": [
    {
     "data": {
      "image/png": "[encoded data removed]",
      "text/plain": [
       "<Figure size 640x480 with 1 Axes>"
      ]
     },
     "metadata": {},
     "output_type": "display_data"
    }
   ],
   "source": [
    "# 放置画布\n",
    "fig, ax1 = plt.subplots(1)\n",
    "\n",
    "# 生成测试数据\n",
    "line = np.linspace(-3, 3, 1000, endpoint=False).reshape(-1, 1)\n",
    "\n",
    "# 预测\n",
    "ax1.plot(line, TreeR.predict(line), linewidth=2, color=\"green\", label=\"Tree\")\n",
    "ax1.plot(line, LinearR.predict(line), linewidth=2, color=\"red\", label=\"Linear\")\n",
    "\n",
    "# 绘制原数据\n",
    "ax1.plot(X[:, 0], y, 'o', c=\"k\")\n",
    "\n",
    "# 图例\n",
    "ax1.legend(loc=\"best\")\n",
    "\n",
    "plt.show()"
   ]
  },
  {
   "cell_type": "markdown",
   "metadata": {},
   "source": [
    "## 分箱"
   ]
  },
  {
   "cell_type": "markdown",
   "metadata": {},
   "source": [
    "分成若干个区间，分段拟合"
   ]
  },
  {
   "cell_type": "code",
   "execution_count": 69,
   "metadata": {},
   "outputs": [],
   "source": [
    "# 适用分箱处理非线性问题\n",
    "from sklearn.preprocessing import KBinsDiscretizer\n",
    "\n",
    "# 分箱\n",
    "enc = KBinsDiscretizer(n_bins=10, encode=\"onehot\")\n",
    "\n",
    "X_binned = enc.fit_transform(X)"
   ]
  },
  {
   "cell_type": "code",
   "execution_count": 70,
   "metadata": {},
   "outputs": [
    {
     "data": {
      "text/plain": [
       "<100x10 sparse matrix of type '<class 'numpy.float64'>'\n",
       "\twith 100 stored elements in Compressed Sparse Row format>"
      ]
     },
     "execution_count": 70,
     "metadata": {},
     "output_type": "execute_result"
    }
   ],
   "source": [
    "X_binned"
   ]
  },
  {
   "cell_type": "code",
   "execution_count": 72,
   "metadata": {},
   "outputs": [
    {
     "data": {
      "text/plain": [
       "array([[ 2.70428584],\n",
       "       [ 1.39196365],\n",
       "       [ 0.59195091],\n",
       "       [-2.06388816],\n",
       "       [-2.06403288],\n",
       "       [-2.65149833],\n",
       "       [ 2.19705687],\n",
       "       [ 0.60669007],\n",
       "       [ 1.24843547]])"
      ]
     },
     "execution_count": 72,
     "metadata": {},
     "output_type": "execute_result"
    }
   ],
   "source": [
    "X[1:10]"
   ]
  },
  {
   "cell_type": "code",
   "execution_count": 71,
   "metadata": {},
   "outputs": [
    {
     "data": {
      "text/html": [
       "<div>\n",
       "<style scoped>\n",
       "    .dataframe tbody tr th:only-of-type {\n",
       "        vertical-align: middle;\n",
       "    }\n",
       "\n",
       "    .dataframe tbody tr th {\n",
       "        vertical-align: top;\n",
       "    }\n",
       "\n",
       "    .dataframe thead th {\n",
       "        text-align: right;\n",
       "    }\n",
       "</style>\n",
       "<table border=\"1\" class=\"dataframe\">\n",
       "  <thead>\n",
       "    <tr style=\"text-align: right;\">\n",
       "      <th></th>\n",
       "      <th>0</th>\n",
       "      <th>1</th>\n",
       "      <th>2</th>\n",
       "      <th>3</th>\n",
       "      <th>4</th>\n",
       "      <th>5</th>\n",
       "      <th>6</th>\n",
       "      <th>7</th>\n",
       "      <th>8</th>\n",
       "      <th>9</th>\n",
       "    </tr>\n",
       "  </thead>\n",
       "  <tbody>\n",
       "    <tr>\n",
       "      <th>0</th>\n",
       "      <td>0.0</td>\n",
       "      <td>0.0</td>\n",
       "      <td>0.0</td>\n",
       "      <td>0.0</td>\n",
       "      <td>1.0</td>\n",
       "      <td>0.0</td>\n",
       "      <td>0.0</td>\n",
       "      <td>0.0</td>\n",
       "      <td>0.0</td>\n",
       "      <td>0.0</td>\n",
       "    </tr>\n",
       "    <tr>\n",
       "      <th>1</th>\n",
       "      <td>0.0</td>\n",
       "      <td>0.0</td>\n",
       "      <td>0.0</td>\n",
       "      <td>0.0</td>\n",
       "      <td>0.0</td>\n",
       "      <td>0.0</td>\n",
       "      <td>0.0</td>\n",
       "      <td>0.0</td>\n",
       "      <td>0.0</td>\n",
       "      <td>1.0</td>\n",
       "    </tr>\n",
       "    <tr>\n",
       "      <th>2</th>\n",
       "      <td>0.0</td>\n",
       "      <td>0.0</td>\n",
       "      <td>0.0</td>\n",
       "      <td>0.0</td>\n",
       "      <td>0.0</td>\n",
       "      <td>0.0</td>\n",
       "      <td>0.0</td>\n",
       "      <td>1.0</td>\n",
       "      <td>0.0</td>\n",
       "      <td>0.0</td>\n",
       "    </tr>\n",
       "    <tr>\n",
       "      <th>3</th>\n",
       "      <td>0.0</td>\n",
       "      <td>0.0</td>\n",
       "      <td>0.0</td>\n",
       "      <td>0.0</td>\n",
       "      <td>0.0</td>\n",
       "      <td>0.0</td>\n",
       "      <td>1.0</td>\n",
       "      <td>0.0</td>\n",
       "      <td>0.0</td>\n",
       "      <td>0.0</td>\n",
       "    </tr>\n",
       "    <tr>\n",
       "      <th>4</th>\n",
       "      <td>0.0</td>\n",
       "      <td>0.0</td>\n",
       "      <td>1.0</td>\n",
       "      <td>0.0</td>\n",
       "      <td>0.0</td>\n",
       "      <td>0.0</td>\n",
       "      <td>0.0</td>\n",
       "      <td>0.0</td>\n",
       "      <td>0.0</td>\n",
       "      <td>0.0</td>\n",
       "    </tr>\n",
       "  </tbody>\n",
       "</table>\n",
       "</div>"
      ],
      "text/plain": [
       "     0    1    2    3    4    5    6    7    8    9\n",
       "0  0.0  0.0  0.0  0.0  1.0  0.0  0.0  0.0  0.0  0.0\n",
       "1  0.0  0.0  0.0  0.0  0.0  0.0  0.0  0.0  0.0  1.0\n",
       "2  0.0  0.0  0.0  0.0  0.0  0.0  0.0  1.0  0.0  0.0\n",
       "3  0.0  0.0  0.0  0.0  0.0  0.0  1.0  0.0  0.0  0.0\n",
       "4  0.0  0.0  1.0  0.0  0.0  0.0  0.0  0.0  0.0  0.0"
      ]
     },
     "execution_count": 71,
     "metadata": {},
     "output_type": "execute_result"
    }
   ],
   "source": [
    "import pandas as pd\n",
    "pd.DataFrame(X_binned.toarray()).head()"
   ]
  },
  {
   "cell_type": "code",
   "execution_count": 76,
   "metadata": {},
   "outputs": [
    {
     "data": {
      "text/plain": [
       "array([-0.22510103, -0.22510103, -0.22510103, -0.22510103, -0.22510103,\n",
       "       -0.22510103, -0.22510103, -0.22510103, -0.22510103, -0.22510103,\n",
       "       -0.22510103, -0.22510103, -0.22510103, -0.22510103, -0.22510103,\n",
       "       -0.22510103, -0.22510103, -0.22510103, -0.22510103, -0.22510103,\n",
       "       -0.22510103, -0.22510103, -0.22510103, -0.22510103, -0.22510103,\n",
       "       -0.22510103, -0.22510103, -0.22510103, -0.22510103, -0.22510103,\n",
       "       -0.22510103, -0.22510103, -0.22510103, -0.22510103, -0.22510103,\n",
       "       -0.22510103, -0.22510103, -0.22510103, -0.22510103, -0.22510103,\n",
       "       -0.22510103, -0.22510103, -0.22510103, -0.22510103, -0.22510103,\n",
       "       -0.22510103, -0.22510103, -0.22510103, -0.22510103, -0.22510103,\n",
       "       -0.22510103, -0.22510103, -0.22510103, -0.22510103, -0.22510103,\n",
       "       -0.22510103, -0.22510103, -0.22510103, -0.22510103, -0.22510103,\n",
       "       -0.22510103, -0.22510103, -0.22510103, -0.22510103, -0.22510103,\n",
       "       -0.22510103, -0.22510103, -0.22510103, -0.22510103, -0.22510103,\n",
       "       -0.22510103, -0.22510103, -0.22510103, -0.22510103, -0.22510103,\n",
       "       -0.68407735, -0.68407735, -0.68407735, -0.68407735, -0.68407735,\n",
       "       -0.68407735, -0.68407735, -0.68407735, -0.68407735, -0.68407735,\n",
       "       -0.68407735, -0.68407735, -0.68407735, -0.68407735, -0.68407735,\n",
       "       -0.68407735, -0.68407735, -0.68407735, -0.68407735, -0.68407735,\n",
       "       -0.68407735, -0.68407735, -0.68407735, -0.68407735, -0.68407735,\n",
       "       -0.68407735, -0.68407735, -0.68407735, -0.68407735, -0.68407735,\n",
       "       -0.68407735, -0.68407735, -0.68407735, -0.68407735, -0.68407735,\n",
       "       -0.68407735, -0.68407735, -0.68407735, -0.68407735, -0.68407735,\n",
       "       -0.68407735, -0.68407735, -0.68407735, -0.68407735, -0.68407735,\n",
       "       -0.68407735, -0.68407735, -0.68407735, -0.68407735, -0.68407735,\n",
       "       -0.68407735, -0.68407735, -0.68407735, -0.68407735, -0.68407735,\n",
       "       -0.68407735, -0.68407735, -0.68407735, -0.68407735, -0.68407735,\n",
       "       -0.68407735, -0.68407735, -0.68407735, -0.68407735, -0.68407735,\n",
       "       -0.68407735, -0.68407735, -0.68407735, -0.68407735, -0.68407735,\n",
       "       -0.68407735, -0.68407735, -0.68407735, -0.68407735, -0.68407735,\n",
       "       -0.68407735, -0.68407735, -0.68407735, -0.68407735, -0.68407735,\n",
       "       -0.68407735, -0.68407735, -0.84238714, -0.84238714, -0.84238714,\n",
       "       -0.84238714, -0.84238714, -0.84238714, -0.84238714, -0.84238714,\n",
       "       -0.84238714, -0.84238714, -0.84238714, -0.84238714, -0.84238714,\n",
       "       -0.84238714, -0.84238714, -0.84238714, -0.84238714, -0.84238714,\n",
       "       -0.84238714, -0.84238714, -0.84238714, -0.84238714, -0.84238714,\n",
       "       -0.84238714, -0.84238714, -0.84238714, -0.84238714, -0.84238714,\n",
       "       -0.84238714, -0.84238714, -0.84238714, -0.84238714, -0.84238714,\n",
       "       -0.84238714, -0.84238714, -0.84238714, -0.84238714, -0.84238714,\n",
       "       -0.84238714, -0.84238714, -0.84238714, -0.84238714, -0.84238714,\n",
       "       -0.84238714, -0.84238714, -0.84238714, -0.84238714, -0.84238714,\n",
       "       -0.84238714, -0.84238714, -0.84238714, -0.84238714, -0.84238714,\n",
       "       -0.84238714, -0.84238714, -0.84238714, -0.84238714, -0.84238714,\n",
       "       -0.84238714, -0.84238714, -0.84238714, -0.84238714, -0.84238714,\n",
       "       -0.84238714, -0.84238714, -0.84238714, -0.84238714, -0.84238714,\n",
       "       -0.84238714, -0.84238714, -0.84238714, -0.84238714, -0.84238714,\n",
       "       -0.84238714, -0.84238714, -0.84238714, -0.84238714, -0.84238714,\n",
       "       -0.84238714, -0.84238714, -0.84238714, -0.84238714, -0.84238714,\n",
       "       -0.84238714, -0.84238714, -0.84238714, -0.84238714, -0.84238714,\n",
       "       -0.84238714, -0.84238714, -0.84238714, -0.84238714, -0.84238714,\n",
       "       -0.84238714, -0.84238714, -0.84238714, -0.84238714, -0.84238714,\n",
       "       -0.84238714, -0.84238714, -0.84238714, -0.84238714, -0.84238714,\n",
       "       -0.84238714, -0.84238714, -0.84238714, -0.84238714, -0.84238714,\n",
       "       -0.84238714, -0.84238714, -0.84238714, -0.90433112, -0.90433112,\n",
       "       -0.90433112, -0.90433112, -0.90433112, -0.90433112, -0.90433112,\n",
       "       -0.90433112, -0.90433112, -0.90433112, -0.90433112, -0.90433112,\n",
       "       -0.90433112, -0.90433112, -0.90433112, -0.90433112, -0.90433112,\n",
       "       -0.90433112, -0.90433112, -0.90433112, -0.90433112, -0.90433112,\n",
       "       -0.90433112, -0.90433112, -0.90433112, -0.90433112, -0.90433112,\n",
       "       -0.90433112, -0.90433112, -0.90433112, -0.90433112, -0.90433112,\n",
       "       -0.90433112, -0.90433112, -0.90433112, -0.90433112, -0.90433112,\n",
       "       -0.90433112, -0.90433112, -0.90433112, -0.90433112, -0.90433112,\n",
       "       -0.90433112, -0.90433112, -0.90433112, -0.90433112, -0.90433112,\n",
       "       -0.90433112, -0.90433112, -0.90433112, -0.90433112, -0.90433112,\n",
       "       -0.90433112, -0.90433112, -0.90433112, -0.90433112, -0.90433112,\n",
       "       -0.90433112, -0.90433112, -0.90433112, -0.90433112, -0.72176296,\n",
       "       -0.72176296, -0.72176296, -0.72176296, -0.72176296, -0.72176296,\n",
       "       -0.72176296, -0.72176296, -0.72176296, -0.72176296, -0.72176296,\n",
       "       -0.72176296, -0.72176296, -0.72176296, -0.72176296, -0.72176296,\n",
       "       -0.72176296, -0.72176296, -0.72176296, -0.72176296, -0.72176296,\n",
       "       -0.72176296, -0.72176296, -0.72176296, -0.72176296, -0.72176296,\n",
       "       -0.72176296, -0.72176296, -0.72176296, -0.72176296, -0.72176296,\n",
       "       -0.72176296, -0.72176296, -0.72176296, -0.72176296, -0.72176296,\n",
       "       -0.72176296, -0.72176296, -0.72176296, -0.72176296, -0.72176296,\n",
       "       -0.72176296, -0.72176296, -0.72176296, -0.72176296, -0.72176296,\n",
       "       -0.72176296, -0.72176296, -0.72176296, -0.72176296, -0.72176296,\n",
       "       -0.72176296, -0.72176296, -0.72176296, -0.72176296, -0.72176296,\n",
       "       -0.72176296, -0.72176296, -0.72176296, -0.72176296, -0.72176296,\n",
       "       -0.72176296, -0.72176296, -0.72176296, -0.72176296, -0.72176296,\n",
       "       -0.72176296, -0.72176296, -0.72176296, -0.72176296, -0.72176296,\n",
       "       -0.72176296, -0.72176296, -0.72176296, -0.72176296, -0.72176296,\n",
       "       -0.72176296, -0.72176296, -0.72176296, -0.72176296, -0.72176296,\n",
       "       -0.72176296, -0.72176296, -0.72176296, -0.72176296, -0.72176296,\n",
       "       -0.72176296, -0.72176296, -0.72176296, -0.72176296, -0.72176296,\n",
       "       -0.72176296, -0.72176296, -0.72176296, -0.72176296, -0.72176296,\n",
       "       -0.72176296, -0.72176296, -0.72176296, -0.72176296, -0.72176296,\n",
       "       -0.72176296, -0.72176296, -0.72176296, -0.72176296, -0.72176296,\n",
       "       -0.72176296, -0.72176296, -0.72176296, -0.72176296, -0.72176296,\n",
       "       -0.72176296, -0.72176296, -0.72176296, -0.72176296, -0.72176296,\n",
       "       -0.72176296, -0.72176296, -0.72176296, -0.72176296, -0.72176296,\n",
       "       -0.72176296, -0.72176296, -0.72176296, -0.72176296, -0.72176296,\n",
       "       -0.72176296, -0.72176296, -0.72176296, -0.72176296, -0.72176296,\n",
       "       -0.72176296, -0.72176296, -0.72176296, -0.72176296, -0.72176296,\n",
       "        0.01332773,  0.01332773,  0.01332773,  0.01332773,  0.01332773,\n",
       "        0.01332773,  0.01332773,  0.01332773,  0.01332773,  0.01332773,\n",
       "        0.01332773,  0.01332773,  0.01332773,  0.01332773,  0.01332773,\n",
       "        0.01332773,  0.01332773,  0.01332773,  0.01332773,  0.01332773,\n",
       "        0.01332773,  0.01332773,  0.01332773,  0.01332773,  0.01332773,\n",
       "        0.01332773,  0.01332773,  0.01332773,  0.01332773,  0.01332773,\n",
       "        0.01332773,  0.01332773,  0.01332773,  0.01332773,  0.01332773,\n",
       "        0.01332773,  0.01332773,  0.01332773,  0.01332773,  0.01332773,\n",
       "        0.01332773,  0.01332773,  0.01332773,  0.01332773,  0.01332773,\n",
       "        0.01332773,  0.01332773,  0.01332773,  0.01332773,  0.01332773,\n",
       "        0.01332773,  0.01332773,  0.01332773,  0.01332773,  0.01332773,\n",
       "        0.01332773,  0.01332773,  0.01332773,  0.01332773,  0.01332773,\n",
       "        0.01332773,  0.01332773,  0.01332773,  0.01332773,  0.01332773,\n",
       "        0.01332773,  0.01332773,  0.01332773,  0.01332773,  0.01332773,\n",
       "        0.01332773,  0.01332773,  0.01332773,  0.01332773,  0.01332773,\n",
       "        0.01332773,  0.01332773,  0.01332773,  0.01332773,  0.01332773,\n",
       "        0.01332773,  0.01332773,  0.01332773,  0.01332773,  0.01332773,\n",
       "        0.01332773,  0.01332773,  0.01332773,  0.01332773,  0.01332773,\n",
       "        0.01332773,  0.01332773,  0.01332773,  0.01332773,  0.01332773,\n",
       "        0.01332773,  0.01332773,  0.01332773,  0.01332773,  0.01332773,\n",
       "        0.01332773,  0.01332773,  0.01332773,  0.01332773,  0.01332773,\n",
       "        0.01332773,  0.01332773,  0.01332773,  0.01332773,  0.53043458,\n",
       "        0.53043458,  0.53043458,  0.53043458,  0.53043458,  0.53043458,\n",
       "        0.53043458,  0.53043458,  0.53043458,  0.53043458,  0.53043458,\n",
       "        0.53043458,  0.53043458,  0.53043458,  0.53043458,  0.53043458,\n",
       "        0.53043458,  0.53043458,  0.53043458,  0.53043458,  0.53043458,\n",
       "        0.53043458,  0.53043458,  0.53043458,  0.53043458,  0.53043458,\n",
       "        0.53043458,  0.53043458,  0.53043458,  0.53043458,  0.53043458,\n",
       "        0.53043458,  0.53043458,  0.53043458,  0.53043458,  0.53043458,\n",
       "        0.53043458,  0.53043458,  0.53043458,  0.53043458,  0.53043458,\n",
       "        0.53043458,  0.53043458,  0.53043458,  0.53043458,  0.53043458,\n",
       "        0.53043458,  0.53043458,  0.53043458,  0.53043458,  0.53043458,\n",
       "        0.53043458,  0.53043458,  0.53043458,  0.53043458,  0.53043458,\n",
       "        0.53043458,  0.53043458,  0.53043458,  0.53043458,  0.53043458,\n",
       "        0.53043458,  0.53043458,  0.53043458,  0.53043458,  0.53043458,\n",
       "        0.53043458,  0.53043458,  0.53043458,  0.53043458,  0.53043458,\n",
       "        0.53043458,  0.53043458,  0.53043458,  0.53043458,  0.53043458,\n",
       "        0.53043458,  0.53043458,  0.53043458,  0.53043458,  0.53043458,\n",
       "        0.53043458,  0.53043458,  0.53043458,  0.53043458,  0.53043458,\n",
       "        0.53043458,  0.53043458,  0.53043458,  0.53043458,  0.53043458,\n",
       "        0.53043458,  0.53043458,  0.53043458,  0.53043458,  0.53043458,\n",
       "        0.53043458,  0.53043458,  0.53043458,  0.53043458,  0.53043458,\n",
       "        0.53043458,  0.53043458,  0.53043458,  0.53043458,  0.53043458,\n",
       "        0.53043458,  0.53043458,  0.53043458,  0.53043458,  0.53043458,\n",
       "        0.53043458,  0.53043458,  0.53043458,  0.53043458,  0.53043458,\n",
       "        0.53043458,  0.53043458,  0.98570463,  0.98570463,  0.98570463,\n",
       "        0.98570463,  0.98570463,  0.98570463,  0.98570463,  0.98570463,\n",
       "        0.98570463,  0.98570463,  0.98570463,  0.98570463,  0.98570463,\n",
       "        0.98570463,  0.98570463,  0.98570463,  0.98570463,  0.98570463,\n",
       "        0.98570463,  0.98570463,  0.98570463,  0.98570463,  0.98570463,\n",
       "        0.98570463,  0.98570463,  0.98570463,  0.98570463,  0.98570463,\n",
       "        0.98570463,  0.98570463,  0.98570463,  0.98570463,  0.98570463,\n",
       "        0.98570463,  0.98570463,  0.98570463,  0.98570463,  0.98570463,\n",
       "        0.98570463,  0.98570463,  0.98570463,  0.98570463,  0.98570463,\n",
       "        0.98570463,  0.98570463,  0.98570463,  0.98570463,  0.98570463,\n",
       "        0.98570463,  0.98570463,  0.98570463,  0.98570463,  0.98570463,\n",
       "        0.98570463,  0.98570463,  0.98570463,  0.98570463,  0.98570463,\n",
       "        0.98570463,  0.98570463,  0.98570463,  0.98570463,  0.98570463,\n",
       "        0.98570463,  0.98570463,  0.98570463,  0.98570463,  0.98570463,\n",
       "        0.98570463,  0.98570463,  0.98570463,  0.98570463,  0.98570463,\n",
       "        0.98570463,  0.98570463,  0.98570463,  0.98570463,  0.98570463,\n",
       "        0.98570463,  0.98570463,  0.98570463,  0.97481791,  0.97481791,\n",
       "        0.97481791,  0.97481791,  0.97481791,  0.97481791,  0.97481791,\n",
       "        0.97481791,  0.97481791,  0.97481791,  0.97481791,  0.97481791,\n",
       "        0.97481791,  0.97481791,  0.97481791,  0.97481791,  0.97481791,\n",
       "        0.97481791,  0.97481791,  0.97481791,  0.97481791,  0.97481791,\n",
       "        0.97481791,  0.97481791,  0.97481791,  0.97481791,  0.97481791,\n",
       "        0.97481791,  0.97481791,  0.97481791,  0.97481791,  0.97481791,\n",
       "        0.97481791,  0.97481791,  0.97481791,  0.97481791,  0.97481791,\n",
       "        0.97481791,  0.97481791,  0.97481791,  0.97481791,  0.97481791,\n",
       "        0.97481791,  0.97481791,  0.97481791,  0.97481791,  0.97481791,\n",
       "        0.97481791,  0.97481791,  0.97481791,  0.97481791,  0.97481791,\n",
       "        0.97481791,  0.97481791,  0.97481791,  0.97481791,  0.97481791,\n",
       "        0.97481791,  0.97481791,  0.97481791,  0.97481791,  0.97481791,\n",
       "        0.97481791,  0.97481791,  0.97481791,  0.97481791,  0.97481791,\n",
       "        0.97481791,  0.97481791,  0.97481791,  0.97481791,  0.97481791,\n",
       "        0.97481791,  0.97481791,  0.97481791,  0.97481791,  0.97481791,\n",
       "        0.97481791,  0.97481791,  0.97481791,  0.97481791,  0.97481791,\n",
       "        0.97481791,  0.97481791,  0.97481791,  0.97481791,  0.97481791,\n",
       "        0.97481791,  0.97481791,  0.97481791,  0.97481791,  0.97481791,\n",
       "        0.97481791,  0.97481791,  0.97481791,  0.97481791,  0.97481791,\n",
       "        0.97481791,  0.97481791,  0.97481791,  0.97481791,  0.97481791,\n",
       "        0.97481791,  0.97481791,  0.97481791,  0.97481791,  0.97481791,\n",
       "        0.97481791,  0.97481791,  0.97481791,  0.97481791,  0.97481791,\n",
       "        0.97481791,  0.97481791,  0.97481791,  0.38539229,  0.38539229,\n",
       "        0.38539229,  0.38539229,  0.38539229,  0.38539229,  0.38539229,\n",
       "        0.38539229,  0.38539229,  0.38539229,  0.38539229,  0.38539229,\n",
       "        0.38539229,  0.38539229,  0.38539229,  0.38539229,  0.38539229,\n",
       "        0.38539229,  0.38539229,  0.38539229,  0.38539229,  0.38539229,\n",
       "        0.38539229,  0.38539229,  0.38539229,  0.38539229,  0.38539229,\n",
       "        0.38539229,  0.38539229,  0.38539229,  0.38539229,  0.38539229,\n",
       "        0.38539229,  0.38539229,  0.38539229,  0.38539229,  0.38539229,\n",
       "        0.38539229,  0.38539229,  0.38539229,  0.38539229,  0.38539229,\n",
       "        0.38539229,  0.38539229,  0.38539229,  0.38539229,  0.38539229,\n",
       "        0.38539229,  0.38539229,  0.38539229,  0.38539229,  0.38539229,\n",
       "        0.38539229,  0.38539229,  0.38539229,  0.38539229,  0.38539229,\n",
       "        0.38539229,  0.38539229,  0.38539229,  0.38539229,  0.38539229,\n",
       "        0.38539229,  0.38539229,  0.38539229,  0.38539229,  0.38539229,\n",
       "        0.38539229,  0.38539229,  0.38539229,  0.38539229,  0.38539229,\n",
       "        0.38539229,  0.38539229,  0.38539229,  0.38539229,  0.38539229,\n",
       "        0.38539229,  0.38539229,  0.38539229,  0.38539229,  0.38539229,\n",
       "        0.38539229,  0.38539229,  0.38539229,  0.38539229,  0.38539229,\n",
       "        0.38539229,  0.38539229,  0.38539229,  0.38539229,  0.38539229,\n",
       "        0.38539229,  0.38539229,  0.38539229,  0.38539229,  0.38539229,\n",
       "        0.38539229,  0.38539229,  0.38539229,  0.38539229,  0.38539229,\n",
       "        0.38539229,  0.38539229,  0.38539229,  0.38539229,  0.38539229,\n",
       "        0.38539229,  0.38539229,  0.38539229,  0.38539229,  0.38539229])"
      ]
     },
     "execution_count": 76,
     "metadata": {},
     "output_type": "execute_result"
    }
   ],
   "source": [
    "LinearR_ = LinearRegression().fit(X_binned, y)\n",
    "\n",
    "line_binned = enc.transform(line)\n",
    "\n",
    "LinearR_.predict(line_binned)"
   ]
  },
  {
   "cell_type": "code",
   "execution_count": 77,
   "metadata": {},
   "outputs": [
    {
     "data": {
      "image/png": "[encoded data removed]",
      "text/plain": [
       "<Figure size 640x480 with 1 Axes>"
      ]
     },
     "metadata": {},
     "output_type": "display_data"
    }
   ],
   "source": [
    "fig, ax2 = plt.subplots(1)\n",
    "\n",
    "ax2.plot(line, TreeR.predict(line), linewidth=2, color=\"green\", label=\"Tree\")\n",
    "ax2.plot(line, LinearR.predict(line), linewidth=2, color=\"red\", label=\"Linear\")\n",
    "\n",
    "ax2.plot(line, LinearR_.predict(line_binned), linewidth=2, color=\"blue\", linestyle=\"--\", label=\"LinearBinned\")\n",
    "\n",
    "ax2.plot(X[:, 0], y, 'o', c=\"k\")\n",
    "\n",
    "ax2.legend(loc=\"best\")\n",
    "\n",
    "plt.show()"
   ]
  },
  {
   "cell_type": "code",
   "execution_count": 83,
   "metadata": {},
   "outputs": [
    {
     "data": {
      "text/plain": [
       "<matplotlib.legend.Legend at 0x1a495c1b680>"
      ]
     },
     "execution_count": 83,
     "metadata": {},
     "output_type": "execute_result"
    },
    {
     "data": {
      "image/png": "[encoded data removed]",
      "text/plain": [
       "<Figure size 1000x500 with 1 Axes>"
      ]
     },
     "metadata": {},
     "output_type": "display_data"
    }
   ],
   "source": [
    "# 选取最优分箱\n",
    "from sklearn.model_selection import cross_val_score as CVS\n",
    "\n",
    "# 生成分箱的数量\n",
    "pred, score, var = [], [], []\n",
    "\n",
    "binsrange = [2, 5, 10, 15, 20, 30]\n",
    "\n",
    "for i in binsrange:\n",
    "    enc = KBinsDiscretizer(n_bins=i, encode=\"onehot\")\n",
    "    X_binned = enc.fit_transform(X)\n",
    "    line_binned = enc.transform(line)\n",
    "    LinearR_ = LinearRegression()\n",
    "    cvresult = CVS(LinearR_, X_binned, y, cv=5)\n",
    "    \n",
    "    pred.append(cvresult.mean())\n",
    "    score.append(cvresult)\n",
    "    var.append(cvresult.var())\n",
    "    \n",
    "plt.figure(figsize=[10, 5])\n",
    "plt.plot(binsrange, pred, c=\"red\", label=\"pred\")\n",
    "plt.plot(binsrange, var, c=\"k\", label=\"var\")\n",
    "plt.legend()"
   ]
  },
  {
   "cell_type": "markdown",
   "metadata": {},
   "source": [
    "## 多项式回归"
   ]
  },
  {
   "cell_type": "code",
   "execution_count": 84,
   "metadata": {},
   "outputs": [
    {
     "data": {
      "text/plain": [
       "array([[1],\n",
       "       [2],\n",
       "       [3]])"
      ]
     },
     "execution_count": 84,
     "metadata": {},
     "output_type": "execute_result"
    }
   ],
   "source": [
    "# 生成数据\n",
    "X = np.arange(1, 4).reshape(-1, 1)\n",
    "X"
   ]
  },
  {
   "cell_type": "code",
   "execution_count": 85,
   "metadata": {},
   "outputs": [
    {
     "data": {
      "text/plain": [
       "(3, 1)"
      ]
     },
     "execution_count": 85,
     "metadata": {},
     "output_type": "execute_result"
    }
   ],
   "source": [
    "X.shape"
   ]
  },
  {
   "cell_type": "code",
   "execution_count": 86,
   "metadata": {},
   "outputs": [],
   "source": [
    "from sklearn.preprocessing import PolynomialFeatures\n",
    "\n",
    "# 生成多项式特征\n",
    "poly = PolynomialFeatures(degree=2)"
   ]
  },
  {
   "cell_type": "code",
   "execution_count": 87,
   "metadata": {},
   "outputs": [
    {
     "data": {
      "text/plain": [
       "array([[1., 1., 1.],\n",
       "       [1., 2., 4.],\n",
       "       [1., 3., 9.]])"
      ]
     },
     "execution_count": 87,
     "metadata": {},
     "output_type": "execute_result"
    }
   ],
   "source": [
    "# 生成多项式特征\n",
    "X_ = poly.fit_transform(X)\n",
    "X_"
   ]
  },
  {
   "cell_type": "code",
   "execution_count": 89,
   "metadata": {},
   "outputs": [
    {
     "data": {
      "text/plain": [
       "array([[ 1.,  1.,  1.,  1.],\n",
       "       [ 1.,  2.,  4.,  8.],\n",
       "       [ 1.,  3.,  9., 27.]])"
      ]
     },
     "execution_count": 89,
     "metadata": {},
     "output_type": "execute_result"
    }
   ],
   "source": [
    "# 三次多项式\n",
    "poly3 = PolynomialFeatures(degree=3)\n",
    "\n",
    "X_3 = poly3.fit_transform(X)\n",
    "\n",
    "X_3"
   ]
  },
  {
   "cell_type": "code",
   "execution_count": 90,
   "metadata": {},
   "outputs": [
    {
     "data": {
      "text/plain": [
       "array([[ 1.,  1.,  1.],\n",
       "       [ 2.,  4.,  8.],\n",
       "       [ 3.,  9., 27.]])"
      ]
     },
     "execution_count": 90,
     "metadata": {},
     "output_type": "execute_result"
    }
   ],
   "source": [
    "# 三次多项式，不带截距\n",
    "poly3 = PolynomialFeatures(degree=3, include_bias=False)\n",
    "\n",
    "X_3 = poly3.fit_transform(X)\n",
    "\n",
    "X_3"
   ]
  },
  {
   "cell_type": "code",
   "execution_count": 91,
   "metadata": {},
   "outputs": [],
   "source": [
    "# 生成数据\n",
    "rnd = np.random.RandomState(42)\n",
    "X = rnd.uniform(-3, 3, size=100)\n",
    "y = np.sin(X) + rnd.normal(size=len(X)) / 3"
   ]
  },
  {
   "cell_type": "code",
   "execution_count": 92,
   "metadata": {},
   "outputs": [],
   "source": [
    "X = X.reshape(-1, 1)"
   ]
  },
  {
   "cell_type": "code",
   "execution_count": 94,
   "metadata": {},
   "outputs": [],
   "source": [
    "line = np.linspace(-3, 3, 1000, endpoint=False).reshape(-1, 1)"
   ]
  },
  {
   "cell_type": "code",
   "execution_count": 95,
   "metadata": {},
   "outputs": [
    {
     "data": {
      "text/plain": [
       "0.5361526059318595"
      ]
     },
     "execution_count": 95,
     "metadata": {},
     "output_type": "execute_result"
    }
   ],
   "source": [
    "LinearR = LinearRegression().fit(X, y)\n",
    "LinearR.score(X, y)"
   ]
  },
  {
   "cell_type": "code",
   "execution_count": 96,
   "metadata": {},
   "outputs": [
    {
     "data": {
      "text/plain": [
       "0.8561679370344798"
      ]
     },
     "execution_count": 96,
     "metadata": {},
     "output_type": "execute_result"
    }
   ],
   "source": [
    "d = 5\n",
    "\n",
    "poly = PolynomialFeatures(degree=d)\n",
    "\n",
    "X_ = poly.fit_transform(X)\n",
    "\n",
    "line_ = poly.transform(line)\n",
    "\n",
    "LinearR_ = LinearRegression().fit(X_, y)\n",
    "LinearR_.score(X_, y)"
   ]
  },
  {
   "cell_type": "code",
   "execution_count": 100,
   "metadata": {},
   "outputs": [
    {
     "data": {
      "text/plain": [
       "array(['1', 'x0', 'x0^2', 'x0^3', 'x0^4', 'x0^5'], dtype=object)"
      ]
     },
     "execution_count": 100,
     "metadata": {},
     "output_type": "execute_result"
    }
   ],
   "source": [
    "poly.get_feature_names_out()"
   ]
  },
  {
   "cell_type": "code",
   "execution_count": 98,
   "metadata": {},
   "outputs": [
    {
     "data": {
      "text/plain": [
       "0.9868904451787988"
      ]
     },
     "execution_count": 98,
     "metadata": {},
     "output_type": "execute_result"
    }
   ],
   "source": [
    "pred_ = np.sin(line)\n",
    "\n",
    "LinearR_.score(line_, pred_)"
   ]
  },
  {
   "cell_type": "code",
   "execution_count": 97,
   "metadata": {},
   "outputs": [
    {
     "data": {
      "image/png": "[encoded data removed]",
      "text/plain": [
       "<Figure size 1200x600 with 1 Axes>"
      ]
     },
     "metadata": {},
     "output_type": "display_data"
    }
   ],
   "source": [
    "# 测试数据\n",
    "plt.figure(figsize=[12, 6])\n",
    "plt.plot(line, LinearR.predict(line), linewidth=2, color=\"green\", label=\"Linear\")\n",
    "plt.plot(line, LinearR_.predict(line_), linewidth=2, color=\"red\", label=\"Polynomial\")\n",
    "plt.scatter(X, y, c=\"k\")\n",
    "plt.legend()\n",
    "plt.show()"
   ]
  },
  {
   "cell_type": "markdown",
   "metadata": {},
   "source": [
    "## 预测加州房价"
   ]
  },
  {
   "cell_type": "code",
   "execution_count": 101,
   "metadata": {},
   "outputs": [
    {
     "data": {
      "text/plain": [
       "{'data': array([[   8.3252    ,   41.        ,    6.98412698, ...,    2.55555556,\n",
       "           37.88      , -122.23      ],\n",
       "        [   8.3014    ,   21.        ,    6.23813708, ...,    2.10984183,\n",
       "           37.86      , -122.22      ],\n",
       "        [   7.2574    ,   52.        ,    8.28813559, ...,    2.80225989,\n",
       "           37.85      , -122.24      ],\n",
       "        ...,\n",
       "        [   1.7       ,   17.        ,    5.20554273, ...,    2.3256351 ,\n",
       "           39.43      , -121.22      ],\n",
       "        [   1.8672    ,   18.        ,    5.32951289, ...,    2.12320917,\n",
       "           39.43      , -121.32      ],\n",
       "        [   2.3886    ,   16.        ,    5.25471698, ...,    2.61698113,\n",
       "           39.37      , -121.24      ]]),\n",
       " 'target': array([4.526, 3.585, 3.521, ..., 0.923, 0.847, 0.894]),\n",
       " 'frame': None,\n",
       " 'target_names': ['MedHouseVal'],\n",
       " 'feature_names': ['MedInc',\n",
       "  'HouseAge',\n",
       "  'AveRooms',\n",
       "  'AveBedrms',\n",
       "  'Population',\n",
       "  'AveOccup',\n",
       "  'Latitude',\n",
       "  'Longitude'],\n",
       " 'DESCR': '.. _california_housing_dataset:\\n\\nCalifornia Housing dataset\\n--------------------------\\n\\n**Data Set Characteristics:**\\n\\n:Number of Instances: 20640\\n\\n:Number of Attributes: 8 numeric, predictive attributes and the target\\n\\n:Attribute Information:\\n    - MedInc        median income in block group\\n    - HouseAge      median house age in block group\\n    - AveRooms      average number of rooms per household\\n    - AveBedrms     average number of bedrooms per household\\n    - Population    block group population\\n    - AveOccup      average number of household members\\n    - Latitude      block group latitude\\n    - Longitude     block group longitude\\n\\n:Missing Attribute Values: None\\n\\nThis dataset was obtained from the StatLib repository.\\nhttps://www.dcc.fc.up.pt/~ltorgo/Regression/cal_housing.html\\n\\nThe target variable is the median house value for California districts,\\nexpressed in hundreds of thousands of dollars ($100,000).\\n\\nThis dataset was derived from the 1990 U.S. census, using one row per census\\nblock group. A block group is the smallest geographical unit for which the U.S.\\nCensus Bureau publishes sample data (a block group typically has a population\\nof 600 to 3,000 people).\\n\\nA household is a group of people residing within a home. Since the average\\nnumber of rooms and bedrooms in this dataset are provided per household, these\\ncolumns may take surprisingly large values for block groups with few households\\nand many empty houses, such as vacation resorts.\\n\\nIt can be downloaded/loaded using the\\n:func:`sklearn.datasets.fetch_california_housing` function.\\n\\n.. topic:: References\\n\\n    - Pace, R. Kelley and Ronald Barry, Sparse Spatial Autoregressions,\\n      Statistics and Probability Letters, 33 (1997) 291-297\\n'}"
      ]
     },
     "execution_count": 101,
     "metadata": {},
     "output_type": "execute_result"
    }
   ],
   "source": [
    "# 导入数据\n",
    "from sklearn.datasets import fetch_california_housing\n",
    "\n",
    "housevalue = fetch_california_housing()\n",
    "\n",
    "housevalue"
   ]
  },
  {
   "cell_type": "code",
   "execution_count": 107,
   "metadata": {},
   "outputs": [],
   "source": [
    "X = pd.DataFrame(housevalue.data)\n",
    "X.columns = housevalue.feature_names\n",
    "y = housevalue.target"
   ]
  },
  {
   "cell_type": "code",
   "execution_count": 109,
   "metadata": {},
   "outputs": [
    {
     "data": {
      "text/plain": [
       "array(['1', 'MedInc', 'HouseAge', 'AveRooms', 'AveBedrms', 'Population',\n",
       "       'AveOccup', 'Latitude', 'Longitude', 'MedInc^2', 'MedInc HouseAge',\n",
       "       'MedInc AveRooms', 'MedInc AveBedrms', 'MedInc Population',\n",
       "       'MedInc AveOccup', 'MedInc Latitude', 'MedInc Longitude',\n",
       "       'HouseAge^2', 'HouseAge AveRooms', 'HouseAge AveBedrms',\n",
       "       'HouseAge Population', 'HouseAge AveOccup', 'HouseAge Latitude',\n",
       "       'HouseAge Longitude', 'AveRooms^2', 'AveRooms AveBedrms',\n",
       "       'AveRooms Population', 'AveRooms AveOccup', 'AveRooms Latitude',\n",
       "       'AveRooms Longitude', 'AveBedrms^2', 'AveBedrms Population',\n",
       "       'AveBedrms AveOccup', 'AveBedrms Latitude', 'AveBedrms Longitude',\n",
       "       'Population^2', 'Population AveOccup', 'Population Latitude',\n",
       "       'Population Longitude', 'AveOccup^2', 'AveOccup Latitude',\n",
       "       'AveOccup Longitude', 'Latitude^2', 'Latitude Longitude',\n",
       "       'Longitude^2', 'MedInc^3', 'MedInc^2 HouseAge',\n",
       "       'MedInc^2 AveRooms', 'MedInc^2 AveBedrms', 'MedInc^2 Population',\n",
       "       'MedInc^2 AveOccup', 'MedInc^2 Latitude', 'MedInc^2 Longitude',\n",
       "       'MedInc HouseAge^2', 'MedInc HouseAge AveRooms',\n",
       "       'MedInc HouseAge AveBedrms', 'MedInc HouseAge Population',\n",
       "       'MedInc HouseAge AveOccup', 'MedInc HouseAge Latitude',\n",
       "       'MedInc HouseAge Longitude', 'MedInc AveRooms^2',\n",
       "       'MedInc AveRooms AveBedrms', 'MedInc AveRooms Population',\n",
       "       'MedInc AveRooms AveOccup', 'MedInc AveRooms Latitude',\n",
       "       'MedInc AveRooms Longitude', 'MedInc AveBedrms^2',\n",
       "       'MedInc AveBedrms Population', 'MedInc AveBedrms AveOccup',\n",
       "       'MedInc AveBedrms Latitude', 'MedInc AveBedrms Longitude',\n",
       "       'MedInc Population^2', 'MedInc Population AveOccup',\n",
       "       'MedInc Population Latitude', 'MedInc Population Longitude',\n",
       "       'MedInc AveOccup^2', 'MedInc AveOccup Latitude',\n",
       "       'MedInc AveOccup Longitude', 'MedInc Latitude^2',\n",
       "       'MedInc Latitude Longitude', 'MedInc Longitude^2', 'HouseAge^3',\n",
       "       'HouseAge^2 AveRooms', 'HouseAge^2 AveBedrms',\n",
       "       'HouseAge^2 Population', 'HouseAge^2 AveOccup',\n",
       "       'HouseAge^2 Latitude', 'HouseAge^2 Longitude',\n",
       "       'HouseAge AveRooms^2', 'HouseAge AveRooms AveBedrms',\n",
       "       'HouseAge AveRooms Population', 'HouseAge AveRooms AveOccup',\n",
       "       'HouseAge AveRooms Latitude', 'HouseAge AveRooms Longitude',\n",
       "       'HouseAge AveBedrms^2', 'HouseAge AveBedrms Population',\n",
       "       'HouseAge AveBedrms AveOccup', 'HouseAge AveBedrms Latitude',\n",
       "       'HouseAge AveBedrms Longitude', 'HouseAge Population^2',\n",
       "       'HouseAge Population AveOccup', 'HouseAge Population Latitude',\n",
       "       'HouseAge Population Longitude', 'HouseAge AveOccup^2',\n",
       "       'HouseAge AveOccup Latitude', 'HouseAge AveOccup Longitude',\n",
       "       'HouseAge Latitude^2', 'HouseAge Latitude Longitude',\n",
       "       'HouseAge Longitude^2', 'AveRooms^3', 'AveRooms^2 AveBedrms',\n",
       "       'AveRooms^2 Population', 'AveRooms^2 AveOccup',\n",
       "       'AveRooms^2 Latitude', 'AveRooms^2 Longitude',\n",
       "       'AveRooms AveBedrms^2', 'AveRooms AveBedrms Population',\n",
       "       'AveRooms AveBedrms AveOccup', 'AveRooms AveBedrms Latitude',\n",
       "       'AveRooms AveBedrms Longitude', 'AveRooms Population^2',\n",
       "       'AveRooms Population AveOccup', 'AveRooms Population Latitude',\n",
       "       'AveRooms Population Longitude', 'AveRooms AveOccup^2',\n",
       "       'AveRooms AveOccup Latitude', 'AveRooms AveOccup Longitude',\n",
       "       'AveRooms Latitude^2', 'AveRooms Latitude Longitude',\n",
       "       'AveRooms Longitude^2', 'AveBedrms^3', 'AveBedrms^2 Population',\n",
       "       'AveBedrms^2 AveOccup', 'AveBedrms^2 Latitude',\n",
       "       'AveBedrms^2 Longitude', 'AveBedrms Population^2',\n",
       "       'AveBedrms Population AveOccup', 'AveBedrms Population Latitude',\n",
       "       'AveBedrms Population Longitude', 'AveBedrms AveOccup^2',\n",
       "       'AveBedrms AveOccup Latitude', 'AveBedrms AveOccup Longitude',\n",
       "       'AveBedrms Latitude^2', 'AveBedrms Latitude Longitude',\n",
       "       'AveBedrms Longitude^2', 'Population^3', 'Population^2 AveOccup',\n",
       "       'Population^2 Latitude', 'Population^2 Longitude',\n",
       "       'Population AveOccup^2', 'Population AveOccup Latitude',\n",
       "       'Population AveOccup Longitude', 'Population Latitude^2',\n",
       "       'Population Latitude Longitude', 'Population Longitude^2',\n",
       "       'AveOccup^3', 'AveOccup^2 Latitude', 'AveOccup^2 Longitude',\n",
       "       'AveOccup Latitude^2', 'AveOccup Latitude Longitude',\n",
       "       'AveOccup Longitude^2', 'Latitude^3', 'Latitude^2 Longitude',\n",
       "       'Latitude Longitude^2', 'Longitude^3', 'MedInc^4',\n",
       "       'MedInc^3 HouseAge', 'MedInc^3 AveRooms', 'MedInc^3 AveBedrms',\n",
       "       'MedInc^3 Population', 'MedInc^3 AveOccup', 'MedInc^3 Latitude',\n",
       "       'MedInc^3 Longitude', 'MedInc^2 HouseAge^2',\n",
       "       'MedInc^2 HouseAge AveRooms', 'MedInc^2 HouseAge AveBedrms',\n",
       "       'MedInc^2 HouseAge Population', 'MedInc^2 HouseAge AveOccup',\n",
       "       'MedInc^2 HouseAge Latitude', 'MedInc^2 HouseAge Longitude',\n",
       "       'MedInc^2 AveRooms^2', 'MedInc^2 AveRooms AveBedrms',\n",
       "       'MedInc^2 AveRooms Population', 'MedInc^2 AveRooms AveOccup',\n",
       "       'MedInc^2 AveRooms Latitude', 'MedInc^2 AveRooms Longitude',\n",
       "       'MedInc^2 AveBedrms^2', 'MedInc^2 AveBedrms Population',\n",
       "       'MedInc^2 AveBedrms AveOccup', 'MedInc^2 AveBedrms Latitude',\n",
       "       'MedInc^2 AveBedrms Longitude', 'MedInc^2 Population^2',\n",
       "       'MedInc^2 Population AveOccup', 'MedInc^2 Population Latitude',\n",
       "       'MedInc^2 Population Longitude', 'MedInc^2 AveOccup^2',\n",
       "       'MedInc^2 AveOccup Latitude', 'MedInc^2 AveOccup Longitude',\n",
       "       'MedInc^2 Latitude^2', 'MedInc^2 Latitude Longitude',\n",
       "       'MedInc^2 Longitude^2', 'MedInc HouseAge^3',\n",
       "       'MedInc HouseAge^2 AveRooms', 'MedInc HouseAge^2 AveBedrms',\n",
       "       'MedInc HouseAge^2 Population', 'MedInc HouseAge^2 AveOccup',\n",
       "       'MedInc HouseAge^2 Latitude', 'MedInc HouseAge^2 Longitude',\n",
       "       'MedInc HouseAge AveRooms^2', 'MedInc HouseAge AveRooms AveBedrms',\n",
       "       'MedInc HouseAge AveRooms Population',\n",
       "       'MedInc HouseAge AveRooms AveOccup',\n",
       "       'MedInc HouseAge AveRooms Latitude',\n",
       "       'MedInc HouseAge AveRooms Longitude',\n",
       "       'MedInc HouseAge AveBedrms^2',\n",
       "       'MedInc HouseAge AveBedrms Population',\n",
       "       'MedInc HouseAge AveBedrms AveOccup',\n",
       "       'MedInc HouseAge AveBedrms Latitude',\n",
       "       'MedInc HouseAge AveBedrms Longitude',\n",
       "       'MedInc HouseAge Population^2',\n",
       "       'MedInc HouseAge Population AveOccup',\n",
       "       'MedInc HouseAge Population Latitude',\n",
       "       'MedInc HouseAge Population Longitude',\n",
       "       'MedInc HouseAge AveOccup^2', 'MedInc HouseAge AveOccup Latitude',\n",
       "       'MedInc HouseAge AveOccup Longitude', 'MedInc HouseAge Latitude^2',\n",
       "       'MedInc HouseAge Latitude Longitude',\n",
       "       'MedInc HouseAge Longitude^2', 'MedInc AveRooms^3',\n",
       "       'MedInc AveRooms^2 AveBedrms', 'MedInc AveRooms^2 Population',\n",
       "       'MedInc AveRooms^2 AveOccup', 'MedInc AveRooms^2 Latitude',\n",
       "       'MedInc AveRooms^2 Longitude', 'MedInc AveRooms AveBedrms^2',\n",
       "       'MedInc AveRooms AveBedrms Population',\n",
       "       'MedInc AveRooms AveBedrms AveOccup',\n",
       "       'MedInc AveRooms AveBedrms Latitude',\n",
       "       'MedInc AveRooms AveBedrms Longitude',\n",
       "       'MedInc AveRooms Population^2',\n",
       "       'MedInc AveRooms Population AveOccup',\n",
       "       'MedInc AveRooms Population Latitude',\n",
       "       'MedInc AveRooms Population Longitude',\n",
       "       'MedInc AveRooms AveOccup^2', 'MedInc AveRooms AveOccup Latitude',\n",
       "       'MedInc AveRooms AveOccup Longitude', 'MedInc AveRooms Latitude^2',\n",
       "       'MedInc AveRooms Latitude Longitude',\n",
       "       'MedInc AveRooms Longitude^2', 'MedInc AveBedrms^3',\n",
       "       'MedInc AveBedrms^2 Population', 'MedInc AveBedrms^2 AveOccup',\n",
       "       'MedInc AveBedrms^2 Latitude', 'MedInc AveBedrms^2 Longitude',\n",
       "       'MedInc AveBedrms Population^2',\n",
       "       'MedInc AveBedrms Population AveOccup',\n",
       "       'MedInc AveBedrms Population Latitude',\n",
       "       'MedInc AveBedrms Population Longitude',\n",
       "       'MedInc AveBedrms AveOccup^2',\n",
       "       'MedInc AveBedrms AveOccup Latitude',\n",
       "       'MedInc AveBedrms AveOccup Longitude',\n",
       "       'MedInc AveBedrms Latitude^2',\n",
       "       'MedInc AveBedrms Latitude Longitude',\n",
       "       'MedInc AveBedrms Longitude^2', 'MedInc Population^3',\n",
       "       'MedInc Population^2 AveOccup', 'MedInc Population^2 Latitude',\n",
       "       'MedInc Population^2 Longitude', 'MedInc Population AveOccup^2',\n",
       "       'MedInc Population AveOccup Latitude',\n",
       "       'MedInc Population AveOccup Longitude',\n",
       "       'MedInc Population Latitude^2',\n",
       "       'MedInc Population Latitude Longitude',\n",
       "       'MedInc Population Longitude^2', 'MedInc AveOccup^3',\n",
       "       'MedInc AveOccup^2 Latitude', 'MedInc AveOccup^2 Longitude',\n",
       "       'MedInc AveOccup Latitude^2', 'MedInc AveOccup Latitude Longitude',\n",
       "       'MedInc AveOccup Longitude^2', 'MedInc Latitude^3',\n",
       "       'MedInc Latitude^2 Longitude', 'MedInc Latitude Longitude^2',\n",
       "       'MedInc Longitude^3', 'HouseAge^4', 'HouseAge^3 AveRooms',\n",
       "       'HouseAge^3 AveBedrms', 'HouseAge^3 Population',\n",
       "       'HouseAge^3 AveOccup', 'HouseAge^3 Latitude',\n",
       "       'HouseAge^3 Longitude', 'HouseAge^2 AveRooms^2',\n",
       "       'HouseAge^2 AveRooms AveBedrms', 'HouseAge^2 AveRooms Population',\n",
       "       'HouseAge^2 AveRooms AveOccup', 'HouseAge^2 AveRooms Latitude',\n",
       "       'HouseAge^2 AveRooms Longitude', 'HouseAge^2 AveBedrms^2',\n",
       "       'HouseAge^2 AveBedrms Population', 'HouseAge^2 AveBedrms AveOccup',\n",
       "       'HouseAge^2 AveBedrms Latitude', 'HouseAge^2 AveBedrms Longitude',\n",
       "       'HouseAge^2 Population^2', 'HouseAge^2 Population AveOccup',\n",
       "       'HouseAge^2 Population Latitude',\n",
       "       'HouseAge^2 Population Longitude', 'HouseAge^2 AveOccup^2',\n",
       "       'HouseAge^2 AveOccup Latitude', 'HouseAge^2 AveOccup Longitude',\n",
       "       'HouseAge^2 Latitude^2', 'HouseAge^2 Latitude Longitude',\n",
       "       'HouseAge^2 Longitude^2', 'HouseAge AveRooms^3',\n",
       "       'HouseAge AveRooms^2 AveBedrms', 'HouseAge AveRooms^2 Population',\n",
       "       'HouseAge AveRooms^2 AveOccup', 'HouseAge AveRooms^2 Latitude',\n",
       "       'HouseAge AveRooms^2 Longitude', 'HouseAge AveRooms AveBedrms^2',\n",
       "       'HouseAge AveRooms AveBedrms Population',\n",
       "       'HouseAge AveRooms AveBedrms AveOccup',\n",
       "       'HouseAge AveRooms AveBedrms Latitude',\n",
       "       'HouseAge AveRooms AveBedrms Longitude',\n",
       "       'HouseAge AveRooms Population^2',\n",
       "       'HouseAge AveRooms Population AveOccup',\n",
       "       'HouseAge AveRooms Population Latitude',\n",
       "       'HouseAge AveRooms Population Longitude',\n",
       "       'HouseAge AveRooms AveOccup^2',\n",
       "       'HouseAge AveRooms AveOccup Latitude',\n",
       "       'HouseAge AveRooms AveOccup Longitude',\n",
       "       'HouseAge AveRooms Latitude^2',\n",
       "       'HouseAge AveRooms Latitude Longitude',\n",
       "       'HouseAge AveRooms Longitude^2', 'HouseAge AveBedrms^3',\n",
       "       'HouseAge AveBedrms^2 Population', 'HouseAge AveBedrms^2 AveOccup',\n",
       "       'HouseAge AveBedrms^2 Latitude', 'HouseAge AveBedrms^2 Longitude',\n",
       "       'HouseAge AveBedrms Population^2',\n",
       "       'HouseAge AveBedrms Population AveOccup',\n",
       "       'HouseAge AveBedrms Population Latitude',\n",
       "       'HouseAge AveBedrms Population Longitude',\n",
       "       'HouseAge AveBedrms AveOccup^2',\n",
       "       'HouseAge AveBedrms AveOccup Latitude',\n",
       "       'HouseAge AveBedrms AveOccup Longitude',\n",
       "       'HouseAge AveBedrms Latitude^2',\n",
       "       'HouseAge AveBedrms Latitude Longitude',\n",
       "       'HouseAge AveBedrms Longitude^2', 'HouseAge Population^3',\n",
       "       'HouseAge Population^2 AveOccup', 'HouseAge Population^2 Latitude',\n",
       "       'HouseAge Population^2 Longitude',\n",
       "       'HouseAge Population AveOccup^2',\n",
       "       'HouseAge Population AveOccup Latitude',\n",
       "       'HouseAge Population AveOccup Longitude',\n",
       "       'HouseAge Population Latitude^2',\n",
       "       'HouseAge Population Latitude Longitude',\n",
       "       'HouseAge Population Longitude^2', 'HouseAge AveOccup^3',\n",
       "       'HouseAge AveOccup^2 Latitude', 'HouseAge AveOccup^2 Longitude',\n",
       "       'HouseAge AveOccup Latitude^2',\n",
       "       'HouseAge AveOccup Latitude Longitude',\n",
       "       'HouseAge AveOccup Longitude^2', 'HouseAge Latitude^3',\n",
       "       'HouseAge Latitude^2 Longitude', 'HouseAge Latitude Longitude^2',\n",
       "       'HouseAge Longitude^3', 'AveRooms^4', 'AveRooms^3 AveBedrms',\n",
       "       'AveRooms^3 Population', 'AveRooms^3 AveOccup',\n",
       "       'AveRooms^3 Latitude', 'AveRooms^3 Longitude',\n",
       "       'AveRooms^2 AveBedrms^2', 'AveRooms^2 AveBedrms Population',\n",
       "       'AveRooms^2 AveBedrms AveOccup', 'AveRooms^2 AveBedrms Latitude',\n",
       "       'AveRooms^2 AveBedrms Longitude', 'AveRooms^2 Population^2',\n",
       "       'AveRooms^2 Population AveOccup', 'AveRooms^2 Population Latitude',\n",
       "       'AveRooms^2 Population Longitude', 'AveRooms^2 AveOccup^2',\n",
       "       'AveRooms^2 AveOccup Latitude', 'AveRooms^2 AveOccup Longitude',\n",
       "       'AveRooms^2 Latitude^2', 'AveRooms^2 Latitude Longitude',\n",
       "       'AveRooms^2 Longitude^2', 'AveRooms AveBedrms^3',\n",
       "       'AveRooms AveBedrms^2 Population', 'AveRooms AveBedrms^2 AveOccup',\n",
       "       'AveRooms AveBedrms^2 Latitude', 'AveRooms AveBedrms^2 Longitude',\n",
       "       'AveRooms AveBedrms Population^2',\n",
       "       'AveRooms AveBedrms Population AveOccup',\n",
       "       'AveRooms AveBedrms Population Latitude',\n",
       "       'AveRooms AveBedrms Population Longitude',\n",
       "       'AveRooms AveBedrms AveOccup^2',\n",
       "       'AveRooms AveBedrms AveOccup Latitude',\n",
       "       'AveRooms AveBedrms AveOccup Longitude',\n",
       "       'AveRooms AveBedrms Latitude^2',\n",
       "       'AveRooms AveBedrms Latitude Longitude',\n",
       "       'AveRooms AveBedrms Longitude^2', 'AveRooms Population^3',\n",
       "       'AveRooms Population^2 AveOccup', 'AveRooms Population^2 Latitude',\n",
       "       'AveRooms Population^2 Longitude',\n",
       "       'AveRooms Population AveOccup^2',\n",
       "       'AveRooms Population AveOccup Latitude',\n",
       "       'AveRooms Population AveOccup Longitude',\n",
       "       'AveRooms Population Latitude^2',\n",
       "       'AveRooms Population Latitude Longitude',\n",
       "       'AveRooms Population Longitude^2', 'AveRooms AveOccup^3',\n",
       "       'AveRooms AveOccup^2 Latitude', 'AveRooms AveOccup^2 Longitude',\n",
       "       'AveRooms AveOccup Latitude^2',\n",
       "       'AveRooms AveOccup Latitude Longitude',\n",
       "       'AveRooms AveOccup Longitude^2', 'AveRooms Latitude^3',\n",
       "       'AveRooms Latitude^2 Longitude', 'AveRooms Latitude Longitude^2',\n",
       "       'AveRooms Longitude^3', 'AveBedrms^4', 'AveBedrms^3 Population',\n",
       "       'AveBedrms^3 AveOccup', 'AveBedrms^3 Latitude',\n",
       "       'AveBedrms^3 Longitude', 'AveBedrms^2 Population^2',\n",
       "       'AveBedrms^2 Population AveOccup',\n",
       "       'AveBedrms^2 Population Latitude',\n",
       "       'AveBedrms^2 Population Longitude', 'AveBedrms^2 AveOccup^2',\n",
       "       'AveBedrms^2 AveOccup Latitude', 'AveBedrms^2 AveOccup Longitude',\n",
       "       'AveBedrms^2 Latitude^2', 'AveBedrms^2 Latitude Longitude',\n",
       "       'AveBedrms^2 Longitude^2', 'AveBedrms Population^3',\n",
       "       'AveBedrms Population^2 AveOccup',\n",
       "       'AveBedrms Population^2 Latitude',\n",
       "       'AveBedrms Population^2 Longitude',\n",
       "       'AveBedrms Population AveOccup^2',\n",
       "       'AveBedrms Population AveOccup Latitude',\n",
       "       'AveBedrms Population AveOccup Longitude',\n",
       "       'AveBedrms Population Latitude^2',\n",
       "       'AveBedrms Population Latitude Longitude',\n",
       "       'AveBedrms Population Longitude^2', 'AveBedrms AveOccup^3',\n",
       "       'AveBedrms AveOccup^2 Latitude', 'AveBedrms AveOccup^2 Longitude',\n",
       "       'AveBedrms AveOccup Latitude^2',\n",
       "       'AveBedrms AveOccup Latitude Longitude',\n",
       "       'AveBedrms AveOccup Longitude^2', 'AveBedrms Latitude^3',\n",
       "       'AveBedrms Latitude^2 Longitude', 'AveBedrms Latitude Longitude^2',\n",
       "       'AveBedrms Longitude^3', 'Population^4', 'Population^3 AveOccup',\n",
       "       'Population^3 Latitude', 'Population^3 Longitude',\n",
       "       'Population^2 AveOccup^2', 'Population^2 AveOccup Latitude',\n",
       "       'Population^2 AveOccup Longitude', 'Population^2 Latitude^2',\n",
       "       'Population^2 Latitude Longitude', 'Population^2 Longitude^2',\n",
       "       'Population AveOccup^3', 'Population AveOccup^2 Latitude',\n",
       "       'Population AveOccup^2 Longitude',\n",
       "       'Population AveOccup Latitude^2',\n",
       "       'Population AveOccup Latitude Longitude',\n",
       "       'Population AveOccup Longitude^2', 'Population Latitude^3',\n",
       "       'Population Latitude^2 Longitude',\n",
       "       'Population Latitude Longitude^2', 'Population Longitude^3',\n",
       "       'AveOccup^4', 'AveOccup^3 Latitude', 'AveOccup^3 Longitude',\n",
       "       'AveOccup^2 Latitude^2', 'AveOccup^2 Latitude Longitude',\n",
       "       'AveOccup^2 Longitude^2', 'AveOccup Latitude^3',\n",
       "       'AveOccup Latitude^2 Longitude', 'AveOccup Latitude Longitude^2',\n",
       "       'AveOccup Longitude^3', 'Latitude^4', 'Latitude^3 Longitude',\n",
       "       'Latitude^2 Longitude^2', 'Latitude Longitude^3', 'Longitude^4'],\n",
       "      dtype=object)"
      ]
     },
     "execution_count": 109,
     "metadata": {},
     "output_type": "execute_result"
    }
   ],
   "source": [
    "poly = PolynomialFeatures(degree=4).fit(X, y)\n",
    "\n",
    "poly.get_feature_names_out(X.columns)"
   ]
  },
  {
   "cell_type": "code",
   "execution_count": 110,
   "metadata": {},
   "outputs": [],
   "source": [
    "X_ = poly.transform(X)"
   ]
  },
  {
   "cell_type": "code",
   "execution_count": 111,
   "metadata": {},
   "outputs": [],
   "source": [
    "reg = LinearRegression().fit(X_, y)"
   ]
  },
  {
   "cell_type": "code",
   "execution_count": 112,
   "metadata": {},
   "outputs": [
    {
     "data": {
      "text/plain": [
       "array([ 3.10384381e-04,  6.40795717e-05, -1.72663387e-06, -5.46074038e-07,\n",
       "       -7.31947338e-08, -5.22426385e-05, -2.35726315e-07,  1.06093881e-06,\n",
       "        9.97731149e-08, -9.23917384e-06, -1.24116046e-05, -1.95256686e-05,\n",
       "       -2.52989912e-06, -4.55111851e-05,  2.40720924e-06, -1.12057845e-06,\n",
       "        1.15004531e-05, -2.26524475e-05,  8.42548915e-06, -7.79671632e-06,\n",
       "       -7.46330684e-04,  3.51619271e-05,  4.86375433e-06,  5.49018833e-05,\n",
       "       -1.20493979e-05,  3.18477708e-06, -1.21333041e-04, -5.17269498e-06,\n",
       "        2.23420861e-07, -4.50240698e-07,  1.71777309e-06, -4.36051078e-05,\n",
       "       -9.66562472e-07, -1.90936666e-06,  1.24593428e-05,  2.42224471e-05,\n",
       "       -3.97004731e-05, -6.91843843e-04,  2.09415714e-03, -7.49695698e-06,\n",
       "       -5.40831736e-07, -6.48829125e-06, -3.96609214e-06, -2.50128414e-05,\n",
       "       -8.07225480e-06, -9.18560891e-05, -1.36899539e-04, -9.12752325e-05,\n",
       "       -1.22205429e-05,  6.28218569e-04,  3.48055590e-05, -1.72064539e-04,\n",
       "        5.42747340e-04, -4.47152600e-04, -2.12468816e-04, -2.83023553e-05,\n",
       "        1.20432596e-04,  6.35540821e-05, -1.15212444e-04,  5.97598518e-04,\n",
       "       -1.83475845e-04, -1.98069477e-05, -7.15770030e-04, -1.78007279e-05,\n",
       "       -3.33184695e-04,  1.15284513e-03, -1.51549174e-05, -1.04135321e-04,\n",
       "        8.92242761e-08, -4.24899932e-05,  1.43337305e-04,  7.58141746e-07,\n",
       "        1.38406559e-03, -9.56002493e-04, -1.97165431e-04,  2.29933949e-05,\n",
       "        4.90965507e-05, -1.48990629e-04, -3.56197218e-06, -1.19807356e-05,\n",
       "       -3.76766096e-04, -6.24015563e-04,  3.27140994e-04, -1.97273407e-04,\n",
       "        2.04173645e-05,  1.00130090e-03,  7.99470742e-04, -1.01549058e-04,\n",
       "       -1.10245231e-04, -3.64048940e-05, -7.38292089e-05,  2.03717790e-05,\n",
       "        1.75177251e-04, -6.07316577e-04, -1.42298417e-05,  1.14348316e-03,\n",
       "       -4.20156504e-06, -1.24344162e-04,  4.19271165e-04,  7.68105593e-08,\n",
       "       -8.67733972e-05, -1.86117528e-04, -5.11619646e-05,  1.91166093e-05,\n",
       "        6.50098462e-04, -2.14806070e-03,  2.79241728e-04, -9.69532153e-04,\n",
       "       -5.03753631e-04,  6.41840357e-04,  2.23326946e-04,  9.15585181e-05,\n",
       "       -7.24130737e-05, -1.90944977e-04,  7.28195650e-04,  6.75748572e-05,\n",
       "        4.56849926e-05, -7.72769773e-06,  6.93809300e-05, -1.94715271e-04,\n",
       "       -1.36951305e-06, -6.01797296e-04,  1.09275835e-03,  2.37350885e-04,\n",
       "       -4.02729108e-05, -1.00246508e-04,  3.13193612e-04,  1.80296756e-05,\n",
       "       -2.88316751e-05,  8.73814295e-05,  8.08267442e-06,  5.25538822e-05,\n",
       "        2.14198149e-05,  2.80550859e-05, -1.07325720e-04,  1.29561337e-05,\n",
       "       -1.86489310e-04,  2.15609943e-04,  4.90081270e-04, -1.15839009e-05,\n",
       "       -2.26236595e-05,  5.54217646e-05,  4.10536905e-06,  6.59041302e-05,\n",
       "       -5.81345341e-04,  9.15115352e-11,  1.82615822e-06, -4.29605017e-08,\n",
       "        5.32925606e-07, -3.39276151e-05, -1.60272698e-03, -3.88962344e-04,\n",
       "        1.59235278e-03,  9.60063819e-04,  1.88479405e-04, -1.08014693e-04,\n",
       "       -1.36601444e-04,  4.43599839e-04, -9.97170738e-05,  8.25474242e-05,\n",
       "        2.48675399e-04, -4.54310383e-04,  4.20475343e-04,  1.16819747e-03,\n",
       "        4.17030414e-04,  3.73171050e-04,  1.25875805e-04, -1.19797744e-03,\n",
       "        2.87715394e-03, -4.82345097e-07, -7.66765952e-05,  6.53405494e-04,\n",
       "        2.92934934e-04, -8.82832247e-06, -3.37767131e-05, -1.03629167e-03,\n",
       "       -7.78031547e-07, -4.75061356e-05,  1.09323341e-04,  4.48068740e-05,\n",
       "        2.06112529e-04, -6.75720831e-04,  3.56839980e-06,  2.10245180e-03,\n",
       "       -7.47900915e-04, -4.16160177e-04, -7.31452569e-04, -6.30501232e-05,\n",
       "        3.71880974e-04, -7.03089168e-04,  2.92760695e-04,  3.19455393e-09,\n",
       "        8.16970459e-06,  1.24219791e-05,  8.75739149e-06, -1.85338102e-03,\n",
       "       -1.83078376e-03, -6.70116626e-04,  6.27814242e-04,  4.96436762e-04,\n",
       "        1.03458252e-04,  6.25268415e-06,  3.95915354e-05,  1.12098589e-04,\n",
       "        4.24029310e-08,  6.48995508e-05,  6.08961362e-07,  5.91560841e-06,\n",
       "       -3.14117106e-04,  1.18218716e-03,  2.55603950e-06,  1.10808455e-03,\n",
       "        5.01018764e-04,  1.58384216e-04,  4.56293046e-04, -1.72135210e-05,\n",
       "       -8.75959775e-04, -4.91983302e-04, -7.24714891e-05, -4.33040056e-10,\n",
       "       -2.79175618e-06,  5.33609439e-07,  9.99817142e-07,  4.12296390e-04,\n",
       "       -1.64946264e-04,  6.19039879e-05, -6.82371039e-04, -3.59310010e-04,\n",
       "       -3.56041473e-05,  2.11309764e-04, -4.07235181e-04, -7.31119668e-06,\n",
       "       -5.33229781e-04,  2.06319931e-04,  1.85935025e-04, -2.64574794e-04,\n",
       "        8.00894437e-05, -1.41306343e-04,  5.37603460e-04, -5.97733315e-04,\n",
       "       -7.54037548e-09, -1.56300184e-05, -1.59825937e-05, -1.08787368e-05,\n",
       "       -2.07691648e-03, -7.92397172e-04,  1.43390062e-04, -1.08915257e-03,\n",
       "       -6.92709814e-04, -9.82030749e-05, -1.65265895e-04, -3.47590055e-04,\n",
       "        6.63826889e-05, -1.86226741e-04,  1.31758399e-03,  4.99742581e-09,\n",
       "        2.01365337e-04,  1.87283918e-05, -6.21824704e-07,  1.59978346e-04,\n",
       "       -1.88424311e-05, -2.67051850e-04, -5.70941487e-04,  4.06223591e-04,\n",
       "        2.11687262e-04,  2.30076270e-12,  1.28379440e-09,  1.17296738e-08,\n",
       "        1.00801824e-08,  7.57009167e-06,  2.56669378e-05,  2.11299742e-05,\n",
       "        5.91816632e-06, -2.69418759e-06, -6.07652259e-07,  8.64304561e-05,\n",
       "       -1.06819527e-03, -5.37631414e-04, -3.58739445e-05, -3.58115249e-04,\n",
       "       -1.02280751e-04,  9.76813794e-04,  8.11141770e-04,  2.33873534e-04,\n",
       "        2.10992950e-05,  6.25114847e-07, -2.19216880e-06, -4.07393336e-05,\n",
       "        1.13140934e-08, -3.31857690e-07, -9.93282836e-06, -7.81566579e-06,\n",
       "        1.40399357e-05, -2.72944921e-04,  1.43496944e-07,  1.68084655e-05,\n",
       "       -5.33787597e-05, -1.38116124e-05,  9.38657000e-04, -2.99864606e-06,\n",
       "        1.19984093e-04,  3.96412390e-04,  8.75810025e-05,  2.26773586e-11,\n",
       "       -1.16588932e-08,  1.01869215e-07,  1.88637527e-07,  1.72442265e-05,\n",
       "        5.23977269e-05,  2.73525637e-05, -5.04844767e-05, -2.89321897e-05,\n",
       "       -6.84515975e-06,  1.45235059e-04, -1.20217446e-03, -1.41163374e-06,\n",
       "        1.57007577e-04, -2.84022775e-04, -7.90898017e-05,  2.46150106e-03,\n",
       "        6.69106431e-06, -7.32242361e-04,  1.44457736e-03,  2.91108928e-04,\n",
       "        1.14969275e-09,  6.53439044e-06, -8.62056986e-07, -5.80661320e-07,\n",
       "       -1.37675273e-04,  1.21205035e-03,  4.23452728e-04,  4.74142659e-04,\n",
       "        2.72978761e-04,  3.45667478e-05,  1.23316711e-03, -1.44757407e-05,\n",
       "        5.08307615e-04,  1.47095266e-04,  6.45179145e-04, -1.63433658e-08,\n",
       "       -2.59120692e-05,  2.45204019e-05,  1.42233473e-05,  4.16510155e-03,\n",
       "        1.12425362e-04,  1.81393241e-04,  7.68353960e-04,  8.44198555e-04,\n",
       "        1.85543347e-04, -3.07712094e-14,  4.79166624e-11, -3.15240882e-10,\n",
       "        4.52353133e-10, -4.22889863e-09, -2.57639148e-06, -1.54544119e-06,\n",
       "       -3.37931048e-06, -3.44234828e-06, -6.48840286e-07, -1.36507418e-04,\n",
       "       -3.96640963e-04, -9.42098946e-05, -1.16978379e-03, -7.02480800e-04,\n",
       "       -1.20914877e-04,  1.81994692e-04,  9.93725772e-05,  6.13305307e-07,\n",
       "       -5.29751669e-06, -1.04434813e-05,  1.08012265e-04,  1.56824480e-06,\n",
       "        8.40603033e-04,  1.32736285e-04,  8.49612522e-05, -2.08696036e-04,\n",
       "       -2.78832144e-05, -3.74819033e-03, -9.86480218e-04, -4.29415720e-04,\n",
       "        7.70608050e-09,  3.51467142e-05,  4.80857271e-06,  3.01172662e-06,\n",
       "       -7.42563447e-04,  9.11300489e-04,  2.97902059e-04,  8.78537308e-05,\n",
       "        1.00344610e-04,  3.99298570e-05, -3.41503516e-04,  1.78458786e-04,\n",
       "       -1.33016805e-03, -3.67464972e-04, -5.51949557e-04, -1.10478192e-07,\n",
       "       -3.52714109e-04, -9.21404401e-05, -3.52661030e-05,  1.91542637e-04,\n",
       "       -1.57931276e-04,  2.46747542e-04,  6.07106306e-04, -1.22897576e-04,\n",
       "       -1.66951806e-04, -3.79054322e-12, -3.40022116e-10, -2.79047047e-08,\n",
       "       -2.06107156e-08, -1.09688808e-05, -2.76838306e-05, -1.37373659e-05,\n",
       "       -1.44439794e-05, -2.63292456e-06, -2.34958754e-07,  9.01476312e-04,\n",
       "        7.11085291e-04,  2.32334952e-04, -6.07528751e-04,  1.93581459e-05,\n",
       "        8.72189774e-05, -2.57123744e-03, -2.44821326e-03, -7.79223944e-04,\n",
       "       -8.15742464e-05, -2.17832135e-04, -3.60591253e-04, -3.66604956e-04,\n",
       "       -5.44114102e-04,  1.09349849e-03,  4.01641533e-07,  1.20997660e-03,\n",
       "        3.99913663e-04,  1.44650523e-04,  4.43708168e-05,  6.89162954e-04,\n",
       "       -2.55300885e-03, -3.89067109e-04,  8.07361590e-04,  3.95771741e-04,\n",
       "        3.89583139e-11,  1.51511186e-07,  2.52238601e-07,  1.92768411e-07,\n",
       "        5.65859841e-05,  2.77042276e-04,  9.59347541e-05,  5.58418044e-05,\n",
       "        5.72873337e-05,  1.57874531e-05, -2.00533445e-03,  1.45287798e-04,\n",
       "        2.19456839e-04, -4.51208718e-04,  6.26060167e-04,  1.87061261e-04,\n",
       "       -4.66282863e-04,  3.76845225e-05,  2.42196032e-04,  5.12963437e-05,\n",
       "        2.30392962e-16,  8.87866635e-13,  1.66458664e-12,  1.58201251e-12,\n",
       "       -7.94020906e-09,  2.37627449e-08,  2.32838760e-08, -1.24617190e-09,\n",
       "        9.75249937e-10,  3.32449694e-09,  6.70249896e-07, -5.29013935e-06,\n",
       "       -1.79770999e-06,  4.20251140e-06, -8.43927609e-06, -2.06170749e-06,\n",
       "        1.37096644e-05,  2.56527223e-05,  1.19016182e-05,  1.83763914e-06,\n",
       "        1.63665298e-06,  5.08506857e-04,  1.85469858e-04,  2.37137796e-04,\n",
       "        3.76446281e-05, -5.09932887e-07,  5.49038628e-04,  1.58491191e-04,\n",
       "       -4.19224898e-05, -9.46969952e-06, -8.71026751e-03, -1.07663141e-02,\n",
       "       -4.98515872e-03, -1.01756805e-03, -7.59920017e-05])"
      ]
     },
     "execution_count": 112,
     "metadata": {},
     "output_type": "execute_result"
    }
   ],
   "source": [
    "reg.coef_"
   ]
  },
  {
   "cell_type": "code",
   "execution_count": 113,
   "metadata": {},
   "outputs": [
    {
     "data": {
      "text/html": [
       "<div>\n",
       "<style scoped>\n",
       "    .dataframe tbody tr th:only-of-type {\n",
       "        vertical-align: middle;\n",
       "    }\n",
       "\n",
       "    .dataframe tbody tr th {\n",
       "        vertical-align: top;\n",
       "    }\n",
       "\n",
       "    .dataframe thead th {\n",
       "        text-align: right;\n",
       "    }\n",
       "</style>\n",
       "<table border=\"1\" class=\"dataframe\">\n",
       "  <thead>\n",
       "    <tr style=\"text-align: right;\">\n",
       "      <th></th>\n",
       "      <th>0</th>\n",
       "    </tr>\n",
       "  </thead>\n",
       "  <tbody>\n",
       "    <tr>\n",
       "      <th>1</th>\n",
       "      <td>3.103844e-04</td>\n",
       "    </tr>\n",
       "    <tr>\n",
       "      <th>MedInc</th>\n",
       "      <td>6.407957e-05</td>\n",
       "    </tr>\n",
       "    <tr>\n",
       "      <th>HouseAge</th>\n",
       "      <td>-1.726634e-06</td>\n",
       "    </tr>\n",
       "    <tr>\n",
       "      <th>AveRooms</th>\n",
       "      <td>-5.460740e-07</td>\n",
       "    </tr>\n",
       "    <tr>\n",
       "      <th>AveBedrms</th>\n",
       "      <td>-7.319473e-08</td>\n",
       "    </tr>\n",
       "    <tr>\n",
       "      <th>...</th>\n",
       "      <td>...</td>\n",
       "    </tr>\n",
       "    <tr>\n",
       "      <th>Latitude^4</th>\n",
       "      <td>-8.710268e-03</td>\n",
       "    </tr>\n",
       "    <tr>\n",
       "      <th>Latitude^3 Longitude</th>\n",
       "      <td>-1.076631e-02</td>\n",
       "    </tr>\n",
       "    <tr>\n",
       "      <th>Latitude^2 Longitude^2</th>\n",
       "      <td>-4.985159e-03</td>\n",
       "    </tr>\n",
       "    <tr>\n",
       "      <th>Latitude Longitude^3</th>\n",
       "      <td>-1.017568e-03</td>\n",
       "    </tr>\n",
       "    <tr>\n",
       "      <th>Longitude^4</th>\n",
       "      <td>-7.599200e-05</td>\n",
       "    </tr>\n",
       "  </tbody>\n",
       "</table>\n",
       "<p>495 rows × 1 columns</p>\n",
       "</div>"
      ],
      "text/plain": [
       "                                   0\n",
       "1                       3.103844e-04\n",
       "MedInc                  6.407957e-05\n",
       "HouseAge               -1.726634e-06\n",
       "AveRooms               -5.460740e-07\n",
       "AveBedrms              -7.319473e-08\n",
       "...                              ...\n",
       "Latitude^4             -8.710268e-03\n",
       "Latitude^3 Longitude   -1.076631e-02\n",
       "Latitude^2 Longitude^2 -4.985159e-03\n",
       "Latitude Longitude^3   -1.017568e-03\n",
       "Longitude^4            -7.599200e-05\n",
       "\n",
       "[495 rows x 1 columns]"
      ]
     },
     "execution_count": 113,
     "metadata": {},
     "output_type": "execute_result"
    }
   ],
   "source": [
    "coeff = pd.DataFrame(reg.coef_, index=poly.get_feature_names_out(X.columns))\n",
    "coeff"
   ]
  },
  {
   "cell_type": "code",
   "execution_count": 114,
   "metadata": {},
   "outputs": [
    {
     "data": {
      "text/plain": [
       "0.606232685199805"
      ]
     },
     "execution_count": 114,
     "metadata": {},
     "output_type": "execute_result"
    }
   ],
   "source": [
    "reg_origin = LinearRegression().fit(X, y)\n",
    "\n",
    "reg_origin.score(X, y)"
   ]
  },
  {
   "cell_type": "code",
   "execution_count": 115,
   "metadata": {},
   "outputs": [
    {
     "data": {
      "text/plain": [
       "0.7453000992087552"
      ]
     },
     "execution_count": 115,
     "metadata": {},
     "output_type": "execute_result"
    }
   ],
   "source": [
    "reg.score(X_, y)"
   ]
  },
  {
   "cell_type": "code",
   "execution_count": 117,
   "metadata": {},
   "outputs": [
    {
     "data": {
      "text/plain": [
       "0.974088613941268"
      ]
     },
     "execution_count": 117,
     "metadata": {},
     "output_type": "execute_result"
    }
   ],
   "source": [
    "# 导入随机森林\n",
    "from sklearn.ensemble import RandomForestRegressor\n",
    "RFR = RandomForestRegressor(n_estimators=100, random_state=420)\n",
    "RFR = RFR.fit(X, y)\n",
    "RFR.score(X, y)"
   ]
  }
 ],
 "metadata": {
  "kernelspec": {
   "display_name": "base",
   "language": "python",
   "name": "python3"
  },
  "language_info": {
   "codemirror_mode": {
    "name": "ipython",
    "version": 3
   },
   "file_extension": ".py",
   "mimetype": "text/x-python",
   "name": "python",
   "nbconvert_exporter": "python",
   "pygments_lexer": "ipython3",
   "version": "3.12.4"
  }
 },
 "nbformat": 4,
 "nbformat_minor": 2
}
