{
 "cells": [
  {
   "cell_type": "markdown",
   "metadata": {},
   "source": [
    "# 实现MDS"
   ]
  },
  {
   "cell_type": "code",
   "execution_count": 1,
   "metadata": {},
   "outputs": [],
   "source": [
    "# 实现MDS算法\n",
    "# 导入必要的库\n",
    "import numpy as np\n",
    "import matplotlib.pyplot as plt\n",
    "import pandas as pd"
   ]
  },
  {
   "cell_type": "code",
   "execution_count": 3,
   "metadata": {},
   "outputs": [
    {
     "data": {
      "text/plain": [
       "array([[0, 2, 3, 4, 5],\n",
       "       [2, 0, 4, 5, 6],\n",
       "       [3, 4, 0, 7, 8],\n",
       "       [4, 5, 7, 0, 9],\n",
       "       [5, 6, 8, 9, 0]])"
      ]
     },
     "execution_count": 3,
     "metadata": {},
     "output_type": "execute_result"
    }
   ],
   "source": [
    "# 生成需要降维的数据\n",
    "data = np.array([[0, 2, 3, 4, 5], [2, 0, 4, 5, 6], [3, 4, 0, 7, 8], [4, 5, 7, 0, 9], [5, 6, 8, 9, 0]])\n",
    "data"
   ]
  },
  {
   "cell_type": "code",
   "execution_count": 9,
   "metadata": {},
   "outputs": [
    {
     "data": {
      "text/plain": [
       "array([[  0.,  11.,  40.,  73., 116.],\n",
       "       [ 11.,   0.,  41.,  72., 113.],\n",
       "       [ 40.,  41.,   0., 101., 140.],\n",
       "       [ 73.,  72., 101.,   0., 165.],\n",
       "       [116., 113., 140., 165.,   0.]])"
      ]
     },
     "execution_count": 9,
     "metadata": {},
     "output_type": "execute_result"
    }
   ],
   "source": [
    "# 计算距离矩阵\n",
    "def cal_dist_ij(data):\n",
    "    n = data.shape[0]\n",
    "    dist = np.zeros((n, n))\n",
    "    for i in range(n):\n",
    "        for j in range(n):\n",
    "            dist[i, j] = np.sum(np.square(data[i] - data[j]))\n",
    "    return dist\n",
    "\n",
    "dist_ij = cal_dist_ij(data)\n",
    "dist_ij"
   ]
  },
  {
   "cell_type": "code",
   "execution_count": 7,
   "metadata": {},
   "outputs": [
    {
     "data": {
      "text/plain": [
       "array([ 48. ,  47.4,  64.4,  82.2, 106.8])"
      ]
     },
     "execution_count": 7,
     "metadata": {},
     "output_type": "execute_result"
    }
   ],
   "source": [
    "# 计算dist_i\n",
    "def cal_dist_i(dist_ij):\n",
    "    n = dist_ij.shape[0]\n",
    "    dist_i = np.zeros(n)\n",
    "    for i in range(n):\n",
    "        dist_i[i] = np.sum(dist_ij[i]) / n\n",
    "    return dist_i\n",
    "\n",
    "dist_i = cal_dist_i(dist_ij)\n",
    "dist_i"
   ]
  },
  {
   "cell_type": "code",
   "execution_count": 8,
   "metadata": {},
   "outputs": [
    {
     "data": {
      "text/plain": [
       "array([ 48. ,  47.4,  64.4,  82.2, 106.8])"
      ]
     },
     "execution_count": 8,
     "metadata": {},
     "output_type": "execute_result"
    }
   ],
   "source": [
    "# 计算dist_j\n",
    "def cal_dist_j(dist_ij):\n",
    "    n = dist_ij.shape[0]\n",
    "    dist_j = np.zeros(n)\n",
    "    for j in range(n):\n",
    "        dist_j[j] = np.sum(dist_ij[:, j]) / n\n",
    "    return dist_j\n",
    "\n",
    "dist_j = cal_dist_j(dist_ij)\n",
    "dist_j"
   ]
  },
  {
   "cell_type": "code",
   "execution_count": 10,
   "metadata": {},
   "outputs": [
    {
     "data": {
      "text/plain": [
       "69.76"
      ]
     },
     "execution_count": 10,
     "metadata": {},
     "output_type": "execute_result"
    }
   ],
   "source": [
    "# 计算dist\n",
    "def cal_dist(dist_ij):\n",
    "    n = dist_ij.shape[0]\n",
    "    dist = np.sum(dist_ij) / (n ** 2)\n",
    "    return dist\n",
    "\n",
    "dist = cal_dist(dist_ij)\n",
    "dist"
   ]
  },
  {
   "cell_type": "code",
   "execution_count": 11,
   "metadata": {},
   "outputs": [
    {
     "data": {
      "text/plain": [
       "array([[ 13.12,   7.32,   1.32,  -6.28, -15.48],\n",
       "       [  7.32,  12.52,   0.52,  -6.08, -14.28],\n",
       "       [  1.32,   0.52,  29.52, -12.08, -19.28],\n",
       "       [ -6.28,  -6.08, -12.08,  47.32, -22.88],\n",
       "       [-15.48, -14.28, -19.28, -22.88,  71.92]])"
      ]
     },
     "execution_count": 11,
     "metadata": {},
     "output_type": "execute_result"
    }
   ],
   "source": [
    "# 计算B矩阵\n",
    "def cal_B(dist_ij):\n",
    "    n = dist_ij.shape[0]\n",
    "    B = np.zeros((n, n))\n",
    "    dist = cal_dist(dist_ij)\n",
    "    dist_i = cal_dist_i(dist_ij)\n",
    "    dist_j = cal_dist_j(dist_ij)\n",
    "    for i in range(n):\n",
    "        for j in range(n):\n",
    "            B[i, j] = -0.5 * (dist_ij[i, j] - dist_i[i] - dist_j[j] + dist)\n",
    "    return B\n",
    "\n",
    "B = cal_B(dist_ij)\n",
    "B"
   ]
  },
  {
   "cell_type": "code",
   "execution_count": 12,
   "metadata": {},
   "outputs": [
    {
     "data": {
      "text/plain": [
       "(array([ 9.11123429e+01,  5.45076416e+01,  2.32971211e+01, -4.16950939e-15,\n",
       "         5.48289438e+00]),\n",
       " array([[-0.16376358, -0.22196955,  0.47514312,  0.4472136 , -0.70579744],\n",
       "        [-0.14917368, -0.20472453,  0.48402142,  0.4472136 ,  0.70820784],\n",
       "        [-0.21055018, -0.50243646, -0.70926975,  0.4472136 ,  0.01275352],\n",
       "        [-0.35856982,  0.79977656, -0.17821555,  0.4472136 , -0.00493521],\n",
       "        [ 0.88205726,  0.12935398, -0.07167924,  0.4472136 , -0.01022871]]))"
      ]
     },
     "execution_count": 12,
     "metadata": {},
     "output_type": "execute_result"
    }
   ],
   "source": [
    "# 计算特征值和特征向量\n",
    "def cal_eig(B):\n",
    "    eig_val, eig_vec = np.linalg.eig(B)\n",
    "    return eig_val, eig_vec\n",
    "\n",
    "eig_val, eig_vec = cal_eig(B)\n",
    "eig_val, eig_vec"
   ]
  },
  {
   "cell_type": "code",
   "execution_count": 13,
   "metadata": {},
   "outputs": [
    {
     "data": {
      "text/plain": [
       "(array([91.11234286, 54.50764161]),\n",
       " array([[-0.16376358, -0.22196955],\n",
       "        [-0.14917368, -0.20472453],\n",
       "        [-0.21055018, -0.50243646],\n",
       "        [-0.35856982,  0.79977656],\n",
       "        [ 0.88205726,  0.12935398]]))"
      ]
     },
     "execution_count": 13,
     "metadata": {},
     "output_type": "execute_result"
    }
   ],
   "source": [
    "# 选择特征值最大的k个特征向量\n",
    "def select_k(eig_val, eig_vec, k):\n",
    "    eig_val_index = np.argsort(-eig_val)\n",
    "    eig_val = eig_val[eig_val_index]\n",
    "    eig_vec = eig_vec[:, eig_val_index]\n",
    "    return eig_val[:k], eig_vec[:, :k]\n",
    "\n",
    "k = 2\n",
    "eig_val_k, eig_vec_k = select_k(eig_val, eig_vec, k)\n",
    "eig_val_k, eig_vec_k"
   ]
  },
  {
   "cell_type": "code",
   "execution_count": 14,
   "metadata": {},
   "outputs": [
    {
     "data": {
      "text/plain": [
       "array([[-1.563169  , -1.63878542],\n",
       "       [-1.42390428, -1.51146671],\n",
       "       [-2.00976009, -3.70945271],\n",
       "       [-3.42264886,  5.90469359],\n",
       "       [ 8.41948224,  0.95501125]])"
      ]
     },
     "execution_count": 14,
     "metadata": {},
     "output_type": "execute_result"
    }
   ],
   "source": [
    "# 计算降维后的数据\n",
    "def cal_data_low(eig_val_k, eig_vec_k):\n",
    "    data_low = np.dot(eig_vec_k, np.diag(np.sqrt(eig_val_k)))\n",
    "    return data_low\n",
    "\n",
    "data_low = cal_data_low(eig_val_k, eig_vec_k)\n",
    "data_low"
   ]
  },
  {
   "cell_type": "code",
   "execution_count": null,
   "metadata": {},
   "outputs": [],
   "source": [
    "# 整合代码\n",
    "def MDS(X, k=2):\n",
    "    def cal_dist_ij(data):\n",
    "        n = data.shape[0]\n",
    "        dist = np.zeros((n, n))\n",
    "        for i in range(n):\n",
    "            for j in range(n):\n",
    "                dist[i, j] = np.sum(np.square(data[i] - data[j]))\n",
    "        return dist\n",
    "\n",
    "    def cal_dist_i(dist_ij):\n",
    "        n = dist_ij.shape[0]\n",
    "        dist_i = np.zeros(n)\n",
    "        for i in range(n):\n",
    "            dist_i[i] = np.sum(dist_ij[i]) / n\n",
    "        return dist_i\n",
    "\n",
    "    def cal_dist_j(dist_ij):\n",
    "        n = dist_ij.shape[0]\n",
    "        dist_j = np.zeros(n)\n",
    "        for j in range(n):\n",
    "            dist_j[j] = np.sum(dist_ij[:, j]) / n\n",
    "        return dist_j\n",
    "\n",
    "    def cal_dist(dist_ij):\n",
    "        n = dist_ij.shape[0]\n",
    "        dist = np.sum(dist_ij) / (n ** 2)\n",
    "        return dist\n",
    "\n",
    "    def cal_B(dist_ij):\n",
    "        n = dist_ij.shape[0]\n",
    "        B = np.zeros((n, n))\n",
    "        dist = cal_dist(dist_ij)\n",
    "        dist_i = cal_dist_i(dist_ij)\n",
    "        dist_j = cal_dist_j(dist_ij)\n",
    "        for i in range(n):\n",
    "            for j in range(n):\n",
    "                B[i, j] = -0.5 * (dist_ij[i, j] - dist_i[i] - dist_j[j] + dist)\n",
    "        return B\n",
    "\n",
    "    def cal_eig(B):\n",
    "        eig_val, eig_vec = np.linalg.eig(B)\n",
    "        return eig_val, eig_vec\n",
    "\n",
    "    def select_k(eig_val, eig_vec, k):\n",
    "        eig_val_index = np.argsort(-eig_val)\n",
    "        eig_val = eig_val[eig_val_index]\n",
    "        eig_vec = eig_vec[:, eig_val_index]\n",
    "        return eig_val[:k], eig_vec[:, :k]\n",
    "\n",
    "    def cal_data_low(eig_val_k, eig_vec_k):\n",
    "        data_low = np.dot(eig_vec_k, np.diag(np.sqrt(eig_val_k)))\n",
    "        return data_low\n",
    "\n",
    "    dist_ij = cal_dist_ij(X)\n",
    "    B = cal_B(dist_ij)\n",
    "    eig_val, eig_vec = cal_eig(B)\n",
    "    eig_val_k, eig_vec_k = select_k(eig_val, eig_vec, k)\n",
    "    data_low = cal_data_low(eig_val_k, eig_vec_k)\n",
    "    return data_low"
   ]
  }
 ],
 "metadata": {
  "kernelspec": {
   "display_name": "base",
   "language": "python",
   "name": "python3"
  },
  "language_info": {
   "codemirror_mode": {
    "name": "ipython",
    "version": 3
   },
   "file_extension": ".py",
   "mimetype": "text/x-python",
   "name": "python",
   "nbconvert_exporter": "python",
   "pygments_lexer": "ipython3",
   "version": "3.12.4"
  }
 },
 "nbformat": 4,
 "nbformat_minor": 2
}
