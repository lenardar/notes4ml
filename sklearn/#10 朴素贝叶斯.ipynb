{
 "cells": [
  {
   "cell_type": "markdown",
   "id": "10f1db42",
   "metadata": {},
   "source": [
    "学习sklearn朴素贝叶斯算法。"
   ]
  },
  {
   "cell_type": "markdown",
   "id": "b12b2474",
   "metadata": {},
   "source": [
    "# GaussianNB"
   ]
  },
  {
   "cell_type": "code",
   "execution_count": 1,
   "id": "95e5dd9b",
   "metadata": {},
   "outputs": [
    {
     "data": {
      "text/plain": [
       "1.0"
      ]
     },
     "execution_count": 1,
     "metadata": {},
     "output_type": "execute_result"
    }
   ],
   "source": [
    "# 测试GaussianNB\n",
    "import numpy as np\n",
    "from sklearn import datasets\n",
    "from sklearn.model_selection import train_test_split\n",
    "from sklearn.naive_bayes import GaussianNB\n",
    "\n",
    "# 载入数据集\n",
    "iris = datasets.load_iris()\n",
    "X = iris.data\n",
    "y = iris.target\n",
    "\n",
    "# 划分训练集和测试集\n",
    "X_train, X_test, y_train, y_test = train_test_split(X, y, test_size=0.2, random_state=42)\n",
    "# 创建GaussianNB分类器\n",
    "gnb = GaussianNB()\n",
    "\n",
    "# 训练分类器\n",
    "gnb.fit(X_train, y_train)\n",
    "\n",
    "# 预测测试集\n",
    "y_pred = gnb.predict(X_test)\n",
    "\n",
    "# 得分\n",
    "\n",
    "score = gnb.score(X_test, y_test)\n",
    "score"
   ]
  },
  {
   "cell_type": "markdown",
   "id": "d482906f",
   "metadata": {},
   "source": [
    "# MultinomialNB"
   ]
  },
  {
   "cell_type": "code",
   "execution_count": 9,
   "id": "44727ca8",
   "metadata": {},
   "outputs": [
    {
     "data": {
      "text/plain": [
       "1.0"
      ]
     },
     "execution_count": 9,
     "metadata": {},
     "output_type": "execute_result"
    }
   ],
   "source": [
    "# 测试MultinomialNB\n",
    "from sklearn.naive_bayes import MultinomialNB\n",
    "# 使用鸢尾花数据集不适合MultinomialNB，通常用于文本分类等离散特征\n",
    "# 这里我们使用一个简单的例子来演示MultinomialNB的用法\n",
    "# 创建一个简单的离散特征数据集\n",
    "X_multinomial = np.array([[1, 2, 0], [0, 1, 1], [2, 0, 1], [1, 1, 1]])\n",
    "y_multinomial = np.array([0, 1, 0, 1])\n",
    "\n",
    "# 创建MultinomialNB分类器\n",
    "mnb = MultinomialNB()\n",
    "\n",
    "# 训练分类器\n",
    "mnb.fit(X_multinomial, y_multinomial)\n",
    "# 预测测试集\n",
    "y_pred_multi = mnb.predict(X_multinomial)\n",
    "# 得分\n",
    "score_multi = mnb.score(X_multinomial, y_multinomial)\n",
    "score_multi"
   ]
  },
  {
   "cell_type": "markdown",
   "id": "1ee18891",
   "metadata": {},
   "source": [
    "# ComplementNB"
   ]
  },
  {
   "cell_type": "code",
   "execution_count": 10,
   "id": "e1bf6352",
   "metadata": {},
   "outputs": [
    {
     "data": {
      "text/plain": [
       "1.0"
      ]
     },
     "execution_count": 10,
     "metadata": {},
     "output_type": "execute_result"
    }
   ],
   "source": [
    "# 测试ComplementNB\n",
    "from sklearn.naive_bayes import ComplementNB\n",
    "\n",
    "# 创建ComplementNB分类器\n",
    "cnb = ComplementNB()\n",
    "\n",
    "# 训练分类器\n",
    "cnb.fit(X_multinomial, y_multinomial)\n",
    "\n",
    "# 预测测试集\n",
    "y_pred_complement = cnb.predict(X_multinomial)\n",
    "\n",
    "# 得分\n",
    "score_complement = cnb.score(X_multinomial, y_multinomial)\n",
    "score_complement"
   ]
  },
  {
   "cell_type": "markdown",
   "id": "22f5b215",
   "metadata": {},
   "source": [
    "# BernoulliNB"
   ]
  },
  {
   "cell_type": "code",
   "execution_count": 11,
   "id": "bd529ad8",
   "metadata": {},
   "outputs": [
    {
     "data": {
      "text/plain": [
       "1.0"
      ]
     },
     "execution_count": 11,
     "metadata": {},
     "output_type": "execute_result"
    }
   ],
   "source": [
    "# 测试一下BernoulliNB\n",
    "from sklearn.naive_bayes import BernoulliNB\n",
    "# 创建一个简单的二元特征数据集\n",
    "X_bernoulli = np.array([[1, 0, 1], [0, 1, 0], [1, 1, 0], [0, 0, 1]])\n",
    "y_bernoulli = np.array([1, 0, 1, 0])\n",
    "\n",
    "# 创建BernoulliNB分类器\n",
    "bnb = BernoulliNB()\n",
    "\n",
    "# 训练分类器\n",
    "bnb.fit(X_bernoulli, y_bernoulli)\n",
    "\n",
    "# 预测测试集\n",
    "y_pred_bernoulli = bnb.predict(X_bernoulli)\n",
    "\n",
    "# 得分\n",
    "score_bernoulli = bnb.score(X_bernoulli, y_bernoulli)\n",
    "score_bernoulli"
   ]
  },
  {
   "cell_type": "markdown",
   "id": "091355f9",
   "metadata": {},
   "source": [
    "# CategoricalNB"
   ]
  },
  {
   "cell_type": "code",
   "execution_count": 12,
   "id": "ccbfa5cc",
   "metadata": {},
   "outputs": [
    {
     "data": {
      "text/plain": [
       "1.0"
      ]
     },
     "execution_count": 12,
     "metadata": {},
     "output_type": "execute_result"
    }
   ],
   "source": [
    "# 测试CategoricalNB\n",
    "from sklearn.naive_bayes import CategoricalNB\n",
    "\n",
    "# 创建一个简单的分类特征数据集\n",
    "X_categorical = np.array([[0, 1], [1, 0], [0, 0], [1, 1]])\n",
    "y_categorical = np.array([0, 1, 0, 1])\n",
    "\n",
    "# 创建CategoricalNB分类器\n",
    "cnb_cat = CategoricalNB()\n",
    "\n",
    "# 训练分类器\n",
    "cnb_cat.fit(X_categorical, y_categorical)\n",
    "\n",
    "# 预测测试集\n",
    "y_pred_categorical = cnb_cat.predict(X_categorical)\n",
    "\n",
    "# 得分\n",
    "score_categorical = cnb_cat.score(X_categorical, y_categorical)\n",
    "score_categorical"
   ]
  },
  {
   "cell_type": "code",
   "execution_count": null,
   "id": "3e539c0b",
   "metadata": {},
   "outputs": [],
   "source": []
  }
 ],
 "metadata": {
  "kernelspec": {
   "display_name": "base",
   "language": "python",
   "name": "python3"
  },
  "language_info": {
   "codemirror_mode": {
    "name": "ipython",
    "version": 3
   },
   "file_extension": ".py",
   "mimetype": "text/x-python",
   "name": "python",
   "nbconvert_exporter": "python",
   "pygments_lexer": "ipython3",
   "version": "3.12.2"
  }
 },
 "nbformat": 4,
 "nbformat_minor": 5
}
