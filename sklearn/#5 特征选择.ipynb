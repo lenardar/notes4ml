{
 "cells": [
  {
   "cell_type": "markdown",
   "id": "332705d1",
   "metadata": {},
   "source": [
    "学习sklearn特征选择技术。"
   ]
  },
  {
   "cell_type": "markdown",
   "id": "4bf87f53",
   "metadata": {},
   "source": [
    "# 筛选零方差变量"
   ]
  },
  {
   "cell_type": "code",
   "execution_count": 3,
   "id": "c9ab3bca",
   "metadata": {},
   "outputs": [
    {
     "data": {
      "text/plain": [
       "array([[10.],\n",
       "       [25.],\n",
       "       [15.],\n",
       "       [12.],\n",
       "       [21.]])"
      ]
     },
     "execution_count": 3,
     "metadata": {},
     "output_type": "execute_result"
    }
   ],
   "source": [
    "import numpy as np\n",
    "from sklearn.feature_selection import VarianceThreshold\n",
    "\n",
    "# 创建一个包含不同方差特征的示例数据集\n",
    "# 特征0: 常数特征 (方差=0)\n",
    "# 特征1: 低方差特征 (方差很小)\n",
    "# 特征2: 高方差特征 (方差较大)\n",
    "X = np.array([\n",
    "    [1, 0.1, 10],\n",
    "    [1, 0.2, 25],\n",
    "    [1, 0.0, 15],\n",
    "    [1, 0.1, 12],\n",
    "    [1, 0.2, 21]\n",
    "])\n",
    "\n",
    "filter_var = VarianceThreshold(threshold = 0.1)  # 设置方差阈值\n",
    "filter_var.fit_transform(X)"
   ]
  },
  {
   "cell_type": "markdown",
   "id": "2a6d0530",
   "metadata": {},
   "source": [
    "# 单变量筛选"
   ]
  },
  {
   "cell_type": "code",
   "execution_count": 4,
   "id": "32b1be0a",
   "metadata": {},
   "outputs": [
    {
     "data": {
      "text/plain": [
       "(150, 2)"
      ]
     },
     "execution_count": 4,
     "metadata": {},
     "output_type": "execute_result"
    }
   ],
   "source": [
    "from sklearn.datasets import load_iris\n",
    "from sklearn.feature_selection import SelectKBest\n",
    "from sklearn.feature_selection import f_classif\n",
    "X, y = load_iris(return_X_y=True)\n",
    "X.shape\n",
    "X_new = SelectKBest(f_classif, k=2).fit_transform(X, y)\n",
    "X_new.shape"
   ]
  },
  {
   "cell_type": "markdown",
   "id": "64c30a81",
   "metadata": {},
   "source": [
    "# 递归特征筛选"
   ]
  },
  {
   "cell_type": "code",
   "execution_count": 9,
   "id": "f06835af",
   "metadata": {},
   "outputs": [
    {
     "data": {
      "text/plain": [
       "(1000, 10)"
      ]
     },
     "execution_count": 9,
     "metadata": {},
     "output_type": "execute_result"
    }
   ],
   "source": [
    "from sklearn.datasets import make_classification\n",
    "from sklearn.feature_selection import RFE, RFECV\n",
    "from sklearn.ensemble import RandomForestClassifier\n",
    "\n",
    "X, y = make_classification(\n",
    "    n_samples=1000,\n",
    "    n_features=25,\n",
    "    n_informative=15,\n",
    "    n_redundant=5,\n",
    "    n_repeated=0,\n",
    "    n_classes=2,\n",
    "    random_state=42\n",
    ")\n",
    "\n",
    "rfe_rf = RFE(\n",
    "  estimator = RandomForestClassifier(n_estimators=100, random_state=42),\n",
    "  n_features_to_select=10,\n",
    "  step = 1\n",
    ")\n",
    "\n",
    "rfe_rf.fit_transform(X, y).shape"
   ]
  },
  {
   "cell_type": "code",
   "execution_count": 10,
   "id": "3ec1b7b2",
   "metadata": {},
   "outputs": [
    {
     "data": {
      "text/plain": [
       "21"
      ]
     },
     "execution_count": 10,
     "metadata": {},
     "output_type": "execute_result"
    }
   ],
   "source": [
    "rfecv = RFECV(\n",
    "  estimator = RandomForestClassifier(n_estimators=100, random_state=42),\n",
    "  step = 1,\n",
    "  cv = 5\n",
    ")\n",
    "\n",
    "rfecv.fit(X, y)\n",
    "rfecv.n_features_"
   ]
  },
  {
   "cell_type": "markdown",
   "id": "6c8eb432",
   "metadata": {},
   "source": [
    "# 模型筛选法"
   ]
  },
  {
   "cell_type": "code",
   "execution_count": 11,
   "id": "1ee32235",
   "metadata": {},
   "outputs": [
    {
     "name": "stderr",
     "output_type": "stream",
     "text": [
      "/opt/anaconda3/lib/python3.12/site-packages/sklearn/svm/_base.py:1249: ConvergenceWarning: Liblinear failed to converge, increase the number of iterations.\n",
      "  warnings.warn(\n"
     ]
    },
    {
     "data": {
      "text/plain": [
       "(150, 3)"
      ]
     },
     "execution_count": 11,
     "metadata": {},
     "output_type": "execute_result"
    }
   ],
   "source": [
    "from sklearn.svm import LinearSVC\n",
    "from sklearn.datasets import load_iris\n",
    "from sklearn.feature_selection import SelectFromModel\n",
    "X, y = load_iris(return_X_y=True)\n",
    "X.shape\n",
    "lsvc = LinearSVC(C=0.01, penalty=\"l1\", dual=False).fit(X, y)\n",
    "model = SelectFromModel(lsvc, prefit=True)\n",
    "X_new = model.transform(X)\n",
    "X_new.shape"
   ]
  },
  {
   "cell_type": "code",
   "execution_count": 12,
   "id": "1ab613c3",
   "metadata": {},
   "outputs": [
    {
     "data": {
      "text/plain": [
       "(150, 2)"
      ]
     },
     "execution_count": 12,
     "metadata": {},
     "output_type": "execute_result"
    }
   ],
   "source": [
    "from sklearn.ensemble import ExtraTreesClassifier\n",
    "from sklearn.datasets import load_iris\n",
    "from sklearn.feature_selection import SelectFromModel\n",
    "X, y = load_iris(return_X_y=True)\n",
    "X.shape\n",
    "clf = ExtraTreesClassifier(n_estimators=50)\n",
    "clf = clf.fit(X, y)\n",
    "clf.feature_importances_  \n",
    "model = SelectFromModel(clf, prefit=True)\n",
    "X_new = model.transform(X)\n",
    "X_new.shape               "
   ]
  },
  {
   "cell_type": "markdown",
   "id": "73c3ab3b",
   "metadata": {},
   "source": [
    "# 顺序筛选"
   ]
  },
  {
   "cell_type": "code",
   "execution_count": 14,
   "id": "64b5dec2",
   "metadata": {},
   "outputs": [
    {
     "data": {
      "text/plain": [
       "(150, 2)"
      ]
     },
     "execution_count": 14,
     "metadata": {},
     "output_type": "execute_result"
    }
   ],
   "source": [
    "from sklearn.datasets import load_iris\n",
    "from sklearn.neighbors import KNeighborsClassifier\n",
    "from sklearn.feature_selection import SequentialFeatureSelector\n",
    "\n",
    "X, y = load_iris(return_X_y=True)\n",
    "knn = KNeighborsClassifier(n_neighbors=3)\n",
    "\n",
    "sfs_forward = SequentialFeatureSelector(\n",
    "    estimator=knn,\n",
    "    n_features_to_select=2, # 目标特征数量\n",
    "    direction='forward',\n",
    "    cv=5 # 5折交叉验证\n",
    ")\n",
    "\n",
    "sfs_forward.fit_transform(X, y).shape"
   ]
  },
  {
   "cell_type": "code",
   "execution_count": 15,
   "id": "25d2c9b3",
   "metadata": {},
   "outputs": [
    {
     "data": {
      "text/plain": [
       "(150, 2)"
      ]
     },
     "execution_count": 15,
     "metadata": {},
     "output_type": "execute_result"
    }
   ],
   "source": [
    "from sklearn.datasets import load_iris\n",
    "from sklearn.neighbors import KNeighborsClassifier\n",
    "from sklearn.feature_selection import SequentialFeatureSelector\n",
    "\n",
    "X, y = load_iris(return_X_y=True)\n",
    "knn = KNeighborsClassifier(n_neighbors=3)\n",
    "\n",
    "sfs_forward = SequentialFeatureSelector(\n",
    "    estimator=knn,\n",
    "    n_features_to_select=2, # 目标特征数量\n",
    "    direction='backward',\n",
    "    cv=5 # 5折交叉验证\n",
    ")\n",
    "\n",
    "sfs_forward.fit_transform(X, y).shape"
   ]
  },
  {
   "cell_type": "code",
   "execution_count": null,
   "id": "a9d50f01",
   "metadata": {},
   "outputs": [],
   "source": []
  }
 ],
 "metadata": {
  "kernelspec": {
   "display_name": "base",
   "language": "python",
   "name": "python3"
  },
  "language_info": {
   "codemirror_mode": {
    "name": "ipython",
    "version": 3
   },
   "file_extension": ".py",
   "mimetype": "text/x-python",
   "name": "python",
   "nbconvert_exporter": "python",
   "pygments_lexer": "ipython3",
   "version": "3.12.2"
  }
 },
 "nbformat": 4,
 "nbformat_minor": 5
}
