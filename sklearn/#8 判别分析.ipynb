{
 "cells": [
  {
   "cell_type": "markdown",
   "id": "a84f19e4",
   "metadata": {},
   "source": [
    "# LDA"
   ]
  },
  {
   "cell_type": "code",
   "execution_count": 3,
   "id": "6220079c",
   "metadata": {},
   "outputs": [
    {
     "data": {
      "text/plain": [
       "1.0"
      ]
     },
     "execution_count": 3,
     "metadata": {},
     "output_type": "execute_result"
    }
   ],
   "source": [
    "# 测试LDA\n",
    "# 加载必要的库\n",
    "import numpy as np\n",
    "from sklearn.datasets import load_iris\n",
    "from sklearn.discriminant_analysis import LinearDiscriminantAnalysis\n",
    "from sklearn.model_selection import train_test_split\n",
    "from sklearn.pipeline import Pipeline\n",
    "from sklearn.preprocessing import StandardScaler\n",
    "\n",
    "# 加载数据集\n",
    "iris = load_iris()\n",
    "X = iris.data\n",
    "y = iris.target\n",
    "\n",
    "# 划分数据集\n",
    "X_train, X_test, y_train, y_test = train_test_split(X, y, test_size=0.2, random_state=42)\n",
    "\n",
    "# 创建管道学习器\n",
    "pipeline = Pipeline([\n",
    "    ('scaler', StandardScaler()),  # 标准化\n",
    "    ('lda', LinearDiscriminantAnalysis())  # LDA分类器\n",
    "])\n",
    "\n",
    "# 训练模型\n",
    "pipeline.fit(X_train, y_train)\n",
    "\n",
    "# 预测\n",
    "y_pred = pipeline.predict(X_test)\n",
    "\n",
    "# 得分\n",
    "from sklearn.metrics import accuracy_score\n",
    "accuracy = accuracy_score(y_test, y_pred)\n",
    "accuracy"
   ]
  },
  {
   "cell_type": "markdown",
   "id": "36580d7a",
   "metadata": {},
   "source": [
    "# LDA降维"
   ]
  },
  {
   "cell_type": "code",
   "execution_count": 4,
   "id": "13d10e6b",
   "metadata": {},
   "outputs": [
    {
     "data": {
      "text/plain": [
       "(120, 2)"
      ]
     },
     "execution_count": 4,
     "metadata": {},
     "output_type": "execute_result"
    }
   ],
   "source": [
    "# 测试LDA降维\n",
    "lda = LinearDiscriminantAnalysis(n_components=2)\n",
    "X_lda = lda.fit_transform(X_train, y_train)\n",
    "# 输出降维后的数据形状\n",
    "X_lda.shape"
   ]
  },
  {
   "cell_type": "code",
   "execution_count": 5,
   "id": "4aec5006",
   "metadata": {},
   "outputs": [
    {
     "data": {
      "text/plain": [
       "1.0"
      ]
     },
     "execution_count": 5,
     "metadata": {},
     "output_type": "execute_result"
    }
   ],
   "source": [
    "# 作为管道学习器一部分，最终用SVM进行分类\n",
    "from sklearn.svm import SVC\n",
    "pipeline_svm = Pipeline([\n",
    "    ('scaler', StandardScaler()),\n",
    "    ('lda', LinearDiscriminantAnalysis(n_components=2)),\n",
    "    ('svm', SVC(kernel='linear'))  # 使用线性核的SVM分类器\n",
    "])\n",
    "\n",
    "# 训练SVM模型\n",
    "pipeline_svm.fit(X_train, y_train)\n",
    "\n",
    "# 预测SVM模型\n",
    "y_pred_svm = pipeline_svm.predict(X_test)\n",
    "\n",
    "# 计算SVM模型的准确率\n",
    "accuracy_svm = accuracy_score(y_test, y_pred_svm)\n",
    "accuracy_svm"
   ]
  },
  {
   "cell_type": "markdown",
   "id": "f9344a42",
   "metadata": {},
   "source": [
    "# QDA"
   ]
  },
  {
   "cell_type": "code",
   "execution_count": 6,
   "id": "35511fb4",
   "metadata": {},
   "outputs": [
    {
     "data": {
      "text/plain": [
       "0.9666666666666667"
      ]
     },
     "execution_count": 6,
     "metadata": {},
     "output_type": "execute_result"
    }
   ],
   "source": [
    "# 测试QDA\n",
    "from sklearn.discriminant_analysis import QuadraticDiscriminantAnalysis\n",
    "\n",
    "# 创建QDA分类器\n",
    "qda = QuadraticDiscriminantAnalysis()\n",
    "\n",
    "# 训练QDA模型\n",
    "qda.fit(X_train, y_train)\n",
    "\n",
    "# 预测QDA模型\n",
    "y_pred_qda = qda.predict(X_test)\n",
    "\n",
    "# 计算QDA模型的准确率\n",
    "accuracy_qda = accuracy_score(y_test, y_pred_qda)\n",
    "accuracy_qda"
   ]
  },
  {
   "cell_type": "code",
   "execution_count": null,
   "id": "f8df0882",
   "metadata": {},
   "outputs": [],
   "source": []
  }
 ],
 "metadata": {
  "kernelspec": {
   "display_name": "base",
   "language": "python",
   "name": "python3"
  },
  "language_info": {
   "codemirror_mode": {
    "name": "ipython",
    "version": 3
   },
   "file_extension": ".py",
   "mimetype": "text/x-python",
   "name": "python",
   "nbconvert_exporter": "python",
   "pygments_lexer": "ipython3",
   "version": "3.12.2"
  }
 },
 "nbformat": 4,
 "nbformat_minor": 5
}
