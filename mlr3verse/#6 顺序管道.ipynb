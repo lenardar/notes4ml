{
 "cells": [
  {
   "cell_type": "markdown",
   "id": "3999cf33",
   "metadata": {},
   "source": [
    "学习{mlr3verse}顺序管道。"
   ]
  },
  {
   "cell_type": "code",
   "execution_count": 1,
   "id": "10014c7a",
   "metadata": {
    "vscode": {
     "languageId": "r"
    }
   },
   "outputs": [
    {
     "name": "stderr",
     "output_type": "stream",
     "text": [
      "-- \u001b[1mAttaching core tidyverse packages\u001b[22m ------------------------ tidyverse 2.0.0 --\n",
      "\u001b[32mv\u001b[39m \u001b[34mdplyr    \u001b[39m 1.1.4     \u001b[32mv\u001b[39m \u001b[34mreadr    \u001b[39m 2.1.5\n",
      "\u001b[32mv\u001b[39m \u001b[34mforcats  \u001b[39m 1.0.0     \u001b[32mv\u001b[39m \u001b[34mstringr  \u001b[39m 1.5.1\n",
      "\u001b[32mv\u001b[39m \u001b[34mggplot2  \u001b[39m 3.5.2     \u001b[32mv\u001b[39m \u001b[34mtibble   \u001b[39m 3.2.1\n",
      "\u001b[32mv\u001b[39m \u001b[34mlubridate\u001b[39m 1.9.4     \u001b[32mv\u001b[39m \u001b[34mtidyr    \u001b[39m 1.3.1\n",
      "\u001b[32mv\u001b[39m \u001b[34mpurrr    \u001b[39m 1.0.4     \n",
      "-- \u001b[1mConflicts\u001b[22m ------------------------------------------ tidyverse_conflicts() --\n",
      "\u001b[31mx\u001b[39m \u001b[34mdplyr\u001b[39m::\u001b[32mfilter()\u001b[39m masks \u001b[34mstats\u001b[39m::filter()\n",
      "\u001b[31mx\u001b[39m \u001b[34mdplyr\u001b[39m::\u001b[32mlag()\u001b[39m    masks \u001b[34mstats\u001b[39m::lag()\n",
      "\u001b[36mi\u001b[39m Use the conflicted package (\u001b[3m\u001b[34m<http://conflicted.r-lib.org/>\u001b[39m\u001b[23m) to force all conflicts to become errors\n",
      "Loading required package: mlr3\n",
      "\n"
     ]
    }
   ],
   "source": [
    "library(tidyverse)\n",
    "library(mlr3verse)"
   ]
  },
  {
   "cell_type": "markdown",
   "id": "9eb30df5",
   "metadata": {},
   "source": [
    "# PipeOp：管道操作符"
   ]
  },
  {
   "cell_type": "code",
   "execution_count": null,
   "id": "a22339d6",
   "metadata": {
    "vscode": {
     "languageId": "r"
    }
   },
   "outputs": [
    {
     "data": {
      "text/html": [
       "<table class=\"dataframe\">\n",
       "<caption>A data.table: 6 x 2</caption>\n",
       "<thead>\n",
       "\t<tr><th scope=col>key</th><th scope=col>label</th></tr>\n",
       "\t<tr><th scope=col>&lt;chr&gt;</th><th scope=col>&lt;chr&gt;</th></tr>\n",
       "</thead>\n",
       "<tbody>\n",
       "\t<tr><td>adas          </td><td>ADAS Balancing                            </td></tr>\n",
       "\t<tr><td>blsmote       </td><td>BLSMOTE Balancing                         </td></tr>\n",
       "\t<tr><td>boxcox        </td><td>Box-Cox Transformation of Numeric Features</td></tr>\n",
       "\t<tr><td>branch        </td><td>Path Branching                            </td></tr>\n",
       "\t<tr><td>chunk         </td><td>Chunk Input into Multiple Outputs         </td></tr>\n",
       "\t<tr><td>classbalancing</td><td>Class Balancing                           </td></tr>\n",
       "</tbody>\n",
       "</table>\n"
      ],
      "text/latex": [
       "A data.table: 6 x 2\n",
       "\\begin{tabular}{ll}\n",
       " key & label\\\\\n",
       " <chr> & <chr>\\\\\n",
       "\\hline\n",
       "\t adas           & ADAS Balancing                            \\\\\n",
       "\t blsmote        & BLSMOTE Balancing                         \\\\\n",
       "\t boxcox         & Box-Cox Transformation of Numeric Features\\\\\n",
       "\t branch         & Path Branching                            \\\\\n",
       "\t chunk          & Chunk Input into Multiple Outputs         \\\\\n",
       "\t classbalancing & Class Balancing                           \\\\\n",
       "\\end{tabular}\n"
      ],
      "text/markdown": [
       "\n",
       "A data.table: 6 x 2\n",
       "\n",
       "| key &lt;chr&gt; | label &lt;chr&gt; |\n",
       "|---|---|\n",
       "| adas           | ADAS Balancing                             |\n",
       "| blsmote        | BLSMOTE Balancing                          |\n",
       "| boxcox         | Box-Cox Transformation of Numeric Features |\n",
       "| branch         | Path Branching                             |\n",
       "| chunk          | Chunk Input into Multiple Outputs          |\n",
       "| classbalancing | Class Balancing                            |\n",
       "\n"
      ],
      "text/plain": [
       "  key            label                                     \n",
       "1 adas           ADAS Balancing                            \n",
       "2 blsmote        BLSMOTE Balancing                         \n",
       "3 boxcox         Box-Cox Transformation of Numeric Features\n",
       "4 branch         Path Branching                            \n",
       "5 chunk          Chunk Input into Multiple Outputs         \n",
       "6 classbalancing Class Balancing                           "
      ]
     },
     "metadata": {},
     "output_type": "display_data"
    }
   ],
   "source": [
    "as.data.table(po())[1:6, 1:2]\n",
    "\n",
    "# key            label                                     \n",
    "# 1 adas           ADAS Balancing                            \n",
    "# 2 blsmote        BLSMOTE Balancing                         \n",
    "# 3 boxcox         Box-Cox Transformation of Numeric Features\n",
    "# 4 branch         Path Branching                            \n",
    "# 5 chunk          Chunk Input into Multiple Outputs         \n",
    "# 6 classbalancing Class Balancing"
   ]
  },
  {
   "cell_type": "code",
   "execution_count": null,
   "id": "b0482226",
   "metadata": {
    "vscode": {
     "languageId": "r"
    }
   },
   "outputs": [
    {
     "data": {
      "text/plain": [
       "PipeOp: <pca> (not trained)\n",
       "values: <center=TRUE>\n",
       "Input channels <name [train type, predict type]>:\n",
       "  input [Task,Task]\n",
       "Output channels <name [train type, predict type]>:\n",
       "  output [Task,Task]"
      ]
     },
     "metadata": {},
     "output_type": "display_data"
    }
   ],
   "source": [
    "po_pca <- po(\"pca\", center = TRUE)\n",
    "po_pca\n",
    "\n",
    "# PipeOp: <pca> (not trained)\n",
    "# values: <center=TRUE>\n",
    "# Input channels <name [train type, predict type]>:\n",
    "#   input [Task,Task]\n",
    "# Output channels <name [train type, predict type]>:\n",
    "#   output [Task,Task]"
   ]
  },
  {
   "cell_type": "code",
   "execution_count": null,
   "id": "278fc735",
   "metadata": {
    "vscode": {
     "languageId": "r"
    }
   },
   "outputs": [
    {
     "data": {
      "text/plain": [
       "$output\n",
       "<TaskClassif:penguins> (5 x 3): Simplified Palmer Penguins\n",
       "* Target: species\n",
       "* Properties: multiclass\n",
       "* Features (2):\n",
       "  - dbl (2): PC1, PC2\n"
      ]
     },
     "metadata": {},
     "output_type": "display_data"
    }
   ],
   "source": [
    "tsk_small <- tsk(\"penguins_simple\")$select(c(\"bill_depth\", \"bill_length\"))\n",
    "poin <- list(tsk_small$clone()$filter(1:5)) # po要求输入list\n",
    "poout <- po_pca$train(poin)\n",
    "poout\n",
    "\n",
    "# $output\n",
    "# <TaskClassif:penguins> (5 x 3): Simplified Palmer Penguins\n",
    "# * Target: species\n",
    "# * Properties: multiclass\n",
    "# * Features (2):\n",
    "#   - dbl (2): PC1, PC2"
   ]
  },
  {
   "cell_type": "code",
   "execution_count": null,
   "id": "178fc177",
   "metadata": {
    "vscode": {
     "languageId": "r"
    }
   },
   "outputs": [
    {
     "data": {
      "text/html": [
       "<table class=\"dataframe\">\n",
       "<caption>A data.table: 5 x 3</caption>\n",
       "<thead>\n",
       "\t<tr><th scope=col>species</th><th scope=col>PC1</th><th scope=col>PC2</th></tr>\n",
       "\t<tr><th scope=col>&lt;fct&gt;</th><th scope=col>&lt;dbl&gt;</th><th scope=col>&lt;dbl&gt;</th></tr>\n",
       "</thead>\n",
       "<tbody>\n",
       "\t<tr><td>Adelie</td><td> 0.1561004</td><td> 0.005716376</td></tr>\n",
       "\t<tr><td>Adelie</td><td> 1.2676891</td><td> 0.789534280</td></tr>\n",
       "\t<tr><td>Adelie</td><td> 1.5336113</td><td>-0.174460208</td></tr>\n",
       "\t<tr><td>Adelie</td><td>-2.1096077</td><td> 0.998977117</td></tr>\n",
       "\t<tr><td>Adelie</td><td>-0.8477930</td><td>-1.619767566</td></tr>\n",
       "</tbody>\n",
       "</table>\n"
      ],
      "text/latex": [
       "A data.table: 5 x 3\n",
       "\\begin{tabular}{lll}\n",
       " species & PC1 & PC2\\\\\n",
       " <fct> & <dbl> & <dbl>\\\\\n",
       "\\hline\n",
       "\t Adelie &  0.1561004 &  0.005716376\\\\\n",
       "\t Adelie &  1.2676891 &  0.789534280\\\\\n",
       "\t Adelie &  1.5336113 & -0.174460208\\\\\n",
       "\t Adelie & -2.1096077 &  0.998977117\\\\\n",
       "\t Adelie & -0.8477930 & -1.619767566\\\\\n",
       "\\end{tabular}\n"
      ],
      "text/markdown": [
       "\n",
       "A data.table: 5 x 3\n",
       "\n",
       "| species &lt;fct&gt; | PC1 &lt;dbl&gt; | PC2 &lt;dbl&gt; |\n",
       "|---|---|---|\n",
       "| Adelie |  0.1561004 |  0.005716376 |\n",
       "| Adelie |  1.2676891 |  0.789534280 |\n",
       "| Adelie |  1.5336113 | -0.174460208 |\n",
       "| Adelie | -2.1096077 |  0.998977117 |\n",
       "| Adelie | -0.8477930 | -1.619767566 |\n",
       "\n"
      ],
      "text/plain": [
       "  species PC1        PC2         \n",
       "1 Adelie   0.1561004  0.005716376\n",
       "2 Adelie   1.2676891  0.789534280\n",
       "3 Adelie   1.5336113 -0.174460208\n",
       "4 Adelie  -2.1096077  0.998977117\n",
       "5 Adelie  -0.8477930 -1.619767566"
      ]
     },
     "metadata": {},
     "output_type": "display_data"
    }
   ],
   "source": [
    "poout[[1]]$head()\n",
    "\n",
    "# species PC1        PC2         \n",
    "# 1 Adelie   0.1561004  0.005716376\n",
    "# 2 Adelie   1.2676891  0.789534280\n",
    "# 3 Adelie   1.5336113 -0.174460208\n",
    "# 4 Adelie  -2.1096077  0.998977117\n",
    "# 5 Adelie  -0.8477930 -1.619767566"
   ]
  },
  {
   "cell_type": "code",
   "execution_count": null,
   "id": "0cbe6726",
   "metadata": {
    "vscode": {
     "languageId": "r"
    }
   },
   "outputs": [
    {
     "data": {
      "text/plain": [
       "Standard deviations (1, .., p=2):\n",
       "[1] 1.512660 1.033856\n",
       "\n",
       "Rotation (n x k) = (2 x 2):\n",
       "                   PC1        PC2\n",
       "bill_depth  -0.6116423 -0.7911345\n",
       "bill_length  0.7911345 -0.6116423"
      ]
     },
     "metadata": {},
     "output_type": "display_data"
    }
   ],
   "source": [
    "po_pca$state\n",
    "\n",
    "# Standard deviations (1, .., p=2):\n",
    "# [1] 1.512660 1.033856\n",
    "\n",
    "# Rotation (n x k) = (2 x 2):\n",
    "#                    PC1        PC2\n",
    "# bill_depth  -0.6116423 -0.7911345\n",
    "# bill_length  0.7911345 -0.6116423"
   ]
  },
  {
   "cell_type": "code",
   "execution_count": null,
   "id": "f1604c1e",
   "metadata": {
    "vscode": {
     "languageId": "r"
    }
   },
   "outputs": [
    {
     "data": {
      "text/html": [
       "<table class=\"dataframe\">\n",
       "<caption>A data.table: 1 x 3</caption>\n",
       "<thead>\n",
       "\t<tr><th scope=col>species</th><th scope=col>PC1</th><th scope=col>PC2</th></tr>\n",
       "\t<tr><th scope=col>&lt;fct&gt;</th><th scope=col>&lt;dbl&gt;</th><th scope=col>&lt;dbl&gt;</th></tr>\n",
       "</thead>\n",
       "<tbody>\n",
       "\t<tr><td>Adelie</td><td>1.554877</td><td>-1.454908</td></tr>\n",
       "</tbody>\n",
       "</table>\n"
      ],
      "text/latex": [
       "A data.table: 1 x 3\n",
       "\\begin{tabular}{lll}\n",
       " species & PC1 & PC2\\\\\n",
       " <fct> & <dbl> & <dbl>\\\\\n",
       "\\hline\n",
       "\t Adelie & 1.554877 & -1.454908\\\\\n",
       "\\end{tabular}\n"
      ],
      "text/markdown": [
       "\n",
       "A data.table: 1 x 3\n",
       "\n",
       "| species &lt;fct&gt; | PC1 &lt;dbl&gt; | PC2 &lt;dbl&gt; |\n",
       "|---|---|---|\n",
       "| Adelie | 1.554877 | -1.454908 |\n",
       "\n"
      ],
      "text/plain": [
       "  species PC1      PC2      \n",
       "1 Adelie  1.554877 -1.454908"
      ]
     },
     "metadata": {},
     "output_type": "display_data"
    }
   ],
   "source": [
    "tsk_onepenguin <- tsk_small$clone()$filter(42)\n",
    "poin <- list(tsk_onepenguin)\n",
    "poout <- po_pca$predict(poin)\n",
    "poout[[1]]$data()\n",
    "\n",
    "# species PC1      PC2      \n",
    "# 1 Adelie  1.554877 -1.454908"
   ]
  },
  {
   "cell_type": "code",
   "execution_count": null,
   "id": "d9fd2b6a",
   "metadata": {
    "vscode": {
     "languageId": "r"
    }
   },
   "outputs": [
    {
     "data": {
      "text/plain": [
       "Graph with 2 PipeOps:\n",
       "     ID         State sccssors prdcssors\n",
       " <char>        <char>   <char>    <char>\n",
       " mutate <<UNTRAINED>>    scale          \n",
       "  scale <<UNTRAINED>>             mutate"
      ]
     },
     "metadata": {},
     "output_type": "display_data"
    }
   ],
   "source": [
    "po_mutate <- po(\n",
    "  \"mutate\",\n",
    "  mutation = list(\n",
    "    bill_ration = ~ bill_length / bill_depth\n",
    "  )\n",
    ")\n",
    "\n",
    "po_scale <- po(\"scale\")\n",
    "\n",
    "graph <- po_mutate %>>% po_scale\n",
    "graph\n",
    "\n",
    "# Graph with 2 PipeOps:\n",
    "#      ID         State sccssors prdcssors\n",
    "#  <char>        <char>   <char>    <char>\n",
    "#  mutate <<UNTRAINED>>    scale          \n",
    "#   scale <<UNTRAINED>>             mutate"
   ]
  },
  {
   "cell_type": "code",
   "execution_count": 15,
   "id": "9327cdc4",
   "metadata": {
    "vscode": {
     "languageId": "r"
    }
   },
   "outputs": [
    {
     "data": {
      "image/png": "[encoded data removed]",
      "text/plain": [
       "Plot with title \"\""
      ]
     },
     "metadata": {
      "image/png": {
       "height": 420,
       "width": 420
      }
     },
     "output_type": "display_data"
    }
   ],
   "source": [
    "graph$plot(horiz = TRUE)"
   ]
  },
  {
   "cell_type": "code",
   "execution_count": null,
   "id": "95fcc5ee",
   "metadata": {
    "vscode": {
     "languageId": "r"
    }
   },
   "outputs": [
    {
     "data": {
      "text/plain": [
       "$mutate\n",
       "PipeOp: <mutate> (not trained)\n",
       "values: <mutation=<list>, delete_originals=FALSE>\n",
       "Input channels <name [train type, predict type]>:\n",
       "  input [Task,Task]\n",
       "Output channels <name [train type, predict type]>:\n",
       "  output [Task,Task]\n",
       "\n",
       "$scale\n",
       "PipeOp: <scale> (not trained)\n",
       "values: <robust=FALSE>\n",
       "Input channels <name [train type, predict type]>:\n",
       "  input [Task,Task]\n",
       "Output channels <name [train type, predict type]>:\n",
       "  output [Task,Task]\n"
      ]
     },
     "metadata": {},
     "output_type": "display_data"
    }
   ],
   "source": [
    "graph$pipeops\n",
    "\n",
    "# $mutate\n",
    "# PipeOp: <mutate> (not trained)\n",
    "# values: <mutation=<list>, delete_originals=FALSE>\n",
    "# Input channels <name [train type, predict type]>:\n",
    "#   input [Task,Task]\n",
    "# Output channels <name [train type, predict type]>:\n",
    "#   output [Task,Task]\n",
    "\n",
    "# $scale\n",
    "# PipeOp: <scale> (not trained)\n",
    "# values: <robust=FALSE>\n",
    "# Input channels <name [train type, predict type]>:\n",
    "#   input [Task,Task]\n",
    "# Output channels <name [train type, predict type]>:\n",
    "#   output [Task,Task]"
   ]
  },
  {
   "cell_type": "code",
   "execution_count": null,
   "id": "9a5d72a8",
   "metadata": {
    "vscode": {
     "languageId": "r"
    }
   },
   "outputs": [
    {
     "data": {
      "text/html": [
       "<table class=\"dataframe\">\n",
       "<caption>A data.table: 1 x 4</caption>\n",
       "<thead>\n",
       "\t<tr><th scope=col>src_id</th><th scope=col>src_channel</th><th scope=col>dst_id</th><th scope=col>dst_channel</th></tr>\n",
       "\t<tr><th scope=col>&lt;chr&gt;</th><th scope=col>&lt;chr&gt;</th><th scope=col>&lt;chr&gt;</th><th scope=col>&lt;chr&gt;</th></tr>\n",
       "</thead>\n",
       "<tbody>\n",
       "\t<tr><td>mutate</td><td>output</td><td>scale</td><td>input</td></tr>\n",
       "</tbody>\n",
       "</table>\n"
      ],
      "text/latex": [
       "A data.table: 1 x 4\n",
       "\\begin{tabular}{llll}\n",
       " src\\_id & src\\_channel & dst\\_id & dst\\_channel\\\\\n",
       " <chr> & <chr> & <chr> & <chr>\\\\\n",
       "\\hline\n",
       "\t mutate & output & scale & input\\\\\n",
       "\\end{tabular}\n"
      ],
      "text/markdown": [
       "\n",
       "A data.table: 1 x 4\n",
       "\n",
       "| src_id &lt;chr&gt; | src_channel &lt;chr&gt; | dst_id &lt;chr&gt; | dst_channel &lt;chr&gt; |\n",
       "|---|---|---|---|\n",
       "| mutate | output | scale | input |\n",
       "\n"
      ],
      "text/plain": [
       "  src_id src_channel dst_id dst_channel\n",
       "1 mutate output      scale  input      "
      ]
     },
     "metadata": {},
     "output_type": "display_data"
    }
   ],
   "source": [
    "graph$edges\n",
    "\n",
    "# src_id src_channel dst_id dst_channel\n",
    "# 1 mutate output      scale  input"
   ]
  },
  {
   "cell_type": "code",
   "execution_count": 19,
   "id": "c00d8c47",
   "metadata": {
    "vscode": {
     "languageId": "r"
    }
   },
   "outputs": [],
   "source": [
    "library(mlr3pipelines)"
   ]
  },
  {
   "cell_type": "code",
   "execution_count": 20,
   "id": "38cb5935",
   "metadata": {
    "vscode": {
     "languageId": "r"
    }
   },
   "outputs": [],
   "source": [
    "graph <- Graph$new()$\n",
    "  add_pipeop(po_mutate)$\n",
    "  add_pipeop(po_scale)$\n",
    "  add_edge(\"mutate\", \"scale\")"
   ]
  },
  {
   "cell_type": "code",
   "execution_count": null,
   "id": "a7df5ffc",
   "metadata": {
    "vscode": {
     "languageId": "r"
    }
   },
   "outputs": [
    {
     "data": {
      "text/plain": [
       "$scale.output\n",
       "<TaskClassif:penguins> (333 x 4): Simplified Palmer Penguins\n",
       "* Target: species\n",
       "* Properties: multiclass\n",
       "* Features (3):\n",
       "  - dbl (3): bill_depth, bill_length, bill_ration\n"
      ]
     },
     "metadata": {},
     "output_type": "display_data"
    }
   ],
   "source": [
    "result <- graph$train(tsk_small)\n",
    "result\n",
    "\n",
    "# $scale.output\n",
    "# <TaskClassif:penguins> (333 x 4): Simplified Palmer Penguins\n",
    "# * Target: species\n",
    "# * Properties: multiclass\n",
    "# * Features (3):\n",
    "#   - dbl (3): bill_depth, bill_length, bill_ration"
   ]
  },
  {
   "cell_type": "code",
   "execution_count": null,
   "id": "8d5a6cd2",
   "metadata": {
    "vscode": {
     "languageId": "r"
    }
   },
   "outputs": [
    {
     "data": {
      "text/html": [
       "<table class=\"dataframe\">\n",
       "<caption>A data.table: 3 x 4</caption>\n",
       "<thead>\n",
       "\t<tr><th scope=col>species</th><th scope=col>bill_depth</th><th scope=col>bill_length</th><th scope=col>bill_ration</th></tr>\n",
       "\t<tr><th scope=col>&lt;fct&gt;</th><th scope=col>&lt;dbl&gt;</th><th scope=col>&lt;dbl&gt;</th><th scope=col>&lt;dbl&gt;</th></tr>\n",
       "</thead>\n",
       "<tbody>\n",
       "\t<tr><td>Adelie</td><td>0.7795590</td><td>-0.8946955</td><td>-1.0421499</td></tr>\n",
       "\t<tr><td>Adelie</td><td>0.1194043</td><td>-0.8215515</td><td>-0.6804365</td></tr>\n",
       "\t<tr><td>Adelie</td><td>0.4240910</td><td>-0.6752636</td><td>-0.7434640</td></tr>\n",
       "</tbody>\n",
       "</table>\n"
      ],
      "text/latex": [
       "A data.table: 3 x 4\n",
       "\\begin{tabular}{llll}\n",
       " species & bill\\_depth & bill\\_length & bill\\_ration\\\\\n",
       " <fct> & <dbl> & <dbl> & <dbl>\\\\\n",
       "\\hline\n",
       "\t Adelie & 0.7795590 & -0.8946955 & -1.0421499\\\\\n",
       "\t Adelie & 0.1194043 & -0.8215515 & -0.6804365\\\\\n",
       "\t Adelie & 0.4240910 & -0.6752636 & -0.7434640\\\\\n",
       "\\end{tabular}\n"
      ],
      "text/markdown": [
       "\n",
       "A data.table: 3 x 4\n",
       "\n",
       "| species &lt;fct&gt; | bill_depth &lt;dbl&gt; | bill_length &lt;dbl&gt; | bill_ration &lt;dbl&gt; |\n",
       "|---|---|---|---|\n",
       "| Adelie | 0.7795590 | -0.8946955 | -1.0421499 |\n",
       "| Adelie | 0.1194043 | -0.8215515 | -0.6804365 |\n",
       "| Adelie | 0.4240910 | -0.6752636 | -0.7434640 |\n",
       "\n"
      ],
      "text/plain": [
       "  species bill_depth bill_length bill_ration\n",
       "1 Adelie  0.7795590  -0.8946955  -1.0421499 \n",
       "2 Adelie  0.1194043  -0.8215515  -0.6804365 \n",
       "3 Adelie  0.4240910  -0.6752636  -0.7434640 "
      ]
     },
     "metadata": {},
     "output_type": "display_data"
    }
   ],
   "source": [
    "result[[1]]$data()[1:3]\n",
    "\n",
    "# species bill_depth bill_length bill_ration\n",
    "# 1 Adelie  0.7795590  -0.8946955  -1.0421499 \n",
    "# 2 Adelie  0.1194043  -0.8215515  -0.6804365 \n",
    "# 3 Adelie  0.4240910  -0.6752636  -0.7434640"
   ]
  },
  {
   "cell_type": "code",
   "execution_count": null,
   "id": "29cd8f24",
   "metadata": {
    "vscode": {
     "languageId": "r"
    }
   },
   "outputs": [
    {
     "data": {
      "text/html": [
       "<table class=\"dataframe\">\n",
       "<caption>A data.table: 1 x 4</caption>\n",
       "<thead>\n",
       "\t<tr><th scope=col>species</th><th scope=col>bill_depth</th><th scope=col>bill_length</th><th scope=col>bill_ration</th></tr>\n",
       "\t<tr><th scope=col>&lt;fct&gt;</th><th scope=col>&lt;dbl&gt;</th><th scope=col>&lt;dbl&gt;</th><th scope=col>&lt;dbl&gt;</th></tr>\n",
       "</thead>\n",
       "<tbody>\n",
       "\t<tr><td>Adelie</td><td>0.9319023</td><td>-0.5289757</td><td>-0.8963212</td></tr>\n",
       "</tbody>\n",
       "</table>\n"
      ],
      "text/latex": [
       "A data.table: 1 x 4\n",
       "\\begin{tabular}{llll}\n",
       " species & bill\\_depth & bill\\_length & bill\\_ration\\\\\n",
       " <fct> & <dbl> & <dbl> & <dbl>\\\\\n",
       "\\hline\n",
       "\t Adelie & 0.9319023 & -0.5289757 & -0.8963212\\\\\n",
       "\\end{tabular}\n"
      ],
      "text/markdown": [
       "\n",
       "A data.table: 1 x 4\n",
       "\n",
       "| species &lt;fct&gt; | bill_depth &lt;dbl&gt; | bill_length &lt;dbl&gt; | bill_ration &lt;dbl&gt; |\n",
       "|---|---|---|---|\n",
       "| Adelie | 0.9319023 | -0.5289757 | -0.8963212 |\n",
       "\n"
      ],
      "text/plain": [
       "  species bill_depth bill_length bill_ration\n",
       "1 Adelie  0.9319023  -0.5289757  -0.8963212 "
      ]
     },
     "metadata": {},
     "output_type": "display_data"
    }
   ],
   "source": [
    "result <- graph$predict(tsk_onepenguin)\n",
    "result[[1]]$data()\n",
    "\n",
    "# species bill_depth bill_length bill_ration\n",
    "# 1 Adelie  0.9319023  -0.5289757  -0.8963212"
   ]
  },
  {
   "cell_type": "markdown",
   "id": "270bc07e",
   "metadata": {},
   "source": [
    "# 顺序学习器管道"
   ]
  },
  {
   "cell_type": "code",
   "execution_count": 25,
   "id": "3f53462b",
   "metadata": {
    "vscode": {
     "languageId": "r"
    }
   },
   "outputs": [
    {
     "data": {
      "image/png": "[encoded data removed]",
      "text/plain": [
       "Plot with title \"\""
      ]
     },
     "metadata": {
      "image/png": {
       "height": 420,
       "width": 420
      }
     },
     "output_type": "display_data"
    }
   ],
   "source": [
    "lrn_logreg <- lrn(\"classif.log_reg\", predict_type = \"prob\")\n",
    "graph <- po(\"imputesample\") %>>%\n",
    "  lrn_logreg\n",
    "\n",
    "graph$plot(horiz = TRUE)"
   ]
  },
  {
   "cell_type": "code",
   "execution_count": null,
   "id": "e3b00f1d",
   "metadata": {
    "vscode": {
     "languageId": "r"
    }
   },
   "outputs": [
    {
     "name": "stdout",
     "output_type": "stream",
     "text": [
      "INFO  [19:15:39.592] [mlr3] Running benchmark with 6 resampling iterations\n",
      "INFO  [19:15:39.672] [mlr3] Applying learner 'imputesample.classif.log_reg' on task 'pima' (iter 1/3)\n",
      "INFO  [19:15:39.878] [mlr3] Applying learner 'imputesample.classif.log_reg' on task 'pima' (iter 2/3)\n",
      "INFO  [19:15:39.949] [mlr3] Applying learner 'imputesample.classif.log_reg' on task 'pima' (iter 3/3)\n",
      "INFO  [19:15:40.048] [mlr3] Applying learner 'imputemode.classif.log_reg' on task 'pima' (iter 1/3)\n",
      "INFO  [19:15:40.282] [mlr3] Applying learner 'imputemode.classif.log_reg' on task 'pima' (iter 2/3)\n",
      "INFO  [19:15:40.343] [mlr3] Applying learner 'imputemode.classif.log_reg' on task 'pima' (iter 3/3)\n",
      "INFO  [19:15:40.406] [mlr3] Finished benchmark\n"
     ]
    },
    {
     "data": {
      "text/html": [
       "<table class=\"dataframe\">\n",
       "<caption>A bmr_aggregate: 2 x 2</caption>\n",
       "<thead>\n",
       "\t<tr><th scope=col>learner_id</th><th scope=col>classif.ce</th></tr>\n",
       "\t<tr><th scope=col>&lt;chr&gt;</th><th scope=col>&lt;dbl&gt;</th></tr>\n",
       "</thead>\n",
       "<tbody>\n",
       "\t<tr><td>imputesample.classif.log_reg</td><td>0.2317708</td></tr>\n",
       "\t<tr><td>imputemode.classif.log_reg  </td><td>0.2395833</td></tr>\n",
       "</tbody>\n",
       "</table>\n"
      ],
      "text/latex": [
       "A bmr\\_aggregate: 2 x 2\n",
       "\\begin{tabular}{ll}\n",
       " learner\\_id & classif.ce\\\\\n",
       " <chr> & <dbl>\\\\\n",
       "\\hline\n",
       "\t imputesample.classif.log\\_reg & 0.2317708\\\\\n",
       "\t imputemode.classif.log\\_reg   & 0.2395833\\\\\n",
       "\\end{tabular}\n"
      ],
      "text/markdown": [
       "\n",
       "A bmr_aggregate: 2 x 2\n",
       "\n",
       "| learner_id &lt;chr&gt; | classif.ce &lt;dbl&gt; |\n",
       "|---|---|\n",
       "| imputesample.classif.log_reg | 0.2317708 |\n",
       "| imputemode.classif.log_reg   | 0.2395833 |\n",
       "\n"
      ],
      "text/plain": [
       "  learner_id                   classif.ce\n",
       "1 imputesample.classif.log_reg 0.2317708 \n",
       "2 imputemode.classif.log_reg   0.2395833 "
      ]
     },
     "metadata": {},
     "output_type": "display_data"
    }
   ],
   "source": [
    "glrn_sample <- as_learner(graph)\n",
    "glrn_mode <- as_learner(po(\"imputemode\") %>>% lrn_logreg)\n",
    "\n",
    "design <- benchmark_grid(\n",
    "  tasks = tsk(\"pima\"),\n",
    "  learners = list(glrn_sample, glrn_mode),\n",
    "  resamplings = rsmp(\"cv\", folds = 3)\n",
    ")\n",
    "\n",
    "bmr <- benchmark(design)\n",
    "\n",
    "aggr <- bmr$aggregate()[, .(learner_id, classif.ce)]\n",
    "aggr\n",
    "\n",
    "# learner_id                   classif.ce\n",
    "# 1 imputesample.classif.log_reg 0.2317708 \n",
    "# 2 imputemode.classif.log_reg   0.2395833"
   ]
  },
  {
   "cell_type": "code",
   "execution_count": 27,
   "id": "dab4b88a",
   "metadata": {
    "vscode": {
     "languageId": "r"
    }
   },
   "outputs": [],
   "source": [
    "glrn_sample$graph_model$keep_results <- TRUE\n",
    "glrn_sample$train(tsk(\"pima\"))"
   ]
  },
  {
   "cell_type": "code",
   "execution_count": null,
   "id": "d0ea84e5",
   "metadata": {
    "vscode": {
     "languageId": "r"
    }
   },
   "outputs": [
    {
     "data": {
      "text/html": [
       "<style>\n",
       ".dl-inline {width: auto; margin:0; padding: 0}\n",
       ".dl-inline>dt, .dl-inline>dd {float: none; width: auto; display: inline-block}\n",
       ".dl-inline>dt::after {content: \":\\0020\"; padding-right: .5ex}\n",
       ".dl-inline>dt:not(:first-of-type) {padding-left: .5ex}\n",
       "</style><dl class=dl-inline><dt>diabetes</dt><dd>0</dd><dt>age</dt><dd>0</dd><dt>pedigree</dt><dd>0</dd><dt>pregnant</dt><dd>0</dd><dt>glucose</dt><dd>0</dd><dt>insulin</dt><dd>0</dd><dt>mass</dt><dd>0</dd><dt>pressure</dt><dd>0</dd><dt>triceps</dt><dd>0</dd></dl>\n"
      ],
      "text/latex": [
       "\\begin{description*}\n",
       "\\item[diabetes] 0\n",
       "\\item[age] 0\n",
       "\\item[pedigree] 0\n",
       "\\item[pregnant] 0\n",
       "\\item[glucose] 0\n",
       "\\item[insulin] 0\n",
       "\\item[mass] 0\n",
       "\\item[pressure] 0\n",
       "\\item[triceps] 0\n",
       "\\end{description*}\n"
      ],
      "text/markdown": [
       "diabetes\n",
       ":   0age\n",
       ":   0pedigree\n",
       ":   0pregnant\n",
       ":   0glucose\n",
       ":   0insulin\n",
       ":   0mass\n",
       ":   0pressure\n",
       ":   0triceps\n",
       ":   0\n",
       "\n"
      ],
      "text/plain": [
       "diabetes      age pedigree pregnant  glucose  insulin     mass pressure \n",
       "       0        0        0        0        0        0        0        0 \n",
       " triceps \n",
       "       0 "
      ]
     },
     "metadata": {},
     "output_type": "display_data"
    }
   ],
   "source": [
    "imputesample_output <- glrn_sample$graph_model$pipeops$imputesample$.result\n",
    "imputesample_output[[1]]$missings()\n",
    "\n",
    "# diabetes      age pedigree pregnant  glucose  insulin     mass pressure \n",
    "#        0        0        0        0        0        0        0        0 \n",
    "#  triceps \n",
    "#        0"
   ]
  },
  {
   "cell_type": "code",
   "execution_count": null,
   "id": "126f1e56",
   "metadata": {
    "vscode": {
     "languageId": "r"
    }
   },
   "outputs": [
    {
     "data": {
      "text/plain": [
       "<LearnerClassifLogReg:classif.log_reg>: Logistic Regression\n",
       "* Model: glm\n",
       "* Parameters: use_pred_offset=TRUE\n",
       "* Packages: mlr3, mlr3learners, stats\n",
       "* Predict Types:  response, [prob]\n",
       "* Feature Types: logical, integer, numeric, character, factor, ordered\n",
       "* Properties: offset, twoclass, weights"
      ]
     },
     "metadata": {},
     "output_type": "display_data"
    }
   ],
   "source": [
    "pipeop_logreg <- glrn_sample$graph_model$pipeops$classif.log_reg\n",
    "learner_logreg <- pipeop_logreg$learner_model\n",
    "learner_logreg\n",
    "\n",
    "# <LearnerClassifLogReg:classif.log_reg>: Logistic Regression\n",
    "# * Model: glm\n",
    "# * Parameters: use_pred_offset=TRUE\n",
    "# * Packages: mlr3, mlr3learners, stats\n",
    "# * Predict Types:  response, [prob]\n",
    "# * Feature Types: logical, integer, numeric, character, factor, ordered\n",
    "# * Properties: offset, twoclass, weights"
   ]
  },
  {
   "cell_type": "code",
   "execution_count": null,
   "id": "17c68186",
   "metadata": {
    "vscode": {
     "languageId": "r"
    }
   },
   "outputs": [
    {
     "data": {
      "text/html": [
       "<style>\n",
       ".dl-inline {width: auto; margin:0; padding: 0}\n",
       ".dl-inline>dt, .dl-inline>dd {float: none; width: auto; display: inline-block}\n",
       ".dl-inline>dt::after {content: \":\\0020\"; padding-right: .5ex}\n",
       ".dl-inline>dt:not(:first-of-type) {padding-left: .5ex}\n",
       "</style><dl class=dl-inline><dt>scale.center</dt><dd>0</dd><dt>scale.scale</dt><dd>1</dd><dt>scale.robust</dt><dd>0</dd><dt>center.center</dt><dd>1</dd><dt>center.scale</dt><dd>0</dd><dt>center.robust</dt><dd>0</dd><dt>classif.rpart.cp</dt><dd>1</dd><dt>classif.rpart.xval</dt><dd>0</dd></dl>\n"
      ],
      "text/latex": [
       "\\begin{description*}\n",
       "\\item[scale.center] 0\n",
       "\\item[scale.scale] 1\n",
       "\\item[scale.robust] 0\n",
       "\\item[center.center] 1\n",
       "\\item[center.scale] 0\n",
       "\\item[center.robust] 0\n",
       "\\item[classif.rpart.cp] 1\n",
       "\\item[classif.rpart.xval] 0\n",
       "\\end{description*}\n"
      ],
      "text/markdown": [
       "scale.center\n",
       ":   0scale.scale\n",
       ":   1scale.robust\n",
       ":   0center.center\n",
       ":   1center.scale\n",
       ":   0center.robust\n",
       ":   0classif.rpart.cp\n",
       ":   1classif.rpart.xval\n",
       ":   0\n",
       "\n"
      ],
      "text/plain": [
       "      scale.center        scale.scale       scale.robust      center.center \n",
       "                 0                  1                  0                  1 \n",
       "      center.scale      center.robust   classif.rpart.cp classif.rpart.xval \n",
       "                 0                  0                  1                  0 "
      ]
     },
     "metadata": {},
     "output_type": "display_data"
    }
   ],
   "source": [
    "graph <- po(\"scale\", center = FALSE, scale = TRUE, id = \"scale\") %>>%\n",
    "  po(\"scale\", center = TRUE, scale = FALSE, id = \"center\") %>>%\n",
    "  lrn(\"classif.rpart\", cp = 1)\n",
    "unlist(graph$param_set$values)\n",
    "\n",
    "# scale.center        scale.scale       scale.robust      center.center \n",
    "#                  0                  1                  0                  1 \n",
    "#       center.scale      center.robust   classif.rpart.cp classif.rpart.xval \n",
    "#                  0                  0                  1                  0"
   ]
  },
  {
   "cell_type": "code",
   "execution_count": null,
   "id": "44002839",
   "metadata": {
    "vscode": {
     "languageId": "r"
    }
   },
   "outputs": [
    {
     "data": {
      "text/html": [
       "<style>\n",
       ".dl-inline {width: auto; margin:0; padding: 0}\n",
       ".dl-inline>dt, .dl-inline>dd {float: none; width: auto; display: inline-block}\n",
       ".dl-inline>dt::after {content: \":\\0020\"; padding-right: .5ex}\n",
       ".dl-inline>dt:not(:first-of-type) {padding-left: .5ex}\n",
       "</style><dl class=dl-inline><dt>scale.center</dt><dd>0</dd><dt>scale.scale</dt><dd>1</dd><dt>scale.robust</dt><dd>0</dd><dt>center.center</dt><dd>1</dd><dt>center.scale</dt><dd>0</dd><dt>center.robust</dt><dd>0</dd><dt>classif.rpart.cp</dt><dd>1</dd><dt>classif.rpart.maxdepth</dt><dd>5</dd><dt>classif.rpart.minsplit</dt><dd>2</dd><dt>classif.rpart.xval</dt><dd>0</dd></dl>\n"
      ],
      "text/latex": [
       "\\begin{description*}\n",
       "\\item[scale.center] 0\n",
       "\\item[scale.scale] 1\n",
       "\\item[scale.robust] 0\n",
       "\\item[center.center] 1\n",
       "\\item[center.scale] 0\n",
       "\\item[center.robust] 0\n",
       "\\item[classif.rpart.cp] 1\n",
       "\\item[classif.rpart.maxdepth] 5\n",
       "\\item[classif.rpart.minsplit] 2\n",
       "\\item[classif.rpart.xval] 0\n",
       "\\end{description*}\n"
      ],
      "text/markdown": [
       "scale.center\n",
       ":   0scale.scale\n",
       ":   1scale.robust\n",
       ":   0center.center\n",
       ":   1center.scale\n",
       ":   0center.robust\n",
       ":   0classif.rpart.cp\n",
       ":   1classif.rpart.maxdepth\n",
       ":   5classif.rpart.minsplit\n",
       ":   2classif.rpart.xval\n",
       ":   0\n",
       "\n"
      ],
      "text/plain": [
       "          scale.center            scale.scale           scale.robust \n",
       "                     0                      1                      0 \n",
       "         center.center           center.scale          center.robust \n",
       "                     1                      0                      0 \n",
       "      classif.rpart.cp classif.rpart.maxdepth classif.rpart.minsplit \n",
       "                     1                      5                      2 \n",
       "    classif.rpart.xval \n",
       "                     0 "
      ]
     },
     "metadata": {},
     "output_type": "display_data"
    }
   ],
   "source": [
    "graph$param_set$values$classif.rpart.maxdepth <- 5\n",
    "graph_learner <- as_learner(graph)\n",
    "graph_learner$param_set$values$classif.rpart.minsplit <- 2\n",
    "unlist(graph_learner$param_set$values)\n",
    "\n",
    "# scale.center            scale.scale           scale.robust \n",
    "#                      0                      1                      0 \n",
    "#          center.center           center.scale          center.robust \n",
    "#                      1                      0                      0 \n",
    "#       classif.rpart.cp classif.rpart.maxdepth classif.rpart.minsplit \n",
    "#                      1                      5                      2 \n",
    "#     classif.rpart.xval \n",
    "#                      0"
   ]
  },
  {
   "cell_type": "markdown",
   "id": "9dce31c5",
   "metadata": {},
   "source": [
    "# 练习"
   ]
  },
  {
   "cell_type": "markdown",
   "id": "cc47544f",
   "metadata": {},
   "source": [
    "## 练习1"
   ]
  },
  {
   "cell_type": "code",
   "execution_count": 33,
   "id": "f3405e1f",
   "metadata": {
    "vscode": {
     "languageId": "r"
    }
   },
   "outputs": [],
   "source": [
    "graph <- po(\"imputeoor\") %>>%\n",
    "  po(\"scale\") %>>%\n",
    "  lrn(\"classif.log_reg\")\n",
    "\n",
    "glrn <- as_learner(graph)"
   ]
  },
  {
   "cell_type": "code",
   "execution_count": 34,
   "id": "aeb606ee",
   "metadata": {
    "vscode": {
     "languageId": "r"
    }
   },
   "outputs": [],
   "source": [
    "glrn$train(tsk(\"pima\"))"
   ]
  },
  {
   "cell_type": "code",
   "execution_count": null,
   "id": "5f8eb243",
   "metadata": {
    "vscode": {
     "languageId": "r"
    }
   },
   "outputs": [
    {
     "data": {
      "text/plain": [
       "\n",
       "Call:  stats::glm(formula = form, family = \"binomial\", data = data, \n",
       "    model = FALSE)\n",
       "\n",
       "Coefficients:\n",
       "(Intercept)          age      glucose      insulin         mass     pedigree  \n",
       "   -0.88835      0.15584      1.13631     -0.17477      0.74383      0.32121  \n",
       "   pregnant     pressure      triceps  \n",
       "    0.39594     -0.24967      0.05599  \n",
       "\n",
       "Degrees of Freedom: 767 Total (i.e. Null);  759 Residual\n",
       "Null Deviance:\t    993.5 \n",
       "Residual Deviance: 745.1 \tAIC: 763.1"
      ]
     },
     "metadata": {},
     "output_type": "display_data"
    }
   ],
   "source": [
    "# 访问模型\n",
    "glrn$graph_model$pipeops$classif.log_reg$learner_model$model\n",
    "\n",
    "# Call:  stats::glm(formula = form, family = \"binomial\", data = data, \n",
    "#     model = FALSE)\n",
    "\n",
    "# Coefficients:\n",
    "# (Intercept)          age      glucose      insulin         mass     pedigree  \n",
    "#    -0.88835      0.15584      1.13631     -0.17477      0.74383      0.32121  \n",
    "#    pregnant     pressure      triceps  \n",
    "#     0.39594     -0.24967      0.05599  \n",
    "\n",
    "# Degrees of Freedom: 767 Total (i.e. Null);  759 Residual\n",
    "# Null Deviance:\t    993.5 \n",
    "# Residual Deviance: 745.1 \tAIC: 763.1"
   ]
  },
  {
   "cell_type": "code",
   "execution_count": null,
   "id": "ab3bfeed",
   "metadata": {
    "vscode": {
     "languageId": "r"
    }
   },
   "outputs": [
    {
     "data": {
      "text/plain": [
       "\n",
       "Call:  stats::glm(formula = form, family = \"binomial\", data = data, \n",
       "    model = FALSE)\n",
       "\n",
       "Coefficients:\n",
       "(Intercept)          age      glucose      insulin         mass     pedigree  \n",
       "   -0.88835      0.15584      1.13631     -0.17477      0.74383      0.32121  \n",
       "   pregnant     pressure      triceps  \n",
       "    0.39594     -0.24967      0.05599  \n",
       "\n",
       "Degrees of Freedom: 767 Total (i.e. Null);  759 Residual\n",
       "Null Deviance:\t    993.5 \n",
       "Residual Deviance: 745.1 \tAIC: 763.1"
      ]
     },
     "metadata": {},
     "output_type": "display_data"
    }
   ],
   "source": [
    "glrn$model$classif.log_reg$model\n",
    "\n",
    "# Call:  stats::glm(formula = form, family = \"binomial\", data = data, \n",
    "#     model = FALSE)\n",
    "\n",
    "# Coefficients:\n",
    "# (Intercept)          age      glucose      insulin         mass     pedigree  \n",
    "#    -0.88835      0.15584      1.13631     -0.17477      0.74383      0.32121  \n",
    "#    pregnant     pressure      triceps  \n",
    "#     0.39594     -0.24967      0.05599  \n",
    "\n",
    "# Degrees of Freedom: 767 Total (i.e. Null);  759 Residual\n",
    "# Null Deviance:\t    993.5 \n",
    "# Residual Deviance: 745.1 \tAIC: 763.1"
   ]
  },
  {
   "cell_type": "markdown",
   "id": "9dff4af7",
   "metadata": {},
   "source": [
    "## 练习3"
   ]
  },
  {
   "cell_type": "code",
   "execution_count": null,
   "id": "fbbfbdf7",
   "metadata": {
    "vscode": {
     "languageId": "r"
    }
   },
   "outputs": [
    {
     "data": {
      "text/html": [
       "<table class=\"dataframe\">\n",
       "<caption>A data.table: 6 x 9</caption>\n",
       "<thead>\n",
       "\t<tr><th scope=col>diabetes</th><th scope=col>age</th><th scope=col>glucose</th><th scope=col>insulin</th><th scope=col>mass</th><th scope=col>pedigree</th><th scope=col>pregnant</th><th scope=col>pressure</th><th scope=col>triceps</th></tr>\n",
       "\t<tr><th scope=col>&lt;fct&gt;</th><th scope=col>&lt;dbl&gt;</th><th scope=col>&lt;dbl&gt;</th><th scope=col>&lt;dbl&gt;</th><th scope=col>&lt;dbl&gt;</th><th scope=col>&lt;dbl&gt;</th><th scope=col>&lt;dbl&gt;</th><th scope=col>&lt;dbl&gt;</th><th scope=col>&lt;dbl&gt;</th></tr>\n",
       "</thead>\n",
       "<tbody>\n",
       "\t<tr><td>pos</td><td> 1.42506672</td><td> 0.7779946</td><td>-1.0104646</td><td> 0.2007435</td><td> 0.4681869</td><td> 0.6395305</td><td> 0.190968289</td><td> 0.7481501</td></tr>\n",
       "\t<tr><td>neg</td><td>-0.19054773</td><td>-0.9828928</td><td>-1.0104646</td><td>-0.4809120</td><td>-0.3648230</td><td>-0.8443348</td><td> 0.009453876</td><td> 0.6355978</td></tr>\n",
       "\t<tr><td>pos</td><td>-0.10551539</td><td> 1.7562654</td><td>-1.0104646</td><td>-0.8022639</td><td> 0.6040037</td><td> 1.2330766</td><td>-0.051050929</td><td>-1.5216538</td></tr>\n",
       "\t<tr><td>neg</td><td>-1.04087112</td><td>-0.8710904</td><td> 0.8347783</td><td>-0.3348430</td><td>-0.9201630</td><td>-0.8443348</td><td> 0.009453876</td><td> 0.5230456</td></tr>\n",
       "\t<tr><td>pos</td><td>-0.02048305</td><td> 0.4705381</td><td> 0.9843380</td><td> 1.1258474</td><td> 5.4813370</td><td>-1.1411079</td><td>-0.777108583</td><td> 0.7481501</td></tr>\n",
       "\t<tr><td>neg</td><td>-0.27558007</td><td>-0.1164244</td><td>-1.0104646</td><td>-0.5782914</td><td>-0.8175458</td><td> 0.3427574</td><td> 0.251473094</td><td>-1.5216538</td></tr>\n",
       "</tbody>\n",
       "</table>\n"
      ],
      "text/latex": [
       "A data.table: 6 x 9\n",
       "\\begin{tabular}{lllllllll}\n",
       " diabetes & age & glucose & insulin & mass & pedigree & pregnant & pressure & triceps\\\\\n",
       " <fct> & <dbl> & <dbl> & <dbl> & <dbl> & <dbl> & <dbl> & <dbl> & <dbl>\\\\\n",
       "\\hline\n",
       "\t pos &  1.42506672 &  0.7779946 & -1.0104646 &  0.2007435 &  0.4681869 &  0.6395305 &  0.190968289 &  0.7481501\\\\\n",
       "\t neg & -0.19054773 & -0.9828928 & -1.0104646 & -0.4809120 & -0.3648230 & -0.8443348 &  0.009453876 &  0.6355978\\\\\n",
       "\t pos & -0.10551539 &  1.7562654 & -1.0104646 & -0.8022639 &  0.6040037 &  1.2330766 & -0.051050929 & -1.5216538\\\\\n",
       "\t neg & -1.04087112 & -0.8710904 &  0.8347783 & -0.3348430 & -0.9201630 & -0.8443348 &  0.009453876 &  0.5230456\\\\\n",
       "\t pos & -0.02048305 &  0.4705381 &  0.9843380 &  1.1258474 &  5.4813370 & -1.1411079 & -0.777108583 &  0.7481501\\\\\n",
       "\t neg & -0.27558007 & -0.1164244 & -1.0104646 & -0.5782914 & -0.8175458 &  0.3427574 &  0.251473094 & -1.5216538\\\\\n",
       "\\end{tabular}\n"
      ],
      "text/markdown": [
       "\n",
       "A data.table: 6 x 9\n",
       "\n",
       "| diabetes &lt;fct&gt; | age &lt;dbl&gt; | glucose &lt;dbl&gt; | insulin &lt;dbl&gt; | mass &lt;dbl&gt; | pedigree &lt;dbl&gt; | pregnant &lt;dbl&gt; | pressure &lt;dbl&gt; | triceps &lt;dbl&gt; |\n",
       "|---|---|---|---|---|---|---|---|---|\n",
       "| pos |  1.42506672 |  0.7779946 | -1.0104646 |  0.2007435 |  0.4681869 |  0.6395305 |  0.190968289 |  0.7481501 |\n",
       "| neg | -0.19054773 | -0.9828928 | -1.0104646 | -0.4809120 | -0.3648230 | -0.8443348 |  0.009453876 |  0.6355978 |\n",
       "| pos | -0.10551539 |  1.7562654 | -1.0104646 | -0.8022639 |  0.6040037 |  1.2330766 | -0.051050929 | -1.5216538 |\n",
       "| neg | -1.04087112 | -0.8710904 |  0.8347783 | -0.3348430 | -0.9201630 | -0.8443348 |  0.009453876 |  0.5230456 |\n",
       "| pos | -0.02048305 |  0.4705381 |  0.9843380 |  1.1258474 |  5.4813370 | -1.1411079 | -0.777108583 |  0.7481501 |\n",
       "| neg | -0.27558007 | -0.1164244 | -1.0104646 | -0.5782914 | -0.8175458 |  0.3427574 |  0.251473094 | -1.5216538 |\n",
       "\n"
      ],
      "text/plain": [
       "  diabetes age         glucose    insulin    mass       pedigree   pregnant  \n",
       "1 pos       1.42506672  0.7779946 -1.0104646  0.2007435  0.4681869  0.6395305\n",
       "2 neg      -0.19054773 -0.9828928 -1.0104646 -0.4809120 -0.3648230 -0.8443348\n",
       "3 pos      -0.10551539  1.7562654 -1.0104646 -0.8022639  0.6040037  1.2330766\n",
       "4 neg      -1.04087112 -0.8710904  0.8347783 -0.3348430 -0.9201630 -0.8443348\n",
       "5 pos      -0.02048305  0.4705381  0.9843380  1.1258474  5.4813370 -1.1411079\n",
       "6 neg      -0.27558007 -0.1164244 -1.0104646 -0.5782914 -0.8175458  0.3427574\n",
       "  pressure     triceps   \n",
       "1  0.190968289  0.7481501\n",
       "2  0.009453876  0.6355978\n",
       "3 -0.051050929 -1.5216538\n",
       "4  0.009453876  0.5230456\n",
       "5 -0.777108583  0.7481501\n",
       "6  0.251473094 -1.5216538"
      ]
     },
     "metadata": {},
     "output_type": "display_data"
    }
   ],
   "source": [
    "glrn$model$classif.log_reg$model$data %>% head()\n",
    "\n",
    "# diabetes age         glucose    insulin    mass       pedigree   pregnant  \n",
    "# 1 pos       1.42506672  0.7779946 -1.0104646  0.2007435  0.4681869  0.6395305\n",
    "# 2 neg      -0.19054773 -0.9828928 -1.0104646 -0.4809120 -0.3648230 -0.8443348\n",
    "# 3 pos      -0.10551539  1.7562654 -1.0104646 -0.8022639  0.6040037  1.2330766\n",
    "# 4 neg      -1.04087112 -0.8710904  0.8347783 -0.3348430 -0.9201630 -0.8443348\n",
    "# 5 pos      -0.02048305  0.4705381  0.9843380  1.1258474  5.4813370 -1.1411079\n",
    "# 6 neg      -0.27558007 -0.1164244 -1.0104646 -0.5782914 -0.8175458  0.3427574\n",
    "#   pressure     triceps   \n",
    "# 1  0.190968289  0.7481501\n",
    "# 2  0.009453876  0.6355978\n",
    "# 3 -0.051050929 -1.5216538\n",
    "# 4  0.009453876  0.5230456\n",
    "# 5 -0.777108583  0.7481501\n",
    "# 6  0.251473094 -1.5216538"
   ]
  },
  {
   "cell_type": "code",
   "execution_count": null,
   "id": "9a220742",
   "metadata": {
    "vscode": {
     "languageId": "r"
    }
   },
   "outputs": [],
   "source": [
    "glrn$model$classif.log_reg$"
   ]
  }
 ],
 "metadata": {
  "kernelspec": {
   "display_name": "R",
   "language": "R",
   "name": "ir"
  },
  "language_info": {
   "codemirror_mode": "r",
   "file_extension": ".r",
   "mimetype": "text/x-r-source",
   "name": "R",
   "pygments_lexer": "r",
   "version": "4.4.2"
  }
 },
 "nbformat": 4,
 "nbformat_minor": 5
}
