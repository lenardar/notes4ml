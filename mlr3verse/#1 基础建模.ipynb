{
 "cells": [
  {
   "cell_type": "markdown",
   "id": "012f0db2",
   "metadata": {},
   "source": [
    "学习{mlr3verse}基础建模工作流。"
   ]
  },
  {
   "cell_type": "markdown",
   "id": "cdecc41e",
   "metadata": {},
   "source": [
    "# 任务（Task）"
   ]
  },
  {
   "cell_type": "markdown",
   "id": "d0778bf8",
   "metadata": {},
   "source": [
    "## 创建任务"
   ]
  },
  {
   "cell_type": "code",
   "execution_count": null,
   "id": "5290504a",
   "metadata": {
    "vscode": {
     "languageId": "r"
    }
   },
   "outputs": [
    {
     "name": "stderr",
     "output_type": "stream",
     "text": [
      "Loading required package: mlr3\n",
      "\n"
     ]
    },
    {
     "data": {
      "text/plain": [
       "<DictionaryTask> with 22 stored values\n",
       "Keys: ames_housing, bike_sharing, boston_housing, breast_cancer,\n",
       "  california_housing, german_credit, ilpd, iris, kc_housing, moneyball,\n",
       "  mtcars, optdigits, penguins, penguins_simple, pima, ruspini, sonar,\n",
       "  spam, titanic, usarrests, wine, zoo"
      ]
     },
     "metadata": {},
     "output_type": "display_data"
    }
   ],
   "source": [
    "library(mlr3verse)\n",
    "mlr_tasks\n",
    "\n",
    "# <DictionaryTask> with 22 stored values\n",
    "# Keys: ames_housing, bike_sharing, boston_housing, breast_cancer,\n",
    "#   california_housing, german_credit, ilpd, iris, kc_housing, moneyball,\n",
    "#   mtcars, optdigits, penguins, penguins_simple, pima, ruspini, sonar,\n",
    "#   spam, titanic, usarrests, wine, zoo"
   ]
  },
  {
   "cell_type": "code",
   "execution_count": null,
   "id": "5f46fcf8",
   "metadata": {
    "vscode": {
     "languageId": "r"
    }
   },
   "outputs": [
    {
     "data": {
      "text/plain": [
       "<TaskRegr:mtcars> (32 x 11): Motor Trends\n",
       "* Target: mpg\n",
       "* Properties: -\n",
       "* Features (10):\n",
       "  - dbl (10): am, carb, cyl, disp, drat, gear, hp, qsec, vs, wt"
      ]
     },
     "metadata": {},
     "output_type": "display_data"
    }
   ],
   "source": [
    "tsk_mtcars <- tsk(\"mtcars\")\n",
    "tsk_mtcars\n",
    "\n",
    "# <TaskRegr:mtcars> (32 x 11): Motor Trends\n",
    "# * Target: mpg\n",
    "# * Properties: -\n",
    "# * Features (10):\n",
    "#   - dbl (10): am, carb, cyl, disp, drat, gear, hp, qsec, vs, wt"
   ]
  },
  {
   "cell_type": "code",
   "execution_count": null,
   "id": "415effcc",
   "metadata": {
    "vscode": {
     "languageId": "r"
    }
   },
   "outputs": [
    {
     "data": {
      "text/plain": [
       "<DictionaryTask> with 22 stored values\n",
       "Keys: ames_housing, bike_sharing, boston_housing, breast_cancer,\n",
       "  california_housing, german_credit, ilpd, iris, kc_housing, moneyball,\n",
       "  mtcars, optdigits, penguins, penguins_simple, pima, ruspini, sonar,\n",
       "  spam, titanic, usarrests, wine, zoo"
      ]
     },
     "metadata": {},
     "output_type": "display_data"
    }
   ],
   "source": [
    "tsk()\n",
    "\n",
    "# <DictionaryTask> with 22 stored values\n",
    "# Keys: ames_housing, bike_sharing, boston_housing, breast_cancer,\n",
    "#   california_housing, german_credit, ilpd, iris, kc_housing, moneyball,\n",
    "#   mtcars, optdigits, penguins, penguins_simple, pima, ruspini, sonar,\n",
    "#   spam, titanic, usarrests, wine, zoo"
   ]
  },
  {
   "cell_type": "code",
   "execution_count": 6,
   "id": "06abaf50",
   "metadata": {
    "vscode": {
     "languageId": "r"
    }
   },
   "outputs": [
    {
     "name": "stdout",
     "output_type": "stream",
     "text": [
      "'data.frame':\t32 obs. of  3 variables:\n",
      " $ mpg : num  21 21 22.8 21.4 18.7 18.1 14.3 24.4 22.8 19.2 ...\n",
      " $ cyl : num  6 6 4 6 8 6 8 4 4 6 ...\n",
      " $ disp: num  160 160 108 258 360 ...\n"
     ]
    }
   ],
   "source": [
    "data(\"mtcars\", package = \"datasets\")\n",
    "mtcars_subset <- subset(mtcars, select = c(\"mpg\", \"cyl\", \"disp\"))\n",
    "str(mtcars_subset)\n",
    "\n",
    "# 'data.frame':\t32 obs. of  3 variables:\n",
    "#  $ mpg : num  21 21 22.8 21.4 18.7 18.1 14.3 24.4 22.8 19.2 ...\n",
    "#  $ cyl : num  6 6 4 6 8 6 8 4 4 6 ...\n",
    "#  $ disp: num  160 160 108 258 360 ..."
   ]
  },
  {
   "cell_type": "code",
   "execution_count": 8,
   "id": "7d4077e6",
   "metadata": {
    "vscode": {
     "languageId": "r"
    }
   },
   "outputs": [],
   "source": [
    "tsk_mtcars <- as_task_regr(mtcars_subset, target = \"mpg\", id = \"cars\")"
   ]
  },
  {
   "cell_type": "code",
   "execution_count": null,
   "id": "7426b771",
   "metadata": {
    "vscode": {
     "languageId": "r"
    }
   },
   "outputs": [
    {
     "data": {
      "text/plain": [
       "<TaskRegr:cars> (32 x 3)\n",
       "* Target: mpg\n",
       "* Properties: -\n",
       "* Features (2):\n",
       "  - dbl (2): cyl, disp"
      ]
     },
     "metadata": {},
     "output_type": "display_data"
    }
   ],
   "source": [
    "tsk_mtcars\n",
    "\n",
    "# <TaskRegr:cars> (32 x 3)\n",
    "# * Target: mpg\n",
    "# * Properties: -\n",
    "# * Features (2):\n",
    "#   - dbl (2): cyl, disp"
   ]
  },
  {
   "cell_type": "code",
   "execution_count": 10,
   "id": "9aea63e0",
   "metadata": {
    "vscode": {
     "languageId": "r"
    }
   },
   "outputs": [
    {
     "name": "stderr",
     "output_type": "stream",
     "text": [
      "Registered S3 method overwritten by 'GGally':\n",
      "  method from   \n",
      "  +.gg   ggplot2\n",
      "\n"
     ]
    },
    {
     "data": {
      "image/png": "[encoded data removed]",
      "text/plain": [
       "plot without title"
      ]
     },
     "metadata": {
      "image/png": {
       "height": 420,
       "width": 420
      }
     },
     "output_type": "display_data"
    }
   ],
   "source": [
    "library(mlr3viz)\n",
    "autoplot(tsk_mtcars, type = \"pairs\")"
   ]
  },
  {
   "cell_type": "markdown",
   "id": "3f53b485",
   "metadata": {},
   "source": [
    "## 检索数据"
   ]
  },
  {
   "cell_type": "code",
   "execution_count": null,
   "id": "9c6a0dcd",
   "metadata": {
    "vscode": {
     "languageId": "r"
    }
   },
   "outputs": [
    {
     "data": {
      "text/html": [
       "<style>\n",
       ".list-inline {list-style: none; margin:0; padding: 0}\n",
       ".list-inline>li {display: inline-block}\n",
       ".list-inline>li:not(:last-child)::after {content: \"\\00b7\"; padding: 0 .5ex}\n",
       "</style>\n",
       "<ol class=list-inline><li>32</li><li>3</li></ol>\n"
      ],
      "text/latex": [
       "\\begin{enumerate*}\n",
       "\\item 32\n",
       "\\item 3\n",
       "\\end{enumerate*}\n"
      ],
      "text/markdown": [
       "1. 32\n",
       "2. 3\n",
       "\n",
       "\n"
      ],
      "text/plain": [
       "[1] 32  3"
      ]
     },
     "metadata": {},
     "output_type": "display_data"
    }
   ],
   "source": [
    "c(tsk_mtcars$nrow, tsk_mtcars$ncol)\n",
    "\n",
    "# 32 3"
   ]
  },
  {
   "cell_type": "code",
   "execution_count": null,
   "id": "a5f7b602",
   "metadata": {
    "vscode": {
     "languageId": "r"
    }
   },
   "outputs": [
    {
     "data": {
      "text/html": [
       "<style>\n",
       ".dl-inline {width: auto; margin:0; padding: 0}\n",
       ".dl-inline>dt, .dl-inline>dd {float: none; width: auto; display: inline-block}\n",
       ".dl-inline>dt::after {content: \":\\0020\"; padding-right: .5ex}\n",
       ".dl-inline>dt:not(:first-of-type) {padding-left: .5ex}\n",
       "</style><dl class=dl-inline><dt>Features1</dt><dd>'cyl'</dd><dt>Features2</dt><dd>'disp'</dd><dt>Target</dt><dd>'mpg'</dd></dl>\n"
      ],
      "text/latex": [
       "\\begin{description*}\n",
       "\\item[Features1] 'cyl'\n",
       "\\item[Features2] 'disp'\n",
       "\\item[Target] 'mpg'\n",
       "\\end{description*}\n"
      ],
      "text/markdown": [
       "Features1\n",
       ":   'cyl'Features2\n",
       ":   'disp'Target\n",
       ":   'mpg'\n",
       "\n"
      ],
      "text/plain": [
       "Features1 Features2    Target \n",
       "    \"cyl\"    \"disp\"     \"mpg\" "
      ]
     },
     "metadata": {},
     "output_type": "display_data"
    }
   ],
   "source": [
    "c(Features = tsk_mtcars$feature_names,\n",
    "  Target = tsk_mtcars$target_names)\n",
    "\n",
    "# Features1'cyl 'Features2'disp' Target'mpg'"
   ]
  },
  {
   "cell_type": "code",
   "execution_count": null,
   "id": "7c378c78",
   "metadata": {
    "vscode": {
     "languageId": "r"
    }
   },
   "outputs": [
    {
     "data": {
      "text/html": [
       "<style>\n",
       ".list-inline {list-style: none; margin:0; padding: 0}\n",
       ".list-inline>li {display: inline-block}\n",
       ".list-inline>li:not(:last-child)::after {content: \"\\00b7\"; padding: 0 .5ex}\n",
       "</style>\n",
       "<ol class=list-inline><li>1</li><li>2</li><li>3</li><li>4</li><li>5</li><li>6</li></ol>\n"
      ],
      "text/latex": [
       "\\begin{enumerate*}\n",
       "\\item 1\n",
       "\\item 2\n",
       "\\item 3\n",
       "\\item 4\n",
       "\\item 5\n",
       "\\item 6\n",
       "\\end{enumerate*}\n"
      ],
      "text/markdown": [
       "1. 1\n",
       "2. 2\n",
       "3. 3\n",
       "4. 4\n",
       "5. 5\n",
       "6. 6\n",
       "\n",
       "\n"
      ],
      "text/plain": [
       "[1] 1 2 3 4 5 6"
      ]
     },
     "metadata": {},
     "output_type": "display_data"
    }
   ],
   "source": [
    "head(tsk_mtcars$row_ids)\n",
    "\n",
    "# 123456"
   ]
  },
  {
   "cell_type": "code",
   "execution_count": 15,
   "id": "65250de2",
   "metadata": {
    "vscode": {
     "languageId": "r"
    }
   },
   "outputs": [
    {
     "data": {
      "text/html": [
       "<table class=\"dataframe\">\n",
       "<caption>A data.table: 32 x 3</caption>\n",
       "<thead>\n",
       "\t<tr><th scope=col>mpg</th><th scope=col>cyl</th><th scope=col>disp</th></tr>\n",
       "\t<tr><th scope=col>&lt;dbl&gt;</th><th scope=col>&lt;dbl&gt;</th><th scope=col>&lt;dbl&gt;</th></tr>\n",
       "</thead>\n",
       "<tbody>\n",
       "\t<tr><td>21.0</td><td>6</td><td>160.0</td></tr>\n",
       "\t<tr><td>21.0</td><td>6</td><td>160.0</td></tr>\n",
       "\t<tr><td>22.8</td><td>4</td><td>108.0</td></tr>\n",
       "\t<tr><td>21.4</td><td>6</td><td>258.0</td></tr>\n",
       "\t<tr><td>18.7</td><td>8</td><td>360.0</td></tr>\n",
       "\t<tr><td>18.1</td><td>6</td><td>225.0</td></tr>\n",
       "\t<tr><td>14.3</td><td>8</td><td>360.0</td></tr>\n",
       "\t<tr><td>24.4</td><td>4</td><td>146.7</td></tr>\n",
       "\t<tr><td>22.8</td><td>4</td><td>140.8</td></tr>\n",
       "\t<tr><td>19.2</td><td>6</td><td>167.6</td></tr>\n",
       "\t<tr><td>17.8</td><td>6</td><td>167.6</td></tr>\n",
       "\t<tr><td>16.4</td><td>8</td><td>275.8</td></tr>\n",
       "\t<tr><td>17.3</td><td>8</td><td>275.8</td></tr>\n",
       "\t<tr><td>15.2</td><td>8</td><td>275.8</td></tr>\n",
       "\t<tr><td>10.4</td><td>8</td><td>472.0</td></tr>\n",
       "\t<tr><td>10.4</td><td>8</td><td>460.0</td></tr>\n",
       "\t<tr><td>14.7</td><td>8</td><td>440.0</td></tr>\n",
       "\t<tr><td>32.4</td><td>4</td><td> 78.7</td></tr>\n",
       "\t<tr><td>30.4</td><td>4</td><td> 75.7</td></tr>\n",
       "\t<tr><td>33.9</td><td>4</td><td> 71.1</td></tr>\n",
       "\t<tr><td>21.5</td><td>4</td><td>120.1</td></tr>\n",
       "\t<tr><td>15.5</td><td>8</td><td>318.0</td></tr>\n",
       "\t<tr><td>15.2</td><td>8</td><td>304.0</td></tr>\n",
       "\t<tr><td>13.3</td><td>8</td><td>350.0</td></tr>\n",
       "\t<tr><td>19.2</td><td>8</td><td>400.0</td></tr>\n",
       "\t<tr><td>27.3</td><td>4</td><td> 79.0</td></tr>\n",
       "\t<tr><td>26.0</td><td>4</td><td>120.3</td></tr>\n",
       "\t<tr><td>30.4</td><td>4</td><td> 95.1</td></tr>\n",
       "\t<tr><td>15.8</td><td>8</td><td>351.0</td></tr>\n",
       "\t<tr><td>19.7</td><td>6</td><td>145.0</td></tr>\n",
       "\t<tr><td>15.0</td><td>8</td><td>301.0</td></tr>\n",
       "\t<tr><td>21.4</td><td>4</td><td>121.0</td></tr>\n",
       "</tbody>\n",
       "</table>\n"
      ],
      "text/latex": [
       "A data.table: 32 x 3\n",
       "\\begin{tabular}{lll}\n",
       " mpg & cyl & disp\\\\\n",
       " <dbl> & <dbl> & <dbl>\\\\\n",
       "\\hline\n",
       "\t 21.0 & 6 & 160.0\\\\\n",
       "\t 21.0 & 6 & 160.0\\\\\n",
       "\t 22.8 & 4 & 108.0\\\\\n",
       "\t 21.4 & 6 & 258.0\\\\\n",
       "\t 18.7 & 8 & 360.0\\\\\n",
       "\t 18.1 & 6 & 225.0\\\\\n",
       "\t 14.3 & 8 & 360.0\\\\\n",
       "\t 24.4 & 4 & 146.7\\\\\n",
       "\t 22.8 & 4 & 140.8\\\\\n",
       "\t 19.2 & 6 & 167.6\\\\\n",
       "\t 17.8 & 6 & 167.6\\\\\n",
       "\t 16.4 & 8 & 275.8\\\\\n",
       "\t 17.3 & 8 & 275.8\\\\\n",
       "\t 15.2 & 8 & 275.8\\\\\n",
       "\t 10.4 & 8 & 472.0\\\\\n",
       "\t 10.4 & 8 & 460.0\\\\\n",
       "\t 14.7 & 8 & 440.0\\\\\n",
       "\t 32.4 & 4 &  78.7\\\\\n",
       "\t 30.4 & 4 &  75.7\\\\\n",
       "\t 33.9 & 4 &  71.1\\\\\n",
       "\t 21.5 & 4 & 120.1\\\\\n",
       "\t 15.5 & 8 & 318.0\\\\\n",
       "\t 15.2 & 8 & 304.0\\\\\n",
       "\t 13.3 & 8 & 350.0\\\\\n",
       "\t 19.2 & 8 & 400.0\\\\\n",
       "\t 27.3 & 4 &  79.0\\\\\n",
       "\t 26.0 & 4 & 120.3\\\\\n",
       "\t 30.4 & 4 &  95.1\\\\\n",
       "\t 15.8 & 8 & 351.0\\\\\n",
       "\t 19.7 & 6 & 145.0\\\\\n",
       "\t 15.0 & 8 & 301.0\\\\\n",
       "\t 21.4 & 4 & 121.0\\\\\n",
       "\\end{tabular}\n"
      ],
      "text/markdown": [
       "\n",
       "A data.table: 32 x 3\n",
       "\n",
       "| mpg &lt;dbl&gt; | cyl &lt;dbl&gt; | disp &lt;dbl&gt; |\n",
       "|---|---|---|\n",
       "| 21.0 | 6 | 160.0 |\n",
       "| 21.0 | 6 | 160.0 |\n",
       "| 22.8 | 4 | 108.0 |\n",
       "| 21.4 | 6 | 258.0 |\n",
       "| 18.7 | 8 | 360.0 |\n",
       "| 18.1 | 6 | 225.0 |\n",
       "| 14.3 | 8 | 360.0 |\n",
       "| 24.4 | 4 | 146.7 |\n",
       "| 22.8 | 4 | 140.8 |\n",
       "| 19.2 | 6 | 167.6 |\n",
       "| 17.8 | 6 | 167.6 |\n",
       "| 16.4 | 8 | 275.8 |\n",
       "| 17.3 | 8 | 275.8 |\n",
       "| 15.2 | 8 | 275.8 |\n",
       "| 10.4 | 8 | 472.0 |\n",
       "| 10.4 | 8 | 460.0 |\n",
       "| 14.7 | 8 | 440.0 |\n",
       "| 32.4 | 4 |  78.7 |\n",
       "| 30.4 | 4 |  75.7 |\n",
       "| 33.9 | 4 |  71.1 |\n",
       "| 21.5 | 4 | 120.1 |\n",
       "| 15.5 | 8 | 318.0 |\n",
       "| 15.2 | 8 | 304.0 |\n",
       "| 13.3 | 8 | 350.0 |\n",
       "| 19.2 | 8 | 400.0 |\n",
       "| 27.3 | 4 |  79.0 |\n",
       "| 26.0 | 4 | 120.3 |\n",
       "| 30.4 | 4 |  95.1 |\n",
       "| 15.8 | 8 | 351.0 |\n",
       "| 19.7 | 6 | 145.0 |\n",
       "| 15.0 | 8 | 301.0 |\n",
       "| 21.4 | 4 | 121.0 |\n",
       "\n"
      ],
      "text/plain": [
       "   mpg  cyl disp \n",
       "1  21.0 6   160.0\n",
       "2  21.0 6   160.0\n",
       "3  22.8 4   108.0\n",
       "4  21.4 6   258.0\n",
       "5  18.7 8   360.0\n",
       "6  18.1 6   225.0\n",
       "7  14.3 8   360.0\n",
       "8  24.4 4   146.7\n",
       "9  22.8 4   140.8\n",
       "10 19.2 6   167.6\n",
       "11 17.8 6   167.6\n",
       "12 16.4 8   275.8\n",
       "13 17.3 8   275.8\n",
       "14 15.2 8   275.8\n",
       "15 10.4 8   472.0\n",
       "16 10.4 8   460.0\n",
       "17 14.7 8   440.0\n",
       "18 32.4 4    78.7\n",
       "19 30.4 4    75.7\n",
       "20 33.9 4    71.1\n",
       "21 21.5 4   120.1\n",
       "22 15.5 8   318.0\n",
       "23 15.2 8   304.0\n",
       "24 13.3 8   350.0\n",
       "25 19.2 8   400.0\n",
       "26 27.3 4    79.0\n",
       "27 26.0 4   120.3\n",
       "28 30.4 4    95.1\n",
       "29 15.8 8   351.0\n",
       "30 19.7 6   145.0\n",
       "31 15.0 8   301.0\n",
       "32 21.4 4   121.0"
      ]
     },
     "metadata": {},
     "output_type": "display_data"
    }
   ],
   "source": [
    "# retrieve all data\n",
    "tsk_mtcars$data()"
   ]
  },
  {
   "cell_type": "markdown",
   "id": "02f446bd",
   "metadata": {},
   "source": [
    "## 修改任务"
   ]
  },
  {
   "cell_type": "code",
   "execution_count": null,
   "id": "c690a47f",
   "metadata": {
    "vscode": {
     "languageId": "r"
    }
   },
   "outputs": [
    {
     "name": "stdout",
     "output_type": "stream",
     "text": [
      "     cyl  disp\n",
      "   <num> <num>\n",
      "1:     6 160.0\n",
      "2:     8 360.0\n",
      "3:     6 167.6\n"
     ]
    }
   ],
   "source": [
    "# retrieve data for rows with IDs 1, 5, and 10 and all feature columns\n",
    "library(tidyverse)\n",
    "tsk_mtcars$data(rows = c(1, 5, 10), cols = tsk_mtcars$feature_names) %>% print()\n",
    "\n",
    "# cyl  disp\n",
    "#    <num> <num>\n",
    "# 1:     6 160.0\n",
    "# 2:     8 360.0\n",
    "# 3:     6 167.6"
   ]
  },
  {
   "cell_type": "code",
   "execution_count": null,
   "id": "4def1e10",
   "metadata": {
    "vscode": {
     "languageId": "r"
    }
   },
   "outputs": [
    {
     "name": "stdout",
     "output_type": "stream",
     "text": [
      "     mpg   cyl  disp\n",
      "   <num> <num> <num>\n",
      "1:    21     6   160\n"
     ]
    }
   ],
   "source": [
    "# select the 2nd row of the task by extracting the second row_id:\n",
    "tsk_mtcars$data(rows = tsk_mtcars$row_ids[2]) %>% print()\n",
    "\n",
    "# mpg   cyl  disp\n",
    "#    <num> <num> <num>\n",
    "# 1:    21     6   160"
   ]
  },
  {
   "cell_type": "code",
   "execution_count": null,
   "id": "83112af3",
   "metadata": {
    "vscode": {
     "languageId": "r"
    }
   },
   "outputs": [
    {
     "data": {
      "text/plain": [
       "      mpg             cyl             disp      \n",
       " Min.   :10.40   Min.   :4.000   Min.   : 71.1  \n",
       " 1st Qu.:15.43   1st Qu.:4.000   1st Qu.:120.8  \n",
       " Median :19.20   Median :6.000   Median :196.3  \n",
       " Mean   :20.09   Mean   :6.188   Mean   :230.7  \n",
       " 3rd Qu.:22.80   3rd Qu.:8.000   3rd Qu.:326.0  \n",
       " Max.   :33.90   Max.   :8.000   Max.   :472.0  "
      ]
     },
     "metadata": {},
     "output_type": "display_data"
    }
   ],
   "source": [
    "summary(as.data.table(tsk_mtcars))\n",
    "\n",
    "# mpg             cyl             disp      \n",
    "#  Min.   :10.40   Min.   :4.000   Min.   : 71.1  \n",
    "#  1st Qu.:15.43   1st Qu.:4.000   1st Qu.:120.8  \n",
    "#  Median :19.20   Median :6.000   Median :196.3  \n",
    "#  Mean   :20.09   Mean   :6.188   Mean   :230.7  \n",
    "#  3rd Qu.:22.80   3rd Qu.:8.000   3rd Qu.:326.0  \n",
    "#  Max.   :33.90   Max.   :8.000   Max.   :472.0"
   ]
  },
  {
   "cell_type": "code",
   "execution_count": 31,
   "id": "f631b110",
   "metadata": {
    "vscode": {
     "languageId": "r"
    }
   },
   "outputs": [
    {
     "name": "stdout",
     "output_type": "stream",
     "text": [
      "     mpg   cyl\n",
      "   <num> <num>\n",
      "1:  21.0     6\n",
      "2:  22.8     4\n"
     ]
    }
   ],
   "source": [
    "tsk_mtcars_small <- tsk(\"mtcars\") # initialize with the full task\n",
    "tsk_mtcars_small$select(\"cyl\") # keep only one feature\n",
    "tsk_mtcars_small$filter(2:3) # keep only these rows\n",
    "tsk_mtcars_small$data() %>% print()\n",
    "\n",
    "# mpg   cyl\n",
    "#    <num> <num>\n",
    "# 1:  21.0     6\n",
    "# 2:  22.8     4"
   ]
  },
  {
   "cell_type": "code",
   "execution_count": null,
   "id": "9d9ca10b",
   "metadata": {
    "vscode": {
     "languageId": "r"
    }
   },
   "outputs": [
    {
     "name": "stdout",
     "output_type": "stream",
     "text": [
      "     mpg    am  carb   cyl  disp  drat  gear    hp  qsec    vs    wt\n",
      "   <num> <num> <num> <num> <num> <num> <num> <num> <num> <num> <num>\n",
      "1:    21     1     4     6   160   3.9     4   110 16.46     0 2.620\n",
      "2:    21     1     4     6   160   3.9     4   110 17.02     0 2.875\n"
     ]
    }
   ],
   "source": [
    "# the wrong way\n",
    "tsk_mtcars <- tsk(\"mtcars\")\n",
    "tsk_mtcars_wrong <- tsk_mtcars\n",
    "tsk_mtcars_wrong$filter(1:2)\n",
    "# original data affected\n",
    "tsk_mtcars$head() %>% print()\n",
    "\n",
    "# mpg    am  carb   cyl  disp  drat  gear    hp  qsec    vs    wt\n",
    "#    <num> <num> <num> <num> <num> <num> <num> <num> <num> <num> <num>\n",
    "# 1:    21     1     4     6   160   3.9     4   110 16.46     0 2.620\n",
    "# 2:    21     1     4     6   160   3.9     4   110 17.02     0 2.875"
   ]
  },
  {
   "cell_type": "code",
   "execution_count": null,
   "id": "16dc8b59",
   "metadata": {
    "vscode": {
     "languageId": "r"
    }
   },
   "outputs": [
    {
     "name": "stdout",
     "output_type": "stream",
     "text": [
      "     mpg    am  carb   cyl  disp  drat  gear    hp  qsec    vs    wt\n",
      "   <num> <num> <num> <num> <num> <num> <num> <num> <num> <num> <num>\n",
      "1:  21.0     1     4     6   160  3.90     4   110 16.46     0 2.620\n",
      "2:  21.0     1     4     6   160  3.90     4   110 17.02     0 2.875\n",
      "3:  22.8     1     1     4   108  3.85     4    93 18.61     1 2.320\n",
      "4:  21.4     0     1     6   258  3.08     3   110 19.44     1 3.215\n",
      "5:  18.7     0     2     8   360  3.15     3   175 17.02     0 3.440\n",
      "6:  18.1     0     1     6   225  2.76     3   105 20.22     1 3.460\n"
     ]
    }
   ],
   "source": [
    "# the right way\n",
    "tsk_mtcars <- tsk(\"mtcars\")\n",
    "tsk_mtcars_right <- tsk_mtcars$clone()\n",
    "tsk_mtcars_right$filter(1:2)\n",
    "# original data unaffected\n",
    "tsk_mtcars$head() %>% print()\n",
    "\n",
    "# mpg    am  carb   cyl  disp  drat  gear    hp  qsec    vs    wt\n",
    "#    <num> <num> <num> <num> <num> <num> <num> <num> <num> <num> <num>\n",
    "# 1:  21.0     1     4     6   160  3.90     4   110 16.46     0 2.620\n",
    "# 2:  21.0     1     4     6   160  3.90     4   110 17.02     0 2.875\n",
    "# 3:  22.8     1     1     4   108  3.85     4    93 18.61     1 2.320\n",
    "# 4:  21.4     0     1     6   258  3.08     3   110 19.44     1 3.215\n",
    "# 5:  18.7     0     2     8   360  3.15     3   175 17.02     0 3.440\n",
    "# 6:  18.1     0     1     6   225  2.76     3   105 20.22     1 3.460"
   ]
  },
  {
   "cell_type": "code",
   "execution_count": null,
   "id": "663c8b90",
   "metadata": {
    "vscode": {
     "languageId": "r"
    }
   },
   "outputs": [
    {
     "name": "stdout",
     "output_type": "stream",
     "text": [
      "     mpg   cyl  disp\n",
      "   <num> <num> <num>\n",
      "1:  21.0     6   150\n",
      "2:  22.8     4   160\n",
      "3:  23.0     5   170\n"
     ]
    }
   ],
   "source": [
    "tsk_mtcars_small$cbind( # add another column\n",
    "  data.frame(disp = c(150, 160))\n",
    ")\n",
    "tsk_mtcars_small$rbind( # add another row\n",
    "  data.frame(mpg = 23, cyl = 5, disp = 170)\n",
    ")\n",
    "tsk_mtcars_small$data() %>% print()\n",
    "\n",
    "# mpg   cyl  disp\n",
    "#    <num> <num> <num>\n",
    "# 1:  21.0     6   150\n",
    "# 2:  22.8     4   160\n",
    "# 3:  23.0     5   170"
   ]
  },
  {
   "cell_type": "markdown",
   "id": "55cf843b",
   "metadata": {},
   "source": [
    "# 学习器（Learners）"
   ]
  },
  {
   "cell_type": "code",
   "execution_count": null,
   "id": "6b22ee6f",
   "metadata": {
    "vscode": {
     "languageId": "r"
    }
   },
   "outputs": [
    {
     "data": {
      "text/plain": [
       "<DictionaryLearner> with 51 stored values\n",
       "Keys: classif.cv_glmnet, classif.debug, classif.featureless,\n",
       "  classif.glmnet, classif.kknn, classif.lda, classif.log_reg,\n",
       "  classif.multinom, classif.naive_bayes, classif.nnet, classif.qda,\n",
       "  classif.ranger, classif.rpart, classif.svm, classif.xgboost,\n",
       "  clust.MBatchKMeans, clust.SimpleKMeans, clust.agnes, clust.ap,\n",
       "  clust.bico, clust.birch, clust.cmeans, clust.cobweb, clust.dbscan,\n",
       "  clust.dbscan_fpc, clust.diana, clust.em, clust.fanny,\n",
       "  clust.featureless, clust.ff, clust.hclust, clust.hdbscan,\n",
       "  clust.kkmeans, clust.kmeans, clust.mclust, clust.meanshift,\n",
       "  clust.optics, clust.pam, clust.xmeans, regr.cv_glmnet, regr.debug,\n",
       "  regr.featureless, regr.glmnet, regr.kknn, regr.km, regr.lm,\n",
       "  regr.nnet, regr.ranger, regr.rpart, regr.svm, regr.xgboost"
      ]
     },
     "metadata": {},
     "output_type": "display_data"
    }
   ],
   "source": [
    "mlr_learners\n",
    "\n",
    "# <DictionaryLearner> with 51 stored values\n",
    "# Keys: classif.cv_glmnet, classif.debug, classif.featureless,\n",
    "#   classif.glmnet, classif.kknn, classif.lda, classif.log_reg,\n",
    "#   classif.multinom, classif.naive_bayes, classif.nnet, classif.qda,\n",
    "#   classif.ranger, classif.rpart, classif.svm, classif.xgboost,\n",
    "#   clust.MBatchKMeans, clust.SimpleKMeans, clust.agnes, clust.ap,\n",
    "#   clust.bico, clust.birch, clust.cmeans, clust.cobweb, clust.dbscan,\n",
    "#   clust.dbscan_fpc, clust.diana, clust.em, clust.fanny,\n",
    "#   clust.featureless, clust.ff, clust.hclust, clust.hdbscan,\n",
    "#   clust.kkmeans, clust.kmeans, clust.mclust, clust.meanshift,\n",
    "#   clust.optics, clust.pam, clust.xmeans, regr.cv_glmnet, regr.debug,\n",
    "#   regr.featureless, regr.glmnet, regr.kknn, regr.km, regr.lm,\n",
    "#   regr.nnet, regr.ranger, regr.rpart, regr.svm, regr.xgboost"
   ]
  },
  {
   "cell_type": "code",
   "execution_count": null,
   "id": "e092b85d",
   "metadata": {
    "vscode": {
     "languageId": "r"
    }
   },
   "outputs": [
    {
     "data": {
      "text/plain": [
       "<LearnerRegrRpart:regr.rpart>: Regression Tree\n",
       "* Model: -\n",
       "* Parameters: xval=0\n",
       "* Packages: mlr3, rpart\n",
       "* Predict Types:  [response]\n",
       "* Feature Types: logical, integer, numeric, factor, ordered\n",
       "* Properties: importance, missings, selected_features, weights"
      ]
     },
     "metadata": {},
     "output_type": "display_data"
    }
   ],
   "source": [
    "lrn(\"regr.rpart\")\n",
    "\n",
    "# <LearnerRegrRpart:regr.rpart>: Regression Tree\n",
    "# * Model: -\n",
    "# * Parameters: xval=0\n",
    "# * Packages: mlr3, rpart\n",
    "# * Predict Types:  [response]\n",
    "# * Feature Types: logical, integer, numeric, factor, ordered\n",
    "# * Properties: importance, missings, selected_features, weights"
   ]
  },
  {
   "cell_type": "code",
   "execution_count": null,
   "id": "f4e49cae",
   "metadata": {
    "vscode": {
     "languageId": "r"
    }
   },
   "outputs": [
    {
     "data": {
      "text/plain": [
       "<ParamSet(10)>\n",
       "                id    class lower upper nlevels        default  value\n",
       "            <char>   <char> <num> <num>   <num>         <list> <list>\n",
       " 1:             cp ParamDbl     0     1     Inf           0.01 [NULL]\n",
       " 2:     keep_model ParamLgl    NA    NA       2          FALSE [NULL]\n",
       " 3:     maxcompete ParamInt     0   Inf     Inf              4 [NULL]\n",
       " 4:       maxdepth ParamInt     1    30      30             30 [NULL]\n",
       " 5:   maxsurrogate ParamInt     0   Inf     Inf              5 [NULL]\n",
       " 6:      minbucket ParamInt     1   Inf     Inf <NoDefault[0]> [NULL]\n",
       " 7:       minsplit ParamInt     1   Inf     Inf             20 [NULL]\n",
       " 8: surrogatestyle ParamInt     0     1       2              0 [NULL]\n",
       " 9:   usesurrogate ParamInt     0     2       3              2 [NULL]\n",
       "10:           xval ParamInt     0   Inf     Inf             10      0"
      ]
     },
     "metadata": {},
     "output_type": "display_data"
    }
   ],
   "source": [
    "lrn(\"regr.rpart\")$param_set\n",
    "\n",
    "# <ParamSet(10)>\n",
    "#                 id    class lower upper nlevels        default  value\n",
    "#             <char>   <char> <num> <num>   <num>         <list> <list>\n",
    "#  1:             cp ParamDbl     0     1     Inf           0.01 [NULL]\n",
    "#  2:     keep_model ParamLgl    NA    NA       2          FALSE [NULL]\n",
    "#  3:     maxcompete ParamInt     0   Inf     Inf              4 [NULL]\n",
    "#  4:       maxdepth ParamInt     1    30      30             30 [NULL]\n",
    "#  5:   maxsurrogate ParamInt     0   Inf     Inf              5 [NULL]\n",
    "#  6:      minbucket ParamInt     1   Inf     Inf <NoDefault[0]> [NULL]\n",
    "#  7:       minsplit ParamInt     1   Inf     Inf             20 [NULL]\n",
    "#  8: surrogatestyle ParamInt     0     1       2              0 [NULL]\n",
    "#  9:   usesurrogate ParamInt     0     2       3              2 [NULL]\n",
    "# 10:           xval ParamInt     0   Inf     Inf             10      0"
   ]
  },
  {
   "cell_type": "markdown",
   "id": "50cba6c1",
   "metadata": {},
   "source": [
    "## 训练"
   ]
  },
  {
   "cell_type": "code",
   "execution_count": 38,
   "id": "8db0127a",
   "metadata": {
    "vscode": {
     "languageId": "r"
    }
   },
   "outputs": [],
   "source": [
    "# 创建任务\n",
    "tsk_mtcars <- tsk(\"mtcars\")\n",
    "\n",
    "# 创建学习器\n",
    "lrn_rpart <- lrn(\"regr.rpart\")\n",
    "\n",
    "# 训练模型\n",
    "lrn_rpart$train(tsk_mtcars)"
   ]
  },
  {
   "cell_type": "code",
   "execution_count": null,
   "id": "4d1f95b3",
   "metadata": {
    "vscode": {
     "languageId": "r"
    }
   },
   "outputs": [
    {
     "data": {
      "text/plain": [
       "n= 32 \n",
       "\n",
       "node), split, n, deviance, yval\n",
       "      * denotes terminal node\n",
       "\n",
       "1) root 32 1126.04700 20.09062  \n",
       "  2) cyl>=5 21  198.47240 16.64762  \n",
       "    4) hp>=192.5 7   28.82857 13.41429 *\n",
       "    5) hp< 192.5 14   59.87214 18.26429 *\n",
       "  3) cyl< 5 11  203.38550 26.66364 *"
      ]
     },
     "metadata": {},
     "output_type": "display_data"
    }
   ],
   "source": [
    "# 查看模型\n",
    "lrn_rpart$model\n",
    "\n",
    "# n= 32 \n",
    "\n",
    "# node), split, n, deviance, yval\n",
    "#       * denotes terminal node\n",
    "\n",
    "# 1) root 32 1126.04700 20.09062  \n",
    "#   2) cyl>=5 21  198.47240 16.64762  \n",
    "#     4) hp>=192.5 7   28.82857 13.41429 *\n",
    "#     5) hp< 192.5 14   59.87214 18.26429 *\n",
    "#   3) cyl< 5 11  203.38550 26.66364 *"
   ]
  },
  {
   "cell_type": "markdown",
   "id": "12258c84",
   "metadata": {},
   "source": [
    "## 划分数据集"
   ]
  },
  {
   "cell_type": "code",
   "execution_count": 42,
   "id": "5a783a3b",
   "metadata": {
    "vscode": {
     "languageId": "r"
    }
   },
   "outputs": [
    {
     "data": {
      "text/html": [
       "<dl>\n",
       "\t<dt>$train</dt>\n",
       "\t\t<dd><style>\n",
       ".list-inline {list-style: none; margin:0; padding: 0}\n",
       ".list-inline>li {display: inline-block}\n",
       ".list-inline>li:not(:last-child)::after {content: \"\\00b7\"; padding: 0 .5ex}\n",
       "</style>\n",
       "<ol class=list-inline><li>2</li><li>3</li><li>6</li><li>8</li><li>12</li><li>13</li><li>14</li><li>15</li><li>16</li><li>17</li><li>18</li><li>19</li><li>20</li><li>21</li><li>22</li><li>23</li><li>24</li><li>25</li><li>27</li><li>29</li><li>32</li></ol>\n",
       "</dd>\n",
       "\t<dt>$test</dt>\n",
       "\t\t<dd><style>\n",
       ".list-inline {list-style: none; margin:0; padding: 0}\n",
       ".list-inline>li {display: inline-block}\n",
       ".list-inline>li:not(:last-child)::after {content: \"\\00b7\"; padding: 0 .5ex}\n",
       "</style>\n",
       "<ol class=list-inline><li>1</li><li>4</li><li>5</li><li>7</li><li>9</li><li>10</li><li>11</li><li>26</li><li>28</li><li>30</li><li>31</li></ol>\n",
       "</dd>\n",
       "\t<dt>$validation</dt>\n",
       "\t\t<dd></dd>\n",
       "</dl>\n"
      ],
      "text/latex": [
       "\\begin{description}\n",
       "\\item[\\$train] \\begin{enumerate*}\n",
       "\\item 2\n",
       "\\item 3\n",
       "\\item 6\n",
       "\\item 8\n",
       "\\item 12\n",
       "\\item 13\n",
       "\\item 14\n",
       "\\item 15\n",
       "\\item 16\n",
       "\\item 17\n",
       "\\item 18\n",
       "\\item 19\n",
       "\\item 20\n",
       "\\item 21\n",
       "\\item 22\n",
       "\\item 23\n",
       "\\item 24\n",
       "\\item 25\n",
       "\\item 27\n",
       "\\item 29\n",
       "\\item 32\n",
       "\\end{enumerate*}\n",
       "\n",
       "\\item[\\$test] \\begin{enumerate*}\n",
       "\\item 1\n",
       "\\item 4\n",
       "\\item 5\n",
       "\\item 7\n",
       "\\item 9\n",
       "\\item 10\n",
       "\\item 11\n",
       "\\item 26\n",
       "\\item 28\n",
       "\\item 30\n",
       "\\item 31\n",
       "\\end{enumerate*}\n",
       "\n",
       "\\item[\\$validation] \n",
       "\\end{description}\n"
      ],
      "text/markdown": [
       "$train\n",
       ":   1. 2\n",
       "2. 3\n",
       "3. 6\n",
       "4. 8\n",
       "5. 12\n",
       "6. 13\n",
       "7. 14\n",
       "8. 15\n",
       "9. 16\n",
       "10. 17\n",
       "11. 18\n",
       "12. 19\n",
       "13. 20\n",
       "14. 21\n",
       "15. 22\n",
       "16. 23\n",
       "17. 24\n",
       "18. 25\n",
       "19. 27\n",
       "20. 29\n",
       "21. 32\n",
       "\n",
       "\n",
       "\n",
       "$test\n",
       ":   1. 1\n",
       "2. 4\n",
       "3. 5\n",
       "4. 7\n",
       "5. 9\n",
       "6. 10\n",
       "7. 11\n",
       "8. 26\n",
       "9. 28\n",
       "10. 30\n",
       "11. 31\n",
       "\n",
       "\n",
       "\n",
       "$validation\n",
       ":   \n",
       "\n",
       "\n"
      ],
      "text/plain": [
       "$train\n",
       " [1]  2  3  6  8 12 13 14 15 16 17 18 19 20 21 22 23 24 25 27 29 32\n",
       "\n",
       "$test\n",
       " [1]  1  4  5  7  9 10 11 26 28 30 31\n",
       "\n",
       "$validation\n",
       "integer(0)\n"
      ]
     },
     "metadata": {},
     "output_type": "display_data"
    }
   ],
   "source": [
    "splits <- partition(tsk_mtcars)\n",
    "splits\n",
    "\n",
    "# $train\n",
    "# 2345678913151618192021222324273031\n",
    "# $test\n",
    "# 110111214172526282932\n",
    "# $validation"
   ]
  },
  {
   "cell_type": "code",
   "execution_count": 43,
   "id": "ad86c9be",
   "metadata": {
    "vscode": {
     "languageId": "r"
    }
   },
   "outputs": [],
   "source": [
    "lrn_rpart$train(tsk_mtcars, row_id = splits$train)"
   ]
  },
  {
   "cell_type": "markdown",
   "id": "03e2ab59",
   "metadata": {},
   "source": [
    "## 预测"
   ]
  },
  {
   "cell_type": "code",
   "execution_count": 44,
   "id": "c990cc39",
   "metadata": {
    "vscode": {
     "languageId": "r"
    }
   },
   "outputs": [],
   "source": [
    "prediction <- lrn_rpart$predict(tsk_mtcars, row_id = splits$test)"
   ]
  },
  {
   "cell_type": "code",
   "execution_count": null,
   "id": "5051fcc8",
   "metadata": {
    "vscode": {
     "languageId": "r"
    }
   },
   "outputs": [
    {
     "data": {
      "text/plain": [
       "<PredictionRegr> for 11 observations:\n",
       " row_ids truth response\n",
       "       1  21.0 25.97778\n",
       "       4  21.4 15.12500\n",
       "       5  18.7 15.12500\n",
       "     ---   ---      ---\n",
       "      28  30.4 25.97778\n",
       "      30  19.7 25.97778\n",
       "      31  15.0 15.12500"
      ]
     },
     "metadata": {},
     "output_type": "display_data"
    }
   ],
   "source": [
    "prediction\n",
    "\n",
    "# <PredictionRegr> for 11 observations:\n",
    "#  row_ids truth response\n",
    "#        1  21.0 25.97778\n",
    "#        4  21.4 15.12500\n",
    "#        5  18.7 15.12500\n",
    "#      ---   ---      ---\n",
    "#       28  30.4 25.97778\n",
    "#       30  19.7 25.97778\n",
    "#       31  15.0 15.12500"
   ]
  },
  {
   "cell_type": "code",
   "execution_count": null,
   "id": "059de676",
   "metadata": {
    "vscode": {
     "languageId": "r"
    }
   },
   "outputs": [
    {
     "name": "stdout",
     "output_type": "stream",
     "text": [
      "   row_ids truth response\n",
      "     <int> <num>    <num>\n",
      "1:       1  21.0 25.97778\n",
      "2:       4  21.4 15.12500\n",
      "3:       5  18.7 15.12500\n",
      "4:       7  14.3 15.12500\n",
      "5:       9  22.8 25.97778\n",
      "6:      10  19.2 25.97778\n"
     ]
    }
   ],
   "source": [
    "as.data.table(prediction) %>% head() %>% print()\n",
    "\n",
    "# row_ids truth response\n",
    "#      <int> <num>    <num>\n",
    "# 1:       1  21.0 25.97778\n",
    "# 2:       4  21.4 15.12500\n",
    "# 3:       5  18.7 15.12500\n",
    "# 4:       7  14.3 15.12500\n",
    "# 5:       9  22.8 25.97778\n",
    "# 6:      10  19.2 25.97778"
   ]
  },
  {
   "cell_type": "code",
   "execution_count": null,
   "id": "e7dc80a4",
   "metadata": {
    "vscode": {
     "languageId": "r"
    }
   },
   "outputs": [
    {
     "data": {
      "text/html": [
       "<style>\n",
       ".list-inline {list-style: none; margin:0; padding: 0}\n",
       ".list-inline>li {display: inline-block}\n",
       ".list-inline>li:not(:last-child)::after {content: \"\\00b7\"; padding: 0 .5ex}\n",
       "</style>\n",
       "<ol class=list-inline><li>25.9777777777778</li><li>15.125</li></ol>\n"
      ],
      "text/latex": [
       "\\begin{enumerate*}\n",
       "\\item 25.9777777777778\n",
       "\\item 15.125\n",
       "\\end{enumerate*}\n"
      ],
      "text/markdown": [
       "1. 25.9777777777778\n",
       "2. 15.125\n",
       "\n",
       "\n"
      ],
      "text/plain": [
       "[1] 25.97778 15.12500"
      ]
     },
     "metadata": {},
     "output_type": "display_data"
    }
   ],
   "source": [
    "prediction$response[1:2]\n",
    "\n",
    "# [1] 25.97778 15.12500"
   ]
  },
  {
   "cell_type": "code",
   "execution_count": null,
   "id": "da7f8610",
   "metadata": {
    "vscode": {
     "languageId": "r"
    }
   },
   "outputs": [
    {
     "data": {
      "image/png": "[encoded data removed]",
      "text/plain": [
       "plot without title"
      ]
     },
     "metadata": {
      "image/png": {
       "height": 420,
       "width": 420
      }
     },
     "output_type": "display_data"
    }
   ],
   "source": [
    "library(mlr3viz)\n",
    "prediction <- lrn_rpart$predict(tsk_mtcars, splits$test)\n",
    "autoplot(prediction)"
   ]
  },
  {
   "cell_type": "code",
   "execution_count": null,
   "id": "931b3acc",
   "metadata": {
    "vscode": {
     "languageId": "r"
    }
   },
   "outputs": [
    {
     "data": {
      "text/plain": [
       "<PredictionRegr> for 2 observations:\n",
       " row_ids truth response\n",
       "       1    NA 25.97778\n",
       "       2    NA 25.97778"
      ]
     },
     "metadata": {},
     "output_type": "display_data"
    }
   ],
   "source": [
    "mtcars_new <- data.table(\n",
    "  cyl = c(5, 6),\n",
    "  disp = c(100, 120),\n",
    "  hp = c(100, 150),\n",
    "  drat = c(4, 3.9),\n",
    "  wt = c(3.8, 4.1),\n",
    "  qsec = c(18, 19.5),\n",
    "  vs = c(1, 0),\n",
    "  am = c(1, 1),\n",
    "  gear = c(6, 4),\n",
    "  carb = c(3, 5)\n",
    ")\n",
    "\n",
    "prediction <- lrn_rpart$predict_newdata(mtcars_new)\n",
    "prediction\n",
    "\n",
    "# <PredictionRegr> for 2 observations:\n",
    "#  row_ids truth response\n",
    "#        1    NA 25.97778\n",
    "#        2    NA 25.97778"
   ]
  },
  {
   "cell_type": "markdown",
   "id": "8ac80152",
   "metadata": {},
   "source": [
    "## 更改预测类型"
   ]
  },
  {
   "cell_type": "code",
   "execution_count": null,
   "id": "17ad8d04",
   "metadata": {
    "vscode": {
     "languageId": "r"
    }
   },
   "outputs": [
    {
     "data": {
      "text/plain": [
       "<PredictionRegr> for 11 observations:\n",
       " row_ids truth  response       se\n",
       "       1  21.0 18.385337 2.846863\n",
       "       4  21.4 19.282261 1.838898\n",
       "       5  18.7 16.995092 1.682557\n",
       "     ---   ---       ---      ---\n",
       "      28  30.4 15.246709 4.767612\n",
       "      30  19.7  6.590408 6.315215\n",
       "      31  15.0 -3.600168 8.810161"
      ]
     },
     "metadata": {},
     "output_type": "display_data"
    }
   ],
   "source": [
    "library(mlr3learners)\n",
    "lrn_lm <- lrn(\"regr.lm\", predict_type = \"se\")\n",
    "lrn_lm$train(tsk_mtcars, splits$train)\n",
    "lrn_lm$predict(tsk_mtcars, splits$test)\n",
    "\n",
    "# <PredictionRegr> for 11 observations:\n",
    "#  row_ids truth  response       se\n",
    "#        1  21.0 18.385337 2.846863\n",
    "#        4  21.4 19.282261 1.838898\n",
    "#        5  18.7 16.995092 1.682557\n",
    "#      ---   ---       ---      ---\n",
    "#       28  30.4 15.246709 4.767612\n",
    "#       30  19.7  6.590408 6.315215\n",
    "#       31  15.0 -3.600168 8.810161"
   ]
  },
  {
   "cell_type": "markdown",
   "id": "a097475c",
   "metadata": {},
   "source": [
    "## 超参数"
   ]
  },
  {
   "cell_type": "code",
   "execution_count": null,
   "id": "507e0f3b",
   "metadata": {
    "vscode": {
     "languageId": "r"
    }
   },
   "outputs": [
    {
     "data": {
      "text/plain": [
       "<ParamSet(10)>\n",
       "                id    class lower upper nlevels        default  value\n",
       "            <char>   <char> <num> <num>   <num>         <list> <list>\n",
       " 1:             cp ParamDbl     0     1     Inf           0.01 [NULL]\n",
       " 2:     keep_model ParamLgl    NA    NA       2          FALSE [NULL]\n",
       " 3:     maxcompete ParamInt     0   Inf     Inf              4 [NULL]\n",
       " 4:       maxdepth ParamInt     1    30      30             30 [NULL]\n",
       " 5:   maxsurrogate ParamInt     0   Inf     Inf              5 [NULL]\n",
       " 6:      minbucket ParamInt     1   Inf     Inf <NoDefault[0]> [NULL]\n",
       " 7:       minsplit ParamInt     1   Inf     Inf             20 [NULL]\n",
       " 8: surrogatestyle ParamInt     0     1       2              0 [NULL]\n",
       " 9:   usesurrogate ParamInt     0     2       3              2 [NULL]\n",
       "10:           xval ParamInt     0   Inf     Inf             10      0"
      ]
     },
     "metadata": {},
     "output_type": "display_data"
    }
   ],
   "source": [
    "lrn_rpart$param_set\n",
    "\n",
    "# <ParamSet(10)>\n",
    "#                 id    class lower upper nlevels        default  value\n",
    "#             <char>   <char> <num> <num>   <num>         <list> <list>\n",
    "#  1:             cp ParamDbl     0     1     Inf           0.01 [NULL]\n",
    "#  2:     keep_model ParamLgl    NA    NA       2          FALSE [NULL]\n",
    "#  3:     maxcompete ParamInt     0   Inf     Inf              4 [NULL]\n",
    "#  4:       maxdepth ParamInt     1    30      30             30 [NULL]\n",
    "#  5:   maxsurrogate ParamInt     0   Inf     Inf              5 [NULL]\n",
    "#  6:      minbucket ParamInt     1   Inf     Inf <NoDefault[0]> [NULL]\n",
    "#  7:       minsplit ParamInt     1   Inf     Inf             20 [NULL]\n",
    "#  8: surrogatestyle ParamInt     0     1       2              0 [NULL]\n",
    "#  9:   usesurrogate ParamInt     0     2       3              2 [NULL]\n",
    "# 10:           xval ParamInt     0   Inf     Inf             10      0"
   ]
  },
  {
   "cell_type": "code",
   "execution_count": 54,
   "id": "af04e3bc",
   "metadata": {
    "vscode": {
     "languageId": "r"
    }
   },
   "outputs": [],
   "source": [
    "lrn_rpart <- lrn(\"regr.rpart\", maxdepth = 1)"
   ]
  },
  {
   "cell_type": "code",
   "execution_count": null,
   "id": "f3d329fc",
   "metadata": {
    "vscode": {
     "languageId": "r"
    }
   },
   "outputs": [
    {
     "data": {
      "text/html": [
       "<dl>\n",
       "\t<dt>$maxdepth</dt>\n",
       "\t\t<dd>1</dd>\n",
       "\t<dt>$xval</dt>\n",
       "\t\t<dd>0</dd>\n",
       "</dl>\n"
      ],
      "text/latex": [
       "\\begin{description}\n",
       "\\item[\\$maxdepth] 1\n",
       "\\item[\\$xval] 0\n",
       "\\end{description}\n"
      ],
      "text/markdown": [
       "$maxdepth\n",
       ":   1\n",
       "$xval\n",
       ":   0\n",
       "\n",
       "\n"
      ],
      "text/plain": [
       "$maxdepth\n",
       "[1] 1\n",
       "\n",
       "$xval\n",
       "[1] 0\n"
      ]
     },
     "metadata": {},
     "output_type": "display_data"
    }
   ],
   "source": [
    "lrn_rpart$param_set$values\n",
    "\n",
    "# $maxdepth\n",
    "# 1\n",
    "# $xval\n",
    "# 0"
   ]
  },
  {
   "cell_type": "code",
   "execution_count": null,
   "id": "4a15ea8c",
   "metadata": {
    "vscode": {
     "languageId": "r"
    }
   },
   "outputs": [
    {
     "data": {
      "text/plain": [
       "n= 32 \n",
       "\n",
       "node), split, n, deviance, yval\n",
       "      * denotes terminal node\n",
       "\n",
       "1) root 32 1126.0470 20.09062  \n",
       "  2) cyl>=5 21  198.4724 16.64762 *\n",
       "  3) cyl< 5 11  203.3855 26.66364 *"
      ]
     },
     "metadata": {},
     "output_type": "display_data"
    }
   ],
   "source": [
    "lrn_rpart$train(tsk(\"mtcars\"))$model\n",
    "\n",
    "# n= 32 \n",
    "\n",
    "# node), split, n, deviance, yval\n",
    "#       * denotes terminal node\n",
    "\n",
    "# 1) root 32 1126.0470 20.09062  \n",
    "#   2) cyl>=5 21  198.4724 16.64762 *\n",
    "#   3) cyl< 5 11  203.3855 26.66364 *"
   ]
  },
  {
   "cell_type": "code",
   "execution_count": null,
   "id": "aebdf2ec",
   "metadata": {
    "vscode": {
     "languageId": "r"
    }
   },
   "outputs": [
    {
     "data": {
      "text/html": [
       "<dl>\n",
       "\t<dt>$maxdepth</dt>\n",
       "\t\t<dd>2</dd>\n",
       "\t<dt>$xval</dt>\n",
       "\t\t<dd>0</dd>\n",
       "</dl>\n"
      ],
      "text/latex": [
       "\\begin{description}\n",
       "\\item[\\$maxdepth] 2\n",
       "\\item[\\$xval] 0\n",
       "\\end{description}\n"
      ],
      "text/markdown": [
       "$maxdepth\n",
       ":   2\n",
       "$xval\n",
       ":   0\n",
       "\n",
       "\n"
      ],
      "text/plain": [
       "$maxdepth\n",
       "[1] 2\n",
       "\n",
       "$xval\n",
       "[1] 0\n"
      ]
     },
     "metadata": {},
     "output_type": "display_data"
    }
   ],
   "source": [
    "lrn_rpart$param_set$values$maxdepth <- 2\n",
    "lrn_rpart$param_set$values\n",
    "\n",
    "# $maxdepth\n",
    "# 2\n",
    "# $xval\n",
    "# 0"
   ]
  },
  {
   "cell_type": "code",
   "execution_count": null,
   "id": "501117e9",
   "metadata": {
    "vscode": {
     "languageId": "r"
    }
   },
   "outputs": [
    {
     "data": {
      "text/plain": [
       "n= 32 \n",
       "\n",
       "node), split, n, deviance, yval\n",
       "      * denotes terminal node\n",
       "\n",
       "1) root 32 1126.04700 20.09062  \n",
       "  2) cyl>=5 21  198.47240 16.64762  \n",
       "    4) hp>=192.5 7   28.82857 13.41429 *\n",
       "    5) hp< 192.5 14   59.87214 18.26429 *\n",
       "  3) cyl< 5 11  203.38550 26.66364 *"
      ]
     },
     "metadata": {},
     "output_type": "display_data"
    }
   ],
   "source": [
    "# now with depth 2\n",
    "lrn_rpart$train(tsk(\"mtcars\"))$model\n",
    "\n",
    "# n= 32 \n",
    "\n",
    "# node), split, n, deviance, yval\n",
    "#       * denotes terminal node\n",
    "\n",
    "# 1) root 32 1126.04700 20.09062  \n",
    "#   2) cyl>=5 21  198.47240 16.64762  \n",
    "#     4) hp>=192.5 7   28.82857 13.41429 *\n",
    "#     5) hp< 192.5 14   59.87214 18.26429 *\n",
    "#   3) cyl< 5 11  203.38550 26.66364 *"
   ]
  },
  {
   "cell_type": "code",
   "execution_count": null,
   "id": "5cb7dd8e",
   "metadata": {
    "vscode": {
     "languageId": "r"
    }
   },
   "outputs": [
    {
     "data": {
      "text/html": [
       "<dl>\n",
       "\t<dt>$maxdepth</dt>\n",
       "\t\t<dd>3</dd>\n",
       "\t<dt>$xval</dt>\n",
       "\t\t<dd>1</dd>\n",
       "</dl>\n"
      ],
      "text/latex": [
       "\\begin{description}\n",
       "\\item[\\$maxdepth] 3\n",
       "\\item[\\$xval] 1\n",
       "\\end{description}\n"
      ],
      "text/markdown": [
       "$maxdepth\n",
       ":   3\n",
       "$xval\n",
       ":   1\n",
       "\n",
       "\n"
      ],
      "text/plain": [
       "$maxdepth\n",
       "[1] 3\n",
       "\n",
       "$xval\n",
       "[1] 1\n"
      ]
     },
     "metadata": {},
     "output_type": "display_data"
    }
   ],
   "source": [
    "lrn_rpart = lrn(\"regr.rpart\", maxdepth = 3, xval = 1)\n",
    "lrn_rpart$param_set$values\n",
    "\n",
    "# $maxdepth\n",
    "# 3\n",
    "# $xval\n",
    "# 1"
   ]
  },
  {
   "cell_type": "code",
   "execution_count": null,
   "id": "a6f40b7b",
   "metadata": {
    "vscode": {
     "languageId": "r"
    }
   },
   "outputs": [
    {
     "data": {
      "text/html": [
       "<dl>\n",
       "\t<dt>$cp</dt>\n",
       "\t\t<dd>0.5</dd>\n",
       "\t<dt>$maxdepth</dt>\n",
       "\t\t<dd>3</dd>\n",
       "\t<dt>$xval</dt>\n",
       "\t\t<dd>2</dd>\n",
       "</dl>\n"
      ],
      "text/latex": [
       "\\begin{description}\n",
       "\\item[\\$cp] 0.5\n",
       "\\item[\\$maxdepth] 3\n",
       "\\item[\\$xval] 2\n",
       "\\end{description}\n"
      ],
      "text/markdown": [
       "$cp\n",
       ":   0.5\n",
       "$maxdepth\n",
       ":   3\n",
       "$xval\n",
       ":   2\n",
       "\n",
       "\n"
      ],
      "text/plain": [
       "$cp\n",
       "[1] 0.5\n",
       "\n",
       "$maxdepth\n",
       "[1] 3\n",
       "\n",
       "$xval\n",
       "[1] 2\n"
      ]
     },
     "metadata": {},
     "output_type": "display_data"
    }
   ],
   "source": [
    "# or with set_values\n",
    "lrn_rpart$param_set$set_values(xval = 2, cp = 0.5)\n",
    "lrn_rpart$param_set$values\n",
    "\n",
    "# $cp\n",
    "# 0.5\n",
    "# $maxdepth\n",
    "# 3\n",
    "# $xval\n",
    "# 2"
   ]
  },
  {
   "cell_type": "code",
   "execution_count": null,
   "id": "7b92918a",
   "metadata": {
    "vscode": {
     "languageId": "r"
    }
   },
   "outputs": [
    {
     "name": "stdout",
     "output_type": "stream",
     "text": [
      "        id     on                  cond\n",
      "    <char> <char>                <list>\n",
      "1:   coef0 kernel <Condition:CondAnyOf>\n",
      "2:    cost   type <Condition:CondAnyOf>\n",
      "3:  degree kernel <Condition:CondEqual>\n",
      "4: epsilon   type <Condition:CondEqual>\n",
      "5:   gamma kernel <Condition:CondAnyOf>\n",
      "6:      nu   type <Condition:CondEqual>\n"
     ]
    }
   ],
   "source": [
    "lrn(\"regr.svm\")$param_set$deps %>% print()\n",
    "\n",
    "# id     on                  cond\n",
    "#     <char> <char>                <list>\n",
    "# 1:   coef0 kernel <Condition:CondAnyOf>\n",
    "# 2:    cost   type <Condition:CondAnyOf>\n",
    "# 3:  degree kernel <Condition:CondEqual>\n",
    "# 4: epsilon   type <Condition:CondEqual>\n",
    "# 5:   gamma kernel <Condition:CondAnyOf>\n",
    "# 6:      nu   type <Condition:CondEqual>"
   ]
  },
  {
   "cell_type": "code",
   "execution_count": null,
   "id": "347d2928",
   "metadata": {
    "vscode": {
     "languageId": "r"
    }
   },
   "outputs": [
    {
     "ename": "ERROR",
     "evalue": "Error in self$assert(xs, sanitize = TRUE): Assertion on 'xs' failed: degree: can only be set if the following condition is met 'kernel == polynomial'. Instead the current parameter value is: kernel == linear.\n",
     "output_type": "error",
     "traceback": [
      "Error in self$assert(xs, sanitize = TRUE): Assertion on 'xs' failed: degree: can only be set if the following condition is met 'kernel == polynomial'. Instead the current parameter value is: kernel == linear.\nTraceback:\n",
      "1. dictionary_sugar_get(dict = mlr_learners, .key, ...)",
      "2. (function (xs) \n . .__ParamSet__values(self = self, private = private, super = super, \n .     xs = xs))(base::quote(list(kernel = \"linear\", degree = 1)))",
      "3. .__ParamSet__values(self = self, private = private, super = super, \n .     xs = xs)",
      "4. self$assert(xs, sanitize = TRUE)",
      "5. .__ParamSet__assert(self = self, private = private, super = super, \n .     xs = xs, check_strict = check_strict, .var.name = .var.name, \n .     sanitize = sanitize)",
      "6. makeAssertion(if (sanitize) attr(checkresult, \"sanitized\") else xs, \n .     checkresult, .var.name, NULL)",
      "7. mstop(\"Assertion on '%s' failed: %s.\", var.name, res, call. = sys.call(-2L))",
      "8. stop(simpleError(sprintf(msg, ...), call.))"
     ]
    }
   ],
   "source": [
    "# error as kernel is not polynomial\n",
    "lrn(\"regr.svm\", kernel = \"linear\", degree = 1)\n",
    "\n",
    "# Error in self$assert(xs, sanitize = TRUE): Assertion on 'xs' failed: degree: can only be set if the following condition is met 'kernel == polynomial'. Instead the current parameter value is: kernel == linear.\n",
    "# Traceback:"
   ]
  },
  {
   "cell_type": "code",
   "execution_count": null,
   "id": "1d4364b5",
   "metadata": {
    "vscode": {
     "languageId": "r"
    }
   },
   "outputs": [
    {
     "data": {
      "text/plain": [
       "<LearnerRegrSVM:regr.svm>: Support Vector Machine\n",
       "* Model: -\n",
       "* Parameters: degree=1, kernel=polynomial\n",
       "* Packages: mlr3, mlr3learners, e1071\n",
       "* Predict Types:  [response]\n",
       "* Feature Types: logical, integer, numeric\n",
       "* Properties: -"
      ]
     },
     "metadata": {},
     "output_type": "display_data"
    }
   ],
   "source": [
    "# works because kernel is polynomial\n",
    "lrn(\"regr.svm\", kernel = \"polynomial\", degree = 1)\n",
    "\n",
    "# <LearnerRegrSVM:regr.svm>: Support Vector Machine\n",
    "# * Model: -\n",
    "# * Parameters: degree=1, kernel=polynomial\n",
    "# * Packages: mlr3, mlr3learners, e1071\n",
    "# * Predict Types:  [response]\n",
    "# * Feature Types: logical, integer, numeric\n",
    "# * Properties: -"
   ]
  },
  {
   "cell_type": "markdown",
   "id": "364a987b",
   "metadata": {},
   "source": [
    "## 基线学习器"
   ]
  },
  {
   "cell_type": "code",
   "execution_count": 72,
   "id": "4b03e0be",
   "metadata": {
    "vscode": {
     "languageId": "r"
    }
   },
   "outputs": [
    {
     "data": {
      "text/plain": [
       "<PredictionRegr> for 5 observations:\n",
       " row_ids     truth response\n",
       "     996 1.9611982 2.024236\n",
       "     997 0.8726665 2.024236\n",
       "     998 0.1886819 2.024236\n",
       "     999 2.4489387 2.024236\n",
       "    1000 0.7165547 2.024236"
      ]
     },
     "metadata": {},
     "output_type": "display_data"
    }
   ],
   "source": [
    "# 生成数据\n",
    "df <- as_task_regr(\n",
    "  data.frame(x = runif(1000), y = rnorm(1000, 2, 1)),\n",
    "  target = \"y\"\n",
    ")\n",
    "lrn(\"regr.featureless\")$train(df, 1:995)$predict(df, 996:1000)"
   ]
  },
  {
   "cell_type": "markdown",
   "id": "70e80a65",
   "metadata": {},
   "source": [
    "# 评估"
   ]
  },
  {
   "cell_type": "code",
   "execution_count": 74,
   "id": "ee81d600",
   "metadata": {
    "vscode": {
     "languageId": "r"
    }
   },
   "outputs": [],
   "source": [
    "lrn_rpart <- lrn(\"regr.rpart\")\n",
    "tsk_mtcars <- tsk(\"mtcars\")\n",
    "splits <- partition(tsk_mtcars)\n",
    "\n",
    "# 训练模型\n",
    "lrn_rpart$train(tsk_mtcars, splits$train)\n",
    "\n",
    "# 预测\n",
    "prediction <- lrn_rpart$predict(tsk_mtcars, splits$test)"
   ]
  },
  {
   "cell_type": "markdown",
   "id": "cbea8ac8",
   "metadata": {},
   "source": [
    "## 测量指标"
   ]
  },
  {
   "cell_type": "code",
   "execution_count": null,
   "id": "6f976489",
   "metadata": {
    "vscode": {
     "languageId": "r"
    }
   },
   "outputs": [
    {
     "data": {
      "text/plain": [
       "<DictionaryMeasure> with 75 stored values\n",
       "Keys: aic, bic, ci, ci.con_z, ci.cor_t, ci.holdout, ci.ncv, ci.wald_cv,\n",
       "  classif.acc, classif.auc, classif.bacc, classif.bbrier, classif.ce,\n",
       "  classif.costs, classif.dor, classif.fbeta, classif.fdr, classif.fn,\n",
       "  classif.fnr, classif.fomr, classif.fp, classif.fpr, classif.logloss,\n",
       "  classif.mauc_au1p, classif.mauc_au1u, classif.mauc_aunp,\n",
       "  classif.mauc_aunu, classif.mauc_mu, classif.mbrier, classif.mcc,\n",
       "  classif.npv, classif.ppv, classif.prauc, classif.precision,\n",
       "  classif.recall, classif.sensitivity, classif.specificity, classif.tn,\n",
       "  classif.tnr, classif.tp, classif.tpr, clust.ch, clust.dunn,\n",
       "  clust.silhouette, clust.wss, debug_classif, internal_valid_score,\n",
       "  oob_error, regr.bias, regr.ktau, regr.mae, regr.mape, regr.maxae,\n",
       "  regr.medae, regr.medse, regr.mse, regr.msle, regr.pbias,\n",
       "  regr.pinball, regr.rae, regr.rmse, regr.rmsle, regr.rrse, regr.rse,\n",
       "  regr.rsq, regr.sae, regr.smape, regr.srho, regr.sse,\n",
       "  selected_features, sim.jaccard, sim.phi, time_both, time_predict,\n",
       "  time_train"
      ]
     },
     "metadata": {},
     "output_type": "display_data"
    }
   ],
   "source": [
    "msr()\n",
    "\n",
    "# <DictionaryMeasure> with 75 stored values\n",
    "# Keys: aic, bic, ci, ci.con_z, ci.cor_t, ci.holdout, ci.ncv, ci.wald_cv,\n",
    "#   classif.acc, classif.auc, classif.bacc, classif.bbrier, classif.ce,\n",
    "#   classif.costs, classif.dor, classif.fbeta, classif.fdr, classif.fn,\n",
    "#   classif.fnr, classif.fomr, classif.fp, classif.fpr, classif.logloss,\n",
    "#   classif.mauc_au1p, classif.mauc_au1u, classif.mauc_aunp,\n",
    "#   classif.mauc_aunu, classif.mauc_mu, classif.mbrier, classif.mcc,\n",
    "#   classif.npv, classif.ppv, classif.prauc, classif.precision,\n",
    "#   classif.recall, classif.sensitivity, classif.specificity, classif.tn,\n",
    "#   classif.tnr, classif.tp, classif.tpr, clust.ch, clust.dunn,\n",
    "#   clust.silhouette, clust.wss, debug_classif, internal_valid_score,\n",
    "#   oob_error, regr.bias, regr.ktau, regr.mae, regr.mape, regr.maxae,\n",
    "#   regr.medae, regr.medse, regr.mse, regr.msle, regr.pbias,\n",
    "#   regr.pinball, regr.rae, regr.rmse, regr.rmsle, regr.rrse, regr.rse,\n",
    "#   regr.rsq, regr.sae, regr.smape, regr.srho, regr.sse,\n",
    "#   selected_features, sim.jaccard, sim.phi, time_both, time_predict,\n",
    "#   time_train"
   ]
  },
  {
   "cell_type": "code",
   "execution_count": 79,
   "id": "b730eefb",
   "metadata": {
    "vscode": {
     "languageId": "r"
    }
   },
   "outputs": [
    {
     "name": "stderr",
     "output_type": "stream",
     "text": [
      "Superclass MeasureClust has cloneable=FALSE, but subclass MeasureClustFPC has cloneable=TRUE. A subclass cannot be cloneable when its superclass is not cloneable, so cloning will be disabled for MeasureClustFPC.\n",
      "\n",
      "Superclass MeasureClust has cloneable=FALSE, but subclass MeasureClustFPC has cloneable=TRUE. A subclass cannot be cloneable when its superclass is not cloneable, so cloning will be disabled for MeasureClustFPC.\n",
      "\n",
      "Superclass MeasureClust has cloneable=FALSE, but subclass MeasureClustSil has cloneable=TRUE. A subclass cannot be cloneable when its superclass is not cloneable, so cloning will be disabled for MeasureClustSil.\n",
      "\n",
      "Superclass MeasureClust has cloneable=FALSE, but subclass MeasureClustFPC has cloneable=TRUE. A subclass cannot be cloneable when its superclass is not cloneable, so cloning will be disabled for MeasureClustFPC.\n",
      "\n"
     ]
    },
    {
     "data": {
      "text/html": [
       "<table class=\"dataframe\">\n",
       "<caption>A data.table: 6 x 7</caption>\n",
       "<thead>\n",
       "\t<tr><th scope=col>key</th><th scope=col>label</th><th scope=col>task_type</th><th scope=col>packages</th><th scope=col>predict_type</th><th scope=col>properties</th><th scope=col>task_properties</th></tr>\n",
       "\t<tr><th scope=col>&lt;chr&gt;</th><th scope=col>&lt;chr&gt;</th><th scope=col>&lt;chr&gt;</th><th scope=col>&lt;list&gt;</th><th scope=col>&lt;chr&gt;</th><th scope=col>&lt;list&gt;</th><th scope=col>&lt;list&gt;</th></tr>\n",
       "</thead>\n",
       "<tbody>\n",
       "\t<tr><td>aic       </td><td>Akaike Information Criterion  </td><td>NA</td><td>mlr3</td><td>NA      </td><td>na_score              , requires_learner      , requires_model        , requires_no_prediction</td><td></td></tr>\n",
       "\t<tr><td>bic       </td><td>Bayesian Information Criterion</td><td>NA</td><td>mlr3</td><td>NA      </td><td>na_score              , requires_learner      , requires_model        , requires_no_prediction</td><td></td></tr>\n",
       "\t<tr><td>ci        </td><td>Default CI                    </td><td>NA</td><td>mlr3        , mlr3measures, mlr3inferr  </td><td>response</td><td>primary_iters</td><td></td></tr>\n",
       "\t<tr><td>ci.con_z  </td><td>Conservative-Z CI             </td><td>NA</td><td>mlr3        , mlr3measures, mlr3inferr  </td><td>response</td><td>primary_iters</td><td></td></tr>\n",
       "\t<tr><td>ci.cor_t  </td><td>Corrected-T CI                </td><td>NA</td><td>mlr3        , mlr3measures, mlr3inferr  </td><td>response</td><td>primary_iters</td><td></td></tr>\n",
       "\t<tr><td>ci.holdout</td><td>Holdout CI                    </td><td>NA</td><td>mlr3        , mlr3measures, mlr3inferr  </td><td>response</td><td>primary_iters</td><td></td></tr>\n",
       "</tbody>\n",
       "</table>\n"
      ],
      "text/latex": [
       "A data.table: 6 x 7\n",
       "\\begin{tabular}{lllllll}\n",
       " key & label & task\\_type & packages & predict\\_type & properties & task\\_properties\\\\\n",
       " <chr> & <chr> & <chr> & <list> & <chr> & <list> & <list>\\\\\n",
       "\\hline\n",
       "\t aic        & Akaike Information Criterion   & NA & mlr3 & NA       & na\\_score              , requires\\_learner      , requires\\_model        , requires\\_no\\_prediction & \\\\\n",
       "\t bic        & Bayesian Information Criterion & NA & mlr3 & NA       & na\\_score              , requires\\_learner      , requires\\_model        , requires\\_no\\_prediction & \\\\\n",
       "\t ci         & Default CI                     & NA & mlr3        , mlr3measures, mlr3inferr   & response & primary\\_iters & \\\\\n",
       "\t ci.con\\_z   & Conservative-Z CI              & NA & mlr3        , mlr3measures, mlr3inferr   & response & primary\\_iters & \\\\\n",
       "\t ci.cor\\_t   & Corrected-T CI                 & NA & mlr3        , mlr3measures, mlr3inferr   & response & primary\\_iters & \\\\\n",
       "\t ci.holdout & Holdout CI                     & NA & mlr3        , mlr3measures, mlr3inferr   & response & primary\\_iters & \\\\\n",
       "\\end{tabular}\n"
      ],
      "text/markdown": [
       "\n",
       "A data.table: 6 x 7\n",
       "\n",
       "| key &lt;chr&gt; | label &lt;chr&gt; | task_type &lt;chr&gt; | packages &lt;list&gt; | predict_type &lt;chr&gt; | properties &lt;list&gt; | task_properties &lt;list&gt; |\n",
       "|---|---|---|---|---|---|---|\n",
       "| aic        | Akaike Information Criterion   | NA | mlr3 | NA       | na_score              , requires_learner      , requires_model        , requires_no_prediction | <!----> |\n",
       "| bic        | Bayesian Information Criterion | NA | mlr3 | NA       | na_score              , requires_learner      , requires_model        , requires_no_prediction | <!----> |\n",
       "| ci         | Default CI                     | NA | mlr3        , mlr3measures, mlr3inferr   | response | primary_iters | <!----> |\n",
       "| ci.con_z   | Conservative-Z CI              | NA | mlr3        , mlr3measures, mlr3inferr   | response | primary_iters | <!----> |\n",
       "| ci.cor_t   | Corrected-T CI                 | NA | mlr3        , mlr3measures, mlr3inferr   | response | primary_iters | <!----> |\n",
       "| ci.holdout | Holdout CI                     | NA | mlr3        , mlr3measures, mlr3inferr   | response | primary_iters | <!----> |\n",
       "\n"
      ],
      "text/plain": [
       "  key        label                          task_type\n",
       "1 aic        Akaike Information Criterion   NA       \n",
       "2 bic        Bayesian Information Criterion NA       \n",
       "3 ci         Default CI                     NA       \n",
       "4 ci.con_z   Conservative-Z CI              NA       \n",
       "5 ci.cor_t   Corrected-T CI                 NA       \n",
       "6 ci.holdout Holdout CI                     NA       \n",
       "  packages                                 predict_type\n",
       "1 mlr3                                     NA          \n",
       "2 mlr3                                     NA          \n",
       "3 mlr3        , mlr3measures, mlr3inferr   response    \n",
       "4 mlr3        , mlr3measures, mlr3inferr   response    \n",
       "5 mlr3        , mlr3measures, mlr3inferr   response    \n",
       "6 mlr3        , mlr3measures, mlr3inferr   response    \n",
       "  properties                                                                                    \n",
       "1 na_score              , requires_learner      , requires_model        , requires_no_prediction\n",
       "2 na_score              , requires_learner      , requires_model        , requires_no_prediction\n",
       "3 primary_iters                                                                                 \n",
       "4 primary_iters                                                                                 \n",
       "5 primary_iters                                                                                 \n",
       "6 primary_iters                                                                                 \n",
       "  task_properties\n",
       "1                \n",
       "2                \n",
       "3                \n",
       "4                \n",
       "5                \n",
       "6                "
      ]
     },
     "metadata": {},
     "output_type": "display_data"
    }
   ],
   "source": [
    "as.data.table(msr()) %>% head()"
   ]
  },
  {
   "cell_type": "code",
   "execution_count": null,
   "id": "4b50b46e",
   "metadata": {
    "vscode": {
     "languageId": "r"
    }
   },
   "outputs": [
    {
     "data": {
      "text/plain": [
       "<MeasureRegrSimple:regr.mae>: Mean Absolute Error\n",
       "* Packages: mlr3, mlr3measures\n",
       "* Range: [0, Inf]\n",
       "* Minimize: TRUE\n",
       "* Average: macro\n",
       "* Parameters: list()\n",
       "* Properties: -\n",
       "* Predict type: response"
      ]
     },
     "metadata": {},
     "output_type": "display_data"
    }
   ],
   "source": [
    "measure <- msr(\"regr.mae\")\n",
    "measure\n",
    "\n",
    "# <MeasureRegrSimple:regr.mae>: Mean Absolute Error\n",
    "# * Packages: mlr3, mlr3measures\n",
    "# * Range: [0, Inf]\n",
    "# * Minimize: TRUE\n",
    "# * Average: macro\n",
    "# * Parameters: list()\n",
    "# * Properties: -\n",
    "# * Predict type: response"
   ]
  },
  {
   "cell_type": "markdown",
   "id": "1823eaf4",
   "metadata": {},
   "source": [
    "## 预测得分"
   ]
  },
  {
   "cell_type": "code",
   "execution_count": 83,
   "id": "8e45d4dc",
   "metadata": {
    "vscode": {
     "languageId": "r"
    }
   },
   "outputs": [
    {
     "data": {
      "text/plain": [
       "<PredictionRegr> for 11 observations:\n",
       " row_ids truth response\n",
       "       2  21.0 16.73333\n",
       "       4  21.4 16.73333\n",
       "       6  18.1 16.73333\n",
       "     ---   ---      ---\n",
       "      22  15.5 16.73333\n",
       "      29  15.8 16.73333\n",
       "      31  15.0 16.73333"
      ]
     },
     "metadata": {},
     "output_type": "display_data"
    }
   ],
   "source": [
    "prediction\n",
    "\n",
    "# <PredictionRegr> for 11 observations:\n",
    "#  row_ids truth response\n",
    "#        2  21.0 16.73333\n",
    "#        4  21.4 16.73333\n",
    "#        6  18.1 16.73333\n",
    "#      ---   ---      ---\n",
    "#       22  15.5 16.73333\n",
    "#       29  15.8 16.73333\n",
    "#       31  15.0 16.73333"
   ]
  },
  {
   "cell_type": "code",
   "execution_count": null,
   "id": "5bf39d95",
   "metadata": {
    "vscode": {
     "languageId": "r"
    }
   },
   "outputs": [
    {
     "data": {
      "text/html": [
       "<strong>regr.mae:</strong> 3.13030303030303"
      ],
      "text/latex": [
       "\\textbf{regr.mae:} 3.13030303030303"
      ],
      "text/markdown": [
       "**regr.mae:** 3.13030303030303"
      ],
      "text/plain": [
       "regr.mae \n",
       "3.130303 "
      ]
     },
     "metadata": {},
     "output_type": "display_data"
    }
   ],
   "source": [
    "prediction$score(measure)\n",
    "\n",
    "# regr.mae: 3.13030303030303"
   ]
  },
  {
   "cell_type": "code",
   "execution_count": null,
   "id": "03362d8f",
   "metadata": {
    "vscode": {
     "languageId": "r"
    }
   },
   "outputs": [
    {
     "data": {
      "text/html": [
       "<style>\n",
       ".dl-inline {width: auto; margin:0; padding: 0}\n",
       ".dl-inline>dt, .dl-inline>dd {float: none; width: auto; display: inline-block}\n",
       ".dl-inline>dt::after {content: \":\\0020\"; padding-right: .5ex}\n",
       ".dl-inline>dt:not(:first-of-type) {padding-left: .5ex}\n",
       "</style><dl class=dl-inline><dt>regr.mse</dt><dd>13.9318181818182</dd><dt>regr.mae</dt><dd>3.13030303030303</dd></dl>\n"
      ],
      "text/latex": [
       "\\begin{description*}\n",
       "\\item[regr.mse] 13.9318181818182\n",
       "\\item[regr.mae] 3.13030303030303\n",
       "\\end{description*}\n"
      ],
      "text/markdown": [
       "regr.mse\n",
       ":   13.9318181818182regr.mae\n",
       ":   3.13030303030303\n",
       "\n"
      ],
      "text/plain": [
       " regr.mse  regr.mae \n",
       "13.931818  3.130303 "
      ]
     },
     "metadata": {},
     "output_type": "display_data"
    }
   ],
   "source": [
    "measures <- msrs(c(\"regr.mse\", \"regr.mae\"))\n",
    "prediction$score(measures)\n",
    "\n",
    "# regr.mse13.9318181818182 regr.mae3.13030303030303"
   ]
  },
  {
   "cell_type": "markdown",
   "id": "2a639f0e",
   "metadata": {},
   "source": [
    "## 技术指标"
   ]
  },
  {
   "cell_type": "code",
   "execution_count": null,
   "id": "8182aec3",
   "metadata": {
    "vscode": {
     "languageId": "r"
    }
   },
   "outputs": [
    {
     "data": {
      "text/html": [
       "<style>\n",
       ".dl-inline {width: auto; margin:0; padding: 0}\n",
       ".dl-inline>dt, .dl-inline>dd {float: none; width: auto; display: inline-block}\n",
       ".dl-inline>dt::after {content: \":\\0020\"; padding-right: .5ex}\n",
       ".dl-inline>dt:not(:first-of-type) {padding-left: .5ex}\n",
       "</style><dl class=dl-inline><dt>time_train</dt><dd>0.00200000000040745</dd><dt>time_predict</dt><dd>0.000999999996565748</dd><dt>time_both</dt><dd>0.0029999999969732</dd></dl>\n"
      ],
      "text/latex": [
       "\\begin{description*}\n",
       "\\item[time\\textbackslash{}\\_train] 0.00200000000040745\n",
       "\\item[time\\textbackslash{}\\_predict] 0.000999999996565748\n",
       "\\item[time\\textbackslash{}\\_both] 0.0029999999969732\n",
       "\\end{description*}\n"
      ],
      "text/markdown": [
       "time_train\n",
       ":   0.00200000000040745time_predict\n",
       ":   0.000999999996565748time_both\n",
       ":   0.0029999999969732\n",
       "\n"
      ],
      "text/plain": [
       "  time_train time_predict    time_both \n",
       "       0.002        0.001        0.003 "
      ]
     },
     "metadata": {},
     "output_type": "display_data"
    }
   ],
   "source": [
    "measures <- msrs(c(\"time_train\", \"time_predict\", \"time_both\"))\n",
    "prediction$score(measures, learner = lrn_rpart)\n",
    "\n",
    "# time_train0.00200000000040745 time_predict0.000999999996565748 time_both0.0029999999969732"
   ]
  },
  {
   "cell_type": "code",
   "execution_count": null,
   "id": "3b846930",
   "metadata": {
    "vscode": {
     "languageId": "r"
    }
   },
   "outputs": [
    {
     "data": {
      "text/plain": [
       "<MeasureSelectedFeatures:selected_features>: Absolute or Relative Frequency of Selected Features\n",
       "* Packages: mlr3\n",
       "* Range: [0, Inf]\n",
       "* Minimize: TRUE\n",
       "* Average: macro\n",
       "* Parameters: normalize=FALSE\n",
       "* Properties: requires_task, requires_learner, requires_model,\n",
       "  requires_no_prediction\n",
       "* Predict type: NA"
      ]
     },
     "metadata": {},
     "output_type": "display_data"
    }
   ],
   "source": [
    "msr_sf  <- msr(\"selected_features\")\n",
    "msr_sf\n",
    "\n",
    "# <MeasureSelectedFeatures:selected_features>: Absolute or Relative Frequency of Selected Features\n",
    "# * Packages: mlr3\n",
    "# * Range: [0, Inf]\n",
    "# * Minimize: TRUE\n",
    "# * Average: macro\n",
    "# * Parameters: normalize=FALSE\n",
    "# * Properties: requires_task, requires_learner, requires_model,\n",
    "#   requires_no_prediction\n",
    "# * Predict type: NA"
   ]
  },
  {
   "cell_type": "code",
   "execution_count": null,
   "id": "be706790",
   "metadata": {
    "vscode": {
     "languageId": "r"
    }
   },
   "outputs": [
    {
     "data": {
      "text/plain": [
       "<ParamSet(1)>\n",
       "          id    class lower upper nlevels        default  value\n",
       "      <char>   <char> <num> <num>   <num>         <list> <list>\n",
       "1: normalize ParamLgl    NA    NA       2 <NoDefault[0]>  FALSE"
      ]
     },
     "metadata": {},
     "output_type": "display_data"
    }
   ],
   "source": [
    "msr_sf <- msr(\"selected_features\")\n",
    "msr_sf$param_set\n",
    "\n",
    "# <ParamSet(1)>\n",
    "#           id    class lower upper nlevels        default  value\n",
    "#       <char>   <char> <num> <num>   <num>         <list> <list>\n",
    "# 1: normalize ParamLgl    NA    NA       2 <NoDefault[0]>  FALSE"
   ]
  },
  {
   "cell_type": "code",
   "execution_count": null,
   "id": "5c10dbf4",
   "metadata": {
    "vscode": {
     "languageId": "r"
    }
   },
   "outputs": [
    {
     "data": {
      "text/html": [
       "<strong>selected_features:</strong> 0.1"
      ],
      "text/latex": [
       "\\textbf{selected\\textbackslash{}\\_features:} 0.1"
      ],
      "text/markdown": [
       "**selected_features:** 0.1"
      ],
      "text/plain": [
       "selected_features \n",
       "              0.1 "
      ]
     },
     "metadata": {},
     "output_type": "display_data"
    }
   ],
   "source": [
    "msr_sf$param_set$values$normalize <- TRUE\n",
    "prediction$score(msr_sf, task = tsk_mtcars, learner = lrn_rpart)\n",
    "\n",
    "\n",
    "# selected_features: 0.1"
   ]
  },
  {
   "cell_type": "markdown",
   "id": "359e253b",
   "metadata": {},
   "source": [
    "# 测试回归"
   ]
  },
  {
   "cell_type": "code",
   "execution_count": 93,
   "id": "83147f99",
   "metadata": {
    "vscode": {
     "languageId": "r"
    }
   },
   "outputs": [],
   "source": [
    "library(mlr3)\n",
    "set.seed(123)"
   ]
  },
  {
   "cell_type": "code",
   "execution_count": 98,
   "id": "c93d4876",
   "metadata": {
    "vscode": {
     "languageId": "r"
    }
   },
   "outputs": [],
   "source": [
    "# 创建任务\n",
    "tsk_mtcars <- tsk(\"mtcars\")\n",
    "\n",
    "# 划分数据集\n",
    "splits <- partition(tsk_mtcars)\n",
    "\n",
    "# 定义弱学习器\n",
    "lrn_featureless <- lrn(\"regr.featureless\")\n",
    "\n",
    "# 定义树学习器\n",
    "lrn_rpart <- lrn(\"regr.rpart\")\n",
    "\n",
    "# 定义评估指标为MSE与MAE\n",
    "measures <- msrs(c(\"regr.mse\", \"regr.mae\"))\n",
    "\n",
    "# 训练模型\n",
    "lrn_featureless$train(tsk_mtcars, splits$train)\n",
    "lrn_rpart$train(tsk_mtcars, splits$train)\n",
    "\n",
    "# 预测\n",
    "pred_featureless <- lrn_featureless$predict(tsk_mtcars, splits$test)\n",
    "pred_rpart <- lrn_rpart$predict(tsk_mtcars, splits$test)"
   ]
  },
  {
   "cell_type": "code",
   "execution_count": null,
   "id": "1bc139e6",
   "metadata": {
    "vscode": {
     "languageId": "r"
    }
   },
   "outputs": [
    {
     "data": {
      "text/html": [
       "<style>\n",
       ".dl-inline {width: auto; margin:0; padding: 0}\n",
       ".dl-inline>dt, .dl-inline>dd {float: none; width: auto; display: inline-block}\n",
       ".dl-inline>dt::after {content: \":\\0020\"; padding-right: .5ex}\n",
       ".dl-inline>dt:not(:first-of-type) {padding-left: .5ex}\n",
       "</style><dl class=dl-inline><dt>regr.mse</dt><dd>48.7093114821686</dd><dt>regr.mae</dt><dd>5.50692640692641</dd></dl>\n"
      ],
      "text/latex": [
       "\\begin{description*}\n",
       "\\item[regr.mse] 48.7093114821686\n",
       "\\item[regr.mae] 5.50692640692641\n",
       "\\end{description*}\n"
      ],
      "text/markdown": [
       "regr.mse\n",
       ":   48.7093114821686regr.mae\n",
       ":   5.50692640692641\n",
       "\n"
      ],
      "text/plain": [
       " regr.mse  regr.mae \n",
       "48.709311  5.506926 "
      ]
     },
     "metadata": {},
     "output_type": "display_data"
    }
   ],
   "source": [
    "pred_featureless$score(measures)\n",
    "\n",
    "# regr.mse 48.7093114821686\n",
    "# regr.mae 5.50692640692641"
   ]
  },
  {
   "cell_type": "code",
   "execution_count": null,
   "id": "2282a427",
   "metadata": {
    "vscode": {
     "languageId": "r"
    }
   },
   "outputs": [
    {
     "data": {
      "text/html": [
       "<style>\n",
       ".dl-inline {width: auto; margin:0; padding: 0}\n",
       ".dl-inline>dt, .dl-inline>dd {float: none; width: auto; display: inline-block}\n",
       ".dl-inline>dt::after {content: \":\\0020\"; padding-right: .5ex}\n",
       ".dl-inline>dt:not(:first-of-type) {padding-left: .5ex}\n",
       "</style><dl class=dl-inline><dt>regr.mse</dt><dd>20.8335241301908</dd><dt>regr.mae</dt><dd>3.72020202020202</dd></dl>\n"
      ],
      "text/latex": [
       "\\begin{description*}\n",
       "\\item[regr.mse] 20.8335241301908\n",
       "\\item[regr.mae] 3.72020202020202\n",
       "\\end{description*}\n"
      ],
      "text/markdown": [
       "regr.mse\n",
       ":   20.8335241301908regr.mae\n",
       ":   3.72020202020202\n",
       "\n"
      ],
      "text/plain": [
       " regr.mse  regr.mae \n",
       "20.833524  3.720202 "
      ]
     },
     "metadata": {},
     "output_type": "display_data"
    }
   ],
   "source": [
    "pred_rpart$score(measures)\n",
    "\n",
    "# regr.mse 20.8335241301908\n",
    "# regr.mae 3.72020202020202"
   ]
  },
  {
   "cell_type": "markdown",
   "id": "5ae64ec6",
   "metadata": {},
   "source": [
    "# 分类"
   ]
  },
  {
   "cell_type": "markdown",
   "id": "95494353",
   "metadata": {},
   "source": [
    "## 分类试验"
   ]
  },
  {
   "cell_type": "code",
   "execution_count": 101,
   "id": "0477942f",
   "metadata": {
    "vscode": {
     "languageId": "r"
    }
   },
   "outputs": [],
   "source": [
    "library(mlr3)\n",
    "set.seed(349)\n",
    "\n",
    "# 创建任务\n",
    "tsk_penguins <- tsk(\"penguins\")\n",
    "\n",
    "# 划分数据集\n",
    "splits <- partition(tsk_penguins)\n",
    "\n",
    "# 定义弱学习器\n",
    "lrn_featureless <- lrn(\"classif.featureless\")\n",
    "\n",
    "# 定义树学习器\n",
    "lrn_rpart <- lrn(\"classif.rpart\")\n",
    "\n",
    "# 定义评估指标为准确率\n",
    "measures <- msrs(c(\"classif.acc\"))\n",
    "\n",
    "# 训练模型\n",
    "lrn_featureless$train(tsk_penguins, splits$train)\n",
    "lrn_rpart$train(tsk_penguins, splits$train)\n",
    "\n",
    "# 预测\n",
    "pred_featureless <- lrn_featureless$predict(tsk_penguins, splits$test)\n",
    "pred_rpart <- lrn_rpart$predict(tsk_penguins, splits$test)"
   ]
  },
  {
   "cell_type": "code",
   "execution_count": null,
   "id": "ee7dd704",
   "metadata": {
    "vscode": {
     "languageId": "r"
    }
   },
   "outputs": [
    {
     "data": {
      "text/html": [
       "<strong>classif.acc:</strong> 0.456140350877193"
      ],
      "text/latex": [
       "\\textbf{classif.acc:} 0.456140350877193"
      ],
      "text/markdown": [
       "**classif.acc:** 0.456140350877193"
      ],
      "text/plain": [
       "classif.acc \n",
       "  0.4561404 "
      ]
     },
     "metadata": {},
     "output_type": "display_data"
    }
   ],
   "source": [
    "pred_featureless$score(measures)\n",
    "\n",
    "# classif.acc: 0.456140350877193"
   ]
  },
  {
   "cell_type": "code",
   "execution_count": null,
   "id": "ce8ae278",
   "metadata": {
    "vscode": {
     "languageId": "r"
    }
   },
   "outputs": [
    {
     "data": {
      "text/html": [
       "<strong>classif.acc:</strong> 0.93859649122807"
      ],
      "text/latex": [
       "\\textbf{classif.acc:} 0.93859649122807"
      ],
      "text/markdown": [
       "**classif.acc:** 0.93859649122807"
      ],
      "text/plain": [
       "classif.acc \n",
       "  0.9385965 "
      ]
     },
     "metadata": {},
     "output_type": "display_data"
    }
   ],
   "source": [
    "pred_rpart$score(measures)\n",
    "\n",
    "# classif.acc: 0.93859649122807"
   ]
  },
  {
   "cell_type": "markdown",
   "id": "6bd39136",
   "metadata": {},
   "source": [
    "## 分类任务"
   ]
  },
  {
   "cell_type": "code",
   "execution_count": 107,
   "id": "0cf4de72",
   "metadata": {
    "vscode": {
     "languageId": "r"
    }
   },
   "outputs": [
    {
     "data": {
      "text/html": [
       "<table class=\"dataframe\">\n",
       "<caption>A data.table: 13 x 14</caption>\n",
       "<thead>\n",
       "\t<tr><th scope=col>key</th><th scope=col>label</th><th scope=col>task_type</th><th scope=col>nrow</th><th scope=col>ncol</th><th scope=col>properties</th><th scope=col>lgl</th><th scope=col>int</th><th scope=col>dbl</th><th scope=col>chr</th><th scope=col>fct</th><th scope=col>ord</th><th scope=col>pxc</th><th scope=col>dte</th></tr>\n",
       "\t<tr><th scope=col>&lt;chr&gt;</th><th scope=col>&lt;chr&gt;</th><th scope=col>&lt;chr&gt;</th><th scope=col>&lt;int&gt;</th><th scope=col>&lt;int&gt;</th><th scope=col>&lt;list&gt;</th><th scope=col>&lt;int&gt;</th><th scope=col>&lt;int&gt;</th><th scope=col>&lt;int&gt;</th><th scope=col>&lt;int&gt;</th><th scope=col>&lt;int&gt;</th><th scope=col>&lt;int&gt;</th><th scope=col>&lt;int&gt;</th><th scope=col>&lt;int&gt;</th></tr>\n",
       "</thead>\n",
       "<tbody>\n",
       "\t<tr><td>breast_cancer  </td><td>Wisconsin Breast Cancer                  </td><td>classif</td><td> 683</td><td>10</td><td>twoclass</td><td> 0</td><td> 0</td><td> 0</td><td>0</td><td> 0</td><td>9</td><td>0</td><td>0</td></tr>\n",
       "\t<tr><td>german_credit  </td><td>German Credit                            </td><td>classif</td><td>1000</td><td>21</td><td>twoclass</td><td> 0</td><td> 3</td><td> 0</td><td>0</td><td>14</td><td>3</td><td>0</td><td>0</td></tr>\n",
       "\t<tr><td>ilpd           </td><td>Indian Liver Patient Data                </td><td>classif</td><td> 583</td><td>11</td><td>twoclass</td><td> 0</td><td> 4</td><td> 5</td><td>0</td><td> 1</td><td>0</td><td>0</td><td>0</td></tr>\n",
       "\t<tr><td>iris           </td><td>Iris Flowers                             </td><td>classif</td><td> 150</td><td> 5</td><td>multiclass</td><td> 0</td><td> 0</td><td> 4</td><td>0</td><td> 0</td><td>0</td><td>0</td><td>0</td></tr>\n",
       "\t<tr><td>optdigits      </td><td>Optical Recognition of Handwritten Digits</td><td>classif</td><td>5620</td><td>65</td><td>twoclass</td><td> 0</td><td>64</td><td> 0</td><td>0</td><td> 0</td><td>0</td><td>0</td><td>0</td></tr>\n",
       "\t<tr><td>penguins       </td><td>Palmer Penguins                          </td><td>classif</td><td> 344</td><td> 8</td><td>multiclass</td><td> 0</td><td> 3</td><td> 2</td><td>0</td><td> 2</td><td>0</td><td>0</td><td>0</td></tr>\n",
       "\t<tr><td>penguins_simple</td><td>Simplified Palmer Penguins               </td><td>classif</td><td> 333</td><td>11</td><td>multiclass</td><td> 0</td><td> 3</td><td> 7</td><td>0</td><td> 0</td><td>0</td><td>0</td><td>0</td></tr>\n",
       "\t<tr><td>pima           </td><td>Pima Indian Diabetes                     </td><td>classif</td><td> 768</td><td> 9</td><td>twoclass</td><td> 0</td><td> 0</td><td> 8</td><td>0</td><td> 0</td><td>0</td><td>0</td><td>0</td></tr>\n",
       "\t<tr><td>sonar          </td><td>Sonar: Mines vs. Rocks                   </td><td>classif</td><td> 208</td><td>61</td><td>twoclass</td><td> 0</td><td> 0</td><td>60</td><td>0</td><td> 0</td><td>0</td><td>0</td><td>0</td></tr>\n",
       "\t<tr><td>spam           </td><td>HP Spam Detection                        </td><td>classif</td><td>4601</td><td>58</td><td>twoclass</td><td> 0</td><td> 0</td><td>57</td><td>0</td><td> 0</td><td>0</td><td>0</td><td>0</td></tr>\n",
       "\t<tr><td>titanic        </td><td>Titanic                                  </td><td>classif</td><td>1309</td><td>11</td><td>twoclass</td><td> 0</td><td> 2</td><td> 2</td><td>3</td><td> 2</td><td>1</td><td>0</td><td>0</td></tr>\n",
       "\t<tr><td>wine           </td><td>Wine Regions                             </td><td>classif</td><td> 178</td><td>14</td><td>multiclass</td><td> 0</td><td> 2</td><td>11</td><td>0</td><td> 0</td><td>0</td><td>0</td><td>0</td></tr>\n",
       "\t<tr><td>zoo            </td><td>Zoo Animals                              </td><td>classif</td><td> 101</td><td>17</td><td>multiclass</td><td>15</td><td> 1</td><td> 0</td><td>0</td><td> 0</td><td>0</td><td>0</td><td>0</td></tr>\n",
       "</tbody>\n",
       "</table>\n"
      ],
      "text/latex": [
       "A data.table: 13 x 14\n",
       "\\begin{tabular}{llllllllllllll}\n",
       " key & label & task\\_type & nrow & ncol & properties & lgl & int & dbl & chr & fct & ord & pxc & dte\\\\\n",
       " <chr> & <chr> & <chr> & <int> & <int> & <list> & <int> & <int> & <int> & <int> & <int> & <int> & <int> & <int>\\\\\n",
       "\\hline\n",
       "\t breast\\_cancer   & Wisconsin Breast Cancer                   & classif &  683 & 10 & twoclass &  0 &  0 &  0 & 0 &  0 & 9 & 0 & 0\\\\\n",
       "\t german\\_credit   & German Credit                             & classif & 1000 & 21 & twoclass &  0 &  3 &  0 & 0 & 14 & 3 & 0 & 0\\\\\n",
       "\t ilpd            & Indian Liver Patient Data                 & classif &  583 & 11 & twoclass &  0 &  4 &  5 & 0 &  1 & 0 & 0 & 0\\\\\n",
       "\t iris            & Iris Flowers                              & classif &  150 &  5 & multiclass &  0 &  0 &  4 & 0 &  0 & 0 & 0 & 0\\\\\n",
       "\t optdigits       & Optical Recognition of Handwritten Digits & classif & 5620 & 65 & twoclass &  0 & 64 &  0 & 0 &  0 & 0 & 0 & 0\\\\\n",
       "\t penguins        & Palmer Penguins                           & classif &  344 &  8 & multiclass &  0 &  3 &  2 & 0 &  2 & 0 & 0 & 0\\\\\n",
       "\t penguins\\_simple & Simplified Palmer Penguins                & classif &  333 & 11 & multiclass &  0 &  3 &  7 & 0 &  0 & 0 & 0 & 0\\\\\n",
       "\t pima            & Pima Indian Diabetes                      & classif &  768 &  9 & twoclass &  0 &  0 &  8 & 0 &  0 & 0 & 0 & 0\\\\\n",
       "\t sonar           & Sonar: Mines vs. Rocks                    & classif &  208 & 61 & twoclass &  0 &  0 & 60 & 0 &  0 & 0 & 0 & 0\\\\\n",
       "\t spam            & HP Spam Detection                         & classif & 4601 & 58 & twoclass &  0 &  0 & 57 & 0 &  0 & 0 & 0 & 0\\\\\n",
       "\t titanic         & Titanic                                   & classif & 1309 & 11 & twoclass &  0 &  2 &  2 & 3 &  2 & 1 & 0 & 0\\\\\n",
       "\t wine            & Wine Regions                              & classif &  178 & 14 & multiclass &  0 &  2 & 11 & 0 &  0 & 0 & 0 & 0\\\\\n",
       "\t zoo             & Zoo Animals                               & classif &  101 & 17 & multiclass & 15 &  1 &  0 & 0 &  0 & 0 & 0 & 0\\\\\n",
       "\\end{tabular}\n"
      ],
      "text/markdown": [
       "\n",
       "A data.table: 13 x 14\n",
       "\n",
       "| key &lt;chr&gt; | label &lt;chr&gt; | task_type &lt;chr&gt; | nrow &lt;int&gt; | ncol &lt;int&gt; | properties &lt;list&gt; | lgl &lt;int&gt; | int &lt;int&gt; | dbl &lt;int&gt; | chr &lt;int&gt; | fct &lt;int&gt; | ord &lt;int&gt; | pxc &lt;int&gt; | dte &lt;int&gt; |\n",
       "|---|---|---|---|---|---|---|---|---|---|---|---|---|---|\n",
       "| breast_cancer   | Wisconsin Breast Cancer                   | classif |  683 | 10 | twoclass |  0 |  0 |  0 | 0 |  0 | 9 | 0 | 0 |\n",
       "| german_credit   | German Credit                             | classif | 1000 | 21 | twoclass |  0 |  3 |  0 | 0 | 14 | 3 | 0 | 0 |\n",
       "| ilpd            | Indian Liver Patient Data                 | classif |  583 | 11 | twoclass |  0 |  4 |  5 | 0 |  1 | 0 | 0 | 0 |\n",
       "| iris            | Iris Flowers                              | classif |  150 |  5 | multiclass |  0 |  0 |  4 | 0 |  0 | 0 | 0 | 0 |\n",
       "| optdigits       | Optical Recognition of Handwritten Digits | classif | 5620 | 65 | twoclass |  0 | 64 |  0 | 0 |  0 | 0 | 0 | 0 |\n",
       "| penguins        | Palmer Penguins                           | classif |  344 |  8 | multiclass |  0 |  3 |  2 | 0 |  2 | 0 | 0 | 0 |\n",
       "| penguins_simple | Simplified Palmer Penguins                | classif |  333 | 11 | multiclass |  0 |  3 |  7 | 0 |  0 | 0 | 0 | 0 |\n",
       "| pima            | Pima Indian Diabetes                      | classif |  768 |  9 | twoclass |  0 |  0 |  8 | 0 |  0 | 0 | 0 | 0 |\n",
       "| sonar           | Sonar: Mines vs. Rocks                    | classif |  208 | 61 | twoclass |  0 |  0 | 60 | 0 |  0 | 0 | 0 | 0 |\n",
       "| spam            | HP Spam Detection                         | classif | 4601 | 58 | twoclass |  0 |  0 | 57 | 0 |  0 | 0 | 0 | 0 |\n",
       "| titanic         | Titanic                                   | classif | 1309 | 11 | twoclass |  0 |  2 |  2 | 3 |  2 | 1 | 0 | 0 |\n",
       "| wine            | Wine Regions                              | classif |  178 | 14 | multiclass |  0 |  2 | 11 | 0 |  0 | 0 | 0 | 0 |\n",
       "| zoo             | Zoo Animals                               | classif |  101 | 17 | multiclass | 15 |  1 |  0 | 0 |  0 | 0 | 0 | 0 |\n",
       "\n"
      ],
      "text/plain": [
       "   key             label                                     task_type nrow\n",
       "1  breast_cancer   Wisconsin Breast Cancer                   classif    683\n",
       "2  german_credit   German Credit                             classif   1000\n",
       "3  ilpd            Indian Liver Patient Data                 classif    583\n",
       "4  iris            Iris Flowers                              classif    150\n",
       "5  optdigits       Optical Recognition of Handwritten Digits classif   5620\n",
       "6  penguins        Palmer Penguins                           classif    344\n",
       "7  penguins_simple Simplified Palmer Penguins                classif    333\n",
       "8  pima            Pima Indian Diabetes                      classif    768\n",
       "9  sonar           Sonar: Mines vs. Rocks                    classif    208\n",
       "10 spam            HP Spam Detection                         classif   4601\n",
       "11 titanic         Titanic                                   classif   1309\n",
       "12 wine            Wine Regions                              classif    178\n",
       "13 zoo             Zoo Animals                               classif    101\n",
       "   ncol properties lgl int dbl chr fct ord pxc dte\n",
       "1  10   twoclass    0   0   0  0    0  9   0   0  \n",
       "2  21   twoclass    0   3   0  0   14  3   0   0  \n",
       "3  11   twoclass    0   4   5  0    1  0   0   0  \n",
       "4   5   multiclass  0   0   4  0    0  0   0   0  \n",
       "5  65   twoclass    0  64   0  0    0  0   0   0  \n",
       "6   8   multiclass  0   3   2  0    2  0   0   0  \n",
       "7  11   multiclass  0   3   7  0    0  0   0   0  \n",
       "8   9   twoclass    0   0   8  0    0  0   0   0  \n",
       "9  61   twoclass    0   0  60  0    0  0   0   0  \n",
       "10 58   twoclass    0   0  57  0    0  0   0   0  \n",
       "11 11   twoclass    0   2   2  3    2  1   0   0  \n",
       "12 14   multiclass  0   2  11  0    0  0   0   0  \n",
       "13 17   multiclass 15   1   0  0    0  0   0   0  "
      ]
     },
     "metadata": {},
     "output_type": "display_data"
    }
   ],
   "source": [
    "as.data.table(mlr_tasks)[task_type == \"classif\"]"
   ]
  },
  {
   "cell_type": "code",
   "execution_count": null,
   "id": "b3105ba4",
   "metadata": {
    "vscode": {
     "languageId": "r"
    }
   },
   "outputs": [
    {
     "data": {
      "text/plain": [
       "<TaskClassif:palmerpenguins::penguins> (344 x 8)\n",
       "* Target: species\n",
       "* Properties: multiclass\n",
       "* Features (7):\n",
       "  - int (3): body_mass_g, flipper_length_mm, year\n",
       "  - dbl (2): bill_depth_mm, bill_length_mm\n",
       "  - fct (2): island, sex"
      ]
     },
     "metadata": {},
     "output_type": "display_data"
    }
   ],
   "source": [
    "as_task_classif(palmerpenguins::penguins, target = \"species\")\n",
    "\n",
    "# <TaskClassif:palmerpenguins::penguins> (344 x 8)\n",
    "# * Target: species\n",
    "# * Properties: multiclass\n",
    "# * Features (7):\n",
    "#   - int (3): body_mass_g, flipper_length_mm, year\n",
    "#   - dbl (2): bill_depth_mm, bill_length_mm\n",
    "#   - fct (2): island, sex"
   ]
  },
  {
   "cell_type": "code",
   "execution_count": null,
   "id": "d6a66e9e",
   "metadata": {
    "vscode": {
     "languageId": "r"
    }
   },
   "outputs": [
    {
     "data": {
      "text/plain": [
       "<TaskClassif:sonar> (208 x 61): Sonar: Mines vs. Rocks\n",
       "* Target: Class\n",
       "* Properties: twoclass\n",
       "* Features (60):\n",
       "  - dbl (60): V1, V10, V11, V12, V13, V14, V15, V16, V17, V18, V19, V2,\n",
       "    V20, V21, V22, V23, V24, V25, V26, V27, V28, V29, V3, V30, V31,\n",
       "    V32, V33, V34, V35, V36, V37, V38, V39, V4, V40, V41, V42, V43,\n",
       "    V44, V45, V46, V47, V48, V49, V5, V50, V51, V52, V53, V54, V55,\n",
       "    V56, V57, V58, V59, V6, V60, V7, V8, V9"
      ]
     },
     "metadata": {},
     "output_type": "display_data"
    }
   ],
   "source": [
    "tsk_sonar <- tsk(\"sonar\")\n",
    "tsk_sonar\n",
    "\n",
    "# <TaskClassif:sonar> (208 x 61): Sonar: Mines vs. Rocks\n",
    "# * Target: Class\n",
    "# * Properties: twoclass\n",
    "# * Features (60):\n",
    "#   - dbl (60): V1, V10, V11, V12, V13, V14, V15, V16, V17, V18, V19, V2,\n",
    "#     V20, V21, V22, V23, V24, V25, V26, V27, V28, V29, V3, V30, V31,\n",
    "#     V32, V33, V34, V35, V36, V37, V38, V39, V4, V40, V41, V42, V43,\n",
    "#     V44, V45, V46, V47, V48, V49, V5, V50, V51, V52, V53, V54, V55,\n",
    "#     V56, V57, V58, V59, V6, V60, V7, V8, V9"
   ]
  },
  {
   "cell_type": "code",
   "execution_count": null,
   "id": "553f8e35",
   "metadata": {
    "vscode": {
     "languageId": "r"
    }
   },
   "outputs": [
    {
     "data": {
      "text/html": [
       "<style>\n",
       ".list-inline {list-style: none; margin:0; padding: 0}\n",
       ".list-inline>li {display: inline-block}\n",
       ".list-inline>li:not(:last-child)::after {content: \"\\00b7\"; padding: 0 .5ex}\n",
       "</style>\n",
       "<ol class=list-inline><li>'M'</li><li>'R'</li></ol>\n"
      ],
      "text/latex": [
       "\\begin{enumerate*}\n",
       "\\item 'M'\n",
       "\\item 'R'\n",
       "\\end{enumerate*}\n"
      ],
      "text/markdown": [
       "1. 'M'\n",
       "2. 'R'\n",
       "\n",
       "\n"
      ],
      "text/plain": [
       "[1] \"M\" \"R\""
      ]
     },
     "metadata": {},
     "output_type": "display_data"
    }
   ],
   "source": [
    "tsk_sonar$class_names\n",
    "\n",
    "# 'M''R'"
   ]
  },
  {
   "cell_type": "code",
   "execution_count": null,
   "id": "ab7bb750",
   "metadata": {
    "vscode": {
     "languageId": "r"
    }
   },
   "outputs": [
    {
     "data": {
      "text/html": [
       "'multiclass'"
      ],
      "text/latex": [
       "'multiclass'"
      ],
      "text/markdown": [
       "'multiclass'"
      ],
      "text/plain": [
       "[1] \"multiclass\""
      ]
     },
     "metadata": {},
     "output_type": "display_data"
    }
   ],
   "source": [
    "tsk_penguins = tsk(\"penguins\")\n",
    "tsk_penguins$properties\n",
    "\n",
    "# 'multiclass'"
   ]
  },
  {
   "cell_type": "code",
   "execution_count": null,
   "id": "b6534729",
   "metadata": {
    "vscode": {
     "languageId": "r"
    }
   },
   "outputs": [
    {
     "data": {
      "text/html": [
       "<style>\n",
       ".list-inline {list-style: none; margin:0; padding: 0}\n",
       ".list-inline>li {display: inline-block}\n",
       ".list-inline>li:not(:last-child)::after {content: \"\\00b7\"; padding: 0 .5ex}\n",
       "</style>\n",
       "<ol class=list-inline><li>'Adelie'</li><li>'Chinstrap'</li><li>'Gentoo'</li></ol>\n"
      ],
      "text/latex": [
       "\\begin{enumerate*}\n",
       "\\item 'Adelie'\n",
       "\\item 'Chinstrap'\n",
       "\\item 'Gentoo'\n",
       "\\end{enumerate*}\n"
      ],
      "text/markdown": [
       "1. 'Adelie'\n",
       "2. 'Chinstrap'\n",
       "3. 'Gentoo'\n",
       "\n",
       "\n"
      ],
      "text/plain": [
       "[1] \"Adelie\"    \"Chinstrap\" \"Gentoo\"   "
      ]
     },
     "metadata": {},
     "output_type": "display_data"
    }
   ],
   "source": [
    "tsk_penguins$class_names\n",
    "\n",
    "# 'Adelie''Chinstrap''Gentoo'"
   ]
  },
  {
   "cell_type": "code",
   "execution_count": null,
   "id": "9dd5085d",
   "metadata": {
    "vscode": {
     "languageId": "r"
    }
   },
   "outputs": [
    {
     "data": {
      "text/html": [
       "'R'"
      ],
      "text/latex": [
       "'R'"
      ],
      "text/markdown": [
       "'R'"
      ],
      "text/plain": [
       "[1] \"R\""
      ]
     },
     "metadata": {},
     "output_type": "display_data"
    }
   ],
   "source": [
    "data(Sonar, package = \"mlbench\")\n",
    "\n",
    "# 创建任务\n",
    "tsk_classif <- as_task_classif(Sonar, target = \"Class\", positive = \"R\")\n",
    "\n",
    "# 查看positive类\n",
    "tsk_classif$positive\n",
    "\n",
    "# 'R'"
   ]
  },
  {
   "cell_type": "code",
   "execution_count": null,
   "id": "acbd86c0",
   "metadata": {
    "vscode": {
     "languageId": "r"
    }
   },
   "outputs": [
    {
     "data": {
      "text/html": [
       "'M'"
      ],
      "text/latex": [
       "'M'"
      ],
      "text/markdown": [
       "'M'"
      ],
      "text/plain": [
       "[1] \"M\""
      ]
     },
     "metadata": {},
     "output_type": "display_data"
    }
   ],
   "source": [
    "# 创建任务后修改属性\n",
    "tsk_classif$positive <- \"M\"\n",
    "tsk_classif$positive\n",
    "\n",
    "# 'M'"
   ]
  },
  {
   "cell_type": "code",
   "execution_count": 116,
   "id": "251a5222",
   "metadata": {
    "vscode": {
     "languageId": "r"
    }
   },
   "outputs": [
    {
     "name": "stderr",
     "output_type": "stream",
     "text": [
      "Warning message:\n",
      "\"\u001b[1m\u001b[22mRemoved 2 rows containing non-finite outside the scale range\n",
      "(`stat_boxplot()`).\"\n",
      "Warning message:\n",
      "\"\u001b[1m\u001b[22mRemoved 2 rows containing non-finite outside the scale range\n",
      "(`stat_boxplot()`).\"\n",
      "Warning message:\n",
      "\"\u001b[1m\u001b[22mRemoved 2 rows containing non-finite outside the scale range\n",
      "(`stat_boxplot()`).\"\n",
      "Warning message:\n",
      "\"\u001b[1m\u001b[22mRemoved 2 rows containing non-finite outside the scale range\n",
      "(`stat_boxplot()`).\"\n",
      "Warning message:\n",
      "\"\u001b[1m\u001b[22mRemoved 11 rows containing non-finite outside the scale range\n",
      "(`stat_g_gally_count()`).\"\n"
     ]
    },
    {
     "data": {
      "image/png": "[encoded data removed]",
      "text/plain": [
       "plot without title"
      ]
     },
     "metadata": {
      "image/png": {
       "height": 420,
       "width": 420
      }
     },
     "output_type": "display_data"
    }
   ],
   "source": [
    "library(ggplot2)\n",
    "autoplot(tsk(\"penguins\"), type = \"duo\") +\n",
    "  theme(strip.text.y = element_text(angle = -45, size = 8))"
   ]
  },
  {
   "cell_type": "markdown",
   "id": "fac90843",
   "metadata": {},
   "source": [
    "## 分类学习器与分类度量"
   ]
  },
  {
   "cell_type": "code",
   "execution_count": null,
   "id": "346ed698",
   "metadata": {
    "vscode": {
     "languageId": "r"
    }
   },
   "outputs": [
    {
     "data": {
      "text/plain": [
       "<PredictionClassif> for 114 observations:\n",
       " row_ids     truth  response prob.Adelie prob.Chinstrap prob.Gentoo\n",
       "       1    Adelie    Adelie  0.97029703     0.02970297   0.0000000\n",
       "       2    Adelie    Adelie  0.97029703     0.02970297   0.0000000\n",
       "       3    Adelie    Adelie  0.97029703     0.02970297   0.0000000\n",
       "     ---       ---       ---         ---            ---         ---\n",
       "     338 Chinstrap Chinstrap  0.04255319     0.93617021   0.0212766\n",
       "     339 Chinstrap Chinstrap  0.04255319     0.93617021   0.0212766\n",
       "     342 Chinstrap Chinstrap  0.04255319     0.93617021   0.0212766"
      ]
     },
     "metadata": {},
     "output_type": "display_data"
    }
   ],
   "source": [
    "lrn_rpart <- lrn(\"classif.rpart\", predict_type = \"prob\")\n",
    "lrn_rpart$train(tsk_penguins, splits$train)\n",
    "prediction <- rn_rpart$predict(tsk_penguins, splits$test)\n",
    "prediction\n",
    "\n",
    "# <PredictionClassif> for 114 observations:\n",
    "#  row_ids     truth  response prob.Adelie prob.Chinstrap prob.Gentoo\n",
    "#        1    Adelie    Adelie  0.97029703     0.02970297   0.0000000\n",
    "#        2    Adelie    Adelie  0.97029703     0.02970297   0.0000000\n",
    "#        3    Adelie    Adelie  0.97029703     0.02970297   0.0000000\n",
    "#      ---       ---       ---         ---            ---         ---\n",
    "#      338 Chinstrap Chinstrap  0.04255319     0.93617021   0.0212766\n",
    "#      339 Chinstrap Chinstrap  0.04255319     0.93617021   0.0212766\n",
    "#      342 Chinstrap Chinstrap  0.04255319     0.93617021   0.0212766"
   ]
  },
  {
   "cell_type": "code",
   "execution_count": 118,
   "id": "019f5786",
   "metadata": {
    "vscode": {
     "languageId": "r"
    }
   },
   "outputs": [
    {
     "name": "stderr",
     "output_type": "stream",
     "text": [
      "Superclass MeasureClust has cloneable=FALSE, but subclass MeasureClustFPC has cloneable=TRUE. A subclass cannot be cloneable when its superclass is not cloneable, so cloning will be disabled for MeasureClustFPC.\n",
      "\n",
      "Superclass MeasureClust has cloneable=FALSE, but subclass MeasureClustFPC has cloneable=TRUE. A subclass cannot be cloneable when its superclass is not cloneable, so cloning will be disabled for MeasureClustFPC.\n",
      "\n",
      "Superclass MeasureClust has cloneable=FALSE, but subclass MeasureClustSil has cloneable=TRUE. A subclass cannot be cloneable when its superclass is not cloneable, so cloning will be disabled for MeasureClustSil.\n",
      "\n",
      "Superclass MeasureClust has cloneable=FALSE, but subclass MeasureClustFPC has cloneable=TRUE. A subclass cannot be cloneable when its superclass is not cloneable, so cloning will be disabled for MeasureClustFPC.\n",
      "\n"
     ]
    },
    {
     "data": {
      "text/html": [
       "<table class=\"dataframe\">\n",
       "<caption>A data.table: 7 x 7</caption>\n",
       "<thead>\n",
       "\t<tr><th scope=col>key</th><th scope=col>label</th><th scope=col>task_type</th><th scope=col>packages</th><th scope=col>predict_type</th><th scope=col>properties</th><th scope=col>task_properties</th></tr>\n",
       "\t<tr><th scope=col>&lt;chr&gt;</th><th scope=col>&lt;chr&gt;</th><th scope=col>&lt;chr&gt;</th><th scope=col>&lt;list&gt;</th><th scope=col>&lt;chr&gt;</th><th scope=col>&lt;list&gt;</th><th scope=col>&lt;list&gt;</th></tr>\n",
       "</thead>\n",
       "<tbody>\n",
       "\t<tr><td>classif.logloss  </td><td>Log Loss                                  </td><td>classif</td><td>mlr3        , mlr3measures</td><td>prob</td><td></td><td></td></tr>\n",
       "\t<tr><td>classif.mauc_au1p</td><td>Weighted average 1 vs. 1 multiclass AUC   </td><td>classif</td><td>mlr3        , mlr3measures</td><td>prob</td><td></td><td></td></tr>\n",
       "\t<tr><td>classif.mauc_au1u</td><td>Average 1 vs. 1 multiclass AUC            </td><td>classif</td><td>mlr3        , mlr3measures</td><td>prob</td><td></td><td></td></tr>\n",
       "\t<tr><td>classif.mauc_aunp</td><td>Weighted average 1 vs. rest multiclass AUC</td><td>classif</td><td>mlr3        , mlr3measures</td><td>prob</td><td></td><td></td></tr>\n",
       "\t<tr><td>classif.mauc_aunu</td><td>Average 1 vs. rest multiclass AUC         </td><td>classif</td><td>mlr3        , mlr3measures</td><td>prob</td><td></td><td></td></tr>\n",
       "\t<tr><td>classif.mauc_mu  </td><td>Multiclass mu AUC                         </td><td>classif</td><td>mlr3        , mlr3measures</td><td>prob</td><td></td><td></td></tr>\n",
       "\t<tr><td>classif.mbrier   </td><td>Multiclass Brier Score                    </td><td>classif</td><td>mlr3        , mlr3measures</td><td>prob</td><td></td><td></td></tr>\n",
       "</tbody>\n",
       "</table>\n"
      ],
      "text/latex": [
       "A data.table: 7 x 7\n",
       "\\begin{tabular}{lllllll}\n",
       " key & label & task\\_type & packages & predict\\_type & properties & task\\_properties\\\\\n",
       " <chr> & <chr> & <chr> & <list> & <chr> & <list> & <list>\\\\\n",
       "\\hline\n",
       "\t classif.logloss   & Log Loss                                   & classif & mlr3        , mlr3measures & prob &  & \\\\\n",
       "\t classif.mauc\\_au1p & Weighted average 1 vs. 1 multiclass AUC    & classif & mlr3        , mlr3measures & prob &  & \\\\\n",
       "\t classif.mauc\\_au1u & Average 1 vs. 1 multiclass AUC             & classif & mlr3        , mlr3measures & prob &  & \\\\\n",
       "\t classif.mauc\\_aunp & Weighted average 1 vs. rest multiclass AUC & classif & mlr3        , mlr3measures & prob &  & \\\\\n",
       "\t classif.mauc\\_aunu & Average 1 vs. rest multiclass AUC          & classif & mlr3        , mlr3measures & prob &  & \\\\\n",
       "\t classif.mauc\\_mu   & Multiclass mu AUC                          & classif & mlr3        , mlr3measures & prob &  & \\\\\n",
       "\t classif.mbrier    & Multiclass Brier Score                     & classif & mlr3        , mlr3measures & prob &  & \\\\\n",
       "\\end{tabular}\n"
      ],
      "text/markdown": [
       "\n",
       "A data.table: 7 x 7\n",
       "\n",
       "| key &lt;chr&gt; | label &lt;chr&gt; | task_type &lt;chr&gt; | packages &lt;list&gt; | predict_type &lt;chr&gt; | properties &lt;list&gt; | task_properties &lt;list&gt; |\n",
       "|---|---|---|---|---|---|---|\n",
       "| classif.logloss   | Log Loss                                   | classif | mlr3        , mlr3measures | prob | <!----> | <!----> |\n",
       "| classif.mauc_au1p | Weighted average 1 vs. 1 multiclass AUC    | classif | mlr3        , mlr3measures | prob | <!----> | <!----> |\n",
       "| classif.mauc_au1u | Average 1 vs. 1 multiclass AUC             | classif | mlr3        , mlr3measures | prob | <!----> | <!----> |\n",
       "| classif.mauc_aunp | Weighted average 1 vs. rest multiclass AUC | classif | mlr3        , mlr3measures | prob | <!----> | <!----> |\n",
       "| classif.mauc_aunu | Average 1 vs. rest multiclass AUC          | classif | mlr3        , mlr3measures | prob | <!----> | <!----> |\n",
       "| classif.mauc_mu   | Multiclass mu AUC                          | classif | mlr3        , mlr3measures | prob | <!----> | <!----> |\n",
       "| classif.mbrier    | Multiclass Brier Score                     | classif | mlr3        , mlr3measures | prob | <!----> | <!----> |\n",
       "\n"
      ],
      "text/plain": [
       "  key               label                                      task_type\n",
       "1 classif.logloss   Log Loss                                   classif  \n",
       "2 classif.mauc_au1p Weighted average 1 vs. 1 multiclass AUC    classif  \n",
       "3 classif.mauc_au1u Average 1 vs. 1 multiclass AUC             classif  \n",
       "4 classif.mauc_aunp Weighted average 1 vs. rest multiclass AUC classif  \n",
       "5 classif.mauc_aunu Average 1 vs. rest multiclass AUC          classif  \n",
       "6 classif.mauc_mu   Multiclass mu AUC                          classif  \n",
       "7 classif.mbrier    Multiclass Brier Score                     classif  \n",
       "  packages                   predict_type properties task_properties\n",
       "1 mlr3        , mlr3measures prob                                   \n",
       "2 mlr3        , mlr3measures prob                                   \n",
       "3 mlr3        , mlr3measures prob                                   \n",
       "4 mlr3        , mlr3measures prob                                   \n",
       "5 mlr3        , mlr3measures prob                                   \n",
       "6 mlr3        , mlr3measures prob                                   \n",
       "7 mlr3        , mlr3measures prob                                   "
      ]
     },
     "metadata": {},
     "output_type": "display_data"
    }
   ],
   "source": [
    "as.data.table(msr())[\n",
    "  task_type == \"classif\" &\n",
    "    predict_type == \"prob\" &\n",
    "    !sapply(task_properties, function(x) \"twoclass\" %in% x)\n",
    "]"
   ]
  },
  {
   "cell_type": "code",
   "execution_count": null,
   "id": "7bface73",
   "metadata": {
    "vscode": {
     "languageId": "r"
    }
   },
   "outputs": [
    {
     "data": {
      "text/html": [
       "<style>\n",
       ".dl-inline {width: auto; margin:0; padding: 0}\n",
       ".dl-inline>dt, .dl-inline>dd {float: none; width: auto; display: inline-block}\n",
       ".dl-inline>dt::after {content: \":\\0020\"; padding-right: .5ex}\n",
       ".dl-inline>dt:not(:first-of-type) {padding-left: .5ex}\n",
       "</style><dl class=dl-inline><dt>classif.mbrier</dt><dd>0.102899613594403</dd><dt>classif.logloss</dt><dd>0.754807810861767</dd><dt>classif.acc</dt><dd>0.93859649122807</dd></dl>\n"
      ],
      "text/latex": [
       "\\begin{description*}\n",
       "\\item[classif.mbrier] 0.102899613594403\n",
       "\\item[classif.logloss] 0.754807810861767\n",
       "\\item[classif.acc] 0.93859649122807\n",
       "\\end{description*}\n"
      ],
      "text/markdown": [
       "classif.mbrier\n",
       ":   0.102899613594403classif.logloss\n",
       ":   0.754807810861767classif.acc\n",
       ":   0.93859649122807\n",
       "\n"
      ],
      "text/plain": [
       " classif.mbrier classif.logloss     classif.acc \n",
       "      0.1028996       0.7548078       0.9385965 "
      ]
     },
     "metadata": {},
     "output_type": "display_data"
    }
   ],
   "source": [
    "measures <- msrs(c(\"classif.mbrier\", \"classif.logloss\", \"classif.acc\"))\n",
    "prediction$score(measures)\n",
    "\n",
    "# classif.mbrier 0.102899613594403\n",
    "# classif.logloss 0.754807810861767\n",
    "# classif.acc 0.93859649122807"
   ]
  },
  {
   "cell_type": "markdown",
   "id": "1321e374",
   "metadata": {},
   "source": [
    "## 混淆矩阵"
   ]
  },
  {
   "cell_type": "code",
   "execution_count": null,
   "id": "1408c92c",
   "metadata": {
    "vscode": {
     "languageId": "r"
    }
   },
   "outputs": [
    {
     "data": {
      "text/plain": [
       "           truth\n",
       "response    Adelie Chinstrap Gentoo\n",
       "  Adelie        48         2      0\n",
       "  Chinstrap      4        14      1\n",
       "  Gentoo         0         0     45"
      ]
     },
     "metadata": {},
     "output_type": "display_data"
    }
   ],
   "source": [
    "prediction$confusion\n",
    "\n",
    "# truth\n",
    "# response    Adelie Chinstrap Gentoo\n",
    "#   Adelie        48         2      0\n",
    "#   Chinstrap      4        14      1\n",
    "#   Gentoo         0         0     45"
   ]
  },
  {
   "cell_type": "code",
   "execution_count": 122,
   "id": "c7a314b2",
   "metadata": {
    "vscode": {
     "languageId": "r"
    }
   },
   "outputs": [
    {
     "data": {
      "image/png": "[encoded data removed]",
      "text/plain": [
       "plot without title"
      ]
     },
     "metadata": {
      "image/png": {
       "height": 420,
       "width": 420
      }
     },
     "output_type": "display_data"
    }
   ],
   "source": [
    "autoplot(prediction)"
   ]
  },
  {
   "cell_type": "code",
   "execution_count": null,
   "id": "3575ef61",
   "metadata": {
    "vscode": {
     "languageId": "r"
    }
   },
   "outputs": [
    {
     "data": {
      "text/plain": [
       "        truth\n",
       "response  M  R\n",
       "       M 16 13\n",
       "       R 13 27"
      ]
     },
     "metadata": {},
     "output_type": "display_data"
    }
   ],
   "source": [
    "splits <- partition(tsk_sonar)\n",
    "lrn_rpart$\n",
    "  train(tsk_sonar, splits$train)$\n",
    "  predict(tsk_sonar, splits$test)$\n",
    "  confusion\n",
    "\n",
    "# truth\n",
    "# response  M  R\n",
    "#        M 16 13\n",
    "#        R 13 27"
   ]
  },
  {
   "cell_type": "markdown",
   "id": "447c232b",
   "metadata": {},
   "source": [
    "## 设定阈值"
   ]
  },
  {
   "cell_type": "code",
   "execution_count": null,
   "id": "a4b9656a",
   "metadata": {
    "vscode": {
     "languageId": "r"
    }
   },
   "outputs": [
    {
     "data": {
      "text/html": [
       "<strong>classif.acc:</strong> 0.693939393939394"
      ],
      "text/latex": [
       "\\textbf{classif.acc:} 0.693939393939394"
      ],
      "text/markdown": [
       "**classif.acc:** 0.693939393939394"
      ],
      "text/plain": [
       "classif.acc \n",
       "  0.6939394 "
      ]
     },
     "metadata": {},
     "output_type": "display_data"
    }
   ],
   "source": [
    "task_credit <- tsk(\"german_credit\")\n",
    "lrn_featureless <- lrn(\"classif.featureless\", predict_type = \"prob\")\n",
    "split <- partition(task_credit)\n",
    "\n",
    "# 训练模型\n",
    "lrn_featureless$train(task_credit, split$train)\n",
    "\n",
    "# 预测\n",
    "prediction <- lrn_featureless$predict(task_credit, split$test)\n",
    "\n",
    "# 计算准确率\n",
    "prediction$score(msr(\"classif.acc\"))\n",
    "\n",
    "# classif.acc: 0.693939393939394"
   ]
  },
  {
   "cell_type": "code",
   "execution_count": 126,
   "id": "c8fbef2b",
   "metadata": {
    "vscode": {
     "languageId": "r"
    }
   },
   "outputs": [
    {
     "data": {
      "image/png": "[encoded data removed]",
      "text/plain": [
       "plot without title"
      ]
     },
     "metadata": {
      "image/png": {
       "height": 420,
       "width": 420
      }
     },
     "output_type": "display_data"
    }
   ],
   "source": [
    "autoplot(prediction)"
   ]
  },
  {
   "cell_type": "code",
   "execution_count": null,
   "id": "5daa204a",
   "metadata": {
    "vscode": {
     "languageId": "r"
    }
   },
   "outputs": [
    {
     "data": {
      "text/html": [
       "<strong>classif.acc:</strong> 0.693939393939394"
      ],
      "text/latex": [
       "\\textbf{classif.acc:} 0.693939393939394"
      ],
      "text/markdown": [
       "**classif.acc:** 0.693939393939394"
      ],
      "text/plain": [
       "classif.acc \n",
       "  0.6939394 "
      ]
     },
     "metadata": {},
     "output_type": "display_data"
    }
   ],
   "source": [
    "prediction$set_threshold(0.7)\n",
    "prediction$score(msr(\"classif.acc\"))\n",
    "\n",
    "# classif.acc: 0.693939393939394"
   ]
  },
  {
   "cell_type": "code",
   "execution_count": null,
   "id": "86eb5fb7",
   "metadata": {
    "vscode": {
     "languageId": "r"
    }
   },
   "outputs": [
    {
     "data": {
      "text/html": [
       "<strong>classif.acc:</strong> 0.757575757575758"
      ],
      "text/latex": [
       "\\textbf{classif.acc:} 0.757575757575758"
      ],
      "text/markdown": [
       "**classif.acc:** 0.757575757575758"
      ],
      "text/plain": [
       "classif.acc \n",
       "  0.7575758 "
      ]
     },
     "metadata": {},
     "output_type": "display_data"
    }
   ],
   "source": [
    "lrn_rpart <- lrn(\"classif.rpart\", predict_type = \"prob\")\n",
    "lrn_rpart$train(task_credit, split$train)\n",
    "prediction <- lrn_rpart$predict(task_credit, split$test)\n",
    "prediction$score(msr(\"classif.acc\"))\n",
    "\n",
    "# classif.acc: 0.757575757575758"
   ]
  },
  {
   "cell_type": "code",
   "execution_count": null,
   "id": "523d7338",
   "metadata": {
    "vscode": {
     "languageId": "r"
    }
   },
   "outputs": [
    {
     "data": {
      "text/plain": [
       "        truth\n",
       "response good bad\n",
       "    good  203  54\n",
       "    bad    26  47"
      ]
     },
     "metadata": {},
     "output_type": "display_data"
    }
   ],
   "source": [
    "prediction$confusion\n",
    "\n",
    "#         truth\n",
    "# response good bad\n",
    "#     good  203  54\n",
    "#     bad    26  47"
   ]
  },
  {
   "cell_type": "code",
   "execution_count": null,
   "id": "0849e665",
   "metadata": {
    "vscode": {
     "languageId": "r"
    }
   },
   "outputs": [
    {
     "data": {
      "text/html": [
       "<strong>classif.acc:</strong> 0.757575757575758"
      ],
      "text/latex": [
       "\\textbf{classif.acc:} 0.757575757575758"
      ],
      "text/markdown": [
       "**classif.acc:** 0.757575757575758"
      ],
      "text/plain": [
       "classif.acc \n",
       "  0.7575758 "
      ]
     },
     "metadata": {},
     "output_type": "display_data"
    }
   ],
   "source": [
    "prediction$set_threshold(0.7)\n",
    "prediction$score(msr(\"classif.acc\"))\n",
    "\n",
    "# classif.acc: 0.757575757575758"
   ]
  },
  {
   "cell_type": "code",
   "execution_count": null,
   "id": "cd718d43",
   "metadata": {
    "vscode": {
     "languageId": "r"
    }
   },
   "outputs": [
    {
     "data": {
      "text/plain": [
       "        truth\n",
       "response good bad\n",
       "    good  202  53\n",
       "    bad    27  48"
      ]
     },
     "metadata": {},
     "output_type": "display_data"
    }
   ],
   "source": [
    "prediction$confusion\n",
    "\n",
    "# truth\n",
    "# response good bad\n",
    "#     good  202  53\n",
    "#     bad    27  48"
   ]
  },
  {
   "cell_type": "code",
   "execution_count": null,
   "id": "5de5af6d",
   "metadata": {
    "vscode": {
     "languageId": "r"
    }
   },
   "outputs": [
    {
     "data": {
      "text/html": [
       "<style>\n",
       ".dl-inline {width: auto; margin:0; padding: 0}\n",
       ".dl-inline>dt, .dl-inline>dd {float: none; width: auto; display: inline-block}\n",
       ".dl-inline>dt::after {content: \":\\0020\"; padding-right: .5ex}\n",
       ".dl-inline>dt:not(:first-of-type) {padding-left: .5ex}\n",
       "</style><dl class=dl-inline><dt>A</dt><dd>0.2</dd><dt>B</dt><dd>0.4</dd><dt>C</dt><dd>0.1</dd><dt>D</dt><dd>0.3</dd></dl>\n"
      ],
      "text/latex": [
       "\\begin{description*}\n",
       "\\item[A] 0.2\n",
       "\\item[B] 0.4\n",
       "\\item[C] 0.1\n",
       "\\item[D] 0.3\n",
       "\\end{description*}\n"
      ],
      "text/markdown": [
       "A\n",
       ":   0.2B\n",
       ":   0.4C\n",
       ":   0.1D\n",
       ":   0.3\n",
       "\n"
      ],
      "text/plain": [
       "  A   B   C   D \n",
       "0.2 0.4 0.1 0.3 "
      ]
     },
     "metadata": {},
     "output_type": "display_data"
    }
   ],
   "source": [
    "# 定义概率向量\n",
    "probs <- c(0.2, 0.4, 0.1, 0.3)\n",
    "# 定义阈值向量，并命名\n",
    "thresholds <- c(A = 1, B = 1, C = 1, D = 1)\n",
    "# 逐元素相除\n",
    "probs / thresholds\n",
    "\n",
    "# A0.2B0.4C0.1D0.3"
   ]
  },
  {
   "cell_type": "code",
   "execution_count": null,
   "id": "74b4b354",
   "metadata": {
    "vscode": {
     "languageId": "r"
    }
   },
   "outputs": [
    {
     "data": {
      "text/html": [
       "<style>\n",
       ".dl-inline {width: auto; margin:0; padding: 0}\n",
       ".dl-inline>dt, .dl-inline>dd {float: none; width: auto; display: inline-block}\n",
       ".dl-inline>dt::after {content: \":\\0020\"; padding-right: .5ex}\n",
       ".dl-inline>dt:not(:first-of-type) {padding-left: .5ex}\n",
       "</style><dl class=dl-inline><dt>A</dt><dd>0.4</dd><dt>B</dt><dd>1.6</dd><dt>C</dt><dd>0.4</dd><dt>D</dt><dd>3</dd></dl>\n"
      ],
      "text/latex": [
       "\\begin{description*}\n",
       "\\item[A] 0.4\n",
       "\\item[B] 1.6\n",
       "\\item[C] 0.4\n",
       "\\item[D] 3\n",
       "\\end{description*}\n"
      ],
      "text/markdown": [
       "A\n",
       ":   0.4B\n",
       ":   1.6C\n",
       ":   0.4D\n",
       ":   3\n",
       "\n"
      ],
      "text/plain": [
       "  A   B   C   D \n",
       "0.4 1.6 0.4 3.0 "
      ]
     },
     "metadata": {},
     "output_type": "display_data"
    }
   ],
   "source": [
    "thresholds <- c(A = 0.5, B = 0.25, C = 0.25, D = 0.1)\n",
    "probs / thresholds\n",
    "\n",
    "# A0.4B1.6C0.4D3"
   ]
  },
  {
   "cell_type": "code",
   "execution_count": null,
   "id": "4b633497",
   "metadata": {
    "vscode": {
     "languageId": "r"
    }
   },
   "outputs": [
    {
     "data": {
      "text/plain": [
       "\n",
       "       mammal          bird       reptile          fish     amphibian \n",
       "   0.39393939    0.18181818    0.06060606    0.15151515    0.03030303 \n",
       "       insect mollusc.et.al \n",
       "   0.06060606    0.12121212 "
      ]
     },
     "metadata": {},
     "output_type": "display_data"
    }
   ],
   "source": [
    "library(ggplot2)\n",
    "library(patchwork)\n",
    "\n",
    "tsk_zoo <- tsk(\"zoo\")\n",
    "splits <- partition(tsk_zoo)\n",
    "lrn_rpart <- lrn(\"classif.rpart\", predict_type = \"prob\")\n",
    "lrn_rpart$train(tsk_zoo, splits$train)\n",
    "prediction <- lrn_rpart$predict(tsk_zoo, splits$test)\n",
    "before <- autoplot(prediction) + ggtitle(\"Default thresholds\")\n",
    "new_thresh <- proportions(table(tsk_zoo$truth(splits$test)))\n",
    "new_thresh\n",
    "\n",
    "# mammal          bird       reptile          fish     amphibian \n",
    "#    0.39393939    0.18181818    0.06060606    0.15151515    0.03030303 \n",
    "#        insect mollusc.et.al \n",
    "#    0.06060606    0.12121212"
   ]
  },
  {
   "cell_type": "code",
   "execution_count": null,
   "id": "237b2e8f",
   "metadata": {
    "vscode": {
     "languageId": "r"
    }
   },
   "outputs": [
    {
     "data": {
      "image/png": "[encoded data removed]",
      "text/plain": [
       "plot without title"
      ]
     },
     "metadata": {
      "image/png": {
       "height": 420,
       "width": 420
      }
     },
     "output_type": "display_data"
    }
   ],
   "source": [
    "prediction$set_threshold(new_thresh)\n",
    "after <- utoplot(prediction) + ggtitle(\"Inverse weighting thresholds\")\n",
    "before + after + plot_layout(guides = \"collect\")"
   ]
  },
  {
   "cell_type": "markdown",
   "id": "ce33ab6e",
   "metadata": {},
   "source": [
    "# 任务列角色"
   ]
  },
  {
   "cell_type": "code",
   "execution_count": 142,
   "id": "eb370830",
   "metadata": {
    "vscode": {
     "languageId": "r"
    }
   },
   "outputs": [
    {
     "data": {
      "text/html": [
       "<table class=\"dataframe\">\n",
       "<caption>A data.table: 2 x 12</caption>\n",
       "<thead>\n",
       "\t<tr><th scope=col>mpg</th><th scope=col>am</th><th scope=col>carb</th><th scope=col>cyl</th><th scope=col>disp</th><th scope=col>drat</th><th scope=col>gear</th><th scope=col>hp</th><th scope=col>idx</th><th scope=col>qsec</th><th scope=col>vs</th><th scope=col>wt</th></tr>\n",
       "\t<tr><th scope=col>&lt;dbl&gt;</th><th scope=col>&lt;dbl&gt;</th><th scope=col>&lt;dbl&gt;</th><th scope=col>&lt;dbl&gt;</th><th scope=col>&lt;dbl&gt;</th><th scope=col>&lt;dbl&gt;</th><th scope=col>&lt;dbl&gt;</th><th scope=col>&lt;dbl&gt;</th><th scope=col>&lt;int&gt;</th><th scope=col>&lt;dbl&gt;</th><th scope=col>&lt;dbl&gt;</th><th scope=col>&lt;dbl&gt;</th></tr>\n",
       "</thead>\n",
       "<tbody>\n",
       "\t<tr><td>21</td><td>1</td><td>4</td><td>6</td><td>160</td><td>3.9</td><td>4</td><td>110</td><td>2</td><td>16.46</td><td>0</td><td>2.620</td></tr>\n",
       "\t<tr><td>21</td><td>1</td><td>4</td><td>6</td><td>160</td><td>3.9</td><td>4</td><td>110</td><td>1</td><td>17.02</td><td>0</td><td>2.875</td></tr>\n",
       "</tbody>\n",
       "</table>\n"
      ],
      "text/latex": [
       "A data.table: 2 x 12\n",
       "\\begin{tabular}{llllllllllll}\n",
       " mpg & am & carb & cyl & disp & drat & gear & hp & idx & qsec & vs & wt\\\\\n",
       " <dbl> & <dbl> & <dbl> & <dbl> & <dbl> & <dbl> & <dbl> & <dbl> & <int> & <dbl> & <dbl> & <dbl>\\\\\n",
       "\\hline\n",
       "\t 21 & 1 & 4 & 6 & 160 & 3.9 & 4 & 110 & 2 & 16.46 & 0 & 2.620\\\\\n",
       "\t 21 & 1 & 4 & 6 & 160 & 3.9 & 4 & 110 & 1 & 17.02 & 0 & 2.875\\\\\n",
       "\\end{tabular}\n"
      ],
      "text/markdown": [
       "\n",
       "A data.table: 2 x 12\n",
       "\n",
       "| mpg &lt;dbl&gt; | am &lt;dbl&gt; | carb &lt;dbl&gt; | cyl &lt;dbl&gt; | disp &lt;dbl&gt; | drat &lt;dbl&gt; | gear &lt;dbl&gt; | hp &lt;dbl&gt; | idx &lt;int&gt; | qsec &lt;dbl&gt; | vs &lt;dbl&gt; | wt &lt;dbl&gt; |\n",
       "|---|---|---|---|---|---|---|---|---|---|---|---|\n",
       "| 21 | 1 | 4 | 6 | 160 | 3.9 | 4 | 110 | 2 | 16.46 | 0 | 2.620 |\n",
       "| 21 | 1 | 4 | 6 | 160 | 3.9 | 4 | 110 | 1 | 17.02 | 0 | 2.875 |\n",
       "\n"
      ],
      "text/plain": [
       "  mpg am carb cyl disp drat gear hp  idx qsec  vs wt   \n",
       "1 21  1  4    6   160  3.9  4    110 2   16.46 0  2.620\n",
       "2 21  1  4    6   160  3.9  4    110 1   17.02 0  2.875"
      ]
     },
     "metadata": {},
     "output_type": "display_data"
    }
   ],
   "source": [
    "df <- data.frame(mtcars[1:2, ], idx = 2:1)\n",
    "tsk_mtcars_order <- as_task_regr(df, target = \"mpg\")\n",
    "\n",
    "tsk_mtcars_order$data(order = TRUE)"
   ]
  },
  {
   "cell_type": "code",
   "execution_count": 150,
   "id": "0dd9391e",
   "metadata": {
    "vscode": {
     "languageId": "r"
    }
   },
   "outputs": [
    {
     "data": {
      "text/html": [
       "<table class=\"dataframe\">\n",
       "<caption>A data.table: 2 x 11</caption>\n",
       "<thead>\n",
       "\t<tr><th scope=col>mpg</th><th scope=col>am</th><th scope=col>carb</th><th scope=col>cyl</th><th scope=col>disp</th><th scope=col>drat</th><th scope=col>gear</th><th scope=col>hp</th><th scope=col>qsec</th><th scope=col>vs</th><th scope=col>wt</th></tr>\n",
       "\t<tr><th scope=col>&lt;dbl&gt;</th><th scope=col>&lt;dbl&gt;</th><th scope=col>&lt;dbl&gt;</th><th scope=col>&lt;dbl&gt;</th><th scope=col>&lt;dbl&gt;</th><th scope=col>&lt;dbl&gt;</th><th scope=col>&lt;dbl&gt;</th><th scope=col>&lt;dbl&gt;</th><th scope=col>&lt;dbl&gt;</th><th scope=col>&lt;dbl&gt;</th><th scope=col>&lt;dbl&gt;</th></tr>\n",
       "</thead>\n",
       "<tbody>\n",
       "\t<tr><td>21</td><td>1</td><td>4</td><td>6</td><td>160</td><td>3.9</td><td>4</td><td>110</td><td>17.02</td><td>0</td><td>2.875</td></tr>\n",
       "\t<tr><td>21</td><td>1</td><td>4</td><td>6</td><td>160</td><td>3.9</td><td>4</td><td>110</td><td>16.46</td><td>0</td><td>2.620</td></tr>\n",
       "</tbody>\n",
       "</table>\n"
      ],
      "text/latex": [
       "A data.table: 2 x 11\n",
       "\\begin{tabular}{lllllllllll}\n",
       " mpg & am & carb & cyl & disp & drat & gear & hp & qsec & vs & wt\\\\\n",
       " <dbl> & <dbl> & <dbl> & <dbl> & <dbl> & <dbl> & <dbl> & <dbl> & <dbl> & <dbl> & <dbl>\\\\\n",
       "\\hline\n",
       "\t 21 & 1 & 4 & 6 & 160 & 3.9 & 4 & 110 & 17.02 & 0 & 2.875\\\\\n",
       "\t 21 & 1 & 4 & 6 & 160 & 3.9 & 4 & 110 & 16.46 & 0 & 2.620\\\\\n",
       "\\end{tabular}\n"
      ],
      "text/markdown": [
       "\n",
       "A data.table: 2 x 11\n",
       "\n",
       "| mpg &lt;dbl&gt; | am &lt;dbl&gt; | carb &lt;dbl&gt; | cyl &lt;dbl&gt; | disp &lt;dbl&gt; | drat &lt;dbl&gt; | gear &lt;dbl&gt; | hp &lt;dbl&gt; | qsec &lt;dbl&gt; | vs &lt;dbl&gt; | wt &lt;dbl&gt; |\n",
       "|---|---|---|---|---|---|---|---|---|---|---|\n",
       "| 21 | 1 | 4 | 6 | 160 | 3.9 | 4 | 110 | 17.02 | 0 | 2.875 |\n",
       "| 21 | 1 | 4 | 6 | 160 | 3.9 | 4 | 110 | 16.46 | 0 | 2.620 |\n",
       "\n"
      ],
      "text/plain": [
       "  mpg am carb cyl disp drat gear hp  qsec  vs wt   \n",
       "1 21  1  4    6   160  3.9  4    110 17.02 0  2.875\n",
       "2 21  1  4    6   160  3.9  4    110 16.46 0  2.620"
      ]
     },
     "metadata": {},
     "output_type": "display_data"
    }
   ],
   "source": [
    "# 使用idx列排序\n",
    "tsk_mtcars_order$set_col_roles(\"idx\", role = \"order\")\n",
    "tsk_mtcars_order$data(order = TRUE)"
   ]
  },
  {
   "cell_type": "code",
   "execution_count": 17,
   "id": "ba72c52c",
   "metadata": {
    "vscode": {
     "languageId": "r"
    }
   },
   "outputs": [
    {
     "data": {
      "text/html": [
       "<style>\n",
       ".dl-inline {width: auto; margin:0; padding: 0}\n",
       ".dl-inline>dt, .dl-inline>dd {float: none; width: auto; display: inline-block}\n",
       ".dl-inline>dt::after {content: \":\\0020\"; padding-right: .5ex}\n",
       ".dl-inline>dt:not(:first-of-type) {padding-left: .5ex}\n",
       "</style><dl class=dl-inline><dt>malignant</dt><dd>239</dd><dt>benign</dt><dd>444</dd></dl>\n"
      ],
      "text/latex": [
       "\\begin{description*}\n",
       "\\item[malignant] 239\n",
       "\\item[benign] 444\n",
       "\\end{description*}\n"
      ],
      "text/markdown": [
       "malignant\n",
       ":   239benign\n",
       ":   444\n",
       "\n"
      ],
      "text/plain": [
       "malignant    benign \n",
       "      239       444 "
      ]
     },
     "metadata": {},
     "output_type": "display_data"
    }
   ],
   "source": [
    "cancer_unweighted <- tsk(\"breast_cancer\")\n",
    "summary(cancer_unweighted$data()$class)\n",
    "\n",
    "# malignant239 benign444"
   ]
  },
  {
   "cell_type": "code",
   "execution_count": 16,
   "id": "ea31d1fb",
   "metadata": {
    "vscode": {
     "languageId": "r"
    }
   },
   "outputs": [],
   "source": [
    "set.seed(357)"
   ]
  },
  {
   "cell_type": "code",
   "execution_count": 18,
   "id": "aff816b2",
   "metadata": {
    "vscode": {
     "languageId": "r"
    }
   },
   "outputs": [],
   "source": [
    "# 设置权重\n",
    "df <- cancer_unweighted$data() %>%\n",
    "  mutate(\n",
    "    weight = ifelse(class == \"malignant\", 2, 1)\n",
    "  )\n",
    "\n",
    "# 创建任务\n",
    "cancer_weighted <- as_task_classif(df, target = \"class\")\n",
    "\n",
    "# 设置权重列角色\n",
    "cancer_weighted$set_col_roles(\"weight\", role = \"weight\")\n",
    "\n",
    "# 分割数据集\n",
    "split <- partition(cancer_unweighted)\n",
    "\n",
    "# 设置学习器\n",
    "lrn_rf <- lrn(\"classif.ranger\")"
   ]
  },
  {
   "cell_type": "code",
   "execution_count": 19,
   "id": "05ec292e",
   "metadata": {
    "vscode": {
     "languageId": "r"
    }
   },
   "outputs": [
    {
     "data": {
      "text/html": [
       "<strong>classif.ce:</strong> 0.04"
      ],
      "text/latex": [
       "\\textbf{classif.ce:} 0.04"
      ],
      "text/markdown": [
       "**classif.ce:** 0.04"
      ],
      "text/plain": [
       "classif.ce \n",
       "      0.04 "
      ]
     },
     "metadata": {},
     "output_type": "display_data"
    }
   ],
   "source": [
    "# 未加权数据集\n",
    "lrn_rf$train(cancer_unweighted, split$train)$\n",
    "  predict(cancer_unweighted, split$test)$score()\n",
    "\n",
    "# classif.ce: 0.0222222222222222"
   ]
  },
  {
   "cell_type": "code",
   "execution_count": 20,
   "id": "ea3c6d10",
   "metadata": {
    "vscode": {
     "languageId": "r"
    }
   },
   "outputs": [
    {
     "data": {
      "text/html": [
       "<strong>classif.ce:</strong> 0.0311111111111111"
      ],
      "text/latex": [
       "\\textbf{classif.ce:} 0.0311111111111111"
      ],
      "text/markdown": [
       "**classif.ce:** 0.0311111111111111"
      ],
      "text/plain": [
       "classif.ce \n",
       "0.03111111 "
      ]
     },
     "metadata": {},
     "output_type": "display_data"
    }
   ],
   "source": [
    "lrn_rf$train(cancer_weighted, split$train)$\n",
    "  predict(cancer_weighted, split$test)$score()\n",
    "\n",
    "# classif.ce: 0.0222222222222222"
   ]
  },
  {
   "cell_type": "markdown",
   "id": "27f30eff",
   "metadata": {},
   "source": [
    "# 练习"
   ]
  },
  {
   "cell_type": "markdown",
   "id": "ef00b257",
   "metadata": {},
   "source": [
    "## 练习1"
   ]
  },
  {
   "cell_type": "code",
   "execution_count": 21,
   "id": "8d058468",
   "metadata": {
    "vscode": {
     "languageId": "r"
    }
   },
   "outputs": [
    {
     "data": {
      "text/html": [
       "<table class=\"dataframe\">\n",
       "<caption>A data.frame: 6 x 9</caption>\n",
       "<thead>\n",
       "\t<tr><th></th><th scope=col>pregnant</th><th scope=col>glucose</th><th scope=col>pressure</th><th scope=col>triceps</th><th scope=col>insulin</th><th scope=col>mass</th><th scope=col>pedigree</th><th scope=col>age</th><th scope=col>diabetes</th></tr>\n",
       "\t<tr><th></th><th scope=col>&lt;dbl&gt;</th><th scope=col>&lt;dbl&gt;</th><th scope=col>&lt;dbl&gt;</th><th scope=col>&lt;dbl&gt;</th><th scope=col>&lt;dbl&gt;</th><th scope=col>&lt;dbl&gt;</th><th scope=col>&lt;dbl&gt;</th><th scope=col>&lt;dbl&gt;</th><th scope=col>&lt;fct&gt;</th></tr>\n",
       "</thead>\n",
       "<tbody>\n",
       "\t<tr><th scope=row>1</th><td>6</td><td>148</td><td>72</td><td>35</td><td> NA</td><td>33.6</td><td>0.627</td><td>50</td><td>pos</td></tr>\n",
       "\t<tr><th scope=row>2</th><td>1</td><td> 85</td><td>66</td><td>29</td><td> NA</td><td>26.6</td><td>0.351</td><td>31</td><td>neg</td></tr>\n",
       "\t<tr><th scope=row>3</th><td>8</td><td>183</td><td>64</td><td>NA</td><td> NA</td><td>23.3</td><td>0.672</td><td>32</td><td>pos</td></tr>\n",
       "\t<tr><th scope=row>4</th><td>1</td><td> 89</td><td>66</td><td>23</td><td> 94</td><td>28.1</td><td>0.167</td><td>21</td><td>neg</td></tr>\n",
       "\t<tr><th scope=row>5</th><td>0</td><td>137</td><td>40</td><td>35</td><td>168</td><td>43.1</td><td>2.288</td><td>33</td><td>pos</td></tr>\n",
       "\t<tr><th scope=row>6</th><td>5</td><td>116</td><td>74</td><td>NA</td><td> NA</td><td>25.6</td><td>0.201</td><td>30</td><td>neg</td></tr>\n",
       "</tbody>\n",
       "</table>\n"
      ],
      "text/latex": [
       "A data.frame: 6 x 9\n",
       "\\begin{tabular}{r|lllllllll}\n",
       "  & pregnant & glucose & pressure & triceps & insulin & mass & pedigree & age & diabetes\\\\\n",
       "  & <dbl> & <dbl> & <dbl> & <dbl> & <dbl> & <dbl> & <dbl> & <dbl> & <fct>\\\\\n",
       "\\hline\n",
       "\t1 & 6 & 148 & 72 & 35 &  NA & 33.6 & 0.627 & 50 & pos\\\\\n",
       "\t2 & 1 &  85 & 66 & 29 &  NA & 26.6 & 0.351 & 31 & neg\\\\\n",
       "\t3 & 8 & 183 & 64 & NA &  NA & 23.3 & 0.672 & 32 & pos\\\\\n",
       "\t4 & 1 &  89 & 66 & 23 &  94 & 28.1 & 0.167 & 21 & neg\\\\\n",
       "\t5 & 0 & 137 & 40 & 35 & 168 & 43.1 & 2.288 & 33 & pos\\\\\n",
       "\t6 & 5 & 116 & 74 & NA &  NA & 25.6 & 0.201 & 30 & neg\\\\\n",
       "\\end{tabular}\n"
      ],
      "text/markdown": [
       "\n",
       "A data.frame: 6 x 9\n",
       "\n",
       "| <!--/--> | pregnant &lt;dbl&gt; | glucose &lt;dbl&gt; | pressure &lt;dbl&gt; | triceps &lt;dbl&gt; | insulin &lt;dbl&gt; | mass &lt;dbl&gt; | pedigree &lt;dbl&gt; | age &lt;dbl&gt; | diabetes &lt;fct&gt; |\n",
       "|---|---|---|---|---|---|---|---|---|---|\n",
       "| 1 | 6 | 148 | 72 | 35 |  NA | 33.6 | 0.627 | 50 | pos |\n",
       "| 2 | 1 |  85 | 66 | 29 |  NA | 26.6 | 0.351 | 31 | neg |\n",
       "| 3 | 8 | 183 | 64 | NA |  NA | 23.3 | 0.672 | 32 | pos |\n",
       "| 4 | 1 |  89 | 66 | 23 |  94 | 28.1 | 0.167 | 21 | neg |\n",
       "| 5 | 0 | 137 | 40 | 35 | 168 | 43.1 | 2.288 | 33 | pos |\n",
       "| 6 | 5 | 116 | 74 | NA |  NA | 25.6 | 0.201 | 30 | neg |\n",
       "\n"
      ],
      "text/plain": [
       "  pregnant glucose pressure triceps insulin mass pedigree age diabetes\n",
       "1 6        148     72       35       NA     33.6 0.627    50  pos     \n",
       "2 1         85     66       29       NA     26.6 0.351    31  neg     \n",
       "3 8        183     64       NA       NA     23.3 0.672    32  pos     \n",
       "4 1         89     66       23       94     28.1 0.167    21  neg     \n",
       "5 0        137     40       35      168     43.1 2.288    33  pos     \n",
       "6 5        116     74       NA       NA     25.6 0.201    30  neg     "
      ]
     },
     "metadata": {},
     "output_type": "display_data"
    }
   ],
   "source": [
    "data(PimaIndiansDiabetes2, package = \"mlbench\")\n",
    "df <- PimaIndiansDiabetes2\n",
    "head(df)"
   ]
  },
  {
   "cell_type": "code",
   "execution_count": 22,
   "id": "ec558d9a",
   "metadata": {
    "vscode": {
     "languageId": "r"
    }
   },
   "outputs": [],
   "source": [
    "# 创建任务，pos为正类\n",
    "tsk_classif <- as_task_classif(df, target = \"diabetes\", positive = \"pos\")\n",
    "\n",
    "# 分割数据集，80%训练集，20%测试集\n",
    "splits <- partition(tsk_classif, ratio = 0.8)\n",
    "\n",
    "# 创建学习器\n",
    "lrn_rpart <- lrn(\"classif.rpart\", predict_type = \"prob\")\n",
    "\n",
    "# 训练模型并预测\n",
    "prediction <- lrn_rpart$train(tsk_classif, splits$train)$\n",
    "  predict(tsk_classif, splits$test)"
   ]
  },
  {
   "cell_type": "code",
   "execution_count": null,
   "id": "73743a63",
   "metadata": {
    "vscode": {
     "languageId": "r"
    }
   },
   "outputs": [
    {
     "data": {
      "text/html": [
       "<strong>classif.ce:</strong> 0.207792207792208"
      ],
      "text/latex": [
       "\\textbf{classif.ce:} 0.207792207792208"
      ],
      "text/markdown": [
       "**classif.ce:** 0.207792207792208"
      ],
      "text/plain": [
       "classif.ce \n",
       " 0.2077922 "
      ]
     },
     "metadata": {},
     "output_type": "display_data"
    }
   ],
   "source": [
    "# 使用错误率评价性能\n",
    "measure <- msr(\"classif.ce\")\n",
    "prediction$score(measure)\n",
    "\n",
    "# classif.ce: 0.207792207792208"
   ]
  },
  {
   "cell_type": "code",
   "execution_count": 25,
   "id": "c08fb2ad",
   "metadata": {
    "vscode": {
     "languageId": "r"
    }
   },
   "outputs": [
    {
     "data": {
      "text/html": [
       "<table class=\"dataframe\">\n",
       "<caption>A data.frame: 6 x 9</caption>\n",
       "<thead>\n",
       "\t<tr><th></th><th scope=col>pregnant</th><th scope=col>glucose</th><th scope=col>pressure</th><th scope=col>triceps</th><th scope=col>insulin</th><th scope=col>mass</th><th scope=col>pedigree</th><th scope=col>age</th><th scope=col>diabetes</th></tr>\n",
       "\t<tr><th></th><th scope=col>&lt;dbl&gt;</th><th scope=col>&lt;dbl&gt;</th><th scope=col>&lt;dbl&gt;</th><th scope=col>&lt;dbl&gt;</th><th scope=col>&lt;dbl&gt;</th><th scope=col>&lt;dbl&gt;</th><th scope=col>&lt;dbl&gt;</th><th scope=col>&lt;dbl&gt;</th><th scope=col>&lt;fct&gt;</th></tr>\n",
       "</thead>\n",
       "<tbody>\n",
       "\t<tr><th scope=row>4</th><td>1</td><td> 89</td><td>66</td><td>23</td><td> 94</td><td>28.1</td><td>0.167</td><td>21</td><td>neg</td></tr>\n",
       "\t<tr><th scope=row>5</th><td>0</td><td>137</td><td>40</td><td>35</td><td>168</td><td>43.1</td><td>2.288</td><td>33</td><td>pos</td></tr>\n",
       "\t<tr><th scope=row>7</th><td>3</td><td> 78</td><td>50</td><td>32</td><td> 88</td><td>31.0</td><td>0.248</td><td>26</td><td>pos</td></tr>\n",
       "\t<tr><th scope=row>9</th><td>2</td><td>197</td><td>70</td><td>45</td><td>543</td><td>30.5</td><td>0.158</td><td>53</td><td>pos</td></tr>\n",
       "\t<tr><th scope=row>14</th><td>1</td><td>189</td><td>60</td><td>23</td><td>846</td><td>30.1</td><td>0.398</td><td>59</td><td>pos</td></tr>\n",
       "\t<tr><th scope=row>15</th><td>5</td><td>166</td><td>72</td><td>19</td><td>175</td><td>25.8</td><td>0.587</td><td>51</td><td>pos</td></tr>\n",
       "</tbody>\n",
       "</table>\n"
      ],
      "text/latex": [
       "A data.frame: 6 x 9\n",
       "\\begin{tabular}{r|lllllllll}\n",
       "  & pregnant & glucose & pressure & triceps & insulin & mass & pedigree & age & diabetes\\\\\n",
       "  & <dbl> & <dbl> & <dbl> & <dbl> & <dbl> & <dbl> & <dbl> & <dbl> & <fct>\\\\\n",
       "\\hline\n",
       "\t4 & 1 &  89 & 66 & 23 &  94 & 28.1 & 0.167 & 21 & neg\\\\\n",
       "\t5 & 0 & 137 & 40 & 35 & 168 & 43.1 & 2.288 & 33 & pos\\\\\n",
       "\t7 & 3 &  78 & 50 & 32 &  88 & 31.0 & 0.248 & 26 & pos\\\\\n",
       "\t9 & 2 & 197 & 70 & 45 & 543 & 30.5 & 0.158 & 53 & pos\\\\\n",
       "\t14 & 1 & 189 & 60 & 23 & 846 & 30.1 & 0.398 & 59 & pos\\\\\n",
       "\t15 & 5 & 166 & 72 & 19 & 175 & 25.8 & 0.587 & 51 & pos\\\\\n",
       "\\end{tabular}\n"
      ],
      "text/markdown": [
       "\n",
       "A data.frame: 6 x 9\n",
       "\n",
       "| <!--/--> | pregnant &lt;dbl&gt; | glucose &lt;dbl&gt; | pressure &lt;dbl&gt; | triceps &lt;dbl&gt; | insulin &lt;dbl&gt; | mass &lt;dbl&gt; | pedigree &lt;dbl&gt; | age &lt;dbl&gt; | diabetes &lt;fct&gt; |\n",
       "|---|---|---|---|---|---|---|---|---|---|\n",
       "| 4 | 1 |  89 | 66 | 23 |  94 | 28.1 | 0.167 | 21 | neg |\n",
       "| 5 | 0 | 137 | 40 | 35 | 168 | 43.1 | 2.288 | 33 | pos |\n",
       "| 7 | 3 |  78 | 50 | 32 |  88 | 31.0 | 0.248 | 26 | pos |\n",
       "| 9 | 2 | 197 | 70 | 45 | 543 | 30.5 | 0.158 | 53 | pos |\n",
       "| 14 | 1 | 189 | 60 | 23 | 846 | 30.1 | 0.398 | 59 | pos |\n",
       "| 15 | 5 | 166 | 72 | 19 | 175 | 25.8 | 0.587 | 51 | pos |\n",
       "\n"
      ],
      "text/plain": [
       "   pregnant glucose pressure triceps insulin mass pedigree age diabetes\n",
       "4  1         89     66       23       94     28.1 0.167    21  neg     \n",
       "5  0        137     40       35      168     43.1 2.288    33  pos     \n",
       "7  3         78     50       32       88     31.0 0.248    26  pos     \n",
       "9  2        197     70       45      543     30.5 0.158    53  pos     \n",
       "14 1        189     60       23      846     30.1 0.398    59  pos     \n",
       "15 5        166     72       19      175     25.8 0.587    51  pos     "
      ]
     },
     "metadata": {},
     "output_type": "display_data"
    }
   ],
   "source": [
    "df_no_na <- df %>% na.omit()\n",
    "head(df_no_na)"
   ]
  },
  {
   "cell_type": "code",
   "execution_count": null,
   "id": "42923597",
   "metadata": {
    "vscode": {
     "languageId": "r"
    }
   },
   "outputs": [
    {
     "data": {
      "text/html": [
       "<strong>classif.ce:</strong> 0.17948717948718"
      ],
      "text/latex": [
       "\\textbf{classif.ce:} 0.17948717948718"
      ],
      "text/markdown": [
       "**classif.ce:** 0.17948717948718"
      ],
      "text/plain": [
       "classif.ce \n",
       " 0.1794872 "
      ]
     },
     "metadata": {},
     "output_type": "display_data"
    }
   ],
   "source": [
    "# 创建任务，pos为正类\n",
    "tsk_classif <- as_task_classif(df_no_na, target = \"diabetes\", positive = \"pos\")\n",
    "\n",
    "# 分割数据集，80%训练集，20%测试集\n",
    "splits <- partition(tsk_classif, ratio = 0.8)\n",
    "\n",
    "# 创建学习器\n",
    "lrn_rpart <- lrn(\"classif.rpart\", predict_type = \"prob\")\n",
    "\n",
    "# 训练模型并预测\n",
    "prediction <- lrn_rpart$train(tsk_classif, splits$train)$\n",
    "  predict(tsk_classif, splits$test)\n",
    "\n",
    "# 使用错误率评价性能\n",
    "measure <- msr(\"classif.ce\")\n",
    "prediction$score(measure)\n",
    "\n",
    "# classif.ce: 0.17948717948718"
   ]
  },
  {
   "cell_type": "markdown",
   "id": "29e2154d",
   "metadata": {},
   "source": [
    "## 练习2"
   ]
  },
  {
   "cell_type": "code",
   "execution_count": null,
   "id": "b8003780",
   "metadata": {
    "vscode": {
     "languageId": "r"
    }
   },
   "outputs": [
    {
     "data": {
      "text/html": [
       "<style>\n",
       ".dl-inline {width: auto; margin:0; padding: 0}\n",
       ".dl-inline>dt, .dl-inline>dd {float: none; width: auto; display: inline-block}\n",
       ".dl-inline>dt::after {content: \":\\0020\"; padding-right: .5ex}\n",
       ".dl-inline>dt:not(:first-of-type) {padding-left: .5ex}\n",
       "</style><dl class=dl-inline><dt>classif.tpr</dt><dd>0.666666666666667</dd><dt>classif.fpr</dt><dd>0.12280701754386</dd><dt>classif.tnr</dt><dd>0.87719298245614</dd><dt>classif.fnr</dt><dd>0.333333333333333</dd></dl>\n"
      ],
      "text/latex": [
       "\\begin{description*}\n",
       "\\item[classif.tpr] 0.666666666666667\n",
       "\\item[classif.fpr] 0.12280701754386\n",
       "\\item[classif.tnr] 0.87719298245614\n",
       "\\item[classif.fnr] 0.333333333333333\n",
       "\\end{description*}\n"
      ],
      "text/markdown": [
       "classif.tpr\n",
       ":   0.666666666666667classif.fpr\n",
       ":   0.12280701754386classif.tnr\n",
       ":   0.87719298245614classif.fnr\n",
       ":   0.333333333333333\n",
       "\n"
      ],
      "text/plain": [
       "classif.tpr classif.fpr classif.tnr classif.fnr \n",
       "  0.6666667   0.1228070   0.8771930   0.3333333 "
      ]
     },
     "metadata": {},
     "output_type": "display_data"
    }
   ],
   "source": [
    "# 使用mlr3verse预测TPR， FPR，TNR，FNR\n",
    "measures <- msrs(\n",
    "  c(\"classif.tpr\", \"classif.fpr\", \"classif.tnr\", \"classif.fnr\")\n",
    ")\n",
    "\n",
    "prediction$score(measures)\n",
    "\n",
    "# classif.tpr 0.666666666666667\n",
    "# classif.fpr 0.12280701754386\n",
    "# classif.tnr 0.87719298245614\n",
    "# classif.fnr 0.333333333333333"
   ]
  },
  {
   "cell_type": "code",
   "execution_count": 41,
   "id": "34a94eb5",
   "metadata": {
    "vscode": {
     "languageId": "r"
    }
   },
   "outputs": [
    {
     "data": {
      "text/html": [
       "<style>\n",
       ".list-inline {list-style: none; margin:0; padding: 0}\n",
       ".list-inline>li {display: inline-block}\n",
       ".list-inline>li:not(:last-child)::after {content: \"\\00b7\"; padding: 0 .5ex}\n",
       "</style>\n",
       "<ol class=list-inline><li>3</li><li>4</li><li>9</li><li>10</li><li>12</li><li>13</li><li>14</li><li>16</li><li>17</li><li>20</li><li>21</li><li>23</li><li>28</li><li>29</li><li>38</li><li>39</li><li>41</li><li>48</li><li>49</li><li>51</li><li>52</li><li>54</li><li>55</li><li>56</li><li>58</li><li>59</li><li>60</li><li>62</li><li>65</li><li>66</li><li>67</li><li>70</li><li>72</li><li>74</li><li>76</li><li>77</li><li>78</li><li>79</li><li>84</li><li>90</li><li>91</li><li>99</li><li>103</li><li>104</li><li>106</li><li>108</li><li>111</li><li>120</li><li>121</li><li>123</li><li>125</li><li>134</li><li>136</li><li>137</li><li>138</li><li>140</li><li>142</li><li>143</li><li>145</li><li>147</li><li>150</li><li>153</li><li>154</li><li>156</li><li>161</li><li>163</li><li>169</li><li>170</li><li>174</li><li>180</li><li>181</li><li>182</li><li>185</li><li>189</li><li>193</li><li>196</li><li>197</li><li>202</li><li>212</li><li>214</li><li>215</li><li>216</li><li>218</li><li>225</li><li>230</li><li>233</li><li>236</li><li>237</li><li>244</li><li>245</li><li>246</li><li>248</li><li>253</li><li>255</li><li>257</li><li>258</li><li>260</li><li>269</li><li>271</li><li>274</li><li>277</li><li>281</li><li>283</li><li>290</li><li>293</li><li>294</li><li>295</li><li>298</li><li>299</li><li>304</li><li>309</li><li>311</li><li>313</li><li>316</li><li>319</li><li>328</li><li>330</li><li>332</li><li>335</li><li>340</li><li>342</li><li>344</li><li>349</li><li>350</li><li>352</li><li>353</li><li>362</li><li>364</li><li>365</li><li>368</li><li>372</li><li>373</li><li>374</li><li>375</li><li>376</li><li>379</li><li>383</li><li>385</li><li>386</li><li>402</li><li>403</li><li>405</li><li>409</li><li>411</li><li>412</li><li>414</li><li>417</li><li>418</li><li>423</li><li>425</li><li>432</li><li>436</li><li>438</li><li>441</li><li>444</li><li>446</li><li>448</li><li>453</li><li>462</li><li>464</li><li>465</li><li>473</li><li>475</li><li>479</li><li>482</li><li>489</li><li>491</li><li>492</li><li>495</li><li>497</li><li>506</li><li>507</li><li>510</li><li>513</li><li>519</li><li>521</li><li>522</li><li>523</li><li>524</li><li>528</li><li>529</li><li>530</li><li>538</li><li>539</li><li>552</li><li>557</li><li>560</li><li>562</li><li>563</li><li>566</li><li>567</li><li>569</li><li>570</li><li>572</li><li>573</li><li>575</li><li>576</li><li>585</li><li>589</li><li>590</li><li>591</li><li>592</li><li>601</li><li>602</li><li>608</li><li>609</li><li>611</li><li>613</li><li>614</li><li>617</li><li>624</li><li>626</li><li>627</li><li>628</li><li>644</li><li>648</li><li>650</li><li>651</li><li>652</li><li>658</li><li>666</li><li>669</li><li>674</li><li>675</li><li>679</li></ol>\n"
      ],
      "text/latex": [
       "\\begin{enumerate*}\n",
       "\\item 3\n",
       "\\item 4\n",
       "\\item 9\n",
       "\\item 10\n",
       "\\item 12\n",
       "\\item 13\n",
       "\\item 14\n",
       "\\item 16\n",
       "\\item 17\n",
       "\\item 20\n",
       "\\item 21\n",
       "\\item 23\n",
       "\\item 28\n",
       "\\item 29\n",
       "\\item 38\n",
       "\\item 39\n",
       "\\item 41\n",
       "\\item 48\n",
       "\\item 49\n",
       "\\item 51\n",
       "\\item 52\n",
       "\\item 54\n",
       "\\item 55\n",
       "\\item 56\n",
       "\\item 58\n",
       "\\item 59\n",
       "\\item 60\n",
       "\\item 62\n",
       "\\item 65\n",
       "\\item 66\n",
       "\\item 67\n",
       "\\item 70\n",
       "\\item 72\n",
       "\\item 74\n",
       "\\item 76\n",
       "\\item 77\n",
       "\\item 78\n",
       "\\item 79\n",
       "\\item 84\n",
       "\\item 90\n",
       "\\item 91\n",
       "\\item 99\n",
       "\\item 103\n",
       "\\item 104\n",
       "\\item 106\n",
       "\\item 108\n",
       "\\item 111\n",
       "\\item 120\n",
       "\\item 121\n",
       "\\item 123\n",
       "\\item 125\n",
       "\\item 134\n",
       "\\item 136\n",
       "\\item 137\n",
       "\\item 138\n",
       "\\item 140\n",
       "\\item 142\n",
       "\\item 143\n",
       "\\item 145\n",
       "\\item 147\n",
       "\\item 150\n",
       "\\item 153\n",
       "\\item 154\n",
       "\\item 156\n",
       "\\item 161\n",
       "\\item 163\n",
       "\\item 169\n",
       "\\item 170\n",
       "\\item 174\n",
       "\\item 180\n",
       "\\item 181\n",
       "\\item 182\n",
       "\\item 185\n",
       "\\item 189\n",
       "\\item 193\n",
       "\\item 196\n",
       "\\item 197\n",
       "\\item 202\n",
       "\\item 212\n",
       "\\item 214\n",
       "\\item 215\n",
       "\\item 216\n",
       "\\item 218\n",
       "\\item 225\n",
       "\\item 230\n",
       "\\item 233\n",
       "\\item 236\n",
       "\\item 237\n",
       "\\item 244\n",
       "\\item 245\n",
       "\\item 246\n",
       "\\item 248\n",
       "\\item 253\n",
       "\\item 255\n",
       "\\item 257\n",
       "\\item 258\n",
       "\\item 260\n",
       "\\item 269\n",
       "\\item 271\n",
       "\\item 274\n",
       "\\item 277\n",
       "\\item 281\n",
       "\\item 283\n",
       "\\item 290\n",
       "\\item 293\n",
       "\\item 294\n",
       "\\item 295\n",
       "\\item 298\n",
       "\\item 299\n",
       "\\item 304\n",
       "\\item 309\n",
       "\\item 311\n",
       "\\item 313\n",
       "\\item 316\n",
       "\\item 319\n",
       "\\item 328\n",
       "\\item 330\n",
       "\\item 332\n",
       "\\item 335\n",
       "\\item 340\n",
       "\\item 342\n",
       "\\item 344\n",
       "\\item 349\n",
       "\\item 350\n",
       "\\item 352\n",
       "\\item 353\n",
       "\\item 362\n",
       "\\item 364\n",
       "\\item 365\n",
       "\\item 368\n",
       "\\item 372\n",
       "\\item 373\n",
       "\\item 374\n",
       "\\item 375\n",
       "\\item 376\n",
       "\\item 379\n",
       "\\item 383\n",
       "\\item 385\n",
       "\\item 386\n",
       "\\item 402\n",
       "\\item 403\n",
       "\\item 405\n",
       "\\item 409\n",
       "\\item 411\n",
       "\\item 412\n",
       "\\item 414\n",
       "\\item 417\n",
       "\\item 418\n",
       "\\item 423\n",
       "\\item 425\n",
       "\\item 432\n",
       "\\item 436\n",
       "\\item 438\n",
       "\\item 441\n",
       "\\item 444\n",
       "\\item 446\n",
       "\\item 448\n",
       "\\item 453\n",
       "\\item 462\n",
       "\\item 464\n",
       "\\item 465\n",
       "\\item 473\n",
       "\\item 475\n",
       "\\item 479\n",
       "\\item 482\n",
       "\\item 489\n",
       "\\item 491\n",
       "\\item 492\n",
       "\\item 495\n",
       "\\item 497\n",
       "\\item 506\n",
       "\\item 507\n",
       "\\item 510\n",
       "\\item 513\n",
       "\\item 519\n",
       "\\item 521\n",
       "\\item 522\n",
       "\\item 523\n",
       "\\item 524\n",
       "\\item 528\n",
       "\\item 529\n",
       "\\item 530\n",
       "\\item 538\n",
       "\\item 539\n",
       "\\item 552\n",
       "\\item 557\n",
       "\\item 560\n",
       "\\item 562\n",
       "\\item 563\n",
       "\\item 566\n",
       "\\item 567\n",
       "\\item 569\n",
       "\\item 570\n",
       "\\item 572\n",
       "\\item 573\n",
       "\\item 575\n",
       "\\item 576\n",
       "\\item 585\n",
       "\\item 589\n",
       "\\item 590\n",
       "\\item 591\n",
       "\\item 592\n",
       "\\item 601\n",
       "\\item 602\n",
       "\\item 608\n",
       "\\item 609\n",
       "\\item 611\n",
       "\\item 613\n",
       "\\item 614\n",
       "\\item 617\n",
       "\\item 624\n",
       "\\item 626\n",
       "\\item 627\n",
       "\\item 628\n",
       "\\item 644\n",
       "\\item 648\n",
       "\\item 650\n",
       "\\item 651\n",
       "\\item 652\n",
       "\\item 658\n",
       "\\item 666\n",
       "\\item 669\n",
       "\\item 674\n",
       "\\item 675\n",
       "\\item 679\n",
       "\\end{enumerate*}\n"
      ],
      "text/markdown": [
       "1. 3\n",
       "2. 4\n",
       "3. 9\n",
       "4. 10\n",
       "5. 12\n",
       "6. 13\n",
       "7. 14\n",
       "8. 16\n",
       "9. 17\n",
       "10. 20\n",
       "11. 21\n",
       "12. 23\n",
       "13. 28\n",
       "14. 29\n",
       "15. 38\n",
       "16. 39\n",
       "17. 41\n",
       "18. 48\n",
       "19. 49\n",
       "20. 51\n",
       "21. 52\n",
       "22. 54\n",
       "23. 55\n",
       "24. 56\n",
       "25. 58\n",
       "26. 59\n",
       "27. 60\n",
       "28. 62\n",
       "29. 65\n",
       "30. 66\n",
       "31. 67\n",
       "32. 70\n",
       "33. 72\n",
       "34. 74\n",
       "35. 76\n",
       "36. 77\n",
       "37. 78\n",
       "38. 79\n",
       "39. 84\n",
       "40. 90\n",
       "41. 91\n",
       "42. 99\n",
       "43. 103\n",
       "44. 104\n",
       "45. 106\n",
       "46. 108\n",
       "47. 111\n",
       "48. 120\n",
       "49. 121\n",
       "50. 123\n",
       "51. 125\n",
       "52. 134\n",
       "53. 136\n",
       "54. 137\n",
       "55. 138\n",
       "56. 140\n",
       "57. 142\n",
       "58. 143\n",
       "59. 145\n",
       "60. 147\n",
       "61. 150\n",
       "62. 153\n",
       "63. 154\n",
       "64. 156\n",
       "65. 161\n",
       "66. 163\n",
       "67. 169\n",
       "68. 170\n",
       "69. 174\n",
       "70. 180\n",
       "71. 181\n",
       "72. 182\n",
       "73. 185\n",
       "74. 189\n",
       "75. 193\n",
       "76. 196\n",
       "77. 197\n",
       "78. 202\n",
       "79. 212\n",
       "80. 214\n",
       "81. 215\n",
       "82. 216\n",
       "83. 218\n",
       "84. 225\n",
       "85. 230\n",
       "86. 233\n",
       "87. 236\n",
       "88. 237\n",
       "89. 244\n",
       "90. 245\n",
       "91. 246\n",
       "92. 248\n",
       "93. 253\n",
       "94. 255\n",
       "95. 257\n",
       "96. 258\n",
       "97. 260\n",
       "98. 269\n",
       "99. 271\n",
       "100. 274\n",
       "101. 277\n",
       "102. 281\n",
       "103. 283\n",
       "104. 290\n",
       "105. 293\n",
       "106. 294\n",
       "107. 295\n",
       "108. 298\n",
       "109. 299\n",
       "110. 304\n",
       "111. 309\n",
       "112. 311\n",
       "113. 313\n",
       "114. 316\n",
       "115. 319\n",
       "116. 328\n",
       "117. 330\n",
       "118. 332\n",
       "119. 335\n",
       "120. 340\n",
       "121. 342\n",
       "122. 344\n",
       "123. 349\n",
       "124. 350\n",
       "125. 352\n",
       "126. 353\n",
       "127. 362\n",
       "128. 364\n",
       "129. 365\n",
       "130. 368\n",
       "131. 372\n",
       "132. 373\n",
       "133. 374\n",
       "134. 375\n",
       "135. 376\n",
       "136. 379\n",
       "137. 383\n",
       "138. 385\n",
       "139. 386\n",
       "140. 402\n",
       "141. 403\n",
       "142. 405\n",
       "143. 409\n",
       "144. 411\n",
       "145. 412\n",
       "146. 414\n",
       "147. 417\n",
       "148. 418\n",
       "149. 423\n",
       "150. 425\n",
       "151. 432\n",
       "152. 436\n",
       "153. 438\n",
       "154. 441\n",
       "155. 444\n",
       "156. 446\n",
       "157. 448\n",
       "158. 453\n",
       "159. 462\n",
       "160. 464\n",
       "161. 465\n",
       "162. 473\n",
       "163. 475\n",
       "164. 479\n",
       "165. 482\n",
       "166. 489\n",
       "167. 491\n",
       "168. 492\n",
       "169. 495\n",
       "170. 497\n",
       "171. 506\n",
       "172. 507\n",
       "173. 510\n",
       "174. 513\n",
       "175. 519\n",
       "176. 521\n",
       "177. 522\n",
       "178. 523\n",
       "179. 524\n",
       "180. 528\n",
       "181. 529\n",
       "182. 530\n",
       "183. 538\n",
       "184. 539\n",
       "185. 552\n",
       "186. 557\n",
       "187. 560\n",
       "188. 562\n",
       "189. 563\n",
       "190. 566\n",
       "191. 567\n",
       "192. 569\n",
       "193. 570\n",
       "194. 572\n",
       "195. 573\n",
       "196. 575\n",
       "197. 576\n",
       "198. 585\n",
       "199. 589\n",
       "200. 590\n",
       "201. 591\n",
       "202. 592\n",
       "203. 601\n",
       "204. 602\n",
       "205. 608\n",
       "206. 609\n",
       "207. 611\n",
       "208. 613\n",
       "209. 614\n",
       "210. 617\n",
       "211. 624\n",
       "212. 626\n",
       "213. 627\n",
       "214. 628\n",
       "215. 644\n",
       "216. 648\n",
       "217. 650\n",
       "218. 651\n",
       "219. 652\n",
       "220. 658\n",
       "221. 666\n",
       "222. 669\n",
       "223. 674\n",
       "224. 675\n",
       "225. 679\n",
       "\n",
       "\n"
      ],
      "text/plain": [
       "  [1]   3   4   9  10  12  13  14  16  17  20  21  23  28  29  38  39  41  48\n",
       " [19]  49  51  52  54  55  56  58  59  60  62  65  66  67  70  72  74  76  77\n",
       " [37]  78  79  84  90  91  99 103 104 106 108 111 120 121 123 125 134 136 137\n",
       " [55] 138 140 142 143 145 147 150 153 154 156 161 163 169 170 174 180 181 182\n",
       " [73] 185 189 193 196 197 202 212 214 215 216 218 225 230 233 236 237 244 245\n",
       " [91] 246 248 253 255 257 258 260 269 271 274 277 281 283 290 293 294 295 298\n",
       "[109] 299 304 309 311 313 316 319 328 330 332 335 340 342 344 349 350 352 353\n",
       "[127] 362 364 365 368 372 373 374 375 376 379 383 385 386 402 403 405 409 411\n",
       "[145] 412 414 417 418 423 425 432 436 438 441 444 446 448 453 462 464 465 473\n",
       "[163] 475 479 482 489 491 492 495 497 506 507 510 513 519 521 522 523 524 528\n",
       "[181] 529 530 538 539 552 557 560 562 563 566 567 569 570 572 573 575 576 585\n",
       "[199] 589 590 591 592 601 602 608 609 611 613 614 617 624 626 627 628 644 648\n",
       "[217] 650 651 652 658 666 669 674 675 679"
      ]
     },
     "metadata": {},
     "output_type": "display_data"
    }
   ],
   "source": [
    "split$test"
   ]
  },
  {
   "cell_type": "code",
   "execution_count": 37,
   "id": "78e2b5da",
   "metadata": {
    "vscode": {
     "languageId": "r"
    }
   },
   "outputs": [
    {
     "data": {
      "text/html": [
       "<table class=\"dataframe\">\n",
       "<caption>A tibble: 6 x 2</caption>\n",
       "<thead>\n",
       "\t<tr><th scope=col>truth</th><th scope=col>response</th></tr>\n",
       "\t<tr><th scope=col>&lt;fct&gt;</th><th scope=col>&lt;fct&gt;</th></tr>\n",
       "</thead>\n",
       "<tbody>\n",
       "\t<tr><td>pos</td><td>pos</td></tr>\n",
       "\t<tr><td>pos</td><td>pos</td></tr>\n",
       "\t<tr><td>neg</td><td>neg</td></tr>\n",
       "\t<tr><td>neg</td><td>neg</td></tr>\n",
       "\t<tr><td>pos</td><td>pos</td></tr>\n",
       "\t<tr><td>neg</td><td>neg</td></tr>\n",
       "</tbody>\n",
       "</table>\n"
      ],
      "text/latex": [
       "A tibble: 6 x 2\n",
       "\\begin{tabular}{ll}\n",
       " truth & response\\\\\n",
       " <fct> & <fct>\\\\\n",
       "\\hline\n",
       "\t pos & pos\\\\\n",
       "\t pos & pos\\\\\n",
       "\t neg & neg\\\\\n",
       "\t neg & neg\\\\\n",
       "\t pos & pos\\\\\n",
       "\t neg & neg\\\\\n",
       "\\end{tabular}\n"
      ],
      "text/markdown": [
       "\n",
       "A tibble: 6 x 2\n",
       "\n",
       "| truth &lt;fct&gt; | response &lt;fct&gt; |\n",
       "|---|---|\n",
       "| pos | pos |\n",
       "| pos | pos |\n",
       "| neg | neg |\n",
       "| neg | neg |\n",
       "| pos | pos |\n",
       "| neg | neg |\n",
       "\n"
      ],
      "text/plain": [
       "  truth response\n",
       "1 pos   pos     \n",
       "2 pos   pos     \n",
       "3 neg   neg     \n",
       "4 neg   neg     \n",
       "5 pos   pos     \n",
       "6 neg   neg     "
      ]
     },
     "metadata": {},
     "output_type": "display_data"
    }
   ],
   "source": [
    "df_truth_predict <- tibble(\n",
    "  truth = prediction$truth,\n",
    "  response = prediction$response\n",
    ")\n",
    "\n",
    "head(df_truth_predict)"
   ]
  },
  {
   "cell_type": "code",
   "execution_count": 44,
   "id": "347295bc",
   "metadata": {
    "vscode": {
     "languageId": "r"
    }
   },
   "outputs": [
    {
     "data": {
      "text/html": [
       "<table class=\"dataframe\">\n",
       "<caption>A tibble: 1 x 4</caption>\n",
       "<thead>\n",
       "\t<tr><th scope=col>TPR</th><th scope=col>FPR</th><th scope=col>TNR</th><th scope=col>FNR</th></tr>\n",
       "\t<tr><th scope=col>&lt;dbl&gt;</th><th scope=col>&lt;dbl&gt;</th><th scope=col>&lt;dbl&gt;</th><th scope=col>&lt;dbl&gt;</th></tr>\n",
       "</thead>\n",
       "<tbody>\n",
       "\t<tr><td>0.6666667</td><td>0.122807</td><td>0.877193</td><td>0.3333333</td></tr>\n",
       "</tbody>\n",
       "</table>\n"
      ],
      "text/latex": [
       "A tibble: 1 x 4\n",
       "\\begin{tabular}{llll}\n",
       " TPR & FPR & TNR & FNR\\\\\n",
       " <dbl> & <dbl> & <dbl> & <dbl>\\\\\n",
       "\\hline\n",
       "\t 0.6666667 & 0.122807 & 0.877193 & 0.3333333\\\\\n",
       "\\end{tabular}\n"
      ],
      "text/markdown": [
       "\n",
       "A tibble: 1 x 4\n",
       "\n",
       "| TPR &lt;dbl&gt; | FPR &lt;dbl&gt; | TNR &lt;dbl&gt; | FNR &lt;dbl&gt; |\n",
       "|---|---|---|---|\n",
       "| 0.6666667 | 0.122807 | 0.877193 | 0.3333333 |\n",
       "\n"
      ],
      "text/plain": [
       "  TPR       FPR      TNR      FNR      \n",
       "1 0.6666667 0.122807 0.877193 0.3333333"
      ]
     },
     "metadata": {},
     "output_type": "display_data"
    }
   ],
   "source": [
    "df_truth_predict %>%\n",
    "  mutate(\n",
    "    # TP，真阳性，真实值为阳，预测值也为阳\n",
    "    TP = ifelse(truth == \"pos\" & response == \"pos\", 1, 0),\n",
    "    # TN，真阴性，真实值为阴，预测值也为阴\n",
    "    TN = ifelse(truth == \"neg\" & response == \"neg\", 1, 0),\n",
    "    # FP，假阳性，真实值为阴，预测值为阳\n",
    "    FP = ifelse(truth == \"neg\" & response == \"pos\", 1, 0),\n",
    "    # FN，假阴性，真实值为阳，预测值为阴\n",
    "    FN = ifelse(truth == \"pos\" & response == \"neg\", 1, 0),\n",
    "    # 逻辑检测列，检验总和是否为1\n",
    "    check = TP + TN + FP + FN\n",
    "  ) %>%\n",
    "  summarise(\n",
    "    # TPR = TP / (TP + FN)\n",
    "    TPR = sum(TP) / (sum(TP) + sum(FN)),\n",
    "    # FPR = FP / (FP + TN)\n",
    "    FPR = sum(FP) / (sum(FP) + sum(TN)),\n",
    "    # TNR = TN / (TN + FP)\n",
    "    TNR = sum(TN) / (sum(TN) + sum(FP)),\n",
    "    # FNR = FN / (TP + FN)\n",
    "    FNR = sum(FN) / (sum(TP) + sum(FN)),\n",
    "  )"
   ]
  },
  {
   "cell_type": "markdown",
   "id": "70afc7fb",
   "metadata": {},
   "source": [
    "# 练习3"
   ]
  },
  {
   "cell_type": "code",
   "execution_count": 54,
   "id": "545c3504",
   "metadata": {
    "vscode": {
     "languageId": "r"
    }
   },
   "outputs": [
    {
     "data": {
      "text/html": [
       "<table class=\"dataframe\">\n",
       "<caption>A data.frame: 4 x 1</caption>\n",
       "<thead>\n",
       "\t<tr><th></th><th scope=col>.</th></tr>\n",
       "\t<tr><th></th><th scope=col>&lt;dbl&gt;</th></tr>\n",
       "</thead>\n",
       "<tbody>\n",
       "\t<tr><th scope=row>classif.tpr</th><td>0.8571429</td></tr>\n",
       "\t<tr><th scope=row>classif.fpr</th><td>0.4035088</td></tr>\n",
       "\t<tr><th scope=row>classif.tnr</th><td>0.5964912</td></tr>\n",
       "\t<tr><th scope=row>classif.fnr</th><td>0.1428571</td></tr>\n",
       "</tbody>\n",
       "</table>\n"
      ],
      "text/latex": [
       "A data.frame: 4 x 1\n",
       "\\begin{tabular}{r|l}\n",
       "  & .\\\\\n",
       "  & <dbl>\\\\\n",
       "\\hline\n",
       "\tclassif.tpr & 0.8571429\\\\\n",
       "\tclassif.fpr & 0.4035088\\\\\n",
       "\tclassif.tnr & 0.5964912\\\\\n",
       "\tclassif.fnr & 0.1428571\\\\\n",
       "\\end{tabular}\n"
      ],
      "text/markdown": [
       "\n",
       "A data.frame: 4 x 1\n",
       "\n",
       "| <!--/--> | . &lt;dbl&gt; |\n",
       "|---|---|\n",
       "| classif.tpr | 0.8571429 |\n",
       "| classif.fpr | 0.4035088 |\n",
       "| classif.tnr | 0.5964912 |\n",
       "| classif.fnr | 0.1428571 |\n",
       "\n"
      ],
      "text/plain": [
       "            .        \n",
       "classif.tpr 0.8571429\n",
       "classif.fpr 0.4035088\n",
       "classif.tnr 0.5964912\n",
       "classif.fnr 0.1428571"
      ]
     },
     "metadata": {},
     "output_type": "display_data"
    }
   ],
   "source": [
    "prediction$set_threshold(0.1)\n",
    "prediction$score(measures)  %>% as.data.frame()"
   ]
  },
  {
   "cell_type": "code",
   "execution_count": null,
   "id": "949a903a",
   "metadata": {
    "vscode": {
     "languageId": "r"
    }
   },
   "outputs": [],
   "source": []
  }
 ],
 "metadata": {
  "kernelspec": {
   "display_name": "R",
   "language": "R",
   "name": "ir"
  },
  "language_info": {
   "codemirror_mode": "r",
   "file_extension": ".r",
   "mimetype": "text/x-r-source",
   "name": "R",
   "pygments_lexer": "r",
   "version": "4.4.2"
  }
 },
 "nbformat": 4,
 "nbformat_minor": 5
}
