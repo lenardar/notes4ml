{
 "cells": [
  {
   "cell_type": "markdown",
   "id": "7035fbcf",
   "metadata": {},
   "source": [
    "# 并行化"
   ]
  },
  {
   "cell_type": "code",
   "execution_count": 6,
   "id": "bd4a477d",
   "metadata": {
    "vscode": {
     "languageId": "r"
    }
   },
   "outputs": [
    {
     "name": "stderr",
     "output_type": "stream",
     "text": [
      "-- \u001b[1mAttaching core tidyverse packages\u001b[22m ------------------------ tidyverse 2.0.0 --\n",
      "\u001b[32mv\u001b[39m \u001b[34mdplyr    \u001b[39m 1.1.4     \u001b[32mv\u001b[39m \u001b[34mreadr    \u001b[39m 2.1.5\n",
      "\u001b[32mv\u001b[39m \u001b[34mforcats  \u001b[39m 1.0.0     \u001b[32mv\u001b[39m \u001b[34mstringr  \u001b[39m 1.5.1\n",
      "\u001b[32mv\u001b[39m \u001b[34mggplot2  \u001b[39m 3.5.2     \u001b[32mv\u001b[39m \u001b[34mtibble   \u001b[39m 3.2.1\n",
      "\u001b[32mv\u001b[39m \u001b[34mlubridate\u001b[39m 1.9.4     \u001b[32mv\u001b[39m \u001b[34mtidyr    \u001b[39m 1.3.1\n",
      "\u001b[32mv\u001b[39m \u001b[34mpurrr    \u001b[39m 1.0.4     \n",
      "-- \u001b[1mConflicts\u001b[22m ------------------------------------------ tidyverse_conflicts() --\n",
      "\u001b[31mx\u001b[39m \u001b[34mdplyr\u001b[39m::\u001b[32mfilter()\u001b[39m masks \u001b[34mstats\u001b[39m::filter()\n",
      "\u001b[31mx\u001b[39m \u001b[34mdplyr\u001b[39m::\u001b[32mlag()\u001b[39m    masks \u001b[34mstats\u001b[39m::lag()\n",
      "\u001b[36mi\u001b[39m Use the conflicted package (\u001b[3m\u001b[34m<http://conflicted.r-lib.org/>\u001b[39m\u001b[23m) to force all conflicts to become errors\n",
      "Loading required package: mlr3\n",
      "\n"
     ]
    }
   ],
   "source": [
    "library(tidyverse)\n",
    "library(mlr3verse)"
   ]
  },
  {
   "cell_type": "code",
   "execution_count": null,
   "id": "d5258c56",
   "metadata": {
    "vscode": {
     "languageId": "r"
    }
   },
   "outputs": [
    {
     "data": {
      "text/plain": [
       "   user  system elapsed \n",
       "  0.327   0.084   0.532 "
      ]
     },
     "metadata": {},
     "output_type": "display_data"
    }
   ],
   "source": [
    "# set up a socket cluster with 4 workers on the local machine\n",
    "library(parallel)\n",
    "cores <- 4\n",
    "cl <- makeCluster(cores)\n",
    "\n",
    "# vector to operate on\n",
    "x <- 1:10000\n",
    "\n",
    "# fast function to parallelize\n",
    "f <- function(y) sqrt(y + 1)\n",
    "\n",
    "# unchunked approach: 1000 jobs\n",
    "system.time({parSapply(cl, x, f, chunk.size = 1)})\n",
    "\n",
    "# user  system elapsed \n",
    "#   0.327   0.084   0.532"
   ]
  },
  {
   "cell_type": "code",
   "execution_count": null,
   "id": "2f50287b",
   "metadata": {
    "vscode": {
     "languageId": "r"
    }
   },
   "outputs": [
    {
     "data": {
      "text/plain": [
       "   user  system elapsed \n",
       "  0.003   0.001   0.033 "
      ]
     },
     "metadata": {},
     "output_type": "display_data"
    }
   ],
   "source": [
    "system.time({parSapply(cl, x, f, chunk.size = 2500)})\n",
    "\n",
    "# user  system elapsed \n",
    "#   0.003   0.001   0.033"
   ]
  },
  {
   "cell_type": "markdown",
   "id": "c892eef7",
   "metadata": {},
   "source": [
    "## 学习器的并行化"
   ]
  },
  {
   "cell_type": "code",
   "execution_count": null,
   "id": "54eec15f",
   "metadata": {
    "vscode": {
     "languageId": "r"
    }
   },
   "outputs": [
    {
     "data": {
      "text/html": [
       "'num.threads'"
      ],
      "text/latex": [
       "'num.threads'"
      ],
      "text/markdown": [
       "'num.threads'"
      ],
      "text/plain": [
       "[1] \"num.threads\""
      ]
     },
     "metadata": {},
     "output_type": "display_data"
    }
   ],
   "source": [
    "lrn_ranger <- lrn(\"classif.ranger\")\n",
    "\n",
    "# 显示所有带有 \"threads\" 标签的超参数\n",
    "lrn_ranger$param_set$ids(tags = \"threads\")\n",
    "\n",
    "# [1] \"num.threads\""
   ]
  },
  {
   "cell_type": "code",
   "execution_count": null,
   "id": "0819a802",
   "metadata": {
    "vscode": {
     "languageId": "r"
    }
   },
   "outputs": [
    {
     "data": {
      "text/html": [
       "1"
      ],
      "text/latex": [
       "1"
      ],
      "text/markdown": [
       "1"
      ],
      "text/plain": [
       "[1] 1"
      ]
     },
     "metadata": {},
     "output_type": "display_data"
    }
   ],
   "source": [
    "# The number of threads is initialized to 1\n",
    "lrn_ranger$param_set$values$num.threads\n",
    "\n",
    "# [1] 1"
   ]
  },
  {
   "cell_type": "code",
   "execution_count": null,
   "id": "0dfc0773",
   "metadata": {
    "vscode": {
     "languageId": "r"
    }
   },
   "outputs": [
    {
     "data": {
      "text/plain": [
       "<LearnerClassifRanger:classif.ranger>: Random Forest\n",
       "* Model: -\n",
       "* Parameters: num.threads=4\n",
       "* Packages: mlr3, mlr3learners, ranger\n",
       "* Predict Types:  [response], prob\n",
       "* Feature Types: logical, integer, numeric, character, factor, ordered\n",
       "* Properties: hotstart_backward, importance, missings, multiclass,\n",
       "  oob_error, selected_features, twoclass, weights"
      ]
     },
     "metadata": {},
     "output_type": "display_data"
    }
   ],
   "source": [
    "# use four CPUs\n",
    "set_threads(lrn_ranger, n = 4)\n",
    "\n",
    "# <LearnerClassifRanger:classif.ranger>: Random Forest\n",
    "# * Model: -\n",
    "# * Parameters: num.threads=4\n",
    "# * Packages: mlr3, mlr3learners, ranger\n",
    "# * Predict Types:  [response], prob\n",
    "# * Feature Types: logical, integer, numeric, character, factor, ordered\n",
    "# * Properties: hotstart_backward, importance, missings, multiclass,\n",
    "#   oob_error, selected_features, twoclass, weights"
   ]
  },
  {
   "cell_type": "code",
   "execution_count": null,
   "id": "32dc96a2",
   "metadata": {
    "vscode": {
     "languageId": "r"
    }
   },
   "outputs": [
    {
     "data": {
      "text/plain": [
       "<LearnerClassifRanger:classif.ranger>: Random Forest\n",
       "* Model: -\n",
       "* Parameters: num.threads=8\n",
       "* Packages: mlr3, mlr3learners, ranger\n",
       "* Predict Types:  [response], prob\n",
       "* Feature Types: logical, integer, numeric, character, factor, ordered\n",
       "* Properties: hotstart_backward, importance, missings, multiclass,\n",
       "  oob_error, selected_features, twoclass, weights"
      ]
     },
     "metadata": {},
     "output_type": "display_data"
    }
   ],
   "source": [
    "# auto-detect cores on the local machine\n",
    "set_threads(lrn_ranger)\n",
    "\n",
    "# <LearnerClassifRanger:classif.ranger>: Random Forest\n",
    "# * Model: -\n",
    "# * Parameters: num.threads=8\n",
    "# * Packages: mlr3, mlr3learners, ranger\n",
    "# * Predict Types:  [response], prob\n",
    "# * Feature Types: logical, integer, numeric, character, factor, ordered\n",
    "# * Properties: hotstart_backward, importance, missings, multiclass,\n",
    "#   oob_error, selected_features, twoclass, weights"
   ]
  },
  {
   "cell_type": "markdown",
   "id": "e3480104",
   "metadata": {},
   "source": [
    "下面做一个有趣的试验，我们探索一下并行化能否节省时间："
   ]
  },
  {
   "cell_type": "code",
   "execution_count": 19,
   "id": "e24439d9",
   "metadata": {
    "vscode": {
     "languageId": "r"
    }
   },
   "outputs": [],
   "source": [
    "tsk_mtcars <- tsk(\"mtcars\")"
   ]
  },
  {
   "cell_type": "code",
   "execution_count": 21,
   "id": "30a93880",
   "metadata": {
    "vscode": {
     "languageId": "r"
    }
   },
   "outputs": [
    {
     "name": "stdout",
     "output_type": "stream",
     "text": [
      "Rows: 32\n",
      "Columns: 11\n",
      "$ mpg  \u001b[3m\u001b[90m<dbl>\u001b[39m\u001b[23m 21.0, 21.0, 22.8, 21.4, 18.7, 18.1, 14.3, 24.4, 22.8, 19.2, 17.8,~\n",
      "$ cyl  \u001b[3m\u001b[90m<dbl>\u001b[39m\u001b[23m 6, 6, 4, 6, 8, 6, 8, 4, 4, 6, 6, 8, 8, 8, 8, 8, 8, 4, 4, 4, 4, 8,~\n",
      "$ disp \u001b[3m\u001b[90m<dbl>\u001b[39m\u001b[23m 160.0, 160.0, 108.0, 258.0, 360.0, 225.0, 360.0, 146.7, 140.8, 16~\n",
      "$ hp   \u001b[3m\u001b[90m<dbl>\u001b[39m\u001b[23m 110, 110, 93, 110, 175, 105, 245, 62, 95, 123, 123, 180, 180, 180~\n",
      "$ drat \u001b[3m\u001b[90m<dbl>\u001b[39m\u001b[23m 3.90, 3.90, 3.85, 3.08, 3.15, 2.76, 3.21, 3.69, 3.92, 3.92, 3.92,~\n",
      "$ wt   \u001b[3m\u001b[90m<dbl>\u001b[39m\u001b[23m 2.620, 2.875, 2.320, 3.215, 3.440, 3.460, 3.570, 3.190, 3.150, 3.~\n",
      "$ qsec \u001b[3m\u001b[90m<dbl>\u001b[39m\u001b[23m 16.46, 17.02, 18.61, 19.44, 17.02, 20.22, 15.84, 20.00, 22.90, 18~\n",
      "$ vs   \u001b[3m\u001b[90m<dbl>\u001b[39m\u001b[23m 0, 0, 1, 1, 0, 1, 0, 1, 1, 1, 1, 0, 0, 0, 0, 0, 0, 1, 1, 1, 1, 0,~\n",
      "$ am   \u001b[3m\u001b[90m<dbl>\u001b[39m\u001b[23m 1, 1, 1, 0, 0, 0, 0, 0, 0, 0, 0, 0, 0, 0, 0, 0, 0, 1, 1, 1, 0, 0,~\n",
      "$ gear \u001b[3m\u001b[90m<dbl>\u001b[39m\u001b[23m 4, 4, 4, 3, 3, 3, 3, 4, 4, 4, 4, 3, 3, 3, 3, 3, 3, 4, 4, 4, 3, 3,~\n",
      "$ carb \u001b[3m\u001b[90m<dbl>\u001b[39m\u001b[23m 4, 4, 1, 1, 2, 1, 4, 2, 2, 4, 4, 3, 3, 3, 4, 4, 4, 1, 2, 1, 1, 2,~\n"
     ]
    }
   ],
   "source": [
    "mtcars %>% glimpse()"
   ]
  },
  {
   "cell_type": "code",
   "execution_count": null,
   "id": "25a80a8f",
   "metadata": {
    "vscode": {
     "languageId": "r"
    }
   },
   "outputs": [
    {
     "data": {
      "text/plain": [
       "   user  system elapsed \n",
       "  0.272   0.015   1.410 "
      ]
     },
     "metadata": {},
     "output_type": "display_data"
    },
    {
     "data": {
      "text/plain": [
       "   user  system elapsed \n",
       "  0.011   0.004   0.008 "
      ]
     },
     "metadata": {},
     "output_type": "display_data"
    }
   ],
   "source": [
    "lrn_ranger <- lrn(\"regr.ranger\")\n",
    "\n",
    "lrn_ranger_c4 <- lrn(\"regr.ranger\", num.threads = 4)\n",
    "\n",
    "# 比较两个模型在mtcars数据集上的训练时间\n",
    "system.time({\n",
    "  lrn_ranger$train(tsk_mtcars)\n",
    "})\n",
    "system.time({\n",
    "  lrn_ranger_c4$train(tsk_mtcars)\n",
    "})\n",
    "\n",
    "# user  system elapsed \n",
    "#   0.272   0.015   1.410\n",
    "# user  system elapsed \n",
    "#   0.011   0.004   0.008 "
   ]
  },
  {
   "cell_type": "code",
   "execution_count": null,
   "id": "cde9d484",
   "metadata": {
    "vscode": {
     "languageId": "r"
    }
   },
   "outputs": [
    {
     "name": "stdout",
     "output_type": "stream",
     "text": [
      "INFO  [09:02:30.945] [mlr3] Running benchmark with 6 resampling iterations\n",
      "INFO  [09:02:30.988] [mlr3] Applying learner 'ranger' on task 'mtcars' (iter 1/3)\n",
      "INFO  [09:02:31.037] [mlr3] Applying learner 'ranger' on task 'mtcars' (iter 2/3)\n",
      "INFO  [09:02:31.109] [mlr3] Applying learner 'ranger' on task 'mtcars' (iter 3/3)\n",
      "INFO  [09:02:31.149] [mlr3] Applying learner 'ranger_c4' on task 'mtcars' (iter 1/3)\n",
      "INFO  [09:02:31.182] [mlr3] Applying learner 'ranger_c4' on task 'mtcars' (iter 2/3)\n",
      "INFO  [09:02:31.219] [mlr3] Applying learner 'ranger_c4' on task 'mtcars' (iter 3/3)\n",
      "INFO  [09:02:31.246] [mlr3] Finished benchmark\n"
     ]
    },
    {
     "data": {
      "text/html": [
       "<table class=\"dataframe\">\n",
       "<caption>A bmr_aggregate: 2 x 8</caption>\n",
       "<thead>\n",
       "\t<tr><th scope=col>nr</th><th scope=col>resample_result</th><th scope=col>task_id</th><th scope=col>learner_id</th><th scope=col>resampling_id</th><th scope=col>iters</th><th scope=col>time_train</th><th scope=col>regr.mse</th></tr>\n",
       "\t<tr><th scope=col>&lt;int&gt;</th><th scope=col>&lt;list&gt;</th><th scope=col>&lt;chr&gt;</th><th scope=col>&lt;chr&gt;</th><th scope=col>&lt;chr&gt;</th><th scope=col>&lt;int&gt;</th><th scope=col>&lt;dbl&gt;</th><th scope=col>&lt;dbl&gt;</th></tr>\n",
       "</thead>\n",
       "<tbody>\n",
       "\t<tr><td>1</td><td>&lt;environment: 0x15019e9e0&gt;</td><td>mtcars</td><td><span style=white-space:pre-wrap>ranger   </span></td><td>cv</td><td>3</td><td>0.025000000</td><td>7.968369</td></tr>\n",
       "\t<tr><td>2</td><td>&lt;environment: 0x1501cbe28&gt;</td><td>mtcars</td><td>ranger_c4</td><td>cv</td><td>3</td><td>0.007333333</td><td>8.010708</td></tr>\n",
       "</tbody>\n",
       "</table>\n"
      ],
      "text/latex": [
       "A bmr\\_aggregate: 2 x 8\n",
       "\\begin{tabular}{llllllll}\n",
       " nr & resample\\_result & task\\_id & learner\\_id & resampling\\_id & iters & time\\_train & regr.mse\\\\\n",
       " <int> & <list> & <chr> & <chr> & <chr> & <int> & <dbl> & <dbl>\\\\\n",
       "\\hline\n",
       "\t 1 & <environment: 0x15019e9e0> & mtcars & ranger    & cv & 3 & 0.025000000 & 7.968369\\\\\n",
       "\t 2 & <environment: 0x1501cbe28> & mtcars & ranger\\_c4 & cv & 3 & 0.007333333 & 8.010708\\\\\n",
       "\\end{tabular}\n"
      ],
      "text/markdown": [
       "\n",
       "A bmr_aggregate: 2 x 8\n",
       "\n",
       "| nr &lt;int&gt; | resample_result &lt;list&gt; | task_id &lt;chr&gt; | learner_id &lt;chr&gt; | resampling_id &lt;chr&gt; | iters &lt;int&gt; | time_train &lt;dbl&gt; | regr.mse &lt;dbl&gt; |\n",
       "|---|---|---|---|---|---|---|---|\n",
       "| 1 | &lt;environment: 0x15019e9e0&gt; | mtcars | ranger    | cv | 3 | 0.025000000 | 7.968369 |\n",
       "| 2 | &lt;environment: 0x1501cbe28&gt; | mtcars | ranger_c4 | cv | 3 | 0.007333333 | 8.010708 |\n",
       "\n"
      ],
      "text/plain": [
       "  nr resample_result            task_id learner_id resampling_id iters\n",
       "1 1  <environment: 0x15019e9e0> mtcars  ranger     cv            3    \n",
       "2 2  <environment: 0x1501cbe28> mtcars  ranger_c4  cv            3    \n",
       "  time_train  regr.mse\n",
       "1 0.025000000 7.968369\n",
       "2 0.007333333 8.010708"
      ]
     },
     "metadata": {},
     "output_type": "display_data"
    }
   ],
   "source": [
    "# 基于benchmark比较训练时间\n",
    "tsk_mtcars <- tsk(\"mtcars\")\n",
    "lrn_ranger <- lrn(\"regr.ranger\")\n",
    "lrn_ranger$id <- \"ranger\"\n",
    "lrn_ranger_c4 <- lrn(\"regr.ranger\", num.threads = 4)\n",
    "lrn_ranger_c4$id <- \"ranger_c4\"\n",
    "bmr <- benchmark(benchmark_grid(\n",
    "  tasks = tsk_mtcars,\n",
    "  learners = list(lrn_ranger, lrn_ranger_c4),\n",
    "  resamplings = rsmp(\"cv\", folds = 3)\n",
    "))\n",
    "bmr$aggregate(msrs(c(\"time_train\", \"regr.mse\")))\n",
    "\n",
    "# nr resample_result            task_id learner_id resampling_id iters\n",
    "# 1 1  <environment: 0x15019e9e0> mtcars  ranger     cv            3    \n",
    "# 2 2  <environment: 0x1501cbe28> mtcars  ranger_c4  cv            3    \n",
    "#   time_train  regr.mse\n",
    "# 1 0.025000000 7.968369\n",
    "# 2 0.007333333 8.010708"
   ]
  },
  {
   "cell_type": "code",
   "execution_count": 42,
   "id": "ff226783",
   "metadata": {
    "vscode": {
     "languageId": "r"
    }
   },
   "outputs": [
    {
     "name": "stdout",
     "output_type": "stream",
     "text": [
      "INFO  [09:08:06.016] [mlr3] Applying learner 'classif.ranger' on task 'sonar' (iter 1/3)\n",
      "INFO  [09:08:06.160] [mlr3] Applying learner 'classif.ranger' on task 'sonar' (iter 2/3)\n",
      "INFO  [09:08:06.304] [mlr3] Applying learner 'classif.ranger' on task 'sonar' (iter 3/3)\n"
     ]
    },
    {
     "data": {
      "text/plain": [
       "   user  system elapsed \n",
       "  0.070   0.003   0.916 "
      ]
     },
     "metadata": {},
     "output_type": "display_data"
    }
   ],
   "source": [
    "library(future)\n",
    "\n",
    "plan(multisession, workers = 4)\n",
    "\n",
    "tsk_sonar <- tsk(\"sonar\")\n",
    "lrn_raprt <- lrn(\"classif.ranger\")\n",
    "rsmp_cv3 <- rsmp(\"cv\", folds = 3)\n",
    "system.time({\n",
    "  resample(\n",
    "    task = tsk_sonar,\n",
    "    learner = lrn_raprt,\n",
    "    resampling = rsmp_cv3,\n",
    "  )\n",
    "})"
   ]
  },
  {
   "cell_type": "code",
   "execution_count": 44,
   "id": "d0b02895",
   "metadata": {
    "vscode": {
     "languageId": "r"
    }
   },
   "outputs": [
    {
     "name": "stdout",
     "output_type": "stream",
     "text": [
      "INFO  [09:11:41.600] [mlr3] Applying learner 'classif.ranger' on task 'sonar' (iter 1/3)\n",
      "INFO  [09:11:41.654] [mlr3] Applying learner 'classif.ranger' on task 'sonar' (iter 2/3)\n",
      "INFO  [09:11:41.703] [mlr3] Applying learner 'classif.ranger' on task 'sonar' (iter 3/3)\n"
     ]
    },
    {
     "data": {
      "text/plain": [
       "   user  system elapsed \n",
       "  0.155   0.012   0.161 "
      ]
     },
     "metadata": {},
     "output_type": "display_data"
    }
   ],
   "source": [
    "plan(sequential)\n",
    "\n",
    "tsk_sonar <- tsk(\"sonar\")\n",
    "lrn_raprt <- lrn(\"classif.ranger\")\n",
    "rsmp_cv3 <- rsmp(\"cv\", folds = 3)\n",
    "\n",
    "system.time({\n",
    "  resample(\n",
    "    task = tsk_sonar,\n",
    "    learner = lrn_raprt,\n",
    "    resampling = rsmp_cv3\n",
    "  )\n",
    "})"
   ]
  },
  {
   "cell_type": "markdown",
   "id": "5b7b6c0f",
   "metadata": {},
   "source": [
    "## 重采样与基准测试的并行化"
   ]
  },
  {
   "cell_type": "code",
   "execution_count": null,
   "id": "829d444c",
   "metadata": {
    "vscode": {
     "languageId": "r"
    }
   },
   "outputs": [
    {
     "name": "stdout",
     "output_type": "stream",
     "text": [
      "INFO  [08:07:23.568] [mlr3] Applying learner 'classif.rpart' on task 'sonar' (iter 1/3)\n",
      "INFO  [08:07:23.736] [mlr3] Applying learner 'classif.rpart' on task 'sonar' (iter 2/3)\n",
      "INFO  [08:07:23.867] [mlr3] Applying learner 'classif.rpart' on task 'sonar' (iter 3/3)\n"
     ]
    },
    {
     "data": {
      "text/plain": [
       "   user  system elapsed \n",
       "  0.111   0.003   0.470 "
      ]
     },
     "metadata": {},
     "output_type": "display_data"
    }
   ],
   "source": [
    "library(future)\n",
    "\n",
    "# Select the multisession backend\n",
    "plan(multisession)\n",
    "\n",
    "# Run the experiment\n",
    "tsk_sonar <- tsk(\"sonar\")\n",
    "lrn_rpart <- lrn(\"classif.rpart\")\n",
    "rsmp_cv3 <- rsmp(\"cv\", folds = 3)\n",
    "system.time({\n",
    "  resample(tsk_sonar, lrn_rpart, rsmp_cv3)\n",
    "})\n",
    "\n",
    "# user  system elapsed \n",
    "#   0.111   0.003   0.470"
   ]
  },
  {
   "cell_type": "code",
   "execution_count": 12,
   "id": "aa6b49f3",
   "metadata": {
    "vscode": {
     "languageId": "r"
    }
   },
   "outputs": [
    {
     "name": "stdout",
     "output_type": "stream",
     "text": [
      "INFO  [08:23:20.711] [mlr3] Running benchmark with 12 resampling iterations\n",
      "INFO  [08:23:20.851] [mlr3] Applying learner 'classif.featureless' on task 'sonar' (iter 1/3)\n",
      "INFO  [08:23:21.031] [mlr3] Applying learner 'classif.featureless' on task 'sonar' (iter 2/3)\n",
      "INFO  [08:23:21.166] [mlr3] Applying learner 'classif.featureless' on task 'sonar' (iter 3/3)\n",
      "INFO  [08:23:21.296] [mlr3] Applying learner 'classif.rpart' on task 'sonar' (iter 1/3)\n",
      "INFO  [08:23:21.427] [mlr3] Applying learner 'classif.rpart' on task 'sonar' (iter 2/3)\n",
      "INFO  [08:23:21.562] [mlr3] Applying learner 'classif.rpart' on task 'sonar' (iter 3/3)\n",
      "INFO  [08:23:21.714] [mlr3] Applying learner 'classif.featureless' on task 'penguins' (iter 1/3)\n",
      "INFO  [08:23:21.844] [mlr3] Applying learner 'classif.featureless' on task 'penguins' (iter 2/3)\n",
      "INFO  [08:23:21.873] [mlr3] Applying learner 'classif.featureless' on task 'penguins' (iter 3/3)\n",
      "INFO  [08:23:21.936] [mlr3] Applying learner 'classif.rpart' on task 'penguins' (iter 1/3)\n",
      "INFO  [08:23:21.987] [mlr3] Applying learner 'classif.rpart' on task 'penguins' (iter 2/3)\n",
      "INFO  [08:23:22.040] [mlr3] Applying learner 'classif.rpart' on task 'penguins' (iter 3/3)\n",
      "INFO  [08:23:22.065] [mlr3] Finished benchmark\n"
     ]
    }
   ],
   "source": [
    "# simple benchmark design\n",
    "design <- benchmark_grid(\n",
    "  tsks(c(\"sonar\", \"penguins\")),\n",
    "  lrns(c(\"classif.featureless\", \"classif.rpart\")),\n",
    "  rsmp_cv3\n",
    ")\n",
    "\n",
    "# enable parallelization\n",
    "future::plan(\"multisession\")\n",
    "\n",
    "# run benchmark in parallel\n",
    "bmr <- benchmark(design)"
   ]
  },
  {
   "cell_type": "code",
   "execution_count": 45,
   "id": "c5c8cc2d",
   "metadata": {
    "vscode": {
     "languageId": "r"
    }
   },
   "outputs": [
    {
     "name": "stdout",
     "output_type": "stream",
     "text": [
      "INFO  [09:12:38.620] [mlr3] Running benchmark with 12 resampling iterations\n",
      "INFO  [09:12:38.745] [mlr3] Applying learner 'classif.featureless' on task 'sonar' (iter 1/3)\n",
      "INFO  [09:12:38.919] [mlr3] Applying learner 'classif.featureless' on task 'sonar' (iter 2/3)\n",
      "INFO  [09:12:39.050] [mlr3] Applying learner 'classif.featureless' on task 'sonar' (iter 3/3)\n",
      "INFO  [09:12:39.191] [mlr3] Applying learner 'classif.rpart' on task 'sonar' (iter 1/3)\n",
      "INFO  [09:12:39.321] [mlr3] Applying learner 'classif.rpart' on task 'sonar' (iter 2/3)\n",
      "INFO  [09:12:39.450] [mlr3] Applying learner 'classif.rpart' on task 'sonar' (iter 3/3)\n",
      "INFO  [09:12:39.584] [mlr3] Applying learner 'classif.featureless' on task 'penguins' (iter 1/3)\n",
      "INFO  [09:12:39.713] [mlr3] Applying learner 'classif.featureless' on task 'penguins' (iter 2/3)\n",
      "INFO  [09:12:39.743] [mlr3] Applying learner 'classif.featureless' on task 'penguins' (iter 3/3)\n",
      "INFO  [09:12:39.790] [mlr3] Applying learner 'classif.rpart' on task 'penguins' (iter 1/3)\n",
      "INFO  [09:12:39.841] [mlr3] Applying learner 'classif.rpart' on task 'penguins' (iter 2/3)\n",
      "INFO  [09:12:39.885] [mlr3] Applying learner 'classif.rpart' on task 'penguins' (iter 3/3)\n",
      "INFO  [09:12:39.905] [mlr3] Finished benchmark\n"
     ]
    },
    {
     "data": {
      "text/plain": [
       "   user  system elapsed \n",
       "  0.396   0.010   1.294 "
      ]
     },
     "metadata": {},
     "output_type": "display_data"
    }
   ],
   "source": [
    "# simple benchmark design\n",
    "design <- benchmark_grid(\n",
    "  tsks(c(\"sonar\", \"penguins\")),\n",
    "  lrns(c(\"classif.featureless\", \"classif.rpart\")),\n",
    "  rsmp_cv3\n",
    ")\n",
    "\n",
    "plan(\"multisession\")\n",
    "\n",
    "system.time({\n",
    "  bmr <- benchmark(design)\n",
    "})"
   ]
  },
  {
   "cell_type": "code",
   "execution_count": 47,
   "id": "6e58c284",
   "metadata": {
    "vscode": {
     "languageId": "r"
    }
   },
   "outputs": [
    {
     "name": "stdout",
     "output_type": "stream",
     "text": [
      "INFO  [09:13:08.683] [mlr3] Running benchmark with 12 resampling iterations\n",
      "INFO  [09:13:08.685] [mlr3] Applying learner 'classif.featureless' on task 'sonar' (iter 1/3)\n",
      "INFO  [09:13:08.690] [mlr3] Applying learner 'classif.featureless' on task 'sonar' (iter 2/3)\n",
      "INFO  [09:13:08.695] [mlr3] Applying learner 'classif.featureless' on task 'sonar' (iter 3/3)\n",
      "INFO  [09:13:08.699] [mlr3] Applying learner 'classif.rpart' on task 'sonar' (iter 1/3)\n",
      "INFO  [09:13:08.708] [mlr3] Applying learner 'classif.rpart' on task 'sonar' (iter 2/3)\n",
      "INFO  [09:13:08.717] [mlr3] Applying learner 'classif.rpart' on task 'sonar' (iter 3/3)\n",
      "INFO  [09:13:08.726] [mlr3] Applying learner 'classif.featureless' on task 'penguins' (iter 1/3)\n",
      "INFO  [09:13:08.730] [mlr3] Applying learner 'classif.featureless' on task 'penguins' (iter 2/3)\n",
      "INFO  [09:13:08.734] [mlr3] Applying learner 'classif.featureless' on task 'penguins' (iter 3/3)\n",
      "INFO  [09:13:08.738] [mlr3] Applying learner 'classif.rpart' on task 'penguins' (iter 1/3)\n",
      "INFO  [09:13:08.745] [mlr3] Applying learner 'classif.rpart' on task 'penguins' (iter 2/3)\n",
      "INFO  [09:13:08.751] [mlr3] Applying learner 'classif.rpart' on task 'penguins' (iter 3/3)\n",
      "INFO  [09:13:08.758] [mlr3] Finished benchmark\n"
     ]
    },
    {
     "data": {
      "text/plain": [
       "   user  system elapsed \n",
       "  0.081   0.002   0.084 "
      ]
     },
     "metadata": {},
     "output_type": "display_data"
    }
   ],
   "source": [
    "plan(\"sequential\")\n",
    "\n",
    "system.time({\n",
    "  bmr <- benchmark(design)\n",
    "})"
   ]
  },
  {
   "cell_type": "markdown",
   "id": "ec8ddb47",
   "metadata": {},
   "source": [
    "## 调优并行化"
   ]
  },
  {
   "cell_type": "code",
   "execution_count": null,
   "id": "460f168c",
   "metadata": {
    "vscode": {
     "languageId": "r"
    }
   },
   "outputs": [
    {
     "name": "stdout",
     "output_type": "stream",
     "text": [
      "INFO  [08:26:56.547] [bbotk] Starting to optimize 1 parameter(s) with '<OptimizerBatchRandomSearch>' and '<TerminatorEvals> [n_evals=20, k=0]'\n",
      "INFO  [08:26:56.554] [bbotk] Evaluating 12 configuration(s)\n",
      "INFO  [08:26:56.558] [mlr3] Running benchmark with 36 resampling iterations\n",
      "INFO  [08:26:56.680] [mlr3] Applying learner 'classif.rpart' on task 'penguins' (iter 1/3)\n",
      "INFO  [08:26:56.837] [mlr3] Applying learner 'classif.rpart' on task 'penguins' (iter 2/3)\n",
      "INFO  [08:26:56.950] [mlr3] Applying learner 'classif.rpart' on task 'penguins' (iter 3/3)\n",
      "INFO  [08:26:57.061] [mlr3] Applying learner 'classif.rpart' on task 'penguins' (iter 1/3)\n",
      "INFO  [08:26:57.076] [mlr3] Applying learner 'classif.rpart' on task 'penguins' (iter 2/3)\n",
      "INFO  [08:26:57.105] [mlr3] Applying learner 'classif.rpart' on task 'penguins' (iter 3/3)\n",
      "INFO  [08:26:57.142] [mlr3] Applying learner 'classif.rpart' on task 'penguins' (iter 1/3)\n",
      "INFO  [08:26:57.176] [mlr3] Applying learner 'classif.rpart' on task 'penguins' (iter 2/3)\n",
      "INFO  [08:26:57.165] [mlr3] Applying learner 'classif.rpart' on task 'penguins' (iter 3/3)\n",
      "INFO  [08:26:57.197] [mlr3] Applying learner 'classif.rpart' on task 'penguins' (iter 1/3)\n",
      "INFO  [08:26:57.227] [mlr3] Applying learner 'classif.rpart' on task 'penguins' (iter 2/3)\n",
      "INFO  [08:26:57.258] [mlr3] Applying learner 'classif.rpart' on task 'penguins' (iter 3/3)\n",
      "INFO  [08:26:57.290] [mlr3] Applying learner 'classif.rpart' on task 'penguins' (iter 1/3)\n",
      "INFO  [08:26:57.321] [mlr3] Applying learner 'classif.rpart' on task 'penguins' (iter 2/3)\n",
      "INFO  [08:26:57.352] [mlr3] Applying learner 'classif.rpart' on task 'penguins' (iter 3/3)\n",
      "INFO  [08:26:57.382] [mlr3] Applying learner 'classif.rpart' on task 'penguins' (iter 1/3)\n",
      "INFO  [08:26:57.416] [mlr3] Applying learner 'classif.rpart' on task 'penguins' (iter 2/3)\n",
      "INFO  [08:26:57.447] [mlr3] Applying learner 'classif.rpart' on task 'penguins' (iter 3/3)\n",
      "INFO  [08:26:57.476] [mlr3] Applying learner 'classif.rpart' on task 'penguins' (iter 1/3)\n",
      "INFO  [08:26:57.506] [mlr3] Applying learner 'classif.rpart' on task 'penguins' (iter 2/3)\n",
      "INFO  [08:26:57.537] [mlr3] Applying learner 'classif.rpart' on task 'penguins' (iter 3/3)\n",
      "INFO  [08:26:57.567] [mlr3] Applying learner 'classif.rpart' on task 'penguins' (iter 1/3)\n",
      "INFO  [08:26:57.596] [mlr3] Applying learner 'classif.rpart' on task 'penguins' (iter 2/3)\n",
      "INFO  [08:26:57.626] [mlr3] Applying learner 'classif.rpart' on task 'penguins' (iter 3/3)\n",
      "INFO  [08:26:57.656] [mlr3] Applying learner 'classif.rpart' on task 'penguins' (iter 1/3)\n",
      "INFO  [08:26:57.686] [mlr3] Applying learner 'classif.rpart' on task 'penguins' (iter 2/3)\n",
      "INFO  [08:26:57.716] [mlr3] Applying learner 'classif.rpart' on task 'penguins' (iter 3/3)\n",
      "INFO  [08:26:57.745] [mlr3] Applying learner 'classif.rpart' on task 'penguins' (iter 1/3)\n",
      "INFO  [08:26:57.775] [mlr3] Applying learner 'classif.rpart' on task 'penguins' (iter 2/3)\n",
      "INFO  [08:26:57.805] [mlr3] Applying learner 'classif.rpart' on task 'penguins' (iter 3/3)\n",
      "INFO  [08:26:57.835] [mlr3] Applying learner 'classif.rpart' on task 'penguins' (iter 1/3)\n",
      "INFO  [08:26:57.862] [mlr3] Applying learner 'classif.rpart' on task 'penguins' (iter 2/3)\n",
      "INFO  [08:26:57.892] [mlr3] Applying learner 'classif.rpart' on task 'penguins' (iter 3/3)\n",
      "INFO  [08:26:57.923] [mlr3] Applying learner 'classif.rpart' on task 'penguins' (iter 1/3)\n",
      "INFO  [08:26:57.952] [mlr3] Applying learner 'classif.rpart' on task 'penguins' (iter 2/3)\n",
      "INFO  [08:26:57.982] [mlr3] Applying learner 'classif.rpart' on task 'penguins' (iter 3/3)\n",
      "INFO  [08:26:57.989] [mlr3] Finished benchmark\n",
      "INFO  [08:26:58.056] [bbotk] Result of batch 1:\n",
      "INFO  [08:26:58.059] [bbotk]  minsplit classif.ce warnings errors runtime_learners\n",
      "INFO  [08:26:58.059] [bbotk]       105 0.05814900        0      0            0.020\n",
      "INFO  [08:26:58.059] [bbotk]        73 0.05814900        0      0            0.015\n",
      "INFO  [08:26:58.059] [bbotk]       113 0.05814900        0      0            0.007\n",
      "INFO  [08:26:58.059] [bbotk]        67 0.05814900        0      0            0.009\n",
      "INFO  [08:26:58.059] [bbotk]        41 0.05814900        0      0            0.013\n",
      "INFO  [08:26:58.059] [bbotk]       102 0.05814900        0      0            0.010\n",
      "INFO  [08:26:58.059] [bbotk]        48 0.05814900        0      0            0.007\n",
      "INFO  [08:26:58.059] [bbotk]       117 0.05814900        0      0            0.006\n",
      "INFO  [08:26:58.059] [bbotk]       106 0.05814900        0      0            0.009\n",
      "INFO  [08:26:58.059] [bbotk]       119 0.05814900        0      0            0.009\n",
      "INFO  [08:26:58.059] [bbotk]         2 0.03193491        0      0            0.007\n",
      "INFO  [08:26:58.059] [bbotk]        63 0.05814900        0      0            0.007\n",
      "INFO  [08:26:58.059] [bbotk]                                 uhash\n",
      "INFO  [08:26:58.059] [bbotk]  2a5c336a-1d06-4e2a-8619-ce49fe74f555\n",
      "INFO  [08:26:58.059] [bbotk]  353a5e8f-0c2e-40d4-9b34-141c6bdf68d3\n",
      "INFO  [08:26:58.059] [bbotk]  cf8a1e8c-1364-486b-b3ab-381d585fc461\n",
      "INFO  [08:26:58.059] [bbotk]  a7cec078-40dc-473d-886e-53b1b1ce60a7\n",
      "INFO  [08:26:58.059] [bbotk]  ec9158f6-93ef-499d-874e-a5cd012cb99b\n",
      "INFO  [08:26:58.059] [bbotk]  f9448afd-1e1d-4d33-8fc6-33ec68b4fc4d\n",
      "INFO  [08:26:58.059] [bbotk]  dd99ac45-6084-42ab-a1c7-faa5143ce11d\n",
      "INFO  [08:26:58.059] [bbotk]  8b6c2744-f888-43b5-9e80-9675c1339a72\n",
      "INFO  [08:26:58.059] [bbotk]  651b62f9-2786-47d8-aae9-4da827a1d724\n",
      "INFO  [08:26:58.059] [bbotk]  319dc368-4c9d-429c-b76f-36c32168ffb9\n",
      "INFO  [08:26:58.059] [bbotk]  04c3e453-1e5d-4ecd-81ac-4ff091ced40b\n",
      "INFO  [08:26:58.059] [bbotk]  a60d5e12-c165-420b-8ba3-2a99395d62f7\n",
      "INFO  [08:26:58.062] [bbotk] Evaluating 12 configuration(s)\n",
      "INFO  [08:26:58.065] [mlr3] Running benchmark with 36 resampling iterations\n",
      "INFO  [08:26:58.085] [mlr3] Applying learner 'classif.rpart' on task 'penguins' (iter 1/3)\n",
      "INFO  [08:26:58.102] [mlr3] Applying learner 'classif.rpart' on task 'penguins' (iter 2/3)\n",
      "INFO  [08:26:58.119] [mlr3] Applying learner 'classif.rpart' on task 'penguins' (iter 3/3)\n",
      "INFO  [08:26:58.136] [mlr3] Applying learner 'classif.rpart' on task 'penguins' (iter 1/3)\n",
      "INFO  [08:26:58.168] [mlr3] Applying learner 'classif.rpart' on task 'penguins' (iter 2/3)\n",
      "INFO  [08:26:58.199] [mlr3] Applying learner 'classif.rpart' on task 'penguins' (iter 3/3)\n",
      "INFO  [08:26:58.231] [mlr3] Applying learner 'classif.rpart' on task 'penguins' (iter 1/3)\n",
      "INFO  [08:26:58.263] [mlr3] Applying learner 'classif.rpart' on task 'penguins' (iter 2/3)\n",
      "INFO  [08:26:58.293] [mlr3] Applying learner 'classif.rpart' on task 'penguins' (iter 3/3)\n",
      "INFO  [08:26:58.322] [mlr3] Applying learner 'classif.rpart' on task 'penguins' (iter 1/3)\n",
      "INFO  [08:26:58.352] [mlr3] Applying learner 'classif.rpart' on task 'penguins' (iter 2/3)\n",
      "INFO  [08:26:58.386] [mlr3] Applying learner 'classif.rpart' on task 'penguins' (iter 3/3)\n",
      "INFO  [08:26:58.416] [mlr3] Applying learner 'classif.rpart' on task 'penguins' (iter 1/3)\n",
      "INFO  [08:26:58.445] [mlr3] Applying learner 'classif.rpart' on task 'penguins' (iter 2/3)\n",
      "INFO  [08:26:58.475] [mlr3] Applying learner 'classif.rpart' on task 'penguins' (iter 3/3)\n",
      "INFO  [08:26:58.504] [mlr3] Applying learner 'classif.rpart' on task 'penguins' (iter 1/3)\n",
      "INFO  [08:26:58.533] [mlr3] Applying learner 'classif.rpart' on task 'penguins' (iter 2/3)\n",
      "INFO  [08:26:58.561] [mlr3] Applying learner 'classif.rpart' on task 'penguins' (iter 3/3)\n",
      "INFO  [08:26:58.588] [mlr3] Applying learner 'classif.rpart' on task 'penguins' (iter 1/3)\n",
      "INFO  [08:26:58.618] [mlr3] Applying learner 'classif.rpart' on task 'penguins' (iter 2/3)\n",
      "INFO  [08:26:58.648] [mlr3] Applying learner 'classif.rpart' on task 'penguins' (iter 3/3)\n",
      "INFO  [08:26:58.676] [mlr3] Applying learner 'classif.rpart' on task 'penguins' (iter 1/3)\n",
      "INFO  [08:26:58.705] [mlr3] Applying learner 'classif.rpart' on task 'penguins' (iter 2/3)\n",
      "INFO  [08:26:58.735] [mlr3] Applying learner 'classif.rpart' on task 'penguins' (iter 3/3)\n",
      "INFO  [08:26:58.763] [mlr3] Applying learner 'classif.rpart' on task 'penguins' (iter 1/3)\n",
      "INFO  [08:26:58.793] [mlr3] Applying learner 'classif.rpart' on task 'penguins' (iter 2/3)\n",
      "INFO  [08:26:58.823] [mlr3] Applying learner 'classif.rpart' on task 'penguins' (iter 3/3)\n",
      "INFO  [08:26:58.852] [mlr3] Applying learner 'classif.rpart' on task 'penguins' (iter 1/3)\n",
      "INFO  [08:26:58.885] [mlr3] Applying learner 'classif.rpart' on task 'penguins' (iter 2/3)\n",
      "INFO  [08:26:58.918] [mlr3] Applying learner 'classif.rpart' on task 'penguins' (iter 3/3)\n",
      "INFO  [08:26:58.946] [mlr3] Applying learner 'classif.rpart' on task 'penguins' (iter 1/3)\n",
      "INFO  [08:26:58.976] [mlr3] Applying learner 'classif.rpart' on task 'penguins' (iter 2/3)\n",
      "INFO  [08:26:59.005] [mlr3] Applying learner 'classif.rpart' on task 'penguins' (iter 3/3)\n",
      "INFO  [08:26:59.035] [mlr3] Applying learner 'classif.rpart' on task 'penguins' (iter 1/3)\n",
      "INFO  [08:26:59.064] [mlr3] Applying learner 'classif.rpart' on task 'penguins' (iter 2/3)\n",
      "INFO  [08:26:59.093] [mlr3] Applying learner 'classif.rpart' on task 'penguins' (iter 3/3)\n",
      "INFO  [08:26:59.099] [mlr3] Finished benchmark\n",
      "INFO  [08:26:59.156] [bbotk] Result of batch 2:\n",
      "INFO  [08:26:59.158] [bbotk]  minsplit classif.ce warnings errors runtime_learners\n",
      "INFO  [08:26:59.158] [bbotk]        24 0.05814900        0      0            0.008\n",
      "INFO  [08:26:59.158] [bbotk]        58 0.05814900        0      0            0.009\n",
      "INFO  [08:26:59.158] [bbotk]       103 0.05814900        0      0            0.007\n",
      "INFO  [08:26:59.158] [bbotk]        22 0.05814900        0      0            0.007\n",
      "INFO  [08:26:59.158] [bbotk]        91 0.05814900        0      0            0.008\n",
      "INFO  [08:26:59.158] [bbotk]        90 0.05814900        0      0            0.010\n",
      "INFO  [08:26:59.158] [bbotk]        34 0.05814900        0      0            0.007\n",
      "INFO  [08:26:59.158] [bbotk]        86 0.05814900        0      0            0.007\n",
      "INFO  [08:26:59.158] [bbotk]       121 0.05814900        0      0            0.007\n",
      "INFO  [08:26:59.158] [bbotk]        17 0.05814900        0      0            0.006\n",
      "INFO  [08:26:59.158] [bbotk]       125 0.06104755        0      0            0.008\n",
      "INFO  [08:26:59.158] [bbotk]        69 0.05814900        0      0            0.008\n",
      "INFO  [08:26:59.158] [bbotk]                                 uhash\n",
      "INFO  [08:26:59.158] [bbotk]  26620561-fee9-4360-ac68-89646818450b\n",
      "INFO  [08:26:59.158] [bbotk]  8cfb23c7-a878-43c4-bb76-9ef3f3ea97ee\n",
      "INFO  [08:26:59.158] [bbotk]  ac46ddcb-99af-410e-b797-b1443fe9a161\n",
      "INFO  [08:26:59.158] [bbotk]  ec4af5f1-950a-47ba-8d78-07fea0ef6ff2\n",
      "INFO  [08:26:59.158] [bbotk]  4d833d31-4bbb-4359-a116-435f77156991\n",
      "INFO  [08:26:59.158] [bbotk]  c7674a39-e5ce-44e2-a8ce-b07e5f8eedd1\n",
      "INFO  [08:26:59.158] [bbotk]  22a06c2a-21bd-4838-b0d6-37354ecfd3c4\n",
      "INFO  [08:26:59.158] [bbotk]  921566a5-3adb-4e95-8926-1dbcc8c86e9e\n",
      "INFO  [08:26:59.158] [bbotk]  296efefa-2c84-4d01-ac49-8452fbd3d364\n",
      "INFO  [08:26:59.158] [bbotk]  49c0fd7b-373f-4473-846b-f03e8d93ec99\n",
      "INFO  [08:26:59.158] [bbotk]  ec020acb-776c-41a9-839d-671c21f94333\n",
      "INFO  [08:26:59.158] [bbotk]  2830162b-beeb-4e29-9c6b-35b454570b7c\n",
      "INFO  [08:26:59.166] [bbotk] Finished optimizing after 24 evaluation(s)\n",
      "INFO  [08:26:59.167] [bbotk] Result:\n",
      "INFO  [08:26:59.168] [bbotk]  minsplit learner_param_vals  x_domain classif.ce\n",
      "INFO  [08:26:59.168] [bbotk]     <int>             <list>    <list>      <num>\n",
      "INFO  [08:26:59.168] [bbotk]         2          <list[2]> <list[1]> 0.03193491\n"
     ]
    },
    {
     "data": {
      "text/html": [
       "24"
      ],
      "text/latex": [
       "24"
      ],
      "text/markdown": [
       "24"
      ],
      "text/plain": [
       "[1] 24"
      ]
     },
     "metadata": {},
     "output_type": "display_data"
    }
   ],
   "source": [
    "future::plan(\"multisession\", workers = 4)\n",
    "\n",
    "instance <- tune(\n",
    "  tnr(\"random_search\", batch_size = 12),\n",
    "  tsk(\"penguins\"),\n",
    "  lrn(\"classif.rpart\", minsplit = to_tune(2, 128)),\n",
    "  rsmp(\"cv\", folds = 3),\n",
    "  term_evals = 20\n",
    ")\n",
    "\n",
    "instance$archive$n_evals\n",
    "\n",
    "# [1] 24"
   ]
  },
  {
   "cell_type": "code",
   "execution_count": 49,
   "id": "0fbb1552",
   "metadata": {
    "vscode": {
     "languageId": "r"
    }
   },
   "outputs": [
    {
     "name": "stdout",
     "output_type": "stream",
     "text": [
      "INFO  [09:15:45.430] [bbotk] Starting to optimize 1 parameter(s) with '<OptimizerBatchRandomSearch>' and '<TerminatorEvals> [n_evals=20, k=0]'\n",
      "INFO  [09:15:45.435] [bbotk] Evaluating 12 configuration(s)\n",
      "INFO  [09:15:45.438] [mlr3] Running benchmark with 36 resampling iterations\n",
      "INFO  [09:15:45.550] [mlr3] Applying learner 'classif.rpart' on task 'penguins' (iter 1/3)\n",
      "INFO  [09:15:45.720] [mlr3] Applying learner 'classif.rpart' on task 'penguins' (iter 2/3)\n",
      "INFO  [09:15:45.837] [mlr3] Applying learner 'classif.rpart' on task 'penguins' (iter 3/3)\n",
      "INFO  [09:15:45.954] [mlr3] Applying learner 'classif.rpart' on task 'penguins' (iter 1/3)\n",
      "INFO  [09:15:45.970] [mlr3] Applying learner 'classif.rpart' on task 'penguins' (iter 2/3)\n",
      "INFO  [09:15:45.999] [mlr3] Applying learner 'classif.rpart' on task 'penguins' (iter 3/3)\n",
      "INFO  [09:15:46.028] [mlr3] Applying learner 'classif.rpart' on task 'penguins' (iter 1/3)\n",
      "INFO  [09:15:46.060] [mlr3] Applying learner 'classif.rpart' on task 'penguins' (iter 2/3)\n",
      "INFO  [09:15:46.047] [mlr3] Applying learner 'classif.rpart' on task 'penguins' (iter 3/3)\n",
      "INFO  [09:15:46.077] [mlr3] Applying learner 'classif.rpart' on task 'penguins' (iter 1/3)\n",
      "INFO  [09:15:46.108] [mlr3] Applying learner 'classif.rpart' on task 'penguins' (iter 2/3)\n",
      "INFO  [09:15:46.138] [mlr3] Applying learner 'classif.rpart' on task 'penguins' (iter 3/3)\n",
      "INFO  [09:15:46.168] [mlr3] Applying learner 'classif.rpart' on task 'penguins' (iter 1/3)\n",
      "INFO  [09:15:46.198] [mlr3] Applying learner 'classif.rpart' on task 'penguins' (iter 2/3)\n",
      "INFO  [09:15:46.227] [mlr3] Applying learner 'classif.rpart' on task 'penguins' (iter 3/3)\n",
      "INFO  [09:15:46.256] [mlr3] Applying learner 'classif.rpart' on task 'penguins' (iter 1/3)\n",
      "INFO  [09:15:46.287] [mlr3] Applying learner 'classif.rpart' on task 'penguins' (iter 2/3)\n",
      "INFO  [09:15:46.317] [mlr3] Applying learner 'classif.rpart' on task 'penguins' (iter 3/3)\n",
      "INFO  [09:15:46.348] [mlr3] Applying learner 'classif.rpart' on task 'penguins' (iter 1/3)\n",
      "INFO  [09:15:46.382] [mlr3] Applying learner 'classif.rpart' on task 'penguins' (iter 2/3)\n",
      "INFO  [09:15:46.413] [mlr3] Applying learner 'classif.rpart' on task 'penguins' (iter 3/3)\n",
      "INFO  [09:15:46.443] [mlr3] Applying learner 'classif.rpart' on task 'penguins' (iter 1/3)\n",
      "INFO  [09:15:46.473] [mlr3] Applying learner 'classif.rpart' on task 'penguins' (iter 2/3)\n",
      "INFO  [09:15:46.504] [mlr3] Applying learner 'classif.rpart' on task 'penguins' (iter 3/3)\n",
      "INFO  [09:15:46.534] [mlr3] Applying learner 'classif.rpart' on task 'penguins' (iter 1/3)\n",
      "INFO  [09:15:46.564] [mlr3] Applying learner 'classif.rpart' on task 'penguins' (iter 2/3)\n",
      "INFO  [09:15:46.591] [mlr3] Applying learner 'classif.rpart' on task 'penguins' (iter 3/3)\n",
      "INFO  [09:15:46.622] [mlr3] Applying learner 'classif.rpart' on task 'penguins' (iter 1/3)\n",
      "INFO  [09:15:46.654] [mlr3] Applying learner 'classif.rpart' on task 'penguins' (iter 2/3)\n",
      "INFO  [09:15:46.685] [mlr3] Applying learner 'classif.rpart' on task 'penguins' (iter 3/3)\n",
      "INFO  [09:15:46.715] [mlr3] Applying learner 'classif.rpart' on task 'penguins' (iter 1/3)\n",
      "INFO  [09:15:46.744] [mlr3] Applying learner 'classif.rpart' on task 'penguins' (iter 2/3)\n",
      "INFO  [09:15:46.774] [mlr3] Applying learner 'classif.rpart' on task 'penguins' (iter 3/3)\n",
      "INFO  [09:15:46.805] [mlr3] Applying learner 'classif.rpart' on task 'penguins' (iter 1/3)\n",
      "INFO  [09:15:46.833] [mlr3] Applying learner 'classif.rpart' on task 'penguins' (iter 2/3)\n",
      "INFO  [09:15:46.864] [mlr3] Applying learner 'classif.rpart' on task 'penguins' (iter 3/3)\n",
      "INFO  [09:15:46.871] [mlr3] Finished benchmark\n",
      "INFO  [09:15:46.936] [bbotk] Result of batch 1:\n",
      "INFO  [09:15:46.937] [bbotk]  minsplit classif.ce warnings errors runtime_learners\n",
      "INFO  [09:15:46.937] [bbotk]        99 0.06104755        0      0            0.022\n",
      "INFO  [09:15:46.937] [bbotk]       111 0.06104755        0      0            0.016\n",
      "INFO  [09:15:46.937] [bbotk]        36 0.06104755        0      0            0.006\n",
      "INFO  [09:15:46.937] [bbotk]        25 0.06104755        0      0            0.010\n",
      "INFO  [09:15:46.937] [bbotk]         7 0.04363082        0      0            0.012\n",
      "INFO  [09:15:46.937] [bbotk]        56 0.06104755        0      0            0.009\n",
      "INFO  [09:15:46.937] [bbotk]        43 0.06104755        0      0            0.009\n",
      "INFO  [09:15:46.937] [bbotk]        68 0.06104755        0      0            0.008\n",
      "INFO  [09:15:46.937] [bbotk]        27 0.06104755        0      0            0.008\n",
      "INFO  [09:15:46.937] [bbotk]        72 0.06104755        0      0            0.009\n",
      "INFO  [09:15:46.937] [bbotk]        15 0.05235189        0      0            0.009\n",
      "INFO  [09:15:46.937] [bbotk]        31 0.06104755        0      0            0.007\n",
      "INFO  [09:15:46.937] [bbotk]                                 uhash\n",
      "INFO  [09:15:46.937] [bbotk]  43a1fabc-36ea-4d80-8b52-755c3e9c1417\n",
      "INFO  [09:15:46.937] [bbotk]  96b6a96b-2664-4062-9439-04535b4de431\n",
      "INFO  [09:15:46.937] [bbotk]  cb745149-59cd-49e4-92b6-3c1619afad35\n",
      "INFO  [09:15:46.937] [bbotk]  527ec851-912d-4000-8223-c84fe19324ec\n",
      "INFO  [09:15:46.937] [bbotk]  6dede114-1c25-4e88-b289-0ddd439e1481\n",
      "INFO  [09:15:46.937] [bbotk]  67609adc-08ce-4c03-9c74-dd58e3cc1dec\n",
      "INFO  [09:15:46.937] [bbotk]  9fada4e2-19e0-4aa8-865c-eab8f81f0e8e\n",
      "INFO  [09:15:46.937] [bbotk]  531468a9-4648-4ea7-aa47-0db60eb19347\n",
      "INFO  [09:15:46.937] [bbotk]  329d6d47-9b64-49c8-a32a-159f611757d2\n",
      "INFO  [09:15:46.937] [bbotk]  32e7b32a-e603-40fb-b5da-7daecd23735e\n",
      "INFO  [09:15:46.937] [bbotk]  281534f4-dbfd-4190-9a33-4960aa613d74\n",
      "INFO  [09:15:46.937] [bbotk]  6232cfe0-550d-4890-9139-20dc1a88232b\n",
      "INFO  [09:15:46.940] [bbotk] Evaluating 12 configuration(s)\n",
      "INFO  [09:15:46.943] [mlr3] Running benchmark with 36 resampling iterations\n",
      "INFO  [09:15:46.963] [mlr3] Applying learner 'classif.rpart' on task 'penguins' (iter 1/3)\n",
      "INFO  [09:15:46.980] [mlr3] Applying learner 'classif.rpart' on task 'penguins' (iter 2/3)\n",
      "INFO  [09:15:46.996] [mlr3] Applying learner 'classif.rpart' on task 'penguins' (iter 3/3)\n",
      "INFO  [09:15:47.012] [mlr3] Applying learner 'classif.rpart' on task 'penguins' (iter 1/3)\n",
      "INFO  [09:15:47.042] [mlr3] Applying learner 'classif.rpart' on task 'penguins' (iter 2/3)\n",
      "INFO  [09:15:47.073] [mlr3] Applying learner 'classif.rpart' on task 'penguins' (iter 3/3)\n",
      "INFO  [09:15:47.104] [mlr3] Applying learner 'classif.rpart' on task 'penguins' (iter 1/3)\n",
      "INFO  [09:15:47.135] [mlr3] Applying learner 'classif.rpart' on task 'penguins' (iter 2/3)\n",
      "INFO  [09:15:47.164] [mlr3] Applying learner 'classif.rpart' on task 'penguins' (iter 3/3)\n",
      "INFO  [09:15:47.194] [mlr3] Applying learner 'classif.rpart' on task 'penguins' (iter 1/3)\n",
      "INFO  [09:15:47.224] [mlr3] Applying learner 'classif.rpart' on task 'penguins' (iter 2/3)\n",
      "INFO  [09:15:47.253] [mlr3] Applying learner 'classif.rpart' on task 'penguins' (iter 3/3)\n",
      "INFO  [09:15:47.283] [mlr3] Applying learner 'classif.rpart' on task 'penguins' (iter 1/3)\n",
      "INFO  [09:15:47.313] [mlr3] Applying learner 'classif.rpart' on task 'penguins' (iter 2/3)\n",
      "INFO  [09:15:47.343] [mlr3] Applying learner 'classif.rpart' on task 'penguins' (iter 3/3)\n",
      "INFO  [09:15:47.372] [mlr3] Applying learner 'classif.rpart' on task 'penguins' (iter 1/3)\n",
      "INFO  [09:15:47.401] [mlr3] Applying learner 'classif.rpart' on task 'penguins' (iter 2/3)\n",
      "INFO  [09:15:47.432] [mlr3] Applying learner 'classif.rpart' on task 'penguins' (iter 3/3)\n",
      "INFO  [09:15:47.462] [mlr3] Applying learner 'classif.rpart' on task 'penguins' (iter 1/3)\n",
      "INFO  [09:15:47.492] [mlr3] Applying learner 'classif.rpart' on task 'penguins' (iter 2/3)\n",
      "INFO  [09:15:47.522] [mlr3] Applying learner 'classif.rpart' on task 'penguins' (iter 3/3)\n",
      "INFO  [09:15:47.551] [mlr3] Applying learner 'classif.rpart' on task 'penguins' (iter 1/3)\n",
      "INFO  [09:15:47.581] [mlr3] Applying learner 'classif.rpart' on task 'penguins' (iter 2/3)\n",
      "INFO  [09:15:47.608] [mlr3] Applying learner 'classif.rpart' on task 'penguins' (iter 3/3)\n",
      "INFO  [09:15:47.638] [mlr3] Applying learner 'classif.rpart' on task 'penguins' (iter 1/3)\n",
      "INFO  [09:15:47.667] [mlr3] Applying learner 'classif.rpart' on task 'penguins' (iter 2/3)\n",
      "INFO  [09:15:47.697] [mlr3] Applying learner 'classif.rpart' on task 'penguins' (iter 3/3)\n",
      "INFO  [09:15:47.725] [mlr3] Applying learner 'classif.rpart' on task 'penguins' (iter 1/3)\n",
      "INFO  [09:15:47.755] [mlr3] Applying learner 'classif.rpart' on task 'penguins' (iter 2/3)\n",
      "INFO  [09:15:47.790] [mlr3] Applying learner 'classif.rpart' on task 'penguins' (iter 3/3)\n",
      "INFO  [09:15:47.819] [mlr3] Applying learner 'classif.rpart' on task 'penguins' (iter 1/3)\n",
      "INFO  [09:15:47.849] [mlr3] Applying learner 'classif.rpart' on task 'penguins' (iter 2/3)\n",
      "INFO  [09:15:47.877] [mlr3] Applying learner 'classif.rpart' on task 'penguins' (iter 3/3)\n",
      "INFO  [09:15:47.907] [mlr3] Applying learner 'classif.rpart' on task 'penguins' (iter 1/3)\n",
      "INFO  [09:15:47.937] [mlr3] Applying learner 'classif.rpart' on task 'penguins' (iter 2/3)\n",
      "INFO  [09:15:47.967] [mlr3] Applying learner 'classif.rpart' on task 'penguins' (iter 3/3)\n",
      "INFO  [09:15:47.973] [mlr3] Finished benchmark\n",
      "INFO  [09:15:48.030] [bbotk] Result of batch 2:\n",
      "INFO  [09:15:48.031] [bbotk]  minsplit classif.ce warnings errors runtime_learners\n",
      "INFO  [09:15:48.031] [bbotk]        74 0.06104755        0      0            0.006\n",
      "INFO  [09:15:48.031] [bbotk]        92 0.06104755        0      0            0.010\n",
      "INFO  [09:15:48.031] [bbotk]       107 0.06104755        0      0            0.008\n",
      "INFO  [09:15:48.031] [bbotk]       110 0.06104755        0      0            0.010\n",
      "INFO  [09:15:48.031] [bbotk]        79 0.06104755        0      0            0.008\n",
      "INFO  [09:15:48.031] [bbotk]         4 0.03778286        0      0            0.008\n",
      "INFO  [09:15:48.031] [bbotk]        89 0.06104755        0      0            0.012\n",
      "INFO  [09:15:48.031] [bbotk]        99 0.06104755        0      0            0.007\n",
      "INFO  [09:15:48.031] [bbotk]        94 0.06104755        0      0            0.006\n",
      "INFO  [09:15:48.031] [bbotk]        35 0.06104755        0      0            0.009\n",
      "INFO  [09:15:48.031] [bbotk]       110 0.06104755        0      0            0.009\n",
      "INFO  [09:15:48.031] [bbotk]        59 0.06104755        0      0            0.008\n",
      "INFO  [09:15:48.031] [bbotk]                                 uhash\n",
      "INFO  [09:15:48.031] [bbotk]  59b84022-9b25-481a-941a-452aff9045a6\n",
      "INFO  [09:15:48.031] [bbotk]  a1c70fe8-af0f-4e24-882b-21c3a192a921\n",
      "INFO  [09:15:48.031] [bbotk]  b2fa338a-3c34-420d-bf03-d87df2953175\n",
      "INFO  [09:15:48.031] [bbotk]  350e4098-9ff7-4933-9933-3994640b5bb2\n",
      "INFO  [09:15:48.031] [bbotk]  4db5e7db-1bcf-4516-95c7-c98b809ab123\n",
      "INFO  [09:15:48.031] [bbotk]  82db432e-2627-4698-9d74-bea837821916\n",
      "INFO  [09:15:48.031] [bbotk]  ee69fc32-d1a7-42c4-b894-5bc59a9db14d\n",
      "INFO  [09:15:48.031] [bbotk]  311db6f1-4c4d-47f9-b6ec-c3cf325e5904\n",
      "INFO  [09:15:48.031] [bbotk]  d7fc78c6-f2a1-42be-943d-323d04a7df2b\n",
      "INFO  [09:15:48.031] [bbotk]  572812c5-3096-41cc-ae93-ed9ad6a11c98\n",
      "INFO  [09:15:48.031] [bbotk]  5f288971-2bb2-49b4-87fa-87dbde0f4c64\n",
      "INFO  [09:15:48.031] [bbotk]  f042ebc4-0059-47dc-93fb-abf371ab5c93\n",
      "INFO  [09:15:48.039] [bbotk] Finished optimizing after 24 evaluation(s)\n",
      "INFO  [09:15:48.039] [bbotk] Result:\n",
      "INFO  [09:15:48.040] [bbotk]  minsplit learner_param_vals  x_domain classif.ce\n",
      "INFO  [09:15:48.040] [bbotk]     <int>             <list>    <list>      <num>\n",
      "INFO  [09:15:48.040] [bbotk]         4          <list[2]> <list[1]> 0.03778286\n"
     ]
    },
    {
     "data": {
      "text/plain": [
       "   user  system elapsed \n",
       "  1.389   0.041   2.670 "
      ]
     },
     "metadata": {},
     "output_type": "display_data"
    }
   ],
   "source": [
    "plan(\"multisession\", workers = 4)\n",
    "\n",
    "system.time({\n",
    "  instance <- tune(\n",
    "    tnr(\"random_search\", batch_size = 12),\n",
    "    tsk(\"penguins\"),\n",
    "    lrn(\"classif.rpart\", minsplit = to_tune(2, 128)),\n",
    "    rsmp(\"cv\", folds = 3),\n",
    "    term_evals = 20\n",
    "  )\n",
    "})"
   ]
  },
  {
   "cell_type": "code",
   "execution_count": 50,
   "id": "8c8982da",
   "metadata": {
    "vscode": {
     "languageId": "r"
    }
   },
   "outputs": [
    {
     "name": "stdout",
     "output_type": "stream",
     "text": [
      "INFO  [09:16:10.799] [bbotk] Starting to optimize 1 parameter(s) with '<OptimizerBatchRandomSearch>' and '<TerminatorEvals> [n_evals=20, k=0]'\n",
      "INFO  [09:16:10.805] [bbotk] Evaluating 12 configuration(s)\n",
      "INFO  [09:16:10.808] [mlr3] Running benchmark with 36 resampling iterations\n",
      "INFO  [09:16:10.811] [mlr3] Applying learner 'classif.rpart' on task 'penguins' (iter 1/3)\n",
      "INFO  [09:16:10.818] [mlr3] Applying learner 'classif.rpart' on task 'penguins' (iter 2/3)\n",
      "INFO  [09:16:10.824] [mlr3] Applying learner 'classif.rpart' on task 'penguins' (iter 3/3)\n",
      "INFO  [09:16:10.831] [mlr3] Applying learner 'classif.rpart' on task 'penguins' (iter 1/3)\n",
      "INFO  [09:16:10.837] [mlr3] Applying learner 'classif.rpart' on task 'penguins' (iter 2/3)\n",
      "INFO  [09:16:10.844] [mlr3] Applying learner 'classif.rpart' on task 'penguins' (iter 3/3)\n",
      "INFO  [09:16:10.850] [mlr3] Applying learner 'classif.rpart' on task 'penguins' (iter 1/3)\n",
      "INFO  [09:16:10.857] [mlr3] Applying learner 'classif.rpart' on task 'penguins' (iter 2/3)\n",
      "INFO  [09:16:10.863] [mlr3] Applying learner 'classif.rpart' on task 'penguins' (iter 3/3)\n",
      "INFO  [09:16:10.870] [mlr3] Applying learner 'classif.rpart' on task 'penguins' (iter 1/3)\n",
      "INFO  [09:16:10.877] [mlr3] Applying learner 'classif.rpart' on task 'penguins' (iter 2/3)\n",
      "INFO  [09:16:10.884] [mlr3] Applying learner 'classif.rpart' on task 'penguins' (iter 3/3)\n",
      "INFO  [09:16:10.890] [mlr3] Applying learner 'classif.rpart' on task 'penguins' (iter 1/3)\n",
      "INFO  [09:16:10.897] [mlr3] Applying learner 'classif.rpart' on task 'penguins' (iter 2/3)\n",
      "INFO  [09:16:10.903] [mlr3] Applying learner 'classif.rpart' on task 'penguins' (iter 3/3)\n",
      "INFO  [09:16:10.910] [mlr3] Applying learner 'classif.rpart' on task 'penguins' (iter 1/3)\n",
      "INFO  [09:16:10.916] [mlr3] Applying learner 'classif.rpart' on task 'penguins' (iter 2/3)\n",
      "INFO  [09:16:10.923] [mlr3] Applying learner 'classif.rpart' on task 'penguins' (iter 3/3)\n",
      "INFO  [09:16:10.930] [mlr3] Applying learner 'classif.rpart' on task 'penguins' (iter 1/3)\n",
      "INFO  [09:16:10.936] [mlr3] Applying learner 'classif.rpart' on task 'penguins' (iter 2/3)\n",
      "INFO  [09:16:10.943] [mlr3] Applying learner 'classif.rpart' on task 'penguins' (iter 3/3)\n",
      "INFO  [09:16:10.950] [mlr3] Applying learner 'classif.rpart' on task 'penguins' (iter 1/3)\n",
      "INFO  [09:16:10.956] [mlr3] Applying learner 'classif.rpart' on task 'penguins' (iter 2/3)\n",
      "INFO  [09:16:10.963] [mlr3] Applying learner 'classif.rpart' on task 'penguins' (iter 3/3)\n",
      "INFO  [09:16:10.974] [mlr3] Applying learner 'classif.rpart' on task 'penguins' (iter 1/3)\n",
      "INFO  [09:16:10.980] [mlr3] Applying learner 'classif.rpart' on task 'penguins' (iter 2/3)\n",
      "INFO  [09:16:10.986] [mlr3] Applying learner 'classif.rpart' on task 'penguins' (iter 3/3)\n",
      "INFO  [09:16:10.992] [mlr3] Applying learner 'classif.rpart' on task 'penguins' (iter 1/3)\n",
      "INFO  [09:16:10.998] [mlr3] Applying learner 'classif.rpart' on task 'penguins' (iter 2/3)\n",
      "INFO  [09:16:11.004] [mlr3] Applying learner 'classif.rpart' on task 'penguins' (iter 3/3)\n",
      "INFO  [09:16:11.011] [mlr3] Applying learner 'classif.rpart' on task 'penguins' (iter 1/3)\n",
      "INFO  [09:16:11.017] [mlr3] Applying learner 'classif.rpart' on task 'penguins' (iter 2/3)\n",
      "INFO  [09:16:11.023] [mlr3] Applying learner 'classif.rpart' on task 'penguins' (iter 3/3)\n",
      "INFO  [09:16:11.029] [mlr3] Applying learner 'classif.rpart' on task 'penguins' (iter 1/3)\n",
      "INFO  [09:16:11.035] [mlr3] Applying learner 'classif.rpart' on task 'penguins' (iter 2/3)\n",
      "INFO  [09:16:11.041] [mlr3] Applying learner 'classif.rpart' on task 'penguins' (iter 3/3)\n",
      "INFO  [09:16:11.049] [mlr3] Finished benchmark\n",
      "INFO  [09:16:11.106] [bbotk] Result of batch 1:\n",
      "INFO  [09:16:11.107] [bbotk]  minsplit classif.ce warnings errors runtime_learners\n",
      "INFO  [09:16:11.107] [bbotk]       123 0.06971777        0      0            0.007\n",
      "INFO  [09:16:11.107] [bbotk]        94 0.06386982        0      0            0.006\n",
      "INFO  [09:16:11.107] [bbotk]       115 0.06386982        0      0            0.007\n",
      "INFO  [09:16:11.107] [bbotk]        47 0.06386982        0      0            0.006\n",
      "INFO  [09:16:11.107] [bbotk]        91 0.06386982        0      0            0.008\n",
      "INFO  [09:16:11.107] [bbotk]        87 0.06386982        0      0            0.008\n",
      "INFO  [09:16:11.107] [bbotk]        91 0.06386982        0      0            0.007\n",
      "INFO  [09:16:11.107] [bbotk]        60 0.06386982        0      0            0.008\n",
      "INFO  [09:16:11.107] [bbotk]        89 0.06386982        0      0            0.006\n",
      "INFO  [09:16:11.107] [bbotk]        32 0.06386982        0      0            0.007\n",
      "INFO  [09:16:11.107] [bbotk]         6 0.03196034        0      0            0.008\n",
      "INFO  [09:16:11.107] [bbotk]       120 0.06386982        0      0            0.006\n",
      "INFO  [09:16:11.107] [bbotk]                                 uhash\n",
      "INFO  [09:16:11.107] [bbotk]  58f0fb51-3b35-4af0-b137-3a5c6d6fae12\n",
      "INFO  [09:16:11.107] [bbotk]  67e25278-a490-45b6-abe4-ef8e41e1d2ba\n",
      "INFO  [09:16:11.107] [bbotk]  04a1a1ef-19d5-4609-9b2d-8eea9715dbc0\n",
      "INFO  [09:16:11.107] [bbotk]  ebea1205-87e6-4824-acc6-f506b681bd59\n",
      "INFO  [09:16:11.107] [bbotk]  1e5114a2-2d79-476a-9643-3a66876bc512\n",
      "INFO  [09:16:11.107] [bbotk]  0727b2f6-dae2-4e59-af8d-fdc526f3202b\n",
      "INFO  [09:16:11.107] [bbotk]  4eedecc1-cb1d-4b59-bdbd-9ebc240c52ab\n",
      "INFO  [09:16:11.107] [bbotk]  2448859b-3ceb-4596-b894-6b405a4cd851\n",
      "INFO  [09:16:11.107] [bbotk]  5cffc11e-f355-44fe-a984-c61913215e65\n",
      "INFO  [09:16:11.107] [bbotk]  dd54c3ed-bdee-4ca4-9c6b-f42606a7c0a3\n",
      "INFO  [09:16:11.107] [bbotk]  21e40433-f576-49ce-a228-073a15b616e9\n",
      "INFO  [09:16:11.107] [bbotk]  992d4547-b66f-4559-b4ad-528ab47c5d07\n",
      "INFO  [09:16:11.110] [bbotk] Evaluating 12 configuration(s)\n",
      "INFO  [09:16:11.113] [mlr3] Running benchmark with 36 resampling iterations\n",
      "INFO  [09:16:11.116] [mlr3] Applying learner 'classif.rpart' on task 'penguins' (iter 1/3)\n",
      "INFO  [09:16:11.122] [mlr3] Applying learner 'classif.rpart' on task 'penguins' (iter 2/3)\n",
      "INFO  [09:16:11.129] [mlr3] Applying learner 'classif.rpart' on task 'penguins' (iter 3/3)\n",
      "INFO  [09:16:11.135] [mlr3] Applying learner 'classif.rpart' on task 'penguins' (iter 1/3)\n",
      "INFO  [09:16:11.142] [mlr3] Applying learner 'classif.rpart' on task 'penguins' (iter 2/3)\n",
      "INFO  [09:16:11.148] [mlr3] Applying learner 'classif.rpart' on task 'penguins' (iter 3/3)\n",
      "INFO  [09:16:11.154] [mlr3] Applying learner 'classif.rpart' on task 'penguins' (iter 1/3)\n",
      "INFO  [09:16:11.161] [mlr3] Applying learner 'classif.rpart' on task 'penguins' (iter 2/3)\n",
      "INFO  [09:16:11.167] [mlr3] Applying learner 'classif.rpart' on task 'penguins' (iter 3/3)\n",
      "INFO  [09:16:11.173] [mlr3] Applying learner 'classif.rpart' on task 'penguins' (iter 1/3)\n",
      "INFO  [09:16:11.184] [mlr3] Applying learner 'classif.rpart' on task 'penguins' (iter 2/3)\n",
      "INFO  [09:16:11.190] [mlr3] Applying learner 'classif.rpart' on task 'penguins' (iter 3/3)\n",
      "INFO  [09:16:11.196] [mlr3] Applying learner 'classif.rpart' on task 'penguins' (iter 1/3)\n",
      "INFO  [09:16:11.202] [mlr3] Applying learner 'classif.rpart' on task 'penguins' (iter 2/3)\n",
      "INFO  [09:16:11.208] [mlr3] Applying learner 'classif.rpart' on task 'penguins' (iter 3/3)\n",
      "INFO  [09:16:11.214] [mlr3] Applying learner 'classif.rpart' on task 'penguins' (iter 1/3)\n",
      "INFO  [09:16:11.220] [mlr3] Applying learner 'classif.rpart' on task 'penguins' (iter 2/3)\n",
      "INFO  [09:16:11.226] [mlr3] Applying learner 'classif.rpart' on task 'penguins' (iter 3/3)\n",
      "INFO  [09:16:11.231] [mlr3] Applying learner 'classif.rpart' on task 'penguins' (iter 1/3)\n",
      "INFO  [09:16:11.237] [mlr3] Applying learner 'classif.rpart' on task 'penguins' (iter 2/3)\n",
      "INFO  [09:16:11.244] [mlr3] Applying learner 'classif.rpart' on task 'penguins' (iter 3/3)\n",
      "INFO  [09:16:11.250] [mlr3] Applying learner 'classif.rpart' on task 'penguins' (iter 1/3)\n",
      "INFO  [09:16:11.255] [mlr3] Applying learner 'classif.rpart' on task 'penguins' (iter 2/3)\n",
      "INFO  [09:16:11.261] [mlr3] Applying learner 'classif.rpart' on task 'penguins' (iter 3/3)\n",
      "INFO  [09:16:11.267] [mlr3] Applying learner 'classif.rpart' on task 'penguins' (iter 1/3)\n",
      "INFO  [09:16:11.273] [mlr3] Applying learner 'classif.rpart' on task 'penguins' (iter 2/3)\n",
      "INFO  [09:16:11.279] [mlr3] Applying learner 'classif.rpart' on task 'penguins' (iter 3/3)\n",
      "INFO  [09:16:11.285] [mlr3] Applying learner 'classif.rpart' on task 'penguins' (iter 1/3)\n",
      "INFO  [09:16:11.291] [mlr3] Applying learner 'classif.rpart' on task 'penguins' (iter 2/3)\n",
      "INFO  [09:16:11.298] [mlr3] Applying learner 'classif.rpart' on task 'penguins' (iter 3/3)\n",
      "INFO  [09:16:11.304] [mlr3] Applying learner 'classif.rpart' on task 'penguins' (iter 1/3)\n",
      "INFO  [09:16:11.310] [mlr3] Applying learner 'classif.rpart' on task 'penguins' (iter 2/3)\n",
      "INFO  [09:16:11.316] [mlr3] Applying learner 'classif.rpart' on task 'penguins' (iter 3/3)\n",
      "INFO  [09:16:11.322] [mlr3] Applying learner 'classif.rpart' on task 'penguins' (iter 1/3)\n",
      "INFO  [09:16:11.329] [mlr3] Applying learner 'classif.rpart' on task 'penguins' (iter 2/3)\n",
      "INFO  [09:16:11.336] [mlr3] Applying learner 'classif.rpart' on task 'penguins' (iter 3/3)\n",
      "INFO  [09:16:11.345] [mlr3] Finished benchmark\n",
      "INFO  [09:16:11.409] [bbotk] Result of batch 2:\n",
      "INFO  [09:16:11.410] [bbotk]  minsplit classif.ce warnings errors runtime_learners\n",
      "INFO  [09:16:11.410] [bbotk]        48 0.06386982        0      0            0.008\n",
      "INFO  [09:16:11.410] [bbotk]        80 0.06386982        0      0            0.006\n",
      "INFO  [09:16:11.410] [bbotk]       107 0.06386982        0      0            0.007\n",
      "INFO  [09:16:11.410] [bbotk]       128 0.07551487        0      0            0.007\n",
      "INFO  [09:16:11.410] [bbotk]       122 0.06971777        0      0            0.005\n",
      "INFO  [09:16:11.410] [bbotk]        15 0.05512332        0      0            0.009\n",
      "INFO  [09:16:11.410] [bbotk]        38 0.06386982        0      0            0.007\n",
      "INFO  [09:16:11.410] [bbotk]       128 0.07551487        0      0            0.006\n",
      "INFO  [09:16:11.410] [bbotk]        22 0.05802187        0      0            0.006\n",
      "INFO  [09:16:11.410] [bbotk]        31 0.06386982        0      0            0.007\n",
      "INFO  [09:16:11.410] [bbotk]        28 0.06386982        0      0            0.007\n",
      "INFO  [09:16:11.410] [bbotk]       126 0.07551487        0      0            0.008\n",
      "INFO  [09:16:11.410] [bbotk]                                 uhash\n",
      "INFO  [09:16:11.410] [bbotk]  fc5dc81b-4784-41ec-a797-bf3e4fb65c9b\n",
      "INFO  [09:16:11.410] [bbotk]  81785345-9ab7-4bb0-a607-3eaeb5749711\n",
      "INFO  [09:16:11.410] [bbotk]  a86748f4-317e-4b24-b51e-a9da2999e1b8\n",
      "INFO  [09:16:11.410] [bbotk]  e00415cd-f137-4f58-982f-9c24cf7a861d\n",
      "INFO  [09:16:11.410] [bbotk]  a4917da1-f362-4b67-969b-83549bc3a3fa\n",
      "INFO  [09:16:11.410] [bbotk]  f045547c-863c-429f-8ef1-917864400c77\n",
      "INFO  [09:16:11.410] [bbotk]  a9e9a261-f334-467e-b4ae-2e66e6a812ae\n",
      "INFO  [09:16:11.410] [bbotk]  6a5d65df-8361-4d1b-b710-57be3e7f9376\n",
      "INFO  [09:16:11.410] [bbotk]  c1e210df-359f-4aa9-9af9-990e76462503\n",
      "INFO  [09:16:11.410] [bbotk]  b2f5a53e-0d07-4acc-b41f-2067f3035cfa\n",
      "INFO  [09:16:11.410] [bbotk]  efca3349-a0dd-4758-8768-8e44d44ff3ed\n",
      "INFO  [09:16:11.410] [bbotk]  0ee5f945-1c4b-47a8-b06a-2b4b97607618\n",
      "INFO  [09:16:11.417] [bbotk] Finished optimizing after 24 evaluation(s)\n",
      "INFO  [09:16:11.418] [bbotk] Result:\n",
      "INFO  [09:16:11.418] [bbotk]  minsplit learner_param_vals  x_domain classif.ce\n",
      "INFO  [09:16:11.418] [bbotk]     <int>             <list>    <list>      <num>\n",
      "INFO  [09:16:11.418] [bbotk]         6          <list[2]> <list[1]> 0.03196034\n"
     ]
    },
    {
     "data": {
      "text/plain": [
       "   user  system elapsed \n",
       "  0.656   0.018   0.674 "
      ]
     },
     "metadata": {},
     "output_type": "display_data"
    }
   ],
   "source": [
    "plan(\"sequential\")\n",
    "\n",
    "system.time({\n",
    "  instance <- tune(\n",
    "    tnr(\"random_search\", batch_size = 12),\n",
    "    tsk(\"penguins\"),\n",
    "    lrn(\"classif.rpart\", minsplit = to_tune(2, 128)),\n",
    "    rsmp(\"cv\", folds = 3),\n",
    "    term_evals = 20\n",
    "  )\n",
    "})"
   ]
  },
  {
   "cell_type": "markdown",
   "id": "a061093a",
   "metadata": {},
   "source": [
    "## 嵌套重采样并行化"
   ]
  },
  {
   "cell_type": "code",
   "execution_count": null,
   "id": "b5509b21",
   "metadata": {
    "vscode": {
     "languageId": "r"
    }
   },
   "outputs": [
    {
     "name": "stderr",
     "output_type": "stream",
     "text": [
      "Loading required package: paradox\n",
      "\n"
     ]
    },
    {
     "name": "stdout",
     "output_type": "stream",
     "text": [
      "INFO  [08:30:09.104] [mlr3] Applying learner 'classif.rpart.tuned' on task 'penguins' (iter 1/5)\n",
      "INFO  [08:30:09.161] [bbotk] Starting to optimize 1 parameter(s) with '<OptimizerBatchRandomSearch>' and '<TerminatorEvals> [n_evals=2, k=0]'\n",
      "INFO  [08:30:09.171] [bbotk] Evaluating 2 configuration(s)\n",
      "INFO  [08:30:09.173] [mlr3] Running benchmark with 2 resampling iterations\n",
      "INFO  [08:30:09.176] [mlr3] Applying learner 'classif.rpart' on task 'penguins' (iter 1/1)\n",
      "INFO  [08:30:09.188] [mlr3] Applying learner 'classif.rpart' on task 'penguins' (iter 1/1)\n",
      "INFO  [08:30:09.193] [mlr3] Finished benchmark\n",
      "INFO  [08:30:09.209] [bbotk] Result of batch 1:\n",
      "INFO  [08:30:09.211] [bbotk]  minsplit classif.ce warnings errors runtime_learners\n",
      "INFO  [08:30:09.211] [bbotk]        47 0.08695652        0      0            0.006\n",
      "INFO  [08:30:09.211] [bbotk]       108 0.09782609        0      0            0.002\n",
      "INFO  [08:30:09.211] [bbotk]                                 uhash\n",
      "INFO  [08:30:09.211] [bbotk]  71f634ff-51ec-4713-828b-d17cc8bab171\n",
      "INFO  [08:30:09.211] [bbotk]  b3da1728-8eef-4cf1-81f6-c37f52057c35\n",
      "INFO  [08:30:09.218] [bbotk] Finished optimizing after 2 evaluation(s)\n",
      "INFO  [08:30:09.218] [bbotk] Result:\n",
      "INFO  [08:30:09.219] [bbotk]  minsplit learner_param_vals  x_domain classif.ce\n",
      "INFO  [08:30:09.219] [bbotk]     <int>             <list>    <list>      <num>\n",
      "INFO  [08:30:09.219] [bbotk]        47          <list[2]> <list[1]> 0.08695652\n",
      "INFO  [08:30:09.229] [mlr3] Applying learner 'classif.rpart.tuned' on task 'penguins' (iter 2/5)\n",
      "INFO  [08:30:09.270] [bbotk] Starting to optimize 1 parameter(s) with '<OptimizerBatchRandomSearch>' and '<TerminatorEvals> [n_evals=2, k=0]'\n",
      "INFO  [08:30:09.279] [bbotk] Evaluating 2 configuration(s)\n",
      "INFO  [08:30:09.282] [mlr3] Running benchmark with 2 resampling iterations\n",
      "INFO  [08:30:09.284] [mlr3] Applying learner 'classif.rpart' on task 'penguins' (iter 1/1)\n",
      "INFO  [08:30:09.290] [mlr3] Applying learner 'classif.rpart' on task 'penguins' (iter 1/1)\n",
      "INFO  [08:30:09.295] [mlr3] Finished benchmark\n",
      "INFO  [08:30:09.310] [bbotk] Result of batch 1:\n",
      "INFO  [08:30:09.312] [bbotk]  minsplit classif.ce warnings errors runtime_learners\n",
      "INFO  [08:30:09.312] [bbotk]        42 0.08695652        0      0            0.002\n",
      "INFO  [08:30:09.312] [bbotk]        50 0.08695652        0      0            0.002\n",
      "INFO  [08:30:09.312] [bbotk]                                 uhash\n",
      "INFO  [08:30:09.312] [bbotk]  be35099b-9d00-4139-8845-90b091ca999d\n",
      "INFO  [08:30:09.312] [bbotk]  ef287962-88ff-4b42-b3d1-6a28830cd8b3\n",
      "INFO  [08:30:09.319] [bbotk] Finished optimizing after 2 evaluation(s)\n",
      "INFO  [08:30:09.319] [bbotk] Result:\n",
      "INFO  [08:30:09.320] [bbotk]  minsplit learner_param_vals  x_domain classif.ce\n",
      "INFO  [08:30:09.320] [bbotk]     <int>             <list>    <list>      <num>\n",
      "INFO  [08:30:09.320] [bbotk]        42          <list[2]> <list[1]> 0.08695652\n",
      "INFO  [08:30:09.330] [mlr3] Applying learner 'classif.rpart.tuned' on task 'penguins' (iter 3/5)\n",
      "INFO  [08:30:09.391] [bbotk] Starting to optimize 1 parameter(s) with '<OptimizerBatchRandomSearch>' and '<TerminatorEvals> [n_evals=2, k=0]'\n",
      "INFO  [08:30:09.396] [bbotk] Evaluating 2 configuration(s)\n",
      "INFO  [08:30:09.399] [mlr3] Running benchmark with 2 resampling iterations\n",
      "INFO  [08:30:09.401] [mlr3] Applying learner 'classif.rpart' on task 'penguins' (iter 1/1)\n",
      "INFO  [08:30:09.407] [mlr3] Applying learner 'classif.rpart' on task 'penguins' (iter 1/1)\n",
      "INFO  [08:30:09.413] [mlr3] Finished benchmark\n",
      "INFO  [08:30:09.429] [bbotk] Result of batch 1:\n",
      "INFO  [08:30:09.430] [bbotk]  minsplit classif.ce warnings errors runtime_learners\n",
      "INFO  [08:30:09.430] [bbotk]        15 0.02173913        0      0            0.003\n",
      "INFO  [08:30:09.430] [bbotk]         2 0.02173913        0      0            0.002\n",
      "INFO  [08:30:09.430] [bbotk]                                 uhash\n",
      "INFO  [08:30:09.430] [bbotk]  5ed65690-bb20-49ec-a2af-3c97597f8868\n",
      "INFO  [08:30:09.430] [bbotk]  0ecdc913-22c8-42bd-a6a9-1e35af498548\n",
      "INFO  [08:30:09.437] [bbotk] Finished optimizing after 2 evaluation(s)\n",
      "INFO  [08:30:09.438] [bbotk] Result:\n",
      "INFO  [08:30:09.439] [bbotk]  minsplit learner_param_vals  x_domain classif.ce\n",
      "INFO  [08:30:09.439] [bbotk]     <int>             <list>    <list>      <num>\n",
      "INFO  [08:30:09.439] [bbotk]        15          <list[2]> <list[1]> 0.02173913\n",
      "INFO  [08:30:09.448] [mlr3] Applying learner 'classif.rpart.tuned' on task 'penguins' (iter 4/5)\n",
      "INFO  [08:30:09.489] [bbotk] Starting to optimize 1 parameter(s) with '<OptimizerBatchRandomSearch>' and '<TerminatorEvals> [n_evals=2, k=0]'\n",
      "INFO  [08:30:09.495] [bbotk] Evaluating 2 configuration(s)\n",
      "INFO  [08:30:09.497] [mlr3] Running benchmark with 2 resampling iterations\n",
      "INFO  [08:30:09.500] [mlr3] Applying learner 'classif.rpart' on task 'penguins' (iter 1/1)\n",
      "INFO  [08:30:09.506] [mlr3] Applying learner 'classif.rpart' on task 'penguins' (iter 1/1)\n",
      "INFO  [08:30:09.511] [mlr3] Finished benchmark\n",
      "INFO  [08:30:09.526] [bbotk] Result of batch 1:\n",
      "INFO  [08:30:09.528] [bbotk]  minsplit classif.ce warnings errors runtime_learners\n",
      "INFO  [08:30:09.528] [bbotk]        12 0.05434783        0      0            0.003\n",
      "INFO  [08:30:09.528] [bbotk]       127 0.15217391        0      0            0.002\n",
      "INFO  [08:30:09.528] [bbotk]                                 uhash\n",
      "INFO  [08:30:09.528] [bbotk]  d2427156-0a25-4979-892f-6aa5f7d1f428\n",
      "INFO  [08:30:09.528] [bbotk]  35fbe40b-d2b4-4ee8-88ca-c79e429271af\n",
      "INFO  [08:30:09.535] [bbotk] Finished optimizing after 2 evaluation(s)\n",
      "INFO  [08:30:09.535] [bbotk] Result:\n",
      "INFO  [08:30:09.536] [bbotk]  minsplit learner_param_vals  x_domain classif.ce\n",
      "INFO  [08:30:09.536] [bbotk]     <int>             <list>    <list>      <num>\n",
      "INFO  [08:30:09.536] [bbotk]        12          <list[2]> <list[1]> 0.05434783\n",
      "INFO  [08:30:09.545] [mlr3] Applying learner 'classif.rpart.tuned' on task 'penguins' (iter 5/5)\n",
      "INFO  [08:30:09.586] [bbotk] Starting to optimize 1 parameter(s) with '<OptimizerBatchRandomSearch>' and '<TerminatorEvals> [n_evals=2, k=0]'\n",
      "INFO  [08:30:09.591] [bbotk] Evaluating 2 configuration(s)\n",
      "INFO  [08:30:09.594] [mlr3] Running benchmark with 2 resampling iterations\n",
      "INFO  [08:30:09.596] [mlr3] Applying learner 'classif.rpart' on task 'penguins' (iter 1/1)\n",
      "INFO  [08:30:09.603] [mlr3] Applying learner 'classif.rpart' on task 'penguins' (iter 1/1)\n",
      "INFO  [08:30:09.607] [mlr3] Finished benchmark\n",
      "INFO  [08:30:09.621] [bbotk] Result of batch 1:\n",
      "INFO  [08:30:09.623] [bbotk]  minsplit classif.ce warnings errors runtime_learners\n",
      "INFO  [08:30:09.623] [bbotk]         5 0.03260870        0      0            0.002\n",
      "INFO  [08:30:09.623] [bbotk]       104 0.05434783        0      0            0.002\n",
      "INFO  [08:30:09.623] [bbotk]                                 uhash\n",
      "INFO  [08:30:09.623] [bbotk]  9858a6f9-9d1b-453f-9b3d-1cc7c67bcac3\n",
      "INFO  [08:30:09.623] [bbotk]  51087139-4ff3-48b1-bc4f-3665935ee05d\n",
      "INFO  [08:30:09.630] [bbotk] Finished optimizing after 2 evaluation(s)\n",
      "INFO  [08:30:09.631] [bbotk] Result:\n",
      "INFO  [08:30:09.632] [bbotk]  minsplit learner_param_vals  x_domain classif.ce\n",
      "INFO  [08:30:09.632] [bbotk]     <int>             <list>    <list>      <num>\n",
      "INFO  [08:30:09.632] [bbotk]         5          <list[2]> <list[1]>  0.0326087\n"
     ]
    }
   ],
   "source": [
    "library(mlr3tuning)\n",
    "# reset to default sequential plan\n",
    "future::plan(\"sequential\")\n",
    "\n",
    "lrn_rpart <- lrn(\n",
    "  \"classif.rpart\",\n",
    "  minsplit = to_tune(2, 128)\n",
    ")\n",
    "\n",
    "lrn_rpart_tuned <- auto_tuner(\n",
    "  tnr(\"random_search\", batch_size = 2),\n",
    "  lrn_rpart,\n",
    "  rsmp(\"holdout\"),\n",
    "  msr(\"classif.ce\"),\n",
    "  2\n",
    ")\n",
    "\n",
    "rr <- resample(\n",
    "  tsk(\"penguins\"),\n",
    "  lrn_rpart_tuned,\n",
    "  rsmp(\"cv\", folds = 5)\n",
    ")"
   ]
  },
  {
   "cell_type": "code",
   "execution_count": 15,
   "id": "f69eede1",
   "metadata": {
    "vscode": {
     "languageId": "r"
    }
   },
   "outputs": [],
   "source": [
    "# Parallelize outer loop\n",
    "future::plan(list(\"multisession\", \"sequential\"))\n",
    "\n",
    "# Alternative: skip specification of 2nd level, since future\n",
    "# sets all levels after the first to \"sequential\" by default\n",
    "future::plan(\"multisession\")"
   ]
  },
  {
   "cell_type": "code",
   "execution_count": 16,
   "id": "a12a9c33",
   "metadata": {
    "vscode": {
     "languageId": "r"
    }
   },
   "outputs": [],
   "source": [
    "# Parallelize inner loop\n",
    "future::plan(list(\"sequential\", \"multisession\"))"
   ]
  },
  {
   "cell_type": "code",
   "execution_count": 17,
   "id": "6cfe84a5",
   "metadata": {
    "vscode": {
     "languageId": "r"
    }
   },
   "outputs": [],
   "source": [
    "# Runs both loops in parallel\n",
    "future::plan(list(\n",
    "  tweak(\"multisession\", workers = 2),\n",
    "  tweak(\"multisession\", workers = 2)\n",
    "))"
   ]
  },
  {
   "cell_type": "code",
   "execution_count": 53,
   "id": "6bf23af0",
   "metadata": {
    "vscode": {
     "languageId": "r"
    }
   },
   "outputs": [
    {
     "name": "stdout",
     "output_type": "stream",
     "text": [
      "INFO  [09:21:17.008] [mlr3] Applying learner 'classif.rpart.tuned' on task 'penguins' (iter 1/5)\n",
      "INFO  [09:21:17.050] [bbotk] Starting to optimize 1 parameter(s) with '<OptimizerBatchRandomSearch>' and '<TerminatorEvals> [n_evals=2, k=0]'\n",
      "INFO  [09:21:17.055] [bbotk] Evaluating 2 configuration(s)\n",
      "INFO  [09:21:17.058] [mlr3] Running benchmark with 2 resampling iterations\n",
      "INFO  [09:21:17.061] [mlr3] Applying learner 'classif.rpart' on task 'penguins' (iter 1/1)\n",
      "INFO  [09:21:17.068] [mlr3] Applying learner 'classif.rpart' on task 'penguins' (iter 1/1)\n",
      "INFO  [09:21:17.073] [mlr3] Finished benchmark\n",
      "INFO  [09:21:17.089] [bbotk] Result of batch 1:\n",
      "INFO  [09:21:17.091] [bbotk]  minsplit classif.ce warnings errors runtime_learners\n",
      "INFO  [09:21:17.091] [bbotk]        36 0.07608696        0      0            0.003\n",
      "INFO  [09:21:17.091] [bbotk]        90 0.07608696        0      0            0.003\n",
      "INFO  [09:21:17.091] [bbotk]                                 uhash\n",
      "INFO  [09:21:17.091] [bbotk]  0411e574-6ce8-4eaf-b6f9-d0a89228fc3e\n",
      "INFO  [09:21:17.091] [bbotk]  3ee6e379-1d79-4fc3-913a-33ab101a224f\n",
      "INFO  [09:21:17.099] [bbotk] Finished optimizing after 2 evaluation(s)\n",
      "INFO  [09:21:17.100] [bbotk] Result:\n",
      "INFO  [09:21:17.100] [bbotk]  minsplit learner_param_vals  x_domain classif.ce\n",
      "INFO  [09:21:17.100] [bbotk]     <int>             <list>    <list>      <num>\n",
      "INFO  [09:21:17.100] [bbotk]        36          <list[2]> <list[1]> 0.07608696\n",
      "INFO  [09:21:17.110] [mlr3] Applying learner 'classif.rpart.tuned' on task 'penguins' (iter 2/5)\n",
      "INFO  [09:21:17.150] [bbotk] Starting to optimize 1 parameter(s) with '<OptimizerBatchRandomSearch>' and '<TerminatorEvals> [n_evals=2, k=0]'\n",
      "INFO  [09:21:17.155] [bbotk] Evaluating 2 configuration(s)\n",
      "INFO  [09:21:17.157] [mlr3] Running benchmark with 2 resampling iterations\n",
      "INFO  [09:21:17.161] [mlr3] Applying learner 'classif.rpart' on task 'penguins' (iter 1/1)\n",
      "INFO  [09:21:17.167] [mlr3] Applying learner 'classif.rpart' on task 'penguins' (iter 1/1)\n",
      "INFO  [09:21:17.171] [mlr3] Finished benchmark\n",
      "INFO  [09:21:17.186] [bbotk] Result of batch 1:\n",
      "INFO  [09:21:17.187] [bbotk]  minsplit classif.ce warnings errors runtime_learners\n",
      "INFO  [09:21:17.187] [bbotk]        94 0.05434783        0      0            0.002\n",
      "INFO  [09:21:17.187] [bbotk]       117 0.19565217        0      0            0.002\n",
      "INFO  [09:21:17.187] [bbotk]                                 uhash\n",
      "INFO  [09:21:17.187] [bbotk]  1e04c9ee-cb0e-41de-92e9-73868f843058\n",
      "INFO  [09:21:17.187] [bbotk]  2fd35a3c-3b06-464e-8da7-f9d76f75d411\n",
      "INFO  [09:21:17.195] [bbotk] Finished optimizing after 2 evaluation(s)\n",
      "INFO  [09:21:17.195] [bbotk] Result:\n",
      "INFO  [09:21:17.196] [bbotk]  minsplit learner_param_vals  x_domain classif.ce\n",
      "INFO  [09:21:17.196] [bbotk]     <int>             <list>    <list>      <num>\n",
      "INFO  [09:21:17.196] [bbotk]        94          <list[2]> <list[1]> 0.05434783\n",
      "INFO  [09:21:17.205] [mlr3] Applying learner 'classif.rpart.tuned' on task 'penguins' (iter 3/5)\n",
      "INFO  [09:21:17.247] [bbotk] Starting to optimize 1 parameter(s) with '<OptimizerBatchRandomSearch>' and '<TerminatorEvals> [n_evals=2, k=0]'\n",
      "INFO  [09:21:17.252] [bbotk] Evaluating 2 configuration(s)\n",
      "INFO  [09:21:17.255] [mlr3] Running benchmark with 2 resampling iterations\n",
      "INFO  [09:21:17.257] [mlr3] Applying learner 'classif.rpart' on task 'penguins' (iter 1/1)\n",
      "INFO  [09:21:17.263] [mlr3] Applying learner 'classif.rpart' on task 'penguins' (iter 1/1)\n",
      "INFO  [09:21:17.268] [mlr3] Finished benchmark\n",
      "INFO  [09:21:17.282] [bbotk] Result of batch 1:\n",
      "INFO  [09:21:17.283] [bbotk]  minsplit classif.ce warnings errors runtime_learners\n",
      "INFO  [09:21:17.283] [bbotk]       111 0.05434783        0      0            0.002\n",
      "INFO  [09:21:17.283] [bbotk]        17 0.05434783        0      0            0.002\n",
      "INFO  [09:21:17.283] [bbotk]                                 uhash\n",
      "INFO  [09:21:17.283] [bbotk]  2fa98ffd-9596-4752-b339-3d2bb8b6acce\n",
      "INFO  [09:21:17.283] [bbotk]  b854b4fb-bef8-4037-9f44-0ac03522a48a\n",
      "INFO  [09:21:17.290] [bbotk] Finished optimizing after 2 evaluation(s)\n",
      "INFO  [09:21:17.290] [bbotk] Result:\n",
      "INFO  [09:21:17.291] [bbotk]  minsplit learner_param_vals  x_domain classif.ce\n",
      "INFO  [09:21:17.291] [bbotk]     <int>             <list>    <list>      <num>\n",
      "INFO  [09:21:17.291] [bbotk]       111          <list[2]> <list[1]> 0.05434783\n",
      "INFO  [09:21:17.300] [mlr3] Applying learner 'classif.rpart.tuned' on task 'penguins' (iter 4/5)\n",
      "INFO  [09:21:17.336] [bbotk] Starting to optimize 1 parameter(s) with '<OptimizerBatchRandomSearch>' and '<TerminatorEvals> [n_evals=2, k=0]'\n",
      "INFO  [09:21:17.341] [bbotk] Evaluating 2 configuration(s)\n",
      "INFO  [09:21:17.343] [mlr3] Running benchmark with 2 resampling iterations\n",
      "INFO  [09:21:17.346] [mlr3] Applying learner 'classif.rpart' on task 'penguins' (iter 1/1)\n",
      "INFO  [09:21:17.352] [mlr3] Applying learner 'classif.rpart' on task 'penguins' (iter 1/1)\n",
      "INFO  [09:21:17.356] [mlr3] Finished benchmark\n",
      "INFO  [09:21:17.371] [bbotk] Result of batch 1:\n",
      "INFO  [09:21:17.372] [bbotk]  minsplit classif.ce warnings errors runtime_learners\n",
      "INFO  [09:21:17.372] [bbotk]        51 0.02173913        0      0            0.003\n",
      "INFO  [09:21:17.372] [bbotk]        25 0.02173913        0      0            0.002\n",
      "INFO  [09:21:17.372] [bbotk]                                 uhash\n",
      "INFO  [09:21:17.372] [bbotk]  cdfa6e66-3f1c-41c0-9fa2-42fb28a5a44f\n",
      "INFO  [09:21:17.372] [bbotk]  862f81bb-4a87-4862-b40a-cb948d244f5d\n",
      "INFO  [09:21:17.379] [bbotk] Finished optimizing after 2 evaluation(s)\n",
      "INFO  [09:21:17.380] [bbotk] Result:\n",
      "INFO  [09:21:17.381] [bbotk]  minsplit learner_param_vals  x_domain classif.ce\n",
      "INFO  [09:21:17.381] [bbotk]     <int>             <list>    <list>      <num>\n",
      "INFO  [09:21:17.381] [bbotk]        51          <list[2]> <list[1]> 0.02173913\n",
      "INFO  [09:21:17.389] [mlr3] Applying learner 'classif.rpart.tuned' on task 'penguins' (iter 5/5)\n",
      "INFO  [09:21:17.425] [bbotk] Starting to optimize 1 parameter(s) with '<OptimizerBatchRandomSearch>' and '<TerminatorEvals> [n_evals=2, k=0]'\n",
      "INFO  [09:21:17.431] [bbotk] Evaluating 2 configuration(s)\n",
      "INFO  [09:21:17.433] [mlr3] Running benchmark with 2 resampling iterations\n",
      "INFO  [09:21:17.436] [mlr3] Applying learner 'classif.rpart' on task 'penguins' (iter 1/1)\n",
      "INFO  [09:21:17.442] [mlr3] Applying learner 'classif.rpart' on task 'penguins' (iter 1/1)\n",
      "INFO  [09:21:17.451] [mlr3] Finished benchmark\n",
      "INFO  [09:21:17.467] [bbotk] Result of batch 1:\n",
      "INFO  [09:21:17.468] [bbotk]  minsplit classif.ce warnings errors runtime_learners\n",
      "INFO  [09:21:17.468] [bbotk]        90 0.08695652        0      0            0.003\n",
      "INFO  [09:21:17.468] [bbotk]        87 0.08695652        0      0            0.007\n",
      "INFO  [09:21:17.468] [bbotk]                                 uhash\n",
      "INFO  [09:21:17.468] [bbotk]  ec0b35d4-d690-4e14-9208-c2ca3f1e2f45\n",
      "INFO  [09:21:17.468] [bbotk]  dbbcb3f5-4cde-415c-95ff-682afb1614d8\n",
      "INFO  [09:21:17.475] [bbotk] Finished optimizing after 2 evaluation(s)\n",
      "INFO  [09:21:17.475] [bbotk] Result:\n",
      "INFO  [09:21:17.477] [bbotk]  minsplit learner_param_vals  x_domain classif.ce\n",
      "INFO  [09:21:17.477] [bbotk]     <int>             <list>    <list>      <num>\n",
      "INFO  [09:21:17.477] [bbotk]        90          <list[2]> <list[1]> 0.08695652\n"
     ]
    },
    {
     "data": {
      "text/plain": [
       "   user  system elapsed \n",
       "  0.473   0.012   0.487 "
      ]
     },
     "metadata": {},
     "output_type": "display_data"
    }
   ],
   "source": [
    "library(mlr3tuning)\n",
    "# reset to default sequential plan\n",
    "future::plan(\"sequential\")\n",
    "\n",
    "lrn_rpart <- lrn(\n",
    "  \"classif.rpart\",\n",
    "  minsplit = to_tune(2, 128)\n",
    ")\n",
    "\n",
    "lrn_rpart_tuned <- auto_tuner(\n",
    "  tnr(\"random_search\", batch_size = 2),\n",
    "  lrn_rpart,\n",
    "  rsmp(\"holdout\"),\n",
    "  msr(\"classif.ce\"),\n",
    "  2\n",
    ")\n",
    "\n",
    "system.time({\n",
    "  rr <- resample(\n",
    "    tsk(\"penguins\"),\n",
    "    lrn_rpart_tuned,\n",
    "    rsmp(\"cv\", folds = 5)\n",
    "  )\n",
    "})"
   ]
  },
  {
   "cell_type": "code",
   "execution_count": 54,
   "id": "24f68871",
   "metadata": {
    "vscode": {
     "languageId": "r"
    }
   },
   "outputs": [
    {
     "name": "stdout",
     "output_type": "stream",
     "text": [
      "INFO  [09:21:32.416] [mlr3] Applying learner 'classif.rpart.tuned' on task 'penguins' (iter 1/5)\n",
      "INFO  [09:21:32.536] [bbotk] Starting to optimize 1 parameter(s) with '<OptimizerBatchRandomSearch>' and '<TerminatorEvals> [n_evals=2, k=0]'\n",
      "INFO  [09:21:32.560] [bbotk] Evaluating 2 configuration(s)\n",
      "INFO  [09:21:32.564] [mlr3] Running benchmark with 2 resampling iterations\n",
      "INFO  [09:21:32.604] [mlr3] Applying learner 'classif.rpart' on task 'penguins' (iter 1/1)\n",
      "INFO  [09:21:32.617] [mlr3] Applying learner 'classif.rpart' on task 'penguins' (iter 1/1)\n",
      "INFO  [09:21:32.623] [mlr3] Finished benchmark\n",
      "INFO  [09:21:32.646] [bbotk] Result of batch 1:\n",
      "INFO  [09:21:32.648] [bbotk]  minsplit classif.ce warnings errors runtime_learners\n",
      "INFO  [09:21:32.648] [bbotk]        35 0.04347826        0      0            0.008\n",
      "INFO  [09:21:32.648] [bbotk]        69 0.04347826        0      0            0.003\n",
      "INFO  [09:21:32.648] [bbotk]                                 uhash\n",
      "INFO  [09:21:32.648] [bbotk]  9091fb22-77e0-47fc-ab3e-c7705818ea6b\n",
      "INFO  [09:21:32.648] [bbotk]  c60700c8-4baa-4a3f-87a8-d46a7857484d\n",
      "INFO  [09:21:32.657] [bbotk] Finished optimizing after 2 evaluation(s)\n",
      "INFO  [09:21:32.657] [bbotk] Result:\n",
      "INFO  [09:21:32.658] [bbotk]  minsplit learner_param_vals  x_domain classif.ce\n",
      "INFO  [09:21:32.658] [bbotk]     <int>             <list>    <list>      <num>\n",
      "INFO  [09:21:32.658] [bbotk]        35          <list[2]> <list[1]> 0.04347826\n",
      "INFO  [09:21:32.597] [mlr3] Applying learner 'classif.rpart.tuned' on task 'penguins' (iter 2/5)\n",
      "INFO  [09:21:32.704] [bbotk] Starting to optimize 1 parameter(s) with '<OptimizerBatchRandomSearch>' and '<TerminatorEvals> [n_evals=2, k=0]'\n",
      "INFO  [09:21:32.727] [bbotk] Evaluating 2 configuration(s)\n",
      "INFO  [09:21:32.732] [mlr3] Running benchmark with 2 resampling iterations\n",
      "INFO  [09:21:32.770] [mlr3] Applying learner 'classif.rpart' on task 'penguins' (iter 1/1)\n",
      "INFO  [09:21:32.784] [mlr3] Applying learner 'classif.rpart' on task 'penguins' (iter 1/1)\n",
      "INFO  [09:21:32.790] [mlr3] Finished benchmark\n",
      "INFO  [09:21:32.809] [bbotk] Result of batch 1:\n",
      "INFO  [09:21:32.812] [bbotk]  minsplit classif.ce warnings errors runtime_learners\n",
      "INFO  [09:21:32.812] [bbotk]        60 0.05434783        0      0            0.009\n",
      "INFO  [09:21:32.812] [bbotk]        79 0.05434783        0      0            0.002\n",
      "INFO  [09:21:32.812] [bbotk]                                 uhash\n",
      "INFO  [09:21:32.812] [bbotk]  36c60667-4e67-4a3e-94c7-355c7cb857ca\n",
      "INFO  [09:21:32.812] [bbotk]  93ff2450-d88d-4d6a-a1ae-1a2cadf1475d\n",
      "INFO  [09:21:32.822] [bbotk] Finished optimizing after 2 evaluation(s)\n",
      "INFO  [09:21:32.822] [bbotk] Result:\n",
      "INFO  [09:21:32.823] [bbotk]  minsplit learner_param_vals  x_domain classif.ce\n",
      "INFO  [09:21:32.823] [bbotk]     <int>             <list>    <list>      <num>\n",
      "INFO  [09:21:32.823] [bbotk]        60          <list[2]> <list[1]> 0.05434783\n",
      "INFO  [09:21:32.757] [mlr3] Applying learner 'classif.rpart.tuned' on task 'penguins' (iter 3/5)\n",
      "INFO  [09:21:32.864] [bbotk] Starting to optimize 1 parameter(s) with '<OptimizerBatchRandomSearch>' and '<TerminatorEvals> [n_evals=2, k=0]'\n",
      "INFO  [09:21:32.885] [bbotk] Evaluating 2 configuration(s)\n",
      "INFO  [09:21:32.889] [mlr3] Running benchmark with 2 resampling iterations\n",
      "INFO  [09:21:32.929] [mlr3] Applying learner 'classif.rpart' on task 'penguins' (iter 1/1)\n",
      "INFO  [09:21:32.942] [mlr3] Applying learner 'classif.rpart' on task 'penguins' (iter 1/1)\n",
      "INFO  [09:21:32.948] [mlr3] Finished benchmark\n",
      "INFO  [09:21:32.968] [bbotk] Result of batch 1:\n",
      "INFO  [09:21:32.970] [bbotk]  minsplit classif.ce warnings errors runtime_learners\n",
      "INFO  [09:21:32.970] [bbotk]        52 0.06521739        0      0            0.007\n",
      "INFO  [09:21:32.970] [bbotk]        56 0.06521739        0      0            0.002\n",
      "INFO  [09:21:32.970] [bbotk]                                 uhash\n",
      "INFO  [09:21:32.970] [bbotk]  cc732f6b-cf40-4373-95ef-aca134a87342\n",
      "INFO  [09:21:32.970] [bbotk]  db1a1829-c38d-4199-99a8-6099f956bffe\n",
      "INFO  [09:21:32.982] [bbotk] Finished optimizing after 2 evaluation(s)\n",
      "INFO  [09:21:32.982] [bbotk] Result:\n",
      "INFO  [09:21:32.983] [bbotk]  minsplit learner_param_vals  x_domain classif.ce\n",
      "INFO  [09:21:32.983] [bbotk]     <int>             <list>    <list>      <num>\n",
      "INFO  [09:21:32.983] [bbotk]        52          <list[2]> <list[1]> 0.06521739\n",
      "INFO  [09:21:32.910] [mlr3] Applying learner 'classif.rpart.tuned' on task 'penguins' (iter 4/5)\n",
      "INFO  [09:21:33.014] [bbotk] Starting to optimize 1 parameter(s) with '<OptimizerBatchRandomSearch>' and '<TerminatorEvals> [n_evals=2, k=0]'\n",
      "INFO  [09:21:33.033] [bbotk] Evaluating 2 configuration(s)\n",
      "INFO  [09:21:33.036] [mlr3] Running benchmark with 2 resampling iterations\n",
      "INFO  [09:21:33.070] [mlr3] Applying learner 'classif.rpart' on task 'penguins' (iter 1/1)\n",
      "INFO  [09:21:33.082] [mlr3] Applying learner 'classif.rpart' on task 'penguins' (iter 1/1)\n",
      "INFO  [09:21:33.087] [mlr3] Finished benchmark\n",
      "INFO  [09:21:33.104] [bbotk] Result of batch 1:\n",
      "INFO  [09:21:33.106] [bbotk]  minsplit classif.ce warnings errors runtime_learners\n",
      "INFO  [09:21:33.106] [bbotk]        76 0.06521739        0      0            0.007\n",
      "INFO  [09:21:33.106] [bbotk]        39 0.06521739        0      0            0.003\n",
      "INFO  [09:21:33.106] [bbotk]                                 uhash\n",
      "INFO  [09:21:33.106] [bbotk]  e4814e55-a6f8-43dc-9cbd-0415db11b80c\n",
      "INFO  [09:21:33.106] [bbotk]  fde182f3-2602-4109-b197-d722ba497e37\n",
      "INFO  [09:21:33.116] [bbotk] Finished optimizing after 2 evaluation(s)\n",
      "INFO  [09:21:33.116] [bbotk] Result:\n",
      "INFO  [09:21:33.117] [bbotk]  minsplit learner_param_vals  x_domain classif.ce\n",
      "INFO  [09:21:33.117] [bbotk]     <int>             <list>    <list>      <num>\n",
      "INFO  [09:21:33.117] [bbotk]        76          <list[2]> <list[1]> 0.06521739\n",
      "INFO  [09:21:32.881] [mlr3] Applying learner 'classif.rpart.tuned' on task 'penguins' (iter 5/5)\n",
      "INFO  [09:21:32.926] [bbotk] Starting to optimize 1 parameter(s) with '<OptimizerBatchRandomSearch>' and '<TerminatorEvals> [n_evals=2, k=0]'\n",
      "INFO  [09:21:32.931] [bbotk] Evaluating 2 configuration(s)\n",
      "INFO  [09:21:32.934] [mlr3] Running benchmark with 2 resampling iterations\n",
      "INFO  [09:21:32.936] [mlr3] Applying learner 'classif.rpart' on task 'penguins' (iter 1/1)\n",
      "INFO  [09:21:32.943] [mlr3] Applying learner 'classif.rpart' on task 'penguins' (iter 1/1)\n",
      "INFO  [09:21:32.948] [mlr3] Finished benchmark\n",
      "INFO  [09:21:32.966] [bbotk] Result of batch 1:\n",
      "INFO  [09:21:32.967] [bbotk]  minsplit classif.ce warnings errors runtime_learners\n",
      "INFO  [09:21:32.967] [bbotk]       117 0.17391304        0      0            0.002\n",
      "INFO  [09:21:32.967] [bbotk]        69 0.04347826        0      0            0.003\n",
      "INFO  [09:21:32.967] [bbotk]                                 uhash\n",
      "INFO  [09:21:32.967] [bbotk]  2b89dc33-e54d-468d-b0b9-ea20adc1515e\n",
      "INFO  [09:21:32.967] [bbotk]  d9cd0565-6836-409b-ba23-893b7cc9893b\n",
      "INFO  [09:21:32.975] [bbotk] Finished optimizing after 2 evaluation(s)\n",
      "INFO  [09:21:32.976] [bbotk] Result:\n",
      "INFO  [09:21:32.976] [bbotk]  minsplit learner_param_vals  x_domain classif.ce\n",
      "INFO  [09:21:32.976] [bbotk]     <int>             <list>    <list>      <num>\n",
      "INFO  [09:21:32.976] [bbotk]        69          <list[2]> <list[1]> 0.04347826\n"
     ]
    },
    {
     "data": {
      "text/plain": [
       "   user  system elapsed \n",
       "  0.106   0.005   0.858 "
      ]
     },
     "metadata": {},
     "output_type": "display_data"
    }
   ],
   "source": [
    "plan(\"multisession\", workers = 4)\n",
    "\n",
    "system.time({\n",
    "  rr <- resample(\n",
    "    tsk(\"penguins\"),\n",
    "    lrn_rpart_tuned,\n",
    "    rsmp(\"cv\", folds = 5)\n",
    "  )\n",
    "})"
   ]
  },
  {
   "cell_type": "code",
   "execution_count": 56,
   "id": "a440b4da",
   "metadata": {
    "vscode": {
     "languageId": "r"
    }
   },
   "outputs": [
    {
     "name": "stdout",
     "output_type": "stream",
     "text": [
      "INFO  [09:22:04.822] [mlr3] Applying learner 'classif.rpart.tuned' on task 'penguins' (iter 1/5)\n",
      "INFO  [09:22:04.951] [bbotk] Starting to optimize 1 parameter(s) with '<OptimizerBatchRandomSearch>' and '<TerminatorEvals> [n_evals=2, k=0]'\n",
      "INFO  [09:22:04.977] [bbotk] Evaluating 2 configuration(s)\n",
      "INFO  [09:22:04.981] [mlr3] Running benchmark with 2 resampling iterations\n",
      "INFO  [09:22:05.024] [mlr3] Applying learner 'classif.rpart' on task 'penguins' (iter 1/1)\n",
      "INFO  [09:22:05.036] [mlr3] Applying learner 'classif.rpart' on task 'penguins' (iter 1/1)\n",
      "INFO  [09:22:05.042] [mlr3] Finished benchmark\n",
      "INFO  [09:22:05.063] [bbotk] Result of batch 1:\n",
      "INFO  [09:22:05.065] [bbotk]  minsplit classif.ce warnings errors runtime_learners\n",
      "INFO  [09:22:05.065] [bbotk]        47 0.06521739        0      0            0.006\n",
      "INFO  [09:22:05.065] [bbotk]        71 0.06521739        0      0            0.002\n",
      "INFO  [09:22:05.065] [bbotk]                                 uhash\n",
      "INFO  [09:22:05.065] [bbotk]  0ded7b30-2e60-4a5a-8a6c-4f8abda9e5a1\n",
      "INFO  [09:22:05.065] [bbotk]  e3c9e939-7d17-4220-b92a-aa97c9cd8320\n",
      "INFO  [09:22:05.074] [bbotk] Finished optimizing after 2 evaluation(s)\n",
      "INFO  [09:22:05.074] [bbotk] Result:\n",
      "INFO  [09:22:05.076] [bbotk]  minsplit learner_param_vals  x_domain classif.ce\n",
      "INFO  [09:22:05.076] [bbotk]     <int>             <list>    <list>      <num>\n",
      "INFO  [09:22:05.076] [bbotk]        47          <list[2]> <list[1]> 0.06521739\n",
      "INFO  [09:22:05.031] [mlr3] Applying learner 'classif.rpart.tuned' on task 'penguins' (iter 2/5)\n",
      "INFO  [09:22:05.142] [bbotk] Starting to optimize 1 parameter(s) with '<OptimizerBatchRandomSearch>' and '<TerminatorEvals> [n_evals=2, k=0]'\n",
      "INFO  [09:22:05.167] [bbotk] Evaluating 2 configuration(s)\n",
      "INFO  [09:22:05.172] [mlr3] Running benchmark with 2 resampling iterations\n",
      "INFO  [09:22:05.219] [mlr3] Applying learner 'classif.rpart' on task 'penguins' (iter 1/1)\n",
      "INFO  [09:22:05.236] [mlr3] Applying learner 'classif.rpart' on task 'penguins' (iter 1/1)\n",
      "INFO  [09:22:05.243] [mlr3] Finished benchmark\n",
      "INFO  [09:22:05.268] [bbotk] Result of batch 1:\n",
      "INFO  [09:22:05.270] [bbotk]  minsplit classif.ce warnings errors runtime_learners\n",
      "INFO  [09:22:05.270] [bbotk]        39 0.05434783        0      0            0.009\n",
      "INFO  [09:22:05.270] [bbotk]       122 0.22826087        0      0            0.004\n",
      "INFO  [09:22:05.270] [bbotk]                                 uhash\n",
      "INFO  [09:22:05.270] [bbotk]  e9b6f11d-399c-4fab-b891-ec0660481923\n",
      "INFO  [09:22:05.270] [bbotk]  0eaab80e-d8ad-4c99-9406-380afa49d799\n",
      "INFO  [09:22:05.284] [bbotk] Finished optimizing after 2 evaluation(s)\n",
      "INFO  [09:22:05.284] [bbotk] Result:\n",
      "INFO  [09:22:05.285] [bbotk]  minsplit learner_param_vals  x_domain classif.ce\n",
      "INFO  [09:22:05.285] [bbotk]     <int>             <list>    <list>      <num>\n",
      "INFO  [09:22:05.285] [bbotk]        39          <list[2]> <list[1]> 0.05434783\n",
      "INFO  [09:22:05.223] [mlr3] Applying learner 'classif.rpart.tuned' on task 'penguins' (iter 3/5)\n",
      "INFO  [09:22:05.337] [bbotk] Starting to optimize 1 parameter(s) with '<OptimizerBatchRandomSearch>' and '<TerminatorEvals> [n_evals=2, k=0]'\n",
      "INFO  [09:22:05.358] [bbotk] Evaluating 2 configuration(s)\n",
      "INFO  [09:22:05.362] [mlr3] Running benchmark with 2 resampling iterations\n",
      "INFO  [09:22:05.403] [mlr3] Applying learner 'classif.rpart' on task 'penguins' (iter 1/1)\n",
      "INFO  [09:22:05.419] [mlr3] Applying learner 'classif.rpart' on task 'penguins' (iter 1/1)\n",
      "INFO  [09:22:05.428] [mlr3] Finished benchmark\n",
      "INFO  [09:22:05.452] [bbotk] Result of batch 1:\n",
      "INFO  [09:22:05.456] [bbotk]  minsplit classif.ce warnings errors runtime_learners\n",
      "INFO  [09:22:05.456] [bbotk]        55 0.09782609        0      0            0.011\n",
      "INFO  [09:22:05.456] [bbotk]        93 0.09782609        0      0            0.003\n",
      "INFO  [09:22:05.456] [bbotk]                                 uhash\n",
      "INFO  [09:22:05.456] [bbotk]  41dfcf15-44c0-449d-be7e-4bd5e89611d9\n",
      "INFO  [09:22:05.456] [bbotk]  34f77170-6604-4ff5-a56e-b67c9d1c820e\n",
      "INFO  [09:22:05.470] [bbotk] Finished optimizing after 2 evaluation(s)\n",
      "INFO  [09:22:05.470] [bbotk] Result:\n",
      "INFO  [09:22:05.471] [bbotk]  minsplit learner_param_vals  x_domain classif.ce\n",
      "INFO  [09:22:05.471] [bbotk]     <int>             <list>    <list>      <num>\n",
      "INFO  [09:22:05.471] [bbotk]        55          <list[2]> <list[1]> 0.09782609\n",
      "INFO  [09:22:05.402] [mlr3] Applying learner 'classif.rpart.tuned' on task 'penguins' (iter 4/5)\n",
      "INFO  [09:22:05.523] [bbotk] Starting to optimize 1 parameter(s) with '<OptimizerBatchRandomSearch>' and '<TerminatorEvals> [n_evals=2, k=0]'\n",
      "INFO  [09:22:05.543] [bbotk] Evaluating 2 configuration(s)\n",
      "INFO  [09:22:05.547] [mlr3] Running benchmark with 2 resampling iterations\n",
      "INFO  [09:22:05.585] [mlr3] Applying learner 'classif.rpart' on task 'penguins' (iter 1/1)\n",
      "INFO  [09:22:05.598] [mlr3] Applying learner 'classif.rpart' on task 'penguins' (iter 1/1)\n",
      "INFO  [09:22:05.604] [mlr3] Finished benchmark\n",
      "INFO  [09:22:05.622] [bbotk] Result of batch 1:\n",
      "INFO  [09:22:05.624] [bbotk]  minsplit classif.ce warnings errors runtime_learners\n",
      "INFO  [09:22:05.624] [bbotk]        74 0.09782609        0      0            0.007\n",
      "INFO  [09:22:05.624] [bbotk]        10 0.05434783        0      0            0.002\n",
      "INFO  [09:22:05.624] [bbotk]                                 uhash\n",
      "INFO  [09:22:05.624] [bbotk]  052d07c3-6837-4f4e-b11d-a0a1b4424bbb\n",
      "INFO  [09:22:05.624] [bbotk]  925adcf0-bebe-401f-8fb9-a1a82dc27550\n",
      "INFO  [09:22:05.635] [bbotk] Finished optimizing after 2 evaluation(s)\n",
      "INFO  [09:22:05.635] [bbotk] Result:\n",
      "INFO  [09:22:05.636] [bbotk]  minsplit learner_param_vals  x_domain classif.ce\n",
      "INFO  [09:22:05.636] [bbotk]     <int>             <list>    <list>      <num>\n",
      "INFO  [09:22:05.636] [bbotk]        10          <list[2]> <list[1]> 0.05434783\n",
      "INFO  [09:22:05.597] [mlr3] Applying learner 'classif.rpart.tuned' on task 'penguins' (iter 5/5)\n",
      "INFO  [09:22:05.694] [bbotk] Starting to optimize 1 parameter(s) with '<OptimizerBatchRandomSearch>' and '<TerminatorEvals> [n_evals=2, k=0]'\n",
      "INFO  [09:22:05.712] [bbotk] Evaluating 2 configuration(s)\n",
      "INFO  [09:22:05.716] [mlr3] Running benchmark with 2 resampling iterations\n",
      "INFO  [09:22:05.750] [mlr3] Applying learner 'classif.rpart' on task 'penguins' (iter 1/1)\n",
      "INFO  [09:22:05.762] [mlr3] Applying learner 'classif.rpart' on task 'penguins' (iter 1/1)\n",
      "INFO  [09:22:05.767] [mlr3] Finished benchmark\n",
      "INFO  [09:22:05.787] [bbotk] Result of batch 1:\n",
      "INFO  [09:22:05.789] [bbotk]  minsplit classif.ce warnings errors runtime_learners\n",
      "INFO  [09:22:05.789] [bbotk]        83 0.07608696        0      0            0.007\n",
      "INFO  [09:22:05.789] [bbotk]        61 0.07608696        0      0            0.003\n",
      "INFO  [09:22:05.789] [bbotk]                                 uhash\n",
      "INFO  [09:22:05.789] [bbotk]  77a302e7-1737-43d3-8a0c-f4afe5433323\n",
      "INFO  [09:22:05.789] [bbotk]  1ac8bdbb-a0e1-41a0-be08-8dfbecc9137a\n",
      "INFO  [09:22:05.800] [bbotk] Finished optimizing after 2 evaluation(s)\n",
      "INFO  [09:22:05.800] [bbotk] Result:\n",
      "INFO  [09:22:05.801] [bbotk]  minsplit learner_param_vals  x_domain classif.ce\n",
      "INFO  [09:22:05.801] [bbotk]     <int>             <list>    <list>      <num>\n",
      "INFO  [09:22:05.801] [bbotk]        83          <list[2]> <list[1]> 0.07608696\n"
     ]
    },
    {
     "data": {
      "text/plain": [
       "   user  system elapsed \n",
       "  0.186   0.008   1.157 "
      ]
     },
     "metadata": {},
     "output_type": "display_data"
    }
   ],
   "source": [
    "plan(list(\"multisession\", \"sequential\"))\n",
    "system.time({\n",
    "  rr <- resample(\n",
    "    tsk(\"penguins\"),\n",
    "    lrn_rpart_tuned,\n",
    "    rsmp(\"cv\", folds = 5)\n",
    "  )\n",
    "})"
   ]
  },
  {
   "cell_type": "code",
   "execution_count": 57,
   "id": "9fc7f5ea",
   "metadata": {
    "vscode": {
     "languageId": "r"
    }
   },
   "outputs": [
    {
     "name": "stdout",
     "output_type": "stream",
     "text": [
      "INFO  [09:22:27.540] [mlr3] Applying learner 'classif.rpart.tuned' on task 'penguins' (iter 1/5)\n",
      "INFO  [09:22:27.578] [bbotk] Starting to optimize 1 parameter(s) with '<OptimizerBatchRandomSearch>' and '<TerminatorEvals> [n_evals=2, k=0]'\n",
      "INFO  [09:22:27.583] [bbotk] Evaluating 2 configuration(s)\n",
      "INFO  [09:22:27.586] [mlr3] Running benchmark with 2 resampling iterations\n",
      "INFO  [09:22:28.011] [mlr3] Applying learner 'classif.rpart' on task 'penguins' (iter 1/1)\n",
      "INFO  [09:22:28.137] [mlr3] Applying learner 'classif.rpart' on task 'penguins' (iter 1/1)\n",
      "INFO  [09:22:28.156] [mlr3] Finished benchmark\n",
      "INFO  [09:22:28.172] [bbotk] Result of batch 1:\n",
      "INFO  [09:22:28.174] [bbotk]  minsplit classif.ce warnings errors runtime_learners\n",
      "INFO  [09:22:28.174] [bbotk]       110 0.08695652        0      0             0.01\n",
      "INFO  [09:22:28.174] [bbotk]        84 0.09782609        0      0             0.01\n",
      "INFO  [09:22:28.174] [bbotk]                                 uhash\n",
      "INFO  [09:22:28.174] [bbotk]  d8159aac-98e0-4196-9110-210750a228b9\n",
      "INFO  [09:22:28.174] [bbotk]  85a2306b-59ba-4594-8d75-1478da29ab76\n",
      "INFO  [09:22:28.181] [bbotk] Finished optimizing after 2 evaluation(s)\n",
      "INFO  [09:22:28.182] [bbotk] Result:\n",
      "INFO  [09:22:28.183] [bbotk]  minsplit learner_param_vals  x_domain classif.ce\n",
      "INFO  [09:22:28.183] [bbotk]     <int>             <list>    <list>      <num>\n",
      "INFO  [09:22:28.183] [bbotk]       110          <list[2]> <list[1]> 0.08695652\n",
      "INFO  [09:22:28.195] [mlr3] Applying learner 'classif.rpart.tuned' on task 'penguins' (iter 2/5)\n",
      "INFO  [09:22:28.239] [bbotk] Starting to optimize 1 parameter(s) with '<OptimizerBatchRandomSearch>' and '<TerminatorEvals> [n_evals=2, k=0]'\n",
      "INFO  [09:22:28.245] [bbotk] Evaluating 2 configuration(s)\n",
      "INFO  [09:22:28.251] [mlr3] Running benchmark with 2 resampling iterations\n",
      "INFO  [09:22:28.330] [mlr3] Applying learner 'classif.rpart' on task 'penguins' (iter 1/1)\n",
      "INFO  [09:22:28.368] [mlr3] Applying learner 'classif.rpart' on task 'penguins' (iter 1/1)\n",
      "INFO  [09:22:28.376] [mlr3] Finished benchmark\n",
      "INFO  [09:22:28.398] [bbotk] Result of batch 1:\n",
      "INFO  [09:22:28.399] [bbotk]  minsplit classif.ce warnings errors runtime_learners\n",
      "INFO  [09:22:28.399] [bbotk]        30 0.04347826        0      0            0.003\n",
      "INFO  [09:22:28.399] [bbotk]       121 0.20652174        0      0            0.002\n",
      "INFO  [09:22:28.399] [bbotk]                                 uhash\n",
      "INFO  [09:22:28.399] [bbotk]  3101f2ca-48fd-4863-b9b7-20fbcdf2b3b6\n",
      "INFO  [09:22:28.399] [bbotk]  2248ad66-3637-4853-a477-47767bd23b72\n",
      "INFO  [09:22:28.407] [bbotk] Finished optimizing after 2 evaluation(s)\n",
      "INFO  [09:22:28.408] [bbotk] Result:\n",
      "INFO  [09:22:28.412] [bbotk]  minsplit learner_param_vals  x_domain classif.ce\n",
      "INFO  [09:22:28.412] [bbotk]     <int>             <list>    <list>      <num>\n",
      "INFO  [09:22:28.412] [bbotk]        30          <list[2]> <list[1]> 0.04347826\n",
      "INFO  [09:22:28.424] [mlr3] Applying learner 'classif.rpart.tuned' on task 'penguins' (iter 3/5)\n",
      "INFO  [09:22:28.472] [bbotk] Starting to optimize 1 parameter(s) with '<OptimizerBatchRandomSearch>' and '<TerminatorEvals> [n_evals=2, k=0]'\n",
      "INFO  [09:22:28.477] [bbotk] Evaluating 2 configuration(s)\n",
      "INFO  [09:22:28.480] [mlr3] Running benchmark with 2 resampling iterations\n",
      "INFO  [09:22:28.513] [mlr3] Applying learner 'classif.rpart' on task 'penguins' (iter 1/1)\n",
      "INFO  [09:22:28.544] [mlr3] Applying learner 'classif.rpart' on task 'penguins' (iter 1/1)\n",
      "INFO  [09:22:28.549] [mlr3] Finished benchmark\n",
      "INFO  [09:22:28.564] [bbotk] Result of batch 1:\n",
      "INFO  [09:22:28.565] [bbotk]  minsplit classif.ce warnings errors runtime_learners\n",
      "INFO  [09:22:28.565] [bbotk]        72  0.0326087        0      0            0.004\n",
      "INFO  [09:22:28.565] [bbotk]        73  0.0326087        0      0            0.003\n",
      "INFO  [09:22:28.565] [bbotk]                                 uhash\n",
      "INFO  [09:22:28.565] [bbotk]  6be45cfd-bd61-4af2-9780-59f10a778782\n",
      "INFO  [09:22:28.565] [bbotk]  55ba233e-a05e-4226-81ef-dddfa20b6bf2\n",
      "INFO  [09:22:28.572] [bbotk] Finished optimizing after 2 evaluation(s)\n",
      "INFO  [09:22:28.573] [bbotk] Result:\n",
      "INFO  [09:22:28.574] [bbotk]  minsplit learner_param_vals  x_domain classif.ce\n",
      "INFO  [09:22:28.574] [bbotk]     <int>             <list>    <list>      <num>\n",
      "INFO  [09:22:28.574] [bbotk]        72          <list[2]> <list[1]>  0.0326087\n",
      "INFO  [09:22:28.585] [mlr3] Applying learner 'classif.rpart.tuned' on task 'penguins' (iter 4/5)\n",
      "INFO  [09:22:28.624] [bbotk] Starting to optimize 1 parameter(s) with '<OptimizerBatchRandomSearch>' and '<TerminatorEvals> [n_evals=2, k=0]'\n",
      "INFO  [09:22:28.630] [bbotk] Evaluating 2 configuration(s)\n",
      "INFO  [09:22:28.633] [mlr3] Running benchmark with 2 resampling iterations\n",
      "INFO  [09:22:28.669] [mlr3] Applying learner 'classif.rpart' on task 'penguins' (iter 1/1)\n",
      "INFO  [09:22:28.700] [mlr3] Applying learner 'classif.rpart' on task 'penguins' (iter 1/1)\n",
      "INFO  [09:22:28.705] [mlr3] Finished benchmark\n",
      "INFO  [09:22:28.720] [bbotk] Result of batch 1:\n",
      "INFO  [09:22:28.721] [bbotk]  minsplit classif.ce warnings errors runtime_learners\n",
      "INFO  [09:22:28.721] [bbotk]       125 0.23913043        0      0            0.003\n",
      "INFO  [09:22:28.721] [bbotk]        45 0.08695652        0      0            0.003\n",
      "INFO  [09:22:28.721] [bbotk]                                 uhash\n",
      "INFO  [09:22:28.721] [bbotk]  c307e222-37ff-414f-b40f-d4d422c8d41f\n",
      "INFO  [09:22:28.721] [bbotk]  6afeb080-a501-4afc-b230-e0788bcee5fe\n",
      "INFO  [09:22:28.729] [bbotk] Finished optimizing after 2 evaluation(s)\n",
      "INFO  [09:22:28.730] [bbotk] Result:\n",
      "INFO  [09:22:28.731] [bbotk]  minsplit learner_param_vals  x_domain classif.ce\n",
      "INFO  [09:22:28.731] [bbotk]     <int>             <list>    <list>      <num>\n",
      "INFO  [09:22:28.731] [bbotk]        45          <list[2]> <list[1]> 0.08695652\n",
      "INFO  [09:22:28.741] [mlr3] Applying learner 'classif.rpart.tuned' on task 'penguins' (iter 5/5)\n",
      "INFO  [09:22:28.779] [bbotk] Starting to optimize 1 parameter(s) with '<OptimizerBatchRandomSearch>' and '<TerminatorEvals> [n_evals=2, k=0]'\n",
      "INFO  [09:22:28.785] [bbotk] Evaluating 2 configuration(s)\n",
      "INFO  [09:22:28.787] [mlr3] Running benchmark with 2 resampling iterations\n",
      "INFO  [09:22:28.822] [mlr3] Applying learner 'classif.rpart' on task 'penguins' (iter 1/1)\n",
      "INFO  [09:22:28.859] [mlr3] Applying learner 'classif.rpart' on task 'penguins' (iter 1/1)\n",
      "INFO  [09:22:28.864] [mlr3] Finished benchmark\n",
      "INFO  [09:22:28.879] [bbotk] Result of batch 1:\n",
      "INFO  [09:22:28.880] [bbotk]  minsplit classif.ce warnings errors runtime_learners\n",
      "INFO  [09:22:28.880] [bbotk]         9  0.0326087        0      0            0.004\n",
      "INFO  [09:22:28.880] [bbotk]       104  0.2391304        0      0            0.002\n",
      "INFO  [09:22:28.880] [bbotk]                                 uhash\n",
      "INFO  [09:22:28.880] [bbotk]  eb1208fc-d584-47f3-829f-8ff498763b92\n",
      "INFO  [09:22:28.880] [bbotk]  244cfdf8-d3e3-4e74-bf4f-9cff2643b6cb\n",
      "INFO  [09:22:28.887] [bbotk] Finished optimizing after 2 evaluation(s)\n",
      "INFO  [09:22:28.888] [bbotk] Result:\n",
      "INFO  [09:22:28.888] [bbotk]  minsplit learner_param_vals  x_domain classif.ce\n",
      "INFO  [09:22:28.888] [bbotk]     <int>             <list>    <list>      <num>\n",
      "INFO  [09:22:28.888] [bbotk]         9          <list[2]> <list[1]>  0.0326087\n"
     ]
    },
    {
     "data": {
      "text/plain": [
       "   user  system elapsed \n",
       "  0.752   0.032   1.368 "
      ]
     },
     "metadata": {},
     "output_type": "display_data"
    }
   ],
   "source": [
    "plan(list(\"sequential\", \"multisession\"))\n",
    "system.time({\n",
    "  rr <- resample(\n",
    "    tsk(\"penguins\"),\n",
    "    lrn_rpart_tuned,\n",
    "    rsmp(\"cv\", folds = 5)\n",
    "  )\n",
    "})"
   ]
  },
  {
   "cell_type": "markdown",
   "id": "f619051e",
   "metadata": {},
   "source": [
    "## 预测并行化"
   ]
  },
  {
   "cell_type": "code",
   "execution_count": null,
   "id": "68f40b2a",
   "metadata": {
    "vscode": {
     "languageId": "r"
    }
   },
   "outputs": [],
   "source": [
    "# 训练随机森林（决策树）在 sonar 任务上\n",
    "tsk_sonar <- tsk(\"sonar\")\n",
    "lrn_rpart <- lrn(\"classif.rpart\")\n",
    "lrn_rpart$train(tsk_sonar)\n",
    "\n",
    "# 设置并行预测，4 个 worker\n",
    "future::plan(\"multisession\", workers = 4)\n",
    "\n",
    "# 预测\n",
    "prediction <- lrn_rpart$predict(tsk_sonar)"
   ]
  },
  {
   "cell_type": "markdown",
   "id": "1dd6c2f7",
   "metadata": {},
   "source": [
    "# 错误处理"
   ]
  },
  {
   "cell_type": "code",
   "execution_count": null,
   "id": "ec55da71",
   "metadata": {
    "vscode": {
     "languageId": "r"
    }
   },
   "outputs": [
    {
     "data": {
      "text/plain": [
       "<LearnerClassifDebug:classif.debug>: Debug Learner for Classification\n",
       "* Model: -\n",
       "* Parameters: list()\n",
       "* Validate: NULL\n",
       "* Packages: mlr3\n",
       "* Predict Types:  [response], prob\n",
       "* Feature Types: logical, integer, numeric, character, factor, ordered\n",
       "* Properties: hotstart_forward, internal_tuning, marshal, missings,\n",
       "  multiclass, twoclass, validation"
      ]
     },
     "metadata": {},
     "output_type": "display_data"
    }
   ],
   "source": [
    "tsk_penguins <- tsk(\"penguins\")\n",
    "lrn_debug <- lrn(\"classif.debug\")\n",
    "lrn_debug\n",
    "\n",
    "# <LearnerClassifDebug:classif.debug>: Debug Learner for Classification\n",
    "# * Model: -\n",
    "# * Parameters: list()\n",
    "# * Validate: NULL\n",
    "# * Packages: mlr3\n",
    "# * Predict Types:  [response], prob\n",
    "# * Feature Types: logical, integer, numeric, character, factor, ordered\n",
    "# * Properties: hotstart_forward, internal_tuning, marshal, missings,\n",
    "#   multiclass, twoclass, validation"
   ]
  },
  {
   "cell_type": "code",
   "execution_count": null,
   "id": "af557942",
   "metadata": {
    "vscode": {
     "languageId": "r"
    }
   },
   "outputs": [
    {
     "ename": "ERROR",
     "evalue": "Error in .__LearnerClassifDebug__.train(self = self, private = private, : Error from classif.debug->train()\n",
     "output_type": "error",
     "traceback": [
      "Error in .__LearnerClassifDebug__.train(self = self, private = private, : Error from classif.debug->train()\nTraceback:\n",
      "1. .__Learner__train(self = self, private = private, super = super, \n .     task = task, row_ids = row_ids)",
      "2. learner_train(learner, task, train_row_ids = train_row_ids, mode = mode)",
      "3. encapsulate(learner$encapsulation[\"train\"], .f = train_wrapper, \n .     .args = list(learner = learner, task = task), .pkgs = learner$packages, \n .     .seed = NA_integer_, .timeout = learner$timeout[\"train\"])",
      "4. invoke(.f, .args = .args, .opts = .opts, .seed = .seed, .timeout = .timeout)",
      "5. eval.parent(expr, n = 1L)",
      "6. eval(expr, p)",
      "7. eval(expr, p)",
      "8. .f(learner = <environment>, task = <environment>)",
      "9. get_private(learner)$.train(task)",
      "10. .__LearnerClassifDebug__.train(self = self, private = private, \n  .     super = super, task = task)",
      "11. stop(\"Error from classif.debug->train()\")",
      "12. .handleSimpleError(function (cnd) \n  . {\n  .     watcher$capture_plot_and_output()\n  .     cnd <- sanitize_call(cnd)\n  .     watcher$push(cnd)\n  .     switch(on_error, continue = invokeRestart(\"eval_continue\"), \n  .         stop = invokeRestart(\"eval_stop\"), error = NULL)\n  . }, \"Error from classif.debug->train()\", base::quote(.__LearnerClassifDebug__.train(self = self, \n  .     private = private, super = super, task = task)))"
     ]
    }
   ],
   "source": [
    "# set probability to signal an error to `1`\n",
    "lrn_debug$param_set$values$error_train <- 1\n",
    "lrn_debug$train(tsk_penguins)\n",
    "\n",
    "# Error in .__LearnerClassifDebug__.train(self = self, private = private, : Error from classif.debug->train()\n",
    "# Traceback:"
   ]
  },
  {
   "cell_type": "markdown",
   "id": "73182d9b",
   "metadata": {},
   "source": [
    "## 封装"
   ]
  },
  {
   "cell_type": "code",
   "execution_count": null,
   "id": "1b27c4a2",
   "metadata": {
    "vscode": {
     "languageId": "r"
    }
   },
   "outputs": [
    {
     "name": "stdout",
     "output_type": "stream",
     "text": [
      "\u001b[38;5;221mWARN \u001b[39m [09:26:51.937] [mlr3] train: Warning from classif.debug->train()\n",
      "\u001b[38;5;167mERROR\u001b[39m [09:26:51.942] [mlr3] train: Error from classif.debug->train()\n",
      "INFO  [09:26:51.951] [mlr3] Learner 'classif.debug' on task 'penguins' failed to train a model \u001b[90m{\u001b[39m\u001b[38;5;169mlearner\u001b[39m\u001b[90m: \u001b[39m<LearnerClassifDebug/LearnerClassif/Learner/R6>\u001b[90m, \u001b[39m\u001b[38;5;169mmessages\u001b[39m\u001b[90m: \u001b[39m(Warning from classif.debug->train(), Error from classif.debug->train())\u001b[90m}\u001b[39m\n",
      "INFO  [09:26:51.956] [mlr3] Calling train method of fallback 'classif.featureless' on task 'penguins' with 344 observations \u001b[90m{\u001b[39m\u001b[38;5;169mlearner\u001b[39m\u001b[90m: \u001b[39m<LearnerClassifFeatureless/LearnerClassif/Learner/R6>\u001b[90m}\u001b[39m\n"
     ]
    }
   ],
   "source": [
    "# trigger warning and error in training\n",
    "lrn_debug <- lrn(\"classif.debug\", warning_train = 1, error_train = 1)\n",
    "\n",
    "# enable encapsulation for train() and predict()\n",
    "lrn_debug$encapsulate(\"evaluate\", fallback = lrn(\"classif.featureless\"))\n",
    "lrn_debug$train(tsk_penguins)"
   ]
  },
  {
   "cell_type": "code",
   "execution_count": null,
   "id": "549c4765",
   "metadata": {
    "vscode": {
     "languageId": "r"
    }
   },
   "outputs": [
    {
     "data": {
      "text/html": [
       "<table class=\"dataframe\">\n",
       "<caption>A data.table: 2 x 3</caption>\n",
       "<thead>\n",
       "\t<tr><th scope=col>stage</th><th scope=col>class</th><th scope=col>msg</th></tr>\n",
       "\t<tr><th scope=col>&lt;fct&gt;</th><th scope=col>&lt;ord&gt;</th><th scope=col>&lt;chr&gt;</th></tr>\n",
       "</thead>\n",
       "<tbody>\n",
       "\t<tr><td>train</td><td>warning</td><td>Warning from classif.debug-&gt;train()</td></tr>\n",
       "\t<tr><td>train</td><td><span style=white-space:pre-wrap>error  </span></td><td><span style=white-space:pre-wrap>Error from classif.debug-&gt;train()  </span></td></tr>\n",
       "</tbody>\n",
       "</table>\n"
      ],
      "text/latex": [
       "A data.table: 2 x 3\n",
       "\\begin{tabular}{lll}\n",
       " stage & class & msg\\\\\n",
       " <fct> & <ord> & <chr>\\\\\n",
       "\\hline\n",
       "\t train & warning & Warning from classif.debug->train()\\\\\n",
       "\t train & error   & Error from classif.debug->train()  \\\\\n",
       "\\end{tabular}\n"
      ],
      "text/markdown": [
       "\n",
       "A data.table: 2 x 3\n",
       "\n",
       "| stage &lt;fct&gt; | class &lt;ord&gt; | msg &lt;chr&gt; |\n",
       "|---|---|---|\n",
       "| train | warning | Warning from classif.debug-&gt;train() |\n",
       "| train | error   | Error from classif.debug-&gt;train()   |\n",
       "\n"
      ],
      "text/plain": [
       "  stage class   msg                                \n",
       "1 train warning Warning from classif.debug->train()\n",
       "2 train error   Error from classif.debug->train()  "
      ]
     },
     "metadata": {},
     "output_type": "display_data"
    }
   ],
   "source": [
    "lrn_debug$log\n",
    "\n",
    "# stage class   msg                                \n",
    "# 1 train warning Warning from classif.debug->train()\n",
    "# 2 train error   Error from classif.debug->train()"
   ]
  },
  {
   "cell_type": "code",
   "execution_count": null,
   "id": "db88e8cb",
   "metadata": {
    "vscode": {
     "languageId": "r"
    }
   },
   "outputs": [
    {
     "data": {
      "text/html": [
       "'Warning from classif.debug-&gt;train()'"
      ],
      "text/latex": [
       "'Warning from classif.debug->train()'"
      ],
      "text/markdown": [
       "'Warning from classif.debug-&gt;train()'"
      ],
      "text/plain": [
       "[1] \"Warning from classif.debug->train()\""
      ]
     },
     "metadata": {},
     "output_type": "display_data"
    }
   ],
   "source": [
    "lrn_debug$warnings\n",
    "\n",
    "# [1] \"Warning from classif.debug->train()\""
   ]
  },
  {
   "cell_type": "code",
   "execution_count": null,
   "id": "040d3eed",
   "metadata": {
    "vscode": {
     "languageId": "r"
    }
   },
   "outputs": [
    {
     "data": {
      "text/html": [
       "'Error from classif.debug-&gt;train()'"
      ],
      "text/latex": [
       "'Error from classif.debug->train()'"
      ],
      "text/markdown": [
       "'Error from classif.debug-&gt;train()'"
      ],
      "text/plain": [
       "[1] \"Error from classif.debug->train()\""
      ]
     },
     "metadata": {},
     "output_type": "display_data"
    }
   ],
   "source": [
    "lrn_debug$errors\n",
    "\n",
    "# [1] \"Error from classif.debug->train()\""
   ]
  },
  {
   "cell_type": "code",
   "execution_count": null,
   "id": "3e2142dd",
   "metadata": {
    "vscode": {
     "languageId": "r"
    }
   },
   "outputs": [
    {
     "name": "stdout",
     "output_type": "stream",
     "text": [
      "\u001b[38;5;221mWARN \u001b[39m [09:30:28.912] [mlr3] train: Warning from classif.debug->train()\n",
      "\u001b[38;5;167mERROR\u001b[39m [09:30:28.915] [mlr3] train: Error from classif.debug->train()\n",
      "INFO  [09:30:28.919] [mlr3] Learner 'classif.debug' on task 'penguins' failed to train a model \u001b[90m{\u001b[39m\u001b[38;5;169mlearner\u001b[39m\u001b[90m: \u001b[39m<LearnerClassifDebug/LearnerClassif/Learner/R6>\u001b[90m, \u001b[39m\u001b[38;5;169mmessages\u001b[39m\u001b[90m: \u001b[39m(Warning from classif.debug->train(), Error from classif.debug->train())\u001b[90m}\u001b[39m\n",
      "INFO  [09:30:28.921] [mlr3] Calling train method of fallback 'classif.featureless' on task 'penguins' with 344 observations \u001b[90m{\u001b[39m\u001b[38;5;169mlearner\u001b[39m\u001b[90m: \u001b[39m<LearnerClassifFeatureless/LearnerClassif/Learner/R6>\u001b[90m}\u001b[39m\n"
     ]
    },
    {
     "data": {
      "text/html": [
       "'Error from classif.debug-&gt;train()'"
      ],
      "text/latex": [
       "'Error from classif.debug->train()'"
      ],
      "text/markdown": [
       "'Error from classif.debug-&gt;train()'"
      ],
      "text/plain": [
       "[1] \"Error from classif.debug->train()\""
      ]
     },
     "metadata": {},
     "output_type": "display_data"
    }
   ],
   "source": [
    "# near instant timeout for training, no timeout for predict\n",
    "lrn_debug$timeout <- c(train = 1e-5, predict = Inf)\n",
    "lrn_debug$train(task = tsk_penguins)$errors\n",
    "\n",
    "# [1] \"Error from classif.debug->train()\""
   ]
  },
  {
   "cell_type": "code",
   "execution_count": null,
   "id": "6d639765",
   "metadata": {
    "vscode": {
     "languageId": "r"
    }
   },
   "outputs": [
    {
     "ename": "ERROR",
     "evalue": "Error in .__LearnerClassifDebug__.train(self = self, private = private, : Error from classif.debug->train()\n",
     "output_type": "error",
     "traceback": [
      "Error in .__LearnerClassifDebug__.train(self = self, private = private, : Error from classif.debug->train()\nTraceback:\n",
      "1. .__Learner__train(self = self, private = private, super = super, \n .     task = task, row_ids = row_ids)",
      "2. learner_train(learner, task, train_row_ids = train_row_ids, mode = mode)",
      "3. encapsulate(learner$encapsulation[\"train\"], .f = train_wrapper, \n .     .args = list(learner = learner, task = task), .pkgs = learner$packages, \n .     .seed = NA_integer_, .timeout = learner$timeout[\"train\"])",
      "4. invoke(.f, .args = .args, .opts = .opts, .seed = .seed, .timeout = .timeout)",
      "5. eval.parent(expr, n = 1L)",
      "6. eval(expr, p)",
      "7. eval(expr, p)",
      "8. .f(learner = <environment>, task = <environment>)",
      "9. get_private(learner)$.train(task)",
      "10. .__LearnerClassifDebug__.train(self = self, private = private, \n  .     super = super, task = task)",
      "11. stop(\"Error from classif.debug->train()\")",
      "12. .handleSimpleError(function (cnd) \n  . {\n  .     watcher$capture_plot_and_output()\n  .     cnd <- sanitize_call(cnd)\n  .     watcher$push(cnd)\n  .     switch(on_error, continue = invokeRestart(\"eval_continue\"), \n  .         stop = invokeRestart(\"eval_stop\"), error = NULL)\n  . }, \"Error from classif.debug->train()\", base::quote(.__LearnerClassifDebug__.train(self = self, \n  .     private = private, super = super, task = task)))"
     ]
    }
   ],
   "source": [
    "# no saved model as there was an error during training\n",
    "lrn(\"classif.debug\", error_train = 1)$train(tsk_penguins)$model\n",
    "\n",
    "# Error in .__LearnerClassifDebug__.train(self = self, private = private, : Error from classif.debug->train()\n",
    "# Traceback:"
   ]
  },
  {
   "cell_type": "code",
   "execution_count": null,
   "id": "2dcba2d5",
   "metadata": {
    "vscode": {
     "languageId": "r"
    }
   },
   "outputs": [
    {
     "data": {
      "text/plain": [
       "$response\n",
       "[1] \"Chinstrap\"\n",
       "\n",
       "$pid\n",
       "[1] 23467\n",
       "\n",
       "$id\n",
       "[1] \"ff99dfd0-2c08-4b97-acb0-f1c45a5cdb0c\"\n",
       "\n",
       "$random_number\n",
       "[1] 30325\n",
       "\n",
       "$iter\n",
       "[1] 1\n",
       "\n",
       "attr(,\"class\")\n",
       "[1] \"classif.debug_model\""
      ]
     },
     "metadata": {},
     "output_type": "display_data"
    }
   ],
   "source": [
    "# saved model\n",
    "lrn_debug <- lrn(\"classif.debug\", error_predict = 1)$train(tsk_penguins)\n",
    "lrn_debug$model\n",
    "\n",
    "# $response\n",
    "# [1] \"Chinstrap\"\n",
    "\n",
    "# $pid\n",
    "# [1] 23467\n",
    "\n",
    "# $id\n",
    "# [1] \"ff99dfd0-2c08-4b97-acb0-f1c45a5cdb0c\"\n",
    "\n",
    "# $random_number\n",
    "# [1] 30325\n",
    "\n",
    "# $iter\n",
    "# [1] 1\n",
    "\n",
    "# attr(,\"class\")\n",
    "# [1] \"classif.debug_model\""
   ]
  },
  {
   "cell_type": "markdown",
   "id": "d4ae336e",
   "metadata": {},
   "source": [
    "## 回退学习器"
   ]
  },
  {
   "cell_type": "code",
   "execution_count": 67,
   "id": "48694a71",
   "metadata": {
    "vscode": {
     "languageId": "r"
    }
   },
   "outputs": [
    {
     "name": "stdout",
     "output_type": "stream",
     "text": [
      "\u001b[38;5;167mERROR\u001b[39m [09:39:59.345] [mlr3] train: Error from classif.debug->train()\n",
      "INFO  [09:39:59.351] [mlr3] Learner 'classif.debug' on task 'penguins' failed to train a model \u001b[90m{\u001b[39m\u001b[38;5;169mlearner\u001b[39m\u001b[90m: \u001b[39m<LearnerClassifDebug/LearnerClassif/Learner/R6>\u001b[90m, \u001b[39m\u001b[38;5;169mmessages\u001b[39m\u001b[90m: \u001b[39m`Error from classif.debug->train()`\u001b[90m}\u001b[39m\n",
      "INFO  [09:39:59.353] [mlr3] Calling train method of fallback 'classif.featureless' on task 'penguins' with 344 observations \u001b[90m{\u001b[39m\u001b[38;5;169mlearner\u001b[39m\u001b[90m: \u001b[39m<LearnerClassifFeatureless/LearnerClassif/Learner/R6>\u001b[90m}\u001b[39m\n"
     ]
    }
   ],
   "source": [
    "lrn_debug <- lrn(\"classif.debug\", error_train = 1)\n",
    "lrn_debug$encapsulate(\"evaluate\", fallback = lrn(\"classif.featureless\"))\n",
    "\n",
    "lrn_debug$train(tsk_penguins)"
   ]
  },
  {
   "cell_type": "code",
   "execution_count": null,
   "id": "5fbc745c",
   "metadata": {
    "vscode": {
     "languageId": "r"
    }
   },
   "outputs": [
    {
     "data": {
      "text/plain": [
       "<LearnerClassifDebug:classif.debug>: Debug Learner for Classification\n",
       "* Model: -\n",
       "* Parameters: error_train=1\n",
       "* Validate: NULL\n",
       "* Packages: mlr3\n",
       "* Predict Types:  [response], prob\n",
       "* Feature Types: logical, integer, numeric, character, factor, ordered\n",
       "* Properties: hotstart_forward, internal_tuning, marshal, missings,\n",
       "  multiclass, twoclass, validation\n",
       "* Errors: Error from classif.debug->train()"
      ]
     },
     "metadata": {},
     "output_type": "display_data"
    }
   ],
   "source": [
    "lrn_debug\n",
    "\n",
    "# <LearnerClassifDebug:classif.debug>: Debug Learner for Classification\n",
    "# * Model: -\n",
    "# * Parameters: error_train=1\n",
    "# * Validate: NULL\n",
    "# * Packages: mlr3\n",
    "# * Predict Types:  [response], prob\n",
    "# * Feature Types: logical, integer, numeric, character, factor, ordered\n",
    "# * Properties: hotstart_forward, internal_tuning, marshal, missings,\n",
    "#   multiclass, twoclass, validation\n",
    "# * Errors: Error from classif.debug->train()"
   ]
  },
  {
   "cell_type": "code",
   "execution_count": null,
   "id": "c14b68d5",
   "metadata": {
    "vscode": {
     "languageId": "r"
    }
   },
   "outputs": [
    {
     "data": {
      "text/html": [
       "<table class=\"dataframe\">\n",
       "<caption>A data.table: 1 x 3</caption>\n",
       "<thead>\n",
       "\t<tr><th scope=col>stage</th><th scope=col>class</th><th scope=col>msg</th></tr>\n",
       "\t<tr><th scope=col>&lt;fct&gt;</th><th scope=col>&lt;ord&gt;</th><th scope=col>&lt;chr&gt;</th></tr>\n",
       "</thead>\n",
       "<tbody>\n",
       "\t<tr><td>train</td><td>error</td><td>Error from classif.debug-&gt;train()</td></tr>\n",
       "</tbody>\n",
       "</table>\n"
      ],
      "text/latex": [
       "A data.table: 1 x 3\n",
       "\\begin{tabular}{lll}\n",
       " stage & class & msg\\\\\n",
       " <fct> & <ord> & <chr>\\\\\n",
       "\\hline\n",
       "\t train & error & Error from classif.debug->train()\\\\\n",
       "\\end{tabular}\n"
      ],
      "text/markdown": [
       "\n",
       "A data.table: 1 x 3\n",
       "\n",
       "| stage &lt;fct&gt; | class &lt;ord&gt; | msg &lt;chr&gt; |\n",
       "|---|---|---|\n",
       "| train | error | Error from classif.debug-&gt;train() |\n",
       "\n"
      ],
      "text/plain": [
       "  stage class msg                              \n",
       "1 train error Error from classif.debug->train()"
      ]
     },
     "metadata": {},
     "output_type": "display_data"
    }
   ],
   "source": [
    "lrn_debug$log\n",
    "\n",
    "# stage class msg                              \n",
    "# 1 train error Error from classif.debug->train()"
   ]
  },
  {
   "cell_type": "code",
   "execution_count": null,
   "id": "731e1652",
   "metadata": {
    "vscode": {
     "languageId": "r"
    }
   },
   "outputs": [
    {
     "data": {
      "text/plain": [
       "NULL"
      ]
     },
     "metadata": {},
     "output_type": "display_data"
    }
   ],
   "source": [
    "lrn_debug$model\n",
    "\n",
    "# NULL"
   ]
  },
  {
   "cell_type": "code",
   "execution_count": null,
   "id": "98c7e309",
   "metadata": {
    "vscode": {
     "languageId": "r"
    }
   },
   "outputs": [
    {
     "data": {
      "text/html": [
       "<strong>classif.ce:</strong> 0.558139534883721"
      ],
      "text/latex": [
       "\\textbf{classif.ce:} 0.558139534883721"
      ],
      "text/markdown": [
       "**classif.ce:** 0.558139534883721"
      ],
      "text/plain": [
       "classif.ce \n",
       " 0.5581395 "
      ]
     },
     "metadata": {},
     "output_type": "display_data"
    }
   ],
   "source": [
    "prediction <- lrn_debug$predict(tsk_penguins)\n",
    "prediction$score()\n",
    "\n",
    "# classif.ce \n",
    "#  0.5581395"
   ]
  },
  {
   "cell_type": "code",
   "execution_count": 72,
   "id": "be80c524",
   "metadata": {
    "vscode": {
     "languageId": "r"
    }
   },
   "outputs": [
    {
     "name": "stdout",
     "output_type": "stream",
     "text": [
      "INFO  [09:44:07.717] [mlr3] Running benchmark with 40 resampling iterations\n",
      "INFO  [09:44:07.727] [mlr3] Applying learner 'classif.debug' on task 'penguins' (iter 1/20)\n",
      "INFO  [09:44:07.736] [mlr3] Calling train method of fallback 'classif.featureless' on task 'penguins' with 326 observations \u001b[90m{\u001b[39m\u001b[38;5;169mlearner\u001b[39m\u001b[90m: \u001b[39m<LearnerClassifFeatureless/LearnerClassif/Learner/R6>\u001b[90m}\u001b[39m\n",
      "INFO  [09:44:07.749] [mlr3] Applying learner 'classif.debug' on task 'penguins' (iter 2/20)\n",
      "INFO  [09:44:07.756] [mlr3] Calling train method of fallback 'classif.featureless' on task 'penguins' with 326 observations \u001b[90m{\u001b[39m\u001b[38;5;169mlearner\u001b[39m\u001b[90m: \u001b[39m<LearnerClassifFeatureless/LearnerClassif/Learner/R6>\u001b[90m}\u001b[39m\n",
      "INFO  [09:44:07.768] [mlr3] Applying learner 'classif.debug' on task 'penguins' (iter 3/20)\n",
      "INFO  [09:44:07.774] [mlr3] Calling train method of fallback 'classif.featureless' on task 'penguins' with 326 observations \u001b[90m{\u001b[39m\u001b[38;5;169mlearner\u001b[39m\u001b[90m: \u001b[39m<LearnerClassifFeatureless/LearnerClassif/Learner/R6>\u001b[90m}\u001b[39m\n",
      "INFO  [09:44:07.791] [mlr3] Applying learner 'classif.debug' on task 'penguins' (iter 4/20)\n",
      "INFO  [09:44:07.799] [mlr3] Calling train method of fallback 'classif.featureless' on task 'penguins' with 326 observations \u001b[90m{\u001b[39m\u001b[38;5;169mlearner\u001b[39m\u001b[90m: \u001b[39m<LearnerClassifFeatureless/LearnerClassif/Learner/R6>\u001b[90m}\u001b[39m\n",
      "INFO  [09:44:07.810] [mlr3] Applying learner 'classif.debug' on task 'penguins' (iter 5/20)\n",
      "\u001b[38;5;167mERROR\u001b[39m [09:44:07.816] [mlr3] train: Error from classif.debug->train()\n",
      "INFO  [09:44:07.819] [mlr3] Learner 'classif.debug' on task 'penguins' failed to train a model \u001b[90m{\u001b[39m\u001b[38;5;169mlearner\u001b[39m\u001b[90m: \u001b[39m<LearnerClassifDebug/LearnerClassif/Learner/R6>\u001b[90m, \u001b[39m\u001b[38;5;169mmessages\u001b[39m\u001b[90m: \u001b[39m`Error from classif.debug->train()`\u001b[90m}\u001b[39m\n",
      "INFO  [09:44:07.821] [mlr3] Calling train method of fallback 'classif.featureless' on task 'penguins' with 327 observations \u001b[90m{\u001b[39m\u001b[38;5;169mlearner\u001b[39m\u001b[90m: \u001b[39m<LearnerClassifFeatureless/LearnerClassif/Learner/R6>\u001b[90m}\u001b[39m\n",
      "INFO  [09:44:07.832] [mlr3] Applying learner 'classif.debug' on task 'penguins' (iter 6/20)\n",
      "INFO  [09:44:07.840] [mlr3] Calling train method of fallback 'classif.featureless' on task 'penguins' with 327 observations \u001b[90m{\u001b[39m\u001b[38;5;169mlearner\u001b[39m\u001b[90m: \u001b[39m<LearnerClassifFeatureless/LearnerClassif/Learner/R6>\u001b[90m}\u001b[39m\n",
      "INFO  [09:44:07.856] [mlr3] Applying learner 'classif.debug' on task 'penguins' (iter 7/20)\n",
      "INFO  [09:44:07.862] [mlr3] Calling train method of fallback 'classif.featureless' on task 'penguins' with 327 observations \u001b[90m{\u001b[39m\u001b[38;5;169mlearner\u001b[39m\u001b[90m: \u001b[39m<LearnerClassifFeatureless/LearnerClassif/Learner/R6>\u001b[90m}\u001b[39m\n",
      "INFO  [09:44:07.874] [mlr3] Applying learner 'classif.debug' on task 'penguins' (iter 8/20)\n",
      "INFO  [09:44:07.880] [mlr3] Calling train method of fallback 'classif.featureless' on task 'penguins' with 327 observations \u001b[90m{\u001b[39m\u001b[38;5;169mlearner\u001b[39m\u001b[90m: \u001b[39m<LearnerClassifFeatureless/LearnerClassif/Learner/R6>\u001b[90m}\u001b[39m\n",
      "INFO  [09:44:07.933] [mlr3] Applying learner 'classif.debug' on task 'penguins' (iter 9/20)\n",
      "\u001b[38;5;167mERROR\u001b[39m [09:44:07.939] [mlr3] train: Error from classif.debug->train()\n",
      "INFO  [09:44:07.940] [mlr3] Learner 'classif.debug' on task 'penguins' failed to train a model \u001b[90m{\u001b[39m\u001b[38;5;169mlearner\u001b[39m\u001b[90m: \u001b[39m<LearnerClassifDebug/LearnerClassif/Learner/R6>\u001b[90m, \u001b[39m\u001b[38;5;169mmessages\u001b[39m\u001b[90m: \u001b[39m`Error from classif.debug->train()`\u001b[90m}\u001b[39m\n",
      "INFO  [09:44:07.942] [mlr3] Calling train method of fallback 'classif.featureless' on task 'penguins' with 327 observations \u001b[90m{\u001b[39m\u001b[38;5;169mlearner\u001b[39m\u001b[90m: \u001b[39m<LearnerClassifFeatureless/LearnerClassif/Learner/R6>\u001b[90m}\u001b[39m\n",
      "INFO  [09:44:07.952] [mlr3] Applying learner 'classif.debug' on task 'penguins' (iter 10/20)\n",
      "INFO  [09:44:07.957] [mlr3] Calling train method of fallback 'classif.featureless' on task 'penguins' with 327 observations \u001b[90m{\u001b[39m\u001b[38;5;169mlearner\u001b[39m\u001b[90m: \u001b[39m<LearnerClassifFeatureless/LearnerClassif/Learner/R6>\u001b[90m}\u001b[39m\n",
      "INFO  [09:44:07.973] [mlr3] Applying learner 'classif.debug' on task 'penguins' (iter 11/20)\n",
      "INFO  [09:44:07.978] [mlr3] Calling train method of fallback 'classif.featureless' on task 'penguins' with 327 observations \u001b[90m{\u001b[39m\u001b[38;5;169mlearner\u001b[39m\u001b[90m: \u001b[39m<LearnerClassifFeatureless/LearnerClassif/Learner/R6>\u001b[90m}\u001b[39m\n",
      "INFO  [09:44:07.989] [mlr3] Applying learner 'classif.debug' on task 'penguins' (iter 12/20)\n",
      "INFO  [09:44:07.994] [mlr3] Calling train method of fallback 'classif.featureless' on task 'penguins' with 327 observations \u001b[90m{\u001b[39m\u001b[38;5;169mlearner\u001b[39m\u001b[90m: \u001b[39m<LearnerClassifFeatureless/LearnerClassif/Learner/R6>\u001b[90m}\u001b[39m\n",
      "INFO  [09:44:08.002] [mlr3] Applying learner 'classif.debug' on task 'penguins' (iter 13/20)\n",
      "INFO  [09:44:08.011] [mlr3] Calling train method of fallback 'classif.featureless' on task 'penguins' with 327 observations \u001b[90m{\u001b[39m\u001b[38;5;169mlearner\u001b[39m\u001b[90m: \u001b[39m<LearnerClassifFeatureless/LearnerClassif/Learner/R6>\u001b[90m}\u001b[39m\n",
      "INFO  [09:44:08.021] [mlr3] Applying learner 'classif.debug' on task 'penguins' (iter 14/20)\n",
      "\u001b[38;5;167mERROR\u001b[39m [09:44:08.026] [mlr3] train: Error from classif.debug->train()\n",
      "INFO  [09:44:08.027] [mlr3] Learner 'classif.debug' on task 'penguins' failed to train a model \u001b[90m{\u001b[39m\u001b[38;5;169mlearner\u001b[39m\u001b[90m: \u001b[39m<LearnerClassifDebug/LearnerClassif/Learner/R6>\u001b[90m, \u001b[39m\u001b[38;5;169mmessages\u001b[39m\u001b[90m: \u001b[39m`Error from classif.debug->train()`\u001b[90m}\u001b[39m\n",
      "INFO  [09:44:08.029] [mlr3] Calling train method of fallback 'classif.featureless' on task 'penguins' with 327 observations \u001b[90m{\u001b[39m\u001b[38;5;169mlearner\u001b[39m\u001b[90m: \u001b[39m<LearnerClassifFeatureless/LearnerClassif/Learner/R6>\u001b[90m}\u001b[39m\n",
      "INFO  [09:44:08.040] [mlr3] Applying learner 'classif.debug' on task 'penguins' (iter 15/20)\n",
      "INFO  [09:44:08.044] [mlr3] Calling train method of fallback 'classif.featureless' on task 'penguins' with 327 observations \u001b[90m{\u001b[39m\u001b[38;5;169mlearner\u001b[39m\u001b[90m: \u001b[39m<LearnerClassifFeatureless/LearnerClassif/Learner/R6>\u001b[90m}\u001b[39m\n",
      "INFO  [09:44:08.053] [mlr3] Applying learner 'classif.debug' on task 'penguins' (iter 16/20)\n",
      "INFO  [09:44:08.058] [mlr3] Calling train method of fallback 'classif.featureless' on task 'penguins' with 327 observations \u001b[90m{\u001b[39m\u001b[38;5;169mlearner\u001b[39m\u001b[90m: \u001b[39m<LearnerClassifFeatureless/LearnerClassif/Learner/R6>\u001b[90m}\u001b[39m\n",
      "INFO  [09:44:08.068] [mlr3] Applying learner 'classif.debug' on task 'penguins' (iter 17/20)\n",
      "\u001b[38;5;167mERROR\u001b[39m [09:44:08.071] [mlr3] train: Error from classif.debug->train()\n",
      "INFO  [09:44:08.073] [mlr3] Learner 'classif.debug' on task 'penguins' failed to train a model \u001b[90m{\u001b[39m\u001b[38;5;169mlearner\u001b[39m\u001b[90m: \u001b[39m<LearnerClassifDebug/LearnerClassif/Learner/R6>\u001b[90m, \u001b[39m\u001b[38;5;169mmessages\u001b[39m\u001b[90m: \u001b[39m`Error from classif.debug->train()`\u001b[90m}\u001b[39m\n",
      "INFO  [09:44:08.074] [mlr3] Calling train method of fallback 'classif.featureless' on task 'penguins' with 327 observations \u001b[90m{\u001b[39m\u001b[38;5;169mlearner\u001b[39m\u001b[90m: \u001b[39m<LearnerClassifFeatureless/LearnerClassif/Learner/R6>\u001b[90m}\u001b[39m\n",
      "INFO  [09:44:08.081] [mlr3] Applying learner 'classif.debug' on task 'penguins' (iter 18/20)\n",
      "\u001b[38;5;167mERROR\u001b[39m [09:44:08.084] [mlr3] train: Error from classif.debug->train()\n",
      "INFO  [09:44:08.086] [mlr3] Learner 'classif.debug' on task 'penguins' failed to train a model \u001b[90m{\u001b[39m\u001b[38;5;169mlearner\u001b[39m\u001b[90m: \u001b[39m<LearnerClassifDebug/LearnerClassif/Learner/R6>\u001b[90m, \u001b[39m\u001b[38;5;169mmessages\u001b[39m\u001b[90m: \u001b[39m`Error from classif.debug->train()`\u001b[90m}\u001b[39m\n",
      "INFO  [09:44:08.087] [mlr3] Calling train method of fallback 'classif.featureless' on task 'penguins' with 327 observations \u001b[90m{\u001b[39m\u001b[38;5;169mlearner\u001b[39m\u001b[90m: \u001b[39m<LearnerClassifFeatureless/LearnerClassif/Learner/R6>\u001b[90m}\u001b[39m\n",
      "INFO  [09:44:08.094] [mlr3] Applying learner 'classif.debug' on task 'penguins' (iter 19/20)\n",
      "\u001b[38;5;167mERROR\u001b[39m [09:44:08.097] [mlr3] train: Error from classif.debug->train()\n",
      "INFO  [09:44:08.098] [mlr3] Learner 'classif.debug' on task 'penguins' failed to train a model \u001b[90m{\u001b[39m\u001b[38;5;169mlearner\u001b[39m\u001b[90m: \u001b[39m<LearnerClassifDebug/LearnerClassif/Learner/R6>\u001b[90m, \u001b[39m\u001b[38;5;169mmessages\u001b[39m\u001b[90m: \u001b[39m`Error from classif.debug->train()`\u001b[90m}\u001b[39m\n",
      "INFO  [09:44:08.100] [mlr3] Calling train method of fallback 'classif.featureless' on task 'penguins' with 327 observations \u001b[90m{\u001b[39m\u001b[38;5;169mlearner\u001b[39m\u001b[90m: \u001b[39m<LearnerClassifFeatureless/LearnerClassif/Learner/R6>\u001b[90m}\u001b[39m\n",
      "INFO  [09:44:08.110] [mlr3] Applying learner 'classif.debug' on task 'penguins' (iter 20/20)\n",
      "INFO  [09:44:08.116] [mlr3] Calling train method of fallback 'classif.featureless' on task 'penguins' with 327 observations \u001b[90m{\u001b[39m\u001b[38;5;169mlearner\u001b[39m\u001b[90m: \u001b[39m<LearnerClassifFeatureless/LearnerClassif/Learner/R6>\u001b[90m}\u001b[39m\n",
      "INFO  [09:44:08.125] [mlr3] Applying learner 'classif.rpart' on task 'penguins' (iter 1/20)\n",
      "INFO  [09:44:08.139] [mlr3] Applying learner 'classif.rpart' on task 'penguins' (iter 2/20)\n",
      "INFO  [09:44:08.147] [mlr3] Applying learner 'classif.rpart' on task 'penguins' (iter 3/20)\n",
      "INFO  [09:44:08.157] [mlr3] Applying learner 'classif.rpart' on task 'penguins' (iter 4/20)\n",
      "INFO  [09:44:08.165] [mlr3] Applying learner 'classif.rpart' on task 'penguins' (iter 5/20)\n",
      "INFO  [09:44:08.173] [mlr3] Applying learner 'classif.rpart' on task 'penguins' (iter 6/20)\n",
      "INFO  [09:44:08.181] [mlr3] Applying learner 'classif.rpart' on task 'penguins' (iter 7/20)\n",
      "INFO  [09:44:08.189] [mlr3] Applying learner 'classif.rpart' on task 'penguins' (iter 8/20)\n",
      "INFO  [09:44:08.196] [mlr3] Applying learner 'classif.rpart' on task 'penguins' (iter 9/20)\n",
      "INFO  [09:44:08.203] [mlr3] Applying learner 'classif.rpart' on task 'penguins' (iter 10/20)\n",
      "INFO  [09:44:08.214] [mlr3] Applying learner 'classif.rpart' on task 'penguins' (iter 11/20)\n",
      "INFO  [09:44:08.221] [mlr3] Applying learner 'classif.rpart' on task 'penguins' (iter 12/20)\n",
      "INFO  [09:44:08.228] [mlr3] Applying learner 'classif.rpart' on task 'penguins' (iter 13/20)\n",
      "INFO  [09:44:08.234] [mlr3] Applying learner 'classif.rpart' on task 'penguins' (iter 14/20)\n",
      "INFO  [09:44:08.241] [mlr3] Applying learner 'classif.rpart' on task 'penguins' (iter 15/20)\n",
      "INFO  [09:44:08.248] [mlr3] Applying learner 'classif.rpart' on task 'penguins' (iter 16/20)\n",
      "INFO  [09:44:08.256] [mlr3] Applying learner 'classif.rpart' on task 'penguins' (iter 17/20)\n",
      "INFO  [09:44:08.263] [mlr3] Applying learner 'classif.rpart' on task 'penguins' (iter 18/20)\n",
      "INFO  [09:44:08.271] [mlr3] Applying learner 'classif.rpart' on task 'penguins' (iter 19/20)\n",
      "INFO  [09:44:08.278] [mlr3] Applying learner 'classif.rpart' on task 'penguins' (iter 20/20)\n",
      "INFO  [09:44:08.287] [mlr3] Finished benchmark\n"
     ]
    }
   ],
   "source": [
    "lrn_debug <- lrn(\n",
    "  \"classif.debug\",\n",
    "  error_train = 0.5\n",
    ")\n",
    "lrn_debug$encapsulate(\n",
    "  \"evaluate\",\n",
    "  fallback = lrn(\"classif.featureless\")\n",
    ")\n",
    "\n",
    "aggr <- benchmark(\n",
    "  benchmark_grid(\n",
    "    tsk_penguins,\n",
    "    list(\n",
    "      lrn_debug,\n",
    "      lrn(\"classif.rpart\")\n",
    "    ),\n",
    "    rsmp(\"cv\", folds = 20)\n",
    "  )\n",
    ")$aggregate(conditions = TRUE)"
   ]
  },
  {
   "cell_type": "code",
   "execution_count": null,
   "id": "ae0fba2d",
   "metadata": {
    "vscode": {
     "languageId": "r"
    }
   },
   "outputs": [
    {
     "data": {
      "text/html": [
       "<table class=\"dataframe\">\n",
       "<caption>A bmr_aggregate: 2 x 4</caption>\n",
       "<thead>\n",
       "\t<tr><th scope=col>learner_id</th><th scope=col>warnings</th><th scope=col>errors</th><th scope=col>classif.ce</th></tr>\n",
       "\t<tr><th scope=col>&lt;chr&gt;</th><th scope=col>&lt;int&gt;</th><th scope=col>&lt;int&gt;</th><th scope=col>&lt;dbl&gt;</th></tr>\n",
       "</thead>\n",
       "<tbody>\n",
       "\t<tr><td>classif.debug</td><td>0</td><td>6</td><td>0.64428105</td></tr>\n",
       "\t<tr><td>classif.rpart</td><td>0</td><td>0</td><td>0.05833333</td></tr>\n",
       "</tbody>\n",
       "</table>\n"
      ],
      "text/latex": [
       "A bmr\\_aggregate: 2 x 4\n",
       "\\begin{tabular}{llll}\n",
       " learner\\_id & warnings & errors & classif.ce\\\\\n",
       " <chr> & <int> & <int> & <dbl>\\\\\n",
       "\\hline\n",
       "\t classif.debug & 0 & 6 & 0.64428105\\\\\n",
       "\t classif.rpart & 0 & 0 & 0.05833333\\\\\n",
       "\\end{tabular}\n"
      ],
      "text/markdown": [
       "\n",
       "A bmr_aggregate: 2 x 4\n",
       "\n",
       "| learner_id &lt;chr&gt; | warnings &lt;int&gt; | errors &lt;int&gt; | classif.ce &lt;dbl&gt; |\n",
       "|---|---|---|---|\n",
       "| classif.debug | 0 | 6 | 0.64428105 |\n",
       "| classif.rpart | 0 | 0 | 0.05833333 |\n",
       "\n"
      ],
      "text/plain": [
       "  learner_id    warnings errors classif.ce\n",
       "1 classif.debug 0        6      0.64428105\n",
       "2 classif.rpart 0        0      0.05833333"
      ]
     },
     "metadata": {},
     "output_type": "display_data"
    }
   ],
   "source": [
    "aggr[, .(learner_id, warnings, errors, classif.ce)]\n",
    "\n",
    "# learner_id    warnings errors classif.ce\n",
    "# 1 classif.debug 0        6      0.64428105\n",
    "# 2 classif.rpart 0        0      0.05833333"
   ]
  },
  {
   "cell_type": "code",
   "execution_count": null,
   "id": "89b65a06",
   "metadata": {
    "vscode": {
     "languageId": "r"
    }
   },
   "outputs": [
    {
     "data": {
      "text/html": [
       "<table class=\"dataframe\">\n",
       "<caption>A data.table: 2 x 2</caption>\n",
       "<thead>\n",
       "\t<tr><th scope=col>iteration</th><th scope=col>msg</th></tr>\n",
       "\t<tr><th scope=col>&lt;int&gt;</th><th scope=col>&lt;chr&gt;</th></tr>\n",
       "</thead>\n",
       "<tbody>\n",
       "\t<tr><td>5</td><td>Error from classif.debug-&gt;train()</td></tr>\n",
       "\t<tr><td>9</td><td>Error from classif.debug-&gt;train()</td></tr>\n",
       "</tbody>\n",
       "</table>\n"
      ],
      "text/latex": [
       "A data.table: 2 x 2\n",
       "\\begin{tabular}{ll}\n",
       " iteration & msg\\\\\n",
       " <int> & <chr>\\\\\n",
       "\\hline\n",
       "\t 5 & Error from classif.debug->train()\\\\\n",
       "\t 9 & Error from classif.debug->train()\\\\\n",
       "\\end{tabular}\n"
      ],
      "text/markdown": [
       "\n",
       "A data.table: 2 x 2\n",
       "\n",
       "| iteration &lt;int&gt; | msg &lt;chr&gt; |\n",
       "|---|---|\n",
       "| 5 | Error from classif.debug-&gt;train() |\n",
       "| 9 | Error from classif.debug-&gt;train() |\n",
       "\n"
      ],
      "text/plain": [
       "  iteration msg                              \n",
       "1 5         Error from classif.debug->train()\n",
       "2 9         Error from classif.debug->train()"
      ]
     },
     "metadata": {},
     "output_type": "display_data"
    }
   ],
   "source": [
    "rr <- aggr[learner_id == \"classif.debug\"]$resample_result[[1L]]\n",
    "rr$errors[1:2]\n",
    "\n",
    "# iteration msg                              \n",
    "# 1 5         Error from classif.debug->train()\n",
    "# 2 9         Error from classif.debug->train()"
   ]
  },
  {
   "cell_type": "markdown",
   "id": "680ecaa3",
   "metadata": {},
   "source": [
    "# 日志记录"
   ]
  },
  {
   "cell_type": "code",
   "execution_count": 75,
   "id": "36b80b09",
   "metadata": {
    "vscode": {
     "languageId": "r"
    }
   },
   "outputs": [],
   "source": [
    "lgr::get_logger(\"mlr3\")$set_threshold(\"debug\")"
   ]
  },
  {
   "cell_type": "code",
   "execution_count": 76,
   "id": "89771144",
   "metadata": {
    "vscode": {
     "languageId": "r"
    }
   },
   "outputs": [],
   "source": [
    "lgr::get_logger(\"mlr3\")$set_threshold(\"warn\")"
   ]
  },
  {
   "cell_type": "code",
   "execution_count": 77,
   "id": "6f8d77c3",
   "metadata": {
    "vscode": {
     "languageId": "r"
    }
   },
   "outputs": [],
   "source": [
    "lgr::get_logger(\"mlr3\")$set_threshold(\"warn\")\n",
    "lgr::get_logger(\"bbotk\")$set_threshold(\"info\")"
   ]
  },
  {
   "cell_type": "code",
   "execution_count": null,
   "id": "38b96cad",
   "metadata": {
    "vscode": {
     "languageId": "r"
    }
   },
   "outputs": [
    {
     "name": "stdout",
     "output_type": "stream",
     "text": [
      "\u001b[38;5;221mWARN \u001b[39m [09:54:07.161] [mlr3] this is a warning from mlr3\n"
     ]
    }
   ],
   "source": [
    "tf <- tempfile(\"mlr3log_\", fileext = \".json\")\n",
    "\n",
    "logger <- lgr::get_logger(\"mlr3\")\n",
    "logger$add_appender(lgr::AppenderJson$new(tf), name = \"json\")\n",
    "logger$warn(\"this is a warning from mlr3\")\n",
    "\n",
    "# \u001b[38;5;221mWARN \u001b[39m [09:54:07.161] [mlr3] this is a warning from mlr3"
   ]
  },
  {
   "cell_type": "code",
   "execution_count": null,
   "id": "d9ac2d0f",
   "metadata": {
    "vscode": {
     "languageId": "r"
    }
   },
   "outputs": [
    {
     "name": "stdout",
     "output_type": "stream",
     "text": [
      "{\"level\":300,\"timestamp\":\"2025-05-24 09:54:07\",\"logger\":\"mlr3\",\"caller\"\n",
      ":\"eval\",\"msg\":\"[mlr3] this is a warning from mlr3\"}"
     ]
    }
   ],
   "source": [
    "# print the contents of the file (splitting over two lines)\n",
    "x <- readLines(tf)\n",
    "cat(paste0(substr(x, 1, 71), \"\\n\", substr(x, 72, nchar(x))))\n",
    "\n",
    "# {\"level\":300,\"timestamp\":\"2025-05-24 09:54:07\",\"logger\":\"mlr3\",\"caller\"\n",
    "# :\"eval\",\"msg\":\"[mlr3] this is a warning from mlr3\"}"
   ]
  },
  {
   "cell_type": "code",
   "execution_count": 80,
   "id": "95bd4525",
   "metadata": {
    "vscode": {
     "languageId": "r"
    }
   },
   "outputs": [],
   "source": [
    "# remove the appender again\n",
    "logger$remove_appender(\"json\")"
   ]
  },
  {
   "cell_type": "markdown",
   "id": "4e95ea48",
   "metadata": {},
   "source": [
    "# 数据后端"
   ]
  },
  {
   "cell_type": "markdown",
   "id": "2daa8278",
   "metadata": {},
   "source": [
    "## 使用 DataBackendDplyr 的数据库"
   ]
  },
  {
   "cell_type": "code",
   "execution_count": 86,
   "id": "b705198f",
   "metadata": {
    "vscode": {
     "languageId": "r"
    }
   },
   "outputs": [
    {
     "data": {
      "text/html": [
       "<style>\n",
       ".list-inline {list-style: none; margin:0; padding: 0}\n",
       ".list-inline>li {display: inline-block}\n",
       ".list-inline>li:not(:last-child)::after {content: \"\\00b7\"; padding: 0 .5ex}\n",
       "</style>\n",
       "<ol class=list-inline><li>336776</li><li>19</li></ol>\n"
      ],
      "text/latex": [
       "\\begin{enumerate*}\n",
       "\\item 336776\n",
       "\\item 19\n",
       "\\end{enumerate*}\n"
      ],
      "text/markdown": [
       "1. 336776\n",
       "2. 19\n",
       "\n",
       "\n"
      ],
      "text/plain": [
       "[1] 336776     19"
      ]
     },
     "metadata": {},
     "output_type": "display_data"
    }
   ],
   "source": [
    "# load data\n",
    "requireNamespace(\"DBI\")\n",
    "requireNamespace(\"RSQLite\")\n",
    "requireNamespace(\"nycflights13\")\n",
    "data(\"flights\", package = \"nycflights13\")\n",
    "dim(flights)"
   ]
  },
  {
   "cell_type": "code",
   "execution_count": 87,
   "id": "7702e4c5",
   "metadata": {
    "vscode": {
     "languageId": "r"
    }
   },
   "outputs": [],
   "source": [
    "# 添加唯一行ID列\n",
    "flights$row_id <- seq_len(nrow(flights))\n",
    "\n",
    "# 创建临时sqlite数据库文件\n",
    "db_path <- tempfile(\"flights\", fileext = \".sqlite\")\n",
    "con <- DBI::dbConnect(RSQLite::SQLite(), db_path)\n",
    "DBI::dbWriteTable(con, \"flights\", as.data.frame(flights))\n",
    "DBI::dbDisconnect(con)\n",
    "\n",
    "# 移除内存中的数据\n",
    "rm(flights)"
   ]
  },
  {
   "cell_type": "code",
   "execution_count": null,
   "id": "a6cba7c3",
   "metadata": {
    "vscode": {
     "languageId": "r"
    }
   },
   "outputs": [
    {
     "name": "stderr",
     "output_type": "stream",
     "text": [
      "\n",
      "Attaching package: 'dbplyr'\n",
      "\n",
      "\n",
      "The following objects are masked from 'package:dplyr':\n",
      "\n",
      "    ident, sql\n",
      "\n",
      "\n"
     ]
    }
   ],
   "source": [
    "# establish connection\n",
    "con = DBI::dbConnect(RSQLite::SQLite(), path)\n",
    "\n",
    "# select the \"flights\" table\n",
    "library(dplyr)\n",
    "library(dbplyr)\n",
    "tbl <- tbl(con, \"flights\")"
   ]
  },
  {
   "cell_type": "code",
   "execution_count": null,
   "id": "b7dbe351",
   "metadata": {
    "vscode": {
     "languageId": "r"
    }
   },
   "outputs": [],
   "source": [
    "# 1. subset columns\n",
    "keep <- c(\n",
    "  \"row_id\", \"year\", \"month\", \"day\", \"hour\", \"minute\", \"dep_time\",\n",
    "  \"arr_time\", \"carrier\", \"flight\", \"air_time\", \"distance\", \"arr_delay\"\n",
    ")\n",
    "tbl <- select(tbl, all_of(keep))\n",
    "\n",
    "# 2. filter by missing\n",
    "tbl <- filter(tbl, !is.na(arr_delay))\n",
    "\n",
    "# 3. select every other row\n",
    "tbl <- filter(tbl, row_id %% 2 == 0)\n",
    "\n",
    "# 4. merge infrequent carriers\n",
    "infrequent <- c(\"OO\", \"HA\", \"YV\", \"F9\", \"AS\", \"FL\", \"VX\", \"WN\")\n",
    "tbl <- mutate(\n",
    "  tbl,\n",
    "  carrier = case_when(\n",
    "    carrier %in% infrequent ~ \"other\",\n",
    "    TRUE                   ~ carrier\n",
    "  )\n",
    ")"
   ]
  },
  {
   "cell_type": "code",
   "execution_count": 91,
   "id": "af433bb4",
   "metadata": {
    "vscode": {
     "languageId": "r"
    }
   },
   "outputs": [
    {
     "data": {
      "text/html": [
       "<style>\n",
       ".dl-inline {width: auto; margin:0; padding: 0}\n",
       ".dl-inline>dt, .dl-inline>dd {float: none; width: auto; display: inline-block}\n",
       ".dl-inline>dt::after {content: \":\\0020\"; padding-right: .5ex}\n",
       ".dl-inline>dt:not(:first-of-type) {padding-left: .5ex}\n",
       "</style><dl class=dl-inline><dt>nrow</dt><dd>163707</dd><dt>ncol</dt><dd>13</dd></dl>\n"
      ],
      "text/latex": [
       "\\begin{description*}\n",
       "\\item[nrow] 163707\n",
       "\\item[ncol] 13\n",
       "\\end{description*}\n"
      ],
      "text/markdown": [
       "nrow\n",
       ":   163707ncol\n",
       ":   13\n",
       "\n"
      ],
      "text/plain": [
       "  nrow   ncol \n",
       "163707     13 "
      ]
     },
     "metadata": {},
     "output_type": "display_data"
    }
   ],
   "source": [
    "library(mlr3db)\n",
    "backend_flights <- as_data_backend(tbl, primary_key = \"row_id\")\n",
    "c(nrow = backend_flights$nrow, ncol = backend_flights$ncol)"
   ]
  },
  {
   "cell_type": "code",
   "execution_count": null,
   "id": "3ecddd70",
   "metadata": {
    "vscode": {
     "languageId": "r"
    }
   },
   "outputs": [
    {
     "data": {
      "text/html": [
       "<table class=\"dataframe\">\n",
       "<caption>A data.table: 6 x 13</caption>\n",
       "<thead>\n",
       "\t<tr><th scope=col>row_id</th><th scope=col>year</th><th scope=col>month</th><th scope=col>day</th><th scope=col>hour</th><th scope=col>minute</th><th scope=col>dep_time</th><th scope=col>arr_time</th><th scope=col>carrier</th><th scope=col>flight</th><th scope=col>air_time</th><th scope=col>distance</th><th scope=col>arr_delay</th></tr>\n",
       "\t<tr><th scope=col>&lt;int&gt;</th><th scope=col>&lt;int&gt;</th><th scope=col>&lt;int&gt;</th><th scope=col>&lt;int&gt;</th><th scope=col>&lt;dbl&gt;</th><th scope=col>&lt;dbl&gt;</th><th scope=col>&lt;int&gt;</th><th scope=col>&lt;int&gt;</th><th scope=col>&lt;fct&gt;</th><th scope=col>&lt;int&gt;</th><th scope=col>&lt;dbl&gt;</th><th scope=col>&lt;dbl&gt;</th><th scope=col>&lt;dbl&gt;</th></tr>\n",
       "</thead>\n",
       "<tbody>\n",
       "\t<tr><td> 2</td><td>2013</td><td>1</td><td>1</td><td>5</td><td>29</td><td>533</td><td> 850</td><td>UA</td><td>1714</td><td>227</td><td>1416</td><td> 20</td></tr>\n",
       "\t<tr><td> 4</td><td>2013</td><td>1</td><td>1</td><td>5</td><td>45</td><td>544</td><td>1004</td><td>B6</td><td> 725</td><td>183</td><td>1576</td><td>-18</td></tr>\n",
       "\t<tr><td> 6</td><td>2013</td><td>1</td><td>1</td><td>5</td><td>58</td><td>554</td><td> 740</td><td>UA</td><td>1696</td><td>150</td><td> 719</td><td> 12</td></tr>\n",
       "\t<tr><td> 8</td><td>2013</td><td>1</td><td>1</td><td>6</td><td> 0</td><td>557</td><td> 709</td><td>EV</td><td>5708</td><td> 53</td><td> 229</td><td>-14</td></tr>\n",
       "\t<tr><td>10</td><td>2013</td><td>1</td><td>1</td><td>6</td><td> 0</td><td>558</td><td> 753</td><td>AA</td><td> 301</td><td>138</td><td> 733</td><td>  8</td></tr>\n",
       "\t<tr><td>12</td><td>2013</td><td>1</td><td>1</td><td>6</td><td> 0</td><td>558</td><td> 853</td><td>B6</td><td>  71</td><td>158</td><td>1005</td><td> -3</td></tr>\n",
       "</tbody>\n",
       "</table>\n"
      ],
      "text/latex": [
       "A data.table: 6 x 13\n",
       "\\begin{tabular}{lllllllllllll}\n",
       " row\\_id & year & month & day & hour & minute & dep\\_time & arr\\_time & carrier & flight & air\\_time & distance & arr\\_delay\\\\\n",
       " <int> & <int> & <int> & <int> & <dbl> & <dbl> & <int> & <int> & <fct> & <int> & <dbl> & <dbl> & <dbl>\\\\\n",
       "\\hline\n",
       "\t  2 & 2013 & 1 & 1 & 5 & 29 & 533 &  850 & UA & 1714 & 227 & 1416 &  20\\\\\n",
       "\t  4 & 2013 & 1 & 1 & 5 & 45 & 544 & 1004 & B6 &  725 & 183 & 1576 & -18\\\\\n",
       "\t  6 & 2013 & 1 & 1 & 5 & 58 & 554 &  740 & UA & 1696 & 150 &  719 &  12\\\\\n",
       "\t  8 & 2013 & 1 & 1 & 6 &  0 & 557 &  709 & EV & 5708 &  53 &  229 & -14\\\\\n",
       "\t 10 & 2013 & 1 & 1 & 6 &  0 & 558 &  753 & AA &  301 & 138 &  733 &   8\\\\\n",
       "\t 12 & 2013 & 1 & 1 & 6 &  0 & 558 &  853 & B6 &   71 & 158 & 1005 &  -3\\\\\n",
       "\\end{tabular}\n"
      ],
      "text/markdown": [
       "\n",
       "A data.table: 6 x 13\n",
       "\n",
       "| row_id &lt;int&gt; | year &lt;int&gt; | month &lt;int&gt; | day &lt;int&gt; | hour &lt;dbl&gt; | minute &lt;dbl&gt; | dep_time &lt;int&gt; | arr_time &lt;int&gt; | carrier &lt;fct&gt; | flight &lt;int&gt; | air_time &lt;dbl&gt; | distance &lt;dbl&gt; | arr_delay &lt;dbl&gt; |\n",
       "|---|---|---|---|---|---|---|---|---|---|---|---|---|\n",
       "|  2 | 2013 | 1 | 1 | 5 | 29 | 533 |  850 | UA | 1714 | 227 | 1416 |  20 |\n",
       "|  4 | 2013 | 1 | 1 | 5 | 45 | 544 | 1004 | B6 |  725 | 183 | 1576 | -18 |\n",
       "|  6 | 2013 | 1 | 1 | 5 | 58 | 554 |  740 | UA | 1696 | 150 |  719 |  12 |\n",
       "|  8 | 2013 | 1 | 1 | 6 |  0 | 557 |  709 | EV | 5708 |  53 |  229 | -14 |\n",
       "| 10 | 2013 | 1 | 1 | 6 |  0 | 558 |  753 | AA |  301 | 138 |  733 |   8 |\n",
       "| 12 | 2013 | 1 | 1 | 6 |  0 | 558 |  853 | B6 |   71 | 158 | 1005 |  -3 |\n",
       "\n"
      ],
      "text/plain": [
       "  row_id year month day hour minute dep_time arr_time carrier flight air_time\n",
       "1  2     2013 1     1   5    29     533       850     UA      1714   227     \n",
       "2  4     2013 1     1   5    45     544      1004     B6       725   183     \n",
       "3  6     2013 1     1   5    58     554       740     UA      1696   150     \n",
       "4  8     2013 1     1   6     0     557       709     EV      5708    53     \n",
       "5 10     2013 1     1   6     0     558       753     AA       301   138     \n",
       "6 12     2013 1     1   6     0     558       853     B6        71   158     \n",
       "  distance arr_delay\n",
       "1 1416      20      \n",
       "2 1576     -18      \n",
       "3  719      12      \n",
       "4  229     -14      \n",
       "5  733       8      \n",
       "6 1005      -3      "
      ]
     },
     "metadata": {},
     "output_type": "display_data"
    }
   ],
   "source": [
    "backend_flights$head()\n",
    "\n",
    "# row_id year month day hour minute dep_time arr_time carrier flight air_time\n",
    "# 1  2     2013 1     1   5    29     533       850     UA      1714   227     \n",
    "# 2  4     2013 1     1   5    45     544      1004     B6       725   183     \n",
    "# 3  6     2013 1     1   5    58     554       740     UA      1696   150     \n",
    "# 4  8     2013 1     1   6     0     557       709     EV      5708    53     \n",
    "# 5 10     2013 1     1   6     0     558       753     AA       301   138     \n",
    "# 6 12     2013 1     1   6     0     558       853     B6        71   158     \n",
    "#   distance arr_delay\n",
    "# 1 1416      20      \n",
    "# 2 1576     -18      \n",
    "# 3  719      12      \n",
    "# 4  229     -14      \n",
    "# 5  733       8      \n",
    "# 6 1005      -3"
   ]
  },
  {
   "cell_type": "code",
   "execution_count": null,
   "id": "86e67618",
   "metadata": {
    "vscode": {
     "languageId": "r"
    }
   },
   "outputs": [],
   "source": [
    "tsk_flights <- as_task_regr(\n",
    "  backend_flights,\n",
    "  id = \"flights_sqlite\",\n",
    "  target = \"arr_delay\"\n",
    ")\n",
    "rsmp_sub002 <- rsmp(\"subsampling\", ratio = 0.02, repeats = 3)"
   ]
  },
  {
   "cell_type": "code",
   "execution_count": 94,
   "id": "15a2c3c7",
   "metadata": {
    "vscode": {
     "languageId": "r"
    }
   },
   "outputs": [
    {
     "name": "stderr",
     "output_type": "stream",
     "text": [
      "Warning message in warn_deprecated(\"DataBackend$data_formats\"):\n",
      "\"DataBackend$data_formats is deprecated and will be removed in the future.\"\n"
     ]
    }
   ],
   "source": [
    "rr <- resample(tsk_flights, lrn(\"regr.rpart\"), rsmp_sub002)"
   ]
  },
  {
   "cell_type": "code",
   "execution_count": null,
   "id": "41bb9195",
   "metadata": {
    "vscode": {
     "languageId": "r"
    }
   },
   "outputs": [
    {
     "data": {
      "text/html": [
       "<style>\n",
       ".dl-inline {width: auto; margin:0; padding: 0}\n",
       ".dl-inline>dt, .dl-inline>dd {float: none; width: auto; display: inline-block}\n",
       ".dl-inline>dt::after {content: \":\\0020\"; padding-right: .5ex}\n",
       ".dl-inline>dt:not(:first-of-type) {padding-left: .5ex}\n",
       "</style><dl class=dl-inline><dt>regr.rmse</dt><dd>34.8861583018835</dd><dt>time_train</dt><dd>0.184999999997672</dd><dt>time_predict</dt><dd>5.95933333333232</dd></dl>\n"
      ],
      "text/latex": [
       "\\begin{description*}\n",
       "\\item[regr.rmse] 34.8861583018835\n",
       "\\item[time\\textbackslash{}\\_train] 0.184999999997672\n",
       "\\item[time\\textbackslash{}\\_predict] 5.95933333333232\n",
       "\\end{description*}\n"
      ],
      "text/markdown": [
       "regr.rmse\n",
       ":   34.8861583018835time_train\n",
       ":   0.184999999997672time_predict\n",
       ":   5.95933333333232\n",
       "\n"
      ],
      "text/plain": [
       "   regr.rmse   time_train time_predict \n",
       "   34.886158     0.185000     5.959333 "
      ]
     },
     "metadata": {},
     "output_type": "display_data"
    }
   ],
   "source": [
    "measures <- msrs(c(\"regr.rmse\", \"time_train\", \"time_predict\"))\n",
    "rr$aggregate(measures)\n",
    "\n",
    "# regr.rmse   time_train time_predict \n",
    "#    34.886158     0.185000     5.959333"
   ]
  },
  {
   "cell_type": "code",
   "execution_count": 96,
   "id": "e648db44",
   "metadata": {
    "vscode": {
     "languageId": "r"
    }
   },
   "outputs": [],
   "source": [
    "rm(tbl)\n",
    "DBI::dbDisconnect(con)"
   ]
  },
  {
   "cell_type": "code",
   "execution_count": null,
   "id": "22176d7a",
   "metadata": {
    "vscode": {
     "languageId": "r"
    }
   },
   "outputs": [
    {
     "data": {
      "text/plain": [
       "<TaskClassif:backend> (4601 x 58)\n",
       "* Target: type\n",
       "* Properties: twoclass\n",
       "* Features (57):\n",
       "  - dbl (57): address, addresses, all, business, capitalAve,\n",
       "    capitalLong, capitalTotal, charDollar, charExclamation, charHash,\n",
       "    charRoundbracket, charSemicolon, charSquarebracket, conference,\n",
       "    credit, cs, data, direct, edu, email, font, free, george, hp, hpl,\n",
       "    internet, lab, labs, mail, make, meeting, money, num000, num1999,\n",
       "    num3d, num415, num650, num85, num857, order, original, our, over,\n",
       "    parts, people, pm, project, re, receive, remove, report, table,\n",
       "    technology, telnet, will, you, your"
      ]
     },
     "metadata": {},
     "output_type": "display_data"
    }
   ],
   "source": [
    "path <- system.file(\n",
    "  file.path(\"extdata\", \"spam.parquet\"),\n",
    "  package = \"mlr3db\"\n",
    ")\n",
    "backend <- as_duckdb_backend(path)\n",
    "as_task_classif(backend, target = \"type\")\n",
    "\n",
    "# <TaskClassif:backend> (4601 x 58)\n",
    "# * Target: type\n",
    "# * Properties: twoclass\n",
    "# * Features (57):\n",
    "#   - dbl (57): address, addresses, all, business, capitalAve,\n",
    "#     capitalLong, capitalTotal, charDollar, charExclamation, charHash,\n",
    "#     charRoundbracket, charSemicolon, charSquarebracket, conference,\n",
    "#     credit, cs, data, direct, edu, email, font, free, george, hp, hpl,\n",
    "#     internet, lab, labs, mail, make, meeting, money, num000, num1999,\n",
    "#     num3d, num415, num650, num85, num857, order, original, our, over,\n",
    "#     parts, people, pm, project, re, receive, remove, report, table,\n",
    "#     technology, telnet, will, you, your"
   ]
  },
  {
   "cell_type": "code",
   "execution_count": null,
   "id": "aae9cb49",
   "metadata": {
    "vscode": {
     "languageId": "r"
    }
   },
   "outputs": [],
   "source": []
  }
 ],
 "metadata": {
  "kernelspec": {
   "display_name": "R",
   "language": "R",
   "name": "ir"
  },
  "language_info": {
   "codemirror_mode": "r",
   "file_extension": ".r",
   "mimetype": "text/x-r-source",
   "name": "R",
   "pygments_lexer": "r",
   "version": "4.4.2"
  }
 },
 "nbformat": 4,
 "nbformat_minor": 5
}
