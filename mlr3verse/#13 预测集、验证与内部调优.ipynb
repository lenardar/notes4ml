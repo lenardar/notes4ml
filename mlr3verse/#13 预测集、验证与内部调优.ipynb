{
 "cells": [
  {
   "cell_type": "markdown",
   "id": "aed9c447",
   "metadata": {},
   "source": [
    "# 预测集与训练误差估计"
   ]
  },
  {
   "cell_type": "code",
   "execution_count": 2,
   "id": "c26ca18f",
   "metadata": {
    "vscode": {
     "languageId": "r"
    }
   },
   "outputs": [
    {
     "name": "stderr",
     "output_type": "stream",
     "text": [
      "Loading required package: mlr3\n",
      "\n"
     ]
    }
   ],
   "source": [
    "library(mlr3verse)"
   ]
  },
  {
   "cell_type": "code",
   "execution_count": 3,
   "id": "16fb5223",
   "metadata": {
    "vscode": {
     "languageId": "r"
    }
   },
   "outputs": [],
   "source": [
    "# 创建任务和学习器\n",
    "tsk_sonar <- tsk(\"sonar\")\n",
    "lrn_rf <- lrn(\"classif.ranger\")\n",
    "\n",
    "# 训练模型，使用第4到208行作为训练集\n",
    "lrn_rf$train(tsk_sonar, row_ids = 4:208)\n",
    "\n",
    "# 对第1到3行进行预测\n",
    "pred1 <- lrn_rf$predict(tsk_sonar, row_ids = 1:3)\n",
    "pred2 <- lrn_rf$predict_newdata(tsk_sonar$data(rows = 1:3))"
   ]
  },
  {
   "cell_type": "code",
   "execution_count": 4,
   "id": "32c3c9ed",
   "metadata": {
    "vscode": {
     "languageId": "r"
    }
   },
   "outputs": [
    {
     "name": "stdout",
     "output_type": "stream",
     "text": [
      "INFO  [14:42:27.158] [mlr3] Applying learner 'classif.ranger' on task 'sonar' (iter 1/3)\n",
      "INFO  [14:42:27.239] [mlr3] Applying learner 'classif.ranger' on task 'sonar' (iter 2/3)\n",
      "INFO  [14:42:27.459] [mlr3] Applying learner 'classif.ranger' on task 'sonar' (iter 3/3)\n"
     ]
    }
   ],
   "source": [
    "lrn_rf$predict_sets <- c(\"train\", \"test\")\n",
    "rr <- resample(tsk_sonar, lrn_rf, rsmp(\"cv\", folds = 3))"
   ]
  },
  {
   "cell_type": "code",
   "execution_count": null,
   "id": "f0b5618f",
   "metadata": {
    "vscode": {
     "languageId": "r"
    }
   },
   "outputs": [
    {
     "name": "stdout",
     "output_type": "stream",
     "text": [
      "List of 3\n",
      " $ :Classes 'PredictionClassif', 'Prediction', 'R6' <PredictionClassif> \n",
      " $ :Classes 'PredictionClassif', 'Prediction', 'R6' <PredictionClassif> \n",
      " $ :Classes 'PredictionClassif', 'Prediction', 'R6' <PredictionClassif> \n"
     ]
    }
   ],
   "source": [
    "str(rr$predictions(\"test\")) # or str(rr$predictions(\"train\"))\n",
    "\n",
    "# List of 3\n",
    "#  $ :Classes 'PredictionClassif', 'Prediction', 'R6' <PredictionClassif> \n",
    "#  $ :Classes 'PredictionClassif', 'Prediction', 'R6' <PredictionClassif> \n",
    "#  $ :Classes 'PredictionClassif', 'Prediction', 'R6' <PredictionClassif>"
   ]
  },
  {
   "cell_type": "code",
   "execution_count": null,
   "id": "bcc55fbd",
   "metadata": {
    "vscode": {
     "languageId": "r"
    }
   },
   "outputs": [
    {
     "data": {
      "text/plain": [
       "<PredictionClassif> for 208 observations:\n",
       " row_ids truth response\n",
       "       1     R        R\n",
       "       2     R        M\n",
       "       3     R        M\n",
       "     ---   ---      ---\n",
       "     206     M        M\n",
       "     207     M        M\n",
       "     208     M        M"
      ]
     },
     "metadata": {},
     "output_type": "display_data"
    }
   ],
   "source": [
    "rr$prediction(\"test\") # or rr$prediction(\"train\")\n",
    "\n",
    "# <PredictionClassif> for 208 observations:\n",
    "#  row_ids truth response\n",
    "#        1     R        R\n",
    "#        2     R        M\n",
    "#        3     R        M\n",
    "#      ---   ---      ---\n",
    "#      206     M        M\n",
    "#      207     M        M\n",
    "#      208     M        M"
   ]
  },
  {
   "cell_type": "code",
   "execution_count": null,
   "id": "e0f2e87a",
   "metadata": {
    "vscode": {
     "languageId": "r"
    }
   },
   "outputs": [
    {
     "data": {
      "text/html": [
       "<style>\n",
       ".dl-inline {width: auto; margin:0; padding: 0}\n",
       ".dl-inline>dt, .dl-inline>dd {float: none; width: auto; display: inline-block}\n",
       ".dl-inline>dt::after {content: \":\\0020\"; padding-right: .5ex}\n",
       ".dl-inline>dt:not(:first-of-type) {padding-left: .5ex}\n",
       "</style><dl class=dl-inline><dt>ce_train</dt><dd>0</dd><dt>ce_test</dt><dd>0.201725327812284</dd></dl>\n"
      ],
      "text/latex": [
       "\\begin{description*}\n",
       "\\item[ce\\textbackslash{}\\_train] 0\n",
       "\\item[ce\\textbackslash{}\\_test] 0.201725327812284\n",
       "\\end{description*}\n"
      ],
      "text/markdown": [
       "ce_train\n",
       ":   0ce_test\n",
       ":   0.201725327812284\n",
       "\n"
      ],
      "text/plain": [
       " ce_train   ce_test \n",
       "0.0000000 0.2017253 "
      ]
     },
     "metadata": {},
     "output_type": "display_data"
    }
   ],
   "source": [
    "rr$aggregate(list(\n",
    "  msr(\"classif.ce\", predict_sets = \"train\", id = \"ce_train\"),\n",
    "  msr(\"classif.ce\", predict_sets = \"test\", id = \"ce_test\")\n",
    "))\n",
    "\n",
    "# ce_train   ce_test \n",
    "# 0.0000000 0.2017253"
   ]
  },
  {
   "cell_type": "code",
   "execution_count": null,
   "id": "51f03c94",
   "metadata": {
    "vscode": {
     "languageId": "r"
    }
   },
   "outputs": [
    {
     "name": "stdout",
     "output_type": "stream",
     "text": [
      "INFO  [14:48:50.292] [mlr3] Applying learner 'classif.ranger' on task 'sonar' (iter 1/1)\n"
     ]
    },
    {
     "data": {
      "text/html": [
       "<strong>oob_error:</strong> 0.163461538461538"
      ],
      "text/latex": [
       "\\textbf{oob\\textbackslash{}\\_error:} 0.163461538461538"
      ],
      "text/markdown": [
       "**oob_error:** 0.163461538461538"
      ],
      "text/plain": [
       "oob_error \n",
       "0.1634615 "
      ]
     },
     "metadata": {},
     "output_type": "display_data"
    }
   ],
   "source": [
    "lrn_rf$predict_sets <- NULL\n",
    "rsmp_in <- rsmp(\"insample\")\n",
    "rr <- resample(tsk_sonar, lrn_rf, rsmp_in, store_models = TRUE)\n",
    "msr_oob <- msr(\"oob_error\")\n",
    "rr$aggregate(msr_oob)\n",
    "\n",
    "# oob_error \n",
    "# 0.1634615"
   ]
  },
  {
   "cell_type": "code",
   "execution_count": 9,
   "id": "d8e58265",
   "metadata": {
    "vscode": {
     "languageId": "r"
    }
   },
   "outputs": [
    {
     "name": "stdout",
     "output_type": "stream",
     "text": [
      "INFO  [14:49:24.555] [bbotk] Starting to optimize 1 parameter(s) with '<OptimizerBatchGridSearch>' and '<TerminatorEvals> [n_evals=10, k=0]'\n",
      "INFO  [14:49:24.564] [bbotk] Evaluating 1 configuration(s)\n",
      "INFO  [14:49:24.605] [mlr3] Running benchmark with 1 resampling iterations\n",
      "INFO  [14:49:24.609] [mlr3] Applying learner 'classif.ranger' on task 'sonar' (iter 1/1)\n",
      "INFO  [14:49:24.795] [mlr3] Finished benchmark\n",
      "INFO  [14:49:24.816] [bbotk] Result of batch 1:\n",
      "INFO  [14:49:24.818] [bbotk]  mtry.ratio oob_error warnings errors runtime_learners\n",
      "INFO  [14:49:24.818] [bbotk]         0.5 0.1682692        0      0            0.179\n",
      "INFO  [14:49:24.818] [bbotk]                                 uhash\n",
      "INFO  [14:49:24.818] [bbotk]  bccf9285-5d58-4bc2-9011-c3f18a6fd8ff\n",
      "INFO  [14:49:24.819] [bbotk] Evaluating 1 configuration(s)\n",
      "INFO  [14:49:24.823] [mlr3] Running benchmark with 1 resampling iterations\n",
      "INFO  [14:49:24.826] [mlr3] Applying learner 'classif.ranger' on task 'sonar' (iter 1/1)\n",
      "INFO  [14:49:25.062] [mlr3] Finished benchmark\n",
      "INFO  [14:49:25.081] [bbotk] Result of batch 2:\n",
      "INFO  [14:49:25.085] [bbotk]  mtry.ratio oob_error warnings errors runtime_learners\n",
      "INFO  [14:49:25.085] [bbotk]         0.7 0.2019231        0      0            0.232\n",
      "INFO  [14:49:25.085] [bbotk]                                 uhash\n",
      "INFO  [14:49:25.085] [bbotk]  a8201f7d-4003-4176-a95d-d8c50b4e4cb8\n",
      "INFO  [14:49:25.089] [bbotk] Evaluating 1 configuration(s)\n",
      "INFO  [14:49:25.096] [mlr3] Running benchmark with 1 resampling iterations\n",
      "INFO  [14:49:25.099] [mlr3] Applying learner 'classif.ranger' on task 'sonar' (iter 1/1)\n",
      "INFO  [14:49:25.244] [mlr3] Finished benchmark\n",
      "INFO  [14:49:25.260] [bbotk] Result of batch 3:\n",
      "INFO  [14:49:25.266] [bbotk]  mtry.ratio oob_error warnings errors runtime_learners\n",
      "INFO  [14:49:25.266] [bbotk]         0.4    0.1875        0      0            0.141\n",
      "INFO  [14:49:25.266] [bbotk]                                 uhash\n",
      "INFO  [14:49:25.266] [bbotk]  df427f80-c3c5-4d4c-a053-2dd41d07c8c6\n",
      "INFO  [14:49:25.269] [bbotk] Evaluating 1 configuration(s)\n",
      "INFO  [14:49:25.275] [mlr3] Running benchmark with 1 resampling iterations\n",
      "INFO  [14:49:25.278] [mlr3] Applying learner 'classif.ranger' on task 'sonar' (iter 1/1)\n",
      "INFO  [14:49:25.620] [mlr3] Finished benchmark\n",
      "INFO  [14:49:25.633] [bbotk] Result of batch 4:\n",
      "INFO  [14:49:25.635] [bbotk]  mtry.ratio oob_error warnings errors runtime_learners\n",
      "INFO  [14:49:25.635] [bbotk]         0.8 0.1971154        0      0            0.338\n",
      "INFO  [14:49:25.635] [bbotk]                                 uhash\n",
      "INFO  [14:49:25.635] [bbotk]  77d7a5f2-04d1-4918-a594-4d36e7f6cf6b\n",
      "INFO  [14:49:25.636] [bbotk] Evaluating 1 configuration(s)\n",
      "INFO  [14:49:25.639] [mlr3] Running benchmark with 1 resampling iterations\n",
      "INFO  [14:49:25.641] [mlr3] Applying learner 'classif.ranger' on task 'sonar' (iter 1/1)\n",
      "INFO  [14:49:25.700] [mlr3] Finished benchmark\n",
      "INFO  [14:49:25.713] [bbotk] Result of batch 5:\n",
      "INFO  [14:49:25.714] [bbotk]  mtry.ratio oob_error warnings errors runtime_learners\n",
      "INFO  [14:49:25.714] [bbotk]         0.1 0.1442308        0      0            0.056\n",
      "INFO  [14:49:25.714] [bbotk]                                 uhash\n",
      "INFO  [14:49:25.714] [bbotk]  26615193-df56-4e9f-aa68-6da0a33e37b8\n",
      "INFO  [14:49:25.716] [bbotk] Evaluating 1 configuration(s)\n",
      "INFO  [14:49:25.718] [mlr3] Running benchmark with 1 resampling iterations\n",
      "INFO  [14:49:25.720] [mlr3] Applying learner 'classif.ranger' on task 'sonar' (iter 1/1)\n",
      "INFO  [14:49:26.007] [mlr3] Finished benchmark\n",
      "INFO  [14:49:26.022] [bbotk] Result of batch 6:\n",
      "INFO  [14:49:26.024] [bbotk]  mtry.ratio oob_error warnings errors runtime_learners\n",
      "INFO  [14:49:26.024] [bbotk]         0.9 0.1923077        0      0            0.283\n",
      "INFO  [14:49:26.024] [bbotk]                                 uhash\n",
      "INFO  [14:49:26.024] [bbotk]  745be045-69a9-48ba-aeb6-754f57d0259a\n",
      "INFO  [14:49:26.025] [bbotk] Evaluating 1 configuration(s)\n",
      "INFO  [14:49:26.028] [mlr3] Running benchmark with 1 resampling iterations\n",
      "INFO  [14:49:26.031] [mlr3] Applying learner 'classif.ranger' on task 'sonar' (iter 1/1)\n",
      "INFO  [14:49:26.235] [mlr3] Finished benchmark\n",
      "INFO  [14:49:26.254] [bbotk] Result of batch 7:\n",
      "INFO  [14:49:26.256] [bbotk]  mtry.ratio oob_error warnings errors runtime_learners\n",
      "INFO  [14:49:26.256] [bbotk]         0.6 0.1971154        0      0              0.2\n",
      "INFO  [14:49:26.256] [bbotk]                                 uhash\n",
      "INFO  [14:49:26.256] [bbotk]  19caff3c-ff14-4336-98e3-e13ba9d6bae8\n",
      "INFO  [14:49:26.257] [bbotk] Evaluating 1 configuration(s)\n",
      "INFO  [14:49:26.260] [mlr3] Running benchmark with 1 resampling iterations\n",
      "INFO  [14:49:26.262] [mlr3] Applying learner 'classif.ranger' on task 'sonar' (iter 1/1)\n",
      "INFO  [14:49:26.379] [mlr3] Finished benchmark\n",
      "INFO  [14:49:26.395] [bbotk] Result of batch 8:\n",
      "INFO  [14:49:26.396] [bbotk]  mtry.ratio oob_error warnings errors runtime_learners\n",
      "INFO  [14:49:26.396] [bbotk]         0.3 0.1826923        0      0            0.114\n",
      "INFO  [14:49:26.396] [bbotk]                                 uhash\n",
      "INFO  [14:49:26.396] [bbotk]  cd0acbf8-2170-4da7-94cd-982b54b03b16\n",
      "INFO  [14:49:26.398] [bbotk] Evaluating 1 configuration(s)\n",
      "INFO  [14:49:26.402] [mlr3] Running benchmark with 1 resampling iterations\n",
      "INFO  [14:49:26.405] [mlr3] Applying learner 'classif.ranger' on task 'sonar' (iter 1/1)\n",
      "INFO  [14:49:26.511] [mlr3] Finished benchmark\n",
      "INFO  [14:49:26.528] [bbotk] Result of batch 9:\n",
      "INFO  [14:49:26.529] [bbotk]  mtry.ratio oob_error warnings errors runtime_learners\n",
      "INFO  [14:49:26.529] [bbotk]         0.2 0.1538462        0      0            0.102\n",
      "INFO  [14:49:26.529] [bbotk]                                 uhash\n",
      "INFO  [14:49:26.529] [bbotk]  ec002b9e-e755-4887-a76d-ce3f5a3825ae\n",
      "INFO  [14:49:26.531] [bbotk] Evaluating 1 configuration(s)\n",
      "INFO  [14:49:26.765] [mlr3] Running benchmark with 1 resampling iterations\n",
      "INFO  [14:49:26.770] [mlr3] Applying learner 'classif.ranger' on task 'sonar' (iter 1/1)\n",
      "INFO  [14:49:27.109] [mlr3] Finished benchmark\n",
      "INFO  [14:49:27.125] [bbotk] Result of batch 10:\n",
      "INFO  [14:49:27.127] [bbotk]  mtry.ratio oob_error warnings errors runtime_learners\n",
      "INFO  [14:49:27.127] [bbotk]           1 0.1971154        0      0            0.335\n",
      "INFO  [14:49:27.127] [bbotk]                                 uhash\n",
      "INFO  [14:49:27.127] [bbotk]  87e2f1bc-2741-460f-a2bd-1292591a2ba4\n",
      "INFO  [14:49:27.137] [bbotk] Finished optimizing after 10 evaluation(s)\n",
      "INFO  [14:49:27.137] [bbotk] Result:\n",
      "INFO  [14:49:27.139] [bbotk]  mtry.ratio learner_param_vals  x_domain oob_error\n",
      "INFO  [14:49:27.139] [bbotk]       <num>             <list>    <list>     <num>\n",
      "INFO  [14:49:27.139] [bbotk]         0.1          <list[2]> <list[1]> 0.1442308\n"
     ]
    }
   ],
   "source": [
    "lrn_rf$param_set$set_values(\n",
    "  mtry.ratio = to_tune(0.1, 1)\n",
    ")\n",
    "\n",
    "ti <- tune(\n",
    "  task = tsk_sonar,\n",
    "  tuner = tnr(\"grid_search\"),\n",
    "  learner = lrn_rf,\n",
    "  resampling = rsmp_in,\n",
    "  measure = msr_oob,\n",
    "  term_evals = 10,\n",
    "  store_models = TRUE\n",
    ")"
   ]
  },
  {
   "cell_type": "markdown",
   "id": "c22795c6",
   "metadata": {},
   "source": [
    "# 验证"
   ]
  },
  {
   "cell_type": "code",
   "execution_count": null,
   "id": "73b9058b",
   "metadata": {
    "vscode": {
     "languageId": "r"
    }
   },
   "outputs": [
    {
     "data": {
      "text/plain": [
       "<LearnerClassifXgboost:classif.xgboost>: Extreme Gradient Boosting\n",
       "* Model: -\n",
       "* Parameters: nrounds=1000, nthread=1, verbose=0\n",
       "* Validate: NULL\n",
       "* Packages: mlr3, mlr3learners, xgboost\n",
       "* Predict Types:  [response], prob\n",
       "* Feature Types: logical, integer, numeric\n",
       "* Properties: hotstart_forward, importance, internal_tuning, missings,\n",
       "  multiclass, offset, twoclass, validation, weights"
      ]
     },
     "metadata": {},
     "output_type": "display_data"
    }
   ],
   "source": [
    "tsk_sonar <- tsk(\"sonar\")\n",
    "lrn_xgb <- lrn(\"classif.xgboost\")\n",
    "lrn_xgb\n",
    "\n",
    "# <LearnerClassifXgboost:classif.xgboost>: Extreme Gradient Boosting\n",
    "# * Model: -\n",
    "# * Parameters: nrounds=1000, nthread=1, verbose=0\n",
    "# * Validate: NULL\n",
    "# * Packages: mlr3, mlr3learners, xgboost\n",
    "# * Predict Types:  [response], prob\n",
    "# * Feature Types: logical, integer, numeric\n",
    "# * Properties: hotstart_forward, importance, internal_tuning, missings,\n",
    "#   multiclass, offset, twoclass, validation, weights"
   ]
  },
  {
   "cell_type": "code",
   "execution_count": null,
   "id": "17c7e35d",
   "metadata": {
    "vscode": {
     "languageId": "r"
    }
   },
   "outputs": [],
   "source": [
    "lrn_xgb$validate <- 1/3"
   ]
  },
  {
   "cell_type": "code",
   "execution_count": 12,
   "id": "ccb45b52",
   "metadata": {
    "vscode": {
     "languageId": "r"
    }
   },
   "outputs": [],
   "source": [
    "lrn_xgb$param_set$set_values(\n",
    "  nrounds = 100,\n",
    "  eval_metric = \"logloss\"\n",
    ")\n",
    "lrn_xgb$train(tsk_sonar)"
   ]
  },
  {
   "cell_type": "code",
   "execution_count": null,
   "id": "addca597",
   "metadata": {
    "vscode": {
     "languageId": "r"
    }
   },
   "outputs": [
    {
     "data": {
      "text/html": [
       "<table class=\"dataframe\">\n",
       "<caption>A data.table: 6 x 2</caption>\n",
       "<thead>\n",
       "\t<tr><th scope=col>iter</th><th scope=col>test_logloss</th></tr>\n",
       "\t<tr><th scope=col>&lt;dbl&gt;</th><th scope=col>&lt;dbl&gt;</th></tr>\n",
       "</thead>\n",
       "<tbody>\n",
       "\t<tr><td> 95</td><td>0.3316682</td></tr>\n",
       "\t<tr><td> 96</td><td>0.3316024</td></tr>\n",
       "\t<tr><td> 97</td><td>0.3327876</td></tr>\n",
       "\t<tr><td> 98</td><td>0.3325908</td></tr>\n",
       "\t<tr><td> 99</td><td>0.3317089</td></tr>\n",
       "\t<tr><td>100</td><td>0.3326335</td></tr>\n",
       "</tbody>\n",
       "</table>\n"
      ],
      "text/latex": [
       "A data.table: 6 x 2\n",
       "\\begin{tabular}{ll}\n",
       " iter & test\\_logloss\\\\\n",
       " <dbl> & <dbl>\\\\\n",
       "\\hline\n",
       "\t  95 & 0.3316682\\\\\n",
       "\t  96 & 0.3316024\\\\\n",
       "\t  97 & 0.3327876\\\\\n",
       "\t  98 & 0.3325908\\\\\n",
       "\t  99 & 0.3317089\\\\\n",
       "\t 100 & 0.3326335\\\\\n",
       "\\end{tabular}\n"
      ],
      "text/markdown": [
       "\n",
       "A data.table: 6 x 2\n",
       "\n",
       "| iter &lt;dbl&gt; | test_logloss &lt;dbl&gt; |\n",
       "|---|---|\n",
       "|  95 | 0.3316682 |\n",
       "|  96 | 0.3316024 |\n",
       "|  97 | 0.3327876 |\n",
       "|  98 | 0.3325908 |\n",
       "|  99 | 0.3317089 |\n",
       "| 100 | 0.3326335 |\n",
       "\n"
      ],
      "text/plain": [
       "  iter test_logloss\n",
       "1  95  0.3316682   \n",
       "2  96  0.3316024   \n",
       "3  97  0.3327876   \n",
       "4  98  0.3325908   \n",
       "5  99  0.3317089   \n",
       "6 100  0.3326335   "
      ]
     },
     "metadata": {},
     "output_type": "display_data"
    }
   ],
   "source": [
    "tail(lrn_xgb$model$evaluation_log)\n",
    "\n",
    "# iter test_logloss\n",
    "# 1  95  0.3316682   \n",
    "# 2  96  0.3316024   \n",
    "# 3  97  0.3327876   \n",
    "# 4  98  0.3325908   \n",
    "# 5  99  0.3317089   \n",
    "# 6 100  0.3326335"
   ]
  },
  {
   "cell_type": "code",
   "execution_count": null,
   "id": "37e00036",
   "metadata": {
    "vscode": {
     "languageId": "r"
    }
   },
   "outputs": [
    {
     "data": {
      "text/html": [
       "<strong>$logloss</strong> = 0.332633536746405"
      ],
      "text/latex": [
       "\\textbf{\\$logloss} = 0.332633536746405"
      ],
      "text/markdown": [
       "**$logloss** = 0.332633536746405"
      ],
      "text/plain": [
       "$logloss\n",
       "[1] 0.3326335\n"
      ]
     },
     "metadata": {},
     "output_type": "display_data"
    }
   ],
   "source": [
    "lrn_xgb$internal_valid_scores\n",
    "\n",
    "# $logloss\n",
    "# [1] 0.3326335"
   ]
  },
  {
   "cell_type": "code",
   "execution_count": 15,
   "id": "064236d7",
   "metadata": {
    "vscode": {
     "languageId": "r"
    }
   },
   "outputs": [],
   "source": [
    "lrn_xgb$validate <- \"predefined\""
   ]
  },
  {
   "cell_type": "code",
   "execution_count": 16,
   "id": "d8de6a60",
   "metadata": {
    "vscode": {
     "languageId": "r"
    }
   },
   "outputs": [],
   "source": [
    "# 随机抽取60个样本作为验证集\n",
    "valid_ids <- sample(tsk_sonar$nrow, 60)\n",
    "tsk_valid <- tsk_sonar$clone(deep = TRUE)\n",
    "tsk_valid$filter(valid_ids)\n",
    "\n",
    "# 剩余样本作为训练集\n",
    "tsk_sonar$filter(setdiff(tsk_sonar$row_ids, valid_ids))\n",
    "\n",
    "# 设置内部验证任务\n",
    "tsk_sonar$internal_valid_task <- tsk_valid"
   ]
  },
  {
   "cell_type": "code",
   "execution_count": null,
   "id": "b9706be2",
   "metadata": {
    "vscode": {
     "languageId": "r"
    }
   },
   "outputs": [
    {
     "data": {
      "text/html": [
       "<style>\n",
       ".list-inline {list-style: none; margin:0; padding: 0}\n",
       ".list-inline>li {display: inline-block}\n",
       ".list-inline>li:not(:last-child)::after {content: \"\\00b7\"; padding: 0 .5ex}\n",
       "</style>\n",
       "<ol class=list-inline><li>60</li><li>148</li></ol>\n"
      ],
      "text/latex": [
       "\\begin{enumerate*}\n",
       "\\item 60\n",
       "\\item 148\n",
       "\\end{enumerate*}\n"
      ],
      "text/markdown": [
       "1. 60\n",
       "2. 148\n",
       "\n",
       "\n"
      ],
      "text/plain": [
       "[1]  60 148"
      ]
     },
     "metadata": {},
     "output_type": "display_data"
    }
   ],
   "source": [
    "c(tsk_sonar$internal_valid_task$nrow, tsk_sonar$nrow)\n",
    "\n",
    "# [1]  60 148"
   ]
  },
  {
   "cell_type": "code",
   "execution_count": 18,
   "id": "1a35f2c2",
   "metadata": {
    "vscode": {
     "languageId": "r"
    }
   },
   "outputs": [],
   "source": [
    "lrn_xgb$train(tsk_sonar)"
   ]
  },
  {
   "cell_type": "code",
   "execution_count": null,
   "id": "3cdd5ce5",
   "metadata": {
    "vscode": {
     "languageId": "r"
    }
   },
   "outputs": [
    {
     "data": {
      "text/plain": [
       "<TaskClassif:sonar> (60 x 61): Sonar: Mines vs. Rocks\n",
       "* Target: Class\n",
       "* Properties: twoclass\n",
       "* Features (60):\n",
       "  - dbl (60): PC1, PC10, PC11, PC12, PC13, PC14, PC15, PC16, PC17,\n",
       "    PC18, PC19, PC2, PC20, PC21, PC22, PC23, PC24, PC25, PC26, PC27,\n",
       "    PC28, PC29, PC3, PC30, PC31, PC32, PC33, PC34, PC35, PC36, PC37,\n",
       "    PC38, PC39, PC4, PC40, PC41, PC42, PC43, PC44, PC45, PC46, PC47,\n",
       "    PC48, PC49, PC5, PC50, PC51, PC52, PC53, PC54, PC55, PC56, PC57,\n",
       "    PC58, PC59, PC6, PC60, PC7, PC8, PC9"
      ]
     },
     "metadata": {},
     "output_type": "display_data"
    }
   ],
   "source": [
    "po_pca <- po(\"pca\")\n",
    "taskout <- po_pca$train(list(tsk_sonar))[[1]]\n",
    "taskout$internal_valid_task\n",
    "\n",
    "# <TaskClassif:sonar> (60 x 61): Sonar: Mines vs. Rocks\n",
    "# * Target: Class\n",
    "# * Properties: twoclass\n",
    "# * Features (60):\n",
    "#   - dbl (60): PC1, PC10, PC11, PC12, PC13, PC14, PC15, PC16, PC17,\n",
    "#     PC18, PC19, PC2, PC20, PC21, PC22, PC23, PC24, PC25, PC26, PC27,\n",
    "#     PC28, PC29, PC3, PC30, PC31, PC32, PC33, PC34, PC35, PC36, PC37,\n",
    "#     PC38, PC39, PC4, PC40, PC41, PC42, PC43, PC44, PC45, PC46, PC47,\n",
    "#     PC48, PC49, PC5, PC50, PC51, PC52, PC53, PC54, PC55, PC56, PC57,\n",
    "#     PC58, PC59, PC6, PC60, PC7, PC8, PC9"
   ]
  },
  {
   "cell_type": "code",
   "execution_count": null,
   "id": "d6746cf7",
   "metadata": {
    "vscode": {
     "languageId": "r"
    }
   },
   "outputs": [
    {
     "data": {
      "text/plain": [
       "<TaskClassif:sonar> (60 x 61): Sonar: Mines vs. Rocks\n",
       "* Target: Class\n",
       "* Properties: twoclass\n",
       "* Features (60):\n",
       "  - dbl (60): PC1, PC10, PC11, PC12, PC13, PC14, PC15, PC16, PC17,\n",
       "    PC18, PC19, PC2, PC20, PC21, PC22, PC23, PC24, PC25, PC26, PC27,\n",
       "    PC28, PC29, PC3, PC30, PC31, PC32, PC33, PC34, PC35, PC36, PC37,\n",
       "    PC38, PC39, PC4, PC40, PC41, PC42, PC43, PC44, PC45, PC46, PC47,\n",
       "    PC48, PC49, PC5, PC50, PC51, PC52, PC53, PC54, PC55, PC56, PC57,\n",
       "    PC58, PC59, PC6, PC60, PC7, PC8, PC9"
      ]
     },
     "metadata": {},
     "output_type": "display_data"
    }
   ],
   "source": [
    "po_pca$predict(list(tsk_sonar$internal_valid_task))[[1L]]\n",
    "\n",
    "# <TaskClassif:sonar> (60 x 61): Sonar: Mines vs. Rocks\n",
    "# * Target: Class\n",
    "# * Properties: twoclass\n",
    "# * Features (60):\n",
    "#   - dbl (60): PC1, PC10, PC11, PC12, PC13, PC14, PC15, PC16, PC17,\n",
    "#     PC18, PC19, PC2, PC20, PC21, PC22, PC23, PC24, PC25, PC26, PC27,\n",
    "#     PC28, PC29, PC3, PC30, PC31, PC32, PC33, PC34, PC35, PC36, PC37,\n",
    "#     PC38, PC39, PC4, PC40, PC41, PC42, PC43, PC44, PC45, PC46, PC47,\n",
    "#     PC48, PC49, PC5, PC50, PC51, PC52, PC53, PC54, PC55, PC56, PC57,\n",
    "#     PC58, PC59, PC6, PC60, PC7, PC8, PC9"
   ]
  },
  {
   "cell_type": "code",
   "execution_count": null,
   "id": "05bfa38f",
   "metadata": {
    "vscode": {
     "languageId": "r"
    }
   },
   "outputs": [],
   "source": [
    "glrn <- as_learner(po_pca %>>% lrn_xgb)"
   ]
  },
  {
   "cell_type": "code",
   "execution_count": 22,
   "id": "54f2c4c9",
   "metadata": {
    "vscode": {
     "languageId": "r"
    }
   },
   "outputs": [],
   "source": [
    "set_validate(glrn, validate = \"predefined\")\n",
    "set_validate(glrn, validate = \"predefined\", ids = \"classif.xgboost\")"
   ]
  },
  {
   "cell_type": "code",
   "execution_count": null,
   "id": "038d539d",
   "metadata": {
    "vscode": {
     "languageId": "r"
    }
   },
   "outputs": [
    {
     "data": {
      "text/html": [
       "<strong>$classif.xgboost.logloss</strong> = 0.445612378742468"
      ],
      "text/latex": [
       "\\textbf{\\$classif.xgboost.logloss} = 0.445612378742468"
      ],
      "text/markdown": [
       "**$classif.xgboost.logloss** = 0.445612378742468"
      ],
      "text/plain": [
       "$classif.xgboost.logloss\n",
       "[1] 0.4456124\n"
      ]
     },
     "metadata": {},
     "output_type": "display_data"
    }
   ],
   "source": [
    "glrn$validate <- \"predefined\"\n",
    "glrn$train(tsk_sonar)\n",
    "glrn$internal_valid_scores\n",
    "\n",
    "# $classif.xgboost.logloss\n",
    "# [1] 0.4456124"
   ]
  },
  {
   "cell_type": "markdown",
   "id": "9343ff05",
   "metadata": {},
   "source": [
    "# 内部调参"
   ]
  },
  {
   "cell_type": "code",
   "execution_count": null,
   "id": "284b898b",
   "metadata": {
    "vscode": {
     "languageId": "r"
    }
   },
   "outputs": [
    {
     "data": {
      "text/html": [
       "TRUE"
      ],
      "text/latex": [
       "TRUE"
      ],
      "text/markdown": [
       "TRUE"
      ],
      "text/plain": [
       "[1] TRUE"
      ]
     },
     "metadata": {},
     "output_type": "display_data"
    }
   ],
   "source": [
    "\"internal_tuning\" %in% lrn_xgb$properties\n",
    "\n",
    "# [1] TRUE"
   ]
  },
  {
   "cell_type": "code",
   "execution_count": 25,
   "id": "dd3cbf94",
   "metadata": {
    "vscode": {
     "languageId": "r"
    }
   },
   "outputs": [],
   "source": [
    "lrn_xgb$param_set$set_values(\n",
    "  early_stopping_rounds = 10,\n",
    "  nrounds = 100\n",
    ")"
   ]
  },
  {
   "cell_type": "code",
   "execution_count": null,
   "id": "57aa870d",
   "metadata": {
    "vscode": {
     "languageId": "r"
    }
   },
   "outputs": [
    {
     "data": {
      "text/html": [
       "<strong>$nrounds</strong> = 100"
      ],
      "text/latex": [
       "\\textbf{\\$nrounds} = 100"
      ],
      "text/markdown": [
       "**$nrounds** = 100"
      ],
      "text/plain": [
       "$nrounds\n",
       "[1] 100\n"
      ]
     },
     "metadata": {},
     "output_type": "display_data"
    }
   ],
   "source": [
    "lrn_xgb$train(tsk_sonar)\n",
    "lrn_xgb$internal_tuned_values\n",
    "\n",
    "# $nrounds\n",
    "# [1] 100"
   ]
  },
  {
   "cell_type": "code",
   "execution_count": 27,
   "id": "d204e761",
   "metadata": {
    "vscode": {
     "languageId": "r"
    }
   },
   "outputs": [],
   "source": [
    "lrn_xgb$param_set$set_values(\n",
    "  eta = to_tune(0.001, 0.1, logscale = TRUE),\n",
    "  nrounds = to_tune(upper = 500, internal = TRUE)\n",
    ")"
   ]
  },
  {
   "cell_type": "code",
   "execution_count": null,
   "id": "c88fe503",
   "metadata": {
    "vscode": {
     "languageId": "r"
    }
   },
   "outputs": [],
   "source": [
    "lrn_xgb$validate <- \"test\""
   ]
  },
  {
   "cell_type": "code",
   "execution_count": 29,
   "id": "0d2d3d19",
   "metadata": {
    "vscode": {
     "languageId": "r"
    }
   },
   "outputs": [
    {
     "name": "stdout",
     "output_type": "stream",
     "text": [
      "INFO  [15:06:33.052] [bbotk] Starting to optimize 1 parameter(s) with '<OptimizerBatchGridSearch>' and '<TerminatorEvals> [n_evals=10, k=0]'\n",
      "INFO  [15:06:33.056] [bbotk] Evaluating 1 configuration(s)\n",
      "INFO  [15:06:33.059] [mlr3] Running benchmark with 3 resampling iterations\n",
      "INFO  [15:06:33.065] [mlr3] Applying learner 'classif.xgboost' on task 'sonar' (iter 1/3)\n",
      "INFO  [15:06:33.327] [mlr3] Applying learner 'classif.xgboost' on task 'sonar' (iter 2/3)\n",
      "INFO  [15:06:33.558] [mlr3] Applying learner 'classif.xgboost' on task 'sonar' (iter 3/3)\n",
      "INFO  [15:06:33.724] [mlr3] Finished benchmark\n",
      "INFO  [15:06:33.758] [bbotk] Result of batch 1:\n",
      "INFO  [15:06:33.760] [bbotk]        eta   logloss warnings errors runtime_learners internal_tuned_values\n",
      "INFO  [15:06:33.760] [bbotk]  -3.837642 0.4251037        0      0            0.608             <list[1]>\n",
      "INFO  [15:06:33.760] [bbotk]                                 uhash\n",
      "INFO  [15:06:33.760] [bbotk]  1caf3491-cca8-4fca-aafc-948bc49bbdcc\n",
      "INFO  [15:06:33.762] [bbotk] Evaluating 1 configuration(s)\n",
      "INFO  [15:06:33.765] [mlr3] Running benchmark with 3 resampling iterations\n",
      "INFO  [15:06:33.768] [mlr3] Applying learner 'classif.xgboost' on task 'sonar' (iter 1/3)\n",
      "INFO  [15:06:34.473] [mlr3] Applying learner 'classif.xgboost' on task 'sonar' (iter 2/3)\n",
      "INFO  [15:06:34.790] [mlr3] Applying learner 'classif.xgboost' on task 'sonar' (iter 3/3)\n",
      "INFO  [15:06:35.025] [mlr3] Finished benchmark\n",
      "INFO  [15:06:35.048] [bbotk] Result of batch 2:\n",
      "INFO  [15:06:35.049] [bbotk]        eta   logloss warnings errors runtime_learners internal_tuned_values\n",
      "INFO  [15:06:35.049] [bbotk]  -4.349327 0.4367659        0      0            1.201             <list[1]>\n",
      "INFO  [15:06:35.049] [bbotk]                                 uhash\n",
      "INFO  [15:06:35.049] [bbotk]  894f0539-8fbf-45c3-94e2-0de0549bb5d9\n",
      "INFO  [15:06:35.051] [bbotk] Evaluating 1 configuration(s)\n",
      "INFO  [15:06:35.054] [mlr3] Running benchmark with 3 resampling iterations\n",
      "INFO  [15:06:35.056] [mlr3] Applying learner 'classif.xgboost' on task 'sonar' (iter 1/3)\n",
      "INFO  [15:06:35.434] [mlr3] Applying learner 'classif.xgboost' on task 'sonar' (iter 2/3)\n",
      "INFO  [15:06:35.945] [mlr3] Applying learner 'classif.xgboost' on task 'sonar' (iter 3/3)\n",
      "INFO  [15:06:36.403] [mlr3] Finished benchmark\n",
      "INFO  [15:06:36.466] [bbotk] Result of batch 3:\n",
      "INFO  [15:06:36.469] [bbotk]        eta   logloss warnings errors runtime_learners internal_tuned_values\n",
      "INFO  [15:06:36.469] [bbotk]  -5.372699 0.4829977        0      0            1.281             <list[1]>\n",
      "INFO  [15:06:36.469] [bbotk]                                 uhash\n",
      "INFO  [15:06:36.469] [bbotk]  1d9ec3e5-7098-409d-bd0e-590a1119f6cb\n",
      "INFO  [15:06:36.473] [bbotk] Evaluating 1 configuration(s)\n",
      "INFO  [15:06:36.478] [mlr3] Running benchmark with 3 resampling iterations\n",
      "INFO  [15:06:36.482] [mlr3] Applying learner 'classif.xgboost' on task 'sonar' (iter 1/3)\n",
      "INFO  [15:06:36.565] [mlr3] Applying learner 'classif.xgboost' on task 'sonar' (iter 2/3)\n",
      "INFO  [15:06:36.629] [mlr3] Applying learner 'classif.xgboost' on task 'sonar' (iter 3/3)\n",
      "INFO  [15:06:36.694] [mlr3] Finished benchmark\n",
      "INFO  [15:06:36.716] [bbotk] Result of batch 4:\n",
      "INFO  [15:06:36.718] [bbotk]        eta  logloss warnings errors runtime_learners internal_tuned_values\n",
      "INFO  [15:06:36.718] [bbotk]  -2.302585 0.422562        0      0            0.155             <list[1]>\n",
      "INFO  [15:06:36.718] [bbotk]                                 uhash\n",
      "INFO  [15:06:36.718] [bbotk]  6fcaf0cc-aff0-4a21-8cb6-4aff301f6bc3\n",
      "INFO  [15:06:36.719] [bbotk] Evaluating 1 configuration(s)\n",
      "INFO  [15:06:36.723] [mlr3] Running benchmark with 3 resampling iterations\n",
      "INFO  [15:06:36.726] [mlr3] Applying learner 'classif.xgboost' on task 'sonar' (iter 1/3)\n",
      "INFO  [15:06:37.140] [mlr3] Applying learner 'classif.xgboost' on task 'sonar' (iter 2/3)\n",
      "INFO  [15:06:37.545] [mlr3] Applying learner 'classif.xgboost' on task 'sonar' (iter 3/3)\n",
      "INFO  [15:06:38.003] [mlr3] Finished benchmark\n",
      "INFO  [15:06:38.021] [bbotk] Result of batch 5:\n",
      "INFO  [15:06:38.022] [bbotk]        eta   logloss warnings errors runtime_learners internal_tuned_values\n",
      "INFO  [15:06:38.022] [bbotk]  -5.884384 0.5195126        0      0            1.233             <list[1]>\n",
      "INFO  [15:06:38.022] [bbotk]                                 uhash\n",
      "INFO  [15:06:38.022] [bbotk]  bef32e65-27a7-4696-a295-67d9cf582e61\n",
      "INFO  [15:06:38.023] [bbotk] Evaluating 1 configuration(s)\n",
      "INFO  [15:06:38.027] [mlr3] Running benchmark with 3 resampling iterations\n",
      "INFO  [15:06:38.029] [mlr3] Applying learner 'classif.xgboost' on task 'sonar' (iter 1/3)\n",
      "INFO  [15:06:38.500] [mlr3] Applying learner 'classif.xgboost' on task 'sonar' (iter 2/3)\n",
      "INFO  [15:06:38.904] [mlr3] Applying learner 'classif.xgboost' on task 'sonar' (iter 3/3)\n",
      "INFO  [15:06:39.305] [mlr3] Finished benchmark\n",
      "INFO  [15:06:39.322] [bbotk] Result of batch 6:\n",
      "INFO  [15:06:39.323] [bbotk]       eta   logloss warnings errors runtime_learners internal_tuned_values\n",
      "INFO  [15:06:39.323] [bbotk]  -6.39607 0.5541322        0      0            1.236             <list[1]>\n",
      "INFO  [15:06:39.323] [bbotk]                                 uhash\n",
      "INFO  [15:06:39.323] [bbotk]  ee37ed6a-7217-4021-a136-7fdde37a5c86\n",
      "INFO  [15:06:39.324] [bbotk] Evaluating 1 configuration(s)\n",
      "INFO  [15:06:39.328] [mlr3] Running benchmark with 3 resampling iterations\n",
      "INFO  [15:06:39.331] [mlr3] Applying learner 'classif.xgboost' on task 'sonar' (iter 1/3)\n",
      "INFO  [15:06:39.479] [mlr3] Applying learner 'classif.xgboost' on task 'sonar' (iter 2/3)\n",
      "INFO  [15:06:39.585] [mlr3] Applying learner 'classif.xgboost' on task 'sonar' (iter 3/3)\n",
      "INFO  [15:06:39.680] [mlr3] Finished benchmark\n",
      "INFO  [15:06:39.701] [bbotk] Result of batch 7:\n",
      "INFO  [15:06:39.703] [bbotk]        eta  logloss warnings errors runtime_learners internal_tuned_values\n",
      "INFO  [15:06:39.703] [bbotk]  -3.325956 0.427768        0      0            0.311             <list[1]>\n",
      "INFO  [15:06:39.703] [bbotk]                                 uhash\n",
      "INFO  [15:06:39.703] [bbotk]  69c96d22-b1a6-4756-8e3e-9629cb3ee81b\n",
      "INFO  [15:06:39.705] [bbotk] Evaluating 1 configuration(s)\n",
      "INFO  [15:06:39.708] [mlr3] Running benchmark with 3 resampling iterations\n",
      "INFO  [15:06:39.710] [mlr3] Applying learner 'classif.xgboost' on task 'sonar' (iter 1/3)\n",
      "INFO  [15:06:40.067] [mlr3] Applying learner 'classif.xgboost' on task 'sonar' (iter 2/3)\n",
      "INFO  [15:06:40.417] [mlr3] Applying learner 'classif.xgboost' on task 'sonar' (iter 3/3)\n",
      "INFO  [15:06:40.714] [mlr3] Finished benchmark\n",
      "INFO  [15:06:40.730] [bbotk] Result of batch 8:\n",
      "INFO  [15:06:40.731] [bbotk]        eta   logloss warnings errors runtime_learners internal_tuned_values\n",
      "INFO  [15:06:40.731] [bbotk]  -4.861013 0.4563843        0      0            0.965             <list[1]>\n",
      "INFO  [15:06:40.731] [bbotk]                                 uhash\n",
      "INFO  [15:06:40.731] [bbotk]  51aadd35-e98a-4f93-b641-3f8fdf5843e0\n",
      "INFO  [15:06:40.732] [bbotk] Evaluating 1 configuration(s)\n",
      "INFO  [15:06:40.736] [mlr3] Running benchmark with 3 resampling iterations\n",
      "INFO  [15:06:40.738] [mlr3] Applying learner 'classif.xgboost' on task 'sonar' (iter 1/3)\n",
      "INFO  [15:06:41.146] [mlr3] Applying learner 'classif.xgboost' on task 'sonar' (iter 2/3)\n",
      "INFO  [15:06:41.621] [mlr3] Applying learner 'classif.xgboost' on task 'sonar' (iter 3/3)\n",
      "INFO  [15:06:42.021] [mlr3] Finished benchmark\n",
      "INFO  [15:06:42.038] [bbotk] Result of batch 9:\n",
      "INFO  [15:06:42.039] [bbotk]        eta   logloss warnings errors runtime_learners internal_tuned_values\n",
      "INFO  [15:06:42.039] [bbotk]  -6.907755 0.5877399        0      0             1.24             <list[1]>\n",
      "INFO  [15:06:42.039] [bbotk]                                 uhash\n",
      "INFO  [15:06:42.039] [bbotk]  7cc367e4-342c-4a37-a17d-11e73fe6f50e\n",
      "INFO  [15:06:42.041] [bbotk] Evaluating 1 configuration(s)\n",
      "INFO  [15:06:42.044] [mlr3] Running benchmark with 3 resampling iterations\n",
      "INFO  [15:06:42.046] [mlr3] Applying learner 'classif.xgboost' on task 'sonar' (iter 1/3)\n",
      "INFO  [15:06:42.157] [mlr3] Applying learner 'classif.xgboost' on task 'sonar' (iter 2/3)\n",
      "INFO  [15:06:42.253] [mlr3] Applying learner 'classif.xgboost' on task 'sonar' (iter 3/3)\n",
      "INFO  [15:06:42.333] [mlr3] Finished benchmark\n",
      "INFO  [15:06:42.356] [bbotk] Result of batch 10:\n",
      "INFO  [15:06:42.357] [bbotk]        eta   logloss warnings errors runtime_learners internal_tuned_values\n",
      "INFO  [15:06:42.357] [bbotk]  -2.814271 0.4191107        0      0            0.239             <list[1]>\n",
      "INFO  [15:06:42.357] [bbotk]                                 uhash\n",
      "INFO  [15:06:42.357] [bbotk]  ff6fd240-cf7c-453e-b84c-a2befa671186\n",
      "INFO  [15:06:42.367] [bbotk] Finished optimizing after 10 evaluation(s)\n",
      "INFO  [15:06:42.368] [bbotk] Result:\n",
      "INFO  [15:06:42.369] [bbotk]        eta internal_tuned_values learner_param_vals  x_domain   logloss\n",
      "INFO  [15:06:42.369] [bbotk]      <num>                <list>             <list>    <list>     <num>\n",
      "INFO  [15:06:42.369] [bbotk]  -2.814271             <list[1]>          <list[5]> <list[1]> 0.4191107\n"
     ]
    }
   ],
   "source": [
    "tsk_sonar <- tsk(\"sonar\")\n",
    "lrn_xgb$predict_sets <- NULL\n",
    "\n",
    "ti <- tune(\n",
    "  task = tsk_sonar,\n",
    "  tuner = tnr(\"grid_search\"),\n",
    "  learner = lrn_xgb,\n",
    "  resampling = rsmp(\"cv\", folds = 3),\n",
    "  measure = msr(\"internal_valid_score\", select = \"logloss\", minimize = TRUE),\n",
    "  term_evals = 10L\n",
    ")\n"
   ]
  },
  {
   "cell_type": "code",
   "execution_count": 31,
   "id": "f19baa0e",
   "metadata": {
    "vscode": {
     "languageId": "r"
    }
   },
   "outputs": [
    {
     "data": {
      "image/png": "[encoded data removed]",
      "text/plain": [
       "plot without title"
      ]
     },
     "metadata": {
      "image/png": {
       "height": 420,
       "width": 420
      }
     },
     "output_type": "display_data"
    }
   ],
   "source": [
    "d <- ti$archive$data\n",
    "\n",
    "d <- data.table(\n",
    "  eta = exp(d$eta),\n",
    "  nrounds = unlist(d$internal_tuned_values),\n",
    "  logloss = d$logloss\n",
    ")\n",
    "\n",
    "library(ggplot2)\n",
    "ggplot(data = d, aes(x = eta, y = nrounds, color = logloss)) +\n",
    "  geom_point() +\n",
    "  theme_minimal()"
   ]
  },
  {
   "cell_type": "code",
   "execution_count": 32,
   "id": "42e9cd32",
   "metadata": {
    "vscode": {
     "languageId": "r"
    }
   },
   "outputs": [
    {
     "name": "stdout",
     "output_type": "stream",
     "text": [
      "INFO  [15:08:30.376] [bbotk] Starting to optimize 1 parameter(s) with '<OptimizerBatchGridSearch>' and '<TerminatorEvals> [n_evals=10, k=0]'\n",
      "INFO  [15:08:30.413] [bbotk] Evaluating 1 configuration(s)\n",
      "INFO  [15:08:30.424] [mlr3] Running benchmark with 3 resampling iterations\n",
      "INFO  [15:08:30.428] [mlr3] Applying learner 'classif.xgboost' on task 'sonar' (iter 1/3)\n",
      "INFO  [15:08:30.823] [mlr3] Applying learner 'classif.xgboost' on task 'sonar' (iter 2/3)\n",
      "INFO  [15:08:31.294] [mlr3] Applying learner 'classif.xgboost' on task 'sonar' (iter 3/3)\n",
      "INFO  [15:08:31.688] [mlr3] Finished benchmark\n",
      "INFO  [15:08:31.705] [bbotk] Result of batch 1:\n",
      "INFO  [15:08:31.706] [bbotk]       eta  logloss warnings errors runtime_learners internal_tuned_values\n",
      "INFO  [15:08:31.706] [bbotk]  -6.39607 0.551799        0      0            1.215             <list[1]>\n",
      "INFO  [15:08:31.706] [bbotk]                                 uhash\n",
      "INFO  [15:08:31.706] [bbotk]  3a5da6d8-d8ff-48d0-a827-1ba2d61dfd56\n",
      "INFO  [15:08:31.708] [bbotk] Evaluating 1 configuration(s)\n",
      "INFO  [15:08:31.713] [mlr3] Running benchmark with 3 resampling iterations\n",
      "INFO  [15:08:31.717] [mlr3] Applying learner 'classif.xgboost' on task 'sonar' (iter 1/3)\n",
      "INFO  [15:08:32.116] [mlr3] Applying learner 'classif.xgboost' on task 'sonar' (iter 2/3)\n",
      "INFO  [15:08:32.523] [mlr3] Applying learner 'classif.xgboost' on task 'sonar' (iter 3/3)\n",
      "INFO  [15:08:32.912] [mlr3] Finished benchmark\n",
      "INFO  [15:08:32.943] [bbotk] Result of batch 2:\n",
      "INFO  [15:08:32.944] [bbotk]        eta   logloss warnings errors runtime_learners internal_tuned_values\n",
      "INFO  [15:08:32.944] [bbotk]  -6.907755 0.5894046        0      0            1.153             <list[1]>\n",
      "INFO  [15:08:32.944] [bbotk]                                 uhash\n",
      "INFO  [15:08:32.944] [bbotk]  a7daa7fc-e0cb-405b-93c2-35273e854268\n",
      "INFO  [15:08:32.946] [bbotk] Evaluating 1 configuration(s)\n",
      "INFO  [15:08:32.950] [mlr3] Running benchmark with 3 resampling iterations\n",
      "INFO  [15:08:32.953] [mlr3] Applying learner 'classif.xgboost' on task 'sonar' (iter 1/3)\n",
      "INFO  [15:08:33.002] [mlr3] Applying learner 'classif.xgboost' on task 'sonar' (iter 2/3)\n",
      "INFO  [15:08:33.066] [mlr3] Applying learner 'classif.xgboost' on task 'sonar' (iter 3/3)\n",
      "INFO  [15:08:33.119] [mlr3] Finished benchmark\n",
      "INFO  [15:08:33.135] [bbotk] Result of batch 3:\n",
      "INFO  [15:08:33.137] [bbotk]        eta   logloss warnings errors runtime_learners internal_tuned_values\n",
      "INFO  [15:08:33.137] [bbotk]  -2.302585 0.4300188        0      0            0.121             <list[1]>\n",
      "INFO  [15:08:33.137] [bbotk]                                 uhash\n",
      "INFO  [15:08:33.137] [bbotk]  f9e4504e-5f29-4e12-aa2f-8d803109216f\n",
      "INFO  [15:08:33.138] [bbotk] Evaluating 1 configuration(s)\n",
      "INFO  [15:08:33.142] [mlr3] Running benchmark with 3 resampling iterations\n",
      "INFO  [15:08:33.144] [mlr3] Applying learner 'classif.xgboost' on task 'sonar' (iter 1/3)\n",
      "INFO  [15:08:33.249] [mlr3] Applying learner 'classif.xgboost' on task 'sonar' (iter 2/3)\n",
      "INFO  [15:08:33.413] [mlr3] Applying learner 'classif.xgboost' on task 'sonar' (iter 3/3)\n",
      "INFO  [15:08:33.556] [mlr3] Finished benchmark\n",
      "INFO  [15:08:33.573] [bbotk] Result of batch 4:\n",
      "INFO  [15:08:33.574] [bbotk]        eta   logloss warnings errors runtime_learners internal_tuned_values\n",
      "INFO  [15:08:33.574] [bbotk]  -3.837642 0.4449688        0      0            0.373             <list[1]>\n",
      "INFO  [15:08:33.574] [bbotk]                                 uhash\n",
      "INFO  [15:08:33.574] [bbotk]  4482f69b-886b-4770-b398-888a2e665aab\n",
      "INFO  [15:08:33.576] [bbotk] Evaluating 1 configuration(s)\n",
      "INFO  [15:08:33.579] [mlr3] Running benchmark with 3 resampling iterations\n",
      "INFO  [15:08:33.582] [mlr3] Applying learner 'classif.xgboost' on task 'sonar' (iter 1/3)\n",
      "INFO  [15:08:33.781] [mlr3] Applying learner 'classif.xgboost' on task 'sonar' (iter 2/3)\n",
      "INFO  [15:08:34.024] [mlr3] Applying learner 'classif.xgboost' on task 'sonar' (iter 3/3)\n",
      "INFO  [15:08:34.267] [mlr3] Finished benchmark\n",
      "INFO  [15:08:34.284] [bbotk] Result of batch 5:\n",
      "INFO  [15:08:34.286] [bbotk]        eta   logloss warnings errors runtime_learners internal_tuned_values\n",
      "INFO  [15:08:34.286] [bbotk]  -4.349327 0.4442544        0      0            0.645             <list[1]>\n",
      "INFO  [15:08:34.286] [bbotk]                                 uhash\n",
      "INFO  [15:08:34.286] [bbotk]  53c78b21-6ec8-4206-9cec-b8ad684216b7\n",
      "INFO  [15:08:34.287] [bbotk] Evaluating 1 configuration(s)\n",
      "INFO  [15:08:34.291] [mlr3] Running benchmark with 3 resampling iterations\n",
      "INFO  [15:08:34.293] [mlr3] Applying learner 'classif.xgboost' on task 'sonar' (iter 1/3)\n",
      "INFO  [15:08:34.362] [mlr3] Applying learner 'classif.xgboost' on task 'sonar' (iter 2/3)\n",
      "INFO  [15:08:34.447] [mlr3] Applying learner 'classif.xgboost' on task 'sonar' (iter 3/3)\n",
      "INFO  [15:08:34.522] [mlr3] Finished benchmark\n",
      "INFO  [15:08:34.538] [bbotk] Result of batch 6:\n",
      "INFO  [15:08:34.539] [bbotk]        eta   logloss warnings errors runtime_learners internal_tuned_values\n",
      "INFO  [15:08:34.539] [bbotk]  -2.814271 0.4309927        0      0             0.18             <list[1]>\n",
      "INFO  [15:08:34.539] [bbotk]                                 uhash\n",
      "INFO  [15:08:34.539] [bbotk]  2deec787-c5c7-4cf2-af23-842ff022ea45\n",
      "INFO  [15:08:34.541] [bbotk] Evaluating 1 configuration(s)\n",
      "INFO  [15:08:34.544] [mlr3] Running benchmark with 3 resampling iterations\n",
      "INFO  [15:08:34.546] [mlr3] Applying learner 'classif.xgboost' on task 'sonar' (iter 1/3)\n",
      "INFO  [15:08:34.953] [mlr3] Applying learner 'classif.xgboost' on task 'sonar' (iter 2/3)\n",
      "INFO  [15:08:35.346] [mlr3] Applying learner 'classif.xgboost' on task 'sonar' (iter 3/3)\n",
      "INFO  [15:08:35.717] [mlr3] Finished benchmark\n",
      "INFO  [15:08:35.734] [bbotk] Result of batch 7:\n",
      "INFO  [15:08:35.735] [bbotk]        eta   logloss warnings errors runtime_learners internal_tuned_values\n",
      "INFO  [15:08:35.735] [bbotk]  -5.372699 0.4720938        0      0            1.123             <list[1]>\n",
      "INFO  [15:08:35.735] [bbotk]                                 uhash\n",
      "INFO  [15:08:35.735] [bbotk]  cbeb50b7-1000-444e-b556-881b5012c894\n",
      "INFO  [15:08:35.736] [bbotk] Evaluating 1 configuration(s)\n",
      "INFO  [15:08:35.740] [mlr3] Running benchmark with 3 resampling iterations\n",
      "INFO  [15:08:35.743] [mlr3] Applying learner 'classif.xgboost' on task 'sonar' (iter 1/3)\n",
      "INFO  [15:08:35.990] [mlr3] Applying learner 'classif.xgboost' on task 'sonar' (iter 2/3)\n",
      "INFO  [15:08:36.360] [mlr3] Applying learner 'classif.xgboost' on task 'sonar' (iter 3/3)\n",
      "INFO  [15:08:36.807] [mlr3] Finished benchmark\n",
      "INFO  [15:08:36.824] [bbotk] Result of batch 8:\n",
      "INFO  [15:08:36.825] [bbotk]        eta   logloss warnings errors runtime_learners internal_tuned_values\n",
      "INFO  [15:08:36.825] [bbotk]  -4.861013 0.4484567        0      0            1.022             <list[1]>\n",
      "INFO  [15:08:36.825] [bbotk]                                 uhash\n",
      "INFO  [15:08:36.825] [bbotk]  008bb7e6-7563-4a95-b1a4-5c20c3b6cfe4\n",
      "INFO  [15:08:36.827] [bbotk] Evaluating 1 configuration(s)\n",
      "INFO  [15:08:36.830] [mlr3] Running benchmark with 3 resampling iterations\n",
      "INFO  [15:08:36.832] [mlr3] Applying learner 'classif.xgboost' on task 'sonar' (iter 1/3)\n",
      "INFO  [15:08:36.920] [mlr3] Applying learner 'classif.xgboost' on task 'sonar' (iter 2/3)\n",
      "INFO  [15:08:37.021] [mlr3] Applying learner 'classif.xgboost' on task 'sonar' (iter 3/3)\n",
      "INFO  [15:08:37.123] [mlr3] Finished benchmark\n",
      "INFO  [15:08:37.141] [bbotk] Result of batch 9:\n",
      "INFO  [15:08:37.142] [bbotk]        eta   logloss warnings errors runtime_learners internal_tuned_values\n",
      "INFO  [15:08:37.142] [bbotk]  -3.325956 0.4389854        0      0            0.246             <list[1]>\n",
      "INFO  [15:08:37.142] [bbotk]                                 uhash\n",
      "INFO  [15:08:37.142] [bbotk]  b8410645-8e89-44f3-8cc4-00d06aae3048\n",
      "INFO  [15:08:37.144] [bbotk] Evaluating 1 configuration(s)\n",
      "INFO  [15:08:37.147] [mlr3] Running benchmark with 3 resampling iterations\n",
      "INFO  [15:08:37.149] [mlr3] Applying learner 'classif.xgboost' on task 'sonar' (iter 1/3)\n",
      "INFO  [15:08:37.543] [mlr3] Applying learner 'classif.xgboost' on task 'sonar' (iter 2/3)\n",
      "INFO  [15:08:37.948] [mlr3] Applying learner 'classif.xgboost' on task 'sonar' (iter 3/3)\n",
      "INFO  [15:08:38.343] [mlr3] Finished benchmark\n",
      "INFO  [15:08:38.361] [bbotk] Result of batch 10:\n",
      "INFO  [15:08:38.363] [bbotk]        eta   logloss warnings errors runtime_learners internal_tuned_values\n",
      "INFO  [15:08:38.363] [bbotk]  -5.884384 0.5129219        0      0            1.155             <list[1]>\n",
      "INFO  [15:08:38.363] [bbotk]                                 uhash\n",
      "INFO  [15:08:38.363] [bbotk]  d044b0d3-5f2f-4e9e-8045-8a13796d7e2b\n",
      "INFO  [15:08:38.371] [bbotk] Finished optimizing after 10 evaluation(s)\n",
      "INFO  [15:08:38.371] [bbotk] Result:\n",
      "INFO  [15:08:38.372] [bbotk]        eta internal_tuned_values learner_param_vals  x_domain   logloss\n",
      "INFO  [15:08:38.372] [bbotk]      <num>                <list>             <list>    <list>     <num>\n",
      "INFO  [15:08:38.372] [bbotk]  -2.302585             <list[1]>          <list[5]> <list[1]> 0.4300188\n"
     ]
    }
   ],
   "source": [
    "at <- auto_tuner(\n",
    "  tuner = tnr(\"grid_search\"),\n",
    "  learner = lrn_xgb,\n",
    "  resampling = rsmp(\"cv\", folds = 3),\n",
    "  measure = msr(\n",
    "    \"internal_valid_score\",\n",
    "    select = \"logloss\",\n",
    "    minimize = TRUE\n",
    "  ),\n",
    "  term_evals = 10L\n",
    ")\n",
    "at$train(tsk_sonar)"
   ]
  },
  {
   "cell_type": "code",
   "execution_count": null,
   "id": "ee9c07c9",
   "metadata": {
    "vscode": {
     "languageId": "r"
    }
   },
   "outputs": [
    {
     "name": "stdout",
     "output_type": "stream",
     "text": [
      "INFO  [15:10:50.632] [mlr3] Running benchmark with 6 resampling iterations\n",
      "INFO  [15:10:50.639] [mlr3] Applying learner 'classif.xgboost' on task 'sonar' (iter 1/3)\n",
      "INFO  [15:10:50.735] [mlr3] Applying learner 'classif.xgboost' on task 'sonar' (iter 2/3)\n",
      "INFO  [15:10:50.827] [mlr3] Applying learner 'classif.xgboost' on task 'sonar' (iter 3/3)\n",
      "INFO  [15:10:50.928] [mlr3] Applying learner 'classif.rpart' on task 'sonar' (iter 1/3)\n",
      "INFO  [15:10:51.006] [mlr3] Applying learner 'classif.rpart' on task 'sonar' (iter 2/3)\n",
      "INFO  [15:10:51.020] [mlr3] Applying learner 'classif.rpart' on task 'sonar' (iter 3/3)\n",
      "INFO  [15:10:51.033] [mlr3] Finished benchmark\n"
     ]
    },
    {
     "data": {
      "text/html": [
       "<table class=\"dataframe\">\n",
       "<caption>A bmr_aggregate: 2 x 7</caption>\n",
       "<thead>\n",
       "\t<tr><th scope=col>nr</th><th scope=col>resample_result</th><th scope=col>task_id</th><th scope=col>learner_id</th><th scope=col>resampling_id</th><th scope=col>iters</th><th scope=col>classif.ce</th></tr>\n",
       "\t<tr><th scope=col>&lt;int&gt;</th><th scope=col>&lt;list&gt;</th><th scope=col>&lt;chr&gt;</th><th scope=col>&lt;chr&gt;</th><th scope=col>&lt;chr&gt;</th><th scope=col>&lt;int&gt;</th><th scope=col>&lt;dbl&gt;</th></tr>\n",
       "</thead>\n",
       "<tbody>\n",
       "\t<tr><td>1</td><td>&lt;environment: 0x162bb24a0&gt;</td><td>sonar</td><td>classif.xgboost</td><td>cv</td><td>3</td><td>0.1488613</td></tr>\n",
       "\t<tr><td>2</td><td>&lt;environment: 0x162b96ab8&gt;</td><td>sonar</td><td><span style=white-space:pre-wrap>classif.rpart  </span></td><td>cv</td><td>3</td><td>0.2930987</td></tr>\n",
       "</tbody>\n",
       "</table>\n"
      ],
      "text/latex": [
       "A bmr\\_aggregate: 2 x 7\n",
       "\\begin{tabular}{lllllll}\n",
       " nr & resample\\_result & task\\_id & learner\\_id & resampling\\_id & iters & classif.ce\\\\\n",
       " <int> & <list> & <chr> & <chr> & <chr> & <int> & <dbl>\\\\\n",
       "\\hline\n",
       "\t 1 & <environment: 0x162bb24a0> & sonar & classif.xgboost & cv & 3 & 0.1488613\\\\\n",
       "\t 2 & <environment: 0x162b96ab8> & sonar & classif.rpart   & cv & 3 & 0.2930987\\\\\n",
       "\\end{tabular}\n"
      ],
      "text/markdown": [
       "\n",
       "A bmr_aggregate: 2 x 7\n",
       "\n",
       "| nr &lt;int&gt; | resample_result &lt;list&gt; | task_id &lt;chr&gt; | learner_id &lt;chr&gt; | resampling_id &lt;chr&gt; | iters &lt;int&gt; | classif.ce &lt;dbl&gt; |\n",
       "|---|---|---|---|---|---|---|\n",
       "| 1 | &lt;environment: 0x162bb24a0&gt; | sonar | classif.xgboost | cv | 3 | 0.1488613 |\n",
       "| 2 | &lt;environment: 0x162b96ab8&gt; | sonar | classif.rpart   | cv | 3 | 0.2930987 |\n",
       "\n"
      ],
      "text/plain": [
       "  nr resample_result            task_id learner_id      resampling_id iters\n",
       "1 1  <environment: 0x162bb24a0> sonar   classif.xgboost cv            3    \n",
       "2 2  <environment: 0x162b96ab8> sonar   classif.rpart   cv            3    \n",
       "  classif.ce\n",
       "1 0.1488613 \n",
       "2 0.2930987 "
      ]
     },
     "metadata": {},
     "output_type": "display_data"
    }
   ],
   "source": [
    "lrn_xgb$param_set$set_values(\n",
    "  eta = 0.1,\n",
    "  nrounds = 500,\n",
    "  early_stopping_rounds = 10\n",
    ")\n",
    "lrn_xgb$predict_sets <- \"test\"\n",
    "\n",
    "design <- benchmark_grid(\n",
    "  tsk_sonar,\n",
    "  list(lrn_xgb, lrn(\"classif.rpart\")),\n",
    "  rsmp(\"cv\", folds = 3)\n",
    ")\n",
    "bmr <- benchmark(design)\n",
    "bmr$aggregate(msr(\"classif.ce\"))\n",
    "\n",
    "# nr resample_result            task_id learner_id      resampling_id iters\n",
    "# 1 1  <environment: 0x162bb24a0> sonar   classif.xgboost cv            3    \n",
    "# 2 2  <environment: 0x162b96ab8> sonar   classif.rpart   cv            3    \n",
    "#   classif.ce\n",
    "# 1 0.1488613 \n",
    "# 2 0.2930987"
   ]
  },
  {
   "cell_type": "code",
   "execution_count": 35,
   "id": "a50b5633",
   "metadata": {
    "vscode": {
     "languageId": "r"
    }
   },
   "outputs": [],
   "source": [
    "search_space <- ps(\n",
    "  eta = p_dbl(lower = 0.001, upper = 0.1, logscale = TRUE),\n",
    "  nrounds = p_int(\n",
    "    lower = 1,\n",
    "    upper = 500,\n",
    "    tags = \"internal_tuning\",\n",
    "    aggr = function(x) as.integer(mean(unlist(x)))\n",
    "  )\n",
    ")"
   ]
  },
  {
   "cell_type": "code",
   "execution_count": 36,
   "id": "12dc1262",
   "metadata": {
    "vscode": {
     "languageId": "r"
    }
   },
   "outputs": [
    {
     "name": "stdout",
     "output_type": "stream",
     "text": [
      "INFO  [15:12:32.558] [bbotk] Starting to optimize 1 parameter(s) with '<OptimizerBatchGridSearch>' and '<TerminatorEvals> [n_evals=10, k=0]'\n",
      "INFO  [15:12:32.563] [bbotk] Evaluating 1 configuration(s)\n",
      "INFO  [15:12:32.569] [mlr3] Running benchmark with 3 resampling iterations\n",
      "INFO  [15:12:32.575] [mlr3] Applying learner 'classif.xgboost' on task 'sonar' (iter 1/3)\n",
      "INFO  [15:12:32.636] [mlr3] Applying learner 'classif.xgboost' on task 'sonar' (iter 2/3)\n",
      "INFO  [15:12:32.698] [mlr3] Applying learner 'classif.xgboost' on task 'sonar' (iter 3/3)\n",
      "INFO  [15:12:32.769] [mlr3] Finished benchmark\n",
      "INFO  [15:12:32.786] [bbotk] Result of batch 1:\n",
      "INFO  [15:12:32.788] [bbotk]        eta   logloss warnings errors runtime_learners internal_tuned_values\n",
      "INFO  [15:12:32.788] [bbotk]  -2.814271 0.4401655        0      0            0.154             <list[1]>\n",
      "INFO  [15:12:32.788] [bbotk]                                 uhash\n",
      "INFO  [15:12:32.788] [bbotk]  f37028ea-22c8-4a7c-85b3-3fa03ef6ac24\n",
      "INFO  [15:12:32.789] [bbotk] Evaluating 1 configuration(s)\n",
      "INFO  [15:12:32.793] [mlr3] Running benchmark with 3 resampling iterations\n",
      "INFO  [15:12:32.796] [mlr3] Applying learner 'classif.xgboost' on task 'sonar' (iter 1/3)\n",
      "INFO  [15:12:33.152] [mlr3] Applying learner 'classif.xgboost' on task 'sonar' (iter 2/3)\n",
      "INFO  [15:12:33.416] [mlr3] Applying learner 'classif.xgboost' on task 'sonar' (iter 3/3)\n",
      "INFO  [15:12:33.744] [mlr3] Finished benchmark\n",
      "INFO  [15:12:33.760] [bbotk] Result of batch 2:\n",
      "INFO  [15:12:33.761] [bbotk]        eta   logloss warnings errors runtime_learners internal_tuned_values\n",
      "INFO  [15:12:33.761] [bbotk]  -4.861013 0.4466798        0      0            0.906             <list[1]>\n",
      "INFO  [15:12:33.761] [bbotk]                                 uhash\n",
      "INFO  [15:12:33.761] [bbotk]  141c20fb-1f93-4739-9a0e-8f4aaca855ff\n",
      "INFO  [15:12:33.763] [bbotk] Evaluating 1 configuration(s)\n",
      "INFO  [15:12:33.766] [mlr3] Running benchmark with 3 resampling iterations\n",
      "INFO  [15:12:33.769] [mlr3] Applying learner 'classif.xgboost' on task 'sonar' (iter 1/3)\n",
      "INFO  [15:12:34.169] [mlr3] Applying learner 'classif.xgboost' on task 'sonar' (iter 2/3)\n",
      "INFO  [15:12:34.552] [mlr3] Applying learner 'classif.xgboost' on task 'sonar' (iter 3/3)\n",
      "INFO  [15:12:34.947] [mlr3] Finished benchmark\n",
      "INFO  [15:12:34.968] [bbotk] Result of batch 3:\n",
      "INFO  [15:12:34.969] [bbotk]        eta   logloss warnings errors runtime_learners internal_tuned_values\n",
      "INFO  [15:12:34.969] [bbotk]  -5.372699 0.4601238        0      0            1.135             <list[1]>\n",
      "INFO  [15:12:34.969] [bbotk]                                 uhash\n",
      "INFO  [15:12:34.969] [bbotk]  25001566-d576-4fe7-9c66-84b5c002cc80\n",
      "INFO  [15:12:34.971] [bbotk] Evaluating 1 configuration(s)\n",
      "INFO  [15:12:34.974] [mlr3] Running benchmark with 3 resampling iterations\n",
      "INFO  [15:12:34.977] [mlr3] Applying learner 'classif.xgboost' on task 'sonar' (iter 1/3)\n",
      "INFO  [15:12:35.036] [mlr3] Applying learner 'classif.xgboost' on task 'sonar' (iter 2/3)\n",
      "INFO  [15:12:35.100] [mlr3] Applying learner 'classif.xgboost' on task 'sonar' (iter 3/3)\n",
      "INFO  [15:12:35.153] [mlr3] Finished benchmark\n",
      "INFO  [15:12:35.169] [bbotk] Result of batch 4:\n",
      "INFO  [15:12:35.170] [bbotk]        eta   logloss warnings errors runtime_learners internal_tuned_values\n",
      "INFO  [15:12:35.170] [bbotk]  -2.302585 0.4240191        0      0            0.138             <list[1]>\n",
      "INFO  [15:12:35.170] [bbotk]                                 uhash\n",
      "INFO  [15:12:35.170] [bbotk]  c2c0e847-d850-4186-a61e-6004230b42cc\n",
      "INFO  [15:12:35.171] [bbotk] Evaluating 1 configuration(s)\n",
      "INFO  [15:12:35.175] [mlr3] Running benchmark with 3 resampling iterations\n",
      "INFO  [15:12:35.177] [mlr3] Applying learner 'classif.xgboost' on task 'sonar' (iter 1/3)\n",
      "INFO  [15:12:35.776] [mlr3] Applying learner 'classif.xgboost' on task 'sonar' (iter 2/3)\n",
      "INFO  [15:12:36.189] [mlr3] Applying learner 'classif.xgboost' on task 'sonar' (iter 3/3)\n",
      "INFO  [15:12:36.609] [mlr3] Finished benchmark\n",
      "INFO  [15:12:36.626] [bbotk] Result of batch 5:\n",
      "INFO  [15:12:36.627] [bbotk]       eta   logloss warnings errors runtime_learners internal_tuned_values\n",
      "INFO  [15:12:36.627] [bbotk]  -6.39607 0.5427324        0      0            1.385             <list[1]>\n",
      "INFO  [15:12:36.627] [bbotk]                                 uhash\n",
      "INFO  [15:12:36.627] [bbotk]  55c8e3e0-de78-4bd5-aff7-e572f0df52ec\n",
      "INFO  [15:12:36.629] [bbotk] Evaluating 1 configuration(s)\n",
      "INFO  [15:12:36.632] [mlr3] Running benchmark with 3 resampling iterations\n",
      "INFO  [15:12:36.634] [mlr3] Applying learner 'classif.xgboost' on task 'sonar' (iter 1/3)\n",
      "INFO  [15:12:36.731] [mlr3] Applying learner 'classif.xgboost' on task 'sonar' (iter 2/3)\n",
      "INFO  [15:12:36.802] [mlr3] Applying learner 'classif.xgboost' on task 'sonar' (iter 3/3)\n",
      "INFO  [15:12:36.913] [mlr3] Finished benchmark\n",
      "INFO  [15:12:36.932] [bbotk] Result of batch 6:\n",
      "INFO  [15:12:36.933] [bbotk]        eta   logloss warnings errors runtime_learners internal_tuned_values\n",
      "INFO  [15:12:36.933] [bbotk]  -3.325956 0.4464394        0      0            0.239             <list[1]>\n",
      "INFO  [15:12:36.933] [bbotk]                                 uhash\n",
      "INFO  [15:12:36.933] [bbotk]  ee4525f7-e496-4133-a7f6-03ed46d365e4\n",
      "INFO  [15:12:36.935] [bbotk] Evaluating 1 configuration(s)\n",
      "INFO  [15:12:36.938] [mlr3] Running benchmark with 3 resampling iterations\n",
      "INFO  [15:12:36.941] [mlr3] Applying learner 'classif.xgboost' on task 'sonar' (iter 1/3)\n",
      "INFO  [15:12:37.075] [mlr3] Applying learner 'classif.xgboost' on task 'sonar' (iter 2/3)\n",
      "INFO  [15:12:37.225] [mlr3] Applying learner 'classif.xgboost' on task 'sonar' (iter 3/3)\n",
      "INFO  [15:12:37.375] [mlr3] Finished benchmark\n",
      "INFO  [15:12:37.390] [bbotk] Result of batch 7:\n",
      "INFO  [15:12:37.391] [bbotk]        eta   logloss warnings errors runtime_learners internal_tuned_values\n",
      "INFO  [15:12:37.391] [bbotk]  -3.837642 0.4395891        0      0            0.391             <list[1]>\n",
      "INFO  [15:12:37.391] [bbotk]                                 uhash\n",
      "INFO  [15:12:37.391] [bbotk]  b39227d4-74fa-4c18-82b2-300f81563414\n",
      "INFO  [15:12:37.393] [bbotk] Evaluating 1 configuration(s)\n",
      "INFO  [15:12:37.396] [mlr3] Running benchmark with 3 resampling iterations\n",
      "INFO  [15:12:37.398] [mlr3] Applying learner 'classif.xgboost' on task 'sonar' (iter 1/3)\n",
      "INFO  [15:12:37.846] [mlr3] Applying learner 'classif.xgboost' on task 'sonar' (iter 2/3)\n",
      "INFO  [15:12:38.260] [mlr3] Applying learner 'classif.xgboost' on task 'sonar' (iter 3/3)\n",
      "INFO  [15:12:38.696] [mlr3] Finished benchmark\n",
      "INFO  [15:12:38.714] [bbotk] Result of batch 8:\n",
      "INFO  [15:12:38.715] [bbotk]        eta   logloss warnings errors runtime_learners internal_tuned_values\n",
      "INFO  [15:12:38.715] [bbotk]  -6.907755 0.5926835        0      0            1.257             <list[1]>\n",
      "INFO  [15:12:38.715] [bbotk]                                 uhash\n",
      "INFO  [15:12:38.715] [bbotk]  1de212e4-11a0-4640-a9e8-739d0ac81214\n",
      "INFO  [15:12:38.716] [bbotk] Evaluating 1 configuration(s)\n",
      "INFO  [15:12:38.720] [mlr3] Running benchmark with 3 resampling iterations\n",
      "INFO  [15:12:38.722] [mlr3] Applying learner 'classif.xgboost' on task 'sonar' (iter 1/3)\n",
      "INFO  [15:12:39.130] [mlr3] Applying learner 'classif.xgboost' on task 'sonar' (iter 2/3)\n",
      "INFO  [15:12:39.532] [mlr3] Applying learner 'classif.xgboost' on task 'sonar' (iter 3/3)\n",
      "INFO  [15:12:39.967] [mlr3] Finished benchmark\n",
      "INFO  [15:12:39.984] [bbotk] Result of batch 9:\n",
      "INFO  [15:12:39.986] [bbotk]        eta   logloss warnings errors runtime_learners internal_tuned_values\n",
      "INFO  [15:12:39.986] [bbotk]  -5.884384 0.4953235        0      0            1.194             <list[1]>\n",
      "INFO  [15:12:39.986] [bbotk]                                 uhash\n",
      "INFO  [15:12:39.986] [bbotk]  2795d749-3879-49f0-b381-0b0206435cf4\n",
      "INFO  [15:12:39.987] [bbotk] Evaluating 1 configuration(s)\n",
      "INFO  [15:12:39.991] [mlr3] Running benchmark with 3 resampling iterations\n",
      "INFO  [15:12:39.993] [mlr3] Applying learner 'classif.xgboost' on task 'sonar' (iter 1/3)\n",
      "INFO  [15:12:40.201] [mlr3] Applying learner 'classif.xgboost' on task 'sonar' (iter 2/3)\n",
      "INFO  [15:12:40.443] [mlr3] Applying learner 'classif.xgboost' on task 'sonar' (iter 3/3)\n",
      "INFO  [15:12:40.694] [mlr3] Finished benchmark\n",
      "INFO  [15:12:40.710] [bbotk] Result of batch 10:\n",
      "INFO  [15:12:40.712] [bbotk]        eta   logloss warnings errors runtime_learners internal_tuned_values\n",
      "INFO  [15:12:40.712] [bbotk]  -4.349327 0.4379493        0      0            0.659             <list[1]>\n",
      "INFO  [15:12:40.712] [bbotk]                                 uhash\n",
      "INFO  [15:12:40.712] [bbotk]  eec4f040-23e6-4b3f-8454-4b5acb51ae8e\n",
      "INFO  [15:12:40.720] [bbotk] Finished optimizing after 10 evaluation(s)\n",
      "INFO  [15:12:40.721] [bbotk] Result:\n",
      "INFO  [15:12:40.722] [bbotk]        eta internal_tuned_values learner_param_vals  x_domain   logloss\n",
      "INFO  [15:12:40.722] [bbotk]      <num>                <list>             <list>    <list>     <num>\n",
      "INFO  [15:12:40.722] [bbotk]  -2.302585             <list[1]>          <list[5]> <list[1]> 0.4240191\n"
     ]
    }
   ],
   "source": [
    "at <- auto_tuner(\n",
    "  tuner = tnr(\"grid_search\"),\n",
    "  learner = lrn_xgb,\n",
    "  resampling = rsmp(\"cv\", folds = 3),\n",
    "  measure = msr(\n",
    "    \"internal_valid_score\",\n",
    "    select = \"logloss\",\n",
    "    minimize = TRUE\n",
    "  ),\n",
    "  search_space = search_space,\n",
    "  term_evals = 10L\n",
    ")\n",
    "at$train(tsk_sonar)"
   ]
  }
 ],
 "metadata": {
  "kernelspec": {
   "display_name": "R",
   "language": "R",
   "name": "ir"
  },
  "language_info": {
   "codemirror_mode": "r",
   "file_extension": ".r",
   "mimetype": "text/x-r-source",
   "name": "R",
   "pygments_lexer": "r",
   "version": "4.4.2"
  }
 },
 "nbformat": 4,
 "nbformat_minor": 5
}
