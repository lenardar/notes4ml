{
 "cells": [
  {
   "cell_type": "markdown",
   "id": "ce8dd29a",
   "metadata": {},
   "source": [
    "学习朴素贝叶斯算法。"
   ]
  },
  {
   "cell_type": "markdown",
   "id": "f1db190d",
   "metadata": {},
   "source": [
    "# classif.naive_bayes"
   ]
  },
  {
   "cell_type": "code",
   "execution_count": 2,
   "id": "7118db66",
   "metadata": {
    "vscode": {
     "languageId": "r"
    }
   },
   "outputs": [
    {
     "name": "stderr",
     "output_type": "stream",
     "text": [
      "-- \u001b[1mAttaching core tidyverse packages\u001b[22m ------------------------ tidyverse 2.0.0 --\n",
      "\u001b[32mv\u001b[39m \u001b[34mdplyr    \u001b[39m 1.1.4     \u001b[32mv\u001b[39m \u001b[34mreadr    \u001b[39m 2.1.5\n",
      "\u001b[32mv\u001b[39m \u001b[34mforcats  \u001b[39m 1.0.0     \u001b[32mv\u001b[39m \u001b[34mstringr  \u001b[39m 1.5.1\n",
      "\u001b[32mv\u001b[39m \u001b[34mggplot2  \u001b[39m 3.5.2     \u001b[32mv\u001b[39m \u001b[34mtibble   \u001b[39m 3.2.1\n",
      "\u001b[32mv\u001b[39m \u001b[34mlubridate\u001b[39m 1.9.4     \u001b[32mv\u001b[39m \u001b[34mtidyr    \u001b[39m 1.3.1\n",
      "\u001b[32mv\u001b[39m \u001b[34mpurrr    \u001b[39m 1.0.4     \n",
      "-- \u001b[1mConflicts\u001b[22m ------------------------------------------ tidyverse_conflicts() --\n",
      "\u001b[31mx\u001b[39m \u001b[34mdplyr\u001b[39m::\u001b[32mfilter()\u001b[39m masks \u001b[34mstats\u001b[39m::filter()\n",
      "\u001b[31mx\u001b[39m \u001b[34mdplyr\u001b[39m::\u001b[32mlag()\u001b[39m    masks \u001b[34mstats\u001b[39m::lag()\n",
      "\u001b[36mi\u001b[39m Use the conflicted package (\u001b[3m\u001b[34m<http://conflicted.r-lib.org/>\u001b[39m\u001b[23m) to force all conflicts to become errors\n",
      "Loading required package: mlr3\n",
      "\n"
     ]
    }
   ],
   "source": [
    "library(tidyverse)\n",
    "library(mlr3verse)"
   ]
  },
  {
   "cell_type": "code",
   "execution_count": null,
   "id": "ed7c66de",
   "metadata": {
    "vscode": {
     "languageId": "r"
    }
   },
   "outputs": [
    {
     "data": {
      "text/html": [
       "<strong>classif.acc:</strong> 0.728"
      ],
      "text/latex": [
       "\\textbf{classif.acc:} 0.728"
      ],
      "text/markdown": [
       "**classif.acc:** 0.728"
      ],
      "text/plain": [
       "classif.acc \n",
       "      0.728 "
      ]
     },
     "metadata": {},
     "output_type": "display_data"
    }
   ],
   "source": [
    "# 定义任务\n",
    "tsk_german <- tsk(\"german_credit\")\n",
    "\n",
    "# 定义学习器\n",
    "lrn_nb <- as_learner(\n",
    "  ppl(\"robustify\") %>>%\n",
    "    lrn(\"classif.naive_bayes\", id = \"nb\")\n",
    ")\n",
    "lrn_nb$id <- \"nb_robust\"\n",
    "\n",
    "# 训练\n",
    "lrn_nb$train(tsk_german)\n",
    "\n",
    "# 预测\n",
    "pred_nb <- lrn_nb$predict(tsk_german)\n",
    "\n",
    "# 评估\n",
    "pred_nb$score(msr(\"classif.acc\"))\n",
    "\n",
    "# classif.acc: 0.728"
   ]
  },
  {
   "cell_type": "code",
   "execution_count": null,
   "id": "53da116f",
   "metadata": {
    "vscode": {
     "languageId": "r"
    }
   },
   "outputs": [
    {
     "data": {
      "text/plain": [
       "<ParamSet(3)>\n",
       "          id    class lower upper nlevels default  value\n",
       "      <char>   <char> <num> <num>   <num>  <list> <list>\n",
       "1:       eps ParamDbl  -Inf   Inf     Inf       0 [NULL]\n",
       "2:   laplace ParamDbl     0   Inf     Inf       0 [NULL]\n",
       "3: threshold ParamDbl  -Inf   Inf     Inf   0.001 [NULL]"
      ]
     },
     "metadata": {},
     "output_type": "display_data"
    }
   ],
   "source": [
    "lrn_nb$pipeops$nb$param_set\n",
    "\n",
    "# <ParamSet(3)>\n",
    "#           id    class lower upper nlevels default  value\n",
    "#       <char>   <char> <num> <num>   <num>  <list> <list>\n",
    "# 1:       eps ParamDbl  -Inf   Inf     Inf       0 [NULL]\n",
    "# 2:   laplace ParamDbl     0   Inf     Inf       0 [NULL]\n",
    "# 3: threshold ParamDbl  -Inf   Inf     Inf   0.001 [NULL]"
   ]
  },
  {
   "cell_type": "code",
   "execution_count": 11,
   "id": "743a7131",
   "metadata": {
    "vscode": {
     "languageId": "r"
    }
   },
   "outputs": [
    {
     "name": "stderr",
     "output_type": "stream",
     "text": [
      "Warning message in cbind(parts$left, chars$ellip_h, parts$right, deparse.level = 0L):\n",
      "\"number of rows of result is not a multiple of vector length (arg 2)\"\n",
      "Warning message in cbind(parts$left, chars$ellip_h, parts$right, deparse.level = 0L):\n",
      "\"number of rows of result is not a multiple of vector length (arg 2)\"\n"
     ]
    },
    {
     "name": "stderr",
     "output_type": "stream",
     "text": [
      "Warning message in cbind(parts$left, chars$ellip_h, parts$right, deparse.level = 0L):\n",
      "\"number of rows of result is not a multiple of vector length (arg 2)\"\n",
      "Warning message in cbind(parts$left, chars$ellip_h, parts$right, deparse.level = 0L):\n",
      "\"number of rows of result is not a multiple of vector length (arg 2)\"\n",
      "Warning message in cbind(parts$left, chars$ellip_h, parts$right, deparse.level = 0L):\n",
      "\"number of rows of result is not a multiple of vector length (arg 2)\"\n",
      "Warning message in cbind(parts$left, chars$ellip_h, parts$right, deparse.level = 0L):\n",
      "\"number of rows of result is not a multiple of vector length (arg 2)\"\n"
     ]
    },
    {
     "data": {
      "text/plain": [
       "$model\n",
       "\n",
       "Naive Bayes Classifier for Discrete Predictors\n",
       "\n",
       "Call:\n",
       "naiveBayes.default(x = x, y = y)\n",
       "\n",
       "A-priori probabilities:\n",
       "y\n",
       "good  bad \n",
       " 0.7  0.3 \n",
       "\n",
       "Conditional probabilities:\n",
       "      age\n",
       "y          [,1]     [,2]\n",
       "  good 36.22429 11.38114\n",
       "  bad  33.96333 11.22238\n",
       "\n",
       "      amount\n",
       "y          [,1]     [,2]\n",
       "  good 2985.457 2401.472\n",
       "  bad  3938.127 3535.819\n",
       "\n",
       "      duration\n",
       "y          [,1]     [,2]\n",
       "  good 19.20714 11.07956\n",
       "  bad  24.86000 13.28264\n",
       "\n",
       "      credit_history.delay.in.paying.off.in.the.past\n",
       "y            [,1]      [,2]\n",
       "  good 0.02142857 0.1449117\n",
       "  bad  0.08333333 0.2768472\n",
       "\n",
       "      credit_history.critical.account.other.credits.elsewhere\n",
       "y            [,1]      [,2]\n",
       "  good 0.03000000 0.1707092\n",
       "  bad  0.09333333 0.2913850\n",
       "\n",
       "      credit_history.no.credits.taken.all.credits.paid.back.duly\n",
       "y           [,1]      [,2]\n",
       "  good 0.5157143 0.5001103\n",
       "  bad  0.5633333 0.4968014\n",
       "\n",
       "      credit_history.existing.credits.paid.back.duly.till.now\n",
       "y            [,1]      [,2]\n",
       "  good 0.08571429 0.2801419\n",
       "  bad  0.09333333 0.2913850\n",
       "\n",
       "      credit_history.all.credits.at.this.bank.paid.back.duly\n",
       "y           [,1]      [,2]\n",
       "  good 0.3471429 0.4764021\n",
       "  bad  0.1666667 0.3733007\n",
       "\n",
       "      employment_duration.unemployed\n",
       "y            [,1]      [,2]\n",
       "  good 0.05571429 0.2295332\n",
       "  bad  0.07666667 0.2665064\n",
       "\n",
       "      employment_duration...1.yr\n",
       "y           [,1]      [,2]\n",
       "  good 0.1457143 0.3530718\n",
       "  bad  0.2333333 0.4236593\n",
       "\n",
       "      employment_duration.1..........4.yrs\n",
       "y           [,1]      [,2]\n",
       "  good 0.3357143 0.4725772\n",
       "  bad  0.3466667 0.4767037\n",
       "\n",
       "      employment_duration.4..........7.yrs\n",
       "y           [,1]      [,2]\n",
       "  good 0.1928571 0.3948240\n",
       "  bad  0.1300000 0.3368653\n",
       "\n",
       "      employment_duration....7.yrs\n",
       "y           [,1]      [,2]\n",
       "  good 0.2700000 0.4442769\n",
       "  bad  0.2133333 0.4103456\n",
       "\n",
       "      foreign_worker.no\n",
       "y           [,1]      [,2]\n",
       "  good 0.9528571 0.2120959\n",
       "  bad  0.9866667 0.1148893\n",
       "\n",
       "      foreign_worker.yes\n",
       "y            [,1]      [,2]\n",
       "  good 0.04714286 0.2120959\n",
       "  bad  0.01333333 0.1148893\n",
       "\n",
       "      housing.for.free\n",
       "y           [,1]      [,2]\n",
       "  good 0.1557143 0.3628435\n",
       "  bad  0.2333333 0.4236593\n",
       "\n",
       "      housing.rent\n",
       "y           [,1]      [,2]\n",
       "  good 0.7528571 0.4316590\n",
       "  bad  0.6200000 0.4861974\n",
       "\n",
       "      housing.own\n",
       "y            [,1]      [,2]\n",
       "  good 0.09142857 0.2884237\n",
       "  bad  0.14666667 0.3543644\n",
       "\n",
       "      installment_rate....35\n",
       "y           [,1]      [,2]\n",
       "  good 0.1457143 0.3530718\n",
       "  bad  0.1133333 0.3175295\n",
       "\n",
       "      installment_rate.25..........35\n",
       "y           [,1]      [,2]\n",
       "  good 0.2414286 0.4282556\n",
       "  bad  0.2066667 0.4055908\n",
       "\n",
       "      installment_rate.20..........25\n",
       "y      [,1]      [,2]\n",
       "  good 0.16 0.3668682\n",
       "  bad  0.15 0.3576680\n",
       "\n",
       "      installment_rate...20\n",
       "y           [,1]      [,2]\n",
       "  good 0.4528571 0.4981285\n",
       "  bad  0.5300000 0.4999331\n",
       "\n",
       "      job.unemployed.unskilled...non.resident\n",
       "y            [,1]      [,2]\n",
       "  good 0.02142857 0.1449117\n",
       "  bad  0.02333333 0.1512121\n",
       "\n",
       "      job.unskilled...resident\n",
       "y           [,1]      [,2]\n",
       "  good 0.2057143 0.4045117\n",
       "  bad  0.1866667 0.3902947\n",
       "\n",
       "      job.skilled.employee.official\n",
       "y           [,1]      [,2]\n",
       "  good 0.6342857 0.4819743\n",
       "  bad  0.6200000 0.4861974\n",
       "\n",
       "      job.manager.self.empl.highly.qualif..employee\n",
       "y           [,1]      [,2]\n",
       "  good 0.1385714 0.3457458\n",
       "  bad  0.1700000 0.3762604\n",
       "\n",
       "      number_credits.1\n",
       "y           [,1]      [,2]\n",
       "  good 0.6185714 0.4860847\n",
       "  bad  0.6666667 0.4721922\n",
       "\n",
       "      number_credits.2.3\n",
       "y           [,1]      [,2]\n",
       "  good 0.3442857 0.4754745\n",
       "  bad  0.3066667 0.4618802\n",
       "\n",
       "      number_credits.4.5\n",
       "y            [,1]      [,2]\n",
       "  good 0.03142857 0.1745977\n",
       "  bad  0.02000000 0.1402339\n",
       "\n",
       "      number_credits....6\n",
       "y             [,1]       [,2]\n",
       "  good 0.005714286 0.07543050\n",
       "  bad  0.006666667 0.08151301\n",
       "\n",
       "      other_debtors.none\n",
       "y           [,1]      [,2]\n",
       "  good 0.9071429 0.2904397\n",
       "  bad  0.9066667 0.2913850\n",
       "\n",
       "      other_debtors.co.applicant\n",
       "y            [,1]      [,2]\n",
       "  good 0.03285714 0.1783901\n",
       "  bad  0.06000000 0.2378836\n",
       "\n",
       "      other_debtors.guarantor\n",
       "y            [,1]      [,2]\n",
       "  good 0.06000000 0.2376567\n",
       "  bad  0.03333333 0.1798054\n",
       "\n",
       "      other_installment_plans.bank\n",
       "y           [,1]      [,2]\n",
       "  good 0.1171429 0.3218204\n",
       "  bad  0.1900000 0.3929564\n",
       "\n",
       "      other_installment_plans.stores\n",
       "y            [,1]      [,2]\n",
       "  good 0.04000000 0.1960993\n",
       "  bad  0.06333333 0.2439685\n",
       "\n",
       "      other_installment_plans.none\n",
       "y           [,1]      [,2]\n",
       "  good 0.8428571 0.3641956\n",
       "  bad  0.7466667 0.4356469\n",
       "\n",
       "      people_liable.0.to.2\n",
       "y           [,1]      [,2]\n",
       "  good 0.8442857 0.3628435\n",
       "  bad  0.8466667 0.3609105\n",
       "\n",
       "      people_liable.3.or.more\n",
       "y           [,1]      [,2]\n",
       "  good 0.1557143 0.3628435\n",
       "  bad  0.1533333 0.3609105\n",
       "\n",
       "      personal_status_sex.male...divorced.separated\n",
       "y            [,1]      [,2]\n",
       "  good 0.04285714 0.2026798\n",
       "  bad  0.06666667 0.2498606\n",
       "\n",
       "      personal_status_sex.female...non.single.or.male...single\n",
       "y           [,1]      [,2]\n",
       "  good 0.2871429 0.4527523\n",
       "  bad  0.3633333 0.4817633\n",
       "\n",
       "      personal_status_sex.male...married.widowed\n",
       "y           [,1]      [,2]\n",
       "  good 0.5742857 0.4948044\n",
       "  bad  0.4866667 0.5006573\n",
       "\n",
       "      personal_status_sex.female...single\n",
       "y            [,1]      [,2]\n",
       "  good 0.09571429 0.2944094\n",
       "  bad  0.08333333 0.2768472\n",
       "\n",
       "      present_residence...1.yr\n",
       "y           [,1]      [,2]\n",
       "  good 0.1342857 0.3412028\n",
       "  bad  0.1200000 0.3255045\n",
       "\n",
       "      present_residence.1..........4.yrs\n",
       "y           [,1]      [,2]\n",
       "  good 0.3014286 0.4592065\n",
       "  bad  0.3233333 0.4685303\n",
       "\n",
       "      present_residence.4..........7.yrs\n",
       "y           [,1]      [,2]\n",
       "  good 0.1514286 0.3587224\n",
       "  bad  0.1433333 0.3509979\n",
       "\n",
       "      present_residence....7.yrs\n",
       "y           [,1]      [,2]\n",
       "  good 0.4128571 0.4926996\n",
       "  bad  0.4133333 0.4932544\n",
       "\n",
       "      property.unknown...no.property\n",
       "y           [,1]      [,2]\n",
       "  good 0.3171429 0.4656963\n",
       "  bad  0.2000000 0.4006683\n",
       "\n",
       "      property.car.or.other\n",
       "y           [,1]      [,2]\n",
       "  good 0.2300000 0.4211334\n",
       "  bad  0.2366667 0.4257461\n",
       "\n",
       "      property.building.soc..savings.agr....life.insurance\n",
       "y           [,1]      [,2]\n",
       "  good 0.3285714 0.4700296\n",
       "  bad  0.3400000 0.4745003\n",
       "\n",
       "      property.real.estate\n",
       "y           [,1]      [,2]\n",
       "  good 0.1242857 0.3301431\n",
       "  bad  0.2233333 0.4171758\n",
       "\n",
       "      purpose.others\n",
       "y           [,1]      [,2]\n",
       "  good 0.2071429 0.4055486\n",
       "  bad  0.2966667 0.4575515\n",
       "\n",
       "      purpose.car..new.\n",
       "y            [,1]      [,2]\n",
       "  good 0.12285714 0.3285079\n",
       "  bad  0.05666667 0.2315909\n",
       "\n",
       "      purpose.car..used.\n",
       "y           [,1]      [,2]\n",
       "  good 0.1757143 0.3808490\n",
       "  bad  0.1933333 0.3955719\n",
       "\n",
       "      purpose.furniture.equipment\n",
       "y           [,1]      [,2]\n",
       "  good 0.3114286 0.4634087\n",
       "  bad  0.2066667 0.4055908\n",
       "\n",
       "      purpose.radio.television\n",
       "y            [,1]      [,2]\n",
       "  good 0.01142857 0.1063679\n",
       "  bad  0.01333333 0.1148893\n",
       "\n",
       "      purpose.domestic.appliances\n",
       "y            [,1]      [,2]\n",
       "  good 0.02000000 0.1401001\n",
       "  bad  0.02666667 0.1613765\n",
       "\n",
       "      purpose.repairs\n",
       "y            [,1]      [,2]\n",
       "  good 0.04000000 0.1960993\n",
       "  bad  0.07333333 0.2611184\n",
       "\n",
       "      purpose.vacation\n",
       "y             [,1]       [,2]\n",
       "  good 0.011428571 0.10636786\n",
       "  bad  0.003333333 0.05773503\n",
       "\n",
       "      purpose.retraining\n",
       "y           [,1]      [,2]\n",
       "  good 0.0900000 0.2863864\n",
       "  bad  0.1133333 0.3175295\n",
       "\n",
       "      purpose.business\n",
       "y            [,1]       [,2]\n",
       "  good 0.01000000 0.09956989\n",
       "  bad  0.01666667 0.12823300\n",
       "\n",
       "      savings.unknown.no.savings.account\n",
       "y           [,1]      [,2]\n",
       "  good 0.5514286 0.4977037\n",
       "  bad  0.7233333 0.4480977\n",
       "\n",
       "      savings.......100.DM\n",
       "y            [,1]      [,2]\n",
       "  good 0.09857143 0.2982989\n",
       "  bad  0.11333333 0.3175295\n",
       "\n",
       "      savings.100..........500.DM\n",
       "y            [,1]      [,2]\n",
       "  good 0.07428571 0.2624228\n",
       "  bad  0.03666667 0.1882561\n",
       "\n",
       "      savings.500..........1000.DM\n",
       "y      [,1]      [,2]\n",
       "  good 0.06 0.2376567\n",
       "  bad  0.02 0.1402339\n",
       "\n",
       "      savings........1000.DM\n",
       "y           [,1]      [,2]\n",
       "  good 0.2157143 0.4116111\n",
       "  bad  0.1066667 0.3092048\n",
       "\n",
       "      status.no.checking.account\n",
       "y           [,1]      [,2]\n",
       "  good 0.1985714 0.3992098\n",
       "  bad  0.4500000 0.4983250\n",
       "\n",
       "      status.......0.DM\n",
       "y           [,1]      [,2]\n",
       "  good 0.2342857 0.4238544\n",
       "  bad  0.3500000 0.4777665\n",
       "\n",
       "      status.0.........200.DM\n",
       "y            [,1]      [,2]\n",
       "  good 0.07000000 0.2553295\n",
       "  bad  0.04666667 0.2112763\n",
       "\n",
       "      status........200.DM...salary.for.at.least.1.year\n",
       "y           [,1]      [,2]\n",
       "  good 0.4971429 0.5003494\n",
       "  bad  0.1533333 0.3609105\n",
       "\n",
       "      telephone.no\n",
       "y           [,1]      [,2]\n",
       "  good 0.5842857 0.4931971\n",
       "  bad  0.6233333 0.4853598\n",
       "\n",
       "      telephone.yes..under.customer.name.\n",
       "y           [,1]      [,2]\n",
       "  good 0.4157143 0.4931971\n",
       "  bad  0.3766667 0.4853598\n",
       "\n",
       "\n",
       "$param_vals\n",
       "named list()\n",
       "\n",
       "$log\n",
       "Empty data.table (0 rows and 3 cols): stage,class,msg\n",
       "\n",
       "$train_time\n",
       "[1] 0.016\n",
       "\n",
       "$task_hash\n",
       "[1] \"76b934d7eb7c2cbb\"\n",
       "\n",
       "$feature_names\n",
       " [1] \"age\"                                                       \n",
       " [2] \"amount\"                                                    \n",
       " [3] \"duration\"                                                  \n",
       " [4] \"credit_history.delay.in.paying.off.in.the.past\"            \n",
       " [5] \"credit_history.critical.account.other.credits.elsewhere\"   \n",
       " [6] \"credit_history.no.credits.taken.all.credits.paid.back.duly\"\n",
       " [7] \"credit_history.existing.credits.paid.back.duly.till.now\"   \n",
       " [8] \"credit_history.all.credits.at.this.bank.paid.back.duly\"    \n",
       " [9] \"employment_duration.unemployed\"                            \n",
       "[10] \"employment_duration...1.yr\"                                \n",
       "[11] \"employment_duration.1..........4.yrs\"                      \n",
       "[12] \"employment_duration.4..........7.yrs\"                      \n",
       "[13] \"employment_duration....7.yrs\"                              \n",
       "[14] \"foreign_worker.no\"                                         \n",
       "[15] \"foreign_worker.yes\"                                        \n",
       "[16] \"housing.for.free\"                                          \n",
       "[17] \"housing.rent\"                                              \n",
       "[18] \"housing.own\"                                               \n",
       "[19] \"installment_rate....35\"                                    \n",
       "[20] \"installment_rate.25..........35\"                           \n",
       "[21] \"installment_rate.20..........25\"                           \n",
       "[22] \"installment_rate...20\"                                     \n",
       "[23] \"job.unemployed.unskilled...non.resident\"                   \n",
       "[24] \"job.unskilled...resident\"                                  \n",
       "[25] \"job.skilled.employee.official\"                             \n",
       "[26] \"job.manager.self.empl.highly.qualif..employee\"             \n",
       "[27] \"number_credits.1\"                                          \n",
       "[28] \"number_credits.2.3\"                                        \n",
       "[29] \"number_credits.4.5\"                                        \n",
       "[30] \"number_credits....6\"                                       \n",
       "[31] \"other_debtors.none\"                                        \n",
       "[32] \"other_debtors.co.applicant\"                                \n",
       "[33] \"other_debtors.guarantor\"                                   \n",
       "[34] \"other_installment_plans.bank\"                              \n",
       "[35] \"other_installment_plans.stores\"                            \n",
       "[36] \"other_installment_plans.none\"                              \n",
       "[37] \"people_liable.0.to.2\"                                      \n",
       "[38] \"people_liable.3.or.more\"                                   \n",
       "[39] \"personal_status_sex.male...divorced.separated\"             \n",
       "[40] \"personal_status_sex.female...non.single.or.male...single\"  \n",
       "[41] \"personal_status_sex.male...married.widowed\"                \n",
       "[42] \"personal_status_sex.female...single\"                       \n",
       "[43] \"present_residence...1.yr\"                                  \n",
       "[44] \"present_residence.1..........4.yrs\"                        \n",
       "[45] \"present_residence.4..........7.yrs\"                        \n",
       "[46] \"present_residence....7.yrs\"                                \n",
       "[47] \"property.unknown...no.property\"                            \n",
       "[48] \"property.car.or.other\"                                     \n",
       "[49] \"property.building.soc..savings.agr....life.insurance\"      \n",
       "[50] \"property.real.estate\"                                      \n",
       "[51] \"purpose.others\"                                            \n",
       "[52] \"purpose.car..new.\"                                         \n",
       "[53] \"purpose.car..used.\"                                        \n",
       "[54] \"purpose.furniture.equipment\"                               \n",
       "[55] \"purpose.radio.television\"                                  \n",
       "[56] \"purpose.domestic.appliances\"                               \n",
       "[57] \"purpose.repairs\"                                           \n",
       "[58] \"purpose.vacation\"                                          \n",
       "[59] \"purpose.retraining\"                                        \n",
       "[60] \"purpose.business\"                                          \n",
       "[61] \"savings.unknown.no.savings.account\"                        \n",
       "[62] \"savings.......100.DM\"                                      \n",
       "[63] \"savings.100..........500.DM\"                               \n",
       "[64] \"savings.500..........1000.DM\"                              \n",
       "[65] \"savings........1000.DM\"                                    \n",
       "[66] \"status.no.checking.account\"                                \n",
       "[67] \"status.......0.DM\"                                         \n",
       "[68] \"status.0.........200.DM\"                                   \n",
       "[69] \"status........200.DM...salary.for.at.least.1.year\"         \n",
       "[70] \"telephone.no\"                                              \n",
       "[71] \"telephone.yes..under.customer.name.\"                       \n",
       "\n",
       "$validate\n",
       "NULL\n",
       "\n",
       "$mlr3_version\n",
       "[1] '0.23.0'\n",
       "\n",
       "$data_prototype\n",
       "Empty data.table (0 rows and 72 cols): credit_risk,age,amount,duration,credit_history.delay.in.paying.off.in.the.past,credit_history.critical.account.other.credits.elsewhere...\n",
       "\n",
       "$task_prototype\n",
       "Empty data.table (0 rows and 72 cols): credit_risk,age,amount,duration,credit_history.delay.in.paying.off.in.the.past,credit_history.critical.account.other.credits.elsewhere...\n",
       "\n",
       "$train_task\n",
       "<TaskClassif:german_credit> (1000 x 72): German Credit\n",
       "* Target: credit_risk\n",
       "* Properties: twoclass\n",
       "* Features (71):\n",
       "  - dbl (68): credit_history.all.credits.at.this.bank.paid.back.duly,\n",
       "    credit_history.critical.account.other.credits.elsewhere,\n",
       "    credit_history.delay.in.paying.off.in.the.past,\n",
       "    credit_history.existing.credits.paid.back.duly.till.now,\n",
       "    credit_history.no.credits.taken.all.credits.paid.back.duly,\n",
       "    employment_duration....7.yrs, employment_duration...1.yr,\n",
       "    employment_duration.1..........4.yrs,\n",
       "    employment_duration.4..........7.yrs,\n",
       "    employment_duration.unemployed, foreign_worker.no,\n",
       "    foreign_worker.yes, housing.for.free, housing.own, housing.rent,\n",
       "    installment_rate....35, installment_rate...20,\n",
       "    installment_rate.20..........25, installment_rate.25..........35,\n",
       "    job.manager.self.empl.highly.qualif..employee,\n",
       "    job.skilled.employee.official,\n",
       "    job.unemployed.unskilled...non.resident, job.unskilled...resident,\n",
       "    number_credits....6, number_credits.1, number_credits.2.3,\n",
       "    number_credits.4.5, other_debtors.co.applicant,\n",
       "    other_debtors.guarantor, other_debtors.none,\n",
       "    other_installment_plans.bank, other_installment_plans.none,\n",
       "    other_installment_plans.stores, people_liable.0.to.2,\n",
       "    people_liable.3.or.more,\n",
       "    personal_status_sex.female...non.single.or.male...single,\n",
       "    personal_status_sex.female...single,\n",
       "    personal_status_sex.male...divorced.separated,\n",
       "    personal_status_sex.male...married.widowed,\n",
       "    present_residence....7.yrs, present_residence...1.yr,\n",
       "    present_residence.1..........4.yrs,\n",
       "    present_residence.4..........7.yrs,\n",
       "    property.building.soc..savings.agr....life.insurance,\n",
       "    property.car.or.other, property.real.estate,\n",
       "    property.unknown...no.property, purpose.business,\n",
       "    purpose.car..new., purpose.car..used., purpose.domestic.appliances,\n",
       "    purpose.furniture.equipment, purpose.others,\n",
       "    purpose.radio.television, purpose.repairs, purpose.retraining,\n",
       "    purpose.vacation, savings........1000.DM, savings.......100.DM,\n",
       "    savings.100..........500.DM, savings.500..........1000.DM,\n",
       "    savings.unknown.no.savings.account,\n",
       "    status........200.DM...salary.for.at.least.1.year,\n",
       "    status.......0.DM, status.0.........200.DM,\n",
       "    status.no.checking.account, telephone.no,\n",
       "    telephone.yes..under.customer.name.\n",
       "  - int (3): age, amount, duration\n",
       "\n",
       "attr(,\"class\")\n",
       "[1] \"learner_state\" \"list\"         "
      ]
     },
     "metadata": {},
     "output_type": "display_data"
    }
   ],
   "source": [
    "lrn_nb$model$nb"
   ]
  },
  {
   "cell_type": "code",
   "execution_count": 14,
   "id": "2a082849",
   "metadata": {
    "vscode": {
     "languageId": "r"
    }
   },
   "outputs": [
    {
     "data": {
      "text/plain": [
       "<LearnerClassifNaiveBayes:classif.naive_bayes>: Naive Bayes\n",
       "* Model: -\n",
       "* Parameters: list()\n",
       "* Packages: mlr3, mlr3learners, e1071\n",
       "* Predict Types:  [response], prob\n",
       "* Feature Types: logical, integer, numeric, factor\n",
       "* Properties: multiclass, twoclass"
      ]
     },
     "metadata": {},
     "output_type": "display_data"
    }
   ],
   "source": [
    "lrn_test <- lrn(\"classif.naive_bayes\")\n",
    "lrn_test"
   ]
  },
  {
   "cell_type": "code",
   "execution_count": 16,
   "id": "e38a5766",
   "metadata": {
    "vscode": {
     "languageId": "r"
    }
   },
   "outputs": [
    {
     "data": {
      "text/plain": [
       "<LearnerClassifNaiveBayesMultinomial:classif.naive_bayes_multinomial>: Multinomial Naive Bayes\n",
       "* Model: -\n",
       "* Parameters: list()\n",
       "* Packages: mlr3, RWeka\n",
       "* Predict Types:  [response], prob\n",
       "* Feature Types: integer, numeric\n",
       "* Properties: multiclass, twoclass"
      ]
     },
     "metadata": {},
     "output_type": "display_data"
    }
   ],
   "source": [
    "lrn_test <- lrn(\"classif.naive_bayes_multinomial\")\n",
    "lrn_test"
   ]
  },
  {
   "cell_type": "code",
   "execution_count": null,
   "id": "3ac623ab",
   "metadata": {
    "vscode": {
     "languageId": "r"
    }
   },
   "outputs": [
    {
     "name": "stdout",
     "output_type": "stream",
     "text": [
      "INFO  [17:27:10.407] [mlr3] Applying learner 'classif.naive_bayes' on task 'iris' (iter 1/5)\n",
      "INFO  [17:27:10.417] [mlr3] Applying learner 'classif.naive_bayes' on task 'iris' (iter 2/5)\n",
      "INFO  [17:27:10.427] [mlr3] Applying learner 'classif.naive_bayes' on task 'iris' (iter 3/5)\n",
      "INFO  [17:27:10.436] [mlr3] Applying learner 'classif.naive_bayes' on task 'iris' (iter 4/5)\n",
      "INFO  [17:27:10.443] [mlr3] Applying learner 'classif.naive_bayes' on task 'iris' (iter 5/5)\n"
     ]
    },
    {
     "data": {
      "text/html": [
       "<strong>classif.acc:</strong> 0.96"
      ],
      "text/latex": [
       "\\textbf{classif.acc:} 0.96"
      ],
      "text/markdown": [
       "**classif.acc:** 0.96"
      ],
      "text/plain": [
       "classif.acc \n",
       "       0.96 "
      ]
     },
     "metadata": {},
     "output_type": "display_data"
    }
   ],
   "source": [
    "# 定义任务\n",
    "tsk_iris <- tsk(\"iris\")\n",
    "\n",
    "# 定义学习器\n",
    "lrn_nb <- lrn(\"classif.naive_bayes\")\n",
    "\n",
    "# 重抽样\n",
    "rr_nb <- resample(\n",
    "  task = tsk_iris,\n",
    "  learner = lrn_nb,\n",
    "  resampling = rsmp(\"cv\", folds = 5)\n",
    ")\n",
    "\n",
    "rr_nb$aggregate(msr(\"classif.acc\"))\n",
    "\n",
    "# classif.acc: 0.96"
   ]
  },
  {
   "cell_type": "code",
   "execution_count": null,
   "id": "7c36afd0",
   "metadata": {
    "vscode": {
     "languageId": "r"
    }
   },
   "outputs": [
    {
     "data": {
      "image/png": "[encoded data removed]",
      "text/plain": [
       "plot without title"
      ]
     },
     "metadata": {
      "image/png": {
       "height": 420,
       "width": 420
      }
     },
     "output_type": "display_data"
    }
   ],
   "source": [
    "# 训练\n",
    "lrn_nb$train(tsk_iris)\n",
    "\n",
    "# 预测\n",
    "pred_nb <- lrn_nb$predict(tsk_iris)\n",
    "\n",
    "# 绘图\n",
    "autoplot(pred_nb, type = \"stacked\")"
   ]
  },
  {
   "cell_type": "markdown",
   "id": "e3796a98",
   "metadata": {},
   "source": [
    "# classif.naive_bayes_multinomial"
   ]
  },
  {
   "cell_type": "code",
   "execution_count": null,
   "id": "3a51a477",
   "metadata": {
    "vscode": {
     "languageId": "r"
    }
   },
   "outputs": [
    {
     "data": {
      "text/html": [
       "<strong>classif.acc:</strong> 0.953333333333333"
      ],
      "text/latex": [
       "\\textbf{classif.acc:} 0.953333333333333"
      ],
      "text/markdown": [
       "**classif.acc:** 0.953333333333333"
      ],
      "text/plain": [
       "classif.acc \n",
       "  0.9533333 "
      ]
     },
     "metadata": {},
     "output_type": "display_data"
    }
   ],
   "source": [
    "# 定义任务\n",
    "tsk_iris <- tsk(\"iris\")\n",
    "\n",
    "# 定义学习器\n",
    "lrn_nbm <- lrn(\"classif.naive_bayes_multinomial\")\n",
    "\n",
    "# 训练\n",
    "lrn_nbm$train(tsk_iris)\n",
    "\n",
    "# 预测\n",
    "pred_nbm <- lrn_nbm$predict(tsk_iris)\n",
    "\n",
    "# 得分\n",
    "pred_nbm$score(msr(\"classif.acc\"))\n",
    "\n",
    "# classif.acc: 0.953333333333333"
   ]
  },
  {
   "cell_type": "code",
   "execution_count": null,
   "id": "8c1305e1",
   "metadata": {
    "vscode": {
     "languageId": "r"
    }
   },
   "outputs": [
    {
     "data": {
      "text/plain": [
       "<ParamSet(7)>\n",
       "                          id    class lower upper nlevels        default  value\n",
       "                      <char>   <char> <num> <num>   <num>         <list> <list>\n",
       "1:                    subset ParamUty    NA    NA     Inf <NoDefault[0]> [NULL]\n",
       "2:                 na.action ParamUty    NA    NA     Inf <NoDefault[0]> [NULL]\n",
       "3:         output_debug_info ParamLgl    NA    NA       2          FALSE [NULL]\n",
       "4: do_not_check_capabilities ParamLgl    NA    NA       2          FALSE [NULL]\n",
       "5:        num_decimal_places ParamInt     1   Inf     Inf              2 [NULL]\n",
       "6:                batch_size ParamInt     1   Inf     Inf            100 [NULL]\n",
       "7:                   options ParamUty    NA    NA     Inf         [NULL] [NULL]"
      ]
     },
     "metadata": {},
     "output_type": "display_data"
    }
   ],
   "source": [
    "lrn_nbm$param_set\n",
    "\n",
    "# <ParamSet(7)>\n",
    "#                           id    class lower upper nlevels        default  value\n",
    "#                       <char>   <char> <num> <num>   <num>         <list> <list>\n",
    "# 1:                    subset ParamUty    NA    NA     Inf <NoDefault[0]> [NULL]\n",
    "# 2:                 na.action ParamUty    NA    NA     Inf <NoDefault[0]> [NULL]\n",
    "# 3:         output_debug_info ParamLgl    NA    NA       2          FALSE [NULL]\n",
    "# 4: do_not_check_capabilities ParamLgl    NA    NA       2          FALSE [NULL]\n",
    "# 5:        num_decimal_places ParamInt     1   Inf     Inf              2 [NULL]\n",
    "# 6:                batch_size ParamInt     1   Inf     Inf            100 [NULL]\n",
    "# 7:                   options ParamUty    NA    NA     Inf         [NULL] [NULL]"
   ]
  },
  {
   "cell_type": "markdown",
   "id": "3b3a180f",
   "metadata": {},
   "source": [
    "# classif.naive_bayes_weka"
   ]
  },
  {
   "cell_type": "code",
   "execution_count": null,
   "id": "2ca4b909",
   "metadata": {
    "vscode": {
     "languageId": "r"
    }
   },
   "outputs": [
    {
     "data": {
      "text/html": [
       "<strong>classif.acc:</strong> 0.96"
      ],
      "text/latex": [
       "\\textbf{classif.acc:} 0.96"
      ],
      "text/markdown": [
       "**classif.acc:** 0.96"
      ],
      "text/plain": [
       "classif.acc \n",
       "       0.96 "
      ]
     },
     "metadata": {},
     "output_type": "display_data"
    }
   ],
   "source": [
    "# 定义任务\n",
    "tsk_iris <- tsk(\"iris\")\n",
    "\n",
    "# 定义学习器\n",
    "lrn_nbw <- lrn(\"classif.naive_bayes_weka\")\n",
    "\n",
    "# 训练\n",
    "lrn_nbw$train(tsk_iris)\n",
    "\n",
    "# 预测\n",
    "pred_nbw <- lrn_nbw$predict(tsk_iris)\n",
    "\n",
    "# 得分\n",
    "pred_nbw$score(msr(\"classif.acc\"))\n",
    "\n",
    "# classif.acc: 0.96"
   ]
  },
  {
   "cell_type": "code",
   "execution_count": null,
   "id": "9918ad66",
   "metadata": {
    "vscode": {
     "languageId": "r"
    }
   },
   "outputs": [
    {
     "name": "stdout",
     "output_type": "stream",
     "text": [
      "                           id    class lower upper      levels nlevels\n",
      "                       <char>   <char> <num> <num>      <list>   <num>\n",
      " 1:                    subset ParamUty    NA    NA      [NULL]     Inf\n",
      " 2:                 na.action ParamUty    NA    NA      [NULL]     Inf\n",
      " 3:                         K ParamLgl    NA    NA  TRUE,FALSE       2\n",
      " 4:                         D ParamLgl    NA    NA  TRUE,FALSE       2\n",
      " 5:                         O ParamLgl    NA    NA  TRUE,FALSE       2\n",
      " 6:         output_debug_info ParamLgl    NA    NA  TRUE,FALSE       2\n",
      " 7: do_not_check_capabilities ParamLgl    NA    NA  TRUE,FALSE       2\n",
      " 8:        num_decimal_places ParamInt     1   Inf      [NULL]     Inf\n",
      " 9:                batch_size ParamInt     1   Inf      [NULL]     Inf\n",
      "10:                   options ParamUty    NA    NA      [NULL]     Inf\n"
     ]
    }
   ],
   "source": [
    "lrn_nbw$param_set %>%\n",
    "  as.data.table() %>%\n",
    "  select(1:6) %>%\n",
    "  print()\n",
    "\n",
    "# id    class lower upper      levels nlevels\n",
    "#                        <char>   <char> <num> <num>      <list>   <num>\n",
    "#  1:                    subset ParamUty    NA    NA      [NULL]     Inf\n",
    "#  2:                 na.action ParamUty    NA    NA      [NULL]     Inf\n",
    "#  3:                         K ParamLgl    NA    NA  TRUE,FALSE       2\n",
    "#  4:                         D ParamLgl    NA    NA  TRUE,FALSE       2\n",
    "#  5:                         O ParamLgl    NA    NA  TRUE,FALSE       2\n",
    "#  6:         output_debug_info ParamLgl    NA    NA  TRUE,FALSE       2\n",
    "#  7: do_not_check_capabilities ParamLgl    NA    NA  TRUE,FALSE       2\n",
    "#  8:        num_decimal_places ParamInt     1   Inf      [NULL]     Inf\n",
    "#  9:                batch_size ParamInt     1   Inf      [NULL]     Inf\n",
    "# 10:                   options ParamUty    NA    NA      [NULL]     Inf"
   ]
  },
  {
   "cell_type": "code",
   "execution_count": null,
   "id": "33270e0d",
   "metadata": {
    "vscode": {
     "languageId": "r"
    }
   },
   "outputs": [],
   "source": []
  }
 ],
 "metadata": {
  "kernelspec": {
   "display_name": "R",
   "language": "R",
   "name": "ir"
  },
  "language_info": {
   "codemirror_mode": "r",
   "file_extension": ".r",
   "mimetype": "text/x-r-source",
   "name": "R",
   "pygments_lexer": "r",
   "version": "4.4.2"
  }
 },
 "nbformat": 4,
 "nbformat_minor": 5
}
