{
 "cells": [
  {
   "cell_type": "markdown",
   "id": "86d00cc0",
   "metadata": {},
   "source": [
    "测试R语言判别分析。"
   ]
  },
  {
   "cell_type": "markdown",
   "id": "3fd3d020",
   "metadata": {},
   "source": [
    "# 线性判别分析"
   ]
  },
  {
   "cell_type": "code",
   "execution_count": 1,
   "id": "629716d9",
   "metadata": {
    "vscode": {
     "languageId": "r"
    }
   },
   "outputs": [
    {
     "name": "stderr",
     "output_type": "stream",
     "text": [
      "-- \u001b[1mAttaching core tidyverse packages\u001b[22m ------------------------ tidyverse 2.0.0 --\n",
      "\u001b[32mv\u001b[39m \u001b[34mdplyr    \u001b[39m 1.1.4     \u001b[32mv\u001b[39m \u001b[34mreadr    \u001b[39m 2.1.5\n",
      "\u001b[32mv\u001b[39m \u001b[34mforcats  \u001b[39m 1.0.0     \u001b[32mv\u001b[39m \u001b[34mstringr  \u001b[39m 1.5.1\n",
      "\u001b[32mv\u001b[39m \u001b[34mggplot2  \u001b[39m 3.5.2     \u001b[32mv\u001b[39m \u001b[34mtibble   \u001b[39m 3.2.1\n",
      "\u001b[32mv\u001b[39m \u001b[34mlubridate\u001b[39m 1.9.4     \u001b[32mv\u001b[39m \u001b[34mtidyr    \u001b[39m 1.3.1\n",
      "\u001b[32mv\u001b[39m \u001b[34mpurrr    \u001b[39m 1.0.4     \n",
      "-- \u001b[1mConflicts\u001b[22m ------------------------------------------ tidyverse_conflicts() --\n",
      "\u001b[31mx\u001b[39m \u001b[34mdplyr\u001b[39m::\u001b[32mfilter()\u001b[39m masks \u001b[34mstats\u001b[39m::filter()\n",
      "\u001b[31mx\u001b[39m \u001b[34mdplyr\u001b[39m::\u001b[32mlag()\u001b[39m    masks \u001b[34mstats\u001b[39m::lag()\n",
      "\u001b[36mi\u001b[39m Use the conflicted package (\u001b[3m\u001b[34m<http://conflicted.r-lib.org/>\u001b[39m\u001b[23m) to force all conflicts to become errors\n",
      "Loading required package: mlr3\n",
      "\n"
     ]
    }
   ],
   "source": [
    "library(tidyverse)\n",
    "library(mlr3verse)"
   ]
  },
  {
   "cell_type": "code",
   "execution_count": null,
   "id": "a7ef55ed",
   "metadata": {
    "vscode": {
     "languageId": "r"
    }
   },
   "outputs": [
    {
     "data": {
      "text/html": [
       "<strong>classif.acc:</strong> 0.98"
      ],
      "text/latex": [
       "\\textbf{classif.acc:} 0.98"
      ],
      "text/markdown": [
       "**classif.acc:** 0.98"
      ],
      "text/plain": [
       "classif.acc \n",
       "       0.98 "
      ]
     },
     "metadata": {},
     "output_type": "display_data"
    }
   ],
   "source": [
    "# 定义任务\n",
    "tsk_iris <- tsk(\"iris\")\n",
    "\n",
    "# 定义分类器\n",
    "lrn_lda <- lrn(\"classif.lda\")\n",
    "\n",
    "# 训练\n",
    "lrn_lda$train(tsk_iris)\n",
    "\n",
    "# 预测\n",
    "pred_lda <- lrn_lda$predict(tsk_iris)\n",
    "\n",
    "# 查看预测结果\n",
    "pred_lda$score(msr(\"classif.acc\"))\n",
    "\n",
    "# classif.acc: 0.98"
   ]
  },
  {
   "cell_type": "code",
   "execution_count": null,
   "id": "6ca498ec",
   "metadata": {
    "vscode": {
     "languageId": "r"
    }
   },
   "outputs": [
    {
     "data": {
      "text/plain": [
       "<ParamSet(7)>\n",
       "Key: <id>\n",
       "               id    class lower upper nlevels        default parents  value\n",
       "           <char>   <char> <num> <num>   <num>         <list>  <list> <list>\n",
       "1:          dimen ParamUty    NA    NA     Inf <NoDefault[0]>  [NULL] [NULL]\n",
       "2:         method ParamFct    NA    NA       4         moment  [NULL] [NULL]\n",
       "3:             nu ParamInt  -Inf   Inf     Inf <NoDefault[0]>  method [NULL]\n",
       "4: predict.method ParamFct    NA    NA       3        plug-in  [NULL] [NULL]\n",
       "5:  predict.prior ParamUty    NA    NA     Inf <NoDefault[0]>  [NULL] [NULL]\n",
       "6:          prior ParamUty    NA    NA     Inf <NoDefault[0]>  [NULL] [NULL]\n",
       "7:            tol ParamDbl  -Inf   Inf     Inf <NoDefault[0]>  [NULL] [NULL]"
      ]
     },
     "metadata": {},
     "output_type": "display_data"
    }
   ],
   "source": [
    "lrn_lda$param_set\n",
    "\n",
    "# <ParamSet(7)>\n",
    "# Key: <id>\n",
    "#                id    class lower upper nlevels        default parents  value\n",
    "#            <char>   <char> <num> <num>   <num>         <list>  <list> <list>\n",
    "# 1:          dimen ParamUty    NA    NA     Inf <NoDefault[0]>  [NULL] [NULL]\n",
    "# 2:         method ParamFct    NA    NA       4         moment  [NULL] [NULL]\n",
    "# 3:             nu ParamInt  -Inf   Inf     Inf <NoDefault[0]>  method [NULL]\n",
    "# 4: predict.method ParamFct    NA    NA       3        plug-in  [NULL] [NULL]\n",
    "# 5:  predict.prior ParamUty    NA    NA     Inf <NoDefault[0]>  [NULL] [NULL]\n",
    "# 6:          prior ParamUty    NA    NA     Inf <NoDefault[0]>  [NULL] [NULL]\n",
    "# 7:            tol ParamDbl  -Inf   Inf     Inf <NoDefault[0]>  [NULL] [NULL]"
   ]
  },
  {
   "cell_type": "code",
   "execution_count": 8,
   "id": "f9c97350",
   "metadata": {
    "vscode": {
     "languageId": "r"
    }
   },
   "outputs": [
    {
     "name": "stdout",
     "output_type": "stream",
     "text": [
      "Key: <key>\n",
      "                        key                                 label\n",
      "                     <char>                                <char>\n",
      " 1:  classif.glmnet.default       Classification GLM with Default\n",
      " 2:     classif.glmnet.rbv1     Classification GLM with RandomBot\n",
      " 3:     classif.glmnet.rbv2     Classification GLM with RandomBot\n",
      " 4:    classif.kknn.default      Classification KKNN with Default\n",
      " 5:       classif.kknn.rbv1    Classification KKNN with RandomBot\n",
      " 6:       classif.kknn.rbv2    Classification KKNN with RandomBot\n",
      " 7:  classif.ranger.default    Classification Ranger with Default\n",
      " 8:     classif.ranger.rbv1  Classification Ranger with RandomBot\n",
      " 9:     classif.ranger.rbv2  Classification Ranger with RandomBot\n",
      "10:   classif.rpart.default     Classification Rpart with Default\n",
      "11:      classif.rpart.rbv1   Classification Rpart with RandomBot\n",
      "12:      classif.rpart.rbv2   Classification Rpart with RandomBot\n",
      "13:     classif.svm.default       Classification SVM with Default\n",
      "14:        classif.svm.rbv1     Classification SVM with RandomBot\n",
      "15:        classif.svm.rbv2     Classification SVM with RandomBot\n",
      "16: classif.xgboost.default   Classification XGBoost with Default\n",
      "17:    classif.xgboost.rbv1 Classification XGBoost with RandomBot\n",
      "18:    classif.xgboost.rbv2 Classification XGBoost with RandomBot\n"
     ]
    }
   ],
   "source": [
    "as.data.table(mlr_tuning_spaces) %>%\n",
    "  filter(str_detect(key, \"classif\")) %>%\n",
    "  select(key, label) %>%\n",
    "  print()"
   ]
  },
  {
   "cell_type": "code",
   "execution_count": null,
   "id": "2a3624b5",
   "metadata": {
    "vscode": {
     "languageId": "r"
    }
   },
   "outputs": [
    {
     "data": {
      "text/plain": [
       "Call:\n",
       "lda(formula, data = task$data())\n",
       "\n",
       "Prior probabilities of groups:\n",
       "    setosa versicolor  virginica \n",
       " 0.3333333  0.3333333  0.3333333 \n",
       "\n",
       "Group means:\n",
       "           Petal.Length Petal.Width Sepal.Length Sepal.Width\n",
       "setosa            1.462       0.246        5.006       3.428\n",
       "versicolor        4.260       1.326        5.936       2.770\n",
       "virginica         5.552       2.026        6.588       2.974\n",
       "\n",
       "Coefficients of linear discriminants:\n",
       "                    LD1         LD2\n",
       "Petal.Length -2.2012117  0.93192121\n",
       "Petal.Width  -2.8104603 -2.83918785\n",
       "Sepal.Length  0.8293776 -0.02410215\n",
       "Sepal.Width   1.5344731 -2.16452123\n",
       "\n",
       "Proportion of trace:\n",
       "   LD1    LD2 \n",
       "0.9912 0.0088 "
      ]
     },
     "metadata": {},
     "output_type": "display_data"
    }
   ],
   "source": [
    "model_lda <- lrn_lda$model\n",
    "model_lda\n",
    "\n",
    "# Call:\n",
    "# lda(formula, data = task$data())\n",
    "\n",
    "# Prior probabilities of groups:\n",
    "#     setosa versicolor  virginica \n",
    "#  0.3333333  0.3333333  0.3333333 \n",
    "\n",
    "# Group means:\n",
    "#            Petal.Length Petal.Width Sepal.Length Sepal.Width\n",
    "# setosa            1.462       0.246        5.006       3.428\n",
    "# versicolor        4.260       1.326        5.936       2.770\n",
    "# virginica         5.552       2.026        6.588       2.974\n",
    "\n",
    "# Coefficients of linear discriminants:\n",
    "#                     LD1         LD2\n",
    "# Petal.Length -2.2012117  0.93192121\n",
    "# Petal.Width  -2.8104603 -2.83918785\n",
    "# Sepal.Length  0.8293776 -0.02410215\n",
    "# Sepal.Width   1.5344731 -2.16452123\n",
    "\n",
    "# Proportion of trace:\n",
    "#    LD1    LD2 \n",
    "# 0.9912 0.0088"
   ]
  },
  {
   "cell_type": "code",
   "execution_count": 11,
   "id": "2275bde8",
   "metadata": {
    "vscode": {
     "languageId": "r"
    }
   },
   "outputs": [
    {
     "ename": "ERROR",
     "evalue": "Error in eval(oc, env): object 'task' not found\n",
     "output_type": "error",
     "traceback": [
      "Error in eval(oc, env): object 'task' not found\nTraceback:\n",
      "1. plot.lda(model_lda)",
      "2. model.frame(x)",
      "3. model.frame.lda(x)",
      "4. eval(oc, env)",
      "5. eval(oc, env)",
      "6. stats::model.frame(formula = formula, data = task$data())",
      "7. model.frame.default(formula = formula, data = task$data())",
      "8. is.data.frame(data)",
      "9. .handleSimpleError(function (cnd) \n . {\n .     watcher$capture_plot_and_output()\n .     cnd <- sanitize_call(cnd)\n .     watcher$push(cnd)\n .     switch(on_error, continue = invokeRestart(\"eval_continue\"), \n .         stop = invokeRestart(\"eval_stop\"), error = NULL)\n . }, \"object 'task' not found\", base::quote(eval(oc, env)))"
     ]
    }
   ],
   "source": [
    "plot(model_lda)"
   ]
  },
  {
   "cell_type": "code",
   "execution_count": 18,
   "id": "8130006e",
   "metadata": {
    "vscode": {
     "languageId": "r"
    }
   },
   "outputs": [
    {
     "ename": "ERROR",
     "evalue": "Error in roc_data(object): Need a binary classification problem to plot a ROC curve\n",
     "output_type": "error",
     "traceback": [
      "Error in roc_data(object): Need a binary classification problem to plot a ROC curve\nTraceback:\n",
      "1. autoplot.PredictionClassif(pred_lda, type = \"roc\")",
      "2. plot_precrec(object, curvetype = \"ROC\")",
      "3. as_precrec(object)",
      "4. as_precrec.PredictionClassif(object)",
      "5. roc_data(object)",
      "6. stopf(\"Need a binary classification problem to plot a ROC curve\")",
      "7. stop(structure(list(message = as.character(message), call = call), \n .     class = class))"
     ]
    }
   ],
   "source": [
    "autoplot(pred_lda, type = \"roc\")"
   ]
  },
  {
   "cell_type": "markdown",
   "id": "225ec9c1",
   "metadata": {},
   "source": [
    "# 二次判别分析"
   ]
  },
  {
   "cell_type": "code",
   "execution_count": null,
   "id": "54a99cf9",
   "metadata": {
    "vscode": {
     "languageId": "r"
    }
   },
   "outputs": [
    {
     "data": {
      "text/html": [
       "<strong>classif.acc:</strong> 0.98"
      ],
      "text/latex": [
       "\\textbf{classif.acc:} 0.98"
      ],
      "text/markdown": [
       "**classif.acc:** 0.98"
      ],
      "text/plain": [
       "classif.acc \n",
       "       0.98 "
      ]
     },
     "metadata": {},
     "output_type": "display_data"
    }
   ],
   "source": [
    "# 定义任务\n",
    "tsk_iris <- tsk(\"iris\")\n",
    "\n",
    "# 定义分类器\n",
    "lrn_qda <- lrn(\"classif.qda\")\n",
    "\n",
    "# 训练\n",
    "lrn_qda$train(tsk_iris)\n",
    "\n",
    "# 预测\n",
    "pred_qda <- lrn_qda$predict(tsk_iris)\n",
    "\n",
    "# 查看预测结果\n",
    "pred_qda$score(msr(\"classif.acc\"))\n",
    "\n",
    "# classif.acc: 0.98"
   ]
  },
  {
   "cell_type": "code",
   "execution_count": null,
   "id": "19a6044b",
   "metadata": {
    "vscode": {
     "languageId": "r"
    }
   },
   "outputs": [
    {
     "data": {
      "text/plain": [
       "<ParamSet(5)>\n",
       "Key: <id>\n",
       "               id    class lower upper nlevels        default parents  value\n",
       "           <char>   <char> <num> <num>   <num>         <list>  <list> <list>\n",
       "1:         method ParamFct    NA    NA       4         moment  [NULL] [NULL]\n",
       "2:             nu ParamInt  -Inf   Inf     Inf <NoDefault[0]>  method [NULL]\n",
       "3: predict.method ParamFct    NA    NA       3        plug-in  [NULL] [NULL]\n",
       "4:  predict.prior ParamUty    NA    NA     Inf <NoDefault[0]>  [NULL] [NULL]\n",
       "5:          prior ParamUty    NA    NA     Inf <NoDefault[0]>  [NULL] [NULL]"
      ]
     },
     "metadata": {},
     "output_type": "display_data"
    }
   ],
   "source": [
    "lrn_qda$param_set\n",
    "\n",
    "# <ParamSet(5)>\n",
    "# Key: <id>\n",
    "#                id    class lower upper nlevels        default parents  value\n",
    "#            <char>   <char> <num> <num>   <num>         <list>  <list> <list>\n",
    "# 1:         method ParamFct    NA    NA       4         moment  [NULL] [NULL]\n",
    "# 2:             nu ParamInt  -Inf   Inf     Inf <NoDefault[0]>  method [NULL]\n",
    "# 3: predict.method ParamFct    NA    NA       3        plug-in  [NULL] [NULL]\n",
    "# 4:  predict.prior ParamUty    NA    NA     Inf <NoDefault[0]>  [NULL] [NULL]\n",
    "# 5:          prior ParamUty    NA    NA     Inf <NoDefault[0]>  [NULL] [NULL]"
   ]
  },
  {
   "cell_type": "code",
   "execution_count": 22,
   "id": "438fdde7",
   "metadata": {
    "vscode": {
     "languageId": "r"
    }
   },
   "outputs": [
    {
     "name": "stdout",
     "output_type": "stream",
     "text": [
      "INFO  [10:18:04.235] [mlr3] Running benchmark with 9 resampling iterations\n",
      "INFO  [10:18:04.314] [mlr3] Applying learner 'classif.lda' on task 'iris' (iter 1/3)\n",
      "INFO  [10:18:04.344] [mlr3] Applying learner 'classif.lda' on task 'iris' (iter 2/3)\n",
      "INFO  [10:18:04.353] [mlr3] Applying learner 'classif.lda' on task 'iris' (iter 3/3)\n",
      "INFO  [10:18:04.361] [mlr3] Applying learner 'classif.qda' on task 'iris' (iter 1/3)\n",
      "INFO  [10:18:04.368] [mlr3] Applying learner 'classif.qda' on task 'iris' (iter 2/3)\n",
      "INFO  [10:18:04.376] [mlr3] Applying learner 'classif.qda' on task 'iris' (iter 3/3)\n",
      "INFO  [10:18:04.387] [mlr3] Applying learner 'classif.rpart' on task 'iris' (iter 1/3)\n",
      "INFO  [10:18:04.404] [mlr3] Applying learner 'classif.rpart' on task 'iris' (iter 2/3)\n",
      "INFO  [10:18:04.411] [mlr3] Applying learner 'classif.rpart' on task 'iris' (iter 3/3)\n",
      "INFO  [10:18:04.424] [mlr3] Finished benchmark\n"
     ]
    },
    {
     "data": {
      "text/html": [
       "<table class=\"dataframe\">\n",
       "<caption>A bmr_aggregate: 3 x 7</caption>\n",
       "<thead>\n",
       "\t<tr><th scope=col>nr</th><th scope=col>resample_result</th><th scope=col>task_id</th><th scope=col>learner_id</th><th scope=col>resampling_id</th><th scope=col>iters</th><th scope=col>classif.acc</th></tr>\n",
       "\t<tr><th scope=col>&lt;int&gt;</th><th scope=col>&lt;list&gt;</th><th scope=col>&lt;chr&gt;</th><th scope=col>&lt;chr&gt;</th><th scope=col>&lt;chr&gt;</th><th scope=col>&lt;int&gt;</th><th scope=col>&lt;dbl&gt;</th></tr>\n",
       "</thead>\n",
       "<tbody>\n",
       "\t<tr><td>1</td><td>&lt;environment: 0x10a4f9838&gt;</td><td>iris</td><td><span style=white-space:pre-wrap>classif.lda  </span></td><td>cv</td><td>3</td><td>0.9733333</td></tr>\n",
       "\t<tr><td>2</td><td>&lt;environment: 0x10b136288&gt;</td><td>iris</td><td><span style=white-space:pre-wrap>classif.qda  </span></td><td>cv</td><td>3</td><td>0.9600000</td></tr>\n",
       "\t<tr><td>3</td><td>&lt;environment: 0x10b01f970&gt;</td><td>iris</td><td>classif.rpart</td><td>cv</td><td>3</td><td>0.9333333</td></tr>\n",
       "</tbody>\n",
       "</table>\n"
      ],
      "text/latex": [
       "A bmr\\_aggregate: 3 x 7\n",
       "\\begin{tabular}{lllllll}\n",
       " nr & resample\\_result & task\\_id & learner\\_id & resampling\\_id & iters & classif.acc\\\\\n",
       " <int> & <list> & <chr> & <chr> & <chr> & <int> & <dbl>\\\\\n",
       "\\hline\n",
       "\t 1 & <environment: 0x10a4f9838> & iris & classif.lda   & cv & 3 & 0.9733333\\\\\n",
       "\t 2 & <environment: 0x10b136288> & iris & classif.qda   & cv & 3 & 0.9600000\\\\\n",
       "\t 3 & <environment: 0x10b01f970> & iris & classif.rpart & cv & 3 & 0.9333333\\\\\n",
       "\\end{tabular}\n"
      ],
      "text/markdown": [
       "\n",
       "A bmr_aggregate: 3 x 7\n",
       "\n",
       "| nr &lt;int&gt; | resample_result &lt;list&gt; | task_id &lt;chr&gt; | learner_id &lt;chr&gt; | resampling_id &lt;chr&gt; | iters &lt;int&gt; | classif.acc &lt;dbl&gt; |\n",
       "|---|---|---|---|---|---|---|\n",
       "| 1 | &lt;environment: 0x10a4f9838&gt; | iris | classif.lda   | cv | 3 | 0.9733333 |\n",
       "| 2 | &lt;environment: 0x10b136288&gt; | iris | classif.qda   | cv | 3 | 0.9600000 |\n",
       "| 3 | &lt;environment: 0x10b01f970&gt; | iris | classif.rpart | cv | 3 | 0.9333333 |\n",
       "\n"
      ],
      "text/plain": [
       "  nr resample_result            task_id learner_id    resampling_id iters\n",
       "1 1  <environment: 0x10a4f9838> iris    classif.lda   cv            3    \n",
       "2 2  <environment: 0x10b136288> iris    classif.qda   cv            3    \n",
       "3 3  <environment: 0x10b01f970> iris    classif.rpart cv            3    \n",
       "  classif.acc\n",
       "1 0.9733333  \n",
       "2 0.9600000  \n",
       "3 0.9333333  "
      ]
     },
     "metadata": {},
     "output_type": "display_data"
    }
   ],
   "source": [
    "lrn_rpart <- lrn(\"classif.rpart\")\n",
    "lrns <- c(lrn_lda, lrn_qda, lrn_rpart)\n",
    "\n",
    "design <- benchmark_grid(\n",
    "  tasks = tsk_iris,\n",
    "  learners = lrns,\n",
    "  resampling = rsmp(\"cv\", folds = 3)\n",
    ")\n",
    "\n",
    "bmr <- benchmark(design)\n",
    "bmr$aggregate(msr(\"classif.acc\"))"
   ]
  },
  {
   "cell_type": "code",
   "execution_count": null,
   "id": "85c86cd0",
   "metadata": {
    "vscode": {
     "languageId": "r"
    }
   },
   "outputs": [
    {
     "data": {
      "text/plain": [
       "Call:\n",
       "qda(task$formula(), data = task$data())\n",
       "\n",
       "Prior probabilities of groups:\n",
       "    setosa versicolor  virginica \n",
       " 0.3333333  0.3333333  0.3333333 \n",
       "\n",
       "Group means:\n",
       "           Petal.Length Petal.Width Sepal.Length Sepal.Width\n",
       "setosa            1.462       0.246        5.006       3.428\n",
       "versicolor        4.260       1.326        5.936       2.770\n",
       "virginica         5.552       2.026        6.588       2.974"
      ]
     },
     "metadata": {},
     "output_type": "display_data"
    }
   ],
   "source": [
    "model_qda <- lrn_qda$model\n",
    "model_qda\n",
    "\n",
    "# Call:\n",
    "# qda(task$formula(), data = task$data())\n",
    "\n",
    "# Prior probabilities of groups:\n",
    "#     setosa versicolor  virginica \n",
    "#  0.3333333  0.3333333  0.3333333 \n",
    "\n",
    "# Group means:\n",
    "#            Petal.Length Petal.Width Sepal.Length Sepal.Width\n",
    "# setosa            1.462       0.246        5.006       3.428\n",
    "# versicolor        4.260       1.326        5.936       2.770\n",
    "# virginica         5.552       2.026        6.588       2.974"
   ]
  },
  {
   "cell_type": "code",
   "execution_count": null,
   "id": "d89e6cd7",
   "metadata": {
    "vscode": {
     "languageId": "r"
    }
   },
   "outputs": [],
   "source": []
  }
 ],
 "metadata": {
  "kernelspec": {
   "display_name": "R",
   "language": "R",
   "name": "ir"
  },
  "language_info": {
   "codemirror_mode": "r",
   "file_extension": ".r",
   "mimetype": "text/x-r-source",
   "name": "R",
   "pygments_lexer": "r",
   "version": "4.4.2"
  }
 },
 "nbformat": 4,
 "nbformat_minor": 5
}
