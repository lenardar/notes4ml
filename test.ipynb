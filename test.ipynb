{
 "cells": [
  {
   "cell_type": "code",
   "execution_count": null,
   "id": "d6bf3386",
   "metadata": {
    "vscode": {
     "languageId": "r"
    }
   },
   "outputs": [
    {
     "data": {
      "text/html": [
       "<style>\n",
       ".dl-inline {width: auto; margin:0; padding: 0}\n",
       ".dl-inline>dt, .dl-inline>dd {float: none; width: auto; display: inline-block}\n",
       ".dl-inline>dt::after {content: \":\\0020\"; padding-right: .5ex}\n",
       ".dl-inline>dt:not(:first-of-type) {padding-left: .5ex}\n",
       "</style><dl class=dl-inline><dt>Hispanic</dt><dd>46.4583333333333</dd><dt>Asian</dt><dd>58</dd><dt>African-Am</dt><dd>48.2</dd><dt>Caucasian</dt><dd>54.0551724137931</dd></dl>\n"
      ],
      "text/latex": [
       "\\begin{description*}\n",
       "\\item[Hispanic] 46.4583333333333\n",
       "\\item[Asian] 58\n",
       "\\item[African-Am] 48.2\n",
       "\\item[Caucasian] 54.0551724137931\n",
       "\\end{description*}\n"
      ],
      "text/markdown": [
       "Hispanic\n",
       ":   46.4583333333333Asian\n",
       ":   58African-Am\n",
       ":   48.2Caucasian\n",
       ":   54.0551724137931\n",
       "\n"
      ],
      "text/plain": [
       "  Hispanic      Asian African-Am  Caucasian \n",
       "  46.45833   58.00000   48.20000   54.05517 "
      ]
     },
     "metadata": {},
     "output_type": "display_data"
    }
   ],
   "source": [
    "load(file = \"./data/codingSchemes.rdata\")\n",
    "\n",
    "# 把race变为因子型，并放到新的一列中\n",
    "hsb2$race.f <- factor(\n",
    "  hsb2$race,\n",
    "  labels = c(\"Hispanic\", \"Asian\", \"African-Am\", \"Caucasian\")\n",
    ")\n",
    "\n",
    "# 根据race.f进行分组，计算分组后因变量write的均值\n",
    "tapply(hsb2$write, hsb2$race.f, mean)\n",
    "\n",
    "# Hispanic      Asian African-Am  Caucasian \n",
    "#   46.45833   58.00000   48.20000   54.05517"
   ]
  },
  {
   "cell_type": "code",
   "execution_count": 2,
   "id": "63d502e8",
   "metadata": {
    "vscode": {
     "languageId": "r"
    }
   },
   "outputs": [
    {
     "data": {
      "text/html": [
       "<table class=\"dataframe\">\n",
       "<caption>A data.frame: 6 x 12</caption>\n",
       "<thead>\n",
       "\t<tr><th></th><th scope=col>id</th><th scope=col>female</th><th scope=col>race</th><th scope=col>ses</th><th scope=col>schtyp</th><th scope=col>prog</th><th scope=col>read</th><th scope=col>write</th><th scope=col>math</th><th scope=col>science</th><th scope=col>socst</th><th scope=col>race.f</th></tr>\n",
       "\t<tr><th></th><th scope=col>&lt;int&gt;</th><th scope=col>&lt;int&gt;</th><th scope=col>&lt;int&gt;</th><th scope=col>&lt;int&gt;</th><th scope=col>&lt;int&gt;</th><th scope=col>&lt;int&gt;</th><th scope=col>&lt;int&gt;</th><th scope=col>&lt;int&gt;</th><th scope=col>&lt;int&gt;</th><th scope=col>&lt;int&gt;</th><th scope=col>&lt;int&gt;</th><th scope=col>&lt;fct&gt;</th></tr>\n",
       "</thead>\n",
       "<tbody>\n",
       "\t<tr><th scope=row>1</th><td> 70</td><td>0</td><td>4</td><td>1</td><td>1</td><td>1</td><td>57</td><td>52</td><td>41</td><td>47</td><td>57</td><td>Caucasian</td></tr>\n",
       "\t<tr><th scope=row>2</th><td>121</td><td>1</td><td>4</td><td>2</td><td>1</td><td>3</td><td>68</td><td>59</td><td>53</td><td>63</td><td>61</td><td>Caucasian</td></tr>\n",
       "\t<tr><th scope=row>3</th><td> 86</td><td>0</td><td>4</td><td>3</td><td>1</td><td>1</td><td>44</td><td>33</td><td>54</td><td>58</td><td>31</td><td>Caucasian</td></tr>\n",
       "\t<tr><th scope=row>4</th><td>141</td><td>0</td><td>4</td><td>3</td><td>1</td><td>3</td><td>63</td><td>44</td><td>47</td><td>53</td><td>56</td><td>Caucasian</td></tr>\n",
       "\t<tr><th scope=row>5</th><td>172</td><td>0</td><td>4</td><td>2</td><td>1</td><td>2</td><td>47</td><td>52</td><td>57</td><td>53</td><td>61</td><td>Caucasian</td></tr>\n",
       "\t<tr><th scope=row>6</th><td>113</td><td>0</td><td>4</td><td>2</td><td>1</td><td>2</td><td>44</td><td>52</td><td>51</td><td>63</td><td>61</td><td>Caucasian</td></tr>\n",
       "</tbody>\n",
       "</table>\n"
      ],
      "text/latex": [
       "A data.frame: 6 x 12\n",
       "\\begin{tabular}{r|llllllllllll}\n",
       "  & id & female & race & ses & schtyp & prog & read & write & math & science & socst & race.f\\\\\n",
       "  & <int> & <int> & <int> & <int> & <int> & <int> & <int> & <int> & <int> & <int> & <int> & <fct>\\\\\n",
       "\\hline\n",
       "\t1 &  70 & 0 & 4 & 1 & 1 & 1 & 57 & 52 & 41 & 47 & 57 & Caucasian\\\\\n",
       "\t2 & 121 & 1 & 4 & 2 & 1 & 3 & 68 & 59 & 53 & 63 & 61 & Caucasian\\\\\n",
       "\t3 &  86 & 0 & 4 & 3 & 1 & 1 & 44 & 33 & 54 & 58 & 31 & Caucasian\\\\\n",
       "\t4 & 141 & 0 & 4 & 3 & 1 & 3 & 63 & 44 & 47 & 53 & 56 & Caucasian\\\\\n",
       "\t5 & 172 & 0 & 4 & 2 & 1 & 2 & 47 & 52 & 57 & 53 & 61 & Caucasian\\\\\n",
       "\t6 & 113 & 0 & 4 & 2 & 1 & 2 & 44 & 52 & 51 & 63 & 61 & Caucasian\\\\\n",
       "\\end{tabular}\n"
      ],
      "text/markdown": [
       "\n",
       "A data.frame: 6 x 12\n",
       "\n",
       "| <!--/--> | id &lt;int&gt; | female &lt;int&gt; | race &lt;int&gt; | ses &lt;int&gt; | schtyp &lt;int&gt; | prog &lt;int&gt; | read &lt;int&gt; | write &lt;int&gt; | math &lt;int&gt; | science &lt;int&gt; | socst &lt;int&gt; | race.f &lt;fct&gt; |\n",
       "|---|---|---|---|---|---|---|---|---|---|---|---|---|\n",
       "| 1 |  70 | 0 | 4 | 1 | 1 | 1 | 57 | 52 | 41 | 47 | 57 | Caucasian |\n",
       "| 2 | 121 | 1 | 4 | 2 | 1 | 3 | 68 | 59 | 53 | 63 | 61 | Caucasian |\n",
       "| 3 |  86 | 0 | 4 | 3 | 1 | 1 | 44 | 33 | 54 | 58 | 31 | Caucasian |\n",
       "| 4 | 141 | 0 | 4 | 3 | 1 | 3 | 63 | 44 | 47 | 53 | 56 | Caucasian |\n",
       "| 5 | 172 | 0 | 4 | 2 | 1 | 2 | 47 | 52 | 57 | 53 | 61 | Caucasian |\n",
       "| 6 | 113 | 0 | 4 | 2 | 1 | 2 | 44 | 52 | 51 | 63 | 61 | Caucasian |\n",
       "\n"
      ],
      "text/plain": [
       "  id  female race ses schtyp prog read write math science socst race.f   \n",
       "1  70 0      4    1   1      1    57   52    41   47      57    Caucasian\n",
       "2 121 1      4    2   1      3    68   59    53   63      61    Caucasian\n",
       "3  86 0      4    3   1      1    44   33    54   58      31    Caucasian\n",
       "4 141 0      4    3   1      3    63   44    47   53      56    Caucasian\n",
       "5 172 0      4    2   1      2    47   52    57   53      61    Caucasian\n",
       "6 113 0      4    2   1      2    44   52    51   63      61    Caucasian"
      ]
     },
     "metadata": {},
     "output_type": "display_data"
    }
   ],
   "source": [
    "head(hsb2)"
   ]
  },
  {
   "cell_type": "code",
   "execution_count": 4,
   "id": "2351314e",
   "metadata": {
    "vscode": {
     "languageId": "r"
    }
   },
   "outputs": [
    {
     "name": "stderr",
     "output_type": "stream",
     "text": [
      "-- \u001b[1mAttaching core tidyverse packages\u001b[22m ------------------------ tidyverse 2.0.0 --\n",
      "\u001b[32mv\u001b[39m \u001b[34mdplyr    \u001b[39m 1.1.4     \u001b[32mv\u001b[39m \u001b[34mreadr    \u001b[39m 2.1.5\n",
      "\u001b[32mv\u001b[39m \u001b[34mforcats  \u001b[39m 1.0.0     \u001b[32mv\u001b[39m \u001b[34mstringr  \u001b[39m 1.5.1\n",
      "\u001b[32mv\u001b[39m \u001b[34mggplot2  \u001b[39m 3.5.2     \u001b[32mv\u001b[39m \u001b[34mtibble   \u001b[39m 3.2.1\n",
      "\u001b[32mv\u001b[39m \u001b[34mlubridate\u001b[39m 1.9.4     \u001b[32mv\u001b[39m \u001b[34mtidyr    \u001b[39m 1.3.1\n",
      "\u001b[32mv\u001b[39m \u001b[34mpurrr    \u001b[39m 1.0.4     \n",
      "-- \u001b[1mConflicts\u001b[22m ------------------------------------------ tidyverse_conflicts() --\n",
      "\u001b[31mx\u001b[39m \u001b[34mdplyr\u001b[39m::\u001b[32mfilter()\u001b[39m masks \u001b[34mstats\u001b[39m::filter()\n",
      "\u001b[31mx\u001b[39m \u001b[34mdplyr\u001b[39m::\u001b[32mlag()\u001b[39m    masks \u001b[34mstats\u001b[39m::lag()\n",
      "\u001b[36mi\u001b[39m Use the conflicted package (\u001b[3m\u001b[34m<http://conflicted.r-lib.org/>\u001b[39m\u001b[23m) to force all conflicts to become errors\n"
     ]
    }
   ],
   "source": [
    "library(tidyverse)"
   ]
  },
  {
   "cell_type": "code",
   "execution_count": 9,
   "id": "491eef32",
   "metadata": {
    "vscode": {
     "languageId": "r"
    }
   },
   "outputs": [
    {
     "name": "stdout",
     "output_type": "stream",
     "text": [
      "Rows: 200\n",
      "Columns: 14\n",
      "$ id           \u001b[3m\u001b[90m<int>\u001b[39m\u001b[23m 70, 121, 86, 141, 172, 113, 50, 11, 84, 48, 75, 60, 95, 1~\n",
      "$ female       \u001b[3m\u001b[90m<int>\u001b[39m\u001b[23m 0, 1, 0, 0, 0, 0, 0, 0, 0, 0, 0, 0, 0, 0, 0, 0, 0, 0, 0, ~\n",
      "$ race         \u001b[3m\u001b[90m<int>\u001b[39m\u001b[23m 4, 4, 4, 4, 4, 4, 3, 1, 4, 3, 4, 4, 4, 4, 3, 4, 4, 4, 4, ~\n",
      "$ ses          \u001b[3m\u001b[90m<int>\u001b[39m\u001b[23m 1, 2, 3, 3, 2, 2, 2, 2, 2, 2, 2, 2, 3, 3, 1, 1, 3, 2, 3, ~\n",
      "$ schtyp       \u001b[3m\u001b[90m<int>\u001b[39m\u001b[23m 1, 1, 1, 1, 1, 1, 1, 1, 1, 1, 1, 1, 1, 1, 1, 1, 1, 2, 1, ~\n",
      "$ prog         \u001b[3m\u001b[90m<int>\u001b[39m\u001b[23m 1, 3, 1, 3, 2, 2, 1, 2, 1, 2, 3, 2, 2, 2, 2, 1, 2, 1, 2, ~\n",
      "$ read         \u001b[3m\u001b[90m<int>\u001b[39m\u001b[23m 57, 68, 44, 63, 47, 44, 50, 34, 63, 57, 60, 57, 73, 54, 4~\n",
      "$ write        \u001b[3m\u001b[90m<int>\u001b[39m\u001b[23m 52, 59, 33, 44, 52, 52, 59, 46, 57, 55, 46, 65, 60, 63, 5~\n",
      "$ math         \u001b[3m\u001b[90m<int>\u001b[39m\u001b[23m 41, 53, 54, 47, 57, 51, 42, 45, 54, 52, 51, 51, 71, 57, 5~\n",
      "$ science      \u001b[3m\u001b[90m<int>\u001b[39m\u001b[23m 47, 63, 58, 53, 53, 63, 53, 39, 58, 50, 53, 63, 61, 55, 3~\n",
      "$ socst        \u001b[3m\u001b[90m<int>\u001b[39m\u001b[23m 57, 61, 31, 56, 61, 61, 61, 36, 51, 51, 61, 61, 71, 46, 5~\n",
      "$ Caucasian    \u001b[3m\u001b[90m<dbl>\u001b[39m\u001b[23m 1, 1, 1, 1, 1, 1, 0, 0, 1, 0, 1, 1, 1, 1, 0, 1, 1, 1, 1, ~\n",
      "$ `African-Am` \u001b[3m\u001b[90m<dbl>\u001b[39m\u001b[23m 0, 0, 0, 0, 0, 0, 1, 0, 0, 1, 0, 0, 0, 0, 1, 0, 0, 0, 0, ~\n",
      "$ Asian        \u001b[3m\u001b[90m<dbl>\u001b[39m\u001b[23m 0, 0, 0, 0, 0, 0, 0, 0, 0, 0, 0, 0, 0, 0, 0, 0, 0, 0, 0, ~\n"
     ]
    }
   ],
   "source": [
    "hsb2 %>%\n",
    "  mutate(value = 1) %>%\n",
    "  pivot_wider(\n",
    "    names_from = race.f,\n",
    "    values_from = value,\n",
    "    values_fill = 0\n",
    "  ) %>%\n",
    "  select(-Hispanic) %>%\n",
    "  glimpse()"
   ]
  },
  {
   "cell_type": "code",
   "execution_count": 13,
   "id": "c7d72216",
   "metadata": {
    "vscode": {
     "languageId": "r"
    }
   },
   "outputs": [
    {
     "name": "stdout",
     "output_type": "stream",
     "text": [
      "Rows: 200\n",
      "Columns: 14\n",
      "$ id                \u001b[3m\u001b[90m<int>\u001b[39m\u001b[23m 70, 121, 86, 141, 172, 113, 50, 11, 84, 48, 75, 60, ~\n",
      "$ female            \u001b[3m\u001b[90m<int>\u001b[39m\u001b[23m 0, 1, 0, 0, 0, 0, 0, 0, 0, 0, 0, 0, 0, 0, 0, 0, 0, 0~\n",
      "$ race              \u001b[3m\u001b[90m<int>\u001b[39m\u001b[23m 4, 4, 4, 4, 4, 4, 3, 1, 4, 3, 4, 4, 4, 4, 3, 4, 4, 4~\n",
      "$ ses               \u001b[3m\u001b[90m<int>\u001b[39m\u001b[23m 1, 2, 3, 3, 2, 2, 2, 2, 2, 2, 2, 2, 3, 3, 1, 1, 3, 2~\n",
      "$ schtyp            \u001b[3m\u001b[90m<int>\u001b[39m\u001b[23m 1, 1, 1, 1, 1, 1, 1, 1, 1, 1, 1, 1, 1, 1, 1, 1, 1, 2~\n",
      "$ prog              \u001b[3m\u001b[90m<int>\u001b[39m\u001b[23m 1, 3, 1, 3, 2, 2, 1, 2, 1, 2, 3, 2, 2, 2, 2, 1, 2, 1~\n",
      "$ read              \u001b[3m\u001b[90m<int>\u001b[39m\u001b[23m 57, 68, 44, 63, 47, 44, 50, 34, 63, 57, 60, 57, 73, ~\n",
      "$ write             \u001b[3m\u001b[90m<int>\u001b[39m\u001b[23m 52, 59, 33, 44, 52, 52, 59, 46, 57, 55, 46, 65, 60, ~\n",
      "$ math              \u001b[3m\u001b[90m<int>\u001b[39m\u001b[23m 41, 53, 54, 47, 57, 51, 42, 45, 54, 52, 51, 51, 71, ~\n",
      "$ science           \u001b[3m\u001b[90m<int>\u001b[39m\u001b[23m 47, 63, 58, 53, 53, 63, 53, 39, 58, 50, 53, 63, 61, ~\n",
      "$ socst             \u001b[3m\u001b[90m<int>\u001b[39m\u001b[23m 57, 61, 31, 56, 61, 61, 61, 36, 51, 51, 61, 61, 71, ~\n",
      "$ race_Caucasian    \u001b[3m\u001b[90m<dbl>\u001b[39m\u001b[23m 0.75, 0.75, 0.75, 0.75, 0.75, 0.75, -0.25, -0.25, 0.~\n",
      "$ `race_African-Am` \u001b[3m\u001b[90m<dbl>\u001b[39m\u001b[23m -0.25, -0.25, -0.25, -0.25, -0.25, -0.25, 0.75, -0.2~\n",
      "$ race_Asian        \u001b[3m\u001b[90m<dbl>\u001b[39m\u001b[23m -0.25, -0.25, -0.25, -0.25, -0.25, -0.25, -0.25, -0.~\n"
     ]
    }
   ],
   "source": [
    "hsb2 %>%\n",
    "  mutate(value = 1) %>%\n",
    "  pivot_wider(\n",
    "    names_from = race.f,\n",
    "    values_from = value,\n",
    "    values_fill = 0,\n",
    "    names_prefix = \"race_\"\n",
    "  ) %>%\n",
    "  mutate(\n",
    "    across(starts_with(\"race_\"), \\(x) x - 1 / 4)\n",
    "  ) %>%\n",
    "  select(-race_Hispanic) %>%\n",
    "  glimpse()"
   ]
  },
  {
   "cell_type": "code",
   "execution_count": 15,
   "id": "e712b776",
   "metadata": {
    "vscode": {
     "languageId": "r"
    }
   },
   "outputs": [
    {
     "name": "stdout",
     "output_type": "stream",
     "text": [
      "Rows: 200\n",
      "Columns: 14\n",
      "$ id                \u001b[3m\u001b[90m<int>\u001b[39m\u001b[23m 70, 121, 86, 141, 172, 113, 50, 11, 84, 48, 75, 60, ~\n",
      "$ female            \u001b[3m\u001b[90m<int>\u001b[39m\u001b[23m 0, 1, 0, 0, 0, 0, 0, 0, 0, 0, 0, 0, 0, 0, 0, 0, 0, 0~\n",
      "$ race              \u001b[3m\u001b[90m<int>\u001b[39m\u001b[23m 4, 4, 4, 4, 4, 4, 3, 1, 4, 3, 4, 4, 4, 4, 3, 4, 4, 4~\n",
      "$ ses               \u001b[3m\u001b[90m<int>\u001b[39m\u001b[23m 1, 2, 3, 3, 2, 2, 2, 2, 2, 2, 2, 2, 3, 3, 1, 1, 3, 2~\n",
      "$ schtyp            \u001b[3m\u001b[90m<int>\u001b[39m\u001b[23m 1, 1, 1, 1, 1, 1, 1, 1, 1, 1, 1, 1, 1, 1, 1, 1, 1, 2~\n",
      "$ prog              \u001b[3m\u001b[90m<int>\u001b[39m\u001b[23m 1, 3, 1, 3, 2, 2, 1, 2, 1, 2, 3, 2, 2, 2, 2, 1, 2, 1~\n",
      "$ read              \u001b[3m\u001b[90m<int>\u001b[39m\u001b[23m 57, 68, 44, 63, 47, 44, 50, 34, 63, 57, 60, 57, 73, ~\n",
      "$ write             \u001b[3m\u001b[90m<int>\u001b[39m\u001b[23m 52, 59, 33, 44, 52, 52, 59, 46, 57, 55, 46, 65, 60, ~\n",
      "$ math              \u001b[3m\u001b[90m<int>\u001b[39m\u001b[23m 41, 53, 54, 47, 57, 51, 42, 45, 54, 52, 51, 51, 71, ~\n",
      "$ science           \u001b[3m\u001b[90m<int>\u001b[39m\u001b[23m 47, 63, 58, 53, 53, 63, 53, 39, 58, 50, 53, 63, 61, ~\n",
      "$ socst             \u001b[3m\u001b[90m<int>\u001b[39m\u001b[23m 57, 61, 31, 56, 61, 61, 61, 36, 51, 51, 61, 61, 71, ~\n",
      "$ race_Caucasian    \u001b[3m\u001b[90m<dbl>\u001b[39m\u001b[23m 1, 1, 1, 1, 1, 1, 0, -1, 1, 0, 1, 1, 1, 1, 0, 1, 1, ~\n",
      "$ `race_African-Am` \u001b[3m\u001b[90m<dbl>\u001b[39m\u001b[23m 0, 0, 0, 0, 0, 0, 1, -1, 0, 1, 0, 0, 0, 0, 1, 0, 0, ~\n",
      "$ race_Asian        \u001b[3m\u001b[90m<dbl>\u001b[39m\u001b[23m 0, 0, 0, 0, 0, 0, 0, -1, 0, 0, 0, 0, 0, 0, 0, 0, 0, ~\n"
     ]
    }
   ],
   "source": [
    "hsb2 %>%\n",
    "  mutate(\n",
    "    value = ifelse(race.f == \"Hispanic\", -1, 1)\n",
    "  ) %>%\n",
    "  pivot_wider(\n",
    "    names_from = race.f,\n",
    "    values_from = value,\n",
    "    values_fill = 0,\n",
    "    names_prefix = \"race_\"\n",
    "  ) %>%\n",
    "  # 对照组都是-1\n",
    "  mutate(\n",
    "    across(starts_with(\"race_\"), \\(x) x + race_Hispanic)\n",
    "  ) %>%\n",
    "  select(-race_Hispanic) %>%\n",
    "  glimpse()"
   ]
  },
  {
   "cell_type": "code",
   "execution_count": 16,
   "id": "127fcac1",
   "metadata": {
    "vscode": {
     "languageId": "r"
    }
   },
   "outputs": [
    {
     "data": {
      "text/html": [
       "<table class=\"dataframe\">\n",
       "<caption>A matrix: 4 x 3 of type dbl</caption>\n",
       "<thead>\n",
       "\t<tr><th></th><th scope=col>Asian</th><th scope=col>African-Am</th><th scope=col>Caucasian</th></tr>\n",
       "</thead>\n",
       "<tbody>\n",
       "\t<tr><th scope=row>Hispanic</th><td>0</td><td>0</td><td>0</td></tr>\n",
       "\t<tr><th scope=row>Asian</th><td>1</td><td>0</td><td>0</td></tr>\n",
       "\t<tr><th scope=row>African-Am</th><td>0</td><td>1</td><td>0</td></tr>\n",
       "\t<tr><th scope=row>Caucasian</th><td>0</td><td>0</td><td>1</td></tr>\n",
       "</tbody>\n",
       "</table>\n"
      ],
      "text/latex": [
       "A matrix: 4 x 3 of type dbl\n",
       "\\begin{tabular}{r|lll}\n",
       "  & Asian & African-Am & Caucasian\\\\\n",
       "\\hline\n",
       "\tHispanic & 0 & 0 & 0\\\\\n",
       "\tAsian & 1 & 0 & 0\\\\\n",
       "\tAfrican-Am & 0 & 1 & 0\\\\\n",
       "\tCaucasian & 0 & 0 & 1\\\\\n",
       "\\end{tabular}\n"
      ],
      "text/markdown": [
       "\n",
       "A matrix: 4 x 3 of type dbl\n",
       "\n",
       "| <!--/--> | Asian | African-Am | Caucasian |\n",
       "|---|---|---|---|\n",
       "| Hispanic | 0 | 0 | 0 |\n",
       "| Asian | 1 | 0 | 0 |\n",
       "| African-Am | 0 | 1 | 0 |\n",
       "| Caucasian | 0 | 0 | 1 |\n",
       "\n"
      ],
      "text/plain": [
       "           Asian African-Am Caucasian\n",
       "Hispanic   0     0          0        \n",
       "Asian      1     0          0        \n",
       "African-Am 0     1          0        \n",
       "Caucasian  0     0          1        "
      ]
     },
     "metadata": {},
     "output_type": "display_data"
    }
   ],
   "source": [
    "contrasts(hsb2$race.f)"
   ]
  },
  {
   "cell_type": "code",
   "execution_count": 17,
   "id": "f120069e",
   "metadata": {
    "vscode": {
     "languageId": "r"
    }
   },
   "outputs": [
    {
     "data": {
      "text/html": [
       "<table class=\"dataframe\">\n",
       "<caption>A matrix: 4 x 3 of type dbl</caption>\n",
       "<thead>\n",
       "\t<tr><th></th><th scope=col>Asian</th><th scope=col>African-Am</th><th scope=col>Caucasian</th></tr>\n",
       "</thead>\n",
       "<tbody>\n",
       "\t<tr><th scope=row>Hispanic</th><td>0</td><td>0</td><td>0</td></tr>\n",
       "\t<tr><th scope=row>Asian</th><td>1</td><td>0</td><td>0</td></tr>\n",
       "\t<tr><th scope=row>African-Am</th><td>0</td><td>1</td><td>0</td></tr>\n",
       "\t<tr><th scope=row>Caucasian</th><td>0</td><td>0</td><td>1</td></tr>\n",
       "</tbody>\n",
       "</table>\n"
      ],
      "text/latex": [
       "A matrix: 4 x 3 of type dbl\n",
       "\\begin{tabular}{r|lll}\n",
       "  & Asian & African-Am & Caucasian\\\\\n",
       "\\hline\n",
       "\tHispanic & 0 & 0 & 0\\\\\n",
       "\tAsian & 1 & 0 & 0\\\\\n",
       "\tAfrican-Am & 0 & 1 & 0\\\\\n",
       "\tCaucasian & 0 & 0 & 1\\\\\n",
       "\\end{tabular}\n"
      ],
      "text/markdown": [
       "\n",
       "A matrix: 4 x 3 of type dbl\n",
       "\n",
       "| <!--/--> | Asian | African-Am | Caucasian |\n",
       "|---|---|---|---|\n",
       "| Hispanic | 0 | 0 | 0 |\n",
       "| Asian | 1 | 0 | 0 |\n",
       "| African-Am | 0 | 1 | 0 |\n",
       "| Caucasian | 0 | 0 | 1 |\n",
       "\n"
      ],
      "text/plain": [
       "           Asian African-Am Caucasian\n",
       "Hispanic   0     0          0        \n",
       "Asian      1     0          0        \n",
       "African-Am 0     1          0        \n",
       "Caucasian  0     0          1        "
      ]
     },
     "metadata": {},
     "output_type": "display_data"
    }
   ],
   "source": [
    "# 和上面的比较矩阵一模一样的形式\n",
    "contrasts(hsb2$race.f)\n",
    "##            Asian African-Am Caucasian\n",
    "## Hispanic       0          0         0\n",
    "## Asian          1          0         0\n",
    "## African-Am     0          1         0\n",
    "## Caucasian      0          0         1"
   ]
  },
  {
   "cell_type": "code",
   "execution_count": null,
   "id": "543d3213",
   "metadata": {
    "vscode": {
     "languageId": "r"
    }
   },
   "outputs": [
    {
     "data": {
      "text/html": [
       "<table class=\"dataframe\">\n",
       "<caption>A matrix: 4 x 3 of type dbl</caption>\n",
       "<tbody>\n",
       "\t<tr><th scope=row>Hispanic</th><td> 1</td><td> 0</td><td> 0</td></tr>\n",
       "\t<tr><th scope=row>Asian</th><td> 0</td><td> 1</td><td> 0</td></tr>\n",
       "\t<tr><th scope=row>African-Am</th><td> 0</td><td> 0</td><td> 1</td></tr>\n",
       "\t<tr><th scope=row>Caucasian</th><td>-1</td><td>-1</td><td>-1</td></tr>\n",
       "</tbody>\n",
       "</table>\n"
      ],
      "text/latex": [
       "A matrix: 4 x 3 of type dbl\n",
       "\\begin{tabular}{r|lll}\n",
       "\tHispanic &  1 &  0 &  0\\\\\n",
       "\tAsian &  0 &  1 &  0\\\\\n",
       "\tAfrican-Am &  0 &  0 &  1\\\\\n",
       "\tCaucasian & -1 & -1 & -1\\\\\n",
       "\\end{tabular}\n"
      ],
      "text/markdown": [
       "\n",
       "A matrix: 4 x 3 of type dbl\n",
       "\n",
       "| Hispanic |  1 |  0 |  0 |\n",
       "| Asian |  0 |  1 |  0 |\n",
       "| African-Am |  0 |  0 |  1 |\n",
       "| Caucasian | -1 | -1 | -1 |\n",
       "\n"
      ],
      "text/plain": [
       "           [,1] [,2] [,3]\n",
       "Hispanic    1    0    0  \n",
       "Asian       0    1    0  \n",
       "African-Am  0    0    1  \n",
       "Caucasian  -1   -1   -1  "
      ]
     },
     "metadata": {},
     "output_type": "display_data"
    }
   ],
   "source": [
    "contrasts(hsb2$race.f) <- contr.sum(4)\n",
    "contrasts(hsb2$race.f)\n",
    "\n",
    "# [,1] [,2] [,3]\n",
    "# Hispanic    1    0    0  \n",
    "# Asian       0    1    0  \n",
    "# African-Am  0    0    1  \n",
    "# Caucasian  -1   -1   -1"
   ]
  },
  {
   "cell_type": "code",
   "execution_count": null,
   "id": "1e787b32",
   "metadata": {
    "vscode": {
     "languageId": "r"
    }
   },
   "outputs": [
    {
     "data": {
      "text/html": [
       "<table class=\"dataframe\">\n",
       "<caption>A matrix: 4 x 3 of type dbl</caption>\n",
       "<thead>\n",
       "\t<tr><th></th><th scope=col>.L</th><th scope=col>.Q</th><th scope=col>.C</th></tr>\n",
       "</thead>\n",
       "<tbody>\n",
       "\t<tr><th scope=row>(28,40]</th><td>-0.6708204</td><td> 0.5</td><td>-0.2236068</td></tr>\n",
       "\t<tr><th scope=row>(40,52]</th><td>-0.2236068</td><td>-0.5</td><td> 0.6708204</td></tr>\n",
       "\t<tr><th scope=row>(52,64]</th><td> 0.2236068</td><td>-0.5</td><td>-0.6708204</td></tr>\n",
       "\t<tr><th scope=row>(64,76]</th><td> 0.6708204</td><td> 0.5</td><td> 0.2236068</td></tr>\n",
       "</tbody>\n",
       "</table>\n"
      ],
      "text/latex": [
       "A matrix: 4 x 3 of type dbl\n",
       "\\begin{tabular}{r|lll}\n",
       "  & .L & .Q & .C\\\\\n",
       "\\hline\n",
       "\t(28,40{]} & -0.6708204 &  0.5 & -0.2236068\\\\\n",
       "\t(40,52{]} & -0.2236068 & -0.5 &  0.6708204\\\\\n",
       "\t(52,64{]} &  0.2236068 & -0.5 & -0.6708204\\\\\n",
       "\t(64,76{]} &  0.6708204 &  0.5 &  0.2236068\\\\\n",
       "\\end{tabular}\n"
      ],
      "text/markdown": [
       "\n",
       "A matrix: 4 x 3 of type dbl\n",
       "\n",
       "| <!--/--> | .L | .Q | .C |\n",
       "|---|---|---|---|\n",
       "| (28,40] | -0.6708204 |  0.5 | -0.2236068 |\n",
       "| (40,52] | -0.2236068 | -0.5 |  0.6708204 |\n",
       "| (52,64] |  0.2236068 | -0.5 | -0.6708204 |\n",
       "| (64,76] |  0.6708204 |  0.5 |  0.2236068 |\n",
       "\n"
      ],
      "text/plain": [
       "        .L         .Q   .C        \n",
       "(28,40] -0.6708204  0.5 -0.2236068\n",
       "(40,52] -0.2236068 -0.5  0.6708204\n",
       "(52,64]  0.2236068 -0.5 -0.6708204\n",
       "(64,76]  0.6708204  0.5  0.2236068"
      ]
     },
     "metadata": {},
     "output_type": "display_data"
    }
   ],
   "source": [
    "# 新建一列，根据read转换为有序因子\n",
    "hsb2$readcat <- cut(hsb2$read, 4, ordered = T)\n",
    "\n",
    "contrasts(hsb2$readcat) <- contr.poly(4)\n",
    "contrasts(hsb2$readcat)\n",
    "\n",
    "# .L         .Q   .C        \n",
    "# (28,40] -0.6708204  0.5 -0.2236068\n",
    "# (40,52] -0.2236068 -0.5  0.6708204\n",
    "# (52,64]  0.2236068 -0.5 -0.6708204\n",
    "# (64,76]  0.6708204  0.5  0.2236068"
   ]
  },
  {
   "cell_type": "code",
   "execution_count": null,
   "id": "59177520",
   "metadata": {
    "vscode": {
     "languageId": "r"
    }
   },
   "outputs": [
    {
     "data": {
      "text/html": [
       "<table class=\"dataframe\">\n",
       "<caption>A matrix: 4 x 3 of type dbl</caption>\n",
       "<tbody>\n",
       "\t<tr><th scope=row>Hispanic</th><td>-1</td><td>-1</td><td>-1</td></tr>\n",
       "\t<tr><th scope=row>Asian</th><td> 1</td><td>-1</td><td>-1</td></tr>\n",
       "\t<tr><th scope=row>African-Am</th><td> 0</td><td> 2</td><td>-1</td></tr>\n",
       "\t<tr><th scope=row>Caucasian</th><td> 0</td><td> 0</td><td> 3</td></tr>\n",
       "</tbody>\n",
       "</table>\n"
      ],
      "text/latex": [
       "A matrix: 4 x 3 of type dbl\n",
       "\\begin{tabular}{r|lll}\n",
       "\tHispanic & -1 & -1 & -1\\\\\n",
       "\tAsian &  1 & -1 & -1\\\\\n",
       "\tAfrican-Am &  0 &  2 & -1\\\\\n",
       "\tCaucasian &  0 &  0 &  3\\\\\n",
       "\\end{tabular}\n"
      ],
      "text/markdown": [
       "\n",
       "A matrix: 4 x 3 of type dbl\n",
       "\n",
       "| Hispanic | -1 | -1 | -1 |\n",
       "| Asian |  1 | -1 | -1 |\n",
       "| African-Am |  0 |  2 | -1 |\n",
       "| Caucasian |  0 |  0 |  3 |\n",
       "\n"
      ],
      "text/plain": [
       "           [,1] [,2] [,3]\n",
       "Hispanic   -1   -1   -1  \n",
       "Asian       1   -1   -1  \n",
       "African-Am  0    2   -1  \n",
       "Caucasian   0    0    3  "
      ]
     },
     "metadata": {},
     "output_type": "display_data"
    }
   ],
   "source": [
    "contrasts(hsb2$race.f) <- contr.helmert(4)\n",
    "contrasts(hsb2$race.f)\n",
    "\n",
    "# [,1] [,2] [,3]\n",
    "# Hispanic   -1   -1   -1  \n",
    "# Asian       1   -1   -1  \n",
    "# African-Am  0    2   -1  \n",
    "# Caucasian   0    0    3"
   ]
  },
  {
   "cell_type": "code",
   "execution_count": 25,
   "id": "8e10cc98",
   "metadata": {
    "vscode": {
     "languageId": "r"
    }
   },
   "outputs": [
    {
     "name": "stderr",
     "output_type": "stream",
     "text": [
      "Loading required package: mlr3\n",
      "\n"
     ]
    }
   ],
   "source": [
    "library(mlr3verse)"
   ]
  },
  {
   "cell_type": "code",
   "execution_count": 26,
   "id": "0d2b3aaa",
   "metadata": {
    "vscode": {
     "languageId": "r"
    }
   },
   "outputs": [
    {
     "data": {
      "text/html": [
       "<table class=\"dataframe\">\n",
       "<caption>A data.table: 6 x 15</caption>\n",
       "<thead>\n",
       "\t<tr><th scope=col>write</th><th scope=col>race.f.Asian</th><th scope=col>race.f.African.Am</th><th scope=col>race.f.Caucasian</th><th scope=col>female</th><th scope=col>id</th><th scope=col>math</th><th scope=col>prog</th><th scope=col>race</th><th scope=col>read</th><th scope=col>readcat</th><th scope=col>schtyp</th><th scope=col>science</th><th scope=col>ses</th><th scope=col>socst</th></tr>\n",
       "\t<tr><th scope=col>&lt;int&gt;</th><th scope=col>&lt;dbl&gt;</th><th scope=col>&lt;dbl&gt;</th><th scope=col>&lt;dbl&gt;</th><th scope=col>&lt;int&gt;</th><th scope=col>&lt;int&gt;</th><th scope=col>&lt;int&gt;</th><th scope=col>&lt;int&gt;</th><th scope=col>&lt;int&gt;</th><th scope=col>&lt;int&gt;</th><th scope=col>&lt;ord&gt;</th><th scope=col>&lt;int&gt;</th><th scope=col>&lt;int&gt;</th><th scope=col>&lt;int&gt;</th><th scope=col>&lt;int&gt;</th></tr>\n",
       "</thead>\n",
       "<tbody>\n",
       "\t<tr><td>52</td><td>0</td><td>0</td><td>1</td><td>0</td><td> 70</td><td>41</td><td>1</td><td>4</td><td>57</td><td>(52,64]</td><td>1</td><td>47</td><td>1</td><td>57</td></tr>\n",
       "\t<tr><td>59</td><td>0</td><td>0</td><td>1</td><td>1</td><td>121</td><td>53</td><td>3</td><td>4</td><td>68</td><td>(64,76]</td><td>1</td><td>63</td><td>2</td><td>61</td></tr>\n",
       "\t<tr><td>33</td><td>0</td><td>0</td><td>1</td><td>0</td><td> 86</td><td>54</td><td>1</td><td>4</td><td>44</td><td>(40,52]</td><td>1</td><td>58</td><td>3</td><td>31</td></tr>\n",
       "\t<tr><td>44</td><td>0</td><td>0</td><td>1</td><td>0</td><td>141</td><td>47</td><td>3</td><td>4</td><td>63</td><td>(52,64]</td><td>1</td><td>53</td><td>3</td><td>56</td></tr>\n",
       "\t<tr><td>52</td><td>0</td><td>0</td><td>1</td><td>0</td><td>172</td><td>57</td><td>2</td><td>4</td><td>47</td><td>(40,52]</td><td>1</td><td>53</td><td>2</td><td>61</td></tr>\n",
       "\t<tr><td>52</td><td>0</td><td>0</td><td>1</td><td>0</td><td>113</td><td>51</td><td>2</td><td>4</td><td>44</td><td>(40,52]</td><td>1</td><td>63</td><td>2</td><td>61</td></tr>\n",
       "</tbody>\n",
       "</table>\n"
      ],
      "text/latex": [
       "A data.table: 6 x 15\n",
       "\\begin{tabular}{lllllllllllllll}\n",
       " write & race.f.Asian & race.f.African.Am & race.f.Caucasian & female & id & math & prog & race & read & readcat & schtyp & science & ses & socst\\\\\n",
       " <int> & <dbl> & <dbl> & <dbl> & <int> & <int> & <int> & <int> & <int> & <int> & <ord> & <int> & <int> & <int> & <int>\\\\\n",
       "\\hline\n",
       "\t 52 & 0 & 0 & 1 & 0 &  70 & 41 & 1 & 4 & 57 & (52,64{]} & 1 & 47 & 1 & 57\\\\\n",
       "\t 59 & 0 & 0 & 1 & 1 & 121 & 53 & 3 & 4 & 68 & (64,76{]} & 1 & 63 & 2 & 61\\\\\n",
       "\t 33 & 0 & 0 & 1 & 0 &  86 & 54 & 1 & 4 & 44 & (40,52{]} & 1 & 58 & 3 & 31\\\\\n",
       "\t 44 & 0 & 0 & 1 & 0 & 141 & 47 & 3 & 4 & 63 & (52,64{]} & 1 & 53 & 3 & 56\\\\\n",
       "\t 52 & 0 & 0 & 1 & 0 & 172 & 57 & 2 & 4 & 47 & (40,52{]} & 1 & 53 & 2 & 61\\\\\n",
       "\t 52 & 0 & 0 & 1 & 0 & 113 & 51 & 2 & 4 & 44 & (40,52{]} & 1 & 63 & 2 & 61\\\\\n",
       "\\end{tabular}\n"
      ],
      "text/markdown": [
       "\n",
       "A data.table: 6 x 15\n",
       "\n",
       "| write &lt;int&gt; | race.f.Asian &lt;dbl&gt; | race.f.African.Am &lt;dbl&gt; | race.f.Caucasian &lt;dbl&gt; | female &lt;int&gt; | id &lt;int&gt; | math &lt;int&gt; | prog &lt;int&gt; | race &lt;int&gt; | read &lt;int&gt; | readcat &lt;ord&gt; | schtyp &lt;int&gt; | science &lt;int&gt; | ses &lt;int&gt; | socst &lt;int&gt; |\n",
       "|---|---|---|---|---|---|---|---|---|---|---|---|---|---|---|\n",
       "| 52 | 0 | 0 | 1 | 0 |  70 | 41 | 1 | 4 | 57 | (52,64] | 1 | 47 | 1 | 57 |\n",
       "| 59 | 0 | 0 | 1 | 1 | 121 | 53 | 3 | 4 | 68 | (64,76] | 1 | 63 | 2 | 61 |\n",
       "| 33 | 0 | 0 | 1 | 0 |  86 | 54 | 1 | 4 | 44 | (40,52] | 1 | 58 | 3 | 31 |\n",
       "| 44 | 0 | 0 | 1 | 0 | 141 | 47 | 3 | 4 | 63 | (52,64] | 1 | 53 | 3 | 56 |\n",
       "| 52 | 0 | 0 | 1 | 0 | 172 | 57 | 2 | 4 | 47 | (40,52] | 1 | 53 | 2 | 61 |\n",
       "| 52 | 0 | 0 | 1 | 0 | 113 | 51 | 2 | 4 | 44 | (40,52] | 1 | 63 | 2 | 61 |\n",
       "\n"
      ],
      "text/plain": [
       "  write race.f.Asian race.f.African.Am race.f.Caucasian female id  math prog\n",
       "1 52    0            0                 1                0       70 41   1   \n",
       "2 59    0            0                 1                1      121 53   3   \n",
       "3 33    0            0                 1                0       86 54   1   \n",
       "4 44    0            0                 1                0      141 47   3   \n",
       "5 52    0            0                 1                0      172 57   2   \n",
       "6 52    0            0                 1                0      113 51   2   \n",
       "  race read readcat schtyp science ses socst\n",
       "1 4    57   (52,64] 1      47      1   57   \n",
       "2 4    68   (64,76] 1      63      2   61   \n",
       "3 4    44   (40,52] 1      58      3   31   \n",
       "4 4    63   (52,64] 1      53      3   56   \n",
       "5 4    47   (40,52] 1      53      2   61   \n",
       "6 4    44   (40,52] 1      63      2   61   "
      ]
     },
     "metadata": {},
     "output_type": "display_data"
    }
   ],
   "source": [
    "tsk <- as_task_regr(hsb2, \"write\")\n",
    "\n",
    "gr <- po(\n",
    "  \"encode\",\n",
    "  method = \"treatment\",\n",
    "  # 选择需要编码的列\n",
    "  affect_columns = selector_name(\"race.f\")\n",
    ")\n",
    "\n",
    "gr$train(list(tsk))[[1]]$head()"
   ]
  },
  {
   "cell_type": "code",
   "execution_count": 27,
   "id": "42776bea",
   "metadata": {
    "vscode": {
     "languageId": "r"
    }
   },
   "outputs": [
    {
     "data": {
      "text/html": [
       "<table class=\"dataframe\">\n",
       "<caption>A data.table: 6 x 16</caption>\n",
       "<thead>\n",
       "\t<tr><th scope=col>write</th><th scope=col>race.f.Hispanic</th><th scope=col>race.f.Asian</th><th scope=col>race.f.African.Am</th><th scope=col>race.f.Caucasian</th><th scope=col>female</th><th scope=col>id</th><th scope=col>math</th><th scope=col>prog</th><th scope=col>race</th><th scope=col>read</th><th scope=col>readcat</th><th scope=col>schtyp</th><th scope=col>science</th><th scope=col>ses</th><th scope=col>socst</th></tr>\n",
       "\t<tr><th scope=col>&lt;int&gt;</th><th scope=col>&lt;dbl&gt;</th><th scope=col>&lt;dbl&gt;</th><th scope=col>&lt;dbl&gt;</th><th scope=col>&lt;dbl&gt;</th><th scope=col>&lt;int&gt;</th><th scope=col>&lt;int&gt;</th><th scope=col>&lt;int&gt;</th><th scope=col>&lt;int&gt;</th><th scope=col>&lt;int&gt;</th><th scope=col>&lt;int&gt;</th><th scope=col>&lt;ord&gt;</th><th scope=col>&lt;int&gt;</th><th scope=col>&lt;int&gt;</th><th scope=col>&lt;int&gt;</th><th scope=col>&lt;int&gt;</th></tr>\n",
       "</thead>\n",
       "<tbody>\n",
       "\t<tr><td>52</td><td>0</td><td>0</td><td>0</td><td>1</td><td>0</td><td> 70</td><td>41</td><td>1</td><td>4</td><td>57</td><td>(52,64]</td><td>1</td><td>47</td><td>1</td><td>57</td></tr>\n",
       "\t<tr><td>59</td><td>0</td><td>0</td><td>0</td><td>1</td><td>1</td><td>121</td><td>53</td><td>3</td><td>4</td><td>68</td><td>(64,76]</td><td>1</td><td>63</td><td>2</td><td>61</td></tr>\n",
       "\t<tr><td>33</td><td>0</td><td>0</td><td>0</td><td>1</td><td>0</td><td> 86</td><td>54</td><td>1</td><td>4</td><td>44</td><td>(40,52]</td><td>1</td><td>58</td><td>3</td><td>31</td></tr>\n",
       "\t<tr><td>44</td><td>0</td><td>0</td><td>0</td><td>1</td><td>0</td><td>141</td><td>47</td><td>3</td><td>4</td><td>63</td><td>(52,64]</td><td>1</td><td>53</td><td>3</td><td>56</td></tr>\n",
       "\t<tr><td>52</td><td>0</td><td>0</td><td>0</td><td>1</td><td>0</td><td>172</td><td>57</td><td>2</td><td>4</td><td>47</td><td>(40,52]</td><td>1</td><td>53</td><td>2</td><td>61</td></tr>\n",
       "\t<tr><td>52</td><td>0</td><td>0</td><td>0</td><td>1</td><td>0</td><td>113</td><td>51</td><td>2</td><td>4</td><td>44</td><td>(40,52]</td><td>1</td><td>63</td><td>2</td><td>61</td></tr>\n",
       "</tbody>\n",
       "</table>\n"
      ],
      "text/latex": [
       "A data.table: 6 x 16\n",
       "\\begin{tabular}{llllllllllllllll}\n",
       " write & race.f.Hispanic & race.f.Asian & race.f.African.Am & race.f.Caucasian & female & id & math & prog & race & read & readcat & schtyp & science & ses & socst\\\\\n",
       " <int> & <dbl> & <dbl> & <dbl> & <dbl> & <int> & <int> & <int> & <int> & <int> & <int> & <ord> & <int> & <int> & <int> & <int>\\\\\n",
       "\\hline\n",
       "\t 52 & 0 & 0 & 0 & 1 & 0 &  70 & 41 & 1 & 4 & 57 & (52,64{]} & 1 & 47 & 1 & 57\\\\\n",
       "\t 59 & 0 & 0 & 0 & 1 & 1 & 121 & 53 & 3 & 4 & 68 & (64,76{]} & 1 & 63 & 2 & 61\\\\\n",
       "\t 33 & 0 & 0 & 0 & 1 & 0 &  86 & 54 & 1 & 4 & 44 & (40,52{]} & 1 & 58 & 3 & 31\\\\\n",
       "\t 44 & 0 & 0 & 0 & 1 & 0 & 141 & 47 & 3 & 4 & 63 & (52,64{]} & 1 & 53 & 3 & 56\\\\\n",
       "\t 52 & 0 & 0 & 0 & 1 & 0 & 172 & 57 & 2 & 4 & 47 & (40,52{]} & 1 & 53 & 2 & 61\\\\\n",
       "\t 52 & 0 & 0 & 0 & 1 & 0 & 113 & 51 & 2 & 4 & 44 & (40,52{]} & 1 & 63 & 2 & 61\\\\\n",
       "\\end{tabular}\n"
      ],
      "text/markdown": [
       "\n",
       "A data.table: 6 x 16\n",
       "\n",
       "| write &lt;int&gt; | race.f.Hispanic &lt;dbl&gt; | race.f.Asian &lt;dbl&gt; | race.f.African.Am &lt;dbl&gt; | race.f.Caucasian &lt;dbl&gt; | female &lt;int&gt; | id &lt;int&gt; | math &lt;int&gt; | prog &lt;int&gt; | race &lt;int&gt; | read &lt;int&gt; | readcat &lt;ord&gt; | schtyp &lt;int&gt; | science &lt;int&gt; | ses &lt;int&gt; | socst &lt;int&gt; |\n",
       "|---|---|---|---|---|---|---|---|---|---|---|---|---|---|---|---|\n",
       "| 52 | 0 | 0 | 0 | 1 | 0 |  70 | 41 | 1 | 4 | 57 | (52,64] | 1 | 47 | 1 | 57 |\n",
       "| 59 | 0 | 0 | 0 | 1 | 1 | 121 | 53 | 3 | 4 | 68 | (64,76] | 1 | 63 | 2 | 61 |\n",
       "| 33 | 0 | 0 | 0 | 1 | 0 |  86 | 54 | 1 | 4 | 44 | (40,52] | 1 | 58 | 3 | 31 |\n",
       "| 44 | 0 | 0 | 0 | 1 | 0 | 141 | 47 | 3 | 4 | 63 | (52,64] | 1 | 53 | 3 | 56 |\n",
       "| 52 | 0 | 0 | 0 | 1 | 0 | 172 | 57 | 2 | 4 | 47 | (40,52] | 1 | 53 | 2 | 61 |\n",
       "| 52 | 0 | 0 | 0 | 1 | 0 | 113 | 51 | 2 | 4 | 44 | (40,52] | 1 | 63 | 2 | 61 |\n",
       "\n"
      ],
      "text/plain": [
       "  write race.f.Hispanic race.f.Asian race.f.African.Am race.f.Caucasian female\n",
       "1 52    0               0            0                 1                0     \n",
       "2 59    0               0            0                 1                1     \n",
       "3 33    0               0            0                 1                0     \n",
       "4 44    0               0            0                 1                0     \n",
       "5 52    0               0            0                 1                0     \n",
       "6 52    0               0            0                 1                0     \n",
       "  id  math prog race read readcat schtyp science ses socst\n",
       "1  70 41   1    4    57   (52,64] 1      47      1   57   \n",
       "2 121 53   3    4    68   (64,76] 1      63      2   61   \n",
       "3  86 54   1    4    44   (40,52] 1      58      3   31   \n",
       "4 141 47   3    4    63   (52,64] 1      53      3   56   \n",
       "5 172 57   2    4    47   (40,52] 1      53      2   61   \n",
       "6 113 51   2    4    44   (40,52] 1      63      2   61   "
      ]
     },
     "metadata": {},
     "output_type": "display_data"
    }
   ],
   "source": [
    "gr <- po(\n",
    "  \"encode\",\n",
    "  method = \"one-hot\",\n",
    "  # 选择需要编码的列\n",
    "  affect_columns = selector_name(\"race.f\")\n",
    ")\n",
    "\n",
    "gr$train(list(tsk))[[1]]$head()"
   ]
  },
  {
   "cell_type": "code",
   "execution_count": 28,
   "id": "7432100a",
   "metadata": {
    "vscode": {
     "languageId": "r"
    }
   },
   "outputs": [
    {
     "data": {
      "text/html": [
       "<table class=\"dataframe\">\n",
       "<caption>A data.table: 6 x 15</caption>\n",
       "<thead>\n",
       "\t<tr><th scope=col>write</th><th scope=col>race.f.1</th><th scope=col>race.f.2</th><th scope=col>race.f.3</th><th scope=col>female</th><th scope=col>id</th><th scope=col>math</th><th scope=col>prog</th><th scope=col>race</th><th scope=col>read</th><th scope=col>readcat</th><th scope=col>schtyp</th><th scope=col>science</th><th scope=col>ses</th><th scope=col>socst</th></tr>\n",
       "\t<tr><th scope=col>&lt;int&gt;</th><th scope=col>&lt;dbl&gt;</th><th scope=col>&lt;dbl&gt;</th><th scope=col>&lt;dbl&gt;</th><th scope=col>&lt;int&gt;</th><th scope=col>&lt;int&gt;</th><th scope=col>&lt;int&gt;</th><th scope=col>&lt;int&gt;</th><th scope=col>&lt;int&gt;</th><th scope=col>&lt;int&gt;</th><th scope=col>&lt;ord&gt;</th><th scope=col>&lt;int&gt;</th><th scope=col>&lt;int&gt;</th><th scope=col>&lt;int&gt;</th><th scope=col>&lt;int&gt;</th></tr>\n",
       "</thead>\n",
       "<tbody>\n",
       "\t<tr><td>52</td><td>-1</td><td>-1</td><td>-1</td><td>0</td><td> 70</td><td>41</td><td>1</td><td>4</td><td>57</td><td>(52,64]</td><td>1</td><td>47</td><td>1</td><td>57</td></tr>\n",
       "\t<tr><td>59</td><td>-1</td><td>-1</td><td>-1</td><td>1</td><td>121</td><td>53</td><td>3</td><td>4</td><td>68</td><td>(64,76]</td><td>1</td><td>63</td><td>2</td><td>61</td></tr>\n",
       "\t<tr><td>33</td><td>-1</td><td>-1</td><td>-1</td><td>0</td><td> 86</td><td>54</td><td>1</td><td>4</td><td>44</td><td>(40,52]</td><td>1</td><td>58</td><td>3</td><td>31</td></tr>\n",
       "\t<tr><td>44</td><td>-1</td><td>-1</td><td>-1</td><td>0</td><td>141</td><td>47</td><td>3</td><td>4</td><td>63</td><td>(52,64]</td><td>1</td><td>53</td><td>3</td><td>56</td></tr>\n",
       "\t<tr><td>52</td><td>-1</td><td>-1</td><td>-1</td><td>0</td><td>172</td><td>57</td><td>2</td><td>4</td><td>47</td><td>(40,52]</td><td>1</td><td>53</td><td>2</td><td>61</td></tr>\n",
       "\t<tr><td>52</td><td>-1</td><td>-1</td><td>-1</td><td>0</td><td>113</td><td>51</td><td>2</td><td>4</td><td>44</td><td>(40,52]</td><td>1</td><td>63</td><td>2</td><td>61</td></tr>\n",
       "</tbody>\n",
       "</table>\n"
      ],
      "text/latex": [
       "A data.table: 6 x 15\n",
       "\\begin{tabular}{lllllllllllllll}\n",
       " write & race.f.1 & race.f.2 & race.f.3 & female & id & math & prog & race & read & readcat & schtyp & science & ses & socst\\\\\n",
       " <int> & <dbl> & <dbl> & <dbl> & <int> & <int> & <int> & <int> & <int> & <int> & <ord> & <int> & <int> & <int> & <int>\\\\\n",
       "\\hline\n",
       "\t 52 & -1 & -1 & -1 & 0 &  70 & 41 & 1 & 4 & 57 & (52,64{]} & 1 & 47 & 1 & 57\\\\\n",
       "\t 59 & -1 & -1 & -1 & 1 & 121 & 53 & 3 & 4 & 68 & (64,76{]} & 1 & 63 & 2 & 61\\\\\n",
       "\t 33 & -1 & -1 & -1 & 0 &  86 & 54 & 1 & 4 & 44 & (40,52{]} & 1 & 58 & 3 & 31\\\\\n",
       "\t 44 & -1 & -1 & -1 & 0 & 141 & 47 & 3 & 4 & 63 & (52,64{]} & 1 & 53 & 3 & 56\\\\\n",
       "\t 52 & -1 & -1 & -1 & 0 & 172 & 57 & 2 & 4 & 47 & (40,52{]} & 1 & 53 & 2 & 61\\\\\n",
       "\t 52 & -1 & -1 & -1 & 0 & 113 & 51 & 2 & 4 & 44 & (40,52{]} & 1 & 63 & 2 & 61\\\\\n",
       "\\end{tabular}\n"
      ],
      "text/markdown": [
       "\n",
       "A data.table: 6 x 15\n",
       "\n",
       "| write &lt;int&gt; | race.f.1 &lt;dbl&gt; | race.f.2 &lt;dbl&gt; | race.f.3 &lt;dbl&gt; | female &lt;int&gt; | id &lt;int&gt; | math &lt;int&gt; | prog &lt;int&gt; | race &lt;int&gt; | read &lt;int&gt; | readcat &lt;ord&gt; | schtyp &lt;int&gt; | science &lt;int&gt; | ses &lt;int&gt; | socst &lt;int&gt; |\n",
       "|---|---|---|---|---|---|---|---|---|---|---|---|---|---|---|\n",
       "| 52 | -1 | -1 | -1 | 0 |  70 | 41 | 1 | 4 | 57 | (52,64] | 1 | 47 | 1 | 57 |\n",
       "| 59 | -1 | -1 | -1 | 1 | 121 | 53 | 3 | 4 | 68 | (64,76] | 1 | 63 | 2 | 61 |\n",
       "| 33 | -1 | -1 | -1 | 0 |  86 | 54 | 1 | 4 | 44 | (40,52] | 1 | 58 | 3 | 31 |\n",
       "| 44 | -1 | -1 | -1 | 0 | 141 | 47 | 3 | 4 | 63 | (52,64] | 1 | 53 | 3 | 56 |\n",
       "| 52 | -1 | -1 | -1 | 0 | 172 | 57 | 2 | 4 | 47 | (40,52] | 1 | 53 | 2 | 61 |\n",
       "| 52 | -1 | -1 | -1 | 0 | 113 | 51 | 2 | 4 | 44 | (40,52] | 1 | 63 | 2 | 61 |\n",
       "\n"
      ],
      "text/plain": [
       "  write race.f.1 race.f.2 race.f.3 female id  math prog race read readcat\n",
       "1 52    -1       -1       -1       0       70 41   1    4    57   (52,64]\n",
       "2 59    -1       -1       -1       1      121 53   3    4    68   (64,76]\n",
       "3 33    -1       -1       -1       0       86 54   1    4    44   (40,52]\n",
       "4 44    -1       -1       -1       0      141 47   3    4    63   (52,64]\n",
       "5 52    -1       -1       -1       0      172 57   2    4    47   (40,52]\n",
       "6 52    -1       -1       -1       0      113 51   2    4    44   (40,52]\n",
       "  schtyp science ses socst\n",
       "1 1      47      1   57   \n",
       "2 1      63      2   61   \n",
       "3 1      58      3   31   \n",
       "4 1      53      3   56   \n",
       "5 1      53      2   61   \n",
       "6 1      63      2   61   "
      ]
     },
     "metadata": {},
     "output_type": "display_data"
    }
   ],
   "source": [
    "gr <- po(\n",
    "  \"encode\",\n",
    "  method = \"sum\",\n",
    "  # 选择需要编码的列\n",
    "  affect_columns = selector_name(\"race.f\")\n",
    ")\n",
    "\n",
    "gr$train(list(tsk))[[1]]$head()"
   ]
  },
  {
   "cell_type": "code",
   "execution_count": 30,
   "id": "1e838a25",
   "metadata": {
    "vscode": {
     "languageId": "r"
    }
   },
   "outputs": [
    {
     "data": {
      "text/html": [
       "<table class=\"dataframe\">\n",
       "<caption>A data.table: 6 x 15</caption>\n",
       "<thead>\n",
       "\t<tr><th scope=col>write</th><th scope=col>race.f.1</th><th scope=col>race.f.2</th><th scope=col>race.f.3</th><th scope=col>female</th><th scope=col>id</th><th scope=col>math</th><th scope=col>prog</th><th scope=col>race</th><th scope=col>read</th><th scope=col>readcat</th><th scope=col>schtyp</th><th scope=col>science</th><th scope=col>ses</th><th scope=col>socst</th></tr>\n",
       "\t<tr><th scope=col>&lt;int&gt;</th><th scope=col>&lt;dbl&gt;</th><th scope=col>&lt;dbl&gt;</th><th scope=col>&lt;dbl&gt;</th><th scope=col>&lt;int&gt;</th><th scope=col>&lt;int&gt;</th><th scope=col>&lt;int&gt;</th><th scope=col>&lt;int&gt;</th><th scope=col>&lt;int&gt;</th><th scope=col>&lt;int&gt;</th><th scope=col>&lt;ord&gt;</th><th scope=col>&lt;int&gt;</th><th scope=col>&lt;int&gt;</th><th scope=col>&lt;int&gt;</th><th scope=col>&lt;int&gt;</th></tr>\n",
       "</thead>\n",
       "<tbody>\n",
       "\t<tr><td>52</td><td>0.6708204</td><td>0.5</td><td>0.2236068</td><td>0</td><td> 70</td><td>41</td><td>1</td><td>4</td><td>57</td><td>(52,64]</td><td>1</td><td>47</td><td>1</td><td>57</td></tr>\n",
       "\t<tr><td>59</td><td>0.6708204</td><td>0.5</td><td>0.2236068</td><td>1</td><td>121</td><td>53</td><td>3</td><td>4</td><td>68</td><td>(64,76]</td><td>1</td><td>63</td><td>2</td><td>61</td></tr>\n",
       "\t<tr><td>33</td><td>0.6708204</td><td>0.5</td><td>0.2236068</td><td>0</td><td> 86</td><td>54</td><td>1</td><td>4</td><td>44</td><td>(40,52]</td><td>1</td><td>58</td><td>3</td><td>31</td></tr>\n",
       "\t<tr><td>44</td><td>0.6708204</td><td>0.5</td><td>0.2236068</td><td>0</td><td>141</td><td>47</td><td>3</td><td>4</td><td>63</td><td>(52,64]</td><td>1</td><td>53</td><td>3</td><td>56</td></tr>\n",
       "\t<tr><td>52</td><td>0.6708204</td><td>0.5</td><td>0.2236068</td><td>0</td><td>172</td><td>57</td><td>2</td><td>4</td><td>47</td><td>(40,52]</td><td>1</td><td>53</td><td>2</td><td>61</td></tr>\n",
       "\t<tr><td>52</td><td>0.6708204</td><td>0.5</td><td>0.2236068</td><td>0</td><td>113</td><td>51</td><td>2</td><td>4</td><td>44</td><td>(40,52]</td><td>1</td><td>63</td><td>2</td><td>61</td></tr>\n",
       "</tbody>\n",
       "</table>\n"
      ],
      "text/latex": [
       "A data.table: 6 x 15\n",
       "\\begin{tabular}{lllllllllllllll}\n",
       " write & race.f.1 & race.f.2 & race.f.3 & female & id & math & prog & race & read & readcat & schtyp & science & ses & socst\\\\\n",
       " <int> & <dbl> & <dbl> & <dbl> & <int> & <int> & <int> & <int> & <int> & <int> & <ord> & <int> & <int> & <int> & <int>\\\\\n",
       "\\hline\n",
       "\t 52 & 0.6708204 & 0.5 & 0.2236068 & 0 &  70 & 41 & 1 & 4 & 57 & (52,64{]} & 1 & 47 & 1 & 57\\\\\n",
       "\t 59 & 0.6708204 & 0.5 & 0.2236068 & 1 & 121 & 53 & 3 & 4 & 68 & (64,76{]} & 1 & 63 & 2 & 61\\\\\n",
       "\t 33 & 0.6708204 & 0.5 & 0.2236068 & 0 &  86 & 54 & 1 & 4 & 44 & (40,52{]} & 1 & 58 & 3 & 31\\\\\n",
       "\t 44 & 0.6708204 & 0.5 & 0.2236068 & 0 & 141 & 47 & 3 & 4 & 63 & (52,64{]} & 1 & 53 & 3 & 56\\\\\n",
       "\t 52 & 0.6708204 & 0.5 & 0.2236068 & 0 & 172 & 57 & 2 & 4 & 47 & (40,52{]} & 1 & 53 & 2 & 61\\\\\n",
       "\t 52 & 0.6708204 & 0.5 & 0.2236068 & 0 & 113 & 51 & 2 & 4 & 44 & (40,52{]} & 1 & 63 & 2 & 61\\\\\n",
       "\\end{tabular}\n"
      ],
      "text/markdown": [
       "\n",
       "A data.table: 6 x 15\n",
       "\n",
       "| write &lt;int&gt; | race.f.1 &lt;dbl&gt; | race.f.2 &lt;dbl&gt; | race.f.3 &lt;dbl&gt; | female &lt;int&gt; | id &lt;int&gt; | math &lt;int&gt; | prog &lt;int&gt; | race &lt;int&gt; | read &lt;int&gt; | readcat &lt;ord&gt; | schtyp &lt;int&gt; | science &lt;int&gt; | ses &lt;int&gt; | socst &lt;int&gt; |\n",
       "|---|---|---|---|---|---|---|---|---|---|---|---|---|---|---|\n",
       "| 52 | 0.6708204 | 0.5 | 0.2236068 | 0 |  70 | 41 | 1 | 4 | 57 | (52,64] | 1 | 47 | 1 | 57 |\n",
       "| 59 | 0.6708204 | 0.5 | 0.2236068 | 1 | 121 | 53 | 3 | 4 | 68 | (64,76] | 1 | 63 | 2 | 61 |\n",
       "| 33 | 0.6708204 | 0.5 | 0.2236068 | 0 |  86 | 54 | 1 | 4 | 44 | (40,52] | 1 | 58 | 3 | 31 |\n",
       "| 44 | 0.6708204 | 0.5 | 0.2236068 | 0 | 141 | 47 | 3 | 4 | 63 | (52,64] | 1 | 53 | 3 | 56 |\n",
       "| 52 | 0.6708204 | 0.5 | 0.2236068 | 0 | 172 | 57 | 2 | 4 | 47 | (40,52] | 1 | 53 | 2 | 61 |\n",
       "| 52 | 0.6708204 | 0.5 | 0.2236068 | 0 | 113 | 51 | 2 | 4 | 44 | (40,52] | 1 | 63 | 2 | 61 |\n",
       "\n"
      ],
      "text/plain": [
       "  write race.f.1  race.f.2 race.f.3  female id  math prog race read readcat\n",
       "1 52    0.6708204 0.5      0.2236068 0       70 41   1    4    57   (52,64]\n",
       "2 59    0.6708204 0.5      0.2236068 1      121 53   3    4    68   (64,76]\n",
       "3 33    0.6708204 0.5      0.2236068 0       86 54   1    4    44   (40,52]\n",
       "4 44    0.6708204 0.5      0.2236068 0      141 47   3    4    63   (52,64]\n",
       "5 52    0.6708204 0.5      0.2236068 0      172 57   2    4    47   (40,52]\n",
       "6 52    0.6708204 0.5      0.2236068 0      113 51   2    4    44   (40,52]\n",
       "  schtyp science ses socst\n",
       "1 1      47      1   57   \n",
       "2 1      63      2   61   \n",
       "3 1      58      3   31   \n",
       "4 1      53      3   56   \n",
       "5 1      53      2   61   \n",
       "6 1      63      2   61   "
      ]
     },
     "metadata": {},
     "output_type": "display_data"
    }
   ],
   "source": [
    "gr <- po(\n",
    "  \"encode\",\n",
    "  method = \"poly\",\n",
    "  # 选择需要编码的列\n",
    "  affect_columns = selector_name(\"race.f\")\n",
    ")\n",
    "\n",
    "gr$train(list(tsk))[[1]]$head()"
   ]
  },
  {
   "cell_type": "code",
   "execution_count": 31,
   "id": "22c5e6b7",
   "metadata": {
    "vscode": {
     "languageId": "r"
    }
   },
   "outputs": [
    {
     "data": {
      "text/html": [
       "<table class=\"dataframe\">\n",
       "<caption>A data.table: 6 x 15</caption>\n",
       "<thead>\n",
       "\t<tr><th scope=col>write</th><th scope=col>race.f.1</th><th scope=col>race.f.2</th><th scope=col>race.f.3</th><th scope=col>female</th><th scope=col>id</th><th scope=col>math</th><th scope=col>prog</th><th scope=col>race</th><th scope=col>read</th><th scope=col>readcat</th><th scope=col>schtyp</th><th scope=col>science</th><th scope=col>ses</th><th scope=col>socst</th></tr>\n",
       "\t<tr><th scope=col>&lt;int&gt;</th><th scope=col>&lt;dbl&gt;</th><th scope=col>&lt;dbl&gt;</th><th scope=col>&lt;dbl&gt;</th><th scope=col>&lt;int&gt;</th><th scope=col>&lt;int&gt;</th><th scope=col>&lt;int&gt;</th><th scope=col>&lt;int&gt;</th><th scope=col>&lt;int&gt;</th><th scope=col>&lt;int&gt;</th><th scope=col>&lt;ord&gt;</th><th scope=col>&lt;int&gt;</th><th scope=col>&lt;int&gt;</th><th scope=col>&lt;int&gt;</th><th scope=col>&lt;int&gt;</th></tr>\n",
       "</thead>\n",
       "<tbody>\n",
       "\t<tr><td>52</td><td>0</td><td>0</td><td>3</td><td>0</td><td> 70</td><td>41</td><td>1</td><td>4</td><td>57</td><td>(52,64]</td><td>1</td><td>47</td><td>1</td><td>57</td></tr>\n",
       "\t<tr><td>59</td><td>0</td><td>0</td><td>3</td><td>1</td><td>121</td><td>53</td><td>3</td><td>4</td><td>68</td><td>(64,76]</td><td>1</td><td>63</td><td>2</td><td>61</td></tr>\n",
       "\t<tr><td>33</td><td>0</td><td>0</td><td>3</td><td>0</td><td> 86</td><td>54</td><td>1</td><td>4</td><td>44</td><td>(40,52]</td><td>1</td><td>58</td><td>3</td><td>31</td></tr>\n",
       "\t<tr><td>44</td><td>0</td><td>0</td><td>3</td><td>0</td><td>141</td><td>47</td><td>3</td><td>4</td><td>63</td><td>(52,64]</td><td>1</td><td>53</td><td>3</td><td>56</td></tr>\n",
       "\t<tr><td>52</td><td>0</td><td>0</td><td>3</td><td>0</td><td>172</td><td>57</td><td>2</td><td>4</td><td>47</td><td>(40,52]</td><td>1</td><td>53</td><td>2</td><td>61</td></tr>\n",
       "\t<tr><td>52</td><td>0</td><td>0</td><td>3</td><td>0</td><td>113</td><td>51</td><td>2</td><td>4</td><td>44</td><td>(40,52]</td><td>1</td><td>63</td><td>2</td><td>61</td></tr>\n",
       "</tbody>\n",
       "</table>\n"
      ],
      "text/latex": [
       "A data.table: 6 x 15\n",
       "\\begin{tabular}{lllllllllllllll}\n",
       " write & race.f.1 & race.f.2 & race.f.3 & female & id & math & prog & race & read & readcat & schtyp & science & ses & socst\\\\\n",
       " <int> & <dbl> & <dbl> & <dbl> & <int> & <int> & <int> & <int> & <int> & <int> & <ord> & <int> & <int> & <int> & <int>\\\\\n",
       "\\hline\n",
       "\t 52 & 0 & 0 & 3 & 0 &  70 & 41 & 1 & 4 & 57 & (52,64{]} & 1 & 47 & 1 & 57\\\\\n",
       "\t 59 & 0 & 0 & 3 & 1 & 121 & 53 & 3 & 4 & 68 & (64,76{]} & 1 & 63 & 2 & 61\\\\\n",
       "\t 33 & 0 & 0 & 3 & 0 &  86 & 54 & 1 & 4 & 44 & (40,52{]} & 1 & 58 & 3 & 31\\\\\n",
       "\t 44 & 0 & 0 & 3 & 0 & 141 & 47 & 3 & 4 & 63 & (52,64{]} & 1 & 53 & 3 & 56\\\\\n",
       "\t 52 & 0 & 0 & 3 & 0 & 172 & 57 & 2 & 4 & 47 & (40,52{]} & 1 & 53 & 2 & 61\\\\\n",
       "\t 52 & 0 & 0 & 3 & 0 & 113 & 51 & 2 & 4 & 44 & (40,52{]} & 1 & 63 & 2 & 61\\\\\n",
       "\\end{tabular}\n"
      ],
      "text/markdown": [
       "\n",
       "A data.table: 6 x 15\n",
       "\n",
       "| write &lt;int&gt; | race.f.1 &lt;dbl&gt; | race.f.2 &lt;dbl&gt; | race.f.3 &lt;dbl&gt; | female &lt;int&gt; | id &lt;int&gt; | math &lt;int&gt; | prog &lt;int&gt; | race &lt;int&gt; | read &lt;int&gt; | readcat &lt;ord&gt; | schtyp &lt;int&gt; | science &lt;int&gt; | ses &lt;int&gt; | socst &lt;int&gt; |\n",
       "|---|---|---|---|---|---|---|---|---|---|---|---|---|---|---|\n",
       "| 52 | 0 | 0 | 3 | 0 |  70 | 41 | 1 | 4 | 57 | (52,64] | 1 | 47 | 1 | 57 |\n",
       "| 59 | 0 | 0 | 3 | 1 | 121 | 53 | 3 | 4 | 68 | (64,76] | 1 | 63 | 2 | 61 |\n",
       "| 33 | 0 | 0 | 3 | 0 |  86 | 54 | 1 | 4 | 44 | (40,52] | 1 | 58 | 3 | 31 |\n",
       "| 44 | 0 | 0 | 3 | 0 | 141 | 47 | 3 | 4 | 63 | (52,64] | 1 | 53 | 3 | 56 |\n",
       "| 52 | 0 | 0 | 3 | 0 | 172 | 57 | 2 | 4 | 47 | (40,52] | 1 | 53 | 2 | 61 |\n",
       "| 52 | 0 | 0 | 3 | 0 | 113 | 51 | 2 | 4 | 44 | (40,52] | 1 | 63 | 2 | 61 |\n",
       "\n"
      ],
      "text/plain": [
       "  write race.f.1 race.f.2 race.f.3 female id  math prog race read readcat\n",
       "1 52    0        0        3        0       70 41   1    4    57   (52,64]\n",
       "2 59    0        0        3        1      121 53   3    4    68   (64,76]\n",
       "3 33    0        0        3        0       86 54   1    4    44   (40,52]\n",
       "4 44    0        0        3        0      141 47   3    4    63   (52,64]\n",
       "5 52    0        0        3        0      172 57   2    4    47   (40,52]\n",
       "6 52    0        0        3        0      113 51   2    4    44   (40,52]\n",
       "  schtyp science ses socst\n",
       "1 1      47      1   57   \n",
       "2 1      63      2   61   \n",
       "3 1      58      3   31   \n",
       "4 1      53      3   56   \n",
       "5 1      53      2   61   \n",
       "6 1      63      2   61   "
      ]
     },
     "metadata": {},
     "output_type": "display_data"
    }
   ],
   "source": [
    "gr <- po(\n",
    "  \"encode\",\n",
    "  method = \"helmert\",\n",
    "  # 选择需要编码的列\n",
    "  affect_columns = selector_name(\"race.f\")\n",
    ")\n",
    "\n",
    "gr$train(list(tsk))[[1]]$head()"
   ]
  },
  {
   "cell_type": "code",
   "execution_count": 35,
   "id": "4a64c141",
   "metadata": {
    "vscode": {
     "languageId": "r"
    }
   },
   "outputs": [
    {
     "ename": "ERROR",
     "evalue": "Error in self$assert(xs, sanitize = TRUE): Assertion on 'xs' failed: method: Must be element of set {'one-hot','treatment','helmert','poly','sum'}, but is 'impact'.\n",
     "output_type": "error",
     "traceback": [
      "Error in self$assert(xs, sanitize = TRUE): Assertion on 'xs' failed: method: Must be element of set {'one-hot','treatment','helmert','poly','sum'}, but is 'impact'.\nTraceback:\n",
      "1. po.character(\"encode\", method = \"impact\", affect_columns = selector_name(\"race.f\"))",
      "2. dictionary_sugar_inc_get(dict = mlr_pipeops, .key = .obj, ..., \n .     .dicts_suggest = list(`ppl()` = mlr_graphs))",
      "3. dictionary_sugar_get(dict = dict, .key = .key, ..., .dicts_suggest = .dicts_suggest)",
      "4. (function (xs) \n . .__ParamSet__values(self = self, private = private, super = super, \n .     xs = xs))(base::quote(list(method = \"impact\", affect_columns = structure(function (task) \n . {\n .     if (assert_present) {\n .         assert_subset(feature_names, task$feature_names)\n .     }\n .     intersect(task$feature_names, feature_names)\n . }, repr = \"selector_name(\\\"race.f\\\")\", class = c(\"Selector\", \n . \"function\")))))",
      "5. .__ParamSet__values(self = self, private = private, super = super, \n .     xs = xs)",
      "6. self$assert(xs, sanitize = TRUE)",
      "7. .__ParamSet__assert(self = self, private = private, super = super, \n .     xs = xs, check_strict = check_strict, .var.name = .var.name, \n .     sanitize = sanitize)",
      "8. makeAssertion(if (sanitize) attr(checkresult, \"sanitized\") else xs, \n .     checkresult, .var.name, NULL)",
      "9. mstop(\"Assertion on '%s' failed: %s.\", var.name, res, call. = sys.call(-2L))",
      "10. stop(simpleError(sprintf(msg, ...), call.))"
     ]
    }
   ],
   "source": [
    "gr <- po(\n",
    "  \"encode\",\n",
    "  method = \"impact\",\n",
    "  # 选择需要编码的列\n",
    "  affect_columns = selector_name(\"race.f\")\n",
    ")\n",
    "\n",
    "gr$train(list(tsk))[[1]]$head()"
   ]
  },
  {
   "cell_type": "code",
   "execution_count": null,
   "id": "76998874",
   "metadata": {
    "vscode": {
     "languageId": "r"
    }
   },
   "outputs": [],
   "source": [
    "tsk_iris <- tsk(\"iris\")\n",
    "gr <- po(\"\")"
   ]
  },
  {
   "cell_type": "code",
   "execution_count": 37,
   "id": "353de980",
   "metadata": {
    "vscode": {
     "languageId": "r"
    }
   },
   "outputs": [],
   "source": [
    "library(mlr3verse)"
   ]
  },
  {
   "cell_type": "code",
   "execution_count": 44,
   "id": "2b603992",
   "metadata": {
    "vscode": {
     "languageId": "r"
    }
   },
   "outputs": [
    {
     "data": {
      "text/plain": [
       "<ParamSet(6)>\n",
       "               id    class lower upper nlevels        default  value\n",
       "           <char>   <char> <num> <num>   <num>         <list> <list>\n",
       "1:         kernel ParamFct    NA    NA       8         rbfdot [NULL]\n",
       "2:           kpar ParamUty    NA    NA     Inf <NoDefault[0]> [NULL]\n",
       "3:       features ParamInt     0   Inf     Inf              0 [NULL]\n",
       "4:             th ParamDbl     0   Inf     Inf          1e-04 [NULL]\n",
       "5:      na.action ParamUty    NA    NA     Inf  <function[1]> [NULL]\n",
       "6: affect_columns ParamUty    NA    NA     Inf  <Selector[1]> [NULL]"
      ]
     },
     "metadata": {},
     "output_type": "display_data"
    }
   ],
   "source": [
    "po <- po(\"kernelpca\")\n",
    "\n",
    "po$param_set"
   ]
  },
  {
   "cell_type": "code",
   "execution_count": 45,
   "id": "795184dd",
   "metadata": {
    "vscode": {
     "languageId": "r"
    }
   },
   "outputs": [
    {
     "data": {
      "text/plain": [
       "\n",
       "good  bad \n",
       " 300  300 "
      ]
     },
     "metadata": {},
     "output_type": "display_data"
    }
   ],
   "source": [
    "library(mlr3pipelines)\n",
    "tsk <- tsk(\"german_credit\")  # 二分类任务\n",
    "\n",
    "# 创建类别平衡管道，目标是完全平衡\n",
    "gr <- po(\"classbalancing\", ratio = 1, reference = \"minor\", adjust = \"all\")\n",
    "\n",
    "# 应用于任务\n",
    "tsk_balanced <- gr$train(list(tsk))[[1]]\n",
    "\n",
    "# 查看类别分布\n",
    "table(tsk_balanced$data()[[tsk_balanced$target_names]])"
   ]
  },
  {
   "cell_type": "code",
   "execution_count": null,
   "id": "96316577",
   "metadata": {
    "vscode": {
     "languageId": "r"
    }
   },
   "outputs": [
    {
     "data": {
      "text/plain": [
       "\n",
       "good  bad \n",
       " 300  300 "
      ]
     },
     "metadata": {},
     "output_type": "display_data"
    }
   ],
   "source": [
    "library(mlr3pipelines)\n",
    "tsk <- tsk(\"german_credit\")  # 二分类任务\n",
    "\n",
    "# 只对多数类进行欠采样，使其与少数类数量相等\n",
    "gr <- po(\"classbalancing\", ratio = 1, reference = \"minor\", adjust = \"major\")\n",
    "\n",
    "tsk_balanced <- gr$train(list(tsk))[[1]]\n",
    "\n",
    "# 查看类别分布\n",
    "table(tsk_balanced$data()[[tsk_balanced$target_names]])\n",
    "\n",
    "# good  bad \n",
    "#  300  300"
   ]
  },
  {
   "cell_type": "code",
   "execution_count": null,
   "id": "48ba4f38",
   "metadata": {
    "vscode": {
     "languageId": "r"
    }
   },
   "outputs": [
    {
     "data": {
      "text/plain": [
       "\n",
       "good  bad \n",
       " 700  700 "
      ]
     },
     "metadata": {},
     "output_type": "display_data"
    }
   ],
   "source": [
    "library(mlr3pipelines)\n",
    "tsk <- tsk(\"german_credit\")  # 二分类任务\n",
    "\n",
    "# 只对少数类进行过采样，使其与多数类数量相等\n",
    "gr <- po(\"classbalancing\", ratio = 1, reference = \"major\", adjust = \"minor\")\n",
    "\n",
    "tsk_balanced <- gr$train(list(tsk))[[1]]\n",
    "\n",
    "# 查看类别分布\n",
    "table(tsk_balanced$data()[[tsk_balanced$target_names]])\n",
    "\n",
    "# good  bad \n",
    "#  700  700"
   ]
  },
  {
   "cell_type": "code",
   "execution_count": 56,
   "id": "d0f00435",
   "metadata": {
    "vscode": {
     "languageId": "r"
    }
   },
   "outputs": [
    {
     "data": {
      "text/html": [
       "<table class=\"dataframe\">\n",
       "<caption>A data.table: 6 x 21</caption>\n",
       "<thead>\n",
       "\t<tr><th scope=col>credit_risk</th><th scope=col>age</th><th scope=col>amount</th><th scope=col>credit_history</th><th scope=col>duration</th><th scope=col>employment_duration</th><th scope=col>foreign_worker</th><th scope=col>housing</th><th scope=col>installment_rate</th><th scope=col>job</th><th scope=col>...</th><th scope=col>other_debtors</th><th scope=col>other_installment_plans</th><th scope=col>people_liable</th><th scope=col>personal_status_sex</th><th scope=col>present_residence</th><th scope=col>property</th><th scope=col>purpose</th><th scope=col>savings</th><th scope=col>status</th><th scope=col>telephone</th></tr>\n",
       "\t<tr><th scope=col>&lt;fct&gt;</th><th scope=col>&lt;int&gt;</th><th scope=col>&lt;int&gt;</th><th scope=col>&lt;fct&gt;</th><th scope=col>&lt;int&gt;</th><th scope=col>&lt;fct&gt;</th><th scope=col>&lt;fct&gt;</th><th scope=col>&lt;fct&gt;</th><th scope=col>&lt;ord&gt;</th><th scope=col>&lt;fct&gt;</th><th scope=col>...</th><th scope=col>&lt;fct&gt;</th><th scope=col>&lt;fct&gt;</th><th scope=col>&lt;fct&gt;</th><th scope=col>&lt;fct&gt;</th><th scope=col>&lt;ord&gt;</th><th scope=col>&lt;fct&gt;</th><th scope=col>&lt;fct&gt;</th><th scope=col>&lt;fct&gt;</th><th scope=col>&lt;fct&gt;</th><th scope=col>&lt;fct&gt;</th></tr>\n",
       "</thead>\n",
       "<tbody>\n",
       "\t<tr><td>good</td><td>67</td><td>1169</td><td><span style=white-space:pre-wrap>all credits at this bank paid back duly    </span></td><td> 6</td><td><span style=white-space:pre-wrap>&gt;= 7 yrs        </span></td><td>no</td><td>rent</td><td><span style=white-space:pre-wrap>&lt; 20          </span></td><td>skilled employee/official</td><td>...</td><td><span style=white-space:pre-wrap>none     </span></td><td>none</td><td><span style=white-space:pre-wrap>0 to 2   </span></td><td><span style=white-space:pre-wrap>male : married/widowed              </span></td><td><span style=white-space:pre-wrap>&gt;= 7 yrs        </span></td><td>unknown / no property</td><td>furniture/equipment</td><td><span style=white-space:pre-wrap>... &gt;= 1000 DM            </span></td><td><span style=white-space:pre-wrap>no checking account                       </span></td><td>yes (under customer name)</td></tr>\n",
       "\t<tr><td>bad </td><td>22</td><td>5951</td><td>no credits taken/all credits paid back duly</td><td>48</td><td>1 &lt;= ... &lt; 4 yrs</td><td>no</td><td>rent</td><td>25 &lt;= ... &lt; 35</td><td>skilled employee/official</td><td>...</td><td><span style=white-space:pre-wrap>none     </span></td><td>none</td><td><span style=white-space:pre-wrap>0 to 2   </span></td><td>female : non-single or male : single</td><td>1 &lt;= ... &lt; 4 yrs</td><td>unknown / no property</td><td>furniture/equipment</td><td>unknown/no savings account</td><td><span style=white-space:pre-wrap>... &lt; 0 DM                                </span></td><td><span style=white-space:pre-wrap>no                       </span></td></tr>\n",
       "\t<tr><td>good</td><td>49</td><td>2096</td><td><span style=white-space:pre-wrap>all credits at this bank paid back duly    </span></td><td>12</td><td>4 &lt;= ... &lt; 7 yrs</td><td>no</td><td>rent</td><td>25 &lt;= ... &lt; 35</td><td><span style=white-space:pre-wrap>unskilled - resident     </span></td><td>...</td><td><span style=white-space:pre-wrap>none     </span></td><td>none</td><td>3 or more</td><td><span style=white-space:pre-wrap>male : married/widowed              </span></td><td>4 &lt;= ... &lt; 7 yrs</td><td>unknown / no property</td><td><span style=white-space:pre-wrap>repairs            </span></td><td>unknown/no savings account</td><td>... &gt;= 200 DM / salary for at least 1 year</td><td><span style=white-space:pre-wrap>no                       </span></td></tr>\n",
       "\t<tr><td>good</td><td>45</td><td>7882</td><td>no credits taken/all credits paid back duly</td><td>42</td><td>4 &lt;= ... &lt; 7 yrs</td><td>no</td><td>own </td><td>25 &lt;= ... &lt; 35</td><td>skilled employee/official</td><td>...</td><td>guarantor</td><td>none</td><td>3 or more</td><td><span style=white-space:pre-wrap>male : married/widowed              </span></td><td><span style=white-space:pre-wrap>&gt;= 7 yrs        </span></td><td><span style=white-space:pre-wrap>car or other         </span></td><td><span style=white-space:pre-wrap>car (used)         </span></td><td>unknown/no savings account</td><td><span style=white-space:pre-wrap>no checking account                       </span></td><td><span style=white-space:pre-wrap>no                       </span></td></tr>\n",
       "\t<tr><td>bad </td><td>53</td><td>4870</td><td><span style=white-space:pre-wrap>existing credits paid back duly till now   </span></td><td>24</td><td>1 &lt;= ... &lt; 4 yrs</td><td>no</td><td>own </td><td>20 &lt;= ... &lt; 25</td><td>skilled employee/official</td><td>...</td><td><span style=white-space:pre-wrap>none     </span></td><td>none</td><td>3 or more</td><td><span style=white-space:pre-wrap>male : married/widowed              </span></td><td><span style=white-space:pre-wrap>&gt;= 7 yrs        </span></td><td><span style=white-space:pre-wrap>real estate          </span></td><td><span style=white-space:pre-wrap>others             </span></td><td>unknown/no savings account</td><td><span style=white-space:pre-wrap>no checking account                       </span></td><td><span style=white-space:pre-wrap>no                       </span></td></tr>\n",
       "\t<tr><td>good</td><td>35</td><td>9055</td><td>no credits taken/all credits paid back duly</td><td>36</td><td>1 &lt;= ... &lt; 4 yrs</td><td>no</td><td>own </td><td>25 &lt;= ... &lt; 35</td><td><span style=white-space:pre-wrap>unskilled - resident     </span></td><td>...</td><td><span style=white-space:pre-wrap>none     </span></td><td>none</td><td>3 or more</td><td><span style=white-space:pre-wrap>male : married/widowed              </span></td><td><span style=white-space:pre-wrap>&gt;= 7 yrs        </span></td><td><span style=white-space:pre-wrap>real estate          </span></td><td><span style=white-space:pre-wrap>repairs            </span></td><td><span style=white-space:pre-wrap>... &gt;= 1000 DM            </span></td><td>... &gt;= 200 DM / salary for at least 1 year</td><td>yes (under customer name)</td></tr>\n",
       "</tbody>\n",
       "</table>\n"
      ],
      "text/latex": [
       "A data.table: 6 x 21\n",
       "\\begin{tabular}{lllllllllllllllllllll}\n",
       " credit\\_risk & age & amount & credit\\_history & duration & employment\\_duration & foreign\\_worker & housing & installment\\_rate & job & ... & other\\_debtors & other\\_installment\\_plans & people\\_liable & personal\\_status\\_sex & present\\_residence & property & purpose & savings & status & telephone\\\\\n",
       " <fct> & <int> & <int> & <fct> & <int> & <fct> & <fct> & <fct> & <ord> & <fct> & ... & <fct> & <fct> & <fct> & <fct> & <ord> & <fct> & <fct> & <fct> & <fct> & <fct>\\\\\n",
       "\\hline\n",
       "\t good & 67 & 1169 & all credits at this bank paid back duly     &  6 & >= 7 yrs         & no & rent & < 20           & skilled employee/official & ... & none      & none & 0 to 2    & male : married/widowed               & >= 7 yrs         & unknown / no property & furniture/equipment & ... >= 1000 DM             & no checking account                        & yes (under customer name)\\\\\n",
       "\t bad  & 22 & 5951 & no credits taken/all credits paid back duly & 48 & 1 <= ... < 4 yrs & no & rent & 25 <= ... < 35 & skilled employee/official & ... & none      & none & 0 to 2    & female : non-single or male : single & 1 <= ... < 4 yrs & unknown / no property & furniture/equipment & unknown/no savings account & ... < 0 DM                                 & no                       \\\\\n",
       "\t good & 49 & 2096 & all credits at this bank paid back duly     & 12 & 4 <= ... < 7 yrs & no & rent & 25 <= ... < 35 & unskilled - resident      & ... & none      & none & 3 or more & male : married/widowed               & 4 <= ... < 7 yrs & unknown / no property & repairs             & unknown/no savings account & ... >= 200 DM / salary for at least 1 year & no                       \\\\\n",
       "\t good & 45 & 7882 & no credits taken/all credits paid back duly & 42 & 4 <= ... < 7 yrs & no & own  & 25 <= ... < 35 & skilled employee/official & ... & guarantor & none & 3 or more & male : married/widowed               & >= 7 yrs         & car or other          & car (used)          & unknown/no savings account & no checking account                        & no                       \\\\\n",
       "\t bad  & 53 & 4870 & existing credits paid back duly till now    & 24 & 1 <= ... < 4 yrs & no & own  & 20 <= ... < 25 & skilled employee/official & ... & none      & none & 3 or more & male : married/widowed               & >= 7 yrs         & real estate           & others              & unknown/no savings account & no checking account                        & no                       \\\\\n",
       "\t good & 35 & 9055 & no credits taken/all credits paid back duly & 36 & 1 <= ... < 4 yrs & no & own  & 25 <= ... < 35 & unskilled - resident      & ... & none      & none & 3 or more & male : married/widowed               & >= 7 yrs         & real estate           & repairs             & ... >= 1000 DM             & ... >= 200 DM / salary for at least 1 year & yes (under customer name)\\\\\n",
       "\\end{tabular}\n"
      ],
      "text/markdown": [
       "\n",
       "A data.table: 6 x 21\n",
       "\n",
       "| credit_risk &lt;fct&gt; | age &lt;int&gt; | amount &lt;int&gt; | credit_history &lt;fct&gt; | duration &lt;int&gt; | employment_duration &lt;fct&gt; | foreign_worker &lt;fct&gt; | housing &lt;fct&gt; | installment_rate &lt;ord&gt; | job &lt;fct&gt; | ... ... | other_debtors &lt;fct&gt; | other_installment_plans &lt;fct&gt; | people_liable &lt;fct&gt; | personal_status_sex &lt;fct&gt; | present_residence &lt;ord&gt; | property &lt;fct&gt; | purpose &lt;fct&gt; | savings &lt;fct&gt; | status &lt;fct&gt; | telephone &lt;fct&gt; |\n",
       "|---|---|---|---|---|---|---|---|---|---|---|---|---|---|---|---|---|---|---|---|---|\n",
       "| good | 67 | 1169 | all credits at this bank paid back duly     |  6 | &gt;= 7 yrs         | no | rent | &lt; 20           | skilled employee/official | ... | none      | none | 0 to 2    | male : married/widowed               | &gt;= 7 yrs         | unknown / no property | furniture/equipment | ... &gt;= 1000 DM             | no checking account                        | yes (under customer name) |\n",
       "| bad  | 22 | 5951 | no credits taken/all credits paid back duly | 48 | 1 &lt;= ... &lt; 4 yrs | no | rent | 25 &lt;= ... &lt; 35 | skilled employee/official | ... | none      | none | 0 to 2    | female : non-single or male : single | 1 &lt;= ... &lt; 4 yrs | unknown / no property | furniture/equipment | unknown/no savings account | ... &lt; 0 DM                                 | no                        |\n",
       "| good | 49 | 2096 | all credits at this bank paid back duly     | 12 | 4 &lt;= ... &lt; 7 yrs | no | rent | 25 &lt;= ... &lt; 35 | unskilled - resident      | ... | none      | none | 3 or more | male : married/widowed               | 4 &lt;= ... &lt; 7 yrs | unknown / no property | repairs             | unknown/no savings account | ... &gt;= 200 DM / salary for at least 1 year | no                        |\n",
       "| good | 45 | 7882 | no credits taken/all credits paid back duly | 42 | 4 &lt;= ... &lt; 7 yrs | no | own  | 25 &lt;= ... &lt; 35 | skilled employee/official | ... | guarantor | none | 3 or more | male : married/widowed               | &gt;= 7 yrs         | car or other          | car (used)          | unknown/no savings account | no checking account                        | no                        |\n",
       "| bad  | 53 | 4870 | existing credits paid back duly till now    | 24 | 1 &lt;= ... &lt; 4 yrs | no | own  | 20 &lt;= ... &lt; 25 | skilled employee/official | ... | none      | none | 3 or more | male : married/widowed               | &gt;= 7 yrs         | real estate           | others              | unknown/no savings account | no checking account                        | no                        |\n",
       "| good | 35 | 9055 | no credits taken/all credits paid back duly | 36 | 1 &lt;= ... &lt; 4 yrs | no | own  | 25 &lt;= ... &lt; 35 | unskilled - resident      | ... | none      | none | 3 or more | male : married/widowed               | &gt;= 7 yrs         | real estate           | repairs             | ... &gt;= 1000 DM             | ... &gt;= 200 DM / salary for at least 1 year | yes (under customer name) |\n",
       "\n"
      ],
      "text/plain": [
       "  credit_risk age amount credit_history                              duration\n",
       "1 good        67  1169   all credits at this bank paid back duly      6      \n",
       "2 bad         22  5951   no credits taken/all credits paid back duly 48      \n",
       "3 good        49  2096   all credits at this bank paid back duly     12      \n",
       "4 good        45  7882   no credits taken/all credits paid back duly 42      \n",
       "5 bad         53  4870   existing credits paid back duly till now    24      \n",
       "6 good        35  9055   no credits taken/all credits paid back duly 36      \n",
       "  employment_duration foreign_worker housing installment_rate\n",
       "1 >= 7 yrs            no             rent    < 20            \n",
       "2 1 <= ... < 4 yrs    no             rent    25 <= ... < 35  \n",
       "3 4 <= ... < 7 yrs    no             rent    25 <= ... < 35  \n",
       "4 4 <= ... < 7 yrs    no             own     25 <= ... < 35  \n",
       "5 1 <= ... < 4 yrs    no             own     20 <= ... < 25  \n",
       "6 1 <= ... < 4 yrs    no             own     25 <= ... < 35  \n",
       "  job                       ... other_debtors other_installment_plans\n",
       "1 skilled employee/official ... none          none                   \n",
       "2 skilled employee/official ... none          none                   \n",
       "3 unskilled - resident      ... none          none                   \n",
       "4 skilled employee/official ... guarantor     none                   \n",
       "5 skilled employee/official ... none          none                   \n",
       "6 unskilled - resident      ... none          none                   \n",
       "  people_liable personal_status_sex                  present_residence\n",
       "1 0 to 2        male : married/widowed               >= 7 yrs         \n",
       "2 0 to 2        female : non-single or male : single 1 <= ... < 4 yrs \n",
       "3 3 or more     male : married/widowed               4 <= ... < 7 yrs \n",
       "4 3 or more     male : married/widowed               >= 7 yrs         \n",
       "5 3 or more     male : married/widowed               >= 7 yrs         \n",
       "6 3 or more     male : married/widowed               >= 7 yrs         \n",
       "  property              purpose             savings                   \n",
       "1 unknown / no property furniture/equipment ... >= 1000 DM            \n",
       "2 unknown / no property furniture/equipment unknown/no savings account\n",
       "3 unknown / no property repairs             unknown/no savings account\n",
       "4 car or other          car (used)          unknown/no savings account\n",
       "5 real estate           others              unknown/no savings account\n",
       "6 real estate           repairs             ... >= 1000 DM            \n",
       "  status                                     telephone                \n",
       "1 no checking account                        yes (under customer name)\n",
       "2 ... < 0 DM                                 no                       \n",
       "3 ... >= 200 DM / salary for at least 1 year no                       \n",
       "4 no checking account                        no                       \n",
       "5 no checking account                        no                       \n",
       "6 ... >= 200 DM / salary for at least 1 year yes (under customer name)"
      ]
     },
     "metadata": {},
     "output_type": "display_data"
    }
   ],
   "source": [
    "head(tsk$data())"
   ]
  },
  {
   "cell_type": "code",
   "execution_count": 86,
   "id": "ad1f4a00",
   "metadata": {
    "vscode": {
     "languageId": "r"
    }
   },
   "outputs": [
    {
     "data": {
      "text/plain": [
       "\n",
       "good  bad \n",
       " 700  300 "
      ]
     },
     "metadata": {},
     "output_type": "display_data"
    }
   ],
   "source": [
    "df <- tsk$data()\n",
    "table(df$credit_risk)"
   ]
  },
  {
   "cell_type": "code",
   "execution_count": 83,
   "id": "ab81b3bd",
   "metadata": {
    "vscode": {
     "languageId": "r"
    }
   },
   "outputs": [
    {
     "data": {
      "text/plain": [
       "\n",
       "good  bad \n",
       " 700  300 "
      ]
     },
     "metadata": {},
     "output_type": "display_data"
    }
   ],
   "source": [
    "library(mlr3pipelines)\n",
    "tsk <- tsk(\"german_credit\")  # 二分类任务\n",
    "\n",
    "# 对少数类进行SMOTE过采样，使其与多数类数量相等\n",
    "gr <- po(\"select\", selector = selector_type(\"numeric\")) %>>%\n",
    "  po(\"smote\")\n",
    "\n",
    "tsk_balanced <- gr$train(tsk)[[1]]\n",
    "\n",
    "# 查看类别分布\n",
    "table(tsk_balanced$data()[[tsk_balanced$target_names]])"
   ]
  },
  {
   "cell_type": "code",
   "execution_count": 88,
   "id": "e1ba3703",
   "metadata": {
    "vscode": {
     "languageId": "r"
    }
   },
   "outputs": [
    {
     "data": {
      "text/plain": [
       "\n",
       "  n   p \n",
       "802 198 "
      ]
     },
     "metadata": {},
     "output_type": "display_data"
    },
    {
     "data": {
      "text/plain": [
       "\n",
       "  n   p \n",
       "802 792 "
      ]
     },
     "metadata": {},
     "output_type": "display_data"
    }
   ],
   "source": [
    "library(mlr3)\n",
    "library(smotefamily)\n",
    "\n",
    "# 创建示例任务\n",
    "data <- sample_generator(1000, ratio = 0.80)\n",
    "data$result <- factor(data$result)\n",
    "task <- TaskClassif$new(id = \"example\", backend = data, target = \"result\")\n",
    "table(task$data()$result)\n",
    "\n",
    "# 对少数类进行SMOTE过采样\n",
    "pop <- po(\"smote\")\n",
    "smote_data <- pop$train(list(task))[[1]]$data()\n",
    "table(smote_data$result)\n"
   ]
  },
  {
   "cell_type": "code",
   "execution_count": 99,
   "id": "bd6b40c5",
   "metadata": {
    "vscode": {
     "languageId": "r"
    }
   },
   "outputs": [
    {
     "data": {
      "text/html": [
       "<table class=\"dataframe\">\n",
       "<caption>A data.table: 22 x 14</caption>\n",
       "<thead>\n",
       "\t<tr><th scope=col>key</th><th scope=col>label</th><th scope=col>task_type</th><th scope=col>nrow</th><th scope=col>ncol</th><th scope=col>properties</th><th scope=col>lgl</th><th scope=col>int</th><th scope=col>dbl</th><th scope=col>chr</th><th scope=col>fct</th><th scope=col>ord</th><th scope=col>pxc</th><th scope=col>dte</th></tr>\n",
       "\t<tr><th scope=col>&lt;chr&gt;</th><th scope=col>&lt;chr&gt;</th><th scope=col>&lt;chr&gt;</th><th scope=col>&lt;int&gt;</th><th scope=col>&lt;int&gt;</th><th scope=col>&lt;list&gt;</th><th scope=col>&lt;int&gt;</th><th scope=col>&lt;int&gt;</th><th scope=col>&lt;int&gt;</th><th scope=col>&lt;int&gt;</th><th scope=col>&lt;int&gt;</th><th scope=col>&lt;int&gt;</th><th scope=col>&lt;int&gt;</th><th scope=col>&lt;int&gt;</th></tr>\n",
       "</thead>\n",
       "<tbody>\n",
       "\t<tr><td>ames_housing      </td><td>Ames House Sales                         </td><td>regr   </td><td> 2930</td><td>82</td><td></td><td> 0</td><td>33</td><td> 1</td><td>0</td><td>47</td><td>0</td><td>0</td><td>0</td></tr>\n",
       "\t<tr><td>bike_sharing      </td><td>Bike Sharing Demand                      </td><td>regr   </td><td>17379</td><td>14</td><td></td><td> 2</td><td> 4</td><td> 4</td><td>1</td><td> 2</td><td>0</td><td>0</td><td>0</td></tr>\n",
       "\t<tr><td>boston_housing    </td><td>Boston Housing Prices                    </td><td>regr   </td><td>  506</td><td>18</td><td></td><td> 0</td><td> 3</td><td>12</td><td>0</td><td> 2</td><td>0</td><td>0</td><td>0</td></tr>\n",
       "\t<tr><td>breast_cancer     </td><td>Wisconsin Breast Cancer                  </td><td>classif</td><td>  683</td><td>10</td><td>twoclass</td><td> 0</td><td> 0</td><td> 0</td><td>0</td><td> 0</td><td>9</td><td>0</td><td>0</td></tr>\n",
       "\t<tr><td>california_housing</td><td>California House Value                   </td><td>regr   </td><td>20640</td><td>10</td><td></td><td> 0</td><td> 0</td><td> 8</td><td>0</td><td> 1</td><td>0</td><td>0</td><td>0</td></tr>\n",
       "\t<tr><td>german_credit     </td><td>German Credit                            </td><td>classif</td><td> 1000</td><td>21</td><td>twoclass</td><td> 0</td><td> 3</td><td> 0</td><td>0</td><td>14</td><td>3</td><td>0</td><td>0</td></tr>\n",
       "\t<tr><td>ilpd              </td><td>Indian Liver Patient Data                </td><td>classif</td><td>  583</td><td>11</td><td>twoclass</td><td> 0</td><td> 4</td><td> 5</td><td>0</td><td> 1</td><td>0</td><td>0</td><td>0</td></tr>\n",
       "\t<tr><td>iris              </td><td>Iris Flowers                             </td><td>classif</td><td>  150</td><td> 5</td><td>multiclass</td><td> 0</td><td> 0</td><td> 4</td><td>0</td><td> 0</td><td>0</td><td>0</td><td>0</td></tr>\n",
       "\t<tr><td>kc_housing        </td><td>King County House Sales                  </td><td>regr   </td><td>21613</td><td>20</td><td></td><td> 1</td><td>13</td><td> 4</td><td>0</td><td> 0</td><td>0</td><td>1</td><td>0</td></tr>\n",
       "\t<tr><td>moneyball         </td><td>Major League Baseball Statistics         </td><td>regr   </td><td> 1232</td><td>15</td><td></td><td> 0</td><td> 3</td><td> 5</td><td>0</td><td> 6</td><td>0</td><td>0</td><td>0</td></tr>\n",
       "\t<tr><td>mtcars            </td><td>Motor Trends                             </td><td>regr   </td><td>   32</td><td>11</td><td></td><td> 0</td><td> 0</td><td>10</td><td>0</td><td> 0</td><td>0</td><td>0</td><td>0</td></tr>\n",
       "\t<tr><td>optdigits         </td><td>Optical Recognition of Handwritten Digits</td><td>classif</td><td> 5620</td><td>65</td><td>twoclass</td><td> 0</td><td>64</td><td> 0</td><td>0</td><td> 0</td><td>0</td><td>0</td><td>0</td></tr>\n",
       "\t<tr><td>penguins          </td><td>Palmer Penguins                          </td><td>classif</td><td>  344</td><td> 8</td><td>multiclass</td><td> 0</td><td> 3</td><td> 2</td><td>0</td><td> 2</td><td>0</td><td>0</td><td>0</td></tr>\n",
       "\t<tr><td>penguins_simple   </td><td>Simplified Palmer Penguins               </td><td>classif</td><td>  333</td><td>11</td><td>multiclass</td><td> 0</td><td> 3</td><td> 7</td><td>0</td><td> 0</td><td>0</td><td>0</td><td>0</td></tr>\n",
       "\t<tr><td>pima              </td><td>Pima Indian Diabetes                     </td><td>classif</td><td>  768</td><td> 9</td><td>twoclass</td><td> 0</td><td> 0</td><td> 8</td><td>0</td><td> 0</td><td>0</td><td>0</td><td>0</td></tr>\n",
       "\t<tr><td>ruspini           </td><td>Ruspini                                  </td><td>clust  </td><td>   75</td><td> 2</td><td></td><td> 0</td><td> 2</td><td> 0</td><td>0</td><td> 0</td><td>0</td><td>0</td><td>0</td></tr>\n",
       "\t<tr><td>sonar             </td><td>Sonar: Mines vs. Rocks                   </td><td>classif</td><td>  208</td><td>61</td><td>twoclass</td><td> 0</td><td> 0</td><td>60</td><td>0</td><td> 0</td><td>0</td><td>0</td><td>0</td></tr>\n",
       "\t<tr><td>spam              </td><td>HP Spam Detection                        </td><td>classif</td><td> 4601</td><td>58</td><td>twoclass</td><td> 0</td><td> 0</td><td>57</td><td>0</td><td> 0</td><td>0</td><td>0</td><td>0</td></tr>\n",
       "\t<tr><td>titanic           </td><td>Titanic                                  </td><td>classif</td><td> 1309</td><td>11</td><td>twoclass</td><td> 0</td><td> 2</td><td> 2</td><td>3</td><td> 2</td><td>1</td><td>0</td><td>0</td></tr>\n",
       "\t<tr><td>usarrests         </td><td>US Arrests                               </td><td>clust  </td><td>   50</td><td> 4</td><td></td><td> 0</td><td> 2</td><td> 2</td><td>0</td><td> 0</td><td>0</td><td>0</td><td>0</td></tr>\n",
       "\t<tr><td>wine              </td><td>Wine Regions                             </td><td>classif</td><td>  178</td><td>14</td><td>multiclass</td><td> 0</td><td> 2</td><td>11</td><td>0</td><td> 0</td><td>0</td><td>0</td><td>0</td></tr>\n",
       "\t<tr><td>zoo               </td><td>Zoo Animals                              </td><td>classif</td><td>  101</td><td>17</td><td>multiclass</td><td>15</td><td> 1</td><td> 0</td><td>0</td><td> 0</td><td>0</td><td>0</td><td>0</td></tr>\n",
       "</tbody>\n",
       "</table>\n"
      ],
      "text/latex": [
       "A data.table: 22 x 14\n",
       "\\begin{tabular}{llllllllllllll}\n",
       " key & label & task\\_type & nrow & ncol & properties & lgl & int & dbl & chr & fct & ord & pxc & dte\\\\\n",
       " <chr> & <chr> & <chr> & <int> & <int> & <list> & <int> & <int> & <int> & <int> & <int> & <int> & <int> & <int>\\\\\n",
       "\\hline\n",
       "\t ames\\_housing       & Ames House Sales                          & regr    &  2930 & 82 &  &  0 & 33 &  1 & 0 & 47 & 0 & 0 & 0\\\\\n",
       "\t bike\\_sharing       & Bike Sharing Demand                       & regr    & 17379 & 14 &  &  2 &  4 &  4 & 1 &  2 & 0 & 0 & 0\\\\\n",
       "\t boston\\_housing     & Boston Housing Prices                     & regr    &   506 & 18 &  &  0 &  3 & 12 & 0 &  2 & 0 & 0 & 0\\\\\n",
       "\t breast\\_cancer      & Wisconsin Breast Cancer                   & classif &   683 & 10 & twoclass &  0 &  0 &  0 & 0 &  0 & 9 & 0 & 0\\\\\n",
       "\t california\\_housing & California House Value                    & regr    & 20640 & 10 &  &  0 &  0 &  8 & 0 &  1 & 0 & 0 & 0\\\\\n",
       "\t german\\_credit      & German Credit                             & classif &  1000 & 21 & twoclass &  0 &  3 &  0 & 0 & 14 & 3 & 0 & 0\\\\\n",
       "\t ilpd               & Indian Liver Patient Data                 & classif &   583 & 11 & twoclass &  0 &  4 &  5 & 0 &  1 & 0 & 0 & 0\\\\\n",
       "\t iris               & Iris Flowers                              & classif &   150 &  5 & multiclass &  0 &  0 &  4 & 0 &  0 & 0 & 0 & 0\\\\\n",
       "\t kc\\_housing         & King County House Sales                   & regr    & 21613 & 20 &  &  1 & 13 &  4 & 0 &  0 & 0 & 1 & 0\\\\\n",
       "\t moneyball          & Major League Baseball Statistics          & regr    &  1232 & 15 &  &  0 &  3 &  5 & 0 &  6 & 0 & 0 & 0\\\\\n",
       "\t mtcars             & Motor Trends                              & regr    &    32 & 11 &  &  0 &  0 & 10 & 0 &  0 & 0 & 0 & 0\\\\\n",
       "\t optdigits          & Optical Recognition of Handwritten Digits & classif &  5620 & 65 & twoclass &  0 & 64 &  0 & 0 &  0 & 0 & 0 & 0\\\\\n",
       "\t penguins           & Palmer Penguins                           & classif &   344 &  8 & multiclass &  0 &  3 &  2 & 0 &  2 & 0 & 0 & 0\\\\\n",
       "\t penguins\\_simple    & Simplified Palmer Penguins                & classif &   333 & 11 & multiclass &  0 &  3 &  7 & 0 &  0 & 0 & 0 & 0\\\\\n",
       "\t pima               & Pima Indian Diabetes                      & classif &   768 &  9 & twoclass &  0 &  0 &  8 & 0 &  0 & 0 & 0 & 0\\\\\n",
       "\t ruspini            & Ruspini                                   & clust   &    75 &  2 &  &  0 &  2 &  0 & 0 &  0 & 0 & 0 & 0\\\\\n",
       "\t sonar              & Sonar: Mines vs. Rocks                    & classif &   208 & 61 & twoclass &  0 &  0 & 60 & 0 &  0 & 0 & 0 & 0\\\\\n",
       "\t spam               & HP Spam Detection                         & classif &  4601 & 58 & twoclass &  0 &  0 & 57 & 0 &  0 & 0 & 0 & 0\\\\\n",
       "\t titanic            & Titanic                                   & classif &  1309 & 11 & twoclass &  0 &  2 &  2 & 3 &  2 & 1 & 0 & 0\\\\\n",
       "\t usarrests          & US Arrests                                & clust   &    50 &  4 &  &  0 &  2 &  2 & 0 &  0 & 0 & 0 & 0\\\\\n",
       "\t wine               & Wine Regions                              & classif &   178 & 14 & multiclass &  0 &  2 & 11 & 0 &  0 & 0 & 0 & 0\\\\\n",
       "\t zoo                & Zoo Animals                               & classif &   101 & 17 & multiclass & 15 &  1 &  0 & 0 &  0 & 0 & 0 & 0\\\\\n",
       "\\end{tabular}\n"
      ],
      "text/markdown": [
       "\n",
       "A data.table: 22 x 14\n",
       "\n",
       "| key &lt;chr&gt; | label &lt;chr&gt; | task_type &lt;chr&gt; | nrow &lt;int&gt; | ncol &lt;int&gt; | properties &lt;list&gt; | lgl &lt;int&gt; | int &lt;int&gt; | dbl &lt;int&gt; | chr &lt;int&gt; | fct &lt;int&gt; | ord &lt;int&gt; | pxc &lt;int&gt; | dte &lt;int&gt; |\n",
       "|---|---|---|---|---|---|---|---|---|---|---|---|---|---|\n",
       "| ames_housing       | Ames House Sales                          | regr    |  2930 | 82 | <!----> |  0 | 33 |  1 | 0 | 47 | 0 | 0 | 0 |\n",
       "| bike_sharing       | Bike Sharing Demand                       | regr    | 17379 | 14 | <!----> |  2 |  4 |  4 | 1 |  2 | 0 | 0 | 0 |\n",
       "| boston_housing     | Boston Housing Prices                     | regr    |   506 | 18 | <!----> |  0 |  3 | 12 | 0 |  2 | 0 | 0 | 0 |\n",
       "| breast_cancer      | Wisconsin Breast Cancer                   | classif |   683 | 10 | twoclass |  0 |  0 |  0 | 0 |  0 | 9 | 0 | 0 |\n",
       "| california_housing | California House Value                    | regr    | 20640 | 10 | <!----> |  0 |  0 |  8 | 0 |  1 | 0 | 0 | 0 |\n",
       "| german_credit      | German Credit                             | classif |  1000 | 21 | twoclass |  0 |  3 |  0 | 0 | 14 | 3 | 0 | 0 |\n",
       "| ilpd               | Indian Liver Patient Data                 | classif |   583 | 11 | twoclass |  0 |  4 |  5 | 0 |  1 | 0 | 0 | 0 |\n",
       "| iris               | Iris Flowers                              | classif |   150 |  5 | multiclass |  0 |  0 |  4 | 0 |  0 | 0 | 0 | 0 |\n",
       "| kc_housing         | King County House Sales                   | regr    | 21613 | 20 | <!----> |  1 | 13 |  4 | 0 |  0 | 0 | 1 | 0 |\n",
       "| moneyball          | Major League Baseball Statistics          | regr    |  1232 | 15 | <!----> |  0 |  3 |  5 | 0 |  6 | 0 | 0 | 0 |\n",
       "| mtcars             | Motor Trends                              | regr    |    32 | 11 | <!----> |  0 |  0 | 10 | 0 |  0 | 0 | 0 | 0 |\n",
       "| optdigits          | Optical Recognition of Handwritten Digits | classif |  5620 | 65 | twoclass |  0 | 64 |  0 | 0 |  0 | 0 | 0 | 0 |\n",
       "| penguins           | Palmer Penguins                           | classif |   344 |  8 | multiclass |  0 |  3 |  2 | 0 |  2 | 0 | 0 | 0 |\n",
       "| penguins_simple    | Simplified Palmer Penguins                | classif |   333 | 11 | multiclass |  0 |  3 |  7 | 0 |  0 | 0 | 0 | 0 |\n",
       "| pima               | Pima Indian Diabetes                      | classif |   768 |  9 | twoclass |  0 |  0 |  8 | 0 |  0 | 0 | 0 | 0 |\n",
       "| ruspini            | Ruspini                                   | clust   |    75 |  2 | <!----> |  0 |  2 |  0 | 0 |  0 | 0 | 0 | 0 |\n",
       "| sonar              | Sonar: Mines vs. Rocks                    | classif |   208 | 61 | twoclass |  0 |  0 | 60 | 0 |  0 | 0 | 0 | 0 |\n",
       "| spam               | HP Spam Detection                         | classif |  4601 | 58 | twoclass |  0 |  0 | 57 | 0 |  0 | 0 | 0 | 0 |\n",
       "| titanic            | Titanic                                   | classif |  1309 | 11 | twoclass |  0 |  2 |  2 | 3 |  2 | 1 | 0 | 0 |\n",
       "| usarrests          | US Arrests                                | clust   |    50 |  4 | <!----> |  0 |  2 |  2 | 0 |  0 | 0 | 0 | 0 |\n",
       "| wine               | Wine Regions                              | classif |   178 | 14 | multiclass |  0 |  2 | 11 | 0 |  0 | 0 | 0 | 0 |\n",
       "| zoo                | Zoo Animals                               | classif |   101 | 17 | multiclass | 15 |  1 |  0 | 0 |  0 | 0 | 0 | 0 |\n",
       "\n"
      ],
      "text/plain": [
       "   key                label                                     task_type nrow \n",
       "1  ames_housing       Ames House Sales                          regr       2930\n",
       "2  bike_sharing       Bike Sharing Demand                       regr      17379\n",
       "3  boston_housing     Boston Housing Prices                     regr        506\n",
       "4  breast_cancer      Wisconsin Breast Cancer                   classif     683\n",
       "5  california_housing California House Value                    regr      20640\n",
       "6  german_credit      German Credit                             classif    1000\n",
       "7  ilpd               Indian Liver Patient Data                 classif     583\n",
       "8  iris               Iris Flowers                              classif     150\n",
       "9  kc_housing         King County House Sales                   regr      21613\n",
       "10 moneyball          Major League Baseball Statistics          regr       1232\n",
       "11 mtcars             Motor Trends                              regr         32\n",
       "12 optdigits          Optical Recognition of Handwritten Digits classif    5620\n",
       "13 penguins           Palmer Penguins                           classif     344\n",
       "14 penguins_simple    Simplified Palmer Penguins                classif     333\n",
       "15 pima               Pima Indian Diabetes                      classif     768\n",
       "16 ruspini            Ruspini                                   clust        75\n",
       "17 sonar              Sonar: Mines vs. Rocks                    classif     208\n",
       "18 spam               HP Spam Detection                         classif    4601\n",
       "19 titanic            Titanic                                   classif    1309\n",
       "20 usarrests          US Arrests                                clust        50\n",
       "21 wine               Wine Regions                              classif     178\n",
       "22 zoo                Zoo Animals                               classif     101\n",
       "   ncol properties lgl int dbl chr fct ord pxc dte\n",
       "1  82               0  33   1  0   47  0   0   0  \n",
       "2  14               2   4   4  1    2  0   0   0  \n",
       "3  18               0   3  12  0    2  0   0   0  \n",
       "4  10   twoclass    0   0   0  0    0  9   0   0  \n",
       "5  10               0   0   8  0    1  0   0   0  \n",
       "6  21   twoclass    0   3   0  0   14  3   0   0  \n",
       "7  11   twoclass    0   4   5  0    1  0   0   0  \n",
       "8   5   multiclass  0   0   4  0    0  0   0   0  \n",
       "9  20               1  13   4  0    0  0   1   0  \n",
       "10 15               0   3   5  0    6  0   0   0  \n",
       "11 11               0   0  10  0    0  0   0   0  \n",
       "12 65   twoclass    0  64   0  0    0  0   0   0  \n",
       "13  8   multiclass  0   3   2  0    2  0   0   0  \n",
       "14 11   multiclass  0   3   7  0    0  0   0   0  \n",
       "15  9   twoclass    0   0   8  0    0  0   0   0  \n",
       "16  2               0   2   0  0    0  0   0   0  \n",
       "17 61   twoclass    0   0  60  0    0  0   0   0  \n",
       "18 58   twoclass    0   0  57  0    0  0   0   0  \n",
       "19 11   twoclass    0   2   2  3    2  1   0   0  \n",
       "20  4               0   2   2  0    0  0   0   0  \n",
       "21 14   multiclass  0   2  11  0    0  0   0   0  \n",
       "22 17   multiclass 15   1   0  0    0  0   0   0  "
      ]
     },
     "metadata": {},
     "output_type": "display_data"
    }
   ],
   "source": [
    "tsk() %>% as.data.table()"
   ]
  },
  {
   "cell_type": "code",
   "execution_count": 98,
   "id": "75e5db18",
   "metadata": {
    "vscode": {
     "languageId": "r"
    }
   },
   "outputs": [
    {
     "data": {
      "text/plain": [
       "<TaskClassif:ilpd> (583 x 11): Indian Liver Patient Data\n",
       "* Target: diseased\n",
       "* Properties: twoclass\n",
       "* Features (10):\n",
       "  - dbl (5): albumin, albumin_globulin_ratio, direct_bilirubin,\n",
       "    total_bilirubin, total_protein\n",
       "  - int (4): age, alanine_transaminase, alkaline_phosphatase,\n",
       "    aspartate_transaminase\n",
       "  - fct (1): gender"
      ]
     },
     "metadata": {},
     "output_type": "display_data"
    }
   ],
   "source": [
    "tsk(\"ilpd\")"
   ]
  },
  {
   "cell_type": "code",
   "execution_count": 100,
   "id": "8e68b8e1",
   "metadata": {
    "vscode": {
     "languageId": "r"
    }
   },
   "outputs": [
    {
     "data": {
      "text/html": [
       "<table class=\"dataframe\">\n",
       "<caption>A data.frame: 6 x 5</caption>\n",
       "<thead>\n",
       "\t<tr><th></th><th scope=col>Sepal.Length</th><th scope=col>Sepal.Width</th><th scope=col>Petal.Length</th><th scope=col>Petal.Width</th><th scope=col>Species</th></tr>\n",
       "\t<tr><th></th><th scope=col>&lt;dbl&gt;</th><th scope=col>&lt;dbl&gt;</th><th scope=col>&lt;dbl&gt;</th><th scope=col>&lt;dbl&gt;</th><th scope=col>&lt;fct&gt;</th></tr>\n",
       "</thead>\n",
       "<tbody>\n",
       "\t<tr><th scope=row>1</th><td>5.1</td><td>3.5</td><td>1.4</td><td>0.2</td><td>setosa</td></tr>\n",
       "\t<tr><th scope=row>2</th><td>4.9</td><td>3.0</td><td>1.4</td><td>0.2</td><td>setosa</td></tr>\n",
       "\t<tr><th scope=row>3</th><td>4.7</td><td>3.2</td><td>1.3</td><td>0.2</td><td>setosa</td></tr>\n",
       "\t<tr><th scope=row>4</th><td>4.6</td><td>3.1</td><td>1.5</td><td>0.2</td><td>setosa</td></tr>\n",
       "\t<tr><th scope=row>5</th><td>5.0</td><td>3.6</td><td>1.4</td><td>0.2</td><td>setosa</td></tr>\n",
       "\t<tr><th scope=row>6</th><td>5.4</td><td>3.9</td><td>1.7</td><td>0.4</td><td>setosa</td></tr>\n",
       "</tbody>\n",
       "</table>\n"
      ],
      "text/latex": [
       "A data.frame: 6 x 5\n",
       "\\begin{tabular}{r|lllll}\n",
       "  & Sepal.Length & Sepal.Width & Petal.Length & Petal.Width & Species\\\\\n",
       "  & <dbl> & <dbl> & <dbl> & <dbl> & <fct>\\\\\n",
       "\\hline\n",
       "\t1 & 5.1 & 3.5 & 1.4 & 0.2 & setosa\\\\\n",
       "\t2 & 4.9 & 3.0 & 1.4 & 0.2 & setosa\\\\\n",
       "\t3 & 4.7 & 3.2 & 1.3 & 0.2 & setosa\\\\\n",
       "\t4 & 4.6 & 3.1 & 1.5 & 0.2 & setosa\\\\\n",
       "\t5 & 5.0 & 3.6 & 1.4 & 0.2 & setosa\\\\\n",
       "\t6 & 5.4 & 3.9 & 1.7 & 0.4 & setosa\\\\\n",
       "\\end{tabular}\n"
      ],
      "text/markdown": [
       "\n",
       "A data.frame: 6 x 5\n",
       "\n",
       "| <!--/--> | Sepal.Length &lt;dbl&gt; | Sepal.Width &lt;dbl&gt; | Petal.Length &lt;dbl&gt; | Petal.Width &lt;dbl&gt; | Species &lt;fct&gt; |\n",
       "|---|---|---|---|---|---|\n",
       "| 1 | 5.1 | 3.5 | 1.4 | 0.2 | setosa |\n",
       "| 2 | 4.9 | 3.0 | 1.4 | 0.2 | setosa |\n",
       "| 3 | 4.7 | 3.2 | 1.3 | 0.2 | setosa |\n",
       "| 4 | 4.6 | 3.1 | 1.5 | 0.2 | setosa |\n",
       "| 5 | 5.0 | 3.6 | 1.4 | 0.2 | setosa |\n",
       "| 6 | 5.4 | 3.9 | 1.7 | 0.4 | setosa |\n",
       "\n"
      ],
      "text/plain": [
       "  Sepal.Length Sepal.Width Petal.Length Petal.Width Species\n",
       "1 5.1          3.5         1.4          0.2         setosa \n",
       "2 4.9          3.0         1.4          0.2         setosa \n",
       "3 4.7          3.2         1.3          0.2         setosa \n",
       "4 4.6          3.1         1.5          0.2         setosa \n",
       "5 5.0          3.6         1.4          0.2         setosa \n",
       "6 5.4          3.9         1.7          0.4         setosa "
      ]
     },
     "metadata": {},
     "output_type": "display_data"
    }
   ],
   "source": [
    "head(iris)"
   ]
  },
  {
   "cell_type": "code",
   "execution_count": 102,
   "id": "c5d8c312",
   "metadata": {
    "vscode": {
     "languageId": "r"
    }
   },
   "outputs": [
    {
     "data": {
      "text/plain": [
       "\n",
       "    setosa versicolor  virginica \n",
       "        50         50         50 "
      ]
     },
     "metadata": {},
     "output_type": "display_data"
    },
    {
     "data": {
      "text/plain": [
       "\n",
       "    setosa versicolor  virginica \n",
       "       100         50         50 "
      ]
     },
     "metadata": {},
     "output_type": "display_data"
    }
   ],
   "source": [
    "library(mlr3pipelines)\n",
    "tsk <- tsk(\"iris\")  # 二分类任务\n",
    "table(tsk$data()$Species)\n",
    "\n",
    "# 对少数类进行SMOTE过采样\n",
    "gr <- po(\"select\", selector = selector_type(\"numeric\")) %>>%\n",
    "  po(\"smote\")\n",
    "\n",
    "tsk_balanced <- gr$train(tsk)[[1]]\n",
    "# 查看类别分布\n",
    "table(tsk_balanced$data()[[tsk_balanced$target_names]])"
   ]
  },
  {
   "cell_type": "code",
   "execution_count": 106,
   "id": "34db9f44",
   "metadata": {
    "vscode": {
     "languageId": "r"
    }
   },
   "outputs": [
    {
     "data": {
      "text/html": [
       "'species'"
      ],
      "text/latex": [
       "'species'"
      ],
      "text/markdown": [
       "'species'"
      ],
      "text/plain": [
       "[1] \"species\""
      ]
     },
     "metadata": {},
     "output_type": "display_data"
    }
   ],
   "source": [
    "tsk(\"penguins\")$target_names"
   ]
  },
  {
   "cell_type": "code",
   "execution_count": 109,
   "id": "42df1b16",
   "metadata": {
    "vscode": {
     "languageId": "r"
    }
   },
   "outputs": [
    {
     "data": {
      "text/html": [
       "<table class=\"dataframe\">\n",
       "<caption>A data.table: 6 x 8</caption>\n",
       "<thead>\n",
       "\t<tr><th scope=col>species</th><th scope=col>bill_depth</th><th scope=col>bill_length</th><th scope=col>body_mass</th><th scope=col>flipper_length</th><th scope=col>island</th><th scope=col>sex</th><th scope=col>year</th></tr>\n",
       "\t<tr><th scope=col>&lt;fct&gt;</th><th scope=col>&lt;dbl&gt;</th><th scope=col>&lt;dbl&gt;</th><th scope=col>&lt;int&gt;</th><th scope=col>&lt;int&gt;</th><th scope=col>&lt;fct&gt;</th><th scope=col>&lt;fct&gt;</th><th scope=col>&lt;int&gt;</th></tr>\n",
       "</thead>\n",
       "<tbody>\n",
       "\t<tr><td>Adelie</td><td>18.7</td><td>39.1</td><td>3750</td><td>181</td><td>Torgersen</td><td>male  </td><td>2007</td></tr>\n",
       "\t<tr><td>Adelie</td><td>17.4</td><td>39.5</td><td>3800</td><td>186</td><td>Torgersen</td><td>female</td><td>2007</td></tr>\n",
       "\t<tr><td>Adelie</td><td>18.0</td><td>40.3</td><td>3250</td><td>195</td><td>Torgersen</td><td>female</td><td>2007</td></tr>\n",
       "\t<tr><td>Adelie</td><td>  NA</td><td>  NA</td><td>  NA</td><td> NA</td><td>Torgersen</td><td>NA    </td><td>2007</td></tr>\n",
       "\t<tr><td>Adelie</td><td>19.3</td><td>36.7</td><td>3450</td><td>193</td><td>Torgersen</td><td>female</td><td>2007</td></tr>\n",
       "\t<tr><td>Adelie</td><td>20.6</td><td>39.3</td><td>3650</td><td>190</td><td>Torgersen</td><td>male  </td><td>2007</td></tr>\n",
       "</tbody>\n",
       "</table>\n"
      ],
      "text/latex": [
       "A data.table: 6 x 8\n",
       "\\begin{tabular}{llllllll}\n",
       " species & bill\\_depth & bill\\_length & body\\_mass & flipper\\_length & island & sex & year\\\\\n",
       " <fct> & <dbl> & <dbl> & <int> & <int> & <fct> & <fct> & <int>\\\\\n",
       "\\hline\n",
       "\t Adelie & 18.7 & 39.1 & 3750 & 181 & Torgersen & male   & 2007\\\\\n",
       "\t Adelie & 17.4 & 39.5 & 3800 & 186 & Torgersen & female & 2007\\\\\n",
       "\t Adelie & 18.0 & 40.3 & 3250 & 195 & Torgersen & female & 2007\\\\\n",
       "\t Adelie &   NA &   NA &   NA &  NA & Torgersen & NA     & 2007\\\\\n",
       "\t Adelie & 19.3 & 36.7 & 3450 & 193 & Torgersen & female & 2007\\\\\n",
       "\t Adelie & 20.6 & 39.3 & 3650 & 190 & Torgersen & male   & 2007\\\\\n",
       "\\end{tabular}\n"
      ],
      "text/markdown": [
       "\n",
       "A data.table: 6 x 8\n",
       "\n",
       "| species &lt;fct&gt; | bill_depth &lt;dbl&gt; | bill_length &lt;dbl&gt; | body_mass &lt;int&gt; | flipper_length &lt;int&gt; | island &lt;fct&gt; | sex &lt;fct&gt; | year &lt;int&gt; |\n",
       "|---|---|---|---|---|---|---|---|\n",
       "| Adelie | 18.7 | 39.1 | 3750 | 181 | Torgersen | male   | 2007 |\n",
       "| Adelie | 17.4 | 39.5 | 3800 | 186 | Torgersen | female | 2007 |\n",
       "| Adelie | 18.0 | 40.3 | 3250 | 195 | Torgersen | female | 2007 |\n",
       "| Adelie |   NA |   NA |   NA |  NA | Torgersen | NA     | 2007 |\n",
       "| Adelie | 19.3 | 36.7 | 3450 | 193 | Torgersen | female | 2007 |\n",
       "| Adelie | 20.6 | 39.3 | 3650 | 190 | Torgersen | male   | 2007 |\n",
       "\n"
      ],
      "text/plain": [
       "  species bill_depth bill_length body_mass flipper_length island    sex    year\n",
       "1 Adelie  18.7       39.1        3750      181            Torgersen male   2007\n",
       "2 Adelie  17.4       39.5        3800      186            Torgersen female 2007\n",
       "3 Adelie  18.0       40.3        3250      195            Torgersen female 2007\n",
       "4 Adelie    NA         NA          NA       NA            Torgersen NA     2007\n",
       "5 Adelie  19.3       36.7        3450      193            Torgersen female 2007\n",
       "6 Adelie  20.6       39.3        3650      190            Torgersen male   2007"
      ]
     },
     "metadata": {},
     "output_type": "display_data"
    }
   ],
   "source": [
    "tsk(\"penguins\")$data() %>% head()"
   ]
  },
  {
   "cell_type": "code",
   "execution_count": null,
   "id": "3a57db21",
   "metadata": {
    "vscode": {
     "languageId": "r"
    }
   },
   "outputs": [
    {
     "data": {
      "text/plain": [
       "\n",
       "   Adelie Chinstrap    Gentoo \n",
       "      152        68       124 "
      ]
     },
     "metadata": {},
     "output_type": "display_data"
    },
    {
     "data": {
      "text/plain": [
       "\n",
       "   Adelie Chinstrap    Gentoo \n",
       "      152       272       124 "
      ]
     },
     "metadata": {},
     "output_type": "display_data"
    }
   ],
   "source": [
    "library(mlr3pipelines)\n",
    "tsk <- tsk(\"penguins\")  # 二分类任务\n",
    "table(tsk$data()$species)\n",
    "\n",
    "# 对少数类进行SMOTE过采样\n",
    "gr <- po(\"select\", selector = selector_type(\"numeric\")) %>>%\n",
    "  po(\"smote\")\n",
    "\n",
    "tsk_balanced <- gr$train(tsk)[[1]]\n",
    "# 查看类别分布\n",
    "table(tsk_balanced$data()[[tsk_balanced$target_names]])\n",
    "\n",
    "# Adelie Chinstrap    Gentoo \n",
    "#       152        68       124\n",
    "\n",
    "# Adelie Chinstrap    Gentoo \n",
    "#       152       272       124"
   ]
  },
  {
   "cell_type": "code",
   "execution_count": 110,
   "id": "c5a85ed9",
   "metadata": {
    "vscode": {
     "languageId": "r"
    }
   },
   "outputs": [
    {
     "data": {
      "text/html": [
       "<table class=\"dataframe\">\n",
       "<caption>A data.table: 6 x 3</caption>\n",
       "<thead>\n",
       "\t<tr><th scope=col>species</th><th scope=col>bill_depth</th><th scope=col>bill_length</th></tr>\n",
       "\t<tr><th scope=col>&lt;fct&gt;</th><th scope=col>&lt;dbl&gt;</th><th scope=col>&lt;dbl&gt;</th></tr>\n",
       "</thead>\n",
       "<tbody>\n",
       "\t<tr><td>Adelie</td><td>18.7</td><td>39.1</td></tr>\n",
       "\t<tr><td>Adelie</td><td>17.4</td><td>39.5</td></tr>\n",
       "\t<tr><td>Adelie</td><td>18.0</td><td>40.3</td></tr>\n",
       "\t<tr><td>Adelie</td><td>  NA</td><td>  NA</td></tr>\n",
       "\t<tr><td>Adelie</td><td>19.3</td><td>36.7</td></tr>\n",
       "\t<tr><td>Adelie</td><td>20.6</td><td>39.3</td></tr>\n",
       "</tbody>\n",
       "</table>\n"
      ],
      "text/latex": [
       "A data.table: 6 x 3\n",
       "\\begin{tabular}{lll}\n",
       " species & bill\\_depth & bill\\_length\\\\\n",
       " <fct> & <dbl> & <dbl>\\\\\n",
       "\\hline\n",
       "\t Adelie & 18.7 & 39.1\\\\\n",
       "\t Adelie & 17.4 & 39.5\\\\\n",
       "\t Adelie & 18.0 & 40.3\\\\\n",
       "\t Adelie &   NA &   NA\\\\\n",
       "\t Adelie & 19.3 & 36.7\\\\\n",
       "\t Adelie & 20.6 & 39.3\\\\\n",
       "\\end{tabular}\n"
      ],
      "text/markdown": [
       "\n",
       "A data.table: 6 x 3\n",
       "\n",
       "| species &lt;fct&gt; | bill_depth &lt;dbl&gt; | bill_length &lt;dbl&gt; |\n",
       "|---|---|---|\n",
       "| Adelie | 18.7 | 39.1 |\n",
       "| Adelie | 17.4 | 39.5 |\n",
       "| Adelie | 18.0 | 40.3 |\n",
       "| Adelie |   NA |   NA |\n",
       "| Adelie | 19.3 | 36.7 |\n",
       "| Adelie | 20.6 | 39.3 |\n",
       "\n"
      ],
      "text/plain": [
       "  species bill_depth bill_length\n",
       "1 Adelie  18.7       39.1       \n",
       "2 Adelie  17.4       39.5       \n",
       "3 Adelie  18.0       40.3       \n",
       "4 Adelie    NA         NA       \n",
       "5 Adelie  19.3       36.7       \n",
       "6 Adelie  20.6       39.3       "
      ]
     },
     "metadata": {},
     "output_type": "display_data"
    }
   ],
   "source": [
    "tsk_balanced$data() %>% head()"
   ]
  },
  {
   "cell_type": "code",
   "execution_count": null,
   "id": "8daf4d89",
   "metadata": {
    "vscode": {
     "languageId": "r"
    }
   },
   "outputs": [
    {
     "data": {
      "text/plain": [
       "\n",
       "   Adelie Chinstrap    Gentoo \n",
       "      152        68       124 "
      ]
     },
     "metadata": {},
     "output_type": "display_data"
    },
    {
     "data": {
      "text/plain": [
       "\n",
       "   Adelie Chinstrap    Gentoo \n",
       "      152       152       152 "
      ]
     },
     "metadata": {},
     "output_type": "display_data"
    }
   ],
   "source": [
    "library(mlr3pipelines)\n",
    "tsk <- tsk(\"penguins\")  # 二分类任务\n",
    "table(tsk$data()$species)\n",
    "\n",
    "# 对少数类进行SMOTE过采样\n",
    "gr <- po(\"imputesample\") %>>%\n",
    "  po(\"select\", selector = selector_type(\"numeric\")) %>>%\n",
    "  po(\"smotenc\")\n",
    "\n",
    "tsk_balanced <- gr$train(tsk)[[1]]\n",
    "# 查看类别分布\n",
    "table(tsk_balanced$data()[[tsk_balanced$target_names]])\n",
    "\n",
    "# Adelie Chinstrap    Gentoo \n",
    "#       152        68       124\n",
    "\n",
    "# Adelie Chinstrap    Gentoo \n",
    "#       152       152       152"
   ]
  },
  {
   "cell_type": "code",
   "execution_count": null,
   "id": "83c51f74",
   "metadata": {
    "vscode": {
     "languageId": "r"
    }
   },
   "outputs": [],
   "source": []
  },
  {
   "cell_type": "code",
   "execution_count": null,
   "id": "25dff641",
   "metadata": {
    "vscode": {
     "languageId": "r"
    }
   },
   "outputs": [
    {
     "data": {
      "text/plain": [
       "\n",
       "pos neg \n",
       "268 500 "
      ]
     },
     "metadata": {},
     "output_type": "display_data"
    },
    {
     "data": {
      "text/plain": [
       "\n",
       "pos neg \n",
       "500 500 "
      ]
     },
     "metadata": {},
     "output_type": "display_data"
    }
   ],
   "source": [
    "library(mlr3pipelines)\n",
    "tsk <- tsk(\"pima\")  # 二分类任务\n",
    "target <- tsk$target_names\n",
    "table(tsk$data()[[target]])\n",
    "\n",
    "# 对少数类进行SMOTE过采样\n",
    "gr <- po(\"imputesample\") %>>%\n",
    "  po(\"smotenc\")\n",
    "\n",
    "tsk_balanced <- gr$train(tsk)[[1]]\n",
    "# 查看类别分布\n",
    "table(tsk_balanced$data()[[tsk_balanced$target_names]])\n",
    "\n",
    "# pos neg \n",
    "# 268 500\n",
    "\n",
    "# pos neg \n",
    "# 500 500"
   ]
  },
  {
   "cell_type": "code",
   "execution_count": null,
   "id": "7afa130a",
   "metadata": {
    "vscode": {
     "languageId": "r"
    }
   },
   "outputs": [
    {
     "data": {
      "text/plain": [
       "\n",
       "pos neg \n",
       "268 500 "
      ]
     },
     "metadata": {},
     "output_type": "display_data"
    },
    {
     "data": {
      "text/plain": [
       "\n",
       "pos neg \n",
       "464 500 "
      ]
     },
     "metadata": {},
     "output_type": "display_data"
    }
   ],
   "source": [
    "library(mlr3pipelines)\n",
    "tsk <- tsk(\"pima\")  # 二分类任务\n",
    "target <- tsk$target_names\n",
    "table(tsk$data()[[target]])\n",
    "\n",
    "# 对少数类进行SMOTE过采样\n",
    "gr <- po(\"imputesample\") %>>%\n",
    "  po(\"blsmote\")\n",
    "\n",
    "tsk_balanced <- gr$train(tsk)[[1]]\n",
    "# 查看类别分布\n",
    "table(tsk_balanced$data()[[tsk_balanced$target_names]])\n",
    "\n",
    "# pos neg \n",
    "# 268 500\n",
    "\n",
    "# pos neg \n",
    "# 464 500"
   ]
  },
  {
   "cell_type": "code",
   "execution_count": null,
   "id": "fd23a723",
   "metadata": {
    "vscode": {
     "languageId": "r"
    }
   },
   "outputs": [
    {
     "data": {
      "text/plain": [
       "\n",
       "pos neg \n",
       "268 500 "
      ]
     },
     "metadata": {},
     "output_type": "display_data"
    },
    {
     "data": {
      "text/plain": [
       "\n",
       "pos neg \n",
       "515 500 "
      ]
     },
     "metadata": {},
     "output_type": "display_data"
    }
   ],
   "source": [
    "library(mlr3pipelines)\n",
    "tsk <- tsk(\"pima\")  # 二分类任务\n",
    "target <- tsk$target_names\n",
    "table(tsk$data()[[target]])\n",
    "\n",
    "# 对少数类进行ADAS过采样\n",
    "gr <- po(\"imputesample\") %>>%\n",
    "  po(\"adas\")\n",
    "\n",
    "tsk_balanced <- gr$train(tsk)[[1]]\n",
    "# 查看类别分布\n",
    "table(tsk_balanced$data()[[tsk_balanced$target_names]])\n",
    "\n",
    "# pos neg \n",
    "# 268 500\n",
    "\n",
    "# pos neg \n",
    "# 515 500"
   ]
  },
  {
   "cell_type": "code",
   "execution_count": null,
   "id": "d7c394e5",
   "metadata": {
    "vscode": {
     "languageId": "r"
    }
   },
   "outputs": [
    {
     "data": {
      "text/plain": [
       "\n",
       "pos neg \n",
       "268 500 "
      ]
     },
     "metadata": {},
     "output_type": "display_data"
    },
    {
     "data": {
      "text/plain": [
       "\n",
       "pos neg \n",
       "214 446 "
      ]
     },
     "metadata": {},
     "output_type": "display_data"
    }
   ],
   "source": [
    "library(mlr3pipelines)\n",
    "tsk <- tsk(\"pima\")  # 二分类任务\n",
    "target <- tsk$target_names\n",
    "table(tsk$data()[[target]])\n",
    "\n",
    "# tomek\n",
    "gr <- po(\"imputesample\") %>>%\n",
    "  po(\"tomek\")\n",
    "\n",
    "tsk_balanced <- gr$train(tsk)[[1]]\n",
    "# 查看类别分布\n",
    "table(tsk_balanced$data()[[tsk_balanced$target_names]])\n",
    "\n",
    "# pos neg \n",
    "# 268 500\n",
    "\n",
    "# pos neg \n",
    "# 214 446"
   ]
  },
  {
   "cell_type": "code",
   "execution_count": null,
   "id": "db1725db",
   "metadata": {
    "vscode": {
     "languageId": "r"
    }
   },
   "outputs": [
    {
     "data": {
      "text/plain": [
       "\n",
       "pos neg \n",
       "268 500 "
      ]
     },
     "metadata": {},
     "output_type": "display_data"
    },
    {
     "data": {
      "text/plain": [
       "\n",
       "pos neg \n",
       "268 268 "
      ]
     },
     "metadata": {},
     "output_type": "display_data"
    }
   ],
   "source": [
    "library(mlr3pipelines)\n",
    "tsk <- tsk(\"pima\")  # 二分类任务\n",
    "target <- tsk$target_names\n",
    "table(tsk$data()[[target]])\n",
    "\n",
    "# nearmiss\n",
    "gr <- po(\"imputesample\") %>>%\n",
    "  po(\"nearmiss\")\n",
    "\n",
    "tsk_balanced <- gr$train(tsk)[[1]]\n",
    "# 查看类别分布\n",
    "table(tsk_balanced$data()[[tsk_balanced$target_names]])\n",
    "\n",
    "# pos neg \n",
    "# 268 500\n",
    "\n",
    "# pos neg \n",
    "# 268 268"
   ]
  },
  {
   "cell_type": "code",
   "execution_count": 129,
   "id": "e6c4b9ff",
   "metadata": {
    "vscode": {
     "languageId": "r"
    }
   },
   "outputs": [],
   "source": [
    "df <- tsk(\"pima\")$data()"
   ]
  },
  {
   "cell_type": "code",
   "execution_count": 134,
   "id": "0e86e50f",
   "metadata": {
    "vscode": {
     "languageId": "r"
    }
   },
   "outputs": [
    {
     "data": {
      "text/html": [
       "<table class=\"dataframe\">\n",
       "<caption>A data.frame: 1 x 5</caption>\n",
       "<thead>\n",
       "\t<tr><th scope=col>Sepal.Length</th><th scope=col>Sepal.Width</th><th scope=col>Petal.Length</th><th scope=col>Petal.Width</th><th scope=col>Species</th></tr>\n",
       "\t<tr><th scope=col>&lt;int&gt;</th><th scope=col>&lt;int&gt;</th><th scope=col>&lt;int&gt;</th><th scope=col>&lt;int&gt;</th><th scope=col>&lt;int&gt;</th></tr>\n",
       "</thead>\n",
       "<tbody>\n",
       "\t<tr><td>0</td><td>0</td><td>0</td><td>0</td><td>0</td></tr>\n",
       "</tbody>\n",
       "</table>\n"
      ],
      "text/latex": [
       "A data.frame: 1 x 5\n",
       "\\begin{tabular}{lllll}\n",
       " Sepal.Length & Sepal.Width & Petal.Length & Petal.Width & Species\\\\\n",
       " <int> & <int> & <int> & <int> & <int>\\\\\n",
       "\\hline\n",
       "\t 0 & 0 & 0 & 0 & 0\\\\\n",
       "\\end{tabular}\n"
      ],
      "text/markdown": [
       "\n",
       "A data.frame: 1 x 5\n",
       "\n",
       "| Sepal.Length &lt;int&gt; | Sepal.Width &lt;int&gt; | Petal.Length &lt;int&gt; | Petal.Width &lt;int&gt; | Species &lt;int&gt; |\n",
       "|---|---|---|---|---|\n",
       "| 0 | 0 | 0 | 0 | 0 |\n",
       "\n"
      ],
      "text/plain": [
       "  Sepal.Length Sepal.Width Petal.Length Petal.Width Species\n",
       "1 0            0           0            0           0      "
      ]
     },
     "metadata": {},
     "output_type": "display_data"
    }
   ],
   "source": [
    "iris %>%\n",
    "  summarise(across(everything(), \\(x) sum(is.na(x))))"
   ]
  },
  {
   "cell_type": "code",
   "execution_count": 135,
   "id": "d396db13",
   "metadata": {
    "vscode": {
     "languageId": "r"
    }
   },
   "outputs": [
    {
     "name": "stderr",
     "output_type": "stream",
     "text": [
      "Warning message in storage.mode(x) <- \"double\":\n",
      "\"NAs introduced by coercion\"\n"
     ]
    },
    {
     "ename": "ERROR",
     "evalue": "Error in qr.default(object): NA/NaN/Inf in foreign function call (arg 1)\n",
     "output_type": "error",
     "traceback": [
      "Error in qr.default(object): NA/NaN/Inf in foreign function call (arg 1)\nTraceback:\n",
      "1. enumLC(x)",
      "2. enumLC.matrix(x)",
      "3. internalEnumLC(qr(object))",
      "4. qr.R(qrObj)",
      "5. is.qr(qr)",
      "6. qr(object)",
      "7. qr.default(object)",
      "8. .handleSimpleError(function (cnd) \n . {\n .     watcher$capture_plot_and_output()\n .     cnd <- sanitize_call(cnd)\n .     watcher$push(cnd)\n .     switch(on_error, continue = invokeRestart(\"eval_continue\"), \n .         stop = invokeRestart(\"eval_stop\"), error = NULL)\n . }, \"NA/NaN/Inf in foreign function call (arg 1)\", base::quote(qr.default(object)))"
     ]
    }
   ],
   "source": [
    "library(caret)\n",
    "findLinearCombos(iris)"
   ]
  },
  {
   "cell_type": "code",
   "execution_count": null,
   "id": "befe8649",
   "metadata": {
    "vscode": {
     "languageId": "r"
    }
   },
   "outputs": [
    {
     "data": {
      "text/html": [
       "<style>\n",
       ".list-inline {list-style: none; margin:0; padding: 0}\n",
       ".list-inline>li {display: inline-block}\n",
       ".list-inline>li:not(:last-child)::after {content: \"\\00b7\"; padding: 0 .5ex}\n",
       "</style>\n",
       "<ol class=list-inline><li>'anova'</li><li>'auc'</li><li>'boruta'</li><li>'carscore'</li><li>'carsurvscore'</li><li>'cmim'</li><li>'correlation'</li><li>'disr'</li><li>'find_correlation'</li><li>'importance'</li><li>'information_gain'</li><li>'jmi'</li><li>'jmim'</li><li>'kruskal_test'</li><li>'mim'</li><li>'mrmr'</li><li>'njmim'</li><li>'performance'</li><li>'permutation'</li><li>'relief'</li><li>'selected_features'</li><li>'univariate_cox'</li><li>'variance'</li></ol>\n"
      ],
      "text/latex": [
       "\\begin{enumerate*}\n",
       "\\item 'anova'\n",
       "\\item 'auc'\n",
       "\\item 'boruta'\n",
       "\\item 'carscore'\n",
       "\\item 'carsurvscore'\n",
       "\\item 'cmim'\n",
       "\\item 'correlation'\n",
       "\\item 'disr'\n",
       "\\item 'find\\_correlation'\n",
       "\\item 'importance'\n",
       "\\item 'information\\_gain'\n",
       "\\item 'jmi'\n",
       "\\item 'jmim'\n",
       "\\item 'kruskal\\_test'\n",
       "\\item 'mim'\n",
       "\\item 'mrmr'\n",
       "\\item 'njmim'\n",
       "\\item 'performance'\n",
       "\\item 'permutation'\n",
       "\\item 'relief'\n",
       "\\item 'selected\\_features'\n",
       "\\item 'univariate\\_cox'\n",
       "\\item 'variance'\n",
       "\\end{enumerate*}\n"
      ],
      "text/markdown": [
       "1. 'anova'\n",
       "2. 'auc'\n",
       "3. 'boruta'\n",
       "4. 'carscore'\n",
       "5. 'carsurvscore'\n",
       "6. 'cmim'\n",
       "7. 'correlation'\n",
       "8. 'disr'\n",
       "9. 'find_correlation'\n",
       "10. 'importance'\n",
       "11. 'information_gain'\n",
       "12. 'jmi'\n",
       "13. 'jmim'\n",
       "14. 'kruskal_test'\n",
       "15. 'mim'\n",
       "16. 'mrmr'\n",
       "17. 'njmim'\n",
       "18. 'performance'\n",
       "19. 'permutation'\n",
       "20. 'relief'\n",
       "21. 'selected_features'\n",
       "22. 'univariate_cox'\n",
       "23. 'variance'\n",
       "\n",
       "\n"
      ],
      "text/plain": [
       " [1] \"anova\"             \"auc\"               \"boruta\"           \n",
       " [4] \"carscore\"          \"carsurvscore\"      \"cmim\"             \n",
       " [7] \"correlation\"       \"disr\"              \"find_correlation\" \n",
       "[10] \"importance\"        \"information_gain\"  \"jmi\"              \n",
       "[13] \"jmim\"              \"kruskal_test\"      \"mim\"              \n",
       "[16] \"mrmr\"              \"njmim\"             \"performance\"      \n",
       "[19] \"permutation\"       \"relief\"            \"selected_features\"\n",
       "[22] \"univariate_cox\"    \"variance\"         "
      ]
     },
     "metadata": {},
     "output_type": "display_data"
    }
   ],
   "source": [
    "mlr_filters$keys()\n",
    "\n",
    "# [1] \"anova\"             \"auc\"               \"boruta\"           \n",
    "#  [4] \"carscore\"          \"carsurvscore\"      \"cmim\"             \n",
    "#  [7] \"correlation\"       \"disr\"              \"find_correlation\" \n",
    "# [10] \"importance\"        \"information_gain\"  \"jmi\"              \n",
    "# [13] \"jmim\"              \"kruskal_test\"      \"mim\"              \n",
    "# [16] \"mrmr\"              \"njmim\"             \"performance\"      \n",
    "# [19] \"permutation\"       \"relief\"            \"selected_features\"\n",
    "# [22] \"univariate_cox\"    \"variance\""
   ]
  },
  {
   "cell_type": "code",
   "execution_count": 2,
   "id": "291f8b56",
   "metadata": {
    "vscode": {
     "languageId": "r"
    }
   },
   "outputs": [
    {
     "name": "stderr",
     "output_type": "stream",
     "text": [
      "Loading required package: mlr3\n",
      "\n"
     ]
    }
   ],
   "source": [
    "library(mlr3verse)"
   ]
  },
  {
   "cell_type": "code",
   "execution_count": 10,
   "id": "fa7f06b6",
   "metadata": {
    "vscode": {
     "languageId": "r"
    }
   },
   "outputs": [
    {
     "data": {
      "text/html": [
       "<table class=\"dataframe\">\n",
       "<caption>A data.table: 6 x 4</caption>\n",
       "<thead>\n",
       "\t<tr><th scope=col>mpg</th><th scope=col>cyl</th><th scope=col>disp</th><th scope=col>wt</th></tr>\n",
       "\t<tr><th scope=col>&lt;dbl&gt;</th><th scope=col>&lt;dbl&gt;</th><th scope=col>&lt;dbl&gt;</th><th scope=col>&lt;dbl&gt;</th></tr>\n",
       "</thead>\n",
       "<tbody>\n",
       "\t<tr><td>21.0</td><td>6</td><td>160</td><td>2.620</td></tr>\n",
       "\t<tr><td>21.0</td><td>6</td><td>160</td><td>2.875</td></tr>\n",
       "\t<tr><td>22.8</td><td>4</td><td>108</td><td>2.320</td></tr>\n",
       "\t<tr><td>21.4</td><td>6</td><td>258</td><td>3.215</td></tr>\n",
       "\t<tr><td>18.7</td><td>8</td><td>360</td><td>3.440</td></tr>\n",
       "\t<tr><td>18.1</td><td>6</td><td>225</td><td>3.460</td></tr>\n",
       "</tbody>\n",
       "</table>\n"
      ],
      "text/latex": [
       "A data.table: 6 x 4\n",
       "\\begin{tabular}{llll}\n",
       " mpg & cyl & disp & wt\\\\\n",
       " <dbl> & <dbl> & <dbl> & <dbl>\\\\\n",
       "\\hline\n",
       "\t 21.0 & 6 & 160 & 2.620\\\\\n",
       "\t 21.0 & 6 & 160 & 2.875\\\\\n",
       "\t 22.8 & 4 & 108 & 2.320\\\\\n",
       "\t 21.4 & 6 & 258 & 3.215\\\\\n",
       "\t 18.7 & 8 & 360 & 3.440\\\\\n",
       "\t 18.1 & 6 & 225 & 3.460\\\\\n",
       "\\end{tabular}\n"
      ],
      "text/markdown": [
       "\n",
       "A data.table: 6 x 4\n",
       "\n",
       "| mpg &lt;dbl&gt; | cyl &lt;dbl&gt; | disp &lt;dbl&gt; | wt &lt;dbl&gt; |\n",
       "|---|---|---|---|\n",
       "| 21.0 | 6 | 160 | 2.620 |\n",
       "| 21.0 | 6 | 160 | 2.875 |\n",
       "| 22.8 | 4 | 108 | 2.320 |\n",
       "| 21.4 | 6 | 258 | 3.215 |\n",
       "| 18.7 | 8 | 360 | 3.440 |\n",
       "| 18.1 | 6 | 225 | 3.460 |\n",
       "\n"
      ],
      "text/plain": [
       "  mpg  cyl disp wt   \n",
       "1 21.0 6   160  2.620\n",
       "2 21.0 6   160  2.875\n",
       "3 22.8 4   108  2.320\n",
       "4 21.4 6   258  3.215\n",
       "5 18.7 8   360  3.440\n",
       "6 18.1 6   225  3.460"
      ]
     },
     "metadata": {},
     "output_type": "display_data"
    }
   ],
   "source": [
    "gr <- po(\n",
    "  \"filter\",\n",
    "  filter = flt(\"correlation\"),\n",
    "  filter.nfeat = 3\n",
    ")\n",
    "\n",
    "tsk <- tsk(\"mtcars\")\n",
    "gr$train(list(tsk))[[1]]$head()"
   ]
  },
  {
   "cell_type": "code",
   "execution_count": 9,
   "id": "90c7344f",
   "metadata": {
    "vscode": {
     "languageId": "r"
    }
   },
   "outputs": [
    {
     "data": {
      "text/plain": [
       "<ParamSetCollection(7)>\n",
       "                id    class lower upper nlevels        default  value\n",
       "            <char>   <char> <num> <num>   <num>         <list> <list>\n",
       "1:    filter.nfeat ParamInt     0   Inf     Inf <NoDefault[0]> [NULL]\n",
       "2:     filter.frac ParamDbl     0     1     Inf <NoDefault[0]>    0.7\n",
       "3:   filter.cutoff ParamDbl  -Inf   Inf     Inf <NoDefault[0]> [NULL]\n",
       "4: filter.permuted ParamInt     1   Inf     Inf <NoDefault[0]> [NULL]\n",
       "5:             use ParamFct    NA    NA       5     everything [NULL]\n",
       "6:          method ParamFct    NA    NA       3        pearson [NULL]\n",
       "7:  affect_columns ParamUty    NA    NA     Inf  <Selector[1]> [NULL]"
      ]
     },
     "metadata": {},
     "output_type": "display_data"
    }
   ],
   "source": [
    "gr$param_set"
   ]
  },
  {
   "cell_type": "code",
   "execution_count": 32,
   "id": "70d1d2d5",
   "metadata": {
    "vscode": {
     "languageId": "r"
    }
   },
   "outputs": [
    {
     "data": {
      "text/html": [
       "<table class=\"dataframe\">\n",
       "<caption>A data.table: 6 x 4</caption>\n",
       "<thead>\n",
       "\t<tr><th scope=col>mpg</th><th scope=col>cyl</th><th scope=col>disp</th><th scope=col>wt</th></tr>\n",
       "\t<tr><th scope=col>&lt;dbl&gt;</th><th scope=col>&lt;dbl&gt;</th><th scope=col>&lt;dbl&gt;</th><th scope=col>&lt;dbl&gt;</th></tr>\n",
       "</thead>\n",
       "<tbody>\n",
       "\t<tr><td>21.0</td><td>6</td><td>160</td><td>2.620</td></tr>\n",
       "\t<tr><td>21.0</td><td>6</td><td>160</td><td>2.875</td></tr>\n",
       "\t<tr><td>22.8</td><td>4</td><td>108</td><td>2.320</td></tr>\n",
       "\t<tr><td>21.4</td><td>6</td><td>258</td><td>3.215</td></tr>\n",
       "\t<tr><td>18.7</td><td>8</td><td>360</td><td>3.440</td></tr>\n",
       "\t<tr><td>18.1</td><td>6</td><td>225</td><td>3.460</td></tr>\n",
       "</tbody>\n",
       "</table>\n"
      ],
      "text/latex": [
       "A data.table: 6 x 4\n",
       "\\begin{tabular}{llll}\n",
       " mpg & cyl & disp & wt\\\\\n",
       " <dbl> & <dbl> & <dbl> & <dbl>\\\\\n",
       "\\hline\n",
       "\t 21.0 & 6 & 160 & 2.620\\\\\n",
       "\t 21.0 & 6 & 160 & 2.875\\\\\n",
       "\t 22.8 & 4 & 108 & 2.320\\\\\n",
       "\t 21.4 & 6 & 258 & 3.215\\\\\n",
       "\t 18.7 & 8 & 360 & 3.440\\\\\n",
       "\t 18.1 & 6 & 225 & 3.460\\\\\n",
       "\\end{tabular}\n"
      ],
      "text/markdown": [
       "\n",
       "A data.table: 6 x 4\n",
       "\n",
       "| mpg &lt;dbl&gt; | cyl &lt;dbl&gt; | disp &lt;dbl&gt; | wt &lt;dbl&gt; |\n",
       "|---|---|---|---|\n",
       "| 21.0 | 6 | 160 | 2.620 |\n",
       "| 21.0 | 6 | 160 | 2.875 |\n",
       "| 22.8 | 4 | 108 | 2.320 |\n",
       "| 21.4 | 6 | 258 | 3.215 |\n",
       "| 18.7 | 8 | 360 | 3.440 |\n",
       "| 18.1 | 6 | 225 | 3.460 |\n",
       "\n"
      ],
      "text/plain": [
       "  mpg  cyl disp wt   \n",
       "1 21.0 6   160  2.620\n",
       "2 21.0 6   160  2.875\n",
       "3 22.8 4   108  2.320\n",
       "4 21.4 6   258  3.215\n",
       "5 18.7 8   360  3.440\n",
       "6 18.1 6   225  3.460"
      ]
     },
     "metadata": {},
     "output_type": "display_data"
    }
   ],
   "source": [
    "gr <- po(\n",
    "  \"filter\",\n",
    "  filter = flt(\"correlation\"),\n",
    "  filter.cutoff = 0.8\n",
    ")\n",
    "\n",
    "tsk <- tsk(\"mtcars\")\n",
    "gr$train(list(tsk))[[1]]$head()"
   ]
  },
  {
   "cell_type": "code",
   "execution_count": 29,
   "id": "5a5c3fbd",
   "metadata": {
    "vscode": {
     "languageId": "r"
    }
   },
   "outputs": [
    {
     "data": {
      "text/html": [
       "<table class=\"dataframe\">\n",
       "<caption>A data.table: 6 x 11</caption>\n",
       "<thead>\n",
       "\t<tr><th scope=col>mpg</th><th scope=col>am</th><th scope=col>carb</th><th scope=col>cyl</th><th scope=col>disp</th><th scope=col>drat</th><th scope=col>gear</th><th scope=col>hp</th><th scope=col>qsec</th><th scope=col>vs</th><th scope=col>wt</th></tr>\n",
       "\t<tr><th scope=col>&lt;dbl&gt;</th><th scope=col>&lt;dbl&gt;</th><th scope=col>&lt;dbl&gt;</th><th scope=col>&lt;dbl&gt;</th><th scope=col>&lt;dbl&gt;</th><th scope=col>&lt;dbl&gt;</th><th scope=col>&lt;dbl&gt;</th><th scope=col>&lt;dbl&gt;</th><th scope=col>&lt;dbl&gt;</th><th scope=col>&lt;dbl&gt;</th><th scope=col>&lt;dbl&gt;</th></tr>\n",
       "</thead>\n",
       "<tbody>\n",
       "\t<tr><td>21.0</td><td>1</td><td>4</td><td>6</td><td>160</td><td>3.90</td><td>4</td><td>110</td><td>16.46</td><td>0</td><td>2.620</td></tr>\n",
       "\t<tr><td>21.0</td><td>1</td><td>4</td><td>6</td><td>160</td><td>3.90</td><td>4</td><td>110</td><td>17.02</td><td>0</td><td>2.875</td></tr>\n",
       "\t<tr><td>22.8</td><td>1</td><td>1</td><td>4</td><td>108</td><td>3.85</td><td>4</td><td> 93</td><td>18.61</td><td>1</td><td>2.320</td></tr>\n",
       "\t<tr><td>21.4</td><td>0</td><td>1</td><td>6</td><td>258</td><td>3.08</td><td>3</td><td>110</td><td>19.44</td><td>1</td><td>3.215</td></tr>\n",
       "\t<tr><td>18.7</td><td>0</td><td>2</td><td>8</td><td>360</td><td>3.15</td><td>3</td><td>175</td><td>17.02</td><td>0</td><td>3.440</td></tr>\n",
       "\t<tr><td>18.1</td><td>0</td><td>1</td><td>6</td><td>225</td><td>2.76</td><td>3</td><td>105</td><td>20.22</td><td>1</td><td>3.460</td></tr>\n",
       "</tbody>\n",
       "</table>\n"
      ],
      "text/latex": [
       "A data.table: 6 x 11\n",
       "\\begin{tabular}{lllllllllll}\n",
       " mpg & am & carb & cyl & disp & drat & gear & hp & qsec & vs & wt\\\\\n",
       " <dbl> & <dbl> & <dbl> & <dbl> & <dbl> & <dbl> & <dbl> & <dbl> & <dbl> & <dbl> & <dbl>\\\\\n",
       "\\hline\n",
       "\t 21.0 & 1 & 4 & 6 & 160 & 3.90 & 4 & 110 & 16.46 & 0 & 2.620\\\\\n",
       "\t 21.0 & 1 & 4 & 6 & 160 & 3.90 & 4 & 110 & 17.02 & 0 & 2.875\\\\\n",
       "\t 22.8 & 1 & 1 & 4 & 108 & 3.85 & 4 &  93 & 18.61 & 1 & 2.320\\\\\n",
       "\t 21.4 & 0 & 1 & 6 & 258 & 3.08 & 3 & 110 & 19.44 & 1 & 3.215\\\\\n",
       "\t 18.7 & 0 & 2 & 8 & 360 & 3.15 & 3 & 175 & 17.02 & 0 & 3.440\\\\\n",
       "\t 18.1 & 0 & 1 & 6 & 225 & 2.76 & 3 & 105 & 20.22 & 1 & 3.460\\\\\n",
       "\\end{tabular}\n"
      ],
      "text/markdown": [
       "\n",
       "A data.table: 6 x 11\n",
       "\n",
       "| mpg &lt;dbl&gt; | am &lt;dbl&gt; | carb &lt;dbl&gt; | cyl &lt;dbl&gt; | disp &lt;dbl&gt; | drat &lt;dbl&gt; | gear &lt;dbl&gt; | hp &lt;dbl&gt; | qsec &lt;dbl&gt; | vs &lt;dbl&gt; | wt &lt;dbl&gt; |\n",
       "|---|---|---|---|---|---|---|---|---|---|---|\n",
       "| 21.0 | 1 | 4 | 6 | 160 | 3.90 | 4 | 110 | 16.46 | 0 | 2.620 |\n",
       "| 21.0 | 1 | 4 | 6 | 160 | 3.90 | 4 | 110 | 17.02 | 0 | 2.875 |\n",
       "| 22.8 | 1 | 1 | 4 | 108 | 3.85 | 4 |  93 | 18.61 | 1 | 2.320 |\n",
       "| 21.4 | 0 | 1 | 6 | 258 | 3.08 | 3 | 110 | 19.44 | 1 | 3.215 |\n",
       "| 18.7 | 0 | 2 | 8 | 360 | 3.15 | 3 | 175 | 17.02 | 0 | 3.440 |\n",
       "| 18.1 | 0 | 1 | 6 | 225 | 2.76 | 3 | 105 | 20.22 | 1 | 3.460 |\n",
       "\n"
      ],
      "text/plain": [
       "  mpg  am carb cyl disp drat gear hp  qsec  vs wt   \n",
       "1 21.0 1  4    6   160  3.90 4    110 16.46 0  2.620\n",
       "2 21.0 1  4    6   160  3.90 4    110 17.02 0  2.875\n",
       "3 22.8 1  1    4   108  3.85 4     93 18.61 1  2.320\n",
       "4 21.4 0  1    6   258  3.08 3    110 19.44 1  3.215\n",
       "5 18.7 0  2    8   360  3.15 3    175 17.02 0  3.440\n",
       "6 18.1 0  1    6   225  2.76 3    105 20.22 1  3.460"
      ]
     },
     "metadata": {},
     "output_type": "display_data"
    }
   ],
   "source": [
    "gr <- po(\n",
    "  \"filter\",\n",
    "  filter = flt(\"find_correlation\"),\n",
    "  filter.cutoff = -1\n",
    ")\n",
    "\n",
    "tsk <- tsk(\"mtcars\")\n",
    "gr$train(list(tsk))[[1]]$head()"
   ]
  },
  {
   "cell_type": "code",
   "execution_count": 30,
   "id": "fc915d71",
   "metadata": {
    "vscode": {
     "languageId": "r"
    }
   },
   "outputs": [
    {
     "data": {
      "text/plain": [
       "<ParamSetCollection(7)>\n",
       "                id    class lower upper nlevels        default  value\n",
       "            <char>   <char> <num> <num>   <num>         <list> <list>\n",
       "1:    filter.nfeat ParamInt     0   Inf     Inf <NoDefault[0]> [NULL]\n",
       "2:     filter.frac ParamDbl     0     1     Inf <NoDefault[0]> [NULL]\n",
       "3:   filter.cutoff ParamDbl  -Inf   Inf     Inf <NoDefault[0]>     -1\n",
       "4: filter.permuted ParamInt     1   Inf     Inf <NoDefault[0]> [NULL]\n",
       "5:             use ParamFct    NA    NA       5     everything [NULL]\n",
       "6:          method ParamFct    NA    NA       3        pearson [NULL]\n",
       "7:  affect_columns ParamUty    NA    NA     Inf  <Selector[1]> [NULL]"
      ]
     },
     "metadata": {},
     "output_type": "display_data"
    }
   ],
   "source": [
    "gr$param_set"
   ]
  },
  {
   "cell_type": "code",
   "execution_count": 34,
   "id": "9ef5ef39",
   "metadata": {
    "vscode": {
     "languageId": "r"
    }
   },
   "outputs": [
    {
     "data": {
      "text/html": [
       "<table class=\"dataframe\">\n",
       "<caption>A data.table: 6 x 11</caption>\n",
       "<thead>\n",
       "\t<tr><th scope=col>mpg</th><th scope=col>am</th><th scope=col>carb</th><th scope=col>cyl</th><th scope=col>disp</th><th scope=col>drat</th><th scope=col>gear</th><th scope=col>hp</th><th scope=col>qsec</th><th scope=col>vs</th><th scope=col>wt</th></tr>\n",
       "\t<tr><th scope=col>&lt;dbl&gt;</th><th scope=col>&lt;dbl&gt;</th><th scope=col>&lt;dbl&gt;</th><th scope=col>&lt;dbl&gt;</th><th scope=col>&lt;dbl&gt;</th><th scope=col>&lt;dbl&gt;</th><th scope=col>&lt;dbl&gt;</th><th scope=col>&lt;dbl&gt;</th><th scope=col>&lt;dbl&gt;</th><th scope=col>&lt;dbl&gt;</th><th scope=col>&lt;dbl&gt;</th></tr>\n",
       "</thead>\n",
       "<tbody>\n",
       "\t<tr><td>21.0</td><td>1</td><td>4</td><td>6</td><td>160</td><td>3.90</td><td>4</td><td>110</td><td>16.46</td><td>0</td><td>2.620</td></tr>\n",
       "\t<tr><td>21.0</td><td>1</td><td>4</td><td>6</td><td>160</td><td>3.90</td><td>4</td><td>110</td><td>17.02</td><td>0</td><td>2.875</td></tr>\n",
       "\t<tr><td>22.8</td><td>1</td><td>1</td><td>4</td><td>108</td><td>3.85</td><td>4</td><td> 93</td><td>18.61</td><td>1</td><td>2.320</td></tr>\n",
       "\t<tr><td>21.4</td><td>0</td><td>1</td><td>6</td><td>258</td><td>3.08</td><td>3</td><td>110</td><td>19.44</td><td>1</td><td>3.215</td></tr>\n",
       "\t<tr><td>18.7</td><td>0</td><td>2</td><td>8</td><td>360</td><td>3.15</td><td>3</td><td>175</td><td>17.02</td><td>0</td><td>3.440</td></tr>\n",
       "\t<tr><td>18.1</td><td>0</td><td>1</td><td>6</td><td>225</td><td>2.76</td><td>3</td><td>105</td><td>20.22</td><td>1</td><td>3.460</td></tr>\n",
       "</tbody>\n",
       "</table>\n"
      ],
      "text/latex": [
       "A data.table: 6 x 11\n",
       "\\begin{tabular}{lllllllllll}\n",
       " mpg & am & carb & cyl & disp & drat & gear & hp & qsec & vs & wt\\\\\n",
       " <dbl> & <dbl> & <dbl> & <dbl> & <dbl> & <dbl> & <dbl> & <dbl> & <dbl> & <dbl> & <dbl>\\\\\n",
       "\\hline\n",
       "\t 21.0 & 1 & 4 & 6 & 160 & 3.90 & 4 & 110 & 16.46 & 0 & 2.620\\\\\n",
       "\t 21.0 & 1 & 4 & 6 & 160 & 3.90 & 4 & 110 & 17.02 & 0 & 2.875\\\\\n",
       "\t 22.8 & 1 & 1 & 4 & 108 & 3.85 & 4 &  93 & 18.61 & 1 & 2.320\\\\\n",
       "\t 21.4 & 0 & 1 & 6 & 258 & 3.08 & 3 & 110 & 19.44 & 1 & 3.215\\\\\n",
       "\t 18.7 & 0 & 2 & 8 & 360 & 3.15 & 3 & 175 & 17.02 & 0 & 3.440\\\\\n",
       "\t 18.1 & 0 & 1 & 6 & 225 & 2.76 & 3 & 105 & 20.22 & 1 & 3.460\\\\\n",
       "\\end{tabular}\n"
      ],
      "text/markdown": [
       "\n",
       "A data.table: 6 x 11\n",
       "\n",
       "| mpg &lt;dbl&gt; | am &lt;dbl&gt; | carb &lt;dbl&gt; | cyl &lt;dbl&gt; | disp &lt;dbl&gt; | drat &lt;dbl&gt; | gear &lt;dbl&gt; | hp &lt;dbl&gt; | qsec &lt;dbl&gt; | vs &lt;dbl&gt; | wt &lt;dbl&gt; |\n",
       "|---|---|---|---|---|---|---|---|---|---|---|\n",
       "| 21.0 | 1 | 4 | 6 | 160 | 3.90 | 4 | 110 | 16.46 | 0 | 2.620 |\n",
       "| 21.0 | 1 | 4 | 6 | 160 | 3.90 | 4 | 110 | 17.02 | 0 | 2.875 |\n",
       "| 22.8 | 1 | 1 | 4 | 108 | 3.85 | 4 |  93 | 18.61 | 1 | 2.320 |\n",
       "| 21.4 | 0 | 1 | 6 | 258 | 3.08 | 3 | 110 | 19.44 | 1 | 3.215 |\n",
       "| 18.7 | 0 | 2 | 8 | 360 | 3.15 | 3 | 175 | 17.02 | 0 | 3.440 |\n",
       "| 18.1 | 0 | 1 | 6 | 225 | 2.76 | 3 | 105 | 20.22 | 1 | 3.460 |\n",
       "\n"
      ],
      "text/plain": [
       "  mpg  am carb cyl disp drat gear hp  qsec  vs wt   \n",
       "1 21.0 1  4    6   160  3.90 4    110 16.46 0  2.620\n",
       "2 21.0 1  4    6   160  3.90 4    110 17.02 0  2.875\n",
       "3 22.8 1  1    4   108  3.85 4     93 18.61 1  2.320\n",
       "4 21.4 0  1    6   258  3.08 3    110 19.44 1  3.215\n",
       "5 18.7 0  2    8   360  3.15 3    175 17.02 0  3.440\n",
       "6 18.1 0  1    6   225  2.76 3    105 20.22 1  3.460"
      ]
     },
     "metadata": {},
     "output_type": "display_data"
    }
   ],
   "source": [
    "gr <- po(\n",
    "  \"filter\",\n",
    "  filter = flt(\"variance\"),\n",
    "  filter.cutoff = 0.1\n",
    ")\n",
    "\n",
    "tsk <- tsk(\"mtcars\")\n",
    "gr$train(list(tsk))[[1]]$head()"
   ]
  },
  {
   "cell_type": "code",
   "execution_count": 35,
   "id": "aca6427a",
   "metadata": {
    "vscode": {
     "languageId": "r"
    }
   },
   "outputs": [
    {
     "data": {
      "text/plain": [
       "<ParamSetCollection(6)>\n",
       "                id    class lower upper nlevels        default  value\n",
       "            <char>   <char> <num> <num>   <num>         <list> <list>\n",
       "1:    filter.nfeat ParamInt     0   Inf     Inf <NoDefault[0]> [NULL]\n",
       "2:     filter.frac ParamDbl     0     1     Inf <NoDefault[0]> [NULL]\n",
       "3:   filter.cutoff ParamDbl  -Inf   Inf     Inf <NoDefault[0]>    0.1\n",
       "4: filter.permuted ParamInt     1   Inf     Inf <NoDefault[0]> [NULL]\n",
       "5:           na.rm ParamLgl    NA    NA       2           TRUE   TRUE\n",
       "6:  affect_columns ParamUty    NA    NA     Inf  <Selector[1]> [NULL]"
      ]
     },
     "metadata": {},
     "output_type": "display_data"
    }
   ],
   "source": [
    "gr$param_set"
   ]
  },
  {
   "cell_type": "code",
   "execution_count": 36,
   "id": "caa290dc",
   "metadata": {
    "vscode": {
     "languageId": "r"
    }
   },
   "outputs": [
    {
     "data": {
      "text/html": [
       "<table class=\"dataframe\">\n",
       "<caption>A data.table: 6 x 5</caption>\n",
       "<thead>\n",
       "\t<tr><th scope=col>mpg</th><th scope=col>cyl</th><th scope=col>disp</th><th scope=col>hp</th><th scope=col>wt</th></tr>\n",
       "\t<tr><th scope=col>&lt;dbl&gt;</th><th scope=col>&lt;dbl&gt;</th><th scope=col>&lt;dbl&gt;</th><th scope=col>&lt;dbl&gt;</th><th scope=col>&lt;dbl&gt;</th></tr>\n",
       "</thead>\n",
       "<tbody>\n",
       "\t<tr><td>21.0</td><td>6</td><td>160</td><td>110</td><td>2.620</td></tr>\n",
       "\t<tr><td>21.0</td><td>6</td><td>160</td><td>110</td><td>2.875</td></tr>\n",
       "\t<tr><td>22.8</td><td>4</td><td>108</td><td> 93</td><td>2.320</td></tr>\n",
       "\t<tr><td>21.4</td><td>6</td><td>258</td><td>110</td><td>3.215</td></tr>\n",
       "\t<tr><td>18.7</td><td>8</td><td>360</td><td>175</td><td>3.440</td></tr>\n",
       "\t<tr><td>18.1</td><td>6</td><td>225</td><td>105</td><td>3.460</td></tr>\n",
       "</tbody>\n",
       "</table>\n"
      ],
      "text/latex": [
       "A data.table: 6 x 5\n",
       "\\begin{tabular}{lllll}\n",
       " mpg & cyl & disp & hp & wt\\\\\n",
       " <dbl> & <dbl> & <dbl> & <dbl> & <dbl>\\\\\n",
       "\\hline\n",
       "\t 21.0 & 6 & 160 & 110 & 2.620\\\\\n",
       "\t 21.0 & 6 & 160 & 110 & 2.875\\\\\n",
       "\t 22.8 & 4 & 108 &  93 & 2.320\\\\\n",
       "\t 21.4 & 6 & 258 & 110 & 3.215\\\\\n",
       "\t 18.7 & 8 & 360 & 175 & 3.440\\\\\n",
       "\t 18.1 & 6 & 225 & 105 & 3.460\\\\\n",
       "\\end{tabular}\n"
      ],
      "text/markdown": [
       "\n",
       "A data.table: 6 x 5\n",
       "\n",
       "| mpg &lt;dbl&gt; | cyl &lt;dbl&gt; | disp &lt;dbl&gt; | hp &lt;dbl&gt; | wt &lt;dbl&gt; |\n",
       "|---|---|---|---|---|\n",
       "| 21.0 | 6 | 160 | 110 | 2.620 |\n",
       "| 21.0 | 6 | 160 | 110 | 2.875 |\n",
       "| 22.8 | 4 | 108 |  93 | 2.320 |\n",
       "| 21.4 | 6 | 258 | 110 | 3.215 |\n",
       "| 18.7 | 8 | 360 | 175 | 3.440 |\n",
       "| 18.1 | 6 | 225 | 105 | 3.460 |\n",
       "\n"
      ],
      "text/plain": [
       "  mpg  cyl disp hp  wt   \n",
       "1 21.0 6   160  110 2.620\n",
       "2 21.0 6   160  110 2.875\n",
       "3 22.8 4   108   93 2.320\n",
       "4 21.4 6   258  110 3.215\n",
       "5 18.7 8   360  175 3.440\n",
       "6 18.1 6   225  105 3.460"
      ]
     },
     "metadata": {},
     "output_type": "display_data"
    }
   ],
   "source": [
    "gr <- po(\n",
    "  \"filter\",\n",
    "  filter = flt(\"information_gain\"),\n",
    "  filter.cutoff = 0.1\n",
    ")\n",
    "\n",
    "tsk <- tsk(\"mtcars\")\n",
    "gr$train(list(tsk))[[1]]$head()"
   ]
  },
  {
   "cell_type": "code",
   "execution_count": 37,
   "id": "8accf779",
   "metadata": {
    "vscode": {
     "languageId": "r"
    }
   },
   "outputs": [
    {
     "data": {
      "text/plain": [
       "<ParamSetCollection(9)>\n",
       "                id    class lower upper nlevels        default  value\n",
       "            <char>   <char> <num> <num>   <num>         <list> <list>\n",
       "1:    filter.nfeat ParamInt     0   Inf     Inf <NoDefault[0]> [NULL]\n",
       "2:     filter.frac ParamDbl     0     1     Inf <NoDefault[0]> [NULL]\n",
       "3:   filter.cutoff ParamDbl  -Inf   Inf     Inf <NoDefault[0]>    0.1\n",
       "4: filter.permuted ParamInt     1   Inf     Inf <NoDefault[0]> [NULL]\n",
       "5:            type ParamFct    NA    NA       3       infogain [NULL]\n",
       "6:           equal ParamLgl    NA    NA       2          FALSE [NULL]\n",
       "7:    discIntegers ParamLgl    NA    NA       2           TRUE [NULL]\n",
       "8:         threads ParamInt     0   Inf     Inf              0 [NULL]\n",
       "9:  affect_columns ParamUty    NA    NA     Inf  <Selector[1]> [NULL]"
      ]
     },
     "metadata": {},
     "output_type": "display_data"
    }
   ],
   "source": [
    "gr$param_set"
   ]
  },
  {
   "cell_type": "code",
   "execution_count": 39,
   "id": "b48af61d",
   "metadata": {
    "vscode": {
     "languageId": "r"
    }
   },
   "outputs": [
    {
     "data": {
      "text/html": [
       "<table class=\"dataframe\">\n",
       "<caption>A data.table: 6 x 10</caption>\n",
       "<thead>\n",
       "\t<tr><th scope=col>mpg</th><th scope=col>carb</th><th scope=col>cyl</th><th scope=col>disp</th><th scope=col>drat</th><th scope=col>gear</th><th scope=col>hp</th><th scope=col>qsec</th><th scope=col>vs</th><th scope=col>wt</th></tr>\n",
       "\t<tr><th scope=col>&lt;dbl&gt;</th><th scope=col>&lt;dbl&gt;</th><th scope=col>&lt;dbl&gt;</th><th scope=col>&lt;dbl&gt;</th><th scope=col>&lt;dbl&gt;</th><th scope=col>&lt;dbl&gt;</th><th scope=col>&lt;dbl&gt;</th><th scope=col>&lt;dbl&gt;</th><th scope=col>&lt;dbl&gt;</th><th scope=col>&lt;dbl&gt;</th></tr>\n",
       "</thead>\n",
       "<tbody>\n",
       "\t<tr><td>21.0</td><td>4</td><td>6</td><td>160</td><td>3.90</td><td>4</td><td>110</td><td>16.46</td><td>0</td><td>2.620</td></tr>\n",
       "\t<tr><td>21.0</td><td>4</td><td>6</td><td>160</td><td>3.90</td><td>4</td><td>110</td><td>17.02</td><td>0</td><td>2.875</td></tr>\n",
       "\t<tr><td>22.8</td><td>1</td><td>4</td><td>108</td><td>3.85</td><td>4</td><td> 93</td><td>18.61</td><td>1</td><td>2.320</td></tr>\n",
       "\t<tr><td>21.4</td><td>1</td><td>6</td><td>258</td><td>3.08</td><td>3</td><td>110</td><td>19.44</td><td>1</td><td>3.215</td></tr>\n",
       "\t<tr><td>18.7</td><td>2</td><td>8</td><td>360</td><td>3.15</td><td>3</td><td>175</td><td>17.02</td><td>0</td><td>3.440</td></tr>\n",
       "\t<tr><td>18.1</td><td>1</td><td>6</td><td>225</td><td>2.76</td><td>3</td><td>105</td><td>20.22</td><td>1</td><td>3.460</td></tr>\n",
       "</tbody>\n",
       "</table>\n"
      ],
      "text/latex": [
       "A data.table: 6 x 10\n",
       "\\begin{tabular}{llllllllll}\n",
       " mpg & carb & cyl & disp & drat & gear & hp & qsec & vs & wt\\\\\n",
       " <dbl> & <dbl> & <dbl> & <dbl> & <dbl> & <dbl> & <dbl> & <dbl> & <dbl> & <dbl>\\\\\n",
       "\\hline\n",
       "\t 21.0 & 4 & 6 & 160 & 3.90 & 4 & 110 & 16.46 & 0 & 2.620\\\\\n",
       "\t 21.0 & 4 & 6 & 160 & 3.90 & 4 & 110 & 17.02 & 0 & 2.875\\\\\n",
       "\t 22.8 & 1 & 4 & 108 & 3.85 & 4 &  93 & 18.61 & 1 & 2.320\\\\\n",
       "\t 21.4 & 1 & 6 & 258 & 3.08 & 3 & 110 & 19.44 & 1 & 3.215\\\\\n",
       "\t 18.7 & 2 & 8 & 360 & 3.15 & 3 & 175 & 17.02 & 0 & 3.440\\\\\n",
       "\t 18.1 & 1 & 6 & 225 & 2.76 & 3 & 105 & 20.22 & 1 & 3.460\\\\\n",
       "\\end{tabular}\n"
      ],
      "text/markdown": [
       "\n",
       "A data.table: 6 x 10\n",
       "\n",
       "| mpg &lt;dbl&gt; | carb &lt;dbl&gt; | cyl &lt;dbl&gt; | disp &lt;dbl&gt; | drat &lt;dbl&gt; | gear &lt;dbl&gt; | hp &lt;dbl&gt; | qsec &lt;dbl&gt; | vs &lt;dbl&gt; | wt &lt;dbl&gt; |\n",
       "|---|---|---|---|---|---|---|---|---|---|\n",
       "| 21.0 | 4 | 6 | 160 | 3.90 | 4 | 110 | 16.46 | 0 | 2.620 |\n",
       "| 21.0 | 4 | 6 | 160 | 3.90 | 4 | 110 | 17.02 | 0 | 2.875 |\n",
       "| 22.8 | 1 | 4 | 108 | 3.85 | 4 |  93 | 18.61 | 1 | 2.320 |\n",
       "| 21.4 | 1 | 6 | 258 | 3.08 | 3 | 110 | 19.44 | 1 | 3.215 |\n",
       "| 18.7 | 2 | 8 | 360 | 3.15 | 3 | 175 | 17.02 | 0 | 3.440 |\n",
       "| 18.1 | 1 | 6 | 225 | 2.76 | 3 | 105 | 20.22 | 1 | 3.460 |\n",
       "\n"
      ],
      "text/plain": [
       "  mpg  carb cyl disp drat gear hp  qsec  vs wt   \n",
       "1 21.0 4    6   160  3.90 4    110 16.46 0  2.620\n",
       "2 21.0 4    6   160  3.90 4    110 17.02 0  2.875\n",
       "3 22.8 1    4   108  3.85 4     93 18.61 1  2.320\n",
       "4 21.4 1    6   258  3.08 3    110 19.44 1  3.215\n",
       "5 18.7 2    8   360  3.15 3    175 17.02 0  3.440\n",
       "6 18.1 1    6   225  2.76 3    105 20.22 1  3.460"
      ]
     },
     "metadata": {},
     "output_type": "display_data"
    }
   ],
   "source": [
    "gr <- po(\n",
    "  \"filter\",\n",
    "  filter = flt(\"mim\"),\n",
    "  filter.cutoff = 0.1\n",
    ")\n",
    "\n",
    "tsk <- tsk(\"mtcars\")\n",
    "gr$train(list(tsk))[[1]]$head()"
   ]
  },
  {
   "cell_type": "code",
   "execution_count": 40,
   "id": "602d57df",
   "metadata": {
    "vscode": {
     "languageId": "r"
    }
   },
   "outputs": [
    {
     "data": {
      "text/plain": [
       "<ParamSetCollection(6)>\n",
       "                id    class lower upper nlevels        default  value\n",
       "            <char>   <char> <num> <num>   <num>         <list> <list>\n",
       "1:    filter.nfeat ParamInt     0   Inf     Inf <NoDefault[0]> [NULL]\n",
       "2:     filter.frac ParamDbl     0     1     Inf <NoDefault[0]> [NULL]\n",
       "3:   filter.cutoff ParamDbl  -Inf   Inf     Inf <NoDefault[0]>    0.1\n",
       "4: filter.permuted ParamInt     1   Inf     Inf <NoDefault[0]> [NULL]\n",
       "5:         threads ParamInt     0   Inf     Inf              0      1\n",
       "6:  affect_columns ParamUty    NA    NA     Inf  <Selector[1]> [NULL]"
      ]
     },
     "metadata": {},
     "output_type": "display_data"
    }
   ],
   "source": [
    "gr$param_set"
   ]
  },
  {
   "cell_type": "code",
   "execution_count": 41,
   "id": "49b774c8",
   "metadata": {
    "vscode": {
     "languageId": "r"
    }
   },
   "outputs": [
    {
     "data": {
      "text/html": [
       "<table class=\"dataframe\">\n",
       "<caption>A data.table: 6 x 10</caption>\n",
       "<thead>\n",
       "\t<tr><th scope=col>mpg</th><th scope=col>am</th><th scope=col>carb</th><th scope=col>cyl</th><th scope=col>disp</th><th scope=col>drat</th><th scope=col>gear</th><th scope=col>hp</th><th scope=col>qsec</th><th scope=col>wt</th></tr>\n",
       "\t<tr><th scope=col>&lt;dbl&gt;</th><th scope=col>&lt;dbl&gt;</th><th scope=col>&lt;dbl&gt;</th><th scope=col>&lt;dbl&gt;</th><th scope=col>&lt;dbl&gt;</th><th scope=col>&lt;dbl&gt;</th><th scope=col>&lt;dbl&gt;</th><th scope=col>&lt;dbl&gt;</th><th scope=col>&lt;dbl&gt;</th><th scope=col>&lt;dbl&gt;</th></tr>\n",
       "</thead>\n",
       "<tbody>\n",
       "\t<tr><td>21.0</td><td>1</td><td>4</td><td>6</td><td>160</td><td>3.90</td><td>4</td><td>110</td><td>16.46</td><td>2.620</td></tr>\n",
       "\t<tr><td>21.0</td><td>1</td><td>4</td><td>6</td><td>160</td><td>3.90</td><td>4</td><td>110</td><td>17.02</td><td>2.875</td></tr>\n",
       "\t<tr><td>22.8</td><td>1</td><td>1</td><td>4</td><td>108</td><td>3.85</td><td>4</td><td> 93</td><td>18.61</td><td>2.320</td></tr>\n",
       "\t<tr><td>21.4</td><td>0</td><td>1</td><td>6</td><td>258</td><td>3.08</td><td>3</td><td>110</td><td>19.44</td><td>3.215</td></tr>\n",
       "\t<tr><td>18.7</td><td>0</td><td>2</td><td>8</td><td>360</td><td>3.15</td><td>3</td><td>175</td><td>17.02</td><td>3.440</td></tr>\n",
       "\t<tr><td>18.1</td><td>0</td><td>1</td><td>6</td><td>225</td><td>2.76</td><td>3</td><td>105</td><td>20.22</td><td>3.460</td></tr>\n",
       "</tbody>\n",
       "</table>\n"
      ],
      "text/latex": [
       "A data.table: 6 x 10\n",
       "\\begin{tabular}{llllllllll}\n",
       " mpg & am & carb & cyl & disp & drat & gear & hp & qsec & wt\\\\\n",
       " <dbl> & <dbl> & <dbl> & <dbl> & <dbl> & <dbl> & <dbl> & <dbl> & <dbl> & <dbl>\\\\\n",
       "\\hline\n",
       "\t 21.0 & 1 & 4 & 6 & 160 & 3.90 & 4 & 110 & 16.46 & 2.620\\\\\n",
       "\t 21.0 & 1 & 4 & 6 & 160 & 3.90 & 4 & 110 & 17.02 & 2.875\\\\\n",
       "\t 22.8 & 1 & 1 & 4 & 108 & 3.85 & 4 &  93 & 18.61 & 2.320\\\\\n",
       "\t 21.4 & 0 & 1 & 6 & 258 & 3.08 & 3 & 110 & 19.44 & 3.215\\\\\n",
       "\t 18.7 & 0 & 2 & 8 & 360 & 3.15 & 3 & 175 & 17.02 & 3.440\\\\\n",
       "\t 18.1 & 0 & 1 & 6 & 225 & 2.76 & 3 & 105 & 20.22 & 3.460\\\\\n",
       "\\end{tabular}\n"
      ],
      "text/markdown": [
       "\n",
       "A data.table: 6 x 10\n",
       "\n",
       "| mpg &lt;dbl&gt; | am &lt;dbl&gt; | carb &lt;dbl&gt; | cyl &lt;dbl&gt; | disp &lt;dbl&gt; | drat &lt;dbl&gt; | gear &lt;dbl&gt; | hp &lt;dbl&gt; | qsec &lt;dbl&gt; | wt &lt;dbl&gt; |\n",
       "|---|---|---|---|---|---|---|---|---|---|\n",
       "| 21.0 | 1 | 4 | 6 | 160 | 3.90 | 4 | 110 | 16.46 | 2.620 |\n",
       "| 21.0 | 1 | 4 | 6 | 160 | 3.90 | 4 | 110 | 17.02 | 2.875 |\n",
       "| 22.8 | 1 | 1 | 4 | 108 | 3.85 | 4 |  93 | 18.61 | 2.320 |\n",
       "| 21.4 | 0 | 1 | 6 | 258 | 3.08 | 3 | 110 | 19.44 | 3.215 |\n",
       "| 18.7 | 0 | 2 | 8 | 360 | 3.15 | 3 | 175 | 17.02 | 3.440 |\n",
       "| 18.1 | 0 | 1 | 6 | 225 | 2.76 | 3 | 105 | 20.22 | 3.460 |\n",
       "\n"
      ],
      "text/plain": [
       "  mpg  am carb cyl disp drat gear hp  qsec  wt   \n",
       "1 21.0 1  4    6   160  3.90 4    110 16.46 2.620\n",
       "2 21.0 1  4    6   160  3.90 4    110 17.02 2.875\n",
       "3 22.8 1  1    4   108  3.85 4     93 18.61 2.320\n",
       "4 21.4 0  1    6   258  3.08 3    110 19.44 3.215\n",
       "5 18.7 0  2    8   360  3.15 3    175 17.02 3.440\n",
       "6 18.1 0  1    6   225  2.76 3    105 20.22 3.460"
      ]
     },
     "metadata": {},
     "output_type": "display_data"
    }
   ],
   "source": [
    "gr <- po(\n",
    "  \"filter\",\n",
    "  filter = flt(\"jmi\"),\n",
    "  filter.cutoff = 0.1\n",
    ")\n",
    "\n",
    "tsk <- tsk(\"mtcars\")\n",
    "gr$train(list(tsk))[[1]]$head()"
   ]
  },
  {
   "cell_type": "code",
   "execution_count": 42,
   "id": "c2cd45ac",
   "metadata": {
    "vscode": {
     "languageId": "r"
    }
   },
   "outputs": [
    {
     "data": {
      "text/plain": [
       "<ParamSetCollection(6)>\n",
       "                id    class lower upper nlevels        default  value\n",
       "            <char>   <char> <num> <num>   <num>         <list> <list>\n",
       "1:    filter.nfeat ParamInt     0   Inf     Inf <NoDefault[0]> [NULL]\n",
       "2:     filter.frac ParamDbl     0     1     Inf <NoDefault[0]> [NULL]\n",
       "3:   filter.cutoff ParamDbl  -Inf   Inf     Inf <NoDefault[0]>    0.1\n",
       "4: filter.permuted ParamInt     1   Inf     Inf <NoDefault[0]> [NULL]\n",
       "5:         threads ParamInt     0   Inf     Inf              0      1\n",
       "6:  affect_columns ParamUty    NA    NA     Inf  <Selector[1]> [NULL]"
      ]
     },
     "metadata": {},
     "output_type": "display_data"
    }
   ],
   "source": [
    "gr$param_set"
   ]
  },
  {
   "cell_type": "code",
   "execution_count": 43,
   "id": "bf877acf",
   "metadata": {
    "vscode": {
     "languageId": "r"
    }
   },
   "outputs": [
    {
     "data": {
      "text/html": [
       "<table class=\"dataframe\">\n",
       "<caption>A data.table: 6 x 10</caption>\n",
       "<thead>\n",
       "\t<tr><th scope=col>mpg</th><th scope=col>carb</th><th scope=col>cyl</th><th scope=col>disp</th><th scope=col>drat</th><th scope=col>gear</th><th scope=col>hp</th><th scope=col>qsec</th><th scope=col>vs</th><th scope=col>wt</th></tr>\n",
       "\t<tr><th scope=col>&lt;dbl&gt;</th><th scope=col>&lt;dbl&gt;</th><th scope=col>&lt;dbl&gt;</th><th scope=col>&lt;dbl&gt;</th><th scope=col>&lt;dbl&gt;</th><th scope=col>&lt;dbl&gt;</th><th scope=col>&lt;dbl&gt;</th><th scope=col>&lt;dbl&gt;</th><th scope=col>&lt;dbl&gt;</th><th scope=col>&lt;dbl&gt;</th></tr>\n",
       "</thead>\n",
       "<tbody>\n",
       "\t<tr><td>21.0</td><td>4</td><td>6</td><td>160</td><td>3.90</td><td>4</td><td>110</td><td>16.46</td><td>0</td><td>2.620</td></tr>\n",
       "\t<tr><td>21.0</td><td>4</td><td>6</td><td>160</td><td>3.90</td><td>4</td><td>110</td><td>17.02</td><td>0</td><td>2.875</td></tr>\n",
       "\t<tr><td>22.8</td><td>1</td><td>4</td><td>108</td><td>3.85</td><td>4</td><td> 93</td><td>18.61</td><td>1</td><td>2.320</td></tr>\n",
       "\t<tr><td>21.4</td><td>1</td><td>6</td><td>258</td><td>3.08</td><td>3</td><td>110</td><td>19.44</td><td>1</td><td>3.215</td></tr>\n",
       "\t<tr><td>18.7</td><td>2</td><td>8</td><td>360</td><td>3.15</td><td>3</td><td>175</td><td>17.02</td><td>0</td><td>3.440</td></tr>\n",
       "\t<tr><td>18.1</td><td>1</td><td>6</td><td>225</td><td>2.76</td><td>3</td><td>105</td><td>20.22</td><td>1</td><td>3.460</td></tr>\n",
       "</tbody>\n",
       "</table>\n"
      ],
      "text/latex": [
       "A data.table: 6 x 10\n",
       "\\begin{tabular}{llllllllll}\n",
       " mpg & carb & cyl & disp & drat & gear & hp & qsec & vs & wt\\\\\n",
       " <dbl> & <dbl> & <dbl> & <dbl> & <dbl> & <dbl> & <dbl> & <dbl> & <dbl> & <dbl>\\\\\n",
       "\\hline\n",
       "\t 21.0 & 4 & 6 & 160 & 3.90 & 4 & 110 & 16.46 & 0 & 2.620\\\\\n",
       "\t 21.0 & 4 & 6 & 160 & 3.90 & 4 & 110 & 17.02 & 0 & 2.875\\\\\n",
       "\t 22.8 & 1 & 4 & 108 & 3.85 & 4 &  93 & 18.61 & 1 & 2.320\\\\\n",
       "\t 21.4 & 1 & 6 & 258 & 3.08 & 3 & 110 & 19.44 & 1 & 3.215\\\\\n",
       "\t 18.7 & 2 & 8 & 360 & 3.15 & 3 & 175 & 17.02 & 0 & 3.440\\\\\n",
       "\t 18.1 & 1 & 6 & 225 & 2.76 & 3 & 105 & 20.22 & 1 & 3.460\\\\\n",
       "\\end{tabular}\n"
      ],
      "text/markdown": [
       "\n",
       "A data.table: 6 x 10\n",
       "\n",
       "| mpg &lt;dbl&gt; | carb &lt;dbl&gt; | cyl &lt;dbl&gt; | disp &lt;dbl&gt; | drat &lt;dbl&gt; | gear &lt;dbl&gt; | hp &lt;dbl&gt; | qsec &lt;dbl&gt; | vs &lt;dbl&gt; | wt &lt;dbl&gt; |\n",
       "|---|---|---|---|---|---|---|---|---|---|\n",
       "| 21.0 | 4 | 6 | 160 | 3.90 | 4 | 110 | 16.46 | 0 | 2.620 |\n",
       "| 21.0 | 4 | 6 | 160 | 3.90 | 4 | 110 | 17.02 | 0 | 2.875 |\n",
       "| 22.8 | 1 | 4 | 108 | 3.85 | 4 |  93 | 18.61 | 1 | 2.320 |\n",
       "| 21.4 | 1 | 6 | 258 | 3.08 | 3 | 110 | 19.44 | 1 | 3.215 |\n",
       "| 18.7 | 2 | 8 | 360 | 3.15 | 3 | 175 | 17.02 | 0 | 3.440 |\n",
       "| 18.1 | 1 | 6 | 225 | 2.76 | 3 | 105 | 20.22 | 1 | 3.460 |\n",
       "\n"
      ],
      "text/plain": [
       "  mpg  carb cyl disp drat gear hp  qsec  vs wt   \n",
       "1 21.0 4    6   160  3.90 4    110 16.46 0  2.620\n",
       "2 21.0 4    6   160  3.90 4    110 17.02 0  2.875\n",
       "3 22.8 1    4   108  3.85 4     93 18.61 1  2.320\n",
       "4 21.4 1    6   258  3.08 3    110 19.44 1  3.215\n",
       "5 18.7 2    8   360  3.15 3    175 17.02 0  3.440\n",
       "6 18.1 1    6   225  2.76 3    105 20.22 1  3.460"
      ]
     },
     "metadata": {},
     "output_type": "display_data"
    }
   ],
   "source": [
    "gr <- po(\n",
    "  \"filter\",\n",
    "  filter = flt(\"jmim\"),\n",
    "  filter.cutoff = 0.1\n",
    ")\n",
    "\n",
    "tsk <- tsk(\"mtcars\")\n",
    "gr$train(list(tsk))[[1]]$head()"
   ]
  },
  {
   "cell_type": "code",
   "execution_count": 44,
   "id": "9f1af318",
   "metadata": {
    "vscode": {
     "languageId": "r"
    }
   },
   "outputs": [
    {
     "data": {
      "text/plain": [
       "<ParamSetCollection(6)>\n",
       "                id    class lower upper nlevels        default  value\n",
       "            <char>   <char> <num> <num>   <num>         <list> <list>\n",
       "1:    filter.nfeat ParamInt     0   Inf     Inf <NoDefault[0]> [NULL]\n",
       "2:     filter.frac ParamDbl     0     1     Inf <NoDefault[0]> [NULL]\n",
       "3:   filter.cutoff ParamDbl  -Inf   Inf     Inf <NoDefault[0]>    0.1\n",
       "4: filter.permuted ParamInt     1   Inf     Inf <NoDefault[0]> [NULL]\n",
       "5:         threads ParamInt     0   Inf     Inf              0      1\n",
       "6:  affect_columns ParamUty    NA    NA     Inf  <Selector[1]> [NULL]"
      ]
     },
     "metadata": {},
     "output_type": "display_data"
    }
   ],
   "source": [
    "gr$param_set"
   ]
  },
  {
   "cell_type": "code",
   "execution_count": 45,
   "id": "a369f9f2",
   "metadata": {
    "vscode": {
     "languageId": "r"
    }
   },
   "outputs": [
    {
     "data": {
      "text/html": [
       "<table class=\"dataframe\">\n",
       "<caption>A data.table: 6 x 10</caption>\n",
       "<thead>\n",
       "\t<tr><th scope=col>mpg</th><th scope=col>carb</th><th scope=col>cyl</th><th scope=col>disp</th><th scope=col>drat</th><th scope=col>gear</th><th scope=col>hp</th><th scope=col>qsec</th><th scope=col>vs</th><th scope=col>wt</th></tr>\n",
       "\t<tr><th scope=col>&lt;dbl&gt;</th><th scope=col>&lt;dbl&gt;</th><th scope=col>&lt;dbl&gt;</th><th scope=col>&lt;dbl&gt;</th><th scope=col>&lt;dbl&gt;</th><th scope=col>&lt;dbl&gt;</th><th scope=col>&lt;dbl&gt;</th><th scope=col>&lt;dbl&gt;</th><th scope=col>&lt;dbl&gt;</th><th scope=col>&lt;dbl&gt;</th></tr>\n",
       "</thead>\n",
       "<tbody>\n",
       "\t<tr><td>21.0</td><td>4</td><td>6</td><td>160</td><td>3.90</td><td>4</td><td>110</td><td>16.46</td><td>0</td><td>2.620</td></tr>\n",
       "\t<tr><td>21.0</td><td>4</td><td>6</td><td>160</td><td>3.90</td><td>4</td><td>110</td><td>17.02</td><td>0</td><td>2.875</td></tr>\n",
       "\t<tr><td>22.8</td><td>1</td><td>4</td><td>108</td><td>3.85</td><td>4</td><td> 93</td><td>18.61</td><td>1</td><td>2.320</td></tr>\n",
       "\t<tr><td>21.4</td><td>1</td><td>6</td><td>258</td><td>3.08</td><td>3</td><td>110</td><td>19.44</td><td>1</td><td>3.215</td></tr>\n",
       "\t<tr><td>18.7</td><td>2</td><td>8</td><td>360</td><td>3.15</td><td>3</td><td>175</td><td>17.02</td><td>0</td><td>3.440</td></tr>\n",
       "\t<tr><td>18.1</td><td>1</td><td>6</td><td>225</td><td>2.76</td><td>3</td><td>105</td><td>20.22</td><td>1</td><td>3.460</td></tr>\n",
       "</tbody>\n",
       "</table>\n"
      ],
      "text/latex": [
       "A data.table: 6 x 10\n",
       "\\begin{tabular}{llllllllll}\n",
       " mpg & carb & cyl & disp & drat & gear & hp & qsec & vs & wt\\\\\n",
       " <dbl> & <dbl> & <dbl> & <dbl> & <dbl> & <dbl> & <dbl> & <dbl> & <dbl> & <dbl>\\\\\n",
       "\\hline\n",
       "\t 21.0 & 4 & 6 & 160 & 3.90 & 4 & 110 & 16.46 & 0 & 2.620\\\\\n",
       "\t 21.0 & 4 & 6 & 160 & 3.90 & 4 & 110 & 17.02 & 0 & 2.875\\\\\n",
       "\t 22.8 & 1 & 4 & 108 & 3.85 & 4 &  93 & 18.61 & 1 & 2.320\\\\\n",
       "\t 21.4 & 1 & 6 & 258 & 3.08 & 3 & 110 & 19.44 & 1 & 3.215\\\\\n",
       "\t 18.7 & 2 & 8 & 360 & 3.15 & 3 & 175 & 17.02 & 0 & 3.440\\\\\n",
       "\t 18.1 & 1 & 6 & 225 & 2.76 & 3 & 105 & 20.22 & 1 & 3.460\\\\\n",
       "\\end{tabular}\n"
      ],
      "text/markdown": [
       "\n",
       "A data.table: 6 x 10\n",
       "\n",
       "| mpg &lt;dbl&gt; | carb &lt;dbl&gt; | cyl &lt;dbl&gt; | disp &lt;dbl&gt; | drat &lt;dbl&gt; | gear &lt;dbl&gt; | hp &lt;dbl&gt; | qsec &lt;dbl&gt; | vs &lt;dbl&gt; | wt &lt;dbl&gt; |\n",
       "|---|---|---|---|---|---|---|---|---|---|\n",
       "| 21.0 | 4 | 6 | 160 | 3.90 | 4 | 110 | 16.46 | 0 | 2.620 |\n",
       "| 21.0 | 4 | 6 | 160 | 3.90 | 4 | 110 | 17.02 | 0 | 2.875 |\n",
       "| 22.8 | 1 | 4 | 108 | 3.85 | 4 |  93 | 18.61 | 1 | 2.320 |\n",
       "| 21.4 | 1 | 6 | 258 | 3.08 | 3 | 110 | 19.44 | 1 | 3.215 |\n",
       "| 18.7 | 2 | 8 | 360 | 3.15 | 3 | 175 | 17.02 | 0 | 3.440 |\n",
       "| 18.1 | 1 | 6 | 225 | 2.76 | 3 | 105 | 20.22 | 1 | 3.460 |\n",
       "\n"
      ],
      "text/plain": [
       "  mpg  carb cyl disp drat gear hp  qsec  vs wt   \n",
       "1 21.0 4    6   160  3.90 4    110 16.46 0  2.620\n",
       "2 21.0 4    6   160  3.90 4    110 17.02 0  2.875\n",
       "3 22.8 1    4   108  3.85 4     93 18.61 1  2.320\n",
       "4 21.4 1    6   258  3.08 3    110 19.44 1  3.215\n",
       "5 18.7 2    8   360  3.15 3    175 17.02 0  3.440\n",
       "6 18.1 1    6   225  2.76 3    105 20.22 1  3.460"
      ]
     },
     "metadata": {},
     "output_type": "display_data"
    }
   ],
   "source": [
    "gr <- po(\n",
    "  \"filter\",\n",
    "  filter = flt(\"njmim\"),\n",
    "  filter.cutoff = 0.1\n",
    ")\n",
    "\n",
    "tsk <- tsk(\"mtcars\")\n",
    "gr$train(list(tsk))[[1]]$head()"
   ]
  },
  {
   "cell_type": "code",
   "execution_count": 46,
   "id": "7b5e0d65",
   "metadata": {
    "vscode": {
     "languageId": "r"
    }
   },
   "outputs": [
    {
     "data": {
      "text/plain": [
       "<ParamSetCollection(6)>\n",
       "                id    class lower upper nlevels        default  value\n",
       "            <char>   <char> <num> <num>   <num>         <list> <list>\n",
       "1:    filter.nfeat ParamInt     0   Inf     Inf <NoDefault[0]> [NULL]\n",
       "2:     filter.frac ParamDbl     0     1     Inf <NoDefault[0]> [NULL]\n",
       "3:   filter.cutoff ParamDbl  -Inf   Inf     Inf <NoDefault[0]>    0.1\n",
       "4: filter.permuted ParamInt     1   Inf     Inf <NoDefault[0]> [NULL]\n",
       "5:         threads ParamInt     0   Inf     Inf              0      1\n",
       "6:  affect_columns ParamUty    NA    NA     Inf  <Selector[1]> [NULL]"
      ]
     },
     "metadata": {},
     "output_type": "display_data"
    }
   ],
   "source": [
    "gr$param_set"
   ]
  },
  {
   "cell_type": "code",
   "execution_count": 47,
   "id": "872bdfd9",
   "metadata": {
    "vscode": {
     "languageId": "r"
    }
   },
   "outputs": [
    {
     "data": {
      "text/html": [
       "<table class=\"dataframe\">\n",
       "<caption>A data.table: 6 x 10</caption>\n",
       "<thead>\n",
       "\t<tr><th scope=col>mpg</th><th scope=col>carb</th><th scope=col>cyl</th><th scope=col>disp</th><th scope=col>drat</th><th scope=col>gear</th><th scope=col>hp</th><th scope=col>qsec</th><th scope=col>vs</th><th scope=col>wt</th></tr>\n",
       "\t<tr><th scope=col>&lt;dbl&gt;</th><th scope=col>&lt;dbl&gt;</th><th scope=col>&lt;dbl&gt;</th><th scope=col>&lt;dbl&gt;</th><th scope=col>&lt;dbl&gt;</th><th scope=col>&lt;dbl&gt;</th><th scope=col>&lt;dbl&gt;</th><th scope=col>&lt;dbl&gt;</th><th scope=col>&lt;dbl&gt;</th><th scope=col>&lt;dbl&gt;</th></tr>\n",
       "</thead>\n",
       "<tbody>\n",
       "\t<tr><td>21.0</td><td>4</td><td>6</td><td>160</td><td>3.90</td><td>4</td><td>110</td><td>16.46</td><td>0</td><td>2.620</td></tr>\n",
       "\t<tr><td>21.0</td><td>4</td><td>6</td><td>160</td><td>3.90</td><td>4</td><td>110</td><td>17.02</td><td>0</td><td>2.875</td></tr>\n",
       "\t<tr><td>22.8</td><td>1</td><td>4</td><td>108</td><td>3.85</td><td>4</td><td> 93</td><td>18.61</td><td>1</td><td>2.320</td></tr>\n",
       "\t<tr><td>21.4</td><td>1</td><td>6</td><td>258</td><td>3.08</td><td>3</td><td>110</td><td>19.44</td><td>1</td><td>3.215</td></tr>\n",
       "\t<tr><td>18.7</td><td>2</td><td>8</td><td>360</td><td>3.15</td><td>3</td><td>175</td><td>17.02</td><td>0</td><td>3.440</td></tr>\n",
       "\t<tr><td>18.1</td><td>1</td><td>6</td><td>225</td><td>2.76</td><td>3</td><td>105</td><td>20.22</td><td>1</td><td>3.460</td></tr>\n",
       "</tbody>\n",
       "</table>\n"
      ],
      "text/latex": [
       "A data.table: 6 x 10\n",
       "\\begin{tabular}{llllllllll}\n",
       " mpg & carb & cyl & disp & drat & gear & hp & qsec & vs & wt\\\\\n",
       " <dbl> & <dbl> & <dbl> & <dbl> & <dbl> & <dbl> & <dbl> & <dbl> & <dbl> & <dbl>\\\\\n",
       "\\hline\n",
       "\t 21.0 & 4 & 6 & 160 & 3.90 & 4 & 110 & 16.46 & 0 & 2.620\\\\\n",
       "\t 21.0 & 4 & 6 & 160 & 3.90 & 4 & 110 & 17.02 & 0 & 2.875\\\\\n",
       "\t 22.8 & 1 & 4 & 108 & 3.85 & 4 &  93 & 18.61 & 1 & 2.320\\\\\n",
       "\t 21.4 & 1 & 6 & 258 & 3.08 & 3 & 110 & 19.44 & 1 & 3.215\\\\\n",
       "\t 18.7 & 2 & 8 & 360 & 3.15 & 3 & 175 & 17.02 & 0 & 3.440\\\\\n",
       "\t 18.1 & 1 & 6 & 225 & 2.76 & 3 & 105 & 20.22 & 1 & 3.460\\\\\n",
       "\\end{tabular}\n"
      ],
      "text/markdown": [
       "\n",
       "A data.table: 6 x 10\n",
       "\n",
       "| mpg &lt;dbl&gt; | carb &lt;dbl&gt; | cyl &lt;dbl&gt; | disp &lt;dbl&gt; | drat &lt;dbl&gt; | gear &lt;dbl&gt; | hp &lt;dbl&gt; | qsec &lt;dbl&gt; | vs &lt;dbl&gt; | wt &lt;dbl&gt; |\n",
       "|---|---|---|---|---|---|---|---|---|---|\n",
       "| 21.0 | 4 | 6 | 160 | 3.90 | 4 | 110 | 16.46 | 0 | 2.620 |\n",
       "| 21.0 | 4 | 6 | 160 | 3.90 | 4 | 110 | 17.02 | 0 | 2.875 |\n",
       "| 22.8 | 1 | 4 | 108 | 3.85 | 4 |  93 | 18.61 | 1 | 2.320 |\n",
       "| 21.4 | 1 | 6 | 258 | 3.08 | 3 | 110 | 19.44 | 1 | 3.215 |\n",
       "| 18.7 | 2 | 8 | 360 | 3.15 | 3 | 175 | 17.02 | 0 | 3.440 |\n",
       "| 18.1 | 1 | 6 | 225 | 2.76 | 3 | 105 | 20.22 | 1 | 3.460 |\n",
       "\n"
      ],
      "text/plain": [
       "  mpg  carb cyl disp drat gear hp  qsec  vs wt   \n",
       "1 21.0 4    6   160  3.90 4    110 16.46 0  2.620\n",
       "2 21.0 4    6   160  3.90 4    110 17.02 0  2.875\n",
       "3 22.8 1    4   108  3.85 4     93 18.61 1  2.320\n",
       "4 21.4 1    6   258  3.08 3    110 19.44 1  3.215\n",
       "5 18.7 2    8   360  3.15 3    175 17.02 0  3.440\n",
       "6 18.1 1    6   225  2.76 3    105 20.22 1  3.460"
      ]
     },
     "metadata": {},
     "output_type": "display_data"
    }
   ],
   "source": [
    "gr <- po(\n",
    "  \"filter\",\n",
    "  filter = flt(\"disr\"),\n",
    "  filter.cutoff = 0.1\n",
    ")\n",
    "\n",
    "tsk <- tsk(\"mtcars\")\n",
    "gr$train(list(tsk))[[1]]$head()"
   ]
  },
  {
   "cell_type": "code",
   "execution_count": 48,
   "id": "df67ed8f",
   "metadata": {
    "vscode": {
     "languageId": "r"
    }
   },
   "outputs": [
    {
     "data": {
      "text/plain": [
       "<ParamSetCollection(6)>\n",
       "                id    class lower upper nlevels        default  value\n",
       "            <char>   <char> <num> <num>   <num>         <list> <list>\n",
       "1:    filter.nfeat ParamInt     0   Inf     Inf <NoDefault[0]> [NULL]\n",
       "2:     filter.frac ParamDbl     0     1     Inf <NoDefault[0]> [NULL]\n",
       "3:   filter.cutoff ParamDbl  -Inf   Inf     Inf <NoDefault[0]>    0.1\n",
       "4: filter.permuted ParamInt     1   Inf     Inf <NoDefault[0]> [NULL]\n",
       "5:         threads ParamInt     0   Inf     Inf              0      1\n",
       "6:  affect_columns ParamUty    NA    NA     Inf  <Selector[1]> [NULL]"
      ]
     },
     "metadata": {},
     "output_type": "display_data"
    }
   ],
   "source": [
    "gr$param_set"
   ]
  },
  {
   "cell_type": "code",
   "execution_count": 55,
   "id": "db63ab85",
   "metadata": {
    "vscode": {
     "languageId": "r"
    }
   },
   "outputs": [
    {
     "data": {
      "text/html": [
       "<table class=\"dataframe\">\n",
       "<caption>A data.table: 6 x 4</caption>\n",
       "<thead>\n",
       "\t<tr><th scope=col>Species</th><th scope=col>Petal.Length</th><th scope=col>Petal.Width</th><th scope=col>Sepal.Length</th></tr>\n",
       "\t<tr><th scope=col>&lt;fct&gt;</th><th scope=col>&lt;dbl&gt;</th><th scope=col>&lt;dbl&gt;</th><th scope=col>&lt;dbl&gt;</th></tr>\n",
       "</thead>\n",
       "<tbody>\n",
       "\t<tr><td>setosa</td><td>1.4</td><td>0.2</td><td>5.1</td></tr>\n",
       "\t<tr><td>setosa</td><td>1.4</td><td>0.2</td><td>4.9</td></tr>\n",
       "\t<tr><td>setosa</td><td>1.3</td><td>0.2</td><td>4.7</td></tr>\n",
       "\t<tr><td>setosa</td><td>1.5</td><td>0.2</td><td>4.6</td></tr>\n",
       "\t<tr><td>setosa</td><td>1.4</td><td>0.2</td><td>5.0</td></tr>\n",
       "\t<tr><td>setosa</td><td>1.7</td><td>0.4</td><td>5.4</td></tr>\n",
       "</tbody>\n",
       "</table>\n"
      ],
      "text/latex": [
       "A data.table: 6 x 4\n",
       "\\begin{tabular}{llll}\n",
       " Species & Petal.Length & Petal.Width & Sepal.Length\\\\\n",
       " <fct> & <dbl> & <dbl> & <dbl>\\\\\n",
       "\\hline\n",
       "\t setosa & 1.4 & 0.2 & 5.1\\\\\n",
       "\t setosa & 1.4 & 0.2 & 4.9\\\\\n",
       "\t setosa & 1.3 & 0.2 & 4.7\\\\\n",
       "\t setosa & 1.5 & 0.2 & 4.6\\\\\n",
       "\t setosa & 1.4 & 0.2 & 5.0\\\\\n",
       "\t setosa & 1.7 & 0.4 & 5.4\\\\\n",
       "\\end{tabular}\n"
      ],
      "text/markdown": [
       "\n",
       "A data.table: 6 x 4\n",
       "\n",
       "| Species &lt;fct&gt; | Petal.Length &lt;dbl&gt; | Petal.Width &lt;dbl&gt; | Sepal.Length &lt;dbl&gt; |\n",
       "|---|---|---|---|\n",
       "| setosa | 1.4 | 0.2 | 5.1 |\n",
       "| setosa | 1.4 | 0.2 | 4.9 |\n",
       "| setosa | 1.3 | 0.2 | 4.7 |\n",
       "| setosa | 1.5 | 0.2 | 4.6 |\n",
       "| setosa | 1.4 | 0.2 | 5.0 |\n",
       "| setosa | 1.7 | 0.4 | 5.4 |\n",
       "\n"
      ],
      "text/plain": [
       "  Species Petal.Length Petal.Width Sepal.Length\n",
       "1 setosa  1.4          0.2         5.1         \n",
       "2 setosa  1.4          0.2         4.9         \n",
       "3 setosa  1.3          0.2         4.7         \n",
       "4 setosa  1.5          0.2         4.6         \n",
       "5 setosa  1.4          0.2         5.0         \n",
       "6 setosa  1.7          0.4         5.4         "
      ]
     },
     "metadata": {},
     "output_type": "display_data"
    }
   ],
   "source": [
    "gr <- po(\n",
    "  \"filter\",\n",
    "  filter = flt(\"anova\"),\n",
    "  filter.nfeat = 3\n",
    ")\n",
    "\n",
    "tsk <- tsk(\"iris\")\n",
    "gr$train(list(tsk))[[1]]$head()"
   ]
  },
  {
   "cell_type": "code",
   "execution_count": 56,
   "id": "804dfd21",
   "metadata": {
    "vscode": {
     "languageId": "r"
    }
   },
   "outputs": [
    {
     "data": {
      "text/plain": [
       "<ParamSetCollection(5)>\n",
       "                id    class lower upper nlevels        default  value\n",
       "            <char>   <char> <num> <num>   <num>         <list> <list>\n",
       "1:    filter.nfeat ParamInt     0   Inf     Inf <NoDefault[0]>      3\n",
       "2:     filter.frac ParamDbl     0     1     Inf <NoDefault[0]> [NULL]\n",
       "3:   filter.cutoff ParamDbl  -Inf   Inf     Inf <NoDefault[0]> [NULL]\n",
       "4: filter.permuted ParamInt     1   Inf     Inf <NoDefault[0]> [NULL]\n",
       "5:  affect_columns ParamUty    NA    NA     Inf  <Selector[1]> [NULL]"
      ]
     },
     "metadata": {},
     "output_type": "display_data"
    }
   ],
   "source": [
    "gr$param_set"
   ]
  },
  {
   "cell_type": "code",
   "execution_count": 57,
   "id": "f632124e",
   "metadata": {
    "vscode": {
     "languageId": "r"
    }
   },
   "outputs": [
    {
     "data": {
      "text/html": [
       "<table class=\"dataframe\">\n",
       "<caption>A data.table: 6 x 4</caption>\n",
       "<thead>\n",
       "\t<tr><th scope=col>Species</th><th scope=col>Petal.Length</th><th scope=col>Petal.Width</th><th scope=col>Sepal.Length</th></tr>\n",
       "\t<tr><th scope=col>&lt;fct&gt;</th><th scope=col>&lt;dbl&gt;</th><th scope=col>&lt;dbl&gt;</th><th scope=col>&lt;dbl&gt;</th></tr>\n",
       "</thead>\n",
       "<tbody>\n",
       "\t<tr><td>setosa</td><td>1.4</td><td>0.2</td><td>5.1</td></tr>\n",
       "\t<tr><td>setosa</td><td>1.4</td><td>0.2</td><td>4.9</td></tr>\n",
       "\t<tr><td>setosa</td><td>1.3</td><td>0.2</td><td>4.7</td></tr>\n",
       "\t<tr><td>setosa</td><td>1.5</td><td>0.2</td><td>4.6</td></tr>\n",
       "\t<tr><td>setosa</td><td>1.4</td><td>0.2</td><td>5.0</td></tr>\n",
       "\t<tr><td>setosa</td><td>1.7</td><td>0.4</td><td>5.4</td></tr>\n",
       "</tbody>\n",
       "</table>\n"
      ],
      "text/latex": [
       "A data.table: 6 x 4\n",
       "\\begin{tabular}{llll}\n",
       " Species & Petal.Length & Petal.Width & Sepal.Length\\\\\n",
       " <fct> & <dbl> & <dbl> & <dbl>\\\\\n",
       "\\hline\n",
       "\t setosa & 1.4 & 0.2 & 5.1\\\\\n",
       "\t setosa & 1.4 & 0.2 & 4.9\\\\\n",
       "\t setosa & 1.3 & 0.2 & 4.7\\\\\n",
       "\t setosa & 1.5 & 0.2 & 4.6\\\\\n",
       "\t setosa & 1.4 & 0.2 & 5.0\\\\\n",
       "\t setosa & 1.7 & 0.4 & 5.4\\\\\n",
       "\\end{tabular}\n"
      ],
      "text/markdown": [
       "\n",
       "A data.table: 6 x 4\n",
       "\n",
       "| Species &lt;fct&gt; | Petal.Length &lt;dbl&gt; | Petal.Width &lt;dbl&gt; | Sepal.Length &lt;dbl&gt; |\n",
       "|---|---|---|---|\n",
       "| setosa | 1.4 | 0.2 | 5.1 |\n",
       "| setosa | 1.4 | 0.2 | 4.9 |\n",
       "| setosa | 1.3 | 0.2 | 4.7 |\n",
       "| setosa | 1.5 | 0.2 | 4.6 |\n",
       "| setosa | 1.4 | 0.2 | 5.0 |\n",
       "| setosa | 1.7 | 0.4 | 5.4 |\n",
       "\n"
      ],
      "text/plain": [
       "  Species Petal.Length Petal.Width Sepal.Length\n",
       "1 setosa  1.4          0.2         5.1         \n",
       "2 setosa  1.4          0.2         4.9         \n",
       "3 setosa  1.3          0.2         4.7         \n",
       "4 setosa  1.5          0.2         4.6         \n",
       "5 setosa  1.4          0.2         5.0         \n",
       "6 setosa  1.7          0.4         5.4         "
      ]
     },
     "metadata": {},
     "output_type": "display_data"
    }
   ],
   "source": [
    "gr <- po(\n",
    "  \"filter\",\n",
    "  filter = flt(\"kruskal_test\"),\n",
    "  filter.nfeat = 3\n",
    ")\n",
    "\n",
    "tsk <- tsk(\"iris\")\n",
    "gr$train(list(tsk))[[1]]$head()"
   ]
  },
  {
   "cell_type": "code",
   "execution_count": 58,
   "id": "307668cc",
   "metadata": {
    "vscode": {
     "languageId": "r"
    }
   },
   "outputs": [
    {
     "data": {
      "text/plain": [
       "<ParamSetCollection(6)>\n",
       "                id    class lower upper nlevels        default  value\n",
       "            <char>   <char> <num> <num>   <num>         <list> <list>\n",
       "1:    filter.nfeat ParamInt     0   Inf     Inf <NoDefault[0]>      3\n",
       "2:     filter.frac ParamDbl     0     1     Inf <NoDefault[0]> [NULL]\n",
       "3:   filter.cutoff ParamDbl  -Inf   Inf     Inf <NoDefault[0]> [NULL]\n",
       "4: filter.permuted ParamInt     1   Inf     Inf <NoDefault[0]> [NULL]\n",
       "5:       na.action ParamFct    NA    NA       3        na.omit [NULL]\n",
       "6:  affect_columns ParamUty    NA    NA     Inf  <Selector[1]> [NULL]"
      ]
     },
     "metadata": {},
     "output_type": "display_data"
    }
   ],
   "source": [
    "gr$param_set"
   ]
  },
  {
   "cell_type": "code",
   "execution_count": 60,
   "id": "eee8b0c1",
   "metadata": {
    "vscode": {
     "languageId": "r"
    }
   },
   "outputs": [
    {
     "name": "stderr",
     "output_type": "stream",
     "text": [
      "Warning message:\n",
      "\"package 'mlr3proba' was built under R version 4.4.3\"\n"
     ]
    }
   ],
   "source": [
    "library(mlr3proba)"
   ]
  },
  {
   "cell_type": "code",
   "execution_count": null,
   "id": "95279056",
   "metadata": {
    "vscode": {
     "languageId": "r"
    }
   },
   "outputs": [
    {
     "data": {
      "text/html": [
       "<table class=\"dataframe\">\n",
       "<caption>A data.table: 6 x 5</caption>\n",
       "<thead>\n",
       "\t<tr><th scope=col>time</th><th scope=col>status</th><th scope=col>litter</th><th scope=col>rx</th><th scope=col>sex</th></tr>\n",
       "\t<tr><th scope=col>&lt;int&gt;</th><th scope=col>&lt;int&gt;</th><th scope=col>&lt;int&gt;</th><th scope=col>&lt;int&gt;</th><th scope=col>&lt;fct&gt;</th></tr>\n",
       "</thead>\n",
       "<tbody>\n",
       "\t<tr><td>101</td><td>0</td><td>1</td><td>1</td><td>f</td></tr>\n",
       "\t<tr><td> 49</td><td>1</td><td>1</td><td>0</td><td>f</td></tr>\n",
       "\t<tr><td>104</td><td>0</td><td>1</td><td>0</td><td>f</td></tr>\n",
       "\t<tr><td> 91</td><td>0</td><td>2</td><td>1</td><td>m</td></tr>\n",
       "\t<tr><td>104</td><td>0</td><td>2</td><td>0</td><td>m</td></tr>\n",
       "\t<tr><td>102</td><td>0</td><td>2</td><td>0</td><td>m</td></tr>\n",
       "</tbody>\n",
       "</table>\n"
      ],
      "text/latex": [
       "A data.table: 6 x 5\n",
       "\\begin{tabular}{lllll}\n",
       " time & status & litter & rx & sex\\\\\n",
       " <int> & <int> & <int> & <int> & <fct>\\\\\n",
       "\\hline\n",
       "\t 101 & 0 & 1 & 1 & f\\\\\n",
       "\t  49 & 1 & 1 & 0 & f\\\\\n",
       "\t 104 & 0 & 1 & 0 & f\\\\\n",
       "\t  91 & 0 & 2 & 1 & m\\\\\n",
       "\t 104 & 0 & 2 & 0 & m\\\\\n",
       "\t 102 & 0 & 2 & 0 & m\\\\\n",
       "\\end{tabular}\n"
      ],
      "text/markdown": [
       "\n",
       "A data.table: 6 x 5\n",
       "\n",
       "| time &lt;int&gt; | status &lt;int&gt; | litter &lt;int&gt; | rx &lt;int&gt; | sex &lt;fct&gt; |\n",
       "|---|---|---|---|---|\n",
       "| 101 | 0 | 1 | 1 | f |\n",
       "|  49 | 1 | 1 | 0 | f |\n",
       "| 104 | 0 | 1 | 0 | f |\n",
       "|  91 | 0 | 2 | 1 | m |\n",
       "| 104 | 0 | 2 | 0 | m |\n",
       "| 102 | 0 | 2 | 0 | m |\n",
       "\n"
      ],
      "text/plain": [
       "  time status litter rx sex\n",
       "1 101  0      1      1  f  \n",
       "2  49  1      1      0  f  \n",
       "3 104  0      1      0  f  \n",
       "4  91  0      2      1  m  \n",
       "5 104  0      2      0  m  \n",
       "6 102  0      2      0  m  "
      ]
     },
     "metadata": {},
     "output_type": "display_data"
    }
   ],
   "source": [
    "gr <- po(\n",
    "  \"filter\",\n",
    "  filter = flt(\"univariate_cox\"),\n",
    "  filter.nfeat = 3\n",
    ")\n",
    "\n",
    "library(mlr3proba)\n",
    "tsk <- tsk(\"rats\")\n",
    "gr$train(list(tsk))[[1]]$head()"
   ]
  },
  {
   "cell_type": "code",
   "execution_count": 62,
   "id": "0bb8a71b",
   "metadata": {
    "vscode": {
     "languageId": "r"
    }
   },
   "outputs": [
    {
     "data": {
      "text/plain": [
       "<ParamSetCollection(5)>\n",
       "                id    class lower upper nlevels        default  value\n",
       "            <char>   <char> <num> <num>   <num>         <list> <list>\n",
       "1:    filter.nfeat ParamInt     0   Inf     Inf <NoDefault[0]>      3\n",
       "2:     filter.frac ParamDbl     0     1     Inf <NoDefault[0]> [NULL]\n",
       "3:   filter.cutoff ParamDbl  -Inf   Inf     Inf <NoDefault[0]> [NULL]\n",
       "4: filter.permuted ParamInt     1   Inf     Inf <NoDefault[0]> [NULL]\n",
       "5:  affect_columns ParamUty    NA    NA     Inf  <Selector[1]> [NULL]"
      ]
     },
     "metadata": {},
     "output_type": "display_data"
    }
   ],
   "source": [
    "gr$param_set"
   ]
  },
  {
   "cell_type": "code",
   "execution_count": 64,
   "id": "4ba1b928",
   "metadata": {
    "vscode": {
     "languageId": "r"
    }
   },
   "outputs": [
    {
     "data": {
      "text/html": [
       "<table class=\"dataframe\">\n",
       "<caption>A data.table: 6 x 21</caption>\n",
       "<thead>\n",
       "\t<tr><th scope=col>credit_risk</th><th scope=col>age</th><th scope=col>amount</th><th scope=col>credit_history</th><th scope=col>duration</th><th scope=col>employment_duration</th><th scope=col>foreign_worker</th><th scope=col>housing</th><th scope=col>installment_rate</th><th scope=col>job</th><th scope=col>...</th><th scope=col>other_debtors</th><th scope=col>other_installment_plans</th><th scope=col>people_liable</th><th scope=col>personal_status_sex</th><th scope=col>present_residence</th><th scope=col>property</th><th scope=col>purpose</th><th scope=col>savings</th><th scope=col>status</th><th scope=col>telephone</th></tr>\n",
       "\t<tr><th scope=col>&lt;fct&gt;</th><th scope=col>&lt;int&gt;</th><th scope=col>&lt;int&gt;</th><th scope=col>&lt;fct&gt;</th><th scope=col>&lt;int&gt;</th><th scope=col>&lt;fct&gt;</th><th scope=col>&lt;fct&gt;</th><th scope=col>&lt;fct&gt;</th><th scope=col>&lt;ord&gt;</th><th scope=col>&lt;fct&gt;</th><th scope=col>...</th><th scope=col>&lt;fct&gt;</th><th scope=col>&lt;fct&gt;</th><th scope=col>&lt;fct&gt;</th><th scope=col>&lt;fct&gt;</th><th scope=col>&lt;ord&gt;</th><th scope=col>&lt;fct&gt;</th><th scope=col>&lt;fct&gt;</th><th scope=col>&lt;fct&gt;</th><th scope=col>&lt;fct&gt;</th><th scope=col>&lt;fct&gt;</th></tr>\n",
       "</thead>\n",
       "<tbody>\n",
       "\t<tr><td>good</td><td>67</td><td>1169</td><td><span style=white-space:pre-wrap>all credits at this bank paid back duly    </span></td><td> 6</td><td><span style=white-space:pre-wrap>&gt;= 7 yrs        </span></td><td>no</td><td>rent</td><td><span style=white-space:pre-wrap>&lt; 20          </span></td><td>skilled employee/official</td><td>...</td><td><span style=white-space:pre-wrap>none     </span></td><td>none</td><td><span style=white-space:pre-wrap>0 to 2   </span></td><td><span style=white-space:pre-wrap>male : married/widowed              </span></td><td><span style=white-space:pre-wrap>&gt;= 7 yrs        </span></td><td>unknown / no property</td><td>furniture/equipment</td><td><span style=white-space:pre-wrap>... &gt;= 1000 DM            </span></td><td><span style=white-space:pre-wrap>no checking account                       </span></td><td>yes (under customer name)</td></tr>\n",
       "\t<tr><td>bad </td><td>22</td><td>5951</td><td>no credits taken/all credits paid back duly</td><td>48</td><td>1 &lt;= ... &lt; 4 yrs</td><td>no</td><td>rent</td><td>25 &lt;= ... &lt; 35</td><td>skilled employee/official</td><td>...</td><td><span style=white-space:pre-wrap>none     </span></td><td>none</td><td><span style=white-space:pre-wrap>0 to 2   </span></td><td>female : non-single or male : single</td><td>1 &lt;= ... &lt; 4 yrs</td><td>unknown / no property</td><td>furniture/equipment</td><td>unknown/no savings account</td><td><span style=white-space:pre-wrap>... &lt; 0 DM                                </span></td><td><span style=white-space:pre-wrap>no                       </span></td></tr>\n",
       "\t<tr><td>good</td><td>49</td><td>2096</td><td><span style=white-space:pre-wrap>all credits at this bank paid back duly    </span></td><td>12</td><td>4 &lt;= ... &lt; 7 yrs</td><td>no</td><td>rent</td><td>25 &lt;= ... &lt; 35</td><td><span style=white-space:pre-wrap>unskilled - resident     </span></td><td>...</td><td><span style=white-space:pre-wrap>none     </span></td><td>none</td><td>3 or more</td><td><span style=white-space:pre-wrap>male : married/widowed              </span></td><td>4 &lt;= ... &lt; 7 yrs</td><td>unknown / no property</td><td><span style=white-space:pre-wrap>repairs            </span></td><td>unknown/no savings account</td><td>... &gt;= 200 DM / salary for at least 1 year</td><td><span style=white-space:pre-wrap>no                       </span></td></tr>\n",
       "\t<tr><td>good</td><td>45</td><td>7882</td><td>no credits taken/all credits paid back duly</td><td>42</td><td>4 &lt;= ... &lt; 7 yrs</td><td>no</td><td>own </td><td>25 &lt;= ... &lt; 35</td><td>skilled employee/official</td><td>...</td><td>guarantor</td><td>none</td><td>3 or more</td><td><span style=white-space:pre-wrap>male : married/widowed              </span></td><td><span style=white-space:pre-wrap>&gt;= 7 yrs        </span></td><td><span style=white-space:pre-wrap>car or other         </span></td><td><span style=white-space:pre-wrap>car (used)         </span></td><td>unknown/no savings account</td><td><span style=white-space:pre-wrap>no checking account                       </span></td><td><span style=white-space:pre-wrap>no                       </span></td></tr>\n",
       "\t<tr><td>bad </td><td>53</td><td>4870</td><td><span style=white-space:pre-wrap>existing credits paid back duly till now   </span></td><td>24</td><td>1 &lt;= ... &lt; 4 yrs</td><td>no</td><td>own </td><td>20 &lt;= ... &lt; 25</td><td>skilled employee/official</td><td>...</td><td><span style=white-space:pre-wrap>none     </span></td><td>none</td><td>3 or more</td><td><span style=white-space:pre-wrap>male : married/widowed              </span></td><td><span style=white-space:pre-wrap>&gt;= 7 yrs        </span></td><td><span style=white-space:pre-wrap>real estate          </span></td><td><span style=white-space:pre-wrap>others             </span></td><td>unknown/no savings account</td><td><span style=white-space:pre-wrap>no checking account                       </span></td><td><span style=white-space:pre-wrap>no                       </span></td></tr>\n",
       "\t<tr><td>good</td><td>35</td><td>9055</td><td>no credits taken/all credits paid back duly</td><td>36</td><td>1 &lt;= ... &lt; 4 yrs</td><td>no</td><td>own </td><td>25 &lt;= ... &lt; 35</td><td><span style=white-space:pre-wrap>unskilled - resident     </span></td><td>...</td><td><span style=white-space:pre-wrap>none     </span></td><td>none</td><td>3 or more</td><td><span style=white-space:pre-wrap>male : married/widowed              </span></td><td><span style=white-space:pre-wrap>&gt;= 7 yrs        </span></td><td><span style=white-space:pre-wrap>real estate          </span></td><td><span style=white-space:pre-wrap>repairs            </span></td><td><span style=white-space:pre-wrap>... &gt;= 1000 DM            </span></td><td>... &gt;= 200 DM / salary for at least 1 year</td><td>yes (under customer name)</td></tr>\n",
       "</tbody>\n",
       "</table>\n"
      ],
      "text/latex": [
       "A data.table: 6 x 21\n",
       "\\begin{tabular}{lllllllllllllllllllll}\n",
       " credit\\_risk & age & amount & credit\\_history & duration & employment\\_duration & foreign\\_worker & housing & installment\\_rate & job & ... & other\\_debtors & other\\_installment\\_plans & people\\_liable & personal\\_status\\_sex & present\\_residence & property & purpose & savings & status & telephone\\\\\n",
       " <fct> & <int> & <int> & <fct> & <int> & <fct> & <fct> & <fct> & <ord> & <fct> & ... & <fct> & <fct> & <fct> & <fct> & <ord> & <fct> & <fct> & <fct> & <fct> & <fct>\\\\\n",
       "\\hline\n",
       "\t good & 67 & 1169 & all credits at this bank paid back duly     &  6 & >= 7 yrs         & no & rent & < 20           & skilled employee/official & ... & none      & none & 0 to 2    & male : married/widowed               & >= 7 yrs         & unknown / no property & furniture/equipment & ... >= 1000 DM             & no checking account                        & yes (under customer name)\\\\\n",
       "\t bad  & 22 & 5951 & no credits taken/all credits paid back duly & 48 & 1 <= ... < 4 yrs & no & rent & 25 <= ... < 35 & skilled employee/official & ... & none      & none & 0 to 2    & female : non-single or male : single & 1 <= ... < 4 yrs & unknown / no property & furniture/equipment & unknown/no savings account & ... < 0 DM                                 & no                       \\\\\n",
       "\t good & 49 & 2096 & all credits at this bank paid back duly     & 12 & 4 <= ... < 7 yrs & no & rent & 25 <= ... < 35 & unskilled - resident      & ... & none      & none & 3 or more & male : married/widowed               & 4 <= ... < 7 yrs & unknown / no property & repairs             & unknown/no savings account & ... >= 200 DM / salary for at least 1 year & no                       \\\\\n",
       "\t good & 45 & 7882 & no credits taken/all credits paid back duly & 42 & 4 <= ... < 7 yrs & no & own  & 25 <= ... < 35 & skilled employee/official & ... & guarantor & none & 3 or more & male : married/widowed               & >= 7 yrs         & car or other          & car (used)          & unknown/no savings account & no checking account                        & no                       \\\\\n",
       "\t bad  & 53 & 4870 & existing credits paid back duly till now    & 24 & 1 <= ... < 4 yrs & no & own  & 20 <= ... < 25 & skilled employee/official & ... & none      & none & 3 or more & male : married/widowed               & >= 7 yrs         & real estate           & others              & unknown/no savings account & no checking account                        & no                       \\\\\n",
       "\t good & 35 & 9055 & no credits taken/all credits paid back duly & 36 & 1 <= ... < 4 yrs & no & own  & 25 <= ... < 35 & unskilled - resident      & ... & none      & none & 3 or more & male : married/widowed               & >= 7 yrs         & real estate           & repairs             & ... >= 1000 DM             & ... >= 200 DM / salary for at least 1 year & yes (under customer name)\\\\\n",
       "\\end{tabular}\n"
      ],
      "text/markdown": [
       "\n",
       "A data.table: 6 x 21\n",
       "\n",
       "| credit_risk &lt;fct&gt; | age &lt;int&gt; | amount &lt;int&gt; | credit_history &lt;fct&gt; | duration &lt;int&gt; | employment_duration &lt;fct&gt; | foreign_worker &lt;fct&gt; | housing &lt;fct&gt; | installment_rate &lt;ord&gt; | job &lt;fct&gt; | ... ... | other_debtors &lt;fct&gt; | other_installment_plans &lt;fct&gt; | people_liable &lt;fct&gt; | personal_status_sex &lt;fct&gt; | present_residence &lt;ord&gt; | property &lt;fct&gt; | purpose &lt;fct&gt; | savings &lt;fct&gt; | status &lt;fct&gt; | telephone &lt;fct&gt; |\n",
       "|---|---|---|---|---|---|---|---|---|---|---|---|---|---|---|---|---|---|---|---|---|\n",
       "| good | 67 | 1169 | all credits at this bank paid back duly     |  6 | &gt;= 7 yrs         | no | rent | &lt; 20           | skilled employee/official | ... | none      | none | 0 to 2    | male : married/widowed               | &gt;= 7 yrs         | unknown / no property | furniture/equipment | ... &gt;= 1000 DM             | no checking account                        | yes (under customer name) |\n",
       "| bad  | 22 | 5951 | no credits taken/all credits paid back duly | 48 | 1 &lt;= ... &lt; 4 yrs | no | rent | 25 &lt;= ... &lt; 35 | skilled employee/official | ... | none      | none | 0 to 2    | female : non-single or male : single | 1 &lt;= ... &lt; 4 yrs | unknown / no property | furniture/equipment | unknown/no savings account | ... &lt; 0 DM                                 | no                        |\n",
       "| good | 49 | 2096 | all credits at this bank paid back duly     | 12 | 4 &lt;= ... &lt; 7 yrs | no | rent | 25 &lt;= ... &lt; 35 | unskilled - resident      | ... | none      | none | 3 or more | male : married/widowed               | 4 &lt;= ... &lt; 7 yrs | unknown / no property | repairs             | unknown/no savings account | ... &gt;= 200 DM / salary for at least 1 year | no                        |\n",
       "| good | 45 | 7882 | no credits taken/all credits paid back duly | 42 | 4 &lt;= ... &lt; 7 yrs | no | own  | 25 &lt;= ... &lt; 35 | skilled employee/official | ... | guarantor | none | 3 or more | male : married/widowed               | &gt;= 7 yrs         | car or other          | car (used)          | unknown/no savings account | no checking account                        | no                        |\n",
       "| bad  | 53 | 4870 | existing credits paid back duly till now    | 24 | 1 &lt;= ... &lt; 4 yrs | no | own  | 20 &lt;= ... &lt; 25 | skilled employee/official | ... | none      | none | 3 or more | male : married/widowed               | &gt;= 7 yrs         | real estate           | others              | unknown/no savings account | no checking account                        | no                        |\n",
       "| good | 35 | 9055 | no credits taken/all credits paid back duly | 36 | 1 &lt;= ... &lt; 4 yrs | no | own  | 25 &lt;= ... &lt; 35 | unskilled - resident      | ... | none      | none | 3 or more | male : married/widowed               | &gt;= 7 yrs         | real estate           | repairs             | ... &gt;= 1000 DM             | ... &gt;= 200 DM / salary for at least 1 year | yes (under customer name) |\n",
       "\n"
      ],
      "text/plain": [
       "  credit_risk age amount credit_history                              duration\n",
       "1 good        67  1169   all credits at this bank paid back duly      6      \n",
       "2 bad         22  5951   no credits taken/all credits paid back duly 48      \n",
       "3 good        49  2096   all credits at this bank paid back duly     12      \n",
       "4 good        45  7882   no credits taken/all credits paid back duly 42      \n",
       "5 bad         53  4870   existing credits paid back duly till now    24      \n",
       "6 good        35  9055   no credits taken/all credits paid back duly 36      \n",
       "  employment_duration foreign_worker housing installment_rate\n",
       "1 >= 7 yrs            no             rent    < 20            \n",
       "2 1 <= ... < 4 yrs    no             rent    25 <= ... < 35  \n",
       "3 4 <= ... < 7 yrs    no             rent    25 <= ... < 35  \n",
       "4 4 <= ... < 7 yrs    no             own     25 <= ... < 35  \n",
       "5 1 <= ... < 4 yrs    no             own     20 <= ... < 25  \n",
       "6 1 <= ... < 4 yrs    no             own     25 <= ... < 35  \n",
       "  job                       ... other_debtors other_installment_plans\n",
       "1 skilled employee/official ... none          none                   \n",
       "2 skilled employee/official ... none          none                   \n",
       "3 unskilled - resident      ... none          none                   \n",
       "4 skilled employee/official ... guarantor     none                   \n",
       "5 skilled employee/official ... none          none                   \n",
       "6 unskilled - resident      ... none          none                   \n",
       "  people_liable personal_status_sex                  present_residence\n",
       "1 0 to 2        male : married/widowed               >= 7 yrs         \n",
       "2 0 to 2        female : non-single or male : single 1 <= ... < 4 yrs \n",
       "3 3 or more     male : married/widowed               4 <= ... < 7 yrs \n",
       "4 3 or more     male : married/widowed               >= 7 yrs         \n",
       "5 3 or more     male : married/widowed               >= 7 yrs         \n",
       "6 3 or more     male : married/widowed               >= 7 yrs         \n",
       "  property              purpose             savings                   \n",
       "1 unknown / no property furniture/equipment ... >= 1000 DM            \n",
       "2 unknown / no property furniture/equipment unknown/no savings account\n",
       "3 unknown / no property repairs             unknown/no savings account\n",
       "4 car or other          car (used)          unknown/no savings account\n",
       "5 real estate           others              unknown/no savings account\n",
       "6 real estate           repairs             ... >= 1000 DM            \n",
       "  status                                     telephone                \n",
       "1 no checking account                        yes (under customer name)\n",
       "2 ... < 0 DM                                 no                       \n",
       "3 ... >= 200 DM / salary for at least 1 year no                       \n",
       "4 no checking account                        no                       \n",
       "5 no checking account                        no                       \n",
       "6 ... >= 200 DM / salary for at least 1 year yes (under customer name)"
      ]
     },
     "metadata": {},
     "output_type": "display_data"
    }
   ],
   "source": [
    "gr <- po(\n",
    "  \"filter\",\n",
    "  filter = flt(\"auc\"),\n",
    "  filter.nfeat = 3\n",
    ")\n",
    "\n",
    "tsk <- tsk(\"german_credit\")\n",
    "gr$train(list(tsk))[[1]]$head()"
   ]
  },
  {
   "cell_type": "code",
   "execution_count": 65,
   "id": "e879645b",
   "metadata": {
    "vscode": {
     "languageId": "r"
    }
   },
   "outputs": [
    {
     "data": {
      "text/plain": [
       "<ParamSetCollection(5)>\n",
       "                id    class lower upper nlevels        default  value\n",
       "            <char>   <char> <num> <num>   <num>         <list> <list>\n",
       "1:    filter.nfeat ParamInt     0   Inf     Inf <NoDefault[0]>      3\n",
       "2:     filter.frac ParamDbl     0     1     Inf <NoDefault[0]> [NULL]\n",
       "3:   filter.cutoff ParamDbl  -Inf   Inf     Inf <NoDefault[0]> [NULL]\n",
       "4: filter.permuted ParamInt     1   Inf     Inf <NoDefault[0]> [NULL]\n",
       "5:  affect_columns ParamUty    NA    NA     Inf  <Selector[1]> [NULL]"
      ]
     },
     "metadata": {},
     "output_type": "display_data"
    }
   ],
   "source": [
    "gr$param_set"
   ]
  },
  {
   "cell_type": "code",
   "execution_count": 71,
   "id": "75a317d7",
   "metadata": {
    "vscode": {
     "languageId": "r"
    }
   },
   "outputs": [
    {
     "name": "stdout",
     "output_type": "stream",
     "text": [
      "INFO  [21:21:55.003] [mlr3] Applying learner 'classif.rpart' on task 'german_credit' (iter 1/1)\n",
      "INFO  [21:21:55.023] [mlr3] Applying learner 'classif.rpart' on task 'german_credit' (iter 1/1)\n",
      "INFO  [21:21:55.038] [mlr3] Applying learner 'classif.rpart' on task 'german_credit' (iter 1/1)\n",
      "INFO  [21:21:55.056] [mlr3] Applying learner 'classif.rpart' on task 'german_credit' (iter 1/1)\n",
      "INFO  [21:21:55.071] [mlr3] Applying learner 'classif.rpart' on task 'german_credit' (iter 1/1)\n",
      "INFO  [21:21:55.089] [mlr3] Applying learner 'classif.rpart' on task 'german_credit' (iter 1/1)\n",
      "INFO  [21:21:55.104] [mlr3] Applying learner 'classif.rpart' on task 'german_credit' (iter 1/1)\n",
      "INFO  [21:21:55.121] [mlr3] Applying learner 'classif.rpart' on task 'german_credit' (iter 1/1)\n",
      "INFO  [21:21:55.175] [mlr3] Applying learner 'classif.rpart' on task 'german_credit' (iter 1/1)\n",
      "INFO  [21:21:55.192] [mlr3] Applying learner 'classif.rpart' on task 'german_credit' (iter 1/1)\n",
      "INFO  [21:21:55.210] [mlr3] Applying learner 'classif.rpart' on task 'german_credit' (iter 1/1)\n",
      "INFO  [21:21:55.233] [mlr3] Applying learner 'classif.rpart' on task 'german_credit' (iter 1/1)\n",
      "INFO  [21:21:55.245] [mlr3] Applying learner 'classif.rpart' on task 'german_credit' (iter 1/1)\n",
      "INFO  [21:21:55.257] [mlr3] Applying learner 'classif.rpart' on task 'german_credit' (iter 1/1)\n",
      "INFO  [21:21:55.268] [mlr3] Applying learner 'classif.rpart' on task 'german_credit' (iter 1/1)\n",
      "INFO  [21:21:55.280] [mlr3] Applying learner 'classif.rpart' on task 'german_credit' (iter 1/1)\n",
      "INFO  [21:21:55.292] [mlr3] Applying learner 'classif.rpart' on task 'german_credit' (iter 1/1)\n",
      "INFO  [21:21:55.304] [mlr3] Applying learner 'classif.rpart' on task 'german_credit' (iter 1/1)\n",
      "INFO  [21:21:55.316] [mlr3] Applying learner 'classif.rpart' on task 'german_credit' (iter 1/1)\n",
      "INFO  [21:21:55.328] [mlr3] Applying learner 'classif.rpart' on task 'german_credit' (iter 1/1)\n"
     ]
    },
    {
     "data": {
      "text/html": [
       "<table class=\"dataframe\">\n",
       "<caption>A data.table: 6 x 4</caption>\n",
       "<thead>\n",
       "\t<tr><th scope=col>credit_risk</th><th scope=col>credit_history</th><th scope=col>duration</th><th scope=col>job</th></tr>\n",
       "\t<tr><th scope=col>&lt;fct&gt;</th><th scope=col>&lt;fct&gt;</th><th scope=col>&lt;int&gt;</th><th scope=col>&lt;fct&gt;</th></tr>\n",
       "</thead>\n",
       "<tbody>\n",
       "\t<tr><td>good</td><td>all credits at this bank paid back duly    </td><td> 6</td><td>skilled employee/official</td></tr>\n",
       "\t<tr><td>bad </td><td>no credits taken/all credits paid back duly</td><td>48</td><td>skilled employee/official</td></tr>\n",
       "\t<tr><td>good</td><td>all credits at this bank paid back duly    </td><td>12</td><td>unskilled - resident     </td></tr>\n",
       "\t<tr><td>good</td><td>no credits taken/all credits paid back duly</td><td>42</td><td>skilled employee/official</td></tr>\n",
       "\t<tr><td>bad </td><td>existing credits paid back duly till now   </td><td>24</td><td>skilled employee/official</td></tr>\n",
       "\t<tr><td>good</td><td>no credits taken/all credits paid back duly</td><td>36</td><td>unskilled - resident     </td></tr>\n",
       "</tbody>\n",
       "</table>\n"
      ],
      "text/latex": [
       "A data.table: 6 x 4\n",
       "\\begin{tabular}{llll}\n",
       " credit\\_risk & credit\\_history & duration & job\\\\\n",
       " <fct> & <fct> & <int> & <fct>\\\\\n",
       "\\hline\n",
       "\t good & all credits at this bank paid back duly     &  6 & skilled employee/official\\\\\n",
       "\t bad  & no credits taken/all credits paid back duly & 48 & skilled employee/official\\\\\n",
       "\t good & all credits at this bank paid back duly     & 12 & unskilled - resident     \\\\\n",
       "\t good & no credits taken/all credits paid back duly & 42 & skilled employee/official\\\\\n",
       "\t bad  & existing credits paid back duly till now    & 24 & skilled employee/official\\\\\n",
       "\t good & no credits taken/all credits paid back duly & 36 & unskilled - resident     \\\\\n",
       "\\end{tabular}\n"
      ],
      "text/markdown": [
       "\n",
       "A data.table: 6 x 4\n",
       "\n",
       "| credit_risk &lt;fct&gt; | credit_history &lt;fct&gt; | duration &lt;int&gt; | job &lt;fct&gt; |\n",
       "|---|---|---|---|\n",
       "| good | all credits at this bank paid back duly     |  6 | skilled employee/official |\n",
       "| bad  | no credits taken/all credits paid back duly | 48 | skilled employee/official |\n",
       "| good | all credits at this bank paid back duly     | 12 | unskilled - resident      |\n",
       "| good | no credits taken/all credits paid back duly | 42 | skilled employee/official |\n",
       "| bad  | existing credits paid back duly till now    | 24 | skilled employee/official |\n",
       "| good | no credits taken/all credits paid back duly | 36 | unskilled - resident      |\n",
       "\n"
      ],
      "text/plain": [
       "  credit_risk credit_history                              duration\n",
       "1 good        all credits at this bank paid back duly      6      \n",
       "2 bad         no credits taken/all credits paid back duly 48      \n",
       "3 good        all credits at this bank paid back duly     12      \n",
       "4 good        no credits taken/all credits paid back duly 42      \n",
       "5 bad         existing credits paid back duly till now    24      \n",
       "6 good        no credits taken/all credits paid back duly 36      \n",
       "  job                      \n",
       "1 skilled employee/official\n",
       "2 skilled employee/official\n",
       "3 unskilled - resident     \n",
       "4 skilled employee/official\n",
       "5 skilled employee/official\n",
       "6 unskilled - resident     "
      ]
     },
     "metadata": {},
     "output_type": "display_data"
    }
   ],
   "source": [
    "gr <- po(\n",
    "  \"filter\",\n",
    "  filter = flt(\n",
    "    \"performance\",\n",
    "    learner = lrn(\"classif.rpart\"),\n",
    "    measure = msr(\"classif.acc\")\n",
    "  ),\n",
    "  filter.nfeat = 3\n",
    ")\n",
    "\n",
    "tsk <- tsk(\"german_credit\")\n",
    "gr$train(list(tsk))[[1]]$head()"
   ]
  },
  {
   "cell_type": "code",
   "execution_count": 67,
   "id": "5c24f53f",
   "metadata": {
    "vscode": {
     "languageId": "r"
    }
   },
   "outputs": [
    {
     "data": {
      "text/plain": [
       "<ParamSetCollection(6)>\n",
       "                id    class lower upper nlevels        default  value\n",
       "            <char>   <char> <num> <num>   <num>         <list> <list>\n",
       "1:    filter.nfeat ParamInt     0   Inf     Inf <NoDefault[0]>      3\n",
       "2:     filter.frac ParamDbl     0     1     Inf <NoDefault[0]> [NULL]\n",
       "3:   filter.cutoff ParamDbl  -Inf   Inf     Inf <NoDefault[0]> [NULL]\n",
       "4: filter.permuted ParamInt     1   Inf     Inf <NoDefault[0]> [NULL]\n",
       "5:          method ParamFct    NA    NA       3           mode   mode\n",
       "6:  affect_columns ParamUty    NA    NA     Inf  <Selector[1]> [NULL]"
      ]
     },
     "metadata": {},
     "output_type": "display_data"
    }
   ],
   "source": [
    "gr$param_set"
   ]
  },
  {
   "cell_type": "code",
   "execution_count": 73,
   "id": "6fc4f4b2",
   "metadata": {
    "vscode": {
     "languageId": "r"
    }
   },
   "outputs": [
    {
     "data": {
      "text/html": [
       "<table class=\"dataframe\">\n",
       "<caption>A data.table: 6 x 4</caption>\n",
       "<thead>\n",
       "\t<tr><th scope=col>credit_risk</th><th scope=col>other_debtors</th><th scope=col>savings</th><th scope=col>telephone</th></tr>\n",
       "\t<tr><th scope=col>&lt;fct&gt;</th><th scope=col>&lt;fct&gt;</th><th scope=col>&lt;fct&gt;</th><th scope=col>&lt;fct&gt;</th></tr>\n",
       "</thead>\n",
       "<tbody>\n",
       "\t<tr><td>good</td><td><span style=white-space:pre-wrap>none     </span></td><td><span style=white-space:pre-wrap>... &gt;= 1000 DM            </span></td><td>yes (under customer name)</td></tr>\n",
       "\t<tr><td>bad </td><td>none     </td><td>unknown/no savings account</td><td>no                       </td></tr>\n",
       "\t<tr><td>good</td><td>none     </td><td>unknown/no savings account</td><td>no                       </td></tr>\n",
       "\t<tr><td>good</td><td>guarantor</td><td>unknown/no savings account</td><td>no                       </td></tr>\n",
       "\t<tr><td>bad </td><td>none     </td><td>unknown/no savings account</td><td>no                       </td></tr>\n",
       "\t<tr><td>good</td><td><span style=white-space:pre-wrap>none     </span></td><td><span style=white-space:pre-wrap>... &gt;= 1000 DM            </span></td><td>yes (under customer name)</td></tr>\n",
       "</tbody>\n",
       "</table>\n"
      ],
      "text/latex": [
       "A data.table: 6 x 4\n",
       "\\begin{tabular}{llll}\n",
       " credit\\_risk & other\\_debtors & savings & telephone\\\\\n",
       " <fct> & <fct> & <fct> & <fct>\\\\\n",
       "\\hline\n",
       "\t good & none      & ... >= 1000 DM             & yes (under customer name)\\\\\n",
       "\t bad  & none      & unknown/no savings account & no                       \\\\\n",
       "\t good & none      & unknown/no savings account & no                       \\\\\n",
       "\t good & guarantor & unknown/no savings account & no                       \\\\\n",
       "\t bad  & none      & unknown/no savings account & no                       \\\\\n",
       "\t good & none      & ... >= 1000 DM             & yes (under customer name)\\\\\n",
       "\\end{tabular}\n"
      ],
      "text/markdown": [
       "\n",
       "A data.table: 6 x 4\n",
       "\n",
       "| credit_risk &lt;fct&gt; | other_debtors &lt;fct&gt; | savings &lt;fct&gt; | telephone &lt;fct&gt; |\n",
       "|---|---|---|---|\n",
       "| good | none      | ... &gt;= 1000 DM             | yes (under customer name) |\n",
       "| bad  | none      | unknown/no savings account | no                        |\n",
       "| good | none      | unknown/no savings account | no                        |\n",
       "| good | guarantor | unknown/no savings account | no                        |\n",
       "| bad  | none      | unknown/no savings account | no                        |\n",
       "| good | none      | ... &gt;= 1000 DM             | yes (under customer name) |\n",
       "\n"
      ],
      "text/plain": [
       "  credit_risk other_debtors savings                   \n",
       "1 good        none          ... >= 1000 DM            \n",
       "2 bad         none          unknown/no savings account\n",
       "3 good        none          unknown/no savings account\n",
       "4 good        guarantor     unknown/no savings account\n",
       "5 bad         none          unknown/no savings account\n",
       "6 good        none          ... >= 1000 DM            \n",
       "  telephone                \n",
       "1 yes (under customer name)\n",
       "2 no                       \n",
       "3 no                       \n",
       "4 no                       \n",
       "5 no                       \n",
       "6 yes (under customer name)"
      ]
     },
     "metadata": {},
     "output_type": "display_data"
    }
   ],
   "source": [
    "gr <- po(\n",
    "  \"filter\",\n",
    "  filter = flt(\"relief\"),\n",
    "  filter.nfeat = 3\n",
    ")\n",
    "\n",
    "tsk <- tsk(\"german_credit\")\n",
    "gr$train(list(tsk))[[1]]$head()"
   ]
  },
  {
   "cell_type": "code",
   "execution_count": 74,
   "id": "4608da7f",
   "metadata": {
    "vscode": {
     "languageId": "r"
    }
   },
   "outputs": [
    {
     "data": {
      "text/plain": [
       "<ParamSetCollection(7)>\n",
       "                id    class lower upper nlevels        default  value\n",
       "            <char>   <char> <num> <num>   <num>         <list> <list>\n",
       "1:    filter.nfeat ParamInt     0   Inf     Inf <NoDefault[0]>      3\n",
       "2:     filter.frac ParamDbl     0     1     Inf <NoDefault[0]> [NULL]\n",
       "3:   filter.cutoff ParamDbl  -Inf   Inf     Inf <NoDefault[0]> [NULL]\n",
       "4: filter.permuted ParamInt     1   Inf     Inf <NoDefault[0]> [NULL]\n",
       "5: neighboursCount ParamInt     1   Inf     Inf              5 [NULL]\n",
       "6:      sampleSize ParamInt     1   Inf     Inf             10 [NULL]\n",
       "7:  affect_columns ParamUty    NA    NA     Inf  <Selector[1]> [NULL]"
      ]
     },
     "metadata": {},
     "output_type": "display_data"
    }
   ],
   "source": [
    "gr$param_set"
   ]
  },
  {
   "cell_type": "code",
   "execution_count": 75,
   "id": "2e5d728c",
   "metadata": {
    "vscode": {
     "languageId": "r"
    }
   },
   "outputs": [
    {
     "data": {
      "text/html": [
       "<table class=\"dataframe\">\n",
       "<caption>A data.table: 6 x 4</caption>\n",
       "<thead>\n",
       "\t<tr><th scope=col>credit_risk</th><th scope=col>age</th><th scope=col>job</th><th scope=col>people_liable</th></tr>\n",
       "\t<tr><th scope=col>&lt;fct&gt;</th><th scope=col>&lt;int&gt;</th><th scope=col>&lt;fct&gt;</th><th scope=col>&lt;fct&gt;</th></tr>\n",
       "</thead>\n",
       "<tbody>\n",
       "\t<tr><td>good</td><td>67</td><td>skilled employee/official</td><td>0 to 2   </td></tr>\n",
       "\t<tr><td>bad </td><td>22</td><td>skilled employee/official</td><td>0 to 2   </td></tr>\n",
       "\t<tr><td>good</td><td>49</td><td>unskilled - resident     </td><td>3 or more</td></tr>\n",
       "\t<tr><td>good</td><td>45</td><td>skilled employee/official</td><td>3 or more</td></tr>\n",
       "\t<tr><td>bad </td><td>53</td><td>skilled employee/official</td><td>3 or more</td></tr>\n",
       "\t<tr><td>good</td><td>35</td><td>unskilled - resident     </td><td>3 or more</td></tr>\n",
       "</tbody>\n",
       "</table>\n"
      ],
      "text/latex": [
       "A data.table: 6 x 4\n",
       "\\begin{tabular}{llll}\n",
       " credit\\_risk & age & job & people\\_liable\\\\\n",
       " <fct> & <int> & <fct> & <fct>\\\\\n",
       "\\hline\n",
       "\t good & 67 & skilled employee/official & 0 to 2   \\\\\n",
       "\t bad  & 22 & skilled employee/official & 0 to 2   \\\\\n",
       "\t good & 49 & unskilled - resident      & 3 or more\\\\\n",
       "\t good & 45 & skilled employee/official & 3 or more\\\\\n",
       "\t bad  & 53 & skilled employee/official & 3 or more\\\\\n",
       "\t good & 35 & unskilled - resident      & 3 or more\\\\\n",
       "\\end{tabular}\n"
      ],
      "text/markdown": [
       "\n",
       "A data.table: 6 x 4\n",
       "\n",
       "| credit_risk &lt;fct&gt; | age &lt;int&gt; | job &lt;fct&gt; | people_liable &lt;fct&gt; |\n",
       "|---|---|---|---|\n",
       "| good | 67 | skilled employee/official | 0 to 2    |\n",
       "| bad  | 22 | skilled employee/official | 0 to 2    |\n",
       "| good | 49 | unskilled - resident      | 3 or more |\n",
       "| good | 45 | skilled employee/official | 3 or more |\n",
       "| bad  | 53 | skilled employee/official | 3 or more |\n",
       "| good | 35 | unskilled - resident      | 3 or more |\n",
       "\n"
      ],
      "text/plain": [
       "  credit_risk age job                       people_liable\n",
       "1 good        67  skilled employee/official 0 to 2       \n",
       "2 bad         22  skilled employee/official 0 to 2       \n",
       "3 good        49  unskilled - resident      3 or more    \n",
       "4 good        45  skilled employee/official 3 or more    \n",
       "5 bad         53  skilled employee/official 3 or more    \n",
       "6 good        35  unskilled - resident      3 or more    "
      ]
     },
     "metadata": {},
     "output_type": "display_data"
    }
   ],
   "source": [
    "gr <- po(\n",
    "  \"filter\",\n",
    "  filter = flt(\"importance\"),\n",
    "  filter.nfeat = 3\n",
    ")\n",
    "\n",
    "tsk <- tsk(\"german_credit\")\n",
    "gr$train(list(tsk))[[1]]$head()"
   ]
  },
  {
   "cell_type": "code",
   "execution_count": 76,
   "id": "969ba447",
   "metadata": {
    "vscode": {
     "languageId": "r"
    }
   },
   "outputs": [
    {
     "data": {
      "text/plain": [
       "<ParamSetCollection(6)>\n",
       "                id    class lower upper nlevels        default  value\n",
       "            <char>   <char> <num> <num>   <num>         <list> <list>\n",
       "1:    filter.nfeat ParamInt     0   Inf     Inf <NoDefault[0]>      3\n",
       "2:     filter.frac ParamDbl     0     1     Inf <NoDefault[0]> [NULL]\n",
       "3:   filter.cutoff ParamDbl  -Inf   Inf     Inf <NoDefault[0]> [NULL]\n",
       "4: filter.permuted ParamInt     1   Inf     Inf <NoDefault[0]> [NULL]\n",
       "5:          method ParamFct    NA    NA       3           mode   mode\n",
       "6:  affect_columns ParamUty    NA    NA     Inf  <Selector[1]> [NULL]"
      ]
     },
     "metadata": {},
     "output_type": "display_data"
    }
   ],
   "source": [
    "gr$param_set"
   ]
  },
  {
   "cell_type": "code",
   "execution_count": null,
   "id": "62730d01",
   "metadata": {
    "vscode": {
     "languageId": "r"
    }
   },
   "outputs": [
    {
     "data": {
      "text/html": [
       "<table class=\"dataframe\">\n",
       "<caption>A data.table: 6 x 4</caption>\n",
       "<thead>\n",
       "\t<tr><th scope=col>credit_risk</th><th scope=col>age</th><th scope=col>amount</th><th scope=col>status</th></tr>\n",
       "\t<tr><th scope=col>&lt;fct&gt;</th><th scope=col>&lt;int&gt;</th><th scope=col>&lt;int&gt;</th><th scope=col>&lt;fct&gt;</th></tr>\n",
       "</thead>\n",
       "<tbody>\n",
       "\t<tr><td>good</td><td>67</td><td>1169</td><td>no checking account                       </td></tr>\n",
       "\t<tr><td>bad </td><td>22</td><td>5951</td><td><span style=white-space:pre-wrap>... &lt; 0 DM                                </span></td></tr>\n",
       "\t<tr><td>good</td><td>49</td><td>2096</td><td>... &gt;= 200 DM / salary for at least 1 year</td></tr>\n",
       "\t<tr><td>good</td><td>45</td><td>7882</td><td>no checking account                       </td></tr>\n",
       "\t<tr><td>bad </td><td>53</td><td>4870</td><td>no checking account                       </td></tr>\n",
       "\t<tr><td>good</td><td>35</td><td>9055</td><td>... &gt;= 200 DM / salary for at least 1 year</td></tr>\n",
       "</tbody>\n",
       "</table>\n"
      ],
      "text/latex": [
       "A data.table: 6 x 4\n",
       "\\begin{tabular}{llll}\n",
       " credit\\_risk & age & amount & status\\\\\n",
       " <fct> & <int> & <int> & <fct>\\\\\n",
       "\\hline\n",
       "\t good & 67 & 1169 & no checking account                       \\\\\n",
       "\t bad  & 22 & 5951 & ... < 0 DM                                \\\\\n",
       "\t good & 49 & 2096 & ... >= 200 DM / salary for at least 1 year\\\\\n",
       "\t good & 45 & 7882 & no checking account                       \\\\\n",
       "\t bad  & 53 & 4870 & no checking account                       \\\\\n",
       "\t good & 35 & 9055 & ... >= 200 DM / salary for at least 1 year\\\\\n",
       "\\end{tabular}\n"
      ],
      "text/markdown": [
       "\n",
       "A data.table: 6 x 4\n",
       "\n",
       "| credit_risk &lt;fct&gt; | age &lt;int&gt; | amount &lt;int&gt; | status &lt;fct&gt; |\n",
       "|---|---|---|---|\n",
       "| good | 67 | 1169 | no checking account                        |\n",
       "| bad  | 22 | 5951 | ... &lt; 0 DM                                 |\n",
       "| good | 49 | 2096 | ... &gt;= 200 DM / salary for at least 1 year |\n",
       "| good | 45 | 7882 | no checking account                        |\n",
       "| bad  | 53 | 4870 | no checking account                        |\n",
       "| good | 35 | 9055 | ... &gt;= 200 DM / salary for at least 1 year |\n",
       "\n"
      ],
      "text/plain": [
       "  credit_risk age amount status                                    \n",
       "1 good        67  1169   no checking account                       \n",
       "2 bad         22  5951   ... < 0 DM                                \n",
       "3 good        49  2096   ... >= 200 DM / salary for at least 1 year\n",
       "4 good        45  7882   no checking account                       \n",
       "5 bad         53  4870   no checking account                       \n",
       "6 good        35  9055   ... >= 200 DM / salary for at least 1 year"
      ]
     },
     "metadata": {},
     "output_type": "display_data"
    }
   ],
   "source": [
    "gr <- po(\n",
    "  \"filter\",\n",
    "  filter = flt(\n",
    "    \"importance\",\n",
    "    learner = lrn(\"classif.ranger\", importance = \"impurity\")\n",
    "  ),\n",
    "  filter.nfeat = 3\n",
    ")\n",
    "\n",
    "tsk <- tsk(\"german_credit\")\n",
    "gr$train(list(tsk))[[1]]$head()"
   ]
  },
  {
   "cell_type": "code",
   "execution_count": 79,
   "id": "a538af2f",
   "metadata": {
    "vscode": {
     "languageId": "r"
    }
   },
   "outputs": [
    {
     "name": "stdout",
     "output_type": "stream",
     "text": [
      "INFO  [08:48:20.293] [mlr3] Applying learner 'classif.featureless' on task 'german_credit' (iter 1/1)\n",
      "INFO  [08:48:20.332] [mlr3] Applying learner 'classif.featureless' on task 'german_credit' (iter 1/1)\n",
      "INFO  [08:48:20.361] [mlr3] Applying learner 'classif.featureless' on task 'german_credit' (iter 1/1)\n",
      "INFO  [08:48:20.390] [mlr3] Applying learner 'classif.featureless' on task 'german_credit' (iter 1/1)\n",
      "INFO  [08:48:20.455] [mlr3] Applying learner 'classif.featureless' on task 'german_credit' (iter 1/1)\n",
      "INFO  [08:48:20.526] [mlr3] Applying learner 'classif.featureless' on task 'german_credit' (iter 1/1)\n",
      "INFO  [08:48:20.621] [mlr3] Applying learner 'classif.featureless' on task 'german_credit' (iter 1/1)\n",
      "INFO  [08:48:20.643] [mlr3] Applying learner 'classif.featureless' on task 'german_credit' (iter 1/1)\n",
      "INFO  [08:48:20.664] [mlr3] Applying learner 'classif.featureless' on task 'german_credit' (iter 1/1)\n",
      "INFO  [08:48:20.691] [mlr3] Applying learner 'classif.featureless' on task 'german_credit' (iter 1/1)\n",
      "INFO  [08:48:20.712] [mlr3] Applying learner 'classif.featureless' on task 'german_credit' (iter 1/1)\n",
      "INFO  [08:48:20.741] [mlr3] Applying learner 'classif.featureless' on task 'german_credit' (iter 1/1)\n",
      "INFO  [08:48:20.764] [mlr3] Applying learner 'classif.featureless' on task 'german_credit' (iter 1/1)\n",
      "INFO  [08:48:20.785] [mlr3] Applying learner 'classif.featureless' on task 'german_credit' (iter 1/1)\n",
      "INFO  [08:48:20.812] [mlr3] Applying learner 'classif.featureless' on task 'german_credit' (iter 1/1)\n",
      "INFO  [08:48:20.832] [mlr3] Applying learner 'classif.featureless' on task 'german_credit' (iter 1/1)\n",
      "INFO  [08:48:20.852] [mlr3] Applying learner 'classif.featureless' on task 'german_credit' (iter 1/1)\n",
      "INFO  [08:48:20.883] [mlr3] Applying learner 'classif.featureless' on task 'german_credit' (iter 1/1)\n",
      "INFO  [08:48:20.903] [mlr3] Applying learner 'classif.featureless' on task 'german_credit' (iter 1/1)\n",
      "INFO  [08:48:20.923] [mlr3] Applying learner 'classif.featureless' on task 'german_credit' (iter 1/1)\n",
      "INFO  [08:48:20.980] [mlr3] Applying learner 'classif.featureless' on task 'german_credit' (iter 1/1)\n",
      "INFO  [08:48:21.005] [mlr3] Applying learner 'classif.featureless' on task 'german_credit' (iter 1/1)\n",
      "INFO  [08:48:21.035] [mlr3] Applying learner 'classif.featureless' on task 'german_credit' (iter 1/1)\n",
      "INFO  [08:48:21.057] [mlr3] Applying learner 'classif.featureless' on task 'german_credit' (iter 1/1)\n",
      "INFO  [08:48:21.075] [mlr3] Applying learner 'classif.featureless' on task 'german_credit' (iter 1/1)\n",
      "INFO  [08:48:21.092] [mlr3] Applying learner 'classif.featureless' on task 'german_credit' (iter 1/1)\n",
      "INFO  [08:48:21.118] [mlr3] Applying learner 'classif.featureless' on task 'german_credit' (iter 1/1)\n",
      "INFO  [08:48:21.142] [mlr3] Applying learner 'classif.featureless' on task 'german_credit' (iter 1/1)\n",
      "INFO  [08:48:21.177] [mlr3] Applying learner 'classif.featureless' on task 'german_credit' (iter 1/1)\n",
      "INFO  [08:48:21.198] [mlr3] Applying learner 'classif.featureless' on task 'german_credit' (iter 1/1)\n",
      "INFO  [08:48:21.219] [mlr3] Applying learner 'classif.featureless' on task 'german_credit' (iter 1/1)\n",
      "INFO  [08:48:21.240] [mlr3] Applying learner 'classif.featureless' on task 'german_credit' (iter 1/1)\n",
      "INFO  [08:48:21.260] [mlr3] Applying learner 'classif.featureless' on task 'german_credit' (iter 1/1)\n",
      "INFO  [08:48:21.278] [mlr3] Applying learner 'classif.featureless' on task 'german_credit' (iter 1/1)\n",
      "INFO  [08:48:21.299] [mlr3] Applying learner 'classif.featureless' on task 'german_credit' (iter 1/1)\n",
      "INFO  [08:48:21.329] [mlr3] Applying learner 'classif.featureless' on task 'german_credit' (iter 1/1)\n",
      "INFO  [08:48:21.350] [mlr3] Applying learner 'classif.featureless' on task 'german_credit' (iter 1/1)\n",
      "INFO  [08:48:21.371] [mlr3] Applying learner 'classif.featureless' on task 'german_credit' (iter 1/1)\n",
      "INFO  [08:48:21.392] [mlr3] Applying learner 'classif.featureless' on task 'german_credit' (iter 1/1)\n",
      "INFO  [08:48:21.415] [mlr3] Applying learner 'classif.featureless' on task 'german_credit' (iter 1/1)\n",
      "INFO  [08:48:21.436] [mlr3] Applying learner 'classif.featureless' on task 'german_credit' (iter 1/1)\n",
      "INFO  [08:48:21.457] [mlr3] Applying learner 'classif.featureless' on task 'german_credit' (iter 1/1)\n",
      "INFO  [08:48:21.483] [mlr3] Applying learner 'classif.featureless' on task 'german_credit' (iter 1/1)\n",
      "INFO  [08:48:21.505] [mlr3] Applying learner 'classif.featureless' on task 'german_credit' (iter 1/1)\n",
      "INFO  [08:48:21.526] [mlr3] Applying learner 'classif.featureless' on task 'german_credit' (iter 1/1)\n",
      "INFO  [08:48:21.547] [mlr3] Applying learner 'classif.featureless' on task 'german_credit' (iter 1/1)\n",
      "INFO  [08:48:21.567] [mlr3] Applying learner 'classif.featureless' on task 'german_credit' (iter 1/1)\n",
      "INFO  [08:48:21.588] [mlr3] Applying learner 'classif.featureless' on task 'german_credit' (iter 1/1)\n",
      "INFO  [08:48:21.608] [mlr3] Applying learner 'classif.featureless' on task 'german_credit' (iter 1/1)\n",
      "INFO  [08:48:21.628] [mlr3] Applying learner 'classif.featureless' on task 'german_credit' (iter 1/1)\n",
      "INFO  [08:48:21.656] [mlr3] Applying learner 'classif.featureless' on task 'german_credit' (iter 1/1)\n",
      "INFO  [08:48:21.677] [mlr3] Applying learner 'classif.featureless' on task 'german_credit' (iter 1/1)\n",
      "INFO  [08:48:21.698] [mlr3] Applying learner 'classif.featureless' on task 'german_credit' (iter 1/1)\n",
      "INFO  [08:48:21.720] [mlr3] Applying learner 'classif.featureless' on task 'german_credit' (iter 1/1)\n",
      "INFO  [08:48:21.743] [mlr3] Applying learner 'classif.featureless' on task 'german_credit' (iter 1/1)\n",
      "INFO  [08:48:21.766] [mlr3] Applying learner 'classif.featureless' on task 'german_credit' (iter 1/1)\n",
      "INFO  [08:48:21.789] [mlr3] Applying learner 'classif.featureless' on task 'german_credit' (iter 1/1)\n",
      "INFO  [08:48:21.817] [mlr3] Applying learner 'classif.featureless' on task 'german_credit' (iter 1/1)\n",
      "INFO  [08:48:21.838] [mlr3] Applying learner 'classif.featureless' on task 'german_credit' (iter 1/1)\n",
      "INFO  [08:48:21.859] [mlr3] Applying learner 'classif.featureless' on task 'german_credit' (iter 1/1)\n",
      "INFO  [08:48:21.880] [mlr3] Applying learner 'classif.featureless' on task 'german_credit' (iter 1/1)\n",
      "INFO  [08:48:21.901] [mlr3] Applying learner 'classif.featureless' on task 'german_credit' (iter 1/1)\n",
      "INFO  [08:48:21.922] [mlr3] Applying learner 'classif.featureless' on task 'german_credit' (iter 1/1)\n",
      "INFO  [08:48:21.943] [mlr3] Applying learner 'classif.featureless' on task 'german_credit' (iter 1/1)\n",
      "INFO  [08:48:21.971] [mlr3] Applying learner 'classif.featureless' on task 'german_credit' (iter 1/1)\n",
      "INFO  [08:48:21.992] [mlr3] Applying learner 'classif.featureless' on task 'german_credit' (iter 1/1)\n",
      "INFO  [08:48:22.014] [mlr3] Applying learner 'classif.featureless' on task 'german_credit' (iter 1/1)\n",
      "INFO  [08:48:22.034] [mlr3] Applying learner 'classif.featureless' on task 'german_credit' (iter 1/1)\n",
      "INFO  [08:48:22.055] [mlr3] Applying learner 'classif.featureless' on task 'german_credit' (iter 1/1)\n",
      "INFO  [08:48:22.076] [mlr3] Applying learner 'classif.featureless' on task 'german_credit' (iter 1/1)\n",
      "INFO  [08:48:22.104] [mlr3] Applying learner 'classif.featureless' on task 'german_credit' (iter 1/1)\n",
      "INFO  [08:48:22.125] [mlr3] Applying learner 'classif.featureless' on task 'german_credit' (iter 1/1)\n",
      "INFO  [08:48:22.146] [mlr3] Applying learner 'classif.featureless' on task 'german_credit' (iter 1/1)\n",
      "INFO  [08:48:22.164] [mlr3] Applying learner 'classif.featureless' on task 'german_credit' (iter 1/1)\n",
      "INFO  [08:48:22.181] [mlr3] Applying learner 'classif.featureless' on task 'german_credit' (iter 1/1)\n",
      "INFO  [08:48:22.199] [mlr3] Applying learner 'classif.featureless' on task 'german_credit' (iter 1/1)\n",
      "INFO  [08:48:22.217] [mlr3] Applying learner 'classif.featureless' on task 'german_credit' (iter 1/1)\n",
      "INFO  [08:48:22.243] [mlr3] Applying learner 'classif.featureless' on task 'german_credit' (iter 1/1)\n",
      "INFO  [08:48:22.261] [mlr3] Applying learner 'classif.featureless' on task 'german_credit' (iter 1/1)\n",
      "INFO  [08:48:22.280] [mlr3] Applying learner 'classif.featureless' on task 'german_credit' (iter 1/1)\n",
      "INFO  [08:48:22.298] [mlr3] Applying learner 'classif.featureless' on task 'german_credit' (iter 1/1)\n",
      "INFO  [08:48:22.316] [mlr3] Applying learner 'classif.featureless' on task 'german_credit' (iter 1/1)\n",
      "INFO  [08:48:22.335] [mlr3] Applying learner 'classif.featureless' on task 'german_credit' (iter 1/1)\n",
      "INFO  [08:48:22.354] [mlr3] Applying learner 'classif.featureless' on task 'german_credit' (iter 1/1)\n",
      "INFO  [08:48:22.383] [mlr3] Applying learner 'classif.featureless' on task 'german_credit' (iter 1/1)\n",
      "INFO  [08:48:22.403] [mlr3] Applying learner 'classif.featureless' on task 'german_credit' (iter 1/1)\n",
      "INFO  [08:48:22.428] [mlr3] Applying learner 'classif.featureless' on task 'german_credit' (iter 1/1)\n",
      "INFO  [08:48:22.450] [mlr3] Applying learner 'classif.featureless' on task 'german_credit' (iter 1/1)\n",
      "INFO  [08:48:22.473] [mlr3] Applying learner 'classif.featureless' on task 'german_credit' (iter 1/1)\n",
      "INFO  [08:48:22.499] [mlr3] Applying learner 'classif.featureless' on task 'german_credit' (iter 1/1)\n",
      "INFO  [08:48:22.525] [mlr3] Applying learner 'classif.featureless' on task 'german_credit' (iter 1/1)\n",
      "INFO  [08:48:22.547] [mlr3] Applying learner 'classif.featureless' on task 'german_credit' (iter 1/1)\n",
      "INFO  [08:48:22.565] [mlr3] Applying learner 'classif.featureless' on task 'german_credit' (iter 1/1)\n",
      "INFO  [08:48:22.583] [mlr3] Applying learner 'classif.featureless' on task 'german_credit' (iter 1/1)\n",
      "INFO  [08:48:22.602] [mlr3] Applying learner 'classif.featureless' on task 'german_credit' (iter 1/1)\n",
      "INFO  [08:48:22.620] [mlr3] Applying learner 'classif.featureless' on task 'german_credit' (iter 1/1)\n",
      "INFO  [08:48:22.642] [mlr3] Applying learner 'classif.featureless' on task 'german_credit' (iter 1/1)\n",
      "INFO  [08:48:22.667] [mlr3] Applying learner 'classif.featureless' on task 'german_credit' (iter 1/1)\n",
      "INFO  [08:48:22.689] [mlr3] Applying learner 'classif.featureless' on task 'german_credit' (iter 1/1)\n",
      "INFO  [08:48:22.708] [mlr3] Applying learner 'classif.featureless' on task 'german_credit' (iter 1/1)\n",
      "INFO  [08:48:22.728] [mlr3] Applying learner 'classif.featureless' on task 'german_credit' (iter 1/1)\n",
      "INFO  [08:48:22.754] [mlr3] Applying learner 'classif.featureless' on task 'german_credit' (iter 1/1)\n",
      "INFO  [08:48:22.772] [mlr3] Applying learner 'classif.featureless' on task 'german_credit' (iter 1/1)\n",
      "INFO  [08:48:22.799] [mlr3] Applying learner 'classif.featureless' on task 'german_credit' (iter 1/1)\n",
      "INFO  [08:48:22.819] [mlr3] Applying learner 'classif.featureless' on task 'german_credit' (iter 1/1)\n",
      "INFO  [08:48:22.837] [mlr3] Applying learner 'classif.featureless' on task 'german_credit' (iter 1/1)\n",
      "INFO  [08:48:22.856] [mlr3] Applying learner 'classif.featureless' on task 'german_credit' (iter 1/1)\n",
      "INFO  [08:48:22.874] [mlr3] Applying learner 'classif.featureless' on task 'german_credit' (iter 1/1)\n",
      "INFO  [08:48:22.892] [mlr3] Applying learner 'classif.featureless' on task 'german_credit' (iter 1/1)\n",
      "INFO  [08:48:22.921] [mlr3] Applying learner 'classif.featureless' on task 'german_credit' (iter 1/1)\n",
      "INFO  [08:48:22.942] [mlr3] Applying learner 'classif.featureless' on task 'german_credit' (iter 1/1)\n",
      "INFO  [08:48:22.960] [mlr3] Applying learner 'classif.featureless' on task 'german_credit' (iter 1/1)\n",
      "INFO  [08:48:22.978] [mlr3] Applying learner 'classif.featureless' on task 'german_credit' (iter 1/1)\n",
      "INFO  [08:48:22.995] [mlr3] Applying learner 'classif.featureless' on task 'german_credit' (iter 1/1)\n",
      "INFO  [08:48:23.014] [mlr3] Applying learner 'classif.featureless' on task 'german_credit' (iter 1/1)\n",
      "INFO  [08:48:23.034] [mlr3] Applying learner 'classif.featureless' on task 'german_credit' (iter 1/1)\n",
      "INFO  [08:48:23.061] [mlr3] Applying learner 'classif.featureless' on task 'german_credit' (iter 1/1)\n",
      "INFO  [08:48:23.080] [mlr3] Applying learner 'classif.featureless' on task 'german_credit' (iter 1/1)\n",
      "INFO  [08:48:23.102] [mlr3] Applying learner 'classif.featureless' on task 'german_credit' (iter 1/1)\n",
      "INFO  [08:48:23.124] [mlr3] Applying learner 'classif.featureless' on task 'german_credit' (iter 1/1)\n",
      "INFO  [08:48:23.146] [mlr3] Applying learner 'classif.featureless' on task 'german_credit' (iter 1/1)\n",
      "INFO  [08:48:23.167] [mlr3] Applying learner 'classif.featureless' on task 'german_credit' (iter 1/1)\n",
      "INFO  [08:48:23.193] [mlr3] Applying learner 'classif.featureless' on task 'german_credit' (iter 1/1)\n",
      "INFO  [08:48:23.211] [mlr3] Applying learner 'classif.featureless' on task 'german_credit' (iter 1/1)\n",
      "INFO  [08:48:23.229] [mlr3] Applying learner 'classif.featureless' on task 'german_credit' (iter 1/1)\n",
      "INFO  [08:48:23.249] [mlr3] Applying learner 'classif.featureless' on task 'german_credit' (iter 1/1)\n",
      "INFO  [08:48:23.269] [mlr3] Applying learner 'classif.featureless' on task 'german_credit' (iter 1/1)\n",
      "INFO  [08:48:23.289] [mlr3] Applying learner 'classif.featureless' on task 'german_credit' (iter 1/1)\n",
      "INFO  [08:48:23.315] [mlr3] Applying learner 'classif.featureless' on task 'german_credit' (iter 1/1)\n",
      "INFO  [08:48:23.333] [mlr3] Applying learner 'classif.featureless' on task 'german_credit' (iter 1/1)\n",
      "INFO  [08:48:23.353] [mlr3] Applying learner 'classif.featureless' on task 'german_credit' (iter 1/1)\n",
      "INFO  [08:48:23.371] [mlr3] Applying learner 'classif.featureless' on task 'german_credit' (iter 1/1)\n",
      "INFO  [08:48:23.388] [mlr3] Applying learner 'classif.featureless' on task 'german_credit' (iter 1/1)\n",
      "INFO  [08:48:23.407] [mlr3] Applying learner 'classif.featureless' on task 'german_credit' (iter 1/1)\n",
      "INFO  [08:48:23.434] [mlr3] Applying learner 'classif.featureless' on task 'german_credit' (iter 1/1)\n",
      "INFO  [08:48:23.452] [mlr3] Applying learner 'classif.featureless' on task 'german_credit' (iter 1/1)\n",
      "INFO  [08:48:23.475] [mlr3] Applying learner 'classif.featureless' on task 'german_credit' (iter 1/1)\n",
      "INFO  [08:48:23.493] [mlr3] Applying learner 'classif.featureless' on task 'german_credit' (iter 1/1)\n",
      "INFO  [08:48:23.511] [mlr3] Applying learner 'classif.featureless' on task 'german_credit' (iter 1/1)\n",
      "INFO  [08:48:23.530] [mlr3] Applying learner 'classif.featureless' on task 'german_credit' (iter 1/1)\n",
      "INFO  [08:48:23.555] [mlr3] Applying learner 'classif.featureless' on task 'german_credit' (iter 1/1)\n",
      "INFO  [08:48:23.575] [mlr3] Applying learner 'classif.featureless' on task 'german_credit' (iter 1/1)\n",
      "INFO  [08:48:23.592] [mlr3] Applying learner 'classif.featureless' on task 'german_credit' (iter 1/1)\n",
      "INFO  [08:48:23.610] [mlr3] Applying learner 'classif.featureless' on task 'german_credit' (iter 1/1)\n",
      "INFO  [08:48:23.627] [mlr3] Applying learner 'classif.featureless' on task 'german_credit' (iter 1/1)\n",
      "INFO  [08:48:23.652] [mlr3] Applying learner 'classif.featureless' on task 'german_credit' (iter 1/1)\n",
      "INFO  [08:48:23.673] [mlr3] Applying learner 'classif.featureless' on task 'german_credit' (iter 1/1)\n",
      "INFO  [08:48:23.691] [mlr3] Applying learner 'classif.featureless' on task 'german_credit' (iter 1/1)\n",
      "INFO  [08:48:23.708] [mlr3] Applying learner 'classif.featureless' on task 'german_credit' (iter 1/1)\n",
      "INFO  [08:48:23.728] [mlr3] Applying learner 'classif.featureless' on task 'german_credit' (iter 1/1)\n",
      "INFO  [08:48:23.747] [mlr3] Applying learner 'classif.featureless' on task 'german_credit' (iter 1/1)\n",
      "INFO  [08:48:23.771] [mlr3] Applying learner 'classif.featureless' on task 'german_credit' (iter 1/1)\n",
      "INFO  [08:48:23.789] [mlr3] Applying learner 'classif.featureless' on task 'german_credit' (iter 1/1)\n",
      "INFO  [08:48:23.807] [mlr3] Applying learner 'classif.featureless' on task 'german_credit' (iter 1/1)\n",
      "INFO  [08:48:23.825] [mlr3] Applying learner 'classif.featureless' on task 'german_credit' (iter 1/1)\n",
      "INFO  [08:48:23.846] [mlr3] Applying learner 'classif.featureless' on task 'german_credit' (iter 1/1)\n",
      "INFO  [08:48:23.945] [mlr3] Applying learner 'classif.featureless' on task 'german_credit' (iter 1/1)\n",
      "INFO  [08:48:23.973] [mlr3] Applying learner 'classif.featureless' on task 'german_credit' (iter 1/1)\n",
      "INFO  [08:48:23.993] [mlr3] Applying learner 'classif.featureless' on task 'german_credit' (iter 1/1)\n",
      "INFO  [08:48:24.013] [mlr3] Applying learner 'classif.featureless' on task 'german_credit' (iter 1/1)\n",
      "INFO  [08:48:24.034] [mlr3] Applying learner 'classif.featureless' on task 'german_credit' (iter 1/1)\n",
      "INFO  [08:48:24.055] [mlr3] Applying learner 'classif.featureless' on task 'german_credit' (iter 1/1)\n",
      "INFO  [08:48:24.410] [mlr3] Applying learner 'classif.featureless' on task 'german_credit' (iter 1/1)\n",
      "INFO  [08:48:24.534] [mlr3] Applying learner 'classif.featureless' on task 'german_credit' (iter 1/1)\n",
      "INFO  [08:48:24.562] [mlr3] Applying learner 'classif.featureless' on task 'german_credit' (iter 1/1)\n",
      "INFO  [08:48:24.593] [mlr3] Applying learner 'classif.featureless' on task 'german_credit' (iter 1/1)\n",
      "INFO  [08:48:24.620] [mlr3] Applying learner 'classif.featureless' on task 'german_credit' (iter 1/1)\n",
      "INFO  [08:48:24.687] [mlr3] Applying learner 'classif.featureless' on task 'german_credit' (iter 1/1)\n",
      "INFO  [08:48:24.742] [mlr3] Applying learner 'classif.featureless' on task 'german_credit' (iter 1/1)\n",
      "INFO  [08:48:24.784] [mlr3] Applying learner 'classif.featureless' on task 'german_credit' (iter 1/1)\n",
      "INFO  [08:48:24.811] [mlr3] Applying learner 'classif.featureless' on task 'german_credit' (iter 1/1)\n",
      "INFO  [08:48:24.847] [mlr3] Applying learner 'classif.featureless' on task 'german_credit' (iter 1/1)\n",
      "INFO  [08:48:24.869] [mlr3] Applying learner 'classif.featureless' on task 'german_credit' (iter 1/1)\n",
      "INFO  [08:48:24.886] [mlr3] Applying learner 'classif.featureless' on task 'german_credit' (iter 1/1)\n",
      "INFO  [08:48:24.910] [mlr3] Applying learner 'classif.featureless' on task 'german_credit' (iter 1/1)\n",
      "INFO  [08:48:24.931] [mlr3] Applying learner 'classif.featureless' on task 'german_credit' (iter 1/1)\n",
      "INFO  [08:48:24.952] [mlr3] Applying learner 'classif.featureless' on task 'german_credit' (iter 1/1)\n",
      "INFO  [08:48:24.988] [mlr3] Applying learner 'classif.featureless' on task 'german_credit' (iter 1/1)\n",
      "INFO  [08:48:25.010] [mlr3] Applying learner 'classif.featureless' on task 'german_credit' (iter 1/1)\n",
      "INFO  [08:48:25.030] [mlr3] Applying learner 'classif.featureless' on task 'german_credit' (iter 1/1)\n",
      "INFO  [08:48:25.059] [mlr3] Applying learner 'classif.featureless' on task 'german_credit' (iter 1/1)\n",
      "INFO  [08:48:25.093] [mlr3] Applying learner 'classif.featureless' on task 'german_credit' (iter 1/1)\n",
      "INFO  [08:48:25.134] [mlr3] Applying learner 'classif.featureless' on task 'german_credit' (iter 1/1)\n",
      "INFO  [08:48:25.177] [mlr3] Applying learner 'classif.featureless' on task 'german_credit' (iter 1/1)\n",
      "INFO  [08:48:25.267] [mlr3] Applying learner 'classif.featureless' on task 'german_credit' (iter 1/1)\n",
      "INFO  [08:48:25.306] [mlr3] Applying learner 'classif.featureless' on task 'german_credit' (iter 1/1)\n",
      "INFO  [08:48:25.324] [mlr3] Applying learner 'classif.featureless' on task 'german_credit' (iter 1/1)\n",
      "INFO  [08:48:25.345] [mlr3] Applying learner 'classif.featureless' on task 'german_credit' (iter 1/1)\n",
      "INFO  [08:48:25.365] [mlr3] Applying learner 'classif.featureless' on task 'german_credit' (iter 1/1)\n",
      "INFO  [08:48:25.385] [mlr3] Applying learner 'classif.featureless' on task 'german_credit' (iter 1/1)\n",
      "INFO  [08:48:25.404] [mlr3] Applying learner 'classif.featureless' on task 'german_credit' (iter 1/1)\n",
      "INFO  [08:48:25.432] [mlr3] Applying learner 'classif.featureless' on task 'german_credit' (iter 1/1)\n",
      "INFO  [08:48:25.454] [mlr3] Applying learner 'classif.featureless' on task 'german_credit' (iter 1/1)\n",
      "INFO  [08:48:25.476] [mlr3] Applying learner 'classif.featureless' on task 'german_credit' (iter 1/1)\n",
      "INFO  [08:48:25.494] [mlr3] Applying learner 'classif.featureless' on task 'german_credit' (iter 1/1)\n",
      "INFO  [08:48:25.514] [mlr3] Applying learner 'classif.featureless' on task 'german_credit' (iter 1/1)\n",
      "INFO  [08:48:25.534] [mlr3] Applying learner 'classif.featureless' on task 'german_credit' (iter 1/1)\n",
      "INFO  [08:48:25.555] [mlr3] Applying learner 'classif.featureless' on task 'german_credit' (iter 1/1)\n",
      "INFO  [08:48:25.586] [mlr3] Applying learner 'classif.featureless' on task 'german_credit' (iter 1/1)\n",
      "INFO  [08:48:25.607] [mlr3] Applying learner 'classif.featureless' on task 'german_credit' (iter 1/1)\n",
      "INFO  [08:48:25.629] [mlr3] Applying learner 'classif.featureless' on task 'german_credit' (iter 1/1)\n",
      "INFO  [08:48:25.647] [mlr3] Applying learner 'classif.featureless' on task 'german_credit' (iter 1/1)\n",
      "INFO  [08:48:25.667] [mlr3] Applying learner 'classif.featureless' on task 'german_credit' (iter 1/1)\n",
      "INFO  [08:48:25.688] [mlr3] Applying learner 'classif.featureless' on task 'german_credit' (iter 1/1)\n",
      "INFO  [08:48:25.710] [mlr3] Applying learner 'classif.featureless' on task 'german_credit' (iter 1/1)\n",
      "INFO  [08:48:25.742] [mlr3] Applying learner 'classif.featureless' on task 'german_credit' (iter 1/1)\n",
      "INFO  [08:48:25.761] [mlr3] Applying learner 'classif.featureless' on task 'german_credit' (iter 1/1)\n",
      "INFO  [08:48:25.779] [mlr3] Applying learner 'classif.featureless' on task 'german_credit' (iter 1/1)\n",
      "INFO  [08:48:25.799] [mlr3] Applying learner 'classif.featureless' on task 'german_credit' (iter 1/1)\n",
      "INFO  [08:48:25.820] [mlr3] Applying learner 'classif.featureless' on task 'german_credit' (iter 1/1)\n",
      "INFO  [08:48:25.838] [mlr3] Applying learner 'classif.featureless' on task 'german_credit' (iter 1/1)\n",
      "INFO  [08:48:25.856] [mlr3] Applying learner 'classif.featureless' on task 'german_credit' (iter 1/1)\n",
      "INFO  [08:48:25.887] [mlr3] Applying learner 'classif.featureless' on task 'german_credit' (iter 1/1)\n",
      "INFO  [08:48:25.905] [mlr3] Applying learner 'classif.featureless' on task 'german_credit' (iter 1/1)\n",
      "INFO  [08:48:25.926] [mlr3] Applying learner 'classif.featureless' on task 'german_credit' (iter 1/1)\n",
      "INFO  [08:48:25.947] [mlr3] Applying learner 'classif.featureless' on task 'german_credit' (iter 1/1)\n",
      "INFO  [08:48:26.033] [mlr3] Applying learner 'classif.featureless' on task 'german_credit' (iter 1/1)\n",
      "INFO  [08:48:26.055] [mlr3] Applying learner 'classif.featureless' on task 'german_credit' (iter 1/1)\n",
      "INFO  [08:48:26.088] [mlr3] Applying learner 'classif.featureless' on task 'german_credit' (iter 1/1)\n",
      "INFO  [08:48:26.111] [mlr3] Applying learner 'classif.featureless' on task 'german_credit' (iter 1/1)\n",
      "INFO  [08:48:26.130] [mlr3] Applying learner 'classif.featureless' on task 'german_credit' (iter 1/1)\n",
      "INFO  [08:48:26.167] [mlr3] Applying learner 'classif.featureless' on task 'german_credit' (iter 1/1)\n",
      "INFO  [08:48:26.188] [mlr3] Applying learner 'classif.featureless' on task 'german_credit' (iter 1/1)\n",
      "INFO  [08:48:26.212] [mlr3] Applying learner 'classif.featureless' on task 'german_credit' (iter 1/1)\n",
      "INFO  [08:48:26.239] [mlr3] Applying learner 'classif.featureless' on task 'german_credit' (iter 1/1)\n",
      "INFO  [08:48:26.272] [mlr3] Applying learner 'classif.featureless' on task 'german_credit' (iter 1/1)\n",
      "INFO  [08:48:26.294] [mlr3] Applying learner 'classif.featureless' on task 'german_credit' (iter 1/1)\n",
      "INFO  [08:48:26.313] [mlr3] Applying learner 'classif.featureless' on task 'german_credit' (iter 1/1)\n",
      "INFO  [08:48:26.331] [mlr3] Applying learner 'classif.featureless' on task 'german_credit' (iter 1/1)\n",
      "INFO  [08:48:26.347] [mlr3] Applying learner 'classif.featureless' on task 'german_credit' (iter 1/1)\n",
      "INFO  [08:48:26.366] [mlr3] Applying learner 'classif.featureless' on task 'german_credit' (iter 1/1)\n",
      "INFO  [08:48:26.397] [mlr3] Applying learner 'classif.featureless' on task 'german_credit' (iter 1/1)\n",
      "INFO  [08:48:26.424] [mlr3] Applying learner 'classif.featureless' on task 'german_credit' (iter 1/1)\n",
      "INFO  [08:48:26.446] [mlr3] Applying learner 'classif.featureless' on task 'german_credit' (iter 1/1)\n",
      "INFO  [08:48:26.466] [mlr3] Applying learner 'classif.featureless' on task 'german_credit' (iter 1/1)\n",
      "INFO  [08:48:26.487] [mlr3] Applying learner 'classif.featureless' on task 'german_credit' (iter 1/1)\n",
      "INFO  [08:48:26.507] [mlr3] Applying learner 'classif.featureless' on task 'german_credit' (iter 1/1)\n",
      "INFO  [08:48:26.527] [mlr3] Applying learner 'classif.featureless' on task 'german_credit' (iter 1/1)\n",
      "INFO  [08:48:26.557] [mlr3] Applying learner 'classif.featureless' on task 'german_credit' (iter 1/1)\n",
      "INFO  [08:48:26.575] [mlr3] Applying learner 'classif.featureless' on task 'german_credit' (iter 1/1)\n",
      "INFO  [08:48:26.591] [mlr3] Applying learner 'classif.featureless' on task 'german_credit' (iter 1/1)\n",
      "INFO  [08:48:26.608] [mlr3] Applying learner 'classif.featureless' on task 'german_credit' (iter 1/1)\n",
      "INFO  [08:48:26.624] [mlr3] Applying learner 'classif.featureless' on task 'german_credit' (iter 1/1)\n",
      "INFO  [08:48:26.640] [mlr3] Applying learner 'classif.featureless' on task 'german_credit' (iter 1/1)\n",
      "INFO  [08:48:26.668] [mlr3] Applying learner 'classif.featureless' on task 'german_credit' (iter 1/1)\n",
      "INFO  [08:48:26.684] [mlr3] Applying learner 'classif.featureless' on task 'german_credit' (iter 1/1)\n",
      "INFO  [08:48:26.700] [mlr3] Applying learner 'classif.featureless' on task 'german_credit' (iter 1/1)\n",
      "INFO  [08:48:26.716] [mlr3] Applying learner 'classif.featureless' on task 'german_credit' (iter 1/1)\n",
      "INFO  [08:48:26.732] [mlr3] Applying learner 'classif.featureless' on task 'german_credit' (iter 1/1)\n",
      "INFO  [08:48:26.749] [mlr3] Applying learner 'classif.featureless' on task 'german_credit' (iter 1/1)\n",
      "INFO  [08:48:26.775] [mlr3] Applying learner 'classif.featureless' on task 'german_credit' (iter 1/1)\n",
      "INFO  [08:48:26.801] [mlr3] Applying learner 'classif.featureless' on task 'german_credit' (iter 1/1)\n",
      "INFO  [08:48:26.852] [mlr3] Applying learner 'classif.featureless' on task 'german_credit' (iter 1/1)\n",
      "INFO  [08:48:26.882] [mlr3] Applying learner 'classif.featureless' on task 'german_credit' (iter 1/1)\n",
      "INFO  [08:48:26.902] [mlr3] Applying learner 'classif.featureless' on task 'german_credit' (iter 1/1)\n",
      "INFO  [08:48:26.950] [mlr3] Applying learner 'classif.featureless' on task 'german_credit' (iter 1/1)\n",
      "INFO  [08:48:26.997] [mlr3] Applying learner 'classif.featureless' on task 'german_credit' (iter 1/1)\n",
      "INFO  [08:48:27.020] [mlr3] Applying learner 'classif.featureless' on task 'german_credit' (iter 1/1)\n",
      "INFO  [08:48:27.041] [mlr3] Applying learner 'classif.featureless' on task 'german_credit' (iter 1/1)\n",
      "INFO  [08:48:27.066] [mlr3] Applying learner 'classif.featureless' on task 'german_credit' (iter 1/1)\n",
      "INFO  [08:48:27.098] [mlr3] Applying learner 'classif.featureless' on task 'german_credit' (iter 1/1)\n",
      "INFO  [08:48:27.119] [mlr3] Applying learner 'classif.featureless' on task 'german_credit' (iter 1/1)\n",
      "INFO  [08:48:27.151] [mlr3] Applying learner 'classif.featureless' on task 'german_credit' (iter 1/1)\n",
      "INFO  [08:48:27.172] [mlr3] Applying learner 'classif.featureless' on task 'german_credit' (iter 1/1)\n",
      "INFO  [08:48:27.192] [mlr3] Applying learner 'classif.featureless' on task 'german_credit' (iter 1/1)\n",
      "INFO  [08:48:27.214] [mlr3] Applying learner 'classif.featureless' on task 'german_credit' (iter 1/1)\n",
      "INFO  [08:48:27.234] [mlr3] Applying learner 'classif.featureless' on task 'german_credit' (iter 1/1)\n",
      "INFO  [08:48:27.254] [mlr3] Applying learner 'classif.featureless' on task 'german_credit' (iter 1/1)\n",
      "INFO  [08:48:27.288] [mlr3] Applying learner 'classif.featureless' on task 'german_credit' (iter 1/1)\n",
      "INFO  [08:48:27.307] [mlr3] Applying learner 'classif.featureless' on task 'german_credit' (iter 1/1)\n",
      "INFO  [08:48:27.324] [mlr3] Applying learner 'classif.featureless' on task 'german_credit' (iter 1/1)\n",
      "INFO  [08:48:27.369] [mlr3] Applying learner 'classif.featureless' on task 'german_credit' (iter 1/1)\n",
      "INFO  [08:48:27.432] [mlr3] Applying learner 'classif.featureless' on task 'german_credit' (iter 1/1)\n",
      "INFO  [08:48:27.522] [mlr3] Applying learner 'classif.featureless' on task 'german_credit' (iter 1/1)\n",
      "INFO  [08:48:27.559] [mlr3] Applying learner 'classif.featureless' on task 'german_credit' (iter 1/1)\n",
      "INFO  [08:48:27.582] [mlr3] Applying learner 'classif.featureless' on task 'german_credit' (iter 1/1)\n",
      "INFO  [08:48:27.605] [mlr3] Applying learner 'classif.featureless' on task 'german_credit' (iter 1/1)\n",
      "INFO  [08:48:27.628] [mlr3] Applying learner 'classif.featureless' on task 'german_credit' (iter 1/1)\n",
      "INFO  [08:48:27.655] [mlr3] Applying learner 'classif.featureless' on task 'german_credit' (iter 1/1)\n",
      "INFO  [08:48:27.685] [mlr3] Applying learner 'classif.featureless' on task 'german_credit' (iter 1/1)\n",
      "INFO  [08:48:27.718] [mlr3] Applying learner 'classif.featureless' on task 'german_credit' (iter 1/1)\n",
      "INFO  [08:48:27.740] [mlr3] Applying learner 'classif.featureless' on task 'german_credit' (iter 1/1)\n",
      "INFO  [08:48:27.762] [mlr3] Applying learner 'classif.featureless' on task 'german_credit' (iter 1/1)\n",
      "INFO  [08:48:27.788] [mlr3] Applying learner 'classif.featureless' on task 'german_credit' (iter 1/1)\n",
      "INFO  [08:48:27.812] [mlr3] Applying learner 'classif.featureless' on task 'german_credit' (iter 1/1)\n",
      "INFO  [08:48:27.853] [mlr3] Applying learner 'classif.featureless' on task 'german_credit' (iter 1/1)\n",
      "INFO  [08:48:27.871] [mlr3] Applying learner 'classif.featureless' on task 'german_credit' (iter 1/1)\n",
      "INFO  [08:48:27.889] [mlr3] Applying learner 'classif.featureless' on task 'german_credit' (iter 1/1)\n",
      "INFO  [08:48:27.909] [mlr3] Applying learner 'classif.featureless' on task 'german_credit' (iter 1/1)\n",
      "INFO  [08:48:27.926] [mlr3] Applying learner 'classif.featureless' on task 'german_credit' (iter 1/1)\n",
      "INFO  [08:48:27.946] [mlr3] Applying learner 'classif.featureless' on task 'german_credit' (iter 1/1)\n",
      "INFO  [08:48:28.024] [mlr3] Applying learner 'classif.featureless' on task 'german_credit' (iter 1/1)\n",
      "INFO  [08:48:28.043] [mlr3] Applying learner 'classif.featureless' on task 'german_credit' (iter 1/1)\n",
      "INFO  [08:48:28.061] [mlr3] Applying learner 'classif.featureless' on task 'german_credit' (iter 1/1)\n",
      "INFO  [08:48:28.080] [mlr3] Applying learner 'classif.featureless' on task 'german_credit' (iter 1/1)\n",
      "INFO  [08:48:28.097] [mlr3] Applying learner 'classif.featureless' on task 'german_credit' (iter 1/1)\n",
      "INFO  [08:48:28.114] [mlr3] Applying learner 'classif.featureless' on task 'german_credit' (iter 1/1)\n",
      "INFO  [08:48:28.145] [mlr3] Applying learner 'classif.featureless' on task 'german_credit' (iter 1/1)\n",
      "INFO  [08:48:28.166] [mlr3] Applying learner 'classif.featureless' on task 'german_credit' (iter 1/1)\n",
      "INFO  [08:48:28.183] [mlr3] Applying learner 'classif.featureless' on task 'german_credit' (iter 1/1)\n",
      "INFO  [08:48:28.205] [mlr3] Applying learner 'classif.featureless' on task 'german_credit' (iter 1/1)\n",
      "INFO  [08:48:28.222] [mlr3] Applying learner 'classif.featureless' on task 'german_credit' (iter 1/1)\n",
      "INFO  [08:48:28.240] [mlr3] Applying learner 'classif.featureless' on task 'german_credit' (iter 1/1)\n",
      "INFO  [08:48:28.257] [mlr3] Applying learner 'classif.featureless' on task 'german_credit' (iter 1/1)\n",
      "INFO  [08:48:28.277] [mlr3] Applying learner 'classif.featureless' on task 'german_credit' (iter 1/1)\n",
      "INFO  [08:48:28.313] [mlr3] Applying learner 'classif.featureless' on task 'german_credit' (iter 1/1)\n",
      "INFO  [08:48:28.335] [mlr3] Applying learner 'classif.featureless' on task 'german_credit' (iter 1/1)\n",
      "INFO  [08:48:28.356] [mlr3] Applying learner 'classif.featureless' on task 'german_credit' (iter 1/1)\n",
      "INFO  [08:48:28.375] [mlr3] Applying learner 'classif.featureless' on task 'german_credit' (iter 1/1)\n",
      "INFO  [08:48:28.394] [mlr3] Applying learner 'classif.featureless' on task 'german_credit' (iter 1/1)\n",
      "INFO  [08:48:28.414] [mlr3] Applying learner 'classif.featureless' on task 'german_credit' (iter 1/1)\n",
      "INFO  [08:48:28.442] [mlr3] Applying learner 'classif.featureless' on task 'german_credit' (iter 1/1)\n",
      "INFO  [08:48:28.470] [mlr3] Applying learner 'classif.featureless' on task 'german_credit' (iter 1/1)\n",
      "INFO  [08:48:28.491] [mlr3] Applying learner 'classif.featureless' on task 'german_credit' (iter 1/1)\n",
      "INFO  [08:48:28.510] [mlr3] Applying learner 'classif.featureless' on task 'german_credit' (iter 1/1)\n",
      "INFO  [08:48:28.530] [mlr3] Applying learner 'classif.featureless' on task 'german_credit' (iter 1/1)\n",
      "INFO  [08:48:28.565] [mlr3] Applying learner 'classif.featureless' on task 'german_credit' (iter 1/1)\n",
      "INFO  [08:48:28.592] [mlr3] Applying learner 'classif.featureless' on task 'german_credit' (iter 1/1)\n",
      "INFO  [08:48:28.621] [mlr3] Applying learner 'classif.featureless' on task 'german_credit' (iter 1/1)\n",
      "INFO  [08:48:28.658] [mlr3] Applying learner 'classif.featureless' on task 'german_credit' (iter 1/1)\n",
      "INFO  [08:48:28.680] [mlr3] Applying learner 'classif.featureless' on task 'german_credit' (iter 1/1)\n",
      "INFO  [08:48:28.701] [mlr3] Applying learner 'classif.featureless' on task 'german_credit' (iter 1/1)\n",
      "INFO  [08:48:28.721] [mlr3] Applying learner 'classif.featureless' on task 'german_credit' (iter 1/1)\n",
      "INFO  [08:48:28.739] [mlr3] Applying learner 'classif.featureless' on task 'german_credit' (iter 1/1)\n",
      "INFO  [08:48:28.757] [mlr3] Applying learner 'classif.featureless' on task 'german_credit' (iter 1/1)\n",
      "INFO  [08:48:28.788] [mlr3] Applying learner 'classif.featureless' on task 'german_credit' (iter 1/1)\n",
      "INFO  [08:48:28.818] [mlr3] Applying learner 'classif.featureless' on task 'german_credit' (iter 1/1)\n",
      "INFO  [08:48:28.839] [mlr3] Applying learner 'classif.featureless' on task 'german_credit' (iter 1/1)\n",
      "INFO  [08:48:28.859] [mlr3] Applying learner 'classif.featureless' on task 'german_credit' (iter 1/1)\n",
      "INFO  [08:48:28.880] [mlr3] Applying learner 'classif.featureless' on task 'german_credit' (iter 1/1)\n",
      "INFO  [08:48:28.897] [mlr3] Applying learner 'classif.featureless' on task 'german_credit' (iter 1/1)\n",
      "INFO  [08:48:28.916] [mlr3] Applying learner 'classif.featureless' on task 'german_credit' (iter 1/1)\n",
      "INFO  [08:48:28.950] [mlr3] Applying learner 'classif.featureless' on task 'german_credit' (iter 1/1)\n",
      "INFO  [08:48:28.979] [mlr3] Applying learner 'classif.featureless' on task 'german_credit' (iter 1/1)\n",
      "INFO  [08:48:29.002] [mlr3] Applying learner 'classif.featureless' on task 'german_credit' (iter 1/1)\n",
      "INFO  [08:48:29.023] [mlr3] Applying learner 'classif.featureless' on task 'german_credit' (iter 1/1)\n",
      "INFO  [08:48:29.044] [mlr3] Applying learner 'classif.featureless' on task 'german_credit' (iter 1/1)\n",
      "INFO  [08:48:29.064] [mlr3] Applying learner 'classif.featureless' on task 'german_credit' (iter 1/1)\n",
      "INFO  [08:48:29.085] [mlr3] Applying learner 'classif.featureless' on task 'german_credit' (iter 1/1)\n",
      "INFO  [08:48:29.120] [mlr3] Applying learner 'classif.featureless' on task 'german_credit' (iter 1/1)\n",
      "INFO  [08:48:29.144] [mlr3] Applying learner 'classif.featureless' on task 'german_credit' (iter 1/1)\n",
      "INFO  [08:48:29.166] [mlr3] Applying learner 'classif.featureless' on task 'german_credit' (iter 1/1)\n",
      "INFO  [08:48:29.187] [mlr3] Applying learner 'classif.featureless' on task 'german_credit' (iter 1/1)\n",
      "INFO  [08:48:29.208] [mlr3] Applying learner 'classif.featureless' on task 'german_credit' (iter 1/1)\n",
      "INFO  [08:48:29.230] [mlr3] Applying learner 'classif.featureless' on task 'german_credit' (iter 1/1)\n",
      "INFO  [08:48:29.249] [mlr3] Applying learner 'classif.featureless' on task 'german_credit' (iter 1/1)\n",
      "INFO  [08:48:29.305] [mlr3] Applying learner 'classif.featureless' on task 'german_credit' (iter 1/1)\n",
      "INFO  [08:48:29.331] [mlr3] Applying learner 'classif.featureless' on task 'german_credit' (iter 1/1)\n",
      "INFO  [08:48:29.360] [mlr3] Applying learner 'classif.featureless' on task 'german_credit' (iter 1/1)\n",
      "INFO  [08:48:29.381] [mlr3] Applying learner 'classif.featureless' on task 'german_credit' (iter 1/1)\n",
      "INFO  [08:48:29.403] [mlr3] Applying learner 'classif.featureless' on task 'german_credit' (iter 1/1)\n",
      "INFO  [08:48:29.426] [mlr3] Applying learner 'classif.featureless' on task 'german_credit' (iter 1/1)\n",
      "INFO  [08:48:29.462] [mlr3] Applying learner 'classif.featureless' on task 'german_credit' (iter 1/1)\n",
      "INFO  [08:48:29.488] [mlr3] Applying learner 'classif.featureless' on task 'german_credit' (iter 1/1)\n",
      "INFO  [08:48:29.507] [mlr3] Applying learner 'classif.featureless' on task 'german_credit' (iter 1/1)\n",
      "INFO  [08:48:29.525] [mlr3] Applying learner 'classif.featureless' on task 'german_credit' (iter 1/1)\n",
      "INFO  [08:48:29.543] [mlr3] Applying learner 'classif.featureless' on task 'german_credit' (iter 1/1)\n",
      "INFO  [08:48:29.560] [mlr3] Applying learner 'classif.featureless' on task 'german_credit' (iter 1/1)\n",
      "INFO  [08:48:29.579] [mlr3] Applying learner 'classif.featureless' on task 'german_credit' (iter 1/1)\n",
      "INFO  [08:48:29.614] [mlr3] Applying learner 'classif.featureless' on task 'german_credit' (iter 1/1)\n",
      "INFO  [08:48:29.635] [mlr3] Applying learner 'classif.featureless' on task 'german_credit' (iter 1/1)\n",
      "INFO  [08:48:29.653] [mlr3] Applying learner 'classif.featureless' on task 'german_credit' (iter 1/1)\n",
      "INFO  [08:48:29.671] [mlr3] Applying learner 'classif.featureless' on task 'german_credit' (iter 1/1)\n",
      "INFO  [08:48:29.688] [mlr3] Applying learner 'classif.featureless' on task 'german_credit' (iter 1/1)\n",
      "INFO  [08:48:29.706] [mlr3] Applying learner 'classif.featureless' on task 'german_credit' (iter 1/1)\n",
      "INFO  [08:48:29.734] [mlr3] Applying learner 'classif.featureless' on task 'german_credit' (iter 1/1)\n",
      "INFO  [08:48:29.759] [mlr3] Applying learner 'classif.featureless' on task 'german_credit' (iter 1/1)\n",
      "INFO  [08:48:29.778] [mlr3] Applying learner 'classif.featureless' on task 'german_credit' (iter 1/1)\n",
      "INFO  [08:48:29.798] [mlr3] Applying learner 'classif.featureless' on task 'german_credit' (iter 1/1)\n",
      "INFO  [08:48:29.820] [mlr3] Applying learner 'classif.featureless' on task 'german_credit' (iter 1/1)\n",
      "INFO  [08:48:29.840] [mlr3] Applying learner 'classif.featureless' on task 'german_credit' (iter 1/1)\n",
      "INFO  [08:48:29.867] [mlr3] Applying learner 'classif.featureless' on task 'german_credit' (iter 1/1)\n",
      "INFO  [08:48:29.899] [mlr3] Applying learner 'classif.featureless' on task 'german_credit' (iter 1/1)\n",
      "INFO  [08:48:29.921] [mlr3] Applying learner 'classif.featureless' on task 'german_credit' (iter 1/1)\n",
      "INFO  [08:48:29.940] [mlr3] Applying learner 'classif.featureless' on task 'german_credit' (iter 1/1)\n",
      "INFO  [08:48:29.960] [mlr3] Applying learner 'classif.featureless' on task 'german_credit' (iter 1/1)\n",
      "INFO  [08:48:29.981] [mlr3] Applying learner 'classif.featureless' on task 'german_credit' (iter 1/1)\n",
      "INFO  [08:48:30.003] [mlr3] Applying learner 'classif.featureless' on task 'german_credit' (iter 1/1)\n",
      "INFO  [08:48:30.040] [mlr3] Applying learner 'classif.featureless' on task 'german_credit' (iter 1/1)\n",
      "INFO  [08:48:30.065] [mlr3] Applying learner 'classif.featureless' on task 'german_credit' (iter 1/1)\n",
      "INFO  [08:48:30.087] [mlr3] Applying learner 'classif.featureless' on task 'german_credit' (iter 1/1)\n",
      "INFO  [08:48:30.108] [mlr3] Applying learner 'classif.featureless' on task 'german_credit' (iter 1/1)\n",
      "INFO  [08:48:30.130] [mlr3] Applying learner 'classif.featureless' on task 'german_credit' (iter 1/1)\n",
      "INFO  [08:48:30.151] [mlr3] Applying learner 'classif.featureless' on task 'german_credit' (iter 1/1)\n",
      "INFO  [08:48:30.185] [mlr3] Applying learner 'classif.featureless' on task 'german_credit' (iter 1/1)\n",
      "INFO  [08:48:30.213] [mlr3] Applying learner 'classif.featureless' on task 'german_credit' (iter 1/1)\n",
      "INFO  [08:48:30.234] [mlr3] Applying learner 'classif.featureless' on task 'german_credit' (iter 1/1)\n",
      "INFO  [08:48:30.251] [mlr3] Applying learner 'classif.featureless' on task 'german_credit' (iter 1/1)\n",
      "INFO  [08:48:30.269] [mlr3] Applying learner 'classif.featureless' on task 'german_credit' (iter 1/1)\n",
      "INFO  [08:48:30.287] [mlr3] Applying learner 'classif.featureless' on task 'german_credit' (iter 1/1)\n",
      "INFO  [08:48:30.322] [mlr3] Applying learner 'classif.featureless' on task 'german_credit' (iter 1/1)\n",
      "INFO  [08:48:30.345] [mlr3] Applying learner 'classif.featureless' on task 'german_credit' (iter 1/1)\n",
      "INFO  [08:48:30.362] [mlr3] Applying learner 'classif.featureless' on task 'german_credit' (iter 1/1)\n",
      "INFO  [08:48:30.379] [mlr3] Applying learner 'classif.featureless' on task 'german_credit' (iter 1/1)\n",
      "INFO  [08:48:30.399] [mlr3] Applying learner 'classif.featureless' on task 'german_credit' (iter 1/1)\n",
      "INFO  [08:48:30.431] [mlr3] Applying learner 'classif.featureless' on task 'german_credit' (iter 1/1)\n",
      "INFO  [08:48:30.484] [mlr3] Applying learner 'classif.featureless' on task 'german_credit' (iter 1/1)\n",
      "INFO  [08:48:30.534] [mlr3] Applying learner 'classif.featureless' on task 'german_credit' (iter 1/1)\n",
      "INFO  [08:48:30.561] [mlr3] Applying learner 'classif.featureless' on task 'german_credit' (iter 1/1)\n",
      "INFO  [08:48:30.583] [mlr3] Applying learner 'classif.featureless' on task 'german_credit' (iter 1/1)\n",
      "INFO  [08:48:30.604] [mlr3] Applying learner 'classif.featureless' on task 'german_credit' (iter 1/1)\n",
      "INFO  [08:48:30.626] [mlr3] Applying learner 'classif.featureless' on task 'german_credit' (iter 1/1)\n",
      "INFO  [08:48:30.662] [mlr3] Applying learner 'classif.featureless' on task 'german_credit' (iter 1/1)\n",
      "INFO  [08:48:30.685] [mlr3] Applying learner 'classif.featureless' on task 'german_credit' (iter 1/1)\n",
      "INFO  [08:48:30.705] [mlr3] Applying learner 'classif.featureless' on task 'german_credit' (iter 1/1)\n",
      "INFO  [08:48:30.728] [mlr3] Applying learner 'classif.featureless' on task 'german_credit' (iter 1/1)\n",
      "INFO  [08:48:30.747] [mlr3] Applying learner 'classif.featureless' on task 'german_credit' (iter 1/1)\n",
      "INFO  [08:48:30.765] [mlr3] Applying learner 'classif.featureless' on task 'german_credit' (iter 1/1)\n",
      "INFO  [08:48:30.799] [mlr3] Applying learner 'classif.featureless' on task 'german_credit' (iter 1/1)\n",
      "INFO  [08:48:30.819] [mlr3] Applying learner 'classif.featureless' on task 'german_credit' (iter 1/1)\n",
      "INFO  [08:48:30.839] [mlr3] Applying learner 'classif.featureless' on task 'german_credit' (iter 1/1)\n",
      "INFO  [08:48:30.860] [mlr3] Applying learner 'classif.featureless' on task 'german_credit' (iter 1/1)\n",
      "INFO  [08:48:30.880] [mlr3] Applying learner 'classif.featureless' on task 'german_credit' (iter 1/1)\n",
      "INFO  [08:48:30.912] [mlr3] Applying learner 'classif.featureless' on task 'german_credit' (iter 1/1)\n",
      "INFO  [08:48:30.940] [mlr3] Applying learner 'classif.featureless' on task 'german_credit' (iter 1/1)\n",
      "INFO  [08:48:30.961] [mlr3] Applying learner 'classif.featureless' on task 'german_credit' (iter 1/1)\n",
      "INFO  [08:48:30.981] [mlr3] Applying learner 'classif.featureless' on task 'german_credit' (iter 1/1)\n",
      "INFO  [08:48:31.000] [mlr3] Applying learner 'classif.featureless' on task 'german_credit' (iter 1/1)\n",
      "INFO  [08:48:31.018] [mlr3] Applying learner 'classif.featureless' on task 'german_credit' (iter 1/1)\n",
      "INFO  [08:48:31.055] [mlr3] Applying learner 'classif.featureless' on task 'german_credit' (iter 1/1)\n",
      "INFO  [08:48:31.079] [mlr3] Applying learner 'classif.featureless' on task 'german_credit' (iter 1/1)\n",
      "INFO  [08:48:31.103] [mlr3] Applying learner 'classif.featureless' on task 'german_credit' (iter 1/1)\n",
      "INFO  [08:48:31.123] [mlr3] Applying learner 'classif.featureless' on task 'german_credit' (iter 1/1)\n",
      "INFO  [08:48:31.144] [mlr3] Applying learner 'classif.featureless' on task 'german_credit' (iter 1/1)\n",
      "INFO  [08:48:31.467] [mlr3] Applying learner 'classif.featureless' on task 'german_credit' (iter 1/1)\n",
      "INFO  [08:48:31.487] [mlr3] Applying learner 'classif.featureless' on task 'german_credit' (iter 1/1)\n",
      "INFO  [08:48:31.506] [mlr3] Applying learner 'classif.featureless' on task 'german_credit' (iter 1/1)\n",
      "INFO  [08:48:31.529] [mlr3] Applying learner 'classif.featureless' on task 'german_credit' (iter 1/1)\n",
      "INFO  [08:48:31.550] [mlr3] Applying learner 'classif.featureless' on task 'german_credit' (iter 1/1)\n",
      "INFO  [08:48:31.572] [mlr3] Applying learner 'classif.featureless' on task 'german_credit' (iter 1/1)\n",
      "INFO  [08:48:31.590] [mlr3] Applying learner 'classif.featureless' on task 'german_credit' (iter 1/1)\n",
      "INFO  [08:48:31.608] [mlr3] Applying learner 'classif.featureless' on task 'german_credit' (iter 1/1)\n",
      "INFO  [08:48:31.626] [mlr3] Applying learner 'classif.featureless' on task 'german_credit' (iter 1/1)\n",
      "INFO  [08:48:31.645] [mlr3] Applying learner 'classif.featureless' on task 'german_credit' (iter 1/1)\n",
      "INFO  [08:48:31.664] [mlr3] Applying learner 'classif.featureless' on task 'german_credit' (iter 1/1)\n",
      "INFO  [08:48:31.684] [mlr3] Applying learner 'classif.featureless' on task 'german_credit' (iter 1/1)\n",
      "INFO  [08:48:31.710] [mlr3] Applying learner 'classif.featureless' on task 'german_credit' (iter 1/1)\n",
      "INFO  [08:48:31.732] [mlr3] Applying learner 'classif.featureless' on task 'german_credit' (iter 1/1)\n",
      "INFO  [08:48:31.752] [mlr3] Applying learner 'classif.featureless' on task 'german_credit' (iter 1/1)\n",
      "INFO  [08:48:31.773] [mlr3] Applying learner 'classif.featureless' on task 'german_credit' (iter 1/1)\n",
      "INFO  [08:48:31.793] [mlr3] Applying learner 'classif.featureless' on task 'german_credit' (iter 1/1)\n",
      "INFO  [08:48:31.813] [mlr3] Applying learner 'classif.featureless' on task 'german_credit' (iter 1/1)\n",
      "INFO  [08:48:31.834] [mlr3] Applying learner 'classif.featureless' on task 'german_credit' (iter 1/1)\n",
      "INFO  [08:48:31.855] [mlr3] Applying learner 'classif.featureless' on task 'german_credit' (iter 1/1)\n",
      "INFO  [08:48:31.877] [mlr3] Applying learner 'classif.featureless' on task 'german_credit' (iter 1/1)\n",
      "INFO  [08:48:31.898] [mlr3] Applying learner 'classif.featureless' on task 'german_credit' (iter 1/1)\n",
      "INFO  [08:48:31.918] [mlr3] Applying learner 'classif.featureless' on task 'german_credit' (iter 1/1)\n",
      "INFO  [08:48:31.946] [mlr3] Applying learner 'classif.featureless' on task 'german_credit' (iter 1/1)\n",
      "INFO  [08:48:31.965] [mlr3] Applying learner 'classif.featureless' on task 'german_credit' (iter 1/1)\n",
      "INFO  [08:48:31.985] [mlr3] Applying learner 'classif.featureless' on task 'german_credit' (iter 1/1)\n",
      "INFO  [08:48:32.005] [mlr3] Applying learner 'classif.featureless' on task 'german_credit' (iter 1/1)\n",
      "INFO  [08:48:32.026] [mlr3] Applying learner 'classif.featureless' on task 'german_credit' (iter 1/1)\n",
      "INFO  [08:48:32.046] [mlr3] Applying learner 'classif.featureless' on task 'german_credit' (iter 1/1)\n",
      "INFO  [08:48:32.068] [mlr3] Applying learner 'classif.featureless' on task 'german_credit' (iter 1/1)\n",
      "INFO  [08:48:32.088] [mlr3] Applying learner 'classif.featureless' on task 'german_credit' (iter 1/1)\n",
      "INFO  [08:48:32.109] [mlr3] Applying learner 'classif.featureless' on task 'german_credit' (iter 1/1)\n",
      "INFO  [08:48:32.127] [mlr3] Applying learner 'classif.featureless' on task 'german_credit' (iter 1/1)\n",
      "INFO  [08:48:32.145] [mlr3] Applying learner 'classif.featureless' on task 'german_credit' (iter 1/1)\n",
      "INFO  [08:48:32.171] [mlr3] Applying learner 'classif.featureless' on task 'german_credit' (iter 1/1)\n",
      "INFO  [08:48:32.190] [mlr3] Applying learner 'classif.featureless' on task 'german_credit' (iter 1/1)\n",
      "INFO  [08:48:32.209] [mlr3] Applying learner 'classif.featureless' on task 'german_credit' (iter 1/1)\n",
      "INFO  [08:48:32.226] [mlr3] Applying learner 'classif.featureless' on task 'german_credit' (iter 1/1)\n",
      "INFO  [08:48:32.244] [mlr3] Applying learner 'classif.featureless' on task 'german_credit' (iter 1/1)\n",
      "INFO  [08:48:32.265] [mlr3] Applying learner 'classif.featureless' on task 'german_credit' (iter 1/1)\n",
      "INFO  [08:48:32.285] [mlr3] Applying learner 'classif.featureless' on task 'german_credit' (iter 1/1)\n",
      "INFO  [08:48:32.304] [mlr3] Applying learner 'classif.featureless' on task 'german_credit' (iter 1/1)\n",
      "INFO  [08:48:32.323] [mlr3] Applying learner 'classif.featureless' on task 'german_credit' (iter 1/1)\n",
      "INFO  [08:48:32.344] [mlr3] Applying learner 'classif.featureless' on task 'german_credit' (iter 1/1)\n",
      "INFO  [08:48:32.367] [mlr3] Applying learner 'classif.featureless' on task 'german_credit' (iter 1/1)\n",
      "INFO  [08:48:32.387] [mlr3] Applying learner 'classif.featureless' on task 'german_credit' (iter 1/1)\n",
      "INFO  [08:48:32.406] [mlr3] Applying learner 'classif.featureless' on task 'german_credit' (iter 1/1)\n",
      "INFO  [08:48:32.427] [mlr3] Applying learner 'classif.featureless' on task 'german_credit' (iter 1/1)\n",
      "INFO  [08:48:32.445] [mlr3] Applying learner 'classif.featureless' on task 'german_credit' (iter 1/1)\n",
      "INFO  [08:48:32.464] [mlr3] Applying learner 'classif.featureless' on task 'german_credit' (iter 1/1)\n",
      "INFO  [08:48:32.484] [mlr3] Applying learner 'classif.featureless' on task 'german_credit' (iter 1/1)\n",
      "INFO  [08:48:32.504] [mlr3] Applying learner 'classif.featureless' on task 'german_credit' (iter 1/1)\n",
      "INFO  [08:48:32.525] [mlr3] Applying learner 'classif.featureless' on task 'german_credit' (iter 1/1)\n",
      "INFO  [08:48:32.543] [mlr3] Applying learner 'classif.featureless' on task 'german_credit' (iter 1/1)\n",
      "INFO  [08:48:32.563] [mlr3] Applying learner 'classif.featureless' on task 'german_credit' (iter 1/1)\n",
      "INFO  [08:48:32.588] [mlr3] Applying learner 'classif.featureless' on task 'german_credit' (iter 1/1)\n",
      "INFO  [08:48:32.609] [mlr3] Applying learner 'classif.featureless' on task 'german_credit' (iter 1/1)\n",
      "INFO  [08:48:32.629] [mlr3] Applying learner 'classif.featureless' on task 'german_credit' (iter 1/1)\n",
      "INFO  [08:48:32.649] [mlr3] Applying learner 'classif.featureless' on task 'german_credit' (iter 1/1)\n",
      "INFO  [08:48:32.669] [mlr3] Applying learner 'classif.featureless' on task 'german_credit' (iter 1/1)\n",
      "INFO  [08:48:32.688] [mlr3] Applying learner 'classif.featureless' on task 'german_credit' (iter 1/1)\n",
      "INFO  [08:48:32.709] [mlr3] Applying learner 'classif.featureless' on task 'german_credit' (iter 1/1)\n",
      "INFO  [08:48:32.730] [mlr3] Applying learner 'classif.featureless' on task 'german_credit' (iter 1/1)\n",
      "INFO  [08:48:32.752] [mlr3] Applying learner 'classif.featureless' on task 'german_credit' (iter 1/1)\n",
      "INFO  [08:48:32.773] [mlr3] Applying learner 'classif.featureless' on task 'german_credit' (iter 1/1)\n",
      "INFO  [08:48:32.792] [mlr3] Applying learner 'classif.featureless' on task 'german_credit' (iter 1/1)\n",
      "INFO  [08:48:32.822] [mlr3] Applying learner 'classif.featureless' on task 'german_credit' (iter 1/1)\n",
      "INFO  [08:48:32.841] [mlr3] Applying learner 'classif.featureless' on task 'german_credit' (iter 1/1)\n",
      "INFO  [08:48:32.859] [mlr3] Applying learner 'classif.featureless' on task 'german_credit' (iter 1/1)\n",
      "INFO  [08:48:32.876] [mlr3] Applying learner 'classif.featureless' on task 'german_credit' (iter 1/1)\n",
      "INFO  [08:48:32.917] [mlr3] Applying learner 'classif.featureless' on task 'german_credit' (iter 1/1)\n",
      "INFO  [08:48:32.957] [mlr3] Applying learner 'classif.featureless' on task 'german_credit' (iter 1/1)\n",
      "INFO  [08:48:32.979] [mlr3] Applying learner 'classif.featureless' on task 'german_credit' (iter 1/1)\n",
      "INFO  [08:48:33.002] [mlr3] Applying learner 'classif.featureless' on task 'german_credit' (iter 1/1)\n",
      "INFO  [08:48:33.022] [mlr3] Applying learner 'classif.featureless' on task 'german_credit' (iter 1/1)\n",
      "INFO  [08:48:33.046] [mlr3] Applying learner 'classif.featureless' on task 'german_credit' (iter 1/1)\n",
      "INFO  [08:48:33.088] [mlr3] Applying learner 'classif.featureless' on task 'german_credit' (iter 1/1)\n",
      "INFO  [08:48:33.110] [mlr3] Applying learner 'classif.featureless' on task 'german_credit' (iter 1/1)\n",
      "INFO  [08:48:33.131] [mlr3] Applying learner 'classif.featureless' on task 'german_credit' (iter 1/1)\n",
      "INFO  [08:48:33.151] [mlr3] Applying learner 'classif.featureless' on task 'german_credit' (iter 1/1)\n",
      "INFO  [08:48:33.169] [mlr3] Applying learner 'classif.featureless' on task 'german_credit' (iter 1/1)\n",
      "INFO  [08:48:33.189] [mlr3] Applying learner 'classif.featureless' on task 'german_credit' (iter 1/1)\n",
      "INFO  [08:48:33.210] [mlr3] Applying learner 'classif.featureless' on task 'german_credit' (iter 1/1)\n",
      "INFO  [08:48:33.232] [mlr3] Applying learner 'classif.featureless' on task 'german_credit' (iter 1/1)\n",
      "INFO  [08:48:33.286] [mlr3] Applying learner 'classif.featureless' on task 'german_credit' (iter 1/1)\n",
      "INFO  [08:48:33.317] [mlr3] Applying learner 'classif.featureless' on task 'german_credit' (iter 1/1)\n",
      "INFO  [08:48:33.344] [mlr3] Applying learner 'classif.featureless' on task 'german_credit' (iter 1/1)\n",
      "INFO  [08:48:33.371] [mlr3] Applying learner 'classif.featureless' on task 'german_credit' (iter 1/1)\n",
      "INFO  [08:48:33.395] [mlr3] Applying learner 'classif.featureless' on task 'german_credit' (iter 1/1)\n",
      "INFO  [08:48:33.419] [mlr3] Applying learner 'classif.featureless' on task 'german_credit' (iter 1/1)\n",
      "INFO  [08:48:33.447] [mlr3] Applying learner 'classif.featureless' on task 'german_credit' (iter 1/1)\n",
      "INFO  [08:48:33.471] [mlr3] Applying learner 'classif.featureless' on task 'german_credit' (iter 1/1)\n",
      "INFO  [08:48:33.495] [mlr3] Applying learner 'classif.featureless' on task 'german_credit' (iter 1/1)\n",
      "INFO  [08:48:33.521] [mlr3] Applying learner 'classif.featureless' on task 'german_credit' (iter 1/1)\n",
      "INFO  [08:48:33.544] [mlr3] Applying learner 'classif.featureless' on task 'german_credit' (iter 1/1)\n",
      "INFO  [08:48:33.566] [mlr3] Applying learner 'classif.featureless' on task 'german_credit' (iter 1/1)\n",
      "INFO  [08:48:33.588] [mlr3] Applying learner 'classif.featureless' on task 'german_credit' (iter 1/1)\n",
      "INFO  [08:48:33.614] [mlr3] Applying learner 'classif.featureless' on task 'german_credit' (iter 1/1)\n",
      "INFO  [08:48:33.635] [mlr3] Applying learner 'classif.featureless' on task 'german_credit' (iter 1/1)\n",
      "INFO  [08:48:33.656] [mlr3] Applying learner 'classif.featureless' on task 'german_credit' (iter 1/1)\n",
      "INFO  [08:48:33.676] [mlr3] Applying learner 'classif.featureless' on task 'german_credit' (iter 1/1)\n",
      "INFO  [08:48:33.697] [mlr3] Applying learner 'classif.featureless' on task 'german_credit' (iter 1/1)\n",
      "INFO  [08:48:33.718] [mlr3] Applying learner 'classif.featureless' on task 'german_credit' (iter 1/1)\n",
      "INFO  [08:48:33.739] [mlr3] Applying learner 'classif.featureless' on task 'german_credit' (iter 1/1)\n",
      "INFO  [08:48:33.761] [mlr3] Applying learner 'classif.featureless' on task 'german_credit' (iter 1/1)\n",
      "INFO  [08:48:33.784] [mlr3] Applying learner 'classif.featureless' on task 'german_credit' (iter 1/1)\n",
      "INFO  [08:48:33.807] [mlr3] Applying learner 'classif.featureless' on task 'german_credit' (iter 1/1)\n",
      "INFO  [08:48:33.835] [mlr3] Applying learner 'classif.featureless' on task 'german_credit' (iter 1/1)\n",
      "INFO  [08:48:33.857] [mlr3] Applying learner 'classif.featureless' on task 'german_credit' (iter 1/1)\n",
      "INFO  [08:48:33.880] [mlr3] Applying learner 'classif.featureless' on task 'german_credit' (iter 1/1)\n",
      "INFO  [08:48:33.900] [mlr3] Applying learner 'classif.featureless' on task 'german_credit' (iter 1/1)\n",
      "INFO  [08:48:33.923] [mlr3] Applying learner 'classif.featureless' on task 'german_credit' (iter 1/1)\n",
      "INFO  [08:48:33.946] [mlr3] Applying learner 'classif.featureless' on task 'german_credit' (iter 1/1)\n",
      "INFO  [08:48:33.970] [mlr3] Applying learner 'classif.featureless' on task 'german_credit' (iter 1/1)\n",
      "INFO  [08:48:33.991] [mlr3] Applying learner 'classif.featureless' on task 'german_credit' (iter 1/1)\n",
      "INFO  [08:48:34.014] [mlr3] Applying learner 'classif.featureless' on task 'german_credit' (iter 1/1)\n",
      "INFO  [08:48:34.036] [mlr3] Applying learner 'classif.featureless' on task 'german_credit' (iter 1/1)\n",
      "INFO  [08:48:34.063] [mlr3] Applying learner 'classif.featureless' on task 'german_credit' (iter 1/1)\n",
      "INFO  [08:48:34.084] [mlr3] Applying learner 'classif.featureless' on task 'german_credit' (iter 1/1)\n",
      "INFO  [08:48:34.105] [mlr3] Applying learner 'classif.featureless' on task 'german_credit' (iter 1/1)\n",
      "INFO  [08:48:34.127] [mlr3] Applying learner 'classif.featureless' on task 'german_credit' (iter 1/1)\n",
      "INFO  [08:48:34.147] [mlr3] Applying learner 'classif.featureless' on task 'german_credit' (iter 1/1)\n",
      "INFO  [08:48:34.168] [mlr3] Applying learner 'classif.featureless' on task 'german_credit' (iter 1/1)\n",
      "INFO  [08:48:34.190] [mlr3] Applying learner 'classif.featureless' on task 'german_credit' (iter 1/1)\n",
      "INFO  [08:48:34.211] [mlr3] Applying learner 'classif.featureless' on task 'german_credit' (iter 1/1)\n",
      "INFO  [08:48:34.232] [mlr3] Applying learner 'classif.featureless' on task 'german_credit' (iter 1/1)\n",
      "INFO  [08:48:34.253] [mlr3] Applying learner 'classif.featureless' on task 'german_credit' (iter 1/1)\n",
      "INFO  [08:48:34.280] [mlr3] Applying learner 'classif.featureless' on task 'german_credit' (iter 1/1)\n",
      "INFO  [08:48:34.300] [mlr3] Applying learner 'classif.featureless' on task 'german_credit' (iter 1/1)\n",
      "INFO  [08:48:34.320] [mlr3] Applying learner 'classif.featureless' on task 'german_credit' (iter 1/1)\n",
      "INFO  [08:48:34.342] [mlr3] Applying learner 'classif.featureless' on task 'german_credit' (iter 1/1)\n",
      "INFO  [08:48:34.363] [mlr3] Applying learner 'classif.featureless' on task 'german_credit' (iter 1/1)\n",
      "INFO  [08:48:34.382] [mlr3] Applying learner 'classif.featureless' on task 'german_credit' (iter 1/1)\n",
      "INFO  [08:48:34.400] [mlr3] Applying learner 'classif.featureless' on task 'german_credit' (iter 1/1)\n",
      "INFO  [08:48:34.419] [mlr3] Applying learner 'classif.featureless' on task 'german_credit' (iter 1/1)\n",
      "INFO  [08:48:34.436] [mlr3] Applying learner 'classif.featureless' on task 'german_credit' (iter 1/1)\n",
      "INFO  [08:48:34.454] [mlr3] Applying learner 'classif.featureless' on task 'german_credit' (iter 1/1)\n",
      "INFO  [08:48:34.479] [mlr3] Applying learner 'classif.featureless' on task 'german_credit' (iter 1/1)\n",
      "INFO  [08:48:34.498] [mlr3] Applying learner 'classif.featureless' on task 'german_credit' (iter 1/1)\n",
      "INFO  [08:48:34.515] [mlr3] Applying learner 'classif.featureless' on task 'german_credit' (iter 1/1)\n",
      "INFO  [08:48:34.533] [mlr3] Applying learner 'classif.featureless' on task 'german_credit' (iter 1/1)\n",
      "INFO  [08:48:34.551] [mlr3] Applying learner 'classif.featureless' on task 'german_credit' (iter 1/1)\n",
      "INFO  [08:48:34.571] [mlr3] Applying learner 'classif.featureless' on task 'german_credit' (iter 1/1)\n",
      "INFO  [08:48:34.589] [mlr3] Applying learner 'classif.featureless' on task 'german_credit' (iter 1/1)\n",
      "INFO  [08:48:34.606] [mlr3] Applying learner 'classif.featureless' on task 'german_credit' (iter 1/1)\n",
      "INFO  [08:48:34.624] [mlr3] Applying learner 'classif.featureless' on task 'german_credit' (iter 1/1)\n",
      "INFO  [08:48:34.642] [mlr3] Applying learner 'classif.featureless' on task 'german_credit' (iter 1/1)\n",
      "INFO  [08:48:34.665] [mlr3] Applying learner 'classif.featureless' on task 'german_credit' (iter 1/1)\n",
      "INFO  [08:48:34.686] [mlr3] Applying learner 'classif.featureless' on task 'german_credit' (iter 1/1)\n",
      "INFO  [08:48:34.704] [mlr3] Applying learner 'classif.featureless' on task 'german_credit' (iter 1/1)\n",
      "INFO  [08:48:34.721] [mlr3] Applying learner 'classif.featureless' on task 'german_credit' (iter 1/1)\n",
      "INFO  [08:48:34.739] [mlr3] Applying learner 'classif.featureless' on task 'german_credit' (iter 1/1)\n",
      "INFO  [08:48:34.757] [mlr3] Applying learner 'classif.featureless' on task 'german_credit' (iter 1/1)\n",
      "INFO  [08:48:34.777] [mlr3] Applying learner 'classif.featureless' on task 'german_credit' (iter 1/1)\n",
      "INFO  [08:48:34.798] [mlr3] Applying learner 'classif.featureless' on task 'german_credit' (iter 1/1)\n",
      "INFO  [08:48:34.816] [mlr3] Applying learner 'classif.featureless' on task 'german_credit' (iter 1/1)\n",
      "INFO  [08:48:34.844] [mlr3] Applying learner 'classif.featureless' on task 'german_credit' (iter 1/1)\n",
      "INFO  [08:48:34.862] [mlr3] Applying learner 'classif.featureless' on task 'german_credit' (iter 1/1)\n",
      "INFO  [08:48:34.881] [mlr3] Applying learner 'classif.featureless' on task 'german_credit' (iter 1/1)\n",
      "INFO  [08:48:34.901] [mlr3] Applying learner 'classif.featureless' on task 'german_credit' (iter 1/1)\n",
      "INFO  [08:48:34.918] [mlr3] Applying learner 'classif.featureless' on task 'german_credit' (iter 1/1)\n",
      "INFO  [08:48:34.936] [mlr3] Applying learner 'classif.featureless' on task 'german_credit' (iter 1/1)\n",
      "INFO  [08:48:34.954] [mlr3] Applying learner 'classif.featureless' on task 'german_credit' (iter 1/1)\n",
      "INFO  [08:48:34.973] [mlr3] Applying learner 'classif.featureless' on task 'german_credit' (iter 1/1)\n",
      "INFO  [08:48:34.997] [mlr3] Applying learner 'classif.featureless' on task 'german_credit' (iter 1/1)\n",
      "INFO  [08:48:35.017] [mlr3] Applying learner 'classif.featureless' on task 'german_credit' (iter 1/1)\n",
      "INFO  [08:48:35.045] [mlr3] Applying learner 'classif.featureless' on task 'german_credit' (iter 1/1)\n",
      "INFO  [08:48:35.066] [mlr3] Applying learner 'classif.featureless' on task 'german_credit' (iter 1/1)\n",
      "INFO  [08:48:35.087] [mlr3] Applying learner 'classif.featureless' on task 'german_credit' (iter 1/1)\n",
      "INFO  [08:48:35.107] [mlr3] Applying learner 'classif.featureless' on task 'german_credit' (iter 1/1)\n",
      "INFO  [08:48:35.128] [mlr3] Applying learner 'classif.featureless' on task 'german_credit' (iter 1/1)\n",
      "INFO  [08:48:35.149] [mlr3] Applying learner 'classif.featureless' on task 'german_credit' (iter 1/1)\n",
      "INFO  [08:48:35.171] [mlr3] Applying learner 'classif.featureless' on task 'german_credit' (iter 1/1)\n",
      "INFO  [08:48:35.195] [mlr3] Applying learner 'classif.featureless' on task 'german_credit' (iter 1/1)\n",
      "INFO  [08:48:35.216] [mlr3] Applying learner 'classif.featureless' on task 'german_credit' (iter 1/1)\n",
      "INFO  [08:48:35.243] [mlr3] Applying learner 'classif.featureless' on task 'german_credit' (iter 1/1)\n",
      "INFO  [08:48:35.265] [mlr3] Applying learner 'classif.featureless' on task 'german_credit' (iter 1/1)\n",
      "INFO  [08:48:35.286] [mlr3] Applying learner 'classif.featureless' on task 'german_credit' (iter 1/1)\n",
      "INFO  [08:48:35.306] [mlr3] Applying learner 'classif.featureless' on task 'german_credit' (iter 1/1)\n",
      "INFO  [08:48:35.327] [mlr3] Applying learner 'classif.featureless' on task 'german_credit' (iter 1/1)\n",
      "INFO  [08:48:35.348] [mlr3] Applying learner 'classif.featureless' on task 'german_credit' (iter 1/1)\n",
      "INFO  [08:48:35.369] [mlr3] Applying learner 'classif.featureless' on task 'german_credit' (iter 1/1)\n",
      "INFO  [08:48:35.392] [mlr3] Applying learner 'classif.featureless' on task 'german_credit' (iter 1/1)\n",
      "INFO  [08:48:35.413] [mlr3] Applying learner 'classif.featureless' on task 'german_credit' (iter 1/1)\n",
      "INFO  [08:48:35.434] [mlr3] Applying learner 'classif.featureless' on task 'german_credit' (iter 1/1)\n",
      "INFO  [08:48:35.461] [mlr3] Applying learner 'classif.featureless' on task 'german_credit' (iter 1/1)\n",
      "INFO  [08:48:35.482] [mlr3] Applying learner 'classif.featureless' on task 'german_credit' (iter 1/1)\n",
      "INFO  [08:48:35.504] [mlr3] Applying learner 'classif.featureless' on task 'german_credit' (iter 1/1)\n",
      "INFO  [08:48:35.524] [mlr3] Applying learner 'classif.featureless' on task 'german_credit' (iter 1/1)\n",
      "INFO  [08:48:35.544] [mlr3] Applying learner 'classif.featureless' on task 'german_credit' (iter 1/1)\n",
      "INFO  [08:48:35.565] [mlr3] Applying learner 'classif.featureless' on task 'german_credit' (iter 1/1)\n",
      "INFO  [08:48:35.587] [mlr3] Applying learner 'classif.featureless' on task 'german_credit' (iter 1/1)\n",
      "INFO  [08:48:35.609] [mlr3] Applying learner 'classif.featureless' on task 'german_credit' (iter 1/1)\n",
      "INFO  [08:48:35.630] [mlr3] Applying learner 'classif.featureless' on task 'german_credit' (iter 1/1)\n",
      "INFO  [08:48:35.657] [mlr3] Applying learner 'classif.featureless' on task 'german_credit' (iter 1/1)\n",
      "INFO  [08:48:35.678] [mlr3] Applying learner 'classif.featureless' on task 'german_credit' (iter 1/1)\n",
      "INFO  [08:48:35.699] [mlr3] Applying learner 'classif.featureless' on task 'german_credit' (iter 1/1)\n",
      "INFO  [08:48:35.721] [mlr3] Applying learner 'classif.featureless' on task 'german_credit' (iter 1/1)\n",
      "INFO  [08:48:35.742] [mlr3] Applying learner 'classif.featureless' on task 'german_credit' (iter 1/1)\n",
      "INFO  [08:48:35.762] [mlr3] Applying learner 'classif.featureless' on task 'german_credit' (iter 1/1)\n",
      "INFO  [08:48:35.784] [mlr3] Applying learner 'classif.featureless' on task 'german_credit' (iter 1/1)\n",
      "INFO  [08:48:35.805] [mlr3] Applying learner 'classif.featureless' on task 'german_credit' (iter 1/1)\n",
      "INFO  [08:48:35.826] [mlr3] Applying learner 'classif.featureless' on task 'german_credit' (iter 1/1)\n",
      "INFO  [08:48:35.853] [mlr3] Applying learner 'classif.featureless' on task 'german_credit' (iter 1/1)\n",
      "INFO  [08:48:35.874] [mlr3] Applying learner 'classif.featureless' on task 'german_credit' (iter 1/1)\n",
      "INFO  [08:48:35.893] [mlr3] Applying learner 'classif.featureless' on task 'german_credit' (iter 1/1)\n",
      "INFO  [08:48:35.912] [mlr3] Applying learner 'classif.featureless' on task 'german_credit' (iter 1/1)\n",
      "INFO  [08:48:35.932] [mlr3] Applying learner 'classif.featureless' on task 'german_credit' (iter 1/1)\n",
      "INFO  [08:48:35.953] [mlr3] Applying learner 'classif.featureless' on task 'german_credit' (iter 1/1)\n",
      "INFO  [08:48:35.975] [mlr3] Applying learner 'classif.featureless' on task 'german_credit' (iter 1/1)\n",
      "INFO  [08:48:35.996] [mlr3] Applying learner 'classif.featureless' on task 'german_credit' (iter 1/1)\n",
      "INFO  [08:48:36.015] [mlr3] Applying learner 'classif.featureless' on task 'german_credit' (iter 1/1)\n",
      "INFO  [08:48:36.098] [mlr3] Applying learner 'classif.featureless' on task 'german_credit' (iter 1/1)\n",
      "INFO  [08:48:36.123] [mlr3] Applying learner 'classif.featureless' on task 'german_credit' (iter 1/1)\n",
      "INFO  [08:48:36.141] [mlr3] Applying learner 'classif.featureless' on task 'german_credit' (iter 1/1)\n",
      "INFO  [08:48:36.159] [mlr3] Applying learner 'classif.featureless' on task 'german_credit' (iter 1/1)\n",
      "INFO  [08:48:36.177] [mlr3] Applying learner 'classif.featureless' on task 'german_credit' (iter 1/1)\n",
      "INFO  [08:48:36.196] [mlr3] Applying learner 'classif.featureless' on task 'german_credit' (iter 1/1)\n",
      "INFO  [08:48:36.217] [mlr3] Applying learner 'classif.featureless' on task 'german_credit' (iter 1/1)\n",
      "INFO  [08:48:36.235] [mlr3] Applying learner 'classif.featureless' on task 'german_credit' (iter 1/1)\n",
      "INFO  [08:48:36.255] [mlr3] Applying learner 'classif.featureless' on task 'german_credit' (iter 1/1)\n",
      "INFO  [08:48:36.273] [mlr3] Applying learner 'classif.featureless' on task 'german_credit' (iter 1/1)\n",
      "INFO  [08:48:36.304] [mlr3] Applying learner 'classif.featureless' on task 'german_credit' (iter 1/1)\n",
      "INFO  [08:48:36.327] [mlr3] Applying learner 'classif.featureless' on task 'german_credit' (iter 1/1)\n",
      "INFO  [08:48:36.351] [mlr3] Applying learner 'classif.featureless' on task 'german_credit' (iter 1/1)\n",
      "INFO  [08:48:36.376] [mlr3] Applying learner 'classif.featureless' on task 'german_credit' (iter 1/1)\n",
      "INFO  [08:48:36.395] [mlr3] Applying learner 'classif.featureless' on task 'german_credit' (iter 1/1)\n",
      "INFO  [08:48:36.413] [mlr3] Applying learner 'classif.featureless' on task 'german_credit' (iter 1/1)\n",
      "INFO  [08:48:36.432] [mlr3] Applying learner 'classif.featureless' on task 'german_credit' (iter 1/1)\n",
      "INFO  [08:48:36.451] [mlr3] Applying learner 'classif.featureless' on task 'german_credit' (iter 1/1)\n",
      "INFO  [08:48:36.469] [mlr3] Applying learner 'classif.featureless' on task 'german_credit' (iter 1/1)\n",
      "INFO  [08:48:36.487] [mlr3] Applying learner 'classif.featureless' on task 'german_credit' (iter 1/1)\n",
      "INFO  [08:48:36.506] [mlr3] Applying learner 'classif.featureless' on task 'german_credit' (iter 1/1)\n",
      "INFO  [08:48:36.525] [mlr3] Applying learner 'classif.featureless' on task 'german_credit' (iter 1/1)\n",
      "INFO  [08:48:36.555] [mlr3] Applying learner 'classif.featureless' on task 'german_credit' (iter 1/1)\n",
      "INFO  [08:48:36.574] [mlr3] Applying learner 'classif.featureless' on task 'german_credit' (iter 1/1)\n",
      "INFO  [08:48:36.595] [mlr3] Applying learner 'classif.featureless' on task 'german_credit' (iter 1/1)\n",
      "INFO  [08:48:36.613] [mlr3] Applying learner 'classif.featureless' on task 'german_credit' (iter 1/1)\n",
      "INFO  [08:48:36.634] [mlr3] Applying learner 'classif.featureless' on task 'german_credit' (iter 1/1)\n",
      "INFO  [08:48:36.652] [mlr3] Applying learner 'classif.featureless' on task 'german_credit' (iter 1/1)\n",
      "INFO  [08:48:36.673] [mlr3] Applying learner 'classif.featureless' on task 'german_credit' (iter 1/1)\n",
      "INFO  [08:48:36.695] [mlr3] Applying learner 'classif.featureless' on task 'german_credit' (iter 1/1)\n",
      "INFO  [08:48:36.716] [mlr3] Applying learner 'classif.featureless' on task 'german_credit' (iter 1/1)\n",
      "INFO  [08:48:36.737] [mlr3] Applying learner 'classif.featureless' on task 'german_credit' (iter 1/1)\n",
      "INFO  [08:48:36.770] [mlr3] Applying learner 'classif.featureless' on task 'german_credit' (iter 1/1)\n",
      "INFO  [08:48:36.792] [mlr3] Applying learner 'classif.featureless' on task 'german_credit' (iter 1/1)\n",
      "INFO  [08:48:36.813] [mlr3] Applying learner 'classif.featureless' on task 'german_credit' (iter 1/1)\n",
      "INFO  [08:48:36.834] [mlr3] Applying learner 'classif.featureless' on task 'german_credit' (iter 1/1)\n",
      "INFO  [08:48:36.853] [mlr3] Applying learner 'classif.featureless' on task 'german_credit' (iter 1/1)\n",
      "INFO  [08:48:36.872] [mlr3] Applying learner 'classif.featureless' on task 'german_credit' (iter 1/1)\n",
      "INFO  [08:48:36.890] [mlr3] Applying learner 'classif.featureless' on task 'german_credit' (iter 1/1)\n",
      "INFO  [08:48:36.912] [mlr3] Applying learner 'classif.featureless' on task 'german_credit' (iter 1/1)\n",
      "INFO  [08:48:36.935] [mlr3] Applying learner 'classif.featureless' on task 'german_credit' (iter 1/1)\n",
      "INFO  [08:48:36.964] [mlr3] Applying learner 'classif.featureless' on task 'german_credit' (iter 1/1)\n",
      "INFO  [08:48:36.985] [mlr3] Applying learner 'classif.featureless' on task 'german_credit' (iter 1/1)\n",
      "INFO  [08:48:37.020] [mlr3] Applying learner 'classif.featureless' on task 'german_credit' (iter 1/1)\n",
      "INFO  [08:48:37.040] [mlr3] Applying learner 'classif.featureless' on task 'german_credit' (iter 1/1)\n",
      "INFO  [08:48:37.075] [mlr3] Applying learner 'classif.featureless' on task 'german_credit' (iter 1/1)\n",
      "INFO  [08:48:37.151] [mlr3] Applying learner 'classif.featureless' on task 'german_credit' (iter 1/1)\n",
      "INFO  [08:48:37.203] [mlr3] Applying learner 'classif.featureless' on task 'german_credit' (iter 1/1)\n",
      "INFO  [08:48:37.227] [mlr3] Applying learner 'classif.featureless' on task 'german_credit' (iter 1/1)\n",
      "INFO  [08:48:37.248] [mlr3] Applying learner 'classif.featureless' on task 'german_credit' (iter 1/1)\n",
      "INFO  [08:48:37.279] [mlr3] Applying learner 'classif.featureless' on task 'german_credit' (iter 1/1)\n",
      "INFO  [08:48:37.313] [mlr3] Applying learner 'classif.featureless' on task 'german_credit' (iter 1/1)\n",
      "INFO  [08:48:37.336] [mlr3] Applying learner 'classif.featureless' on task 'german_credit' (iter 1/1)\n",
      "INFO  [08:48:37.368] [mlr3] Applying learner 'classif.featureless' on task 'german_credit' (iter 1/1)\n",
      "INFO  [08:48:37.394] [mlr3] Applying learner 'classif.featureless' on task 'german_credit' (iter 1/1)\n",
      "INFO  [08:48:37.416] [mlr3] Applying learner 'classif.featureless' on task 'german_credit' (iter 1/1)\n",
      "INFO  [08:48:37.438] [mlr3] Applying learner 'classif.featureless' on task 'german_credit' (iter 1/1)\n",
      "INFO  [08:48:37.459] [mlr3] Applying learner 'classif.featureless' on task 'german_credit' (iter 1/1)\n",
      "INFO  [08:48:37.480] [mlr3] Applying learner 'classif.featureless' on task 'german_credit' (iter 1/1)\n",
      "INFO  [08:48:37.501] [mlr3] Applying learner 'classif.featureless' on task 'german_credit' (iter 1/1)\n",
      "INFO  [08:48:37.525] [mlr3] Applying learner 'classif.featureless' on task 'german_credit' (iter 1/1)\n",
      "INFO  [08:48:37.546] [mlr3] Applying learner 'classif.featureless' on task 'german_credit' (iter 1/1)\n",
      "INFO  [08:48:37.568] [mlr3] Applying learner 'classif.featureless' on task 'german_credit' (iter 1/1)\n",
      "INFO  [08:48:37.589] [mlr3] Applying learner 'classif.featureless' on task 'german_credit' (iter 1/1)\n",
      "INFO  [08:48:37.625] [mlr3] Applying learner 'classif.featureless' on task 'german_credit' (iter 1/1)\n",
      "INFO  [08:48:37.649] [mlr3] Applying learner 'classif.featureless' on task 'german_credit' (iter 1/1)\n",
      "INFO  [08:48:37.671] [mlr3] Applying learner 'classif.featureless' on task 'german_credit' (iter 1/1)\n",
      "INFO  [08:48:37.697] [mlr3] Applying learner 'classif.featureless' on task 'german_credit' (iter 1/1)\n",
      "INFO  [08:48:37.723] [mlr3] Applying learner 'classif.featureless' on task 'german_credit' (iter 1/1)\n",
      "INFO  [08:48:37.747] [mlr3] Applying learner 'classif.featureless' on task 'german_credit' (iter 1/1)\n",
      "INFO  [08:48:37.773] [mlr3] Applying learner 'classif.featureless' on task 'german_credit' (iter 1/1)\n",
      "INFO  [08:48:37.799] [mlr3] Applying learner 'classif.featureless' on task 'german_credit' (iter 1/1)\n",
      "INFO  [08:48:37.826] [mlr3] Applying learner 'classif.featureless' on task 'german_credit' (iter 1/1)\n",
      "INFO  [08:48:37.848] [mlr3] Applying learner 'classif.featureless' on task 'german_credit' (iter 1/1)\n",
      "INFO  [08:48:37.877] [mlr3] Applying learner 'classif.featureless' on task 'german_credit' (iter 1/1)\n",
      "INFO  [08:48:37.898] [mlr3] Applying learner 'classif.featureless' on task 'german_credit' (iter 1/1)\n",
      "INFO  [08:48:37.918] [mlr3] Applying learner 'classif.featureless' on task 'german_credit' (iter 1/1)\n",
      "INFO  [08:48:37.938] [mlr3] Applying learner 'classif.featureless' on task 'german_credit' (iter 1/1)\n",
      "INFO  [08:48:37.954] [mlr3] Applying learner 'classif.featureless' on task 'german_credit' (iter 1/1)\n",
      "INFO  [08:48:37.971] [mlr3] Applying learner 'classif.featureless' on task 'german_credit' (iter 1/1)\n",
      "INFO  [08:48:37.988] [mlr3] Applying learner 'classif.featureless' on task 'german_credit' (iter 1/1)\n",
      "INFO  [08:48:38.005] [mlr3] Applying learner 'classif.featureless' on task 'german_credit' (iter 1/1)\n",
      "INFO  [08:48:38.023] [mlr3] Applying learner 'classif.featureless' on task 'german_credit' (iter 1/1)\n",
      "INFO  [08:48:38.040] [mlr3] Applying learner 'classif.featureless' on task 'german_credit' (iter 1/1)\n",
      "INFO  [08:48:38.059] [mlr3] Applying learner 'classif.featureless' on task 'german_credit' (iter 1/1)\n",
      "INFO  [08:48:38.086] [mlr3] Applying learner 'classif.featureless' on task 'german_credit' (iter 1/1)\n",
      "INFO  [08:48:38.106] [mlr3] Applying learner 'classif.featureless' on task 'german_credit' (iter 1/1)\n",
      "INFO  [08:48:38.125] [mlr3] Applying learner 'classif.featureless' on task 'german_credit' (iter 1/1)\n",
      "INFO  [08:48:38.144] [mlr3] Applying learner 'classif.featureless' on task 'german_credit' (iter 1/1)\n",
      "INFO  [08:48:38.164] [mlr3] Applying learner 'classif.featureless' on task 'german_credit' (iter 1/1)\n",
      "INFO  [08:48:38.184] [mlr3] Applying learner 'classif.featureless' on task 'german_credit' (iter 1/1)\n",
      "INFO  [08:48:38.203] [mlr3] Applying learner 'classif.featureless' on task 'german_credit' (iter 1/1)\n",
      "INFO  [08:48:38.223] [mlr3] Applying learner 'classif.featureless' on task 'german_credit' (iter 1/1)\n",
      "INFO  [08:48:38.243] [mlr3] Applying learner 'classif.featureless' on task 'german_credit' (iter 1/1)\n",
      "INFO  [08:48:38.261] [mlr3] Applying learner 'classif.featureless' on task 'german_credit' (iter 1/1)\n",
      "INFO  [08:48:38.298] [mlr3] Applying learner 'classif.featureless' on task 'german_credit' (iter 1/1)\n",
      "INFO  [08:48:38.318] [mlr3] Applying learner 'classif.featureless' on task 'german_credit' (iter 1/1)\n",
      "INFO  [08:48:38.338] [mlr3] Applying learner 'classif.featureless' on task 'german_credit' (iter 1/1)\n",
      "INFO  [08:48:38.358] [mlr3] Applying learner 'classif.featureless' on task 'german_credit' (iter 1/1)\n",
      "INFO  [08:48:38.378] [mlr3] Applying learner 'classif.featureless' on task 'german_credit' (iter 1/1)\n",
      "INFO  [08:48:38.397] [mlr3] Applying learner 'classif.featureless' on task 'german_credit' (iter 1/1)\n",
      "INFO  [08:48:38.416] [mlr3] Applying learner 'classif.featureless' on task 'german_credit' (iter 1/1)\n",
      "INFO  [08:48:38.437] [mlr3] Applying learner 'classif.featureless' on task 'german_credit' (iter 1/1)\n",
      "INFO  [08:48:38.456] [mlr3] Applying learner 'classif.featureless' on task 'german_credit' (iter 1/1)\n",
      "INFO  [08:48:38.476] [mlr3] Applying learner 'classif.featureless' on task 'german_credit' (iter 1/1)\n",
      "INFO  [08:48:38.505] [mlr3] Applying learner 'classif.featureless' on task 'german_credit' (iter 1/1)\n",
      "INFO  [08:48:38.526] [mlr3] Applying learner 'classif.featureless' on task 'german_credit' (iter 1/1)\n",
      "INFO  [08:48:38.542] [mlr3] Applying learner 'classif.featureless' on task 'german_credit' (iter 1/1)\n",
      "INFO  [08:48:38.558] [mlr3] Applying learner 'classif.featureless' on task 'german_credit' (iter 1/1)\n",
      "INFO  [08:48:38.574] [mlr3] Applying learner 'classif.featureless' on task 'german_credit' (iter 1/1)\n",
      "INFO  [08:48:38.593] [mlr3] Applying learner 'classif.featureless' on task 'german_credit' (iter 1/1)\n",
      "INFO  [08:48:38.612] [mlr3] Applying learner 'classif.featureless' on task 'german_credit' (iter 1/1)\n",
      "INFO  [08:48:38.632] [mlr3] Applying learner 'classif.featureless' on task 'german_credit' (iter 1/1)\n",
      "INFO  [08:48:38.652] [mlr3] Applying learner 'classif.featureless' on task 'german_credit' (iter 1/1)\n",
      "INFO  [08:48:38.672] [mlr3] Applying learner 'classif.featureless' on task 'german_credit' (iter 1/1)\n",
      "INFO  [08:48:38.702] [mlr3] Applying learner 'classif.featureless' on task 'german_credit' (iter 1/1)\n",
      "INFO  [08:48:38.722] [mlr3] Applying learner 'classif.featureless' on task 'german_credit' (iter 1/1)\n",
      "INFO  [08:48:38.742] [mlr3] Applying learner 'classif.featureless' on task 'german_credit' (iter 1/1)\n",
      "INFO  [08:48:38.761] [mlr3] Applying learner 'classif.featureless' on task 'german_credit' (iter 1/1)\n",
      "INFO  [08:48:38.779] [mlr3] Applying learner 'classif.featureless' on task 'german_credit' (iter 1/1)\n",
      "INFO  [08:48:38.798] [mlr3] Applying learner 'classif.featureless' on task 'german_credit' (iter 1/1)\n",
      "INFO  [08:48:38.816] [mlr3] Applying learner 'classif.featureless' on task 'german_credit' (iter 1/1)\n",
      "INFO  [08:48:38.836] [mlr3] Applying learner 'classif.featureless' on task 'german_credit' (iter 1/1)\n",
      "INFO  [08:48:38.857] [mlr3] Applying learner 'classif.featureless' on task 'german_credit' (iter 1/1)\n",
      "INFO  [08:48:38.877] [mlr3] Applying learner 'classif.featureless' on task 'german_credit' (iter 1/1)\n",
      "INFO  [08:48:38.907] [mlr3] Applying learner 'classif.featureless' on task 'german_credit' (iter 1/1)\n",
      "INFO  [08:48:38.927] [mlr3] Applying learner 'classif.featureless' on task 'german_credit' (iter 1/1)\n",
      "INFO  [08:48:38.946] [mlr3] Applying learner 'classif.featureless' on task 'german_credit' (iter 1/1)\n",
      "INFO  [08:48:38.961] [mlr3] Applying learner 'classif.featureless' on task 'german_credit' (iter 1/1)\n",
      "INFO  [08:48:38.977] [mlr3] Applying learner 'classif.featureless' on task 'german_credit' (iter 1/1)\n",
      "INFO  [08:48:38.993] [mlr3] Applying learner 'classif.featureless' on task 'german_credit' (iter 1/1)\n",
      "INFO  [08:48:39.008] [mlr3] Applying learner 'classif.featureless' on task 'german_credit' (iter 1/1)\n",
      "INFO  [08:48:39.024] [mlr3] Applying learner 'classif.featureless' on task 'german_credit' (iter 1/1)\n",
      "INFO  [08:48:39.041] [mlr3] Applying learner 'classif.featureless' on task 'german_credit' (iter 1/1)\n",
      "INFO  [08:48:39.056] [mlr3] Applying learner 'classif.featureless' on task 'german_credit' (iter 1/1)\n",
      "INFO  [08:48:39.082] [mlr3] Applying learner 'classif.featureless' on task 'german_credit' (iter 1/1)\n",
      "INFO  [08:48:39.098] [mlr3] Applying learner 'classif.featureless' on task 'german_credit' (iter 1/1)\n",
      "INFO  [08:48:39.114] [mlr3] Applying learner 'classif.featureless' on task 'german_credit' (iter 1/1)\n",
      "INFO  [08:48:39.129] [mlr3] Applying learner 'classif.featureless' on task 'german_credit' (iter 1/1)\n",
      "INFO  [08:48:39.145] [mlr3] Applying learner 'classif.featureless' on task 'german_credit' (iter 1/1)\n",
      "INFO  [08:48:39.161] [mlr3] Applying learner 'classif.featureless' on task 'german_credit' (iter 1/1)\n",
      "INFO  [08:48:39.177] [mlr3] Applying learner 'classif.featureless' on task 'german_credit' (iter 1/1)\n",
      "INFO  [08:48:39.193] [mlr3] Applying learner 'classif.featureless' on task 'german_credit' (iter 1/1)\n",
      "INFO  [08:48:39.209] [mlr3] Applying learner 'classif.featureless' on task 'german_credit' (iter 1/1)\n",
      "INFO  [08:48:39.228] [mlr3] Applying learner 'classif.featureless' on task 'german_credit' (iter 1/1)\n",
      "INFO  [08:48:39.256] [mlr3] Applying learner 'classif.featureless' on task 'german_credit' (iter 1/1)\n",
      "INFO  [08:48:39.272] [mlr3] Applying learner 'classif.featureless' on task 'german_credit' (iter 1/1)\n",
      "INFO  [08:48:39.287] [mlr3] Applying learner 'classif.featureless' on task 'german_credit' (iter 1/1)\n",
      "INFO  [08:48:39.303] [mlr3] Applying learner 'classif.featureless' on task 'german_credit' (iter 1/1)\n",
      "INFO  [08:48:39.318] [mlr3] Applying learner 'classif.featureless' on task 'german_credit' (iter 1/1)\n",
      "INFO  [08:48:39.334] [mlr3] Applying learner 'classif.featureless' on task 'german_credit' (iter 1/1)\n",
      "INFO  [08:48:39.350] [mlr3] Applying learner 'classif.featureless' on task 'german_credit' (iter 1/1)\n",
      "INFO  [08:48:39.367] [mlr3] Applying learner 'classif.featureless' on task 'german_credit' (iter 1/1)\n",
      "INFO  [08:48:39.383] [mlr3] Applying learner 'classif.featureless' on task 'german_credit' (iter 1/1)\n",
      "INFO  [08:48:39.408] [mlr3] Applying learner 'classif.featureless' on task 'german_credit' (iter 1/1)\n",
      "INFO  [08:48:39.426] [mlr3] Applying learner 'classif.featureless' on task 'german_credit' (iter 1/1)\n",
      "INFO  [08:48:39.443] [mlr3] Applying learner 'classif.featureless' on task 'german_credit' (iter 1/1)\n",
      "INFO  [08:48:39.459] [mlr3] Applying learner 'classif.featureless' on task 'german_credit' (iter 1/1)\n",
      "INFO  [08:48:39.476] [mlr3] Applying learner 'classif.featureless' on task 'german_credit' (iter 1/1)\n",
      "INFO  [08:48:39.492] [mlr3] Applying learner 'classif.featureless' on task 'german_credit' (iter 1/1)\n",
      "INFO  [08:48:39.509] [mlr3] Applying learner 'classif.featureless' on task 'german_credit' (iter 1/1)\n",
      "INFO  [08:48:39.525] [mlr3] Applying learner 'classif.featureless' on task 'german_credit' (iter 1/1)\n",
      "INFO  [08:48:39.542] [mlr3] Applying learner 'classif.featureless' on task 'german_credit' (iter 1/1)\n",
      "INFO  [08:48:39.558] [mlr3] Applying learner 'classif.featureless' on task 'german_credit' (iter 1/1)\n",
      "INFO  [08:48:39.585] [mlr3] Applying learner 'classif.featureless' on task 'german_credit' (iter 1/1)\n",
      "INFO  [08:48:39.601] [mlr3] Applying learner 'classif.featureless' on task 'german_credit' (iter 1/1)\n",
      "INFO  [08:48:39.617] [mlr3] Applying learner 'classif.featureless' on task 'german_credit' (iter 1/1)\n",
      "INFO  [08:48:39.633] [mlr3] Applying learner 'classif.featureless' on task 'german_credit' (iter 1/1)\n",
      "INFO  [08:48:39.650] [mlr3] Applying learner 'classif.featureless' on task 'german_credit' (iter 1/1)\n",
      "INFO  [08:48:39.666] [mlr3] Applying learner 'classif.featureless' on task 'german_credit' (iter 1/1)\n",
      "INFO  [08:48:39.682] [mlr3] Applying learner 'classif.featureless' on task 'german_credit' (iter 1/1)\n",
      "INFO  [08:48:39.698] [mlr3] Applying learner 'classif.featureless' on task 'german_credit' (iter 1/1)\n",
      "INFO  [08:48:39.714] [mlr3] Applying learner 'classif.featureless' on task 'german_credit' (iter 1/1)\n",
      "INFO  [08:48:39.739] [mlr3] Applying learner 'classif.featureless' on task 'german_credit' (iter 1/1)\n",
      "INFO  [08:48:39.758] [mlr3] Applying learner 'classif.featureless' on task 'german_credit' (iter 1/1)\n",
      "INFO  [08:48:39.775] [mlr3] Applying learner 'classif.featureless' on task 'german_credit' (iter 1/1)\n",
      "INFO  [08:48:39.792] [mlr3] Applying learner 'classif.featureless' on task 'german_credit' (iter 1/1)\n",
      "INFO  [08:48:39.808] [mlr3] Applying learner 'classif.featureless' on task 'german_credit' (iter 1/1)\n",
      "INFO  [08:48:39.825] [mlr3] Applying learner 'classif.featureless' on task 'german_credit' (iter 1/1)\n",
      "INFO  [08:48:39.842] [mlr3] Applying learner 'classif.featureless' on task 'german_credit' (iter 1/1)\n",
      "INFO  [08:48:39.858] [mlr3] Applying learner 'classif.featureless' on task 'german_credit' (iter 1/1)\n",
      "INFO  [08:48:39.875] [mlr3] Applying learner 'classif.featureless' on task 'german_credit' (iter 1/1)\n",
      "INFO  [08:48:39.891] [mlr3] Applying learner 'classif.featureless' on task 'german_credit' (iter 1/1)\n",
      "INFO  [08:48:39.917] [mlr3] Applying learner 'classif.featureless' on task 'german_credit' (iter 1/1)\n",
      "INFO  [08:48:39.933] [mlr3] Applying learner 'classif.featureless' on task 'german_credit' (iter 1/1)\n",
      "INFO  [08:48:39.949] [mlr3] Applying learner 'classif.featureless' on task 'german_credit' (iter 1/1)\n",
      "INFO  [08:48:39.965] [mlr3] Applying learner 'classif.featureless' on task 'german_credit' (iter 1/1)\n",
      "INFO  [08:48:39.980] [mlr3] Applying learner 'classif.featureless' on task 'german_credit' (iter 1/1)\n",
      "INFO  [08:48:39.996] [mlr3] Applying learner 'classif.featureless' on task 'german_credit' (iter 1/1)\n",
      "INFO  [08:48:40.012] [mlr3] Applying learner 'classif.featureless' on task 'german_credit' (iter 1/1)\n",
      "INFO  [08:48:40.028] [mlr3] Applying learner 'classif.featureless' on task 'german_credit' (iter 1/1)\n",
      "INFO  [08:48:40.044] [mlr3] Applying learner 'classif.featureless' on task 'german_credit' (iter 1/1)\n",
      "INFO  [08:48:40.070] [mlr3] Applying learner 'classif.featureless' on task 'german_credit' (iter 1/1)\n",
      "INFO  [08:48:40.086] [mlr3] Applying learner 'classif.featureless' on task 'german_credit' (iter 1/1)\n",
      "INFO  [08:48:40.101] [mlr3] Applying learner 'classif.featureless' on task 'german_credit' (iter 1/1)\n",
      "INFO  [08:48:40.117] [mlr3] Applying learner 'classif.featureless' on task 'german_credit' (iter 1/1)\n",
      "INFO  [08:48:40.132] [mlr3] Applying learner 'classif.featureless' on task 'german_credit' (iter 1/1)\n",
      "INFO  [08:48:40.147] [mlr3] Applying learner 'classif.featureless' on task 'german_credit' (iter 1/1)\n",
      "INFO  [08:48:40.163] [mlr3] Applying learner 'classif.featureless' on task 'german_credit' (iter 1/1)\n",
      "INFO  [08:48:40.179] [mlr3] Applying learner 'classif.featureless' on task 'german_credit' (iter 1/1)\n",
      "INFO  [08:48:40.195] [mlr3] Applying learner 'classif.featureless' on task 'german_credit' (iter 1/1)\n",
      "INFO  [08:48:40.219] [mlr3] Applying learner 'classif.featureless' on task 'german_credit' (iter 1/1)\n",
      "INFO  [08:48:40.236] [mlr3] Applying learner 'classif.featureless' on task 'german_credit' (iter 1/1)\n",
      "INFO  [08:48:40.252] [mlr3] Applying learner 'classif.featureless' on task 'german_credit' (iter 1/1)\n",
      "INFO  [08:48:40.267] [mlr3] Applying learner 'classif.featureless' on task 'german_credit' (iter 1/1)\n",
      "INFO  [08:48:40.283] [mlr3] Applying learner 'classif.featureless' on task 'german_credit' (iter 1/1)\n",
      "INFO  [08:48:40.298] [mlr3] Applying learner 'classif.featureless' on task 'german_credit' (iter 1/1)\n",
      "INFO  [08:48:40.314] [mlr3] Applying learner 'classif.featureless' on task 'german_credit' (iter 1/1)\n",
      "INFO  [08:48:40.330] [mlr3] Applying learner 'classif.featureless' on task 'german_credit' (iter 1/1)\n",
      "INFO  [08:48:40.346] [mlr3] Applying learner 'classif.featureless' on task 'german_credit' (iter 1/1)\n",
      "INFO  [08:48:40.406] [mlr3] Applying learner 'classif.featureless' on task 'german_credit' (iter 1/1)\n",
      "INFO  [08:48:40.424] [mlr3] Applying learner 'classif.featureless' on task 'german_credit' (iter 1/1)\n",
      "INFO  [08:48:40.440] [mlr3] Applying learner 'classif.featureless' on task 'german_credit' (iter 1/1)\n",
      "INFO  [08:48:40.455] [mlr3] Applying learner 'classif.featureless' on task 'german_credit' (iter 1/1)\n",
      "INFO  [08:48:40.471] [mlr3] Applying learner 'classif.featureless' on task 'german_credit' (iter 1/1)\n",
      "INFO  [08:48:40.487] [mlr3] Applying learner 'classif.featureless' on task 'german_credit' (iter 1/1)\n",
      "INFO  [08:48:40.502] [mlr3] Applying learner 'classif.featureless' on task 'german_credit' (iter 1/1)\n",
      "INFO  [08:48:40.518] [mlr3] Applying learner 'classif.featureless' on task 'german_credit' (iter 1/1)\n",
      "INFO  [08:48:40.534] [mlr3] Applying learner 'classif.featureless' on task 'german_credit' (iter 1/1)\n",
      "INFO  [08:48:40.551] [mlr3] Applying learner 'classif.featureless' on task 'german_credit' (iter 1/1)\n",
      "INFO  [08:48:40.576] [mlr3] Applying learner 'classif.featureless' on task 'german_credit' (iter 1/1)\n",
      "INFO  [08:48:40.593] [mlr3] Applying learner 'classif.featureless' on task 'german_credit' (iter 1/1)\n",
      "INFO  [08:48:40.610] [mlr3] Applying learner 'classif.featureless' on task 'german_credit' (iter 1/1)\n",
      "INFO  [08:48:40.626] [mlr3] Applying learner 'classif.featureless' on task 'german_credit' (iter 1/1)\n",
      "INFO  [08:48:40.642] [mlr3] Applying learner 'classif.featureless' on task 'german_credit' (iter 1/1)\n",
      "INFO  [08:48:40.658] [mlr3] Applying learner 'classif.featureless' on task 'german_credit' (iter 1/1)\n",
      "INFO  [08:48:40.676] [mlr3] Applying learner 'classif.featureless' on task 'german_credit' (iter 1/1)\n",
      "INFO  [08:48:40.693] [mlr3] Applying learner 'classif.featureless' on task 'german_credit' (iter 1/1)\n",
      "INFO  [08:48:40.708] [mlr3] Applying learner 'classif.featureless' on task 'german_credit' (iter 1/1)\n",
      "INFO  [08:48:40.724] [mlr3] Applying learner 'classif.featureless' on task 'german_credit' (iter 1/1)\n",
      "INFO  [08:48:40.740] [mlr3] Applying learner 'classif.featureless' on task 'german_credit' (iter 1/1)\n",
      "INFO  [08:48:40.757] [mlr3] Applying learner 'classif.featureless' on task 'german_credit' (iter 1/1)\n",
      "INFO  [08:48:40.784] [mlr3] Applying learner 'classif.featureless' on task 'german_credit' (iter 1/1)\n",
      "INFO  [08:48:40.800] [mlr3] Applying learner 'classif.featureless' on task 'german_credit' (iter 1/1)\n",
      "INFO  [08:48:40.816] [mlr3] Applying learner 'classif.featureless' on task 'german_credit' (iter 1/1)\n",
      "INFO  [08:48:40.831] [mlr3] Applying learner 'classif.featureless' on task 'german_credit' (iter 1/1)\n",
      "INFO  [08:48:40.847] [mlr3] Applying learner 'classif.featureless' on task 'german_credit' (iter 1/1)\n",
      "INFO  [08:48:40.863] [mlr3] Applying learner 'classif.featureless' on task 'german_credit' (iter 1/1)\n",
      "INFO  [08:48:40.879] [mlr3] Applying learner 'classif.featureless' on task 'german_credit' (iter 1/1)\n",
      "INFO  [08:48:40.895] [mlr3] Applying learner 'classif.featureless' on task 'german_credit' (iter 1/1)\n",
      "INFO  [08:48:40.910] [mlr3] Applying learner 'classif.featureless' on task 'german_credit' (iter 1/1)\n",
      "INFO  [08:48:40.926] [mlr3] Applying learner 'classif.featureless' on task 'german_credit' (iter 1/1)\n",
      "INFO  [08:48:40.952] [mlr3] Applying learner 'classif.featureless' on task 'german_credit' (iter 1/1)\n",
      "INFO  [08:48:40.969] [mlr3] Applying learner 'classif.featureless' on task 'german_credit' (iter 1/1)\n",
      "INFO  [08:48:40.986] [mlr3] Applying learner 'classif.featureless' on task 'german_credit' (iter 1/1)\n",
      "INFO  [08:48:41.002] [mlr3] Applying learner 'classif.featureless' on task 'german_credit' (iter 1/1)\n",
      "INFO  [08:48:41.018] [mlr3] Applying learner 'classif.featureless' on task 'german_credit' (iter 1/1)\n",
      "INFO  [08:48:41.034] [mlr3] Applying learner 'classif.featureless' on task 'german_credit' (iter 1/1)\n",
      "INFO  [08:48:41.051] [mlr3] Applying learner 'classif.featureless' on task 'german_credit' (iter 1/1)\n",
      "INFO  [08:48:41.067] [mlr3] Applying learner 'classif.featureless' on task 'german_credit' (iter 1/1)\n",
      "INFO  [08:48:41.083] [mlr3] Applying learner 'classif.featureless' on task 'german_credit' (iter 1/1)\n",
      "INFO  [08:48:41.100] [mlr3] Applying learner 'classif.featureless' on task 'german_credit' (iter 1/1)\n",
      "INFO  [08:48:41.116] [mlr3] Applying learner 'classif.featureless' on task 'german_credit' (iter 1/1)\n",
      "INFO  [08:48:41.142] [mlr3] Applying learner 'classif.featureless' on task 'german_credit' (iter 1/1)\n",
      "INFO  [08:48:41.160] [mlr3] Applying learner 'classif.featureless' on task 'german_credit' (iter 1/1)\n",
      "INFO  [08:48:41.177] [mlr3] Applying learner 'classif.featureless' on task 'german_credit' (iter 1/1)\n",
      "INFO  [08:48:41.193] [mlr3] Applying learner 'classif.featureless' on task 'german_credit' (iter 1/1)\n",
      "INFO  [08:48:41.210] [mlr3] Applying learner 'classif.featureless' on task 'german_credit' (iter 1/1)\n",
      "INFO  [08:48:41.226] [mlr3] Applying learner 'classif.featureless' on task 'german_credit' (iter 1/1)\n",
      "INFO  [08:48:41.242] [mlr3] Applying learner 'classif.featureless' on task 'german_credit' (iter 1/1)\n",
      "INFO  [08:48:41.259] [mlr3] Applying learner 'classif.featureless' on task 'german_credit' (iter 1/1)\n",
      "INFO  [08:48:41.276] [mlr3] Applying learner 'classif.featureless' on task 'german_credit' (iter 1/1)\n",
      "INFO  [08:48:41.292] [mlr3] Applying learner 'classif.featureless' on task 'german_credit' (iter 1/1)\n",
      "INFO  [08:48:41.317] [mlr3] Applying learner 'classif.featureless' on task 'german_credit' (iter 1/1)\n",
      "INFO  [08:48:41.336] [mlr3] Applying learner 'classif.featureless' on task 'german_credit' (iter 1/1)\n",
      "INFO  [08:48:41.352] [mlr3] Applying learner 'classif.featureless' on task 'german_credit' (iter 1/1)\n",
      "INFO  [08:48:41.369] [mlr3] Applying learner 'classif.featureless' on task 'german_credit' (iter 1/1)\n",
      "INFO  [08:48:41.385] [mlr3] Applying learner 'classif.featureless' on task 'german_credit' (iter 1/1)\n",
      "INFO  [08:48:41.401] [mlr3] Applying learner 'classif.featureless' on task 'german_credit' (iter 1/1)\n",
      "INFO  [08:48:41.417] [mlr3] Applying learner 'classif.featureless' on task 'german_credit' (iter 1/1)\n",
      "INFO  [08:48:41.434] [mlr3] Applying learner 'classif.featureless' on task 'german_credit' (iter 1/1)\n",
      "INFO  [08:48:41.450] [mlr3] Applying learner 'classif.featureless' on task 'german_credit' (iter 1/1)\n",
      "INFO  [08:48:41.466] [mlr3] Applying learner 'classif.featureless' on task 'german_credit' (iter 1/1)\n",
      "INFO  [08:48:41.483] [mlr3] Applying learner 'classif.featureless' on task 'german_credit' (iter 1/1)\n",
      "INFO  [08:48:41.510] [mlr3] Applying learner 'classif.featureless' on task 'german_credit' (iter 1/1)\n",
      "INFO  [08:48:41.526] [mlr3] Applying learner 'classif.featureless' on task 'german_credit' (iter 1/1)\n",
      "INFO  [08:48:41.542] [mlr3] Applying learner 'classif.featureless' on task 'german_credit' (iter 1/1)\n",
      "INFO  [08:48:41.557] [mlr3] Applying learner 'classif.featureless' on task 'german_credit' (iter 1/1)\n",
      "INFO  [08:48:41.573] [mlr3] Applying learner 'classif.featureless' on task 'german_credit' (iter 1/1)\n",
      "INFO  [08:48:41.589] [mlr3] Applying learner 'classif.featureless' on task 'german_credit' (iter 1/1)\n",
      "INFO  [08:48:41.605] [mlr3] Applying learner 'classif.featureless' on task 'german_credit' (iter 1/1)\n",
      "INFO  [08:48:41.621] [mlr3] Applying learner 'classif.featureless' on task 'german_credit' (iter 1/1)\n",
      "INFO  [08:48:41.637] [mlr3] Applying learner 'classif.featureless' on task 'german_credit' (iter 1/1)\n",
      "INFO  [08:48:41.653] [mlr3] Applying learner 'classif.featureless' on task 'german_credit' (iter 1/1)\n",
      "INFO  [08:48:41.679] [mlr3] Applying learner 'classif.featureless' on task 'german_credit' (iter 1/1)\n",
      "INFO  [08:48:41.696] [mlr3] Applying learner 'classif.featureless' on task 'german_credit' (iter 1/1)\n",
      "INFO  [08:48:41.712] [mlr3] Applying learner 'classif.featureless' on task 'german_credit' (iter 1/1)\n",
      "INFO  [08:48:41.727] [mlr3] Applying learner 'classif.featureless' on task 'german_credit' (iter 1/1)\n",
      "INFO  [08:48:41.742] [mlr3] Applying learner 'classif.featureless' on task 'german_credit' (iter 1/1)\n",
      "INFO  [08:48:41.758] [mlr3] Applying learner 'classif.featureless' on task 'german_credit' (iter 1/1)\n",
      "INFO  [08:48:41.774] [mlr3] Applying learner 'classif.featureless' on task 'german_credit' (iter 1/1)\n",
      "INFO  [08:48:41.790] [mlr3] Applying learner 'classif.featureless' on task 'german_credit' (iter 1/1)\n",
      "INFO  [08:48:41.806] [mlr3] Applying learner 'classif.featureless' on task 'german_credit' (iter 1/1)\n",
      "INFO  [08:48:41.822] [mlr3] Applying learner 'classif.featureless' on task 'german_credit' (iter 1/1)\n",
      "INFO  [08:48:41.844] [mlr3] Applying learner 'classif.featureless' on task 'german_credit' (iter 1/1)\n",
      "INFO  [08:48:41.864] [mlr3] Applying learner 'classif.featureless' on task 'german_credit' (iter 1/1)\n",
      "INFO  [08:48:41.881] [mlr3] Applying learner 'classif.featureless' on task 'german_credit' (iter 1/1)\n",
      "INFO  [08:48:41.897] [mlr3] Applying learner 'classif.featureless' on task 'german_credit' (iter 1/1)\n",
      "INFO  [08:48:41.914] [mlr3] Applying learner 'classif.featureless' on task 'german_credit' (iter 1/1)\n",
      "INFO  [08:48:41.929] [mlr3] Applying learner 'classif.featureless' on task 'german_credit' (iter 1/1)\n",
      "INFO  [08:48:41.945] [mlr3] Applying learner 'classif.featureless' on task 'german_credit' (iter 1/1)\n",
      "INFO  [08:48:41.962] [mlr3] Applying learner 'classif.featureless' on task 'german_credit' (iter 1/1)\n",
      "INFO  [08:48:41.978] [mlr3] Applying learner 'classif.featureless' on task 'german_credit' (iter 1/1)\n",
      "INFO  [08:48:41.994] [mlr3] Applying learner 'classif.featureless' on task 'german_credit' (iter 1/1)\n",
      "INFO  [08:48:42.009] [mlr3] Applying learner 'classif.featureless' on task 'german_credit' (iter 1/1)\n",
      "INFO  [08:48:42.035] [mlr3] Applying learner 'classif.featureless' on task 'german_credit' (iter 1/1)\n",
      "INFO  [08:48:42.052] [mlr3] Applying learner 'classif.featureless' on task 'german_credit' (iter 1/1)\n",
      "INFO  [08:48:42.068] [mlr3] Applying learner 'classif.featureless' on task 'german_credit' (iter 1/1)\n",
      "INFO  [08:48:42.084] [mlr3] Applying learner 'classif.featureless' on task 'german_credit' (iter 1/1)\n",
      "INFO  [08:48:42.099] [mlr3] Applying learner 'classif.featureless' on task 'german_credit' (iter 1/1)\n",
      "INFO  [08:48:42.115] [mlr3] Applying learner 'classif.featureless' on task 'german_credit' (iter 1/1)\n",
      "INFO  [08:48:42.131] [mlr3] Applying learner 'classif.featureless' on task 'german_credit' (iter 1/1)\n",
      "INFO  [08:48:42.147] [mlr3] Applying learner 'classif.featureless' on task 'german_credit' (iter 1/1)\n",
      "INFO  [08:48:42.163] [mlr3] Applying learner 'classif.featureless' on task 'german_credit' (iter 1/1)\n",
      "INFO  [08:48:42.179] [mlr3] Applying learner 'classif.featureless' on task 'german_credit' (iter 1/1)\n",
      "INFO  [08:48:42.205] [mlr3] Applying learner 'classif.featureless' on task 'german_credit' (iter 1/1)\n",
      "INFO  [08:48:42.221] [mlr3] Applying learner 'classif.featureless' on task 'german_credit' (iter 1/1)\n",
      "INFO  [08:48:42.237] [mlr3] Applying learner 'classif.featureless' on task 'german_credit' (iter 1/1)\n",
      "INFO  [08:48:42.253] [mlr3] Applying learner 'classif.featureless' on task 'german_credit' (iter 1/1)\n",
      "INFO  [08:48:42.269] [mlr3] Applying learner 'classif.featureless' on task 'german_credit' (iter 1/1)\n",
      "INFO  [08:48:42.284] [mlr3] Applying learner 'classif.featureless' on task 'german_credit' (iter 1/1)\n",
      "INFO  [08:48:42.301] [mlr3] Applying learner 'classif.featureless' on task 'german_credit' (iter 1/1)\n",
      "INFO  [08:48:42.317] [mlr3] Applying learner 'classif.featureless' on task 'german_credit' (iter 1/1)\n",
      "INFO  [08:48:42.333] [mlr3] Applying learner 'classif.featureless' on task 'german_credit' (iter 1/1)\n",
      "INFO  [08:48:42.348] [mlr3] Applying learner 'classif.featureless' on task 'german_credit' (iter 1/1)\n",
      "INFO  [08:48:42.375] [mlr3] Applying learner 'classif.featureless' on task 'german_credit' (iter 1/1)\n",
      "INFO  [08:48:42.392] [mlr3] Applying learner 'classif.featureless' on task 'german_credit' (iter 1/1)\n",
      "INFO  [08:48:42.407] [mlr3] Applying learner 'classif.featureless' on task 'german_credit' (iter 1/1)\n",
      "INFO  [08:48:42.423] [mlr3] Applying learner 'classif.featureless' on task 'german_credit' (iter 1/1)\n",
      "INFO  [08:48:42.438] [mlr3] Applying learner 'classif.featureless' on task 'german_credit' (iter 1/1)\n",
      "INFO  [08:48:42.454] [mlr3] Applying learner 'classif.featureless' on task 'german_credit' (iter 1/1)\n",
      "INFO  [08:48:42.470] [mlr3] Applying learner 'classif.featureless' on task 'german_credit' (iter 1/1)\n",
      "INFO  [08:48:42.486] [mlr3] Applying learner 'classif.featureless' on task 'german_credit' (iter 1/1)\n",
      "INFO  [08:48:42.502] [mlr3] Applying learner 'classif.featureless' on task 'german_credit' (iter 1/1)\n",
      "INFO  [08:48:42.523] [mlr3] Applying learner 'classif.featureless' on task 'german_credit' (iter 1/1)\n",
      "INFO  [08:48:42.544] [mlr3] Applying learner 'classif.featureless' on task 'german_credit' (iter 1/1)\n",
      "INFO  [08:48:42.561] [mlr3] Applying learner 'classif.featureless' on task 'german_credit' (iter 1/1)\n",
      "INFO  [08:48:42.578] [mlr3] Applying learner 'classif.featureless' on task 'german_credit' (iter 1/1)\n",
      "INFO  [08:48:42.594] [mlr3] Applying learner 'classif.featureless' on task 'german_credit' (iter 1/1)\n",
      "INFO  [08:48:42.610] [mlr3] Applying learner 'classif.featureless' on task 'german_credit' (iter 1/1)\n",
      "INFO  [08:48:42.626] [mlr3] Applying learner 'classif.featureless' on task 'german_credit' (iter 1/1)\n",
      "INFO  [08:48:42.643] [mlr3] Applying learner 'classif.featureless' on task 'german_credit' (iter 1/1)\n",
      "INFO  [08:48:42.659] [mlr3] Applying learner 'classif.featureless' on task 'german_credit' (iter 1/1)\n",
      "INFO  [08:48:42.675] [mlr3] Applying learner 'classif.featureless' on task 'german_credit' (iter 1/1)\n",
      "INFO  [08:48:42.702] [mlr3] Applying learner 'classif.featureless' on task 'german_credit' (iter 1/1)\n",
      "INFO  [08:48:42.720] [mlr3] Applying learner 'classif.featureless' on task 'german_credit' (iter 1/1)\n",
      "INFO  [08:48:42.738] [mlr3] Applying learner 'classif.featureless' on task 'german_credit' (iter 1/1)\n",
      "INFO  [08:48:42.756] [mlr3] Applying learner 'classif.featureless' on task 'german_credit' (iter 1/1)\n",
      "INFO  [08:48:42.774] [mlr3] Applying learner 'classif.featureless' on task 'german_credit' (iter 1/1)\n",
      "INFO  [08:48:42.793] [mlr3] Applying learner 'classif.featureless' on task 'german_credit' (iter 1/1)\n",
      "INFO  [08:48:42.811] [mlr3] Applying learner 'classif.featureless' on task 'german_credit' (iter 1/1)\n",
      "INFO  [08:48:42.829] [mlr3] Applying learner 'classif.featureless' on task 'german_credit' (iter 1/1)\n",
      "INFO  [08:48:42.846] [mlr3] Applying learner 'classif.featureless' on task 'german_credit' (iter 1/1)\n",
      "INFO  [08:48:42.863] [mlr3] Applying learner 'classif.featureless' on task 'german_credit' (iter 1/1)\n",
      "INFO  [08:48:42.893] [mlr3] Applying learner 'classif.featureless' on task 'german_credit' (iter 1/1)\n",
      "INFO  [08:48:42.912] [mlr3] Applying learner 'classif.featureless' on task 'german_credit' (iter 1/1)\n",
      "INFO  [08:48:42.929] [mlr3] Applying learner 'classif.featureless' on task 'german_credit' (iter 1/1)\n",
      "INFO  [08:48:42.947] [mlr3] Applying learner 'classif.featureless' on task 'german_credit' (iter 1/1)\n",
      "INFO  [08:48:42.965] [mlr3] Applying learner 'classif.featureless' on task 'german_credit' (iter 1/1)\n",
      "INFO  [08:48:42.982] [mlr3] Applying learner 'classif.featureless' on task 'german_credit' (iter 1/1)\n",
      "INFO  [08:48:43.000] [mlr3] Applying learner 'classif.featureless' on task 'german_credit' (iter 1/1)\n",
      "INFO  [08:48:43.018] [mlr3] Applying learner 'classif.featureless' on task 'german_credit' (iter 1/1)\n",
      "INFO  [08:48:43.034] [mlr3] Applying learner 'classif.featureless' on task 'german_credit' (iter 1/1)\n",
      "INFO  [08:48:43.058] [mlr3] Applying learner 'classif.featureless' on task 'german_credit' (iter 1/1)\n",
      "INFO  [08:48:43.081] [mlr3] Applying learner 'classif.featureless' on task 'german_credit' (iter 1/1)\n"
     ]
    },
    {
     "data": {
      "text/html": [
       "<table class=\"dataframe\">\n",
       "<caption>A data.table: 6 x 4</caption>\n",
       "<thead>\n",
       "\t<tr><th scope=col>credit_risk</th><th scope=col>age</th><th scope=col>duration</th><th scope=col>purpose</th></tr>\n",
       "\t<tr><th scope=col>&lt;fct&gt;</th><th scope=col>&lt;int&gt;</th><th scope=col>&lt;int&gt;</th><th scope=col>&lt;fct&gt;</th></tr>\n",
       "</thead>\n",
       "<tbody>\n",
       "\t<tr><td>good</td><td>67</td><td> 6</td><td>furniture/equipment</td></tr>\n",
       "\t<tr><td>bad </td><td>22</td><td>48</td><td>furniture/equipment</td></tr>\n",
       "\t<tr><td>good</td><td>49</td><td>12</td><td>repairs            </td></tr>\n",
       "\t<tr><td>good</td><td>45</td><td>42</td><td>car (used)         </td></tr>\n",
       "\t<tr><td>bad </td><td>53</td><td>24</td><td>others             </td></tr>\n",
       "\t<tr><td>good</td><td>35</td><td>36</td><td>repairs            </td></tr>\n",
       "</tbody>\n",
       "</table>\n"
      ],
      "text/latex": [
       "A data.table: 6 x 4\n",
       "\\begin{tabular}{llll}\n",
       " credit\\_risk & age & duration & purpose\\\\\n",
       " <fct> & <int> & <int> & <fct>\\\\\n",
       "\\hline\n",
       "\t good & 67 &  6 & furniture/equipment\\\\\n",
       "\t bad  & 22 & 48 & furniture/equipment\\\\\n",
       "\t good & 49 & 12 & repairs            \\\\\n",
       "\t good & 45 & 42 & car (used)         \\\\\n",
       "\t bad  & 53 & 24 & others             \\\\\n",
       "\t good & 35 & 36 & repairs            \\\\\n",
       "\\end{tabular}\n"
      ],
      "text/markdown": [
       "\n",
       "A data.table: 6 x 4\n",
       "\n",
       "| credit_risk &lt;fct&gt; | age &lt;int&gt; | duration &lt;int&gt; | purpose &lt;fct&gt; |\n",
       "|---|---|---|---|\n",
       "| good | 67 |  6 | furniture/equipment |\n",
       "| bad  | 22 | 48 | furniture/equipment |\n",
       "| good | 49 | 12 | repairs             |\n",
       "| good | 45 | 42 | car (used)          |\n",
       "| bad  | 53 | 24 | others              |\n",
       "| good | 35 | 36 | repairs             |\n",
       "\n"
      ],
      "text/plain": [
       "  credit_risk age duration purpose            \n",
       "1 good        67   6       furniture/equipment\n",
       "2 bad         22  48       furniture/equipment\n",
       "3 good        49  12       repairs            \n",
       "4 good        45  42       car (used)         \n",
       "5 bad         53  24       others             \n",
       "6 good        35  36       repairs            "
      ]
     },
     "metadata": {},
     "output_type": "display_data"
    }
   ],
   "source": [
    "gr <- po(\n",
    "  \"filter\",\n",
    "  filter = flt(\"permutation\"),\n",
    "  filter.nfeat = 3\n",
    ")\n",
    "\n",
    "tsk <- tsk(\"german_credit\")\n",
    "gr$train(list(tsk))[[1]]$head()"
   ]
  },
  {
   "cell_type": "code",
   "execution_count": 80,
   "id": "e14df820",
   "metadata": {
    "vscode": {
     "languageId": "r"
    }
   },
   "outputs": [
    {
     "data": {
      "text/plain": [
       "<ParamSetCollection(7)>\n",
       "                id    class lower upper nlevels        default  value\n",
       "            <char>   <char> <num> <num>   <num>         <list> <list>\n",
       "1:    filter.nfeat ParamInt     0   Inf     Inf <NoDefault[0]>      3\n",
       "2:     filter.frac ParamDbl     0     1     Inf <NoDefault[0]> [NULL]\n",
       "3:   filter.cutoff ParamDbl  -Inf   Inf     Inf <NoDefault[0]> [NULL]\n",
       "4: filter.permuted ParamInt     1   Inf     Inf <NoDefault[0]> [NULL]\n",
       "5:     standardize ParamLgl    NA    NA       2          FALSE [NULL]\n",
       "6:             nmc ParamInt     1   Inf     Inf             50 [NULL]\n",
       "7:  affect_columns ParamUty    NA    NA     Inf  <Selector[1]> [NULL]"
      ]
     },
     "metadata": {},
     "output_type": "display_data"
    }
   ],
   "source": [
    "gr$param_set"
   ]
  },
  {
   "cell_type": "code",
   "execution_count": 83,
   "id": "b9cd3bf8",
   "metadata": {
    "vscode": {
     "languageId": "r"
    }
   },
   "outputs": [
    {
     "data": {
      "text/html": [
       "<table class=\"dataframe\">\n",
       "<caption>A data.table: 6 x 4</caption>\n",
       "<thead>\n",
       "\t<tr><th scope=col>credit_risk</th><th scope=col>foreign_worker</th><th scope=col>purpose</th><th scope=col>status</th></tr>\n",
       "\t<tr><th scope=col>&lt;fct&gt;</th><th scope=col>&lt;fct&gt;</th><th scope=col>&lt;fct&gt;</th><th scope=col>&lt;fct&gt;</th></tr>\n",
       "</thead>\n",
       "<tbody>\n",
       "\t<tr><td>good</td><td>no</td><td>furniture/equipment</td><td>no checking account                       </td></tr>\n",
       "\t<tr><td>bad </td><td>no</td><td>furniture/equipment</td><td><span style=white-space:pre-wrap>... &lt; 0 DM                                </span></td></tr>\n",
       "\t<tr><td>good</td><td>no</td><td><span style=white-space:pre-wrap>repairs            </span></td><td>... &gt;= 200 DM / salary for at least 1 year</td></tr>\n",
       "\t<tr><td>good</td><td>no</td><td>car (used)         </td><td>no checking account                       </td></tr>\n",
       "\t<tr><td>bad </td><td>no</td><td>others             </td><td>no checking account                       </td></tr>\n",
       "\t<tr><td>good</td><td>no</td><td><span style=white-space:pre-wrap>repairs            </span></td><td>... &gt;= 200 DM / salary for at least 1 year</td></tr>\n",
       "</tbody>\n",
       "</table>\n"
      ],
      "text/latex": [
       "A data.table: 6 x 4\n",
       "\\begin{tabular}{llll}\n",
       " credit\\_risk & foreign\\_worker & purpose & status\\\\\n",
       " <fct> & <fct> & <fct> & <fct>\\\\\n",
       "\\hline\n",
       "\t good & no & furniture/equipment & no checking account                       \\\\\n",
       "\t bad  & no & furniture/equipment & ... < 0 DM                                \\\\\n",
       "\t good & no & repairs             & ... >= 200 DM / salary for at least 1 year\\\\\n",
       "\t good & no & car (used)          & no checking account                       \\\\\n",
       "\t bad  & no & others              & no checking account                       \\\\\n",
       "\t good & no & repairs             & ... >= 200 DM / salary for at least 1 year\\\\\n",
       "\\end{tabular}\n"
      ],
      "text/markdown": [
       "\n",
       "A data.table: 6 x 4\n",
       "\n",
       "| credit_risk &lt;fct&gt; | foreign_worker &lt;fct&gt; | purpose &lt;fct&gt; | status &lt;fct&gt; |\n",
       "|---|---|---|---|\n",
       "| good | no | furniture/equipment | no checking account                        |\n",
       "| bad  | no | furniture/equipment | ... &lt; 0 DM                                 |\n",
       "| good | no | repairs             | ... &gt;= 200 DM / salary for at least 1 year |\n",
       "| good | no | car (used)          | no checking account                        |\n",
       "| bad  | no | others              | no checking account                        |\n",
       "| good | no | repairs             | ... &gt;= 200 DM / salary for at least 1 year |\n",
       "\n"
      ],
      "text/plain": [
       "  credit_risk foreign_worker purpose            \n",
       "1 good        no             furniture/equipment\n",
       "2 bad         no             furniture/equipment\n",
       "3 good        no             repairs            \n",
       "4 good        no             car (used)         \n",
       "5 bad         no             others             \n",
       "6 good        no             repairs            \n",
       "  status                                    \n",
       "1 no checking account                       \n",
       "2 ... < 0 DM                                \n",
       "3 ... >= 200 DM / salary for at least 1 year\n",
       "4 no checking account                       \n",
       "5 no checking account                       \n",
       "6 ... >= 200 DM / salary for at least 1 year"
      ]
     },
     "metadata": {},
     "output_type": "display_data"
    }
   ],
   "source": [
    "gr <- po(\n",
    "  \"filter\",\n",
    "  filter = flt(\n",
    "    \"selected_features\",\n",
    "    learner = lrn(\"classif.ranger\")\n",
    "  ),\n",
    "  filter.nfeat = 3\n",
    ")\n",
    "\n",
    "tsk <- tsk(\"german_credit\")\n",
    "gr$train(list(tsk))[[1]]$head()"
   ]
  },
  {
   "cell_type": "code",
   "execution_count": 84,
   "id": "56ba6342",
   "metadata": {
    "vscode": {
     "languageId": "r"
    }
   },
   "outputs": [
    {
     "data": {
      "text/plain": [
       "<ParamSetCollection(33)>\n",
       "Key: <id>\n",
       "                              id    class lower upper nlevels        default\n",
       "                          <char>   <char> <num> <num>   <num>         <list>\n",
       " 1:               affect_columns ParamUty    NA    NA     Inf  <Selector[1]>\n",
       " 2:       always.split.variables ParamUty    NA    NA     Inf <NoDefault[0]>\n",
       " 3:                class.weights ParamUty    NA    NA     Inf         [NULL]\n",
       " 4:                filter.cutoff ParamDbl  -Inf   Inf     Inf <NoDefault[0]>\n",
       " 5:                  filter.frac ParamDbl     0     1     Inf <NoDefault[0]>\n",
       " 6:                 filter.nfeat ParamInt     0   Inf     Inf <NoDefault[0]>\n",
       " 7:              filter.permuted ParamInt     1   Inf     Inf <NoDefault[0]>\n",
       " 8:                      holdout ParamLgl    NA    NA       2          FALSE\n",
       " 9:                   importance ParamFct    NA    NA       4 <NoDefault[0]>\n",
       "10:                   keep.inbag ParamLgl    NA    NA       2          FALSE\n",
       "11:                    max.depth ParamInt     1   Inf     Inf         [NULL]\n",
       "12:                   min.bucket ParamUty    NA    NA     Inf              1\n",
       "13:                min.node.size ParamUty    NA    NA     Inf         [NULL]\n",
       "14:                         mtry ParamInt     1   Inf     Inf <NoDefault[0]>\n",
       "15:                   mtry.ratio ParamDbl     0     1     Inf <NoDefault[0]>\n",
       "16:                    na.action ParamFct    NA    NA       3       na.learn\n",
       "17:                   node.stats ParamLgl    NA    NA       2          FALSE\n",
       "18:            num.random.splits ParamInt     1   Inf     Inf              1\n",
       "19:                  num.threads ParamInt     1   Inf     Inf              1\n",
       "20:                    num.trees ParamInt     1   Inf     Inf            500\n",
       "21:                    oob.error ParamLgl    NA    NA       2           TRUE\n",
       "22:        regularization.factor ParamUty    NA    NA     Inf              1\n",
       "23:      regularization.usedepth ParamLgl    NA    NA       2          FALSE\n",
       "24:                      replace ParamLgl    NA    NA       2           TRUE\n",
       "25:    respect.unordered.factors ParamFct    NA    NA       3 <NoDefault[0]>\n",
       "26:              sample.fraction ParamDbl     0     1     Inf <NoDefault[0]>\n",
       "27:                  save.memory ParamLgl    NA    NA       2          FALSE\n",
       "28: scale.permutation.importance ParamLgl    NA    NA       2          FALSE\n",
       "29:                         seed ParamInt  -Inf   Inf     Inf         [NULL]\n",
       "30:         split.select.weights ParamUty    NA    NA     Inf         [NULL]\n",
       "31:                    splitrule ParamFct    NA    NA       3           gini\n",
       "32:                      verbose ParamLgl    NA    NA       2           TRUE\n",
       "33:                 write.forest ParamLgl    NA    NA       2           TRUE\n",
       "                              id    class lower upper nlevels        default\n",
       "       parents  value\n",
       "        <list> <list>\n",
       " 1:     [NULL] [NULL]\n",
       " 2:     [NULL] [NULL]\n",
       " 3:     [NULL] [NULL]\n",
       " 4:     [NULL] [NULL]\n",
       " 5:     [NULL] [NULL]\n",
       " 6:     [NULL]      3\n",
       " 7:     [NULL] [NULL]\n",
       " 8:     [NULL] [NULL]\n",
       " 9:     [NULL] [NULL]\n",
       "10:     [NULL] [NULL]\n",
       "11:     [NULL] [NULL]\n",
       "12:     [NULL] [NULL]\n",
       "13:     [NULL] [NULL]\n",
       "14:     [NULL] [NULL]\n",
       "15:     [NULL] [NULL]\n",
       "16:     [NULL] [NULL]\n",
       "17:     [NULL] [NULL]\n",
       "18:  splitrule [NULL]\n",
       "19:     [NULL]      1\n",
       "20:     [NULL] [NULL]\n",
       "21:     [NULL] [NULL]\n",
       "22:     [NULL] [NULL]\n",
       "23:     [NULL] [NULL]\n",
       "24:     [NULL] [NULL]\n",
       "25:     [NULL] [NULL]\n",
       "26:     [NULL] [NULL]\n",
       "27:     [NULL] [NULL]\n",
       "28: importance [NULL]\n",
       "29:     [NULL] [NULL]\n",
       "30:     [NULL] [NULL]\n",
       "31:     [NULL] [NULL]\n",
       "32:     [NULL] [NULL]\n",
       "33:     [NULL] [NULL]\n",
       "       parents  value"
      ]
     },
     "metadata": {},
     "output_type": "display_data"
    }
   ],
   "source": [
    "gr$param_set"
   ]
  },
  {
   "cell_type": "code",
   "execution_count": 96,
   "id": "87325aef",
   "metadata": {
    "vscode": {
     "languageId": "r"
    }
   },
   "outputs": [
    {
     "data": {
      "text/html": [
       "<table class=\"dataframe\">\n",
       "<caption>A data.table: 6 x 3</caption>\n",
       "<thead>\n",
       "\t<tr><th scope=col>mpg</th><th scope=col>cyl</th><th scope=col>hp</th></tr>\n",
       "\t<tr><th scope=col>&lt;dbl&gt;</th><th scope=col>&lt;dbl&gt;</th><th scope=col>&lt;dbl&gt;</th></tr>\n",
       "</thead>\n",
       "<tbody>\n",
       "\t<tr><td>21.0</td><td>6</td><td>110</td></tr>\n",
       "\t<tr><td>21.0</td><td>6</td><td>110</td></tr>\n",
       "\t<tr><td>22.8</td><td>4</td><td> 93</td></tr>\n",
       "\t<tr><td>21.4</td><td>6</td><td>110</td></tr>\n",
       "\t<tr><td>18.7</td><td>8</td><td>175</td></tr>\n",
       "\t<tr><td>18.1</td><td>6</td><td>105</td></tr>\n",
       "</tbody>\n",
       "</table>\n"
      ],
      "text/latex": [
       "A data.table: 6 x 3\n",
       "\\begin{tabular}{lll}\n",
       " mpg & cyl & hp\\\\\n",
       " <dbl> & <dbl> & <dbl>\\\\\n",
       "\\hline\n",
       "\t 21.0 & 6 & 110\\\\\n",
       "\t 21.0 & 6 & 110\\\\\n",
       "\t 22.8 & 4 &  93\\\\\n",
       "\t 21.4 & 6 & 110\\\\\n",
       "\t 18.7 & 8 & 175\\\\\n",
       "\t 18.1 & 6 & 105\\\\\n",
       "\\end{tabular}\n"
      ],
      "text/markdown": [
       "\n",
       "A data.table: 6 x 3\n",
       "\n",
       "| mpg &lt;dbl&gt; | cyl &lt;dbl&gt; | hp &lt;dbl&gt; |\n",
       "|---|---|---|\n",
       "| 21.0 | 6 | 110 |\n",
       "| 21.0 | 6 | 110 |\n",
       "| 22.8 | 4 |  93 |\n",
       "| 21.4 | 6 | 110 |\n",
       "| 18.7 | 8 | 175 |\n",
       "| 18.1 | 6 | 105 |\n",
       "\n"
      ],
      "text/plain": [
       "  mpg  cyl hp \n",
       "1 21.0 6   110\n",
       "2 21.0 6   110\n",
       "3 22.8 4    93\n",
       "4 21.4 6   110\n",
       "5 18.7 8   175\n",
       "6 18.1 6   105"
      ]
     },
     "metadata": {},
     "output_type": "display_data"
    }
   ],
   "source": [
    "gr <- po(\n",
    "  \"filter\",\n",
    "  filter = flt(\n",
    "    \"selected_features\",\n",
    "    learner = lrn(\"regr.cv_glmnet\")\n",
    "  ),\n",
    "  filter.nfeat = 2\n",
    ")\n",
    "\n",
    "tsk <- tsk(\"mtcars\")\n",
    "gr$train(list(tsk))[[1]]$head()"
   ]
  },
  {
   "cell_type": "code",
   "execution_count": 97,
   "id": "9ab78378",
   "metadata": {
    "vscode": {
     "languageId": "r"
    }
   },
   "outputs": [
    {
     "data": {
      "text/plain": [
       "<ParamSetCollection(48)>\n",
       "Key: <id>\n",
       "                      id    class lower upper nlevels        default parents\n",
       "                  <char>   <char> <num> <num>   <num>         <list>  <list>\n",
       " 1:       affect_columns ParamUty    NA    NA     Inf  <Selector[1]>  [NULL]\n",
       " 2:            alignment ParamFct    NA    NA       2         lambda  [NULL]\n",
       " 3:                alpha ParamDbl     0     1     Inf              1  [NULL]\n",
       " 4:                  big ParamDbl  -Inf   Inf     Inf        9.9e+35  [NULL]\n",
       " 5:               devmax ParamDbl     0     1     Inf          0.999  [NULL]\n",
       " 6:                dfmax ParamInt     0   Inf     Inf <NoDefault[0]>  [NULL]\n",
       " 7:                  eps ParamDbl     0     1     Inf          1e-06  [NULL]\n",
       " 8:                epsnr ParamDbl     0     1     Inf          1e-08  [NULL]\n",
       " 9:              exclude ParamInt     1   Inf     Inf <NoDefault[0]>  [NULL]\n",
       "10:                 exmx ParamDbl  -Inf   Inf     Inf            250  [NULL]\n",
       "11:               family ParamFct    NA    NA       2       gaussian  [NULL]\n",
       "12:                 fdev ParamDbl     0     1     Inf          1e-05  [NULL]\n",
       "13:        filter.cutoff ParamDbl  -Inf   Inf     Inf <NoDefault[0]>  [NULL]\n",
       "14:          filter.frac ParamDbl     0     1     Inf <NoDefault[0]>  [NULL]\n",
       "15:         filter.nfeat ParamInt     0   Inf     Inf <NoDefault[0]>  [NULL]\n",
       "16:      filter.permuted ParamInt     1   Inf     Inf <NoDefault[0]>  [NULL]\n",
       "17:               foldid ParamUty    NA    NA     Inf         [NULL]  [NULL]\n",
       "18:                gamma ParamUty    NA    NA     Inf <NoDefault[0]>   relax\n",
       "19:              grouped ParamLgl    NA    NA       2           TRUE  [NULL]\n",
       "20:            intercept ParamLgl    NA    NA       2           TRUE  [NULL]\n",
       "21:                 keep ParamLgl    NA    NA       2          FALSE  [NULL]\n",
       "22:               lambda ParamUty    NA    NA     Inf <NoDefault[0]>  [NULL]\n",
       "23:     lambda.min.ratio ParamDbl     0     1     Inf <NoDefault[0]>  [NULL]\n",
       "24:         lower.limits ParamUty    NA    NA     Inf <NoDefault[0]>  [NULL]\n",
       "25:                maxit ParamInt     1   Inf     Inf         100000  [NULL]\n",
       "26:                mnlam ParamInt     1   Inf     Inf              5  [NULL]\n",
       "27:                 mxit ParamInt     1   Inf     Inf            100  [NULL]\n",
       "28:               mxitnr ParamInt     1   Inf     Inf             25  [NULL]\n",
       "29:               nfolds ParamInt     3   Inf     Inf             10  [NULL]\n",
       "30:              nlambda ParamInt     1   Inf     Inf            100  [NULL]\n",
       "31:             parallel ParamLgl    NA    NA       2          FALSE  [NULL]\n",
       "32:       penalty.factor ParamUty    NA    NA     Inf <NoDefault[0]>  [NULL]\n",
       "33:                 pmax ParamInt     0   Inf     Inf <NoDefault[0]>  [NULL]\n",
       "34:                 pmin ParamDbl     0     1     Inf          1e-09  [NULL]\n",
       "35:                 prec ParamDbl  -Inf   Inf     Inf          1e-10  [NULL]\n",
       "36:        predict.gamma ParamDbl  -Inf   Inf     Inf      gamma.1se  [NULL]\n",
       "37:                relax ParamLgl    NA    NA       2          FALSE  [NULL]\n",
       "38:                    s ParamDbl     0   Inf     Inf     lambda.1se  [NULL]\n",
       "39:          standardize ParamLgl    NA    NA       2           TRUE  [NULL]\n",
       "40: standardize.response ParamLgl    NA    NA       2          FALSE  [NULL]\n",
       "41:               thresh ParamDbl     0   Inf     Inf          1e-07  [NULL]\n",
       "42:             trace.it ParamInt     0     1       2              0  [NULL]\n",
       "43:        type.gaussian ParamFct    NA    NA       2 <NoDefault[0]>  family\n",
       "44:        type.logistic ParamFct    NA    NA       2 <NoDefault[0]>  [NULL]\n",
       "45:         type.measure ParamFct    NA    NA       5       deviance  [NULL]\n",
       "46:     type.multinomial ParamFct    NA    NA       2 <NoDefault[0]>  [NULL]\n",
       "47:         upper.limits ParamUty    NA    NA     Inf <NoDefault[0]>  [NULL]\n",
       "48:      use_pred_offset ParamLgl    NA    NA       2           TRUE  [NULL]\n",
       "                      id    class lower upper nlevels        default parents\n",
       "       value\n",
       "      <list>\n",
       " 1:   [NULL]\n",
       " 2:   [NULL]\n",
       " 3:   [NULL]\n",
       " 4:   [NULL]\n",
       " 5:   [NULL]\n",
       " 6:   [NULL]\n",
       " 7:   [NULL]\n",
       " 8:   [NULL]\n",
       " 9:   [NULL]\n",
       "10:   [NULL]\n",
       "11: gaussian\n",
       "12:   [NULL]\n",
       "13:   [NULL]\n",
       "14:   [NULL]\n",
       "15:        2\n",
       "16:   [NULL]\n",
       "17:   [NULL]\n",
       "18:   [NULL]\n",
       "19:   [NULL]\n",
       "20:   [NULL]\n",
       "21:   [NULL]\n",
       "22:   [NULL]\n",
       "23:   [NULL]\n",
       "24:   [NULL]\n",
       "25:   [NULL]\n",
       "26:   [NULL]\n",
       "27:   [NULL]\n",
       "28:   [NULL]\n",
       "29:   [NULL]\n",
       "30:   [NULL]\n",
       "31:   [NULL]\n",
       "32:   [NULL]\n",
       "33:   [NULL]\n",
       "34:   [NULL]\n",
       "35:   [NULL]\n",
       "36:   [NULL]\n",
       "37:   [NULL]\n",
       "38:   [NULL]\n",
       "39:   [NULL]\n",
       "40:   [NULL]\n",
       "41:   [NULL]\n",
       "42:   [NULL]\n",
       "43:   [NULL]\n",
       "44:   [NULL]\n",
       "45:   [NULL]\n",
       "46:   [NULL]\n",
       "47:   [NULL]\n",
       "48:     TRUE\n",
       "       value"
      ]
     },
     "metadata": {},
     "output_type": "display_data"
    }
   ],
   "source": [
    "gr$param_set"
   ]
  },
  {
   "cell_type": "code",
   "execution_count": 99,
   "id": "9ed6fde5",
   "metadata": {
    "vscode": {
     "languageId": "r"
    }
   },
   "outputs": [
    {
     "data": {
      "text/html": [
       "<table class=\"dataframe\">\n",
       "<caption>A data.table: 6 x 3</caption>\n",
       "<thead>\n",
       "\t<tr><th scope=col>mpg</th><th scope=col>hp</th><th scope=col>wt</th></tr>\n",
       "\t<tr><th scope=col>&lt;dbl&gt;</th><th scope=col>&lt;dbl&gt;</th><th scope=col>&lt;dbl&gt;</th></tr>\n",
       "</thead>\n",
       "<tbody>\n",
       "\t<tr><td>21.0</td><td>110</td><td>2.620</td></tr>\n",
       "\t<tr><td>21.0</td><td>110</td><td>2.875</td></tr>\n",
       "\t<tr><td>22.8</td><td> 93</td><td>2.320</td></tr>\n",
       "\t<tr><td>21.4</td><td>110</td><td>3.215</td></tr>\n",
       "\t<tr><td>18.7</td><td>175</td><td>3.440</td></tr>\n",
       "\t<tr><td>18.1</td><td>105</td><td>3.460</td></tr>\n",
       "</tbody>\n",
       "</table>\n"
      ],
      "text/latex": [
       "A data.table: 6 x 3\n",
       "\\begin{tabular}{lll}\n",
       " mpg & hp & wt\\\\\n",
       " <dbl> & <dbl> & <dbl>\\\\\n",
       "\\hline\n",
       "\t 21.0 & 110 & 2.620\\\\\n",
       "\t 21.0 & 110 & 2.875\\\\\n",
       "\t 22.8 &  93 & 2.320\\\\\n",
       "\t 21.4 & 110 & 3.215\\\\\n",
       "\t 18.7 & 175 & 3.440\\\\\n",
       "\t 18.1 & 105 & 3.460\\\\\n",
       "\\end{tabular}\n"
      ],
      "text/markdown": [
       "\n",
       "A data.table: 6 x 3\n",
       "\n",
       "| mpg &lt;dbl&gt; | hp &lt;dbl&gt; | wt &lt;dbl&gt; |\n",
       "|---|---|---|\n",
       "| 21.0 | 110 | 2.620 |\n",
       "| 21.0 | 110 | 2.875 |\n",
       "| 22.8 |  93 | 2.320 |\n",
       "| 21.4 | 110 | 3.215 |\n",
       "| 18.7 | 175 | 3.440 |\n",
       "| 18.1 | 105 | 3.460 |\n",
       "\n"
      ],
      "text/plain": [
       "  mpg  hp  wt   \n",
       "1 21.0 110 2.620\n",
       "2 21.0 110 2.875\n",
       "3 22.8  93 2.320\n",
       "4 21.4 110 3.215\n",
       "5 18.7 175 3.440\n",
       "6 18.1 105 3.460"
      ]
     },
     "metadata": {},
     "output_type": "display_data"
    }
   ],
   "source": [
    "gr <- po(\n",
    "  \"filter\",\n",
    "  filter = flt(\"carscore\"),\n",
    "  filter.nfeat = 2\n",
    ")\n",
    "\n",
    "tsk <- tsk(\"mtcars\")\n",
    "gr$train(list(tsk))[[1]]$head()"
   ]
  },
  {
   "cell_type": "code",
   "execution_count": 100,
   "id": "c5681d5e",
   "metadata": {
    "vscode": {
     "languageId": "r"
    }
   },
   "outputs": [
    {
     "data": {
      "text/plain": [
       "<ParamSetCollection(8)>\n",
       "                id    class lower upper nlevels        default  value\n",
       "            <char>   <char> <num> <num>   <num>         <list> <list>\n",
       "1:    filter.nfeat ParamInt     0   Inf     Inf <NoDefault[0]>      2\n",
       "2:     filter.frac ParamDbl     0     1     Inf <NoDefault[0]> [NULL]\n",
       "3:   filter.cutoff ParamDbl  -Inf   Inf     Inf <NoDefault[0]> [NULL]\n",
       "4: filter.permuted ParamInt     1   Inf     Inf <NoDefault[0]> [NULL]\n",
       "5:          lambda ParamDbl     0     1     Inf <NoDefault[0]> [NULL]\n",
       "6:        diagonal ParamLgl    NA    NA       2          FALSE [NULL]\n",
       "7:         verbose ParamLgl    NA    NA       2           TRUE  FALSE\n",
       "8:  affect_columns ParamUty    NA    NA     Inf  <Selector[1]> [NULL]"
      ]
     },
     "metadata": {},
     "output_type": "display_data"
    }
   ],
   "source": [
    "gr$param_set"
   ]
  },
  {
   "cell_type": "code",
   "execution_count": 103,
   "id": "b92e922b",
   "metadata": {
    "vscode": {
     "languageId": "r"
    }
   },
   "outputs": [
    {
     "data": {
      "text/html": [
       "<table class=\"dataframe\">\n",
       "<caption>A data.table: 6 x 4</caption>\n",
       "<thead>\n",
       "\t<tr><th scope=col>mpg</th><th scope=col>gear</th><th scope=col>hp</th><th scope=col>qsec</th></tr>\n",
       "\t<tr><th scope=col>&lt;dbl&gt;</th><th scope=col>&lt;dbl&gt;</th><th scope=col>&lt;dbl&gt;</th><th scope=col>&lt;dbl&gt;</th></tr>\n",
       "</thead>\n",
       "<tbody>\n",
       "\t<tr><td>21.0</td><td>4</td><td>110</td><td>16.46</td></tr>\n",
       "\t<tr><td>21.0</td><td>4</td><td>110</td><td>17.02</td></tr>\n",
       "\t<tr><td>22.8</td><td>4</td><td> 93</td><td>18.61</td></tr>\n",
       "\t<tr><td>21.4</td><td>3</td><td>110</td><td>19.44</td></tr>\n",
       "\t<tr><td>18.7</td><td>3</td><td>175</td><td>17.02</td></tr>\n",
       "\t<tr><td>18.1</td><td>3</td><td>105</td><td>20.22</td></tr>\n",
       "</tbody>\n",
       "</table>\n"
      ],
      "text/latex": [
       "A data.table: 6 x 4\n",
       "\\begin{tabular}{llll}\n",
       " mpg & gear & hp & qsec\\\\\n",
       " <dbl> & <dbl> & <dbl> & <dbl>\\\\\n",
       "\\hline\n",
       "\t 21.0 & 4 & 110 & 16.46\\\\\n",
       "\t 21.0 & 4 & 110 & 17.02\\\\\n",
       "\t 22.8 & 4 &  93 & 18.61\\\\\n",
       "\t 21.4 & 3 & 110 & 19.44\\\\\n",
       "\t 18.7 & 3 & 175 & 17.02\\\\\n",
       "\t 18.1 & 3 & 105 & 20.22\\\\\n",
       "\\end{tabular}\n"
      ],
      "text/markdown": [
       "\n",
       "A data.table: 6 x 4\n",
       "\n",
       "| mpg &lt;dbl&gt; | gear &lt;dbl&gt; | hp &lt;dbl&gt; | qsec &lt;dbl&gt; |\n",
       "|---|---|---|---|\n",
       "| 21.0 | 4 | 110 | 16.46 |\n",
       "| 21.0 | 4 | 110 | 17.02 |\n",
       "| 22.8 | 4 |  93 | 18.61 |\n",
       "| 21.4 | 3 | 110 | 19.44 |\n",
       "| 18.7 | 3 | 175 | 17.02 |\n",
       "| 18.1 | 3 | 105 | 20.22 |\n",
       "\n"
      ],
      "text/plain": [
       "  mpg  gear hp  qsec \n",
       "1 21.0 4    110 16.46\n",
       "2 21.0 4    110 17.02\n",
       "3 22.8 4     93 18.61\n",
       "4 21.4 3    110 19.44\n",
       "5 18.7 3    175 17.02\n",
       "6 18.1 3    105 20.22"
      ]
     },
     "metadata": {},
     "output_type": "display_data"
    }
   ],
   "source": [
    "gr <- po(\n",
    "  \"filter\",\n",
    "  filter = flt(\"boruta\"),\n",
    "  filter.nfeat = 3\n",
    ")\n",
    "tsk <- tsk(\"mtcars\")\n",
    "gr$train(list(tsk))[[1]]$head()"
   ]
  },
  {
   "cell_type": "code",
   "execution_count": 104,
   "id": "7aa41f9c",
   "metadata": {
    "vscode": {
     "languageId": "r"
    }
   },
   "outputs": [
    {
     "data": {
      "text/plain": [
       "<ParamSetCollection(13)>\n",
       "                 id    class lower upper nlevels        default     value\n",
       "             <char>   <char> <num> <num>   <num>         <list>    <list>\n",
       " 1:    filter.nfeat ParamInt     0   Inf     Inf <NoDefault[0]>         3\n",
       " 2:     filter.frac ParamDbl     0     1     Inf <NoDefault[0]>    [NULL]\n",
       " 3:   filter.cutoff ParamDbl  -Inf   Inf     Inf <NoDefault[0]>    [NULL]\n",
       " 4: filter.permuted ParamInt     1   Inf     Inf <NoDefault[0]>    [NULL]\n",
       " 5:          pValue ParamDbl  -Inf   Inf     Inf           0.01    [NULL]\n",
       " 6:           mcAdj ParamLgl    NA    NA       2           TRUE    [NULL]\n",
       " 7:         maxRuns ParamInt     1   Inf     Inf            100    [NULL]\n",
       " 8:         doTrace ParamInt     0     4       5              0    [NULL]\n",
       " 9:     holdHistory ParamLgl    NA    NA       2           TRUE    [NULL]\n",
       "10:          getImp ParamUty    NA    NA     Inf <NoDefault[0]>    [NULL]\n",
       "11:            keep ParamFct    NA    NA       2      confirmed confirmed\n",
       "12:     num.threads ParamInt     1   Inf     Inf              1         1\n",
       "13:  affect_columns ParamUty    NA    NA     Inf  <Selector[1]>    [NULL]"
      ]
     },
     "metadata": {},
     "output_type": "display_data"
    }
   ],
   "source": [
    "gr$param_set"
   ]
  },
  {
   "cell_type": "code",
   "execution_count": null,
   "id": "e23bea86",
   "metadata": {
    "vscode": {
     "languageId": "r"
    }
   },
   "outputs": [
    {
     "name": "stdout",
     "output_type": "stream",
     "text": [
      "INFO  [13:52:34.679] [bbotk] Starting to optimize 7 parameter(s) with '<FSelectorBatchRandomSearch>' and '<TerminatorEvals> [n_evals=20, k=0]'\n",
      "INFO  [13:52:34.683] [bbotk] Evaluating 10 configuration(s)\n",
      "INFO  [13:52:34.710] [mlr3] Running benchmark with 30 resampling iterations\n",
      "INFO  [13:52:34.814] [mlr3] Applying learner 'classif.rpart' on task 'penguins' (iter 1/3)\n",
      "INFO  [13:52:34.876] [mlr3] Applying learner 'classif.rpart' on task 'penguins' (iter 2/3)\n",
      "INFO  [13:52:34.892] [mlr3] Applying learner 'classif.rpart' on task 'penguins' (iter 3/3)\n",
      "INFO  [13:52:34.902] [mlr3] Applying learner 'classif.rpart' on task 'penguins' (iter 1/3)\n",
      "INFO  [13:52:34.909] [mlr3] Applying learner 'classif.rpart' on task 'penguins' (iter 2/3)\n",
      "INFO  [13:52:34.917] [mlr3] Applying learner 'classif.rpart' on task 'penguins' (iter 3/3)\n",
      "INFO  [13:52:34.924] [mlr3] Applying learner 'classif.rpart' on task 'penguins' (iter 1/3)\n",
      "INFO  [13:52:34.931] [mlr3] Applying learner 'classif.rpart' on task 'penguins' (iter 2/3)\n",
      "INFO  [13:52:34.937] [mlr3] Applying learner 'classif.rpart' on task 'penguins' (iter 3/3)\n",
      "INFO  [13:52:34.944] [mlr3] Applying learner 'classif.rpart' on task 'penguins' (iter 1/3)\n",
      "INFO  [13:52:34.950] [mlr3] Applying learner 'classif.rpart' on task 'penguins' (iter 2/3)\n",
      "INFO  [13:52:34.956] [mlr3] Applying learner 'classif.rpart' on task 'penguins' (iter 3/3)\n",
      "INFO  [13:52:34.963] [mlr3] Applying learner 'classif.rpart' on task 'penguins' (iter 1/3)\n",
      "INFO  [13:52:34.970] [mlr3] Applying learner 'classif.rpart' on task 'penguins' (iter 2/3)\n",
      "INFO  [13:52:34.976] [mlr3] Applying learner 'classif.rpart' on task 'penguins' (iter 3/3)\n",
      "INFO  [13:52:34.983] [mlr3] Applying learner 'classif.rpart' on task 'penguins' (iter 1/3)\n",
      "INFO  [13:52:34.991] [mlr3] Applying learner 'classif.rpart' on task 'penguins' (iter 2/3)\n",
      "INFO  [13:52:34.997] [mlr3] Applying learner 'classif.rpart' on task 'penguins' (iter 3/3)\n",
      "INFO  [13:52:35.005] [mlr3] Applying learner 'classif.rpart' on task 'penguins' (iter 1/3)\n",
      "INFO  [13:52:35.012] [mlr3] Applying learner 'classif.rpart' on task 'penguins' (iter 2/3)\n",
      "INFO  [13:52:35.018] [mlr3] Applying learner 'classif.rpart' on task 'penguins' (iter 3/3)\n",
      "INFO  [13:52:35.024] [mlr3] Applying learner 'classif.rpart' on task 'penguins' (iter 1/3)\n",
      "INFO  [13:52:35.030] [mlr3] Applying learner 'classif.rpart' on task 'penguins' (iter 2/3)\n",
      "INFO  [13:52:35.036] [mlr3] Applying learner 'classif.rpart' on task 'penguins' (iter 3/3)\n",
      "INFO  [13:52:35.042] [mlr3] Applying learner 'classif.rpart' on task 'penguins' (iter 1/3)\n",
      "INFO  [13:52:35.049] [mlr3] Applying learner 'classif.rpart' on task 'penguins' (iter 2/3)\n",
      "INFO  [13:52:35.056] [mlr3] Applying learner 'classif.rpart' on task 'penguins' (iter 3/3)\n",
      "INFO  [13:52:35.063] [mlr3] Applying learner 'classif.rpart' on task 'penguins' (iter 1/3)\n",
      "INFO  [13:52:35.069] [mlr3] Applying learner 'classif.rpart' on task 'penguins' (iter 2/3)\n",
      "INFO  [13:52:35.075] [mlr3] Applying learner 'classif.rpart' on task 'penguins' (iter 3/3)\n",
      "INFO  [13:52:35.084] [mlr3] Finished benchmark\n",
      "INFO  [13:52:35.146] [bbotk] Result of batch 1:\n",
      "INFO  [13:52:35.150] [bbotk]  bill_depth bill_length body_mass flipper_length island   sex  year classif.acc\n",
      "INFO  [13:52:35.150] [bbotk]        TRUE        TRUE      TRUE           TRUE  FALSE  TRUE  TRUE   0.9477244\n",
      "INFO  [13:52:35.150] [bbotk]        TRUE        TRUE      TRUE           TRUE   TRUE  TRUE  TRUE   0.9506229\n",
      "INFO  [13:52:35.150] [bbotk]        TRUE        TRUE      TRUE           TRUE   TRUE  TRUE FALSE   0.9506229\n",
      "INFO  [13:52:35.150] [bbotk]        TRUE       FALSE      TRUE          FALSE   TRUE FALSE  TRUE   0.8053394\n",
      "INFO  [13:52:35.150] [bbotk]        TRUE       FALSE      TRUE           TRUE  FALSE  TRUE FALSE   0.7936181\n",
      "INFO  [13:52:35.150] [bbotk]       FALSE        TRUE      TRUE           TRUE   TRUE FALSE FALSE   0.9447750\n",
      "INFO  [13:52:35.150] [bbotk]        TRUE       FALSE     FALSE          FALSE  FALSE FALSE FALSE   0.7355708\n",
      "INFO  [13:52:35.150] [bbotk]       FALSE        TRUE     FALSE          FALSE  FALSE FALSE FALSE   0.7501144\n",
      "INFO  [13:52:35.150] [bbotk]        TRUE        TRUE      TRUE           TRUE   TRUE  TRUE  TRUE   0.9506229\n",
      "INFO  [13:52:35.150] [bbotk]       FALSE       FALSE     FALSE          FALSE  FALSE  TRUE FALSE   0.4419273\n",
      "INFO  [13:52:35.150] [bbotk]  warnings errors runtime_learners                                uhash\n",
      "INFO  [13:52:35.150] [bbotk]         0      0            0.032 be72bdba-b0d2-47ee-a43e-0288d726ecab\n",
      "INFO  [13:52:35.150] [bbotk]         0      0            0.010 ea4dc37b-79a9-4126-8a65-e5b2317652a0\n",
      "INFO  [13:52:35.150] [bbotk]         0      0            0.008 c185a855-b26b-4331-a504-8b00de2f44b0\n",
      "INFO  [13:52:35.150] [bbotk]         0      0            0.006 480cc368-02cf-41cd-8ee8-a8cc5cdd2286\n",
      "INFO  [13:52:35.150] [bbotk]         0      0            0.008 29cb5fc0-da50-49e3-8070-d72dd450ffd2\n",
      "INFO  [13:52:35.150] [bbotk]         0      0            0.007 4bf06f3c-1f99-4d96-9c31-f3dfbded94dd\n",
      "INFO  [13:52:35.150] [bbotk]         0      0            0.007 8bce1194-3004-4139-a083-8fe5dc80ea94\n",
      "INFO  [13:52:35.150] [bbotk]         0      0            0.006 82edb7f0-c9e8-4fde-97f4-d4970522a1b5\n",
      "INFO  [13:52:35.150] [bbotk]         0      0            0.006 f3e06a1c-6d54-48e4-b350-50fba6f59cca\n",
      "INFO  [13:52:35.150] [bbotk]         0      0            0.006 13f4c5da-9c01-4c10-a192-c8bcf9ea2736\n",
      "INFO  [13:52:35.152] [bbotk] Evaluating 10 configuration(s)\n",
      "INFO  [13:52:35.170] [mlr3] Running benchmark with 30 resampling iterations\n",
      "INFO  [13:52:35.173] [mlr3] Applying learner 'classif.rpart' on task 'penguins' (iter 1/3)\n",
      "INFO  [13:52:35.180] [mlr3] Applying learner 'classif.rpart' on task 'penguins' (iter 2/3)\n",
      "INFO  [13:52:35.186] [mlr3] Applying learner 'classif.rpart' on task 'penguins' (iter 3/3)\n",
      "INFO  [13:52:35.192] [mlr3] Applying learner 'classif.rpart' on task 'penguins' (iter 1/3)\n",
      "INFO  [13:52:35.198] [mlr3] Applying learner 'classif.rpart' on task 'penguins' (iter 2/3)\n",
      "INFO  [13:52:35.204] [mlr3] Applying learner 'classif.rpart' on task 'penguins' (iter 3/3)\n",
      "INFO  [13:52:35.210] [mlr3] Applying learner 'classif.rpart' on task 'penguins' (iter 1/3)\n",
      "INFO  [13:52:35.216] [mlr3] Applying learner 'classif.rpart' on task 'penguins' (iter 2/3)\n",
      "INFO  [13:52:35.223] [mlr3] Applying learner 'classif.rpart' on task 'penguins' (iter 3/3)\n",
      "INFO  [13:52:35.230] [mlr3] Applying learner 'classif.rpart' on task 'penguins' (iter 1/3)\n",
      "INFO  [13:52:35.236] [mlr3] Applying learner 'classif.rpart' on task 'penguins' (iter 2/3)\n",
      "INFO  [13:52:35.242] [mlr3] Applying learner 'classif.rpart' on task 'penguins' (iter 3/3)\n",
      "INFO  [13:52:35.249] [mlr3] Applying learner 'classif.rpart' on task 'penguins' (iter 1/3)\n",
      "INFO  [13:52:35.255] [mlr3] Applying learner 'classif.rpart' on task 'penguins' (iter 2/3)\n",
      "INFO  [13:52:35.262] [mlr3] Applying learner 'classif.rpart' on task 'penguins' (iter 3/3)\n",
      "INFO  [13:52:35.268] [mlr3] Applying learner 'classif.rpart' on task 'penguins' (iter 1/3)\n",
      "INFO  [13:52:35.275] [mlr3] Applying learner 'classif.rpart' on task 'penguins' (iter 2/3)\n",
      "INFO  [13:52:35.281] [mlr3] Applying learner 'classif.rpart' on task 'penguins' (iter 3/3)\n",
      "INFO  [13:52:35.287] [mlr3] Applying learner 'classif.rpart' on task 'penguins' (iter 1/3)\n",
      "INFO  [13:52:35.294] [mlr3] Applying learner 'classif.rpart' on task 'penguins' (iter 2/3)\n",
      "INFO  [13:52:35.300] [mlr3] Applying learner 'classif.rpart' on task 'penguins' (iter 3/3)\n",
      "INFO  [13:52:35.306] [mlr3] Applying learner 'classif.rpart' on task 'penguins' (iter 1/3)\n",
      "INFO  [13:52:35.313] [mlr3] Applying learner 'classif.rpart' on task 'penguins' (iter 2/3)\n",
      "INFO  [13:52:35.319] [mlr3] Applying learner 'classif.rpart' on task 'penguins' (iter 3/3)\n",
      "INFO  [13:52:35.325] [mlr3] Applying learner 'classif.rpart' on task 'penguins' (iter 1/3)\n",
      "INFO  [13:52:35.332] [mlr3] Applying learner 'classif.rpart' on task 'penguins' (iter 2/3)\n",
      "INFO  [13:52:35.338] [mlr3] Applying learner 'classif.rpart' on task 'penguins' (iter 3/3)\n",
      "INFO  [13:52:35.345] [mlr3] Applying learner 'classif.rpart' on task 'penguins' (iter 1/3)\n",
      "INFO  [13:52:35.350] [mlr3] Applying learner 'classif.rpart' on task 'penguins' (iter 2/3)\n",
      "INFO  [13:52:35.356] [mlr3] Applying learner 'classif.rpart' on task 'penguins' (iter 3/3)\n",
      "INFO  [13:52:35.364] [mlr3] Finished benchmark\n",
      "INFO  [13:52:35.433] [bbotk] Result of batch 2:\n",
      "INFO  [13:52:35.435] [bbotk]  bill_depth bill_length body_mass flipper_length island   sex  year classif.acc\n",
      "INFO  [13:52:35.435] [bbotk]       FALSE       FALSE     FALSE          FALSE  FALSE  TRUE FALSE   0.4419273\n",
      "INFO  [13:52:35.435] [bbotk]       FALSE        TRUE     FALSE          FALSE  FALSE FALSE FALSE   0.7501144\n",
      "INFO  [13:52:35.435] [bbotk]        TRUE        TRUE     FALSE           TRUE   TRUE  TRUE FALSE   0.9506229\n",
      "INFO  [13:52:35.435] [bbotk]       FALSE       FALSE      TRUE           TRUE   TRUE FALSE  TRUE   0.8517162\n",
      "INFO  [13:52:35.435] [bbotk]       FALSE        TRUE      TRUE           TRUE   TRUE  TRUE  TRUE   0.9447750\n",
      "INFO  [13:52:35.435] [bbotk]        TRUE       FALSE      TRUE           TRUE  FALSE FALSE  TRUE   0.7936181\n",
      "INFO  [13:52:35.435] [bbotk]        TRUE        TRUE      TRUE           TRUE   TRUE  TRUE  TRUE   0.9506229\n",
      "INFO  [13:52:35.435] [bbotk]       FALSE       FALSE      TRUE           TRUE   TRUE FALSE FALSE   0.8517162\n",
      "INFO  [13:52:35.435] [bbotk]       FALSE        TRUE      TRUE           TRUE  FALSE  TRUE  TRUE   0.9418764\n",
      "INFO  [13:52:35.435] [bbotk]       FALSE       FALSE     FALSE          FALSE  FALSE FALSE  TRUE   0.4419273\n",
      "INFO  [13:52:35.435] [bbotk]  warnings errors runtime_learners                                uhash\n",
      "INFO  [13:52:35.435] [bbotk]         0      0            0.005 90202752-b40b-4e94-aa82-36116b3ad9d1\n",
      "INFO  [13:52:35.435] [bbotk]         0      0            0.007 8828bde6-b6b9-44a6-bf5e-f71c99d0f2db\n",
      "INFO  [13:52:35.435] [bbotk]         0      0            0.007 c656639d-bcda-4ac0-9aed-6e33059578f4\n",
      "INFO  [13:52:35.435] [bbotk]         0      0            0.006 2b176979-2d5d-4562-9f4e-4f63801a6197\n",
      "INFO  [13:52:35.435] [bbotk]         0      0            0.008 7dd3837b-0cb5-48b9-a6c7-b129ab84e51b\n",
      "INFO  [13:52:35.435] [bbotk]         0      0            0.006 18d51ab3-7992-4093-a74b-f0da912bef6c\n",
      "INFO  [13:52:35.435] [bbotk]         0      0            0.008 57ec2993-c7d2-45ae-a4f7-b540e70cc030\n",
      "INFO  [13:52:35.435] [bbotk]         0      0            0.006 4ffad5ea-e750-4714-9ae1-ac0e78465b7b\n",
      "INFO  [13:52:35.435] [bbotk]         0      0            0.006 03c6b2ce-d380-4a4f-bccc-1f150f112257\n",
      "INFO  [13:52:35.435] [bbotk]         0      0            0.005 95150daa-8cfa-4b01-aaaf-5741f7835cf2\n",
      "INFO  [13:52:35.443] [bbotk] Finished optimizing after 20 evaluation(s)\n",
      "INFO  [13:52:35.443] [bbotk] Result:\n",
      "INFO  [13:52:35.445] [bbotk]  bill_depth bill_length body_mass flipper_length island    sex   year\n",
      "INFO  [13:52:35.445] [bbotk]      <lgcl>      <lgcl>    <lgcl>         <lgcl> <lgcl> <lgcl> <lgcl>\n",
      "INFO  [13:52:35.445] [bbotk]        TRUE        TRUE     FALSE           TRUE   TRUE   TRUE  FALSE\n",
      "INFO  [13:52:35.445] [bbotk]                                          features n_features classif.acc\n",
      "INFO  [13:52:35.445] [bbotk]                                            <list>      <int>       <num>\n",
      "INFO  [13:52:35.445] [bbotk]  bill_depth,bill_length,flipper_length,island,sex          5   0.9506229\n"
     ]
    },
    {
     "data": {
      "text/html": [
       "<table class=\"dataframe\">\n",
       "<caption>A data.table: 1 x 10</caption>\n",
       "<thead>\n",
       "\t<tr><th scope=col>bill_depth</th><th scope=col>bill_length</th><th scope=col>body_mass</th><th scope=col>flipper_length</th><th scope=col>island</th><th scope=col>sex</th><th scope=col>year</th><th scope=col>features</th><th scope=col>n_features</th><th scope=col>classif.acc</th></tr>\n",
       "\t<tr><th scope=col>&lt;lgl&gt;</th><th scope=col>&lt;lgl&gt;</th><th scope=col>&lt;lgl&gt;</th><th scope=col>&lt;lgl&gt;</th><th scope=col>&lt;lgl&gt;</th><th scope=col>&lt;lgl&gt;</th><th scope=col>&lt;lgl&gt;</th><th scope=col>&lt;list&gt;</th><th scope=col>&lt;int&gt;</th><th scope=col>&lt;dbl&gt;</th></tr>\n",
       "</thead>\n",
       "<tbody>\n",
       "\t<tr><td>TRUE</td><td>TRUE</td><td>FALSE</td><td>TRUE</td><td>TRUE</td><td>TRUE</td><td>FALSE</td><td>bill_depth    , bill_length   , flipper_length, island        , sex           </td><td>5</td><td>0.9506229</td></tr>\n",
       "</tbody>\n",
       "</table>\n"
      ],
      "text/latex": [
       "A data.table: 1 x 10\n",
       "\\begin{tabular}{llllllllll}\n",
       " bill\\_depth & bill\\_length & body\\_mass & flipper\\_length & island & sex & year & features & n\\_features & classif.acc\\\\\n",
       " <lgl> & <lgl> & <lgl> & <lgl> & <lgl> & <lgl> & <lgl> & <list> & <int> & <dbl>\\\\\n",
       "\\hline\n",
       "\t TRUE & TRUE & FALSE & TRUE & TRUE & TRUE & FALSE & bill\\_depth    , bill\\_length   , flipper\\_length, island        , sex            & 5 & 0.9506229\\\\\n",
       "\\end{tabular}\n"
      ],
      "text/markdown": [
       "\n",
       "A data.table: 1 x 10\n",
       "\n",
       "| bill_depth &lt;lgl&gt; | bill_length &lt;lgl&gt; | body_mass &lt;lgl&gt; | flipper_length &lt;lgl&gt; | island &lt;lgl&gt; | sex &lt;lgl&gt; | year &lt;lgl&gt; | features &lt;list&gt; | n_features &lt;int&gt; | classif.acc &lt;dbl&gt; |\n",
       "|---|---|---|---|---|---|---|---|---|---|\n",
       "| TRUE | TRUE | FALSE | TRUE | TRUE | TRUE | FALSE | bill_depth    , bill_length   , flipper_length, island        , sex            | 5 | 0.9506229 |\n",
       "\n"
      ],
      "text/plain": [
       "  bill_depth bill_length body_mass flipper_length island sex  year \n",
       "1 TRUE       TRUE        FALSE     TRUE           TRUE   TRUE FALSE\n",
       "  features                                                                      \n",
       "1 bill_depth    , bill_length   , flipper_length, island        , sex           \n",
       "  n_features classif.acc\n",
       "1 5          0.9506229  "
      ]
     },
     "metadata": {},
     "output_type": "display_data"
    },
    {
     "data": {
      "text/html": [
       "<table class=\"dataframe\">\n",
       "<caption>A data.table: 1 x 2</caption>\n",
       "<thead>\n",
       "\t<tr><th scope=col>features</th><th scope=col>classif.acc</th></tr>\n",
       "\t<tr><th scope=col>&lt;list&gt;</th><th scope=col>&lt;dbl&gt;</th></tr>\n",
       "</thead>\n",
       "<tbody>\n",
       "\t<tr><td>bill_depth    , bill_length   , flipper_length, island        , sex           </td><td>0.9506229</td></tr>\n",
       "</tbody>\n",
       "</table>\n"
      ],
      "text/latex": [
       "A data.table: 1 x 2\n",
       "\\begin{tabular}{ll}\n",
       " features & classif.acc\\\\\n",
       " <list> & <dbl>\\\\\n",
       "\\hline\n",
       "\t bill\\_depth    , bill\\_length   , flipper\\_length, island        , sex            & 0.9506229\\\\\n",
       "\\end{tabular}\n"
      ],
      "text/markdown": [
       "\n",
       "A data.table: 1 x 2\n",
       "\n",
       "| features &lt;list&gt; | classif.acc &lt;dbl&gt; |\n",
       "|---|---|\n",
       "| bill_depth    , bill_length   , flipper_length, island        , sex            | 0.9506229 |\n",
       "\n"
      ],
      "text/plain": [
       "  features                                                                      \n",
       "1 bill_depth    , bill_length   , flipper_length, island        , sex           \n",
       "  classif.acc\n",
       "1 0.9506229  "
      ]
     },
     "metadata": {},
     "output_type": "display_data"
    }
   ],
   "source": [
    "tsk_pen <- tsk(\"penguins\")\n",
    "lrn_rpart <- lrn(\"classif.rpart\")\n",
    "\n",
    "instance <- fsi(\n",
    "  task = tsk_pen,\n",
    "  learner = lrn_rpart,\n",
    "  resampling = rsmp(\"cv\", folds = 3),\n",
    "  measure = msr(\"classif.acc\"),\n",
    "  terminator = trm(\"evals\", n_evals = 20)\n",
    ")\n",
    "\n",
    "fselect <- fs(\"random_search\")\n",
    "\n",
    "fselect$optimize(instance)\n",
    "\n",
    "as.data.table(instance$result)[, .(features, classif.acc)]\n",
    "\n",
    "# features                                                                      \n",
    "# 1 bill_depth    , bill_length   , flipper_length, island        , sex           \n",
    "#   classif.acc\n",
    "# 1 0.9506229"
   ]
  },
  {
   "cell_type": "code",
   "execution_count": null,
   "id": "91b1a3b7",
   "metadata": {
    "vscode": {
     "languageId": "r"
    }
   },
   "outputs": [
    {
     "name": "stdout",
     "output_type": "stream",
     "text": [
      "INFO  [14:02:06.848] [bbotk] Starting to optimize 7 parameter(s) with '<FSelectorBatchExhaustiveSearch>' and '<TerminatorEvals> [n_evals=20, k=0]'\n",
      "INFO  [14:02:06.852] [bbotk] Evaluating 10 configuration(s)\n",
      "INFO  [14:02:06.896] [mlr3] Running benchmark with 30 resampling iterations\n",
      "INFO  [14:02:06.909] [mlr3] Applying learner 'classif.rpart' on task 'penguins' (iter 1/3)\n",
      "INFO  [14:02:06.930] [mlr3] Applying learner 'classif.rpart' on task 'penguins' (iter 2/3)\n",
      "INFO  [14:02:06.945] [mlr3] Applying learner 'classif.rpart' on task 'penguins' (iter 3/3)\n",
      "INFO  [14:02:06.975] [mlr3] Applying learner 'classif.rpart' on task 'penguins' (iter 1/3)\n",
      "INFO  [14:02:06.990] [mlr3] Applying learner 'classif.rpart' on task 'penguins' (iter 2/3)\n",
      "INFO  [14:02:07.007] [mlr3] Applying learner 'classif.rpart' on task 'penguins' (iter 3/3)\n",
      "INFO  [14:02:07.018] [mlr3] Applying learner 'classif.rpart' on task 'penguins' (iter 1/3)\n",
      "INFO  [14:02:07.028] [mlr3] Applying learner 'classif.rpart' on task 'penguins' (iter 2/3)\n",
      "INFO  [14:02:07.041] [mlr3] Applying learner 'classif.rpart' on task 'penguins' (iter 3/3)\n",
      "INFO  [14:02:07.052] [mlr3] Applying learner 'classif.rpart' on task 'penguins' (iter 1/3)\n",
      "INFO  [14:02:07.069] [mlr3] Applying learner 'classif.rpart' on task 'penguins' (iter 2/3)\n",
      "INFO  [14:02:07.078] [mlr3] Applying learner 'classif.rpart' on task 'penguins' (iter 3/3)\n",
      "INFO  [14:02:07.087] [mlr3] Applying learner 'classif.rpart' on task 'penguins' (iter 1/3)\n",
      "INFO  [14:02:07.098] [mlr3] Applying learner 'classif.rpart' on task 'penguins' (iter 2/3)\n",
      "INFO  [14:02:07.109] [mlr3] Applying learner 'classif.rpart' on task 'penguins' (iter 3/3)\n",
      "INFO  [14:02:07.119] [mlr3] Applying learner 'classif.rpart' on task 'penguins' (iter 1/3)\n",
      "INFO  [14:02:07.128] [mlr3] Applying learner 'classif.rpart' on task 'penguins' (iter 2/3)\n",
      "INFO  [14:02:07.140] [mlr3] Applying learner 'classif.rpart' on task 'penguins' (iter 3/3)\n",
      "INFO  [14:02:07.151] [mlr3] Applying learner 'classif.rpart' on task 'penguins' (iter 1/3)\n",
      "INFO  [14:02:07.162] [mlr3] Applying learner 'classif.rpart' on task 'penguins' (iter 2/3)\n",
      "INFO  [14:02:07.171] [mlr3] Applying learner 'classif.rpart' on task 'penguins' (iter 3/3)\n",
      "INFO  [14:02:07.220] [mlr3] Applying learner 'classif.rpart' on task 'penguins' (iter 1/3)\n",
      "INFO  [14:02:07.239] [mlr3] Applying learner 'classif.rpart' on task 'penguins' (iter 2/3)\n",
      "INFO  [14:02:07.256] [mlr3] Applying learner 'classif.rpart' on task 'penguins' (iter 3/3)\n",
      "INFO  [14:02:07.265] [mlr3] Applying learner 'classif.rpart' on task 'penguins' (iter 1/3)\n",
      "INFO  [14:02:07.272] [mlr3] Applying learner 'classif.rpart' on task 'penguins' (iter 2/3)\n",
      "INFO  [14:02:07.280] [mlr3] Applying learner 'classif.rpart' on task 'penguins' (iter 3/3)\n",
      "INFO  [14:02:07.287] [mlr3] Applying learner 'classif.rpart' on task 'penguins' (iter 1/3)\n",
      "INFO  [14:02:07.296] [mlr3] Applying learner 'classif.rpart' on task 'penguins' (iter 2/3)\n",
      "INFO  [14:02:07.303] [mlr3] Applying learner 'classif.rpart' on task 'penguins' (iter 3/3)\n",
      "INFO  [14:02:07.313] [mlr3] Finished benchmark\n",
      "INFO  [14:02:07.394] [bbotk] Result of batch 1:\n",
      "INFO  [14:02:07.396] [bbotk]  bill_depth bill_length body_mass flipper_length island   sex  year classif.acc\n",
      "INFO  [14:02:07.396] [bbotk]        TRUE       FALSE     FALSE          FALSE  FALSE FALSE FALSE   0.7442665\n",
      "INFO  [14:02:07.396] [bbotk]       FALSE        TRUE     FALSE          FALSE  FALSE FALSE FALSE   0.7470887\n",
      "INFO  [14:02:07.396] [bbotk]       FALSE       FALSE      TRUE          FALSE  FALSE FALSE FALSE   0.7150775\n",
      "INFO  [14:02:07.396] [bbotk]       FALSE       FALSE     FALSE           TRUE  FALSE FALSE FALSE   0.7730994\n",
      "INFO  [14:02:07.396] [bbotk]       FALSE       FALSE     FALSE          FALSE   TRUE FALSE FALSE   0.6774218\n",
      "INFO  [14:02:07.396] [bbotk]       FALSE       FALSE     FALSE          FALSE  FALSE  TRUE FALSE   0.4038902\n",
      "INFO  [14:02:07.396] [bbotk]       FALSE       FALSE     FALSE          FALSE  FALSE FALSE  TRUE   0.4419019\n",
      "INFO  [14:02:07.396] [bbotk]        TRUE        TRUE     FALSE          FALSE  FALSE FALSE FALSE   0.9331554\n",
      "INFO  [14:02:07.396] [bbotk]        TRUE       FALSE      TRUE          FALSE  FALSE FALSE FALSE   0.7645817\n",
      "INFO  [14:02:07.396] [bbotk]        TRUE       FALSE     FALSE           TRUE  FALSE FALSE FALSE   0.7789728\n",
      "INFO  [14:02:07.396] [bbotk]  warnings errors runtime_learners                                uhash\n",
      "INFO  [14:02:07.396] [bbotk]         0      0            0.028 6a9b1829-2530-4e86-b176-38cbeeabcaa0\n",
      "INFO  [14:02:07.396] [bbotk]         0      0            0.013 f14d8945-2c3f-44b5-ae85-f657e347f7eb\n",
      "INFO  [14:02:07.396] [bbotk]         0      0            0.012 c9ede1ab-5c57-4e99-8fa6-7b53a08db815\n",
      "INFO  [14:02:07.396] [bbotk]         0      0            0.011 ff35f8c7-6677-44f6-9b47-8196c1cd2692\n",
      "INFO  [14:02:07.396] [bbotk]         0      0            0.011 1fd1281b-5a4d-44d8-a660-a969a1af6248\n",
      "INFO  [14:02:07.396] [bbotk]         0      0            0.008 c8ae153a-fe0c-44c8-ac03-7c681d294c30\n",
      "INFO  [14:02:07.396] [bbotk]         0      0            0.013 9c6562dd-5502-4642-902a-acf704ee55b8\n",
      "INFO  [14:02:07.396] [bbotk]         0      0            0.013 fbcb943c-cdc6-413d-8ef3-8aa569bc85a5\n",
      "INFO  [14:02:07.396] [bbotk]         0      0            0.007 94c1f0c7-8573-4417-87c1-b77d7bbd901e\n",
      "INFO  [14:02:07.396] [bbotk]         0      0            0.008 483a809f-f4f7-4edc-a72a-484281e1fb61\n",
      "INFO  [14:02:07.398] [bbotk] Evaluating 10 configuration(s)\n",
      "INFO  [14:02:07.414] [mlr3] Running benchmark with 30 resampling iterations\n",
      "INFO  [14:02:07.417] [mlr3] Applying learner 'classif.rpart' on task 'penguins' (iter 1/3)\n",
      "INFO  [14:02:07.426] [mlr3] Applying learner 'classif.rpart' on task 'penguins' (iter 2/3)\n",
      "INFO  [14:02:07.437] [mlr3] Applying learner 'classif.rpart' on task 'penguins' (iter 3/3)\n",
      "INFO  [14:02:07.444] [mlr3] Applying learner 'classif.rpart' on task 'penguins' (iter 1/3)\n",
      "INFO  [14:02:07.452] [mlr3] Applying learner 'classif.rpart' on task 'penguins' (iter 2/3)\n",
      "INFO  [14:02:07.460] [mlr3] Applying learner 'classif.rpart' on task 'penguins' (iter 3/3)\n",
      "INFO  [14:02:07.467] [mlr3] Applying learner 'classif.rpart' on task 'penguins' (iter 1/3)\n",
      "INFO  [14:02:07.474] [mlr3] Applying learner 'classif.rpart' on task 'penguins' (iter 2/3)\n",
      "INFO  [14:02:07.481] [mlr3] Applying learner 'classif.rpart' on task 'penguins' (iter 3/3)\n",
      "INFO  [14:02:07.490] [mlr3] Applying learner 'classif.rpart' on task 'penguins' (iter 1/3)\n",
      "INFO  [14:02:07.497] [mlr3] Applying learner 'classif.rpart' on task 'penguins' (iter 2/3)\n",
      "INFO  [14:02:07.504] [mlr3] Applying learner 'classif.rpart' on task 'penguins' (iter 3/3)\n",
      "INFO  [14:02:07.510] [mlr3] Applying learner 'classif.rpart' on task 'penguins' (iter 1/3)\n",
      "INFO  [14:02:07.517] [mlr3] Applying learner 'classif.rpart' on task 'penguins' (iter 2/3)\n",
      "INFO  [14:02:07.524] [mlr3] Applying learner 'classif.rpart' on task 'penguins' (iter 3/3)\n",
      "INFO  [14:02:07.531] [mlr3] Applying learner 'classif.rpart' on task 'penguins' (iter 1/3)\n",
      "INFO  [14:02:07.539] [mlr3] Applying learner 'classif.rpart' on task 'penguins' (iter 2/3)\n",
      "INFO  [14:02:07.546] [mlr3] Applying learner 'classif.rpart' on task 'penguins' (iter 3/3)\n",
      "INFO  [14:02:07.562] [mlr3] Applying learner 'classif.rpart' on task 'penguins' (iter 1/3)\n",
      "INFO  [14:02:07.574] [mlr3] Applying learner 'classif.rpart' on task 'penguins' (iter 2/3)\n",
      "INFO  [14:02:07.585] [mlr3] Applying learner 'classif.rpart' on task 'penguins' (iter 3/3)\n",
      "INFO  [14:02:07.592] [mlr3] Applying learner 'classif.rpart' on task 'penguins' (iter 1/3)\n",
      "INFO  [14:02:07.600] [mlr3] Applying learner 'classif.rpart' on task 'penguins' (iter 2/3)\n",
      "INFO  [14:02:07.607] [mlr3] Applying learner 'classif.rpart' on task 'penguins' (iter 3/3)\n",
      "INFO  [14:02:07.614] [mlr3] Applying learner 'classif.rpart' on task 'penguins' (iter 1/3)\n",
      "INFO  [14:02:07.620] [mlr3] Applying learner 'classif.rpart' on task 'penguins' (iter 2/3)\n",
      "INFO  [14:02:07.627] [mlr3] Applying learner 'classif.rpart' on task 'penguins' (iter 3/3)\n",
      "INFO  [14:02:07.634] [mlr3] Applying learner 'classif.rpart' on task 'penguins' (iter 1/3)\n",
      "INFO  [14:02:07.641] [mlr3] Applying learner 'classif.rpart' on task 'penguins' (iter 2/3)\n",
      "INFO  [14:02:07.648] [mlr3] Applying learner 'classif.rpart' on task 'penguins' (iter 3/3)\n",
      "INFO  [14:02:07.657] [mlr3] Finished benchmark\n",
      "INFO  [14:02:07.715] [bbotk] Result of batch 2:\n",
      "INFO  [14:02:07.717] [bbotk]  bill_depth bill_length body_mass flipper_length island   sex  year classif.acc\n",
      "INFO  [14:02:07.717] [bbotk]        TRUE       FALSE     FALSE          FALSE   TRUE FALSE FALSE   0.7993389\n",
      "INFO  [14:02:07.717] [bbotk]        TRUE       FALSE     FALSE          FALSE  FALSE  TRUE FALSE   0.7413425\n",
      "INFO  [14:02:07.717] [bbotk]        TRUE       FALSE     FALSE          FALSE  FALSE FALSE  TRUE   0.7442665\n",
      "INFO  [14:02:07.717] [bbotk]       FALSE        TRUE      TRUE          FALSE  FALSE FALSE FALSE   0.9185863\n",
      "INFO  [14:02:07.717] [bbotk]       FALSE        TRUE     FALSE           TRUE  FALSE FALSE FALSE   0.9447241\n",
      "INFO  [14:02:07.717] [bbotk]       FALSE        TRUE     FALSE          FALSE   TRUE FALSE FALSE   0.9447241\n",
      "INFO  [14:02:07.717] [bbotk]       FALSE        TRUE     FALSE          FALSE  FALSE  TRUE FALSE   0.7470887\n",
      "INFO  [14:02:07.717] [bbotk]       FALSE        TRUE     FALSE          FALSE  FALSE FALSE  TRUE   0.7470887\n",
      "INFO  [14:02:07.717] [bbotk]       FALSE       FALSE      TRUE           TRUE  FALSE FALSE FALSE   0.7935673\n",
      "INFO  [14:02:07.717] [bbotk]       FALSE       FALSE      TRUE          FALSE   TRUE FALSE FALSE   0.7644292\n",
      "INFO  [14:02:07.717] [bbotk]  warnings errors runtime_learners                                uhash\n",
      "INFO  [14:02:07.717] [bbotk]         0      0            0.007 17702f82-5709-4270-976f-627587cd962c\n",
      "INFO  [14:02:07.717] [bbotk]         0      0            0.009 1a526889-f527-4a1b-8e79-ea3c87fb4b21\n",
      "INFO  [14:02:07.717] [bbotk]         0      0            0.009 cca439de-2e35-4ca8-999c-39d03e6db7b9\n",
      "INFO  [14:02:07.717] [bbotk]         0      0            0.007 c4dbce76-eb0c-4569-8e24-1d8fe1941381\n",
      "INFO  [14:02:07.717] [bbotk]         0      0            0.007 f7571167-592e-4f41-a5cf-c269381674bc\n",
      "INFO  [14:02:07.717] [bbotk]         0      0            0.013 b4d60f9e-8325-4635-9730-9b592edd4825\n",
      "INFO  [14:02:07.717] [bbotk]         0      0            0.011 6f09dcbc-46e9-4ca9-b21b-a12632ff3df4\n",
      "INFO  [14:02:07.717] [bbotk]         0      0            0.007 a83a9f0c-c6b1-4efb-b3f9-6456b13b8783\n",
      "INFO  [14:02:07.717] [bbotk]         0      0            0.005 76161132-57df-49f4-9a3a-db743123d69d\n",
      "INFO  [14:02:07.717] [bbotk]         0      0            0.007 cca841dc-3c14-46c8-8063-159e5261e81a\n",
      "INFO  [14:02:07.724] [bbotk] Finished optimizing after 20 evaluation(s)\n",
      "INFO  [14:02:07.725] [bbotk] Result:\n",
      "INFO  [14:02:07.726] [bbotk]  bill_depth bill_length body_mass flipper_length island    sex   year\n",
      "INFO  [14:02:07.726] [bbotk]      <lgcl>      <lgcl>    <lgcl>         <lgcl> <lgcl> <lgcl> <lgcl>\n",
      "INFO  [14:02:07.726] [bbotk]       FALSE        TRUE     FALSE           TRUE  FALSE  FALSE  FALSE\n",
      "INFO  [14:02:07.726] [bbotk]                    features n_features classif.acc\n",
      "INFO  [14:02:07.726] [bbotk]                      <list>      <int>       <num>\n",
      "INFO  [14:02:07.726] [bbotk]  bill_length,flipper_length          2   0.9447241\n"
     ]
    },
    {
     "data": {
      "text/html": [
       "<table class=\"dataframe\">\n",
       "<caption>A data.table: 1 x 10</caption>\n",
       "<thead>\n",
       "\t<tr><th scope=col>bill_depth</th><th scope=col>bill_length</th><th scope=col>body_mass</th><th scope=col>flipper_length</th><th scope=col>island</th><th scope=col>sex</th><th scope=col>year</th><th scope=col>features</th><th scope=col>n_features</th><th scope=col>classif.acc</th></tr>\n",
       "\t<tr><th scope=col>&lt;lgl&gt;</th><th scope=col>&lt;lgl&gt;</th><th scope=col>&lt;lgl&gt;</th><th scope=col>&lt;lgl&gt;</th><th scope=col>&lt;lgl&gt;</th><th scope=col>&lt;lgl&gt;</th><th scope=col>&lt;lgl&gt;</th><th scope=col>&lt;list&gt;</th><th scope=col>&lt;int&gt;</th><th scope=col>&lt;dbl&gt;</th></tr>\n",
       "</thead>\n",
       "<tbody>\n",
       "\t<tr><td>FALSE</td><td>TRUE</td><td>FALSE</td><td>TRUE</td><td>FALSE</td><td>FALSE</td><td>FALSE</td><td>bill_length   , flipper_length</td><td>2</td><td>0.9447241</td></tr>\n",
       "</tbody>\n",
       "</table>\n"
      ],
      "text/latex": [
       "A data.table: 1 x 10\n",
       "\\begin{tabular}{llllllllll}\n",
       " bill\\_depth & bill\\_length & body\\_mass & flipper\\_length & island & sex & year & features & n\\_features & classif.acc\\\\\n",
       " <lgl> & <lgl> & <lgl> & <lgl> & <lgl> & <lgl> & <lgl> & <list> & <int> & <dbl>\\\\\n",
       "\\hline\n",
       "\t FALSE & TRUE & FALSE & TRUE & FALSE & FALSE & FALSE & bill\\_length   , flipper\\_length & 2 & 0.9447241\\\\\n",
       "\\end{tabular}\n"
      ],
      "text/markdown": [
       "\n",
       "A data.table: 1 x 10\n",
       "\n",
       "| bill_depth &lt;lgl&gt; | bill_length &lt;lgl&gt; | body_mass &lt;lgl&gt; | flipper_length &lt;lgl&gt; | island &lt;lgl&gt; | sex &lt;lgl&gt; | year &lt;lgl&gt; | features &lt;list&gt; | n_features &lt;int&gt; | classif.acc &lt;dbl&gt; |\n",
       "|---|---|---|---|---|---|---|---|---|---|\n",
       "| FALSE | TRUE | FALSE | TRUE | FALSE | FALSE | FALSE | bill_length   , flipper_length | 2 | 0.9447241 |\n",
       "\n"
      ],
      "text/plain": [
       "  bill_depth bill_length body_mass flipper_length island sex   year \n",
       "1 FALSE      TRUE        FALSE     TRUE           FALSE  FALSE FALSE\n",
       "  features                       n_features classif.acc\n",
       "1 bill_length   , flipper_length 2          0.9447241  "
      ]
     },
     "metadata": {},
     "output_type": "display_data"
    },
    {
     "data": {
      "text/html": [
       "<table class=\"dataframe\">\n",
       "<caption>A data.table: 1 x 2</caption>\n",
       "<thead>\n",
       "\t<tr><th scope=col>features</th><th scope=col>classif.acc</th></tr>\n",
       "\t<tr><th scope=col>&lt;list&gt;</th><th scope=col>&lt;dbl&gt;</th></tr>\n",
       "</thead>\n",
       "<tbody>\n",
       "\t<tr><td>bill_length   , flipper_length</td><td>0.9447241</td></tr>\n",
       "</tbody>\n",
       "</table>\n"
      ],
      "text/latex": [
       "A data.table: 1 x 2\n",
       "\\begin{tabular}{ll}\n",
       " features & classif.acc\\\\\n",
       " <list> & <dbl>\\\\\n",
       "\\hline\n",
       "\t bill\\_length   , flipper\\_length & 0.9447241\\\\\n",
       "\\end{tabular}\n"
      ],
      "text/markdown": [
       "\n",
       "A data.table: 1 x 2\n",
       "\n",
       "| features &lt;list&gt; | classif.acc &lt;dbl&gt; |\n",
       "|---|---|\n",
       "| bill_length   , flipper_length | 0.9447241 |\n",
       "\n"
      ],
      "text/plain": [
       "  features                       classif.acc\n",
       "1 bill_length   , flipper_length 0.9447241  "
      ]
     },
     "metadata": {},
     "output_type": "display_data"
    }
   ],
   "source": [
    "tsk_pen <- tsk(\"penguins\")\n",
    "lrn_rpart <- lrn(\"classif.rpart\")\n",
    "\n",
    "instance <- fsi(\n",
    "  task = tsk_pen,\n",
    "  learner = lrn_rpart,\n",
    "  resampling = rsmp(\"cv\", folds = 3),\n",
    "  measure = msr(\"classif.acc\"),\n",
    "  terminator = trm(\"evals\", n_evals = 20)\n",
    ")\n",
    "\n",
    "fselect <- fs(\"exhaustive_search\")\n",
    "\n",
    "fselect$optimize(instance)\n",
    "\n",
    "as.data.table(instance$result)[, .(features, classif.acc)]\n",
    "\n",
    "# features                       classif.acc\n",
    "# 1 bill_length   , flipper_length 0.9447241"
   ]
  },
  {
   "cell_type": "code",
   "execution_count": null,
   "id": "e8c766a5",
   "metadata": {
    "vscode": {
     "languageId": "r"
    }
   },
   "outputs": [
    {
     "name": "stdout",
     "output_type": "stream",
     "text": [
      "INFO  [14:04:19.283] [bbotk] Starting to optimize 7 parameter(s) with '<FSelectorBatchSequential>' and '<TerminatorEvals> [n_evals=20, k=0]'\n",
      "INFO  [14:04:19.286] [bbotk] Evaluating 7 configuration(s)\n",
      "INFO  [14:04:19.410] [mlr3] Running benchmark with 21 resampling iterations\n",
      "INFO  [14:04:19.418] [mlr3] Applying learner 'classif.rpart' on task 'penguins' (iter 1/3)\n",
      "INFO  [14:04:19.436] [mlr3] Applying learner 'classif.rpart' on task 'penguins' (iter 2/3)\n",
      "INFO  [14:04:19.446] [mlr3] Applying learner 'classif.rpart' on task 'penguins' (iter 3/3)\n",
      "INFO  [14:04:19.453] [mlr3] Applying learner 'classif.rpart' on task 'penguins' (iter 1/3)\n",
      "INFO  [14:04:19.459] [mlr3] Applying learner 'classif.rpart' on task 'penguins' (iter 2/3)\n",
      "INFO  [14:04:19.466] [mlr3] Applying learner 'classif.rpart' on task 'penguins' (iter 3/3)\n",
      "INFO  [14:04:19.473] [mlr3] Applying learner 'classif.rpart' on task 'penguins' (iter 1/3)\n",
      "INFO  [14:04:19.481] [mlr3] Applying learner 'classif.rpart' on task 'penguins' (iter 2/3)\n",
      "INFO  [14:04:19.487] [mlr3] Applying learner 'classif.rpart' on task 'penguins' (iter 3/3)\n",
      "INFO  [14:04:19.494] [mlr3] Applying learner 'classif.rpart' on task 'penguins' (iter 1/3)\n",
      "INFO  [14:04:19.501] [mlr3] Applying learner 'classif.rpart' on task 'penguins' (iter 2/3)\n",
      "INFO  [14:04:19.507] [mlr3] Applying learner 'classif.rpart' on task 'penguins' (iter 3/3)\n",
      "INFO  [14:04:19.522] [mlr3] Applying learner 'classif.rpart' on task 'penguins' (iter 1/3)\n",
      "INFO  [14:04:19.529] [mlr3] Applying learner 'classif.rpart' on task 'penguins' (iter 2/3)\n",
      "INFO  [14:04:19.536] [mlr3] Applying learner 'classif.rpart' on task 'penguins' (iter 3/3)\n",
      "INFO  [14:04:19.544] [mlr3] Applying learner 'classif.rpart' on task 'penguins' (iter 1/3)\n",
      "INFO  [14:04:19.553] [mlr3] Applying learner 'classif.rpart' on task 'penguins' (iter 2/3)\n",
      "INFO  [14:04:19.562] [mlr3] Applying learner 'classif.rpart' on task 'penguins' (iter 3/3)\n",
      "INFO  [14:04:19.570] [mlr3] Applying learner 'classif.rpart' on task 'penguins' (iter 1/3)\n",
      "INFO  [14:04:19.580] [mlr3] Applying learner 'classif.rpart' on task 'penguins' (iter 2/3)\n",
      "INFO  [14:04:19.587] [mlr3] Applying learner 'classif.rpart' on task 'penguins' (iter 3/3)\n",
      "INFO  [14:04:19.596] [mlr3] Finished benchmark\n",
      "INFO  [14:04:19.640] [bbotk] Result of batch 1:\n",
      "INFO  [14:04:19.642] [bbotk]  bill_depth bill_length body_mass flipper_length island   sex  year classif.acc\n",
      "INFO  [14:04:19.642] [bbotk]        TRUE       FALSE     FALSE          FALSE  FALSE FALSE FALSE   0.7470633\n",
      "INFO  [14:04:19.642] [bbotk]       FALSE        TRUE     FALSE          FALSE  FALSE FALSE FALSE   0.7471396\n",
      "INFO  [14:04:19.642] [bbotk]       FALSE       FALSE      TRUE          FALSE  FALSE FALSE FALSE   0.6977117\n",
      "INFO  [14:04:19.642] [bbotk]       FALSE       FALSE     FALSE           TRUE  FALSE FALSE FALSE   0.7760742\n",
      "INFO  [14:04:19.642] [bbotk]       FALSE       FALSE     FALSE          FALSE   TRUE FALSE FALSE   0.6744216\n",
      "INFO  [14:04:19.642] [bbotk]       FALSE       FALSE     FALSE          FALSE  FALSE  TRUE FALSE   0.4419019\n",
      "INFO  [14:04:19.642] [bbotk]       FALSE       FALSE     FALSE          FALSE  FALSE FALSE  TRUE   0.4155861\n",
      "INFO  [14:04:19.642] [bbotk]  warnings errors runtime_learners                                uhash\n",
      "INFO  [14:04:19.642] [bbotk]         0      0            0.010 b800b844-ac2a-4832-b79d-16790d4d1073\n",
      "INFO  [14:04:19.642] [bbotk]         0      0            0.006 0f2df8b3-f101-4c36-baab-d7efb110f9ee\n",
      "INFO  [14:04:19.642] [bbotk]         0      0            0.007 9c1eafcc-8ea5-4fb9-ba84-2bd6716da5e4\n",
      "INFO  [14:04:19.642] [bbotk]         0      0            0.009 9701163c-11d8-4654-9d96-42a37aef1949\n",
      "INFO  [14:04:19.642] [bbotk]         0      0            0.005 dbfa794f-393f-43aa-84d5-36ddd06d4d3d\n",
      "INFO  [14:04:19.642] [bbotk]         0      0            0.009 2f498789-592b-4dfe-9fbc-9615cd12e987\n",
      "INFO  [14:04:19.642] [bbotk]         0      0            0.004 f0d225ff-9048-4ea8-b3ec-e60d1f01f9ad\n",
      "INFO  [14:04:19.646] [bbotk] Evaluating 6 configuration(s)\n",
      "INFO  [14:04:19.654] [mlr3] Running benchmark with 18 resampling iterations\n",
      "INFO  [14:04:19.657] [mlr3] Applying learner 'classif.rpart' on task 'penguins' (iter 1/3)\n",
      "INFO  [14:04:19.663] [mlr3] Applying learner 'classif.rpart' on task 'penguins' (iter 2/3)\n",
      "INFO  [14:04:19.670] [mlr3] Applying learner 'classif.rpart' on task 'penguins' (iter 3/3)\n",
      "INFO  [14:04:19.677] [mlr3] Applying learner 'classif.rpart' on task 'penguins' (iter 1/3)\n",
      "INFO  [14:04:19.685] [mlr3] Applying learner 'classif.rpart' on task 'penguins' (iter 2/3)\n",
      "INFO  [14:04:19.701] [mlr3] Applying learner 'classif.rpart' on task 'penguins' (iter 3/3)\n",
      "INFO  [14:04:19.712] [mlr3] Applying learner 'classif.rpart' on task 'penguins' (iter 1/3)\n",
      "INFO  [14:04:19.722] [mlr3] Applying learner 'classif.rpart' on task 'penguins' (iter 2/3)\n",
      "INFO  [14:04:19.729] [mlr3] Applying learner 'classif.rpart' on task 'penguins' (iter 3/3)\n",
      "INFO  [14:04:19.735] [mlr3] Applying learner 'classif.rpart' on task 'penguins' (iter 1/3)\n",
      "INFO  [14:04:19.741] [mlr3] Applying learner 'classif.rpart' on task 'penguins' (iter 2/3)\n",
      "INFO  [14:04:19.748] [mlr3] Applying learner 'classif.rpart' on task 'penguins' (iter 3/3)\n",
      "INFO  [14:04:19.754] [mlr3] Applying learner 'classif.rpart' on task 'penguins' (iter 1/3)\n",
      "INFO  [14:04:19.760] [mlr3] Applying learner 'classif.rpart' on task 'penguins' (iter 2/3)\n",
      "INFO  [14:04:19.766] [mlr3] Applying learner 'classif.rpart' on task 'penguins' (iter 3/3)\n",
      "INFO  [14:04:19.772] [mlr3] Applying learner 'classif.rpart' on task 'penguins' (iter 1/3)\n",
      "INFO  [14:04:19.778] [mlr3] Applying learner 'classif.rpart' on task 'penguins' (iter 2/3)\n",
      "INFO  [14:04:19.784] [mlr3] Applying learner 'classif.rpart' on task 'penguins' (iter 3/3)\n",
      "INFO  [14:04:19.790] [mlr3] Finished benchmark\n",
      "INFO  [14:04:19.825] [bbotk] Result of batch 2:\n",
      "INFO  [14:04:19.826] [bbotk]  bill_depth bill_length body_mass flipper_length island   sex  year classif.acc\n",
      "INFO  [14:04:19.826] [bbotk]        TRUE       FALSE     FALSE           TRUE  FALSE FALSE FALSE   0.7760742\n",
      "INFO  [14:04:19.826] [bbotk]       FALSE        TRUE     FALSE           TRUE  FALSE FALSE FALSE   0.9331299\n",
      "INFO  [14:04:19.826] [bbotk]       FALSE       FALSE      TRUE           TRUE  FALSE FALSE FALSE   0.7848207\n",
      "INFO  [14:04:19.826] [bbotk]       FALSE       FALSE     FALSE           TRUE   TRUE FALSE FALSE   0.8372489\n",
      "INFO  [14:04:19.826] [bbotk]       FALSE       FALSE     FALSE           TRUE  FALSE  TRUE FALSE   0.8023900\n",
      "INFO  [14:04:19.826] [bbotk]       FALSE       FALSE     FALSE           TRUE  FALSE FALSE  TRUE   0.7789728\n",
      "INFO  [14:04:19.826] [bbotk]  warnings errors runtime_learners                                uhash\n",
      "INFO  [14:04:19.826] [bbotk]         0      0            0.006 bf771705-db75-45cc-81c8-b39758618d14\n",
      "INFO  [14:04:19.826] [bbotk]         0      0            0.012 11442ac2-898c-46c7-9242-9c472156fee5\n",
      "INFO  [14:04:19.826] [bbotk]         0      0            0.007 07e24c5a-38b7-4d73-ae9b-75700dc52e06\n",
      "INFO  [14:04:19.826] [bbotk]         0      0            0.005 45f03d7c-277f-4535-8b96-26dfbec9394b\n",
      "INFO  [14:04:19.826] [bbotk]         0      0            0.006 91f1a821-0794-46ee-a7db-bb174c825f46\n",
      "INFO  [14:04:19.826] [bbotk]         0      0            0.006 fb76aa61-24a4-4877-b5ce-aec23951c2f7\n",
      "INFO  [14:04:19.830] [bbotk] Evaluating 5 configuration(s)\n",
      "INFO  [14:04:19.837] [mlr3] Running benchmark with 15 resampling iterations\n",
      "INFO  [14:04:19.840] [mlr3] Applying learner 'classif.rpart' on task 'penguins' (iter 1/3)\n",
      "INFO  [14:04:19.846] [mlr3] Applying learner 'classif.rpart' on task 'penguins' (iter 2/3)\n",
      "INFO  [14:04:19.852] [mlr3] Applying learner 'classif.rpart' on task 'penguins' (iter 3/3)\n",
      "INFO  [14:04:19.859] [mlr3] Applying learner 'classif.rpart' on task 'penguins' (iter 1/3)\n",
      "INFO  [14:04:19.866] [mlr3] Applying learner 'classif.rpart' on task 'penguins' (iter 2/3)\n",
      "INFO  [14:04:19.872] [mlr3] Applying learner 'classif.rpart' on task 'penguins' (iter 3/3)\n",
      "INFO  [14:04:19.878] [mlr3] Applying learner 'classif.rpart' on task 'penguins' (iter 1/3)\n",
      "INFO  [14:04:19.884] [mlr3] Applying learner 'classif.rpart' on task 'penguins' (iter 2/3)\n",
      "INFO  [14:04:19.890] [mlr3] Applying learner 'classif.rpart' on task 'penguins' (iter 3/3)\n",
      "INFO  [14:04:19.897] [mlr3] Applying learner 'classif.rpart' on task 'penguins' (iter 1/3)\n",
      "INFO  [14:04:19.903] [mlr3] Applying learner 'classif.rpart' on task 'penguins' (iter 2/3)\n",
      "INFO  [14:04:19.909] [mlr3] Applying learner 'classif.rpart' on task 'penguins' (iter 3/3)\n",
      "INFO  [14:04:19.915] [mlr3] Applying learner 'classif.rpart' on task 'penguins' (iter 1/3)\n",
      "INFO  [14:04:19.921] [mlr3] Applying learner 'classif.rpart' on task 'penguins' (iter 2/3)\n",
      "INFO  [14:04:19.928] [mlr3] Applying learner 'classif.rpart' on task 'penguins' (iter 3/3)\n",
      "INFO  [14:04:19.936] [mlr3] Finished benchmark\n",
      "INFO  [14:04:19.981] [bbotk] Result of batch 3:\n",
      "INFO  [14:04:19.983] [bbotk]  bill_depth bill_length body_mass flipper_length island   sex  year classif.acc\n",
      "INFO  [14:04:19.983] [bbotk]        TRUE        TRUE     FALSE           TRUE  FALSE FALSE FALSE   0.9331299\n",
      "INFO  [14:04:19.983] [bbotk]       FALSE        TRUE      TRUE           TRUE  FALSE FALSE FALSE   0.9331299\n",
      "INFO  [14:04:19.983] [bbotk]       FALSE        TRUE     FALSE           TRUE   TRUE FALSE FALSE   0.9360539\n",
      "INFO  [14:04:19.983] [bbotk]       FALSE        TRUE     FALSE           TRUE  FALSE  TRUE FALSE   0.9331299\n",
      "INFO  [14:04:19.983] [bbotk]       FALSE        TRUE     FALSE           TRUE  FALSE FALSE  TRUE   0.9331299\n",
      "INFO  [14:04:19.983] [bbotk]  warnings errors runtime_learners                                uhash\n",
      "INFO  [14:04:19.983] [bbotk]         0      0            0.006 85ce722a-2fcd-47f2-b827-b121a0348d29\n",
      "INFO  [14:04:19.983] [bbotk]         0      0            0.006 520dfa8c-4b8b-4219-b63e-ac5238304510\n",
      "INFO  [14:04:19.983] [bbotk]         0      0            0.006 91c9250c-bb55-4a54-ad88-3e1b99d2b5e8\n",
      "INFO  [14:04:19.983] [bbotk]         0      0            0.006 01d662cc-a444-4b13-9efa-38a0a2b7b0aa\n",
      "INFO  [14:04:19.983] [bbotk]         0      0            0.006 7f5a0ace-f110-46b1-b286-84f00447e661\n",
      "INFO  [14:04:19.987] [bbotk] Evaluating 4 configuration(s)\n",
      "INFO  [14:04:19.993] [mlr3] Running benchmark with 12 resampling iterations\n",
      "INFO  [14:04:19.995] [mlr3] Applying learner 'classif.rpart' on task 'penguins' (iter 1/3)\n",
      "INFO  [14:04:20.002] [mlr3] Applying learner 'classif.rpart' on task 'penguins' (iter 2/3)\n",
      "INFO  [14:04:20.008] [mlr3] Applying learner 'classif.rpart' on task 'penguins' (iter 3/3)\n",
      "INFO  [14:04:20.014] [mlr3] Applying learner 'classif.rpart' on task 'penguins' (iter 1/3)\n",
      "INFO  [14:04:20.020] [mlr3] Applying learner 'classif.rpart' on task 'penguins' (iter 2/3)\n",
      "INFO  [14:04:20.027] [mlr3] Applying learner 'classif.rpart' on task 'penguins' (iter 3/3)\n",
      "INFO  [14:04:20.033] [mlr3] Applying learner 'classif.rpart' on task 'penguins' (iter 1/3)\n",
      "INFO  [14:04:20.039] [mlr3] Applying learner 'classif.rpart' on task 'penguins' (iter 2/3)\n",
      "INFO  [14:04:20.045] [mlr3] Applying learner 'classif.rpart' on task 'penguins' (iter 3/3)\n",
      "INFO  [14:04:20.051] [mlr3] Applying learner 'classif.rpart' on task 'penguins' (iter 1/3)\n",
      "INFO  [14:04:20.058] [mlr3] Applying learner 'classif.rpart' on task 'penguins' (iter 2/3)\n",
      "INFO  [14:04:20.064] [mlr3] Applying learner 'classif.rpart' on task 'penguins' (iter 3/3)\n",
      "INFO  [14:04:20.071] [mlr3] Finished benchmark\n",
      "INFO  [14:04:20.098] [bbotk] Result of batch 4:\n",
      "INFO  [14:04:20.100] [bbotk]  bill_depth bill_length body_mass flipper_length island   sex  year classif.acc\n",
      "INFO  [14:04:20.100] [bbotk]        TRUE        TRUE     FALSE           TRUE   TRUE FALSE FALSE   0.9360539\n",
      "INFO  [14:04:20.100] [bbotk]       FALSE        TRUE      TRUE           TRUE   TRUE FALSE FALSE   0.9360539\n",
      "INFO  [14:04:20.100] [bbotk]       FALSE        TRUE     FALSE           TRUE   TRUE  TRUE FALSE   0.9360539\n",
      "INFO  [14:04:20.100] [bbotk]       FALSE        TRUE     FALSE           TRUE   TRUE FALSE  TRUE   0.9360539\n",
      "INFO  [14:04:20.100] [bbotk]  warnings errors runtime_learners                                uhash\n",
      "INFO  [14:04:20.100] [bbotk]         0      0            0.007 55d22682-0103-44b9-9014-7f93d2673b86\n",
      "INFO  [14:04:20.100] [bbotk]         0      0            0.005 6601f2a5-64d6-4f9e-8be9-dad97eba5bb6\n",
      "INFO  [14:04:20.100] [bbotk]         0      0            0.006 f6bfcc8e-6031-4324-b278-7ad75f20f9d2\n",
      "INFO  [14:04:20.100] [bbotk]         0      0            0.007 dcaa7a2e-c33f-4ef2-b9bd-cd38f852cb46\n",
      "INFO  [14:04:20.110] [bbotk] Finished optimizing after 22 evaluation(s)\n",
      "INFO  [14:04:20.110] [bbotk] Result:\n",
      "INFO  [14:04:20.111] [bbotk]  bill_depth bill_length body_mass flipper_length island    sex   year\n",
      "INFO  [14:04:20.111] [bbotk]      <lgcl>      <lgcl>    <lgcl>         <lgcl> <lgcl> <lgcl> <lgcl>\n",
      "INFO  [14:04:20.111] [bbotk]       FALSE        TRUE     FALSE           TRUE   TRUE  FALSE  FALSE\n",
      "INFO  [14:04:20.111] [bbotk]                           features n_features classif.acc\n",
      "INFO  [14:04:20.111] [bbotk]                             <list>      <int>       <num>\n",
      "INFO  [14:04:20.111] [bbotk]  bill_length,flipper_length,island          3   0.9360539\n"
     ]
    },
    {
     "data": {
      "text/html": [
       "<table class=\"dataframe\">\n",
       "<caption>A data.table: 1 x 10</caption>\n",
       "<thead>\n",
       "\t<tr><th scope=col>bill_depth</th><th scope=col>bill_length</th><th scope=col>body_mass</th><th scope=col>flipper_length</th><th scope=col>island</th><th scope=col>sex</th><th scope=col>year</th><th scope=col>features</th><th scope=col>n_features</th><th scope=col>classif.acc</th></tr>\n",
       "\t<tr><th scope=col>&lt;lgl&gt;</th><th scope=col>&lt;lgl&gt;</th><th scope=col>&lt;lgl&gt;</th><th scope=col>&lt;lgl&gt;</th><th scope=col>&lt;lgl&gt;</th><th scope=col>&lt;lgl&gt;</th><th scope=col>&lt;lgl&gt;</th><th scope=col>&lt;list&gt;</th><th scope=col>&lt;int&gt;</th><th scope=col>&lt;dbl&gt;</th></tr>\n",
       "</thead>\n",
       "<tbody>\n",
       "\t<tr><td>FALSE</td><td>TRUE</td><td>FALSE</td><td>TRUE</td><td>TRUE</td><td>FALSE</td><td>FALSE</td><td>bill_length   , flipper_length, island        </td><td>3</td><td>0.9360539</td></tr>\n",
       "</tbody>\n",
       "</table>\n"
      ],
      "text/latex": [
       "A data.table: 1 x 10\n",
       "\\begin{tabular}{llllllllll}\n",
       " bill\\_depth & bill\\_length & body\\_mass & flipper\\_length & island & sex & year & features & n\\_features & classif.acc\\\\\n",
       " <lgl> & <lgl> & <lgl> & <lgl> & <lgl> & <lgl> & <lgl> & <list> & <int> & <dbl>\\\\\n",
       "\\hline\n",
       "\t FALSE & TRUE & FALSE & TRUE & TRUE & FALSE & FALSE & bill\\_length   , flipper\\_length, island         & 3 & 0.9360539\\\\\n",
       "\\end{tabular}\n"
      ],
      "text/markdown": [
       "\n",
       "A data.table: 1 x 10\n",
       "\n",
       "| bill_depth &lt;lgl&gt; | bill_length &lt;lgl&gt; | body_mass &lt;lgl&gt; | flipper_length &lt;lgl&gt; | island &lt;lgl&gt; | sex &lt;lgl&gt; | year &lt;lgl&gt; | features &lt;list&gt; | n_features &lt;int&gt; | classif.acc &lt;dbl&gt; |\n",
       "|---|---|---|---|---|---|---|---|---|---|\n",
       "| FALSE | TRUE | FALSE | TRUE | TRUE | FALSE | FALSE | bill_length   , flipper_length, island         | 3 | 0.9360539 |\n",
       "\n"
      ],
      "text/plain": [
       "  bill_depth bill_length body_mass flipper_length island sex   year \n",
       "1 FALSE      TRUE        FALSE     TRUE           TRUE   FALSE FALSE\n",
       "  features                                       n_features classif.acc\n",
       "1 bill_length   , flipper_length, island         3          0.9360539  "
      ]
     },
     "metadata": {},
     "output_type": "display_data"
    },
    {
     "data": {
      "text/html": [
       "<table class=\"dataframe\">\n",
       "<caption>A data.table: 1 x 2</caption>\n",
       "<thead>\n",
       "\t<tr><th scope=col>features</th><th scope=col>classif.acc</th></tr>\n",
       "\t<tr><th scope=col>&lt;list&gt;</th><th scope=col>&lt;dbl&gt;</th></tr>\n",
       "</thead>\n",
       "<tbody>\n",
       "\t<tr><td>bill_length   , flipper_length, island        </td><td>0.9360539</td></tr>\n",
       "</tbody>\n",
       "</table>\n"
      ],
      "text/latex": [
       "A data.table: 1 x 2\n",
       "\\begin{tabular}{ll}\n",
       " features & classif.acc\\\\\n",
       " <list> & <dbl>\\\\\n",
       "\\hline\n",
       "\t bill\\_length   , flipper\\_length, island         & 0.9360539\\\\\n",
       "\\end{tabular}\n"
      ],
      "text/markdown": [
       "\n",
       "A data.table: 1 x 2\n",
       "\n",
       "| features &lt;list&gt; | classif.acc &lt;dbl&gt; |\n",
       "|---|---|\n",
       "| bill_length   , flipper_length, island         | 0.9360539 |\n",
       "\n"
      ],
      "text/plain": [
       "  features                                       classif.acc\n",
       "1 bill_length   , flipper_length, island         0.9360539  "
      ]
     },
     "metadata": {},
     "output_type": "display_data"
    }
   ],
   "source": [
    "tsk_pen <- tsk(\"penguins\")\n",
    "lrn_rpart <- lrn(\"classif.rpart\")\n",
    "\n",
    "instance <- fsi(\n",
    "  task = tsk_pen,\n",
    "  learner = lrn_rpart,\n",
    "  resampling = rsmp(\"cv\", folds = 3),\n",
    "  measure = msr(\"classif.acc\"),\n",
    "  terminator = trm(\"evals\", n_evals = 20)\n",
    ")\n",
    "\n",
    "fselect <- fs(\"sequential\")\n",
    "\n",
    "fselect$optimize(instance)\n",
    "\n",
    "as.data.table(instance$result)[, .(features, classif.acc)]\n",
    "\n",
    "# features                                       classif.acc\n",
    "# 1 bill_length   , flipper_length, island         0.9360539"
   ]
  },
  {
   "cell_type": "code",
   "execution_count": null,
   "id": "e637a0d4",
   "metadata": {
    "vscode": {
     "languageId": "r"
    }
   },
   "outputs": [
    {
     "name": "stdout",
     "output_type": "stream",
     "text": [
      "INFO  [14:08:02.714] [bbotk] Starting to optimize 7 parameter(s) with '<FSelectorBatchSequential>' and '<TerminatorEvals> [n_evals=20, k=0]'\n",
      "INFO  [14:08:02.716] [bbotk] Evaluating 1 configuration(s)\n",
      "INFO  [14:08:02.720] [mlr3] Running benchmark with 3 resampling iterations\n",
      "INFO  [14:08:02.726] [mlr3] Applying learner 'classif.rpart' on task 'penguins' (iter 1/3)\n",
      "INFO  [14:08:02.741] [mlr3] Applying learner 'classif.rpart' on task 'penguins' (iter 2/3)\n",
      "INFO  [14:08:02.759] [mlr3] Applying learner 'classif.rpart' on task 'penguins' (iter 3/3)\n",
      "INFO  [14:08:02.776] [mlr3] Finished benchmark\n",
      "INFO  [14:08:02.810] [bbotk] Result of batch 1:\n",
      "INFO  [14:08:02.814] [bbotk]  bill_depth bill_length body_mass flipper_length island  sex year classif.acc\n",
      "INFO  [14:08:02.814] [bbotk]        TRUE        TRUE      TRUE           TRUE   TRUE TRUE TRUE   0.9389779\n",
      "INFO  [14:08:02.814] [bbotk]  warnings errors runtime_learners                                uhash\n",
      "INFO  [14:08:02.814] [bbotk]         0      0            0.013 7d6d2494-89c7-44f5-b2e0-659bfcd7325b\n",
      "INFO  [14:08:02.820] [bbotk] Evaluating 7 configuration(s)\n",
      "INFO  [14:08:02.839] [mlr3] Running benchmark with 21 resampling iterations\n",
      "INFO  [14:08:02.842] [mlr3] Applying learner 'classif.rpart' on task 'penguins' (iter 1/3)\n",
      "INFO  [14:08:02.854] [mlr3] Applying learner 'classif.rpart' on task 'penguins' (iter 2/3)\n",
      "INFO  [14:08:02.865] [mlr3] Applying learner 'classif.rpart' on task 'penguins' (iter 3/3)\n",
      "INFO  [14:08:02.874] [mlr3] Applying learner 'classif.rpart' on task 'penguins' (iter 1/3)\n",
      "INFO  [14:08:02.886] [mlr3] Applying learner 'classif.rpart' on task 'penguins' (iter 2/3)\n",
      "INFO  [14:08:02.895] [mlr3] Applying learner 'classif.rpart' on task 'penguins' (iter 3/3)\n",
      "INFO  [14:08:02.903] [mlr3] Applying learner 'classif.rpart' on task 'penguins' (iter 1/3)\n",
      "INFO  [14:08:02.919] [mlr3] Applying learner 'classif.rpart' on task 'penguins' (iter 2/3)\n",
      "INFO  [14:08:02.930] [mlr3] Applying learner 'classif.rpart' on task 'penguins' (iter 3/3)\n",
      "INFO  [14:08:02.943] [mlr3] Applying learner 'classif.rpart' on task 'penguins' (iter 1/3)\n",
      "INFO  [14:08:02.988] [mlr3] Applying learner 'classif.rpart' on task 'penguins' (iter 2/3)\n",
      "INFO  [14:08:03.002] [mlr3] Applying learner 'classif.rpart' on task 'penguins' (iter 3/3)\n",
      "INFO  [14:08:03.011] [mlr3] Applying learner 'classif.rpart' on task 'penguins' (iter 1/3)\n",
      "INFO  [14:08:03.018] [mlr3] Applying learner 'classif.rpart' on task 'penguins' (iter 2/3)\n",
      "INFO  [14:08:03.025] [mlr3] Applying learner 'classif.rpart' on task 'penguins' (iter 3/3)\n",
      "INFO  [14:08:03.032] [mlr3] Applying learner 'classif.rpart' on task 'penguins' (iter 1/3)\n",
      "INFO  [14:08:03.039] [mlr3] Applying learner 'classif.rpart' on task 'penguins' (iter 2/3)\n",
      "INFO  [14:08:03.046] [mlr3] Applying learner 'classif.rpart' on task 'penguins' (iter 3/3)\n",
      "INFO  [14:08:03.055] [mlr3] Applying learner 'classif.rpart' on task 'penguins' (iter 1/3)\n",
      "INFO  [14:08:03.062] [mlr3] Applying learner 'classif.rpart' on task 'penguins' (iter 2/3)\n",
      "INFO  [14:08:03.070] [mlr3] Applying learner 'classif.rpart' on task 'penguins' (iter 3/3)\n",
      "INFO  [14:08:03.078] [mlr3] Finished benchmark\n",
      "INFO  [14:08:03.123] [bbotk] Result of batch 2:\n",
      "INFO  [14:08:03.125] [bbotk]  bill_depth bill_length body_mass flipper_length island   sex  year classif.acc\n",
      "INFO  [14:08:03.125] [bbotk]       FALSE        TRUE      TRUE           TRUE   TRUE  TRUE  TRUE   0.9389779\n",
      "INFO  [14:08:03.125] [bbotk]        TRUE       FALSE      TRUE           TRUE   TRUE  TRUE  TRUE   0.8546656\n",
      "INFO  [14:08:03.125] [bbotk]        TRUE        TRUE     FALSE           TRUE   TRUE  TRUE  TRUE   0.9389779\n",
      "INFO  [14:08:03.125] [bbotk]        TRUE        TRUE      TRUE          FALSE   TRUE  TRUE  TRUE   0.9389016\n",
      "INFO  [14:08:03.125] [bbotk]        TRUE        TRUE      TRUE           TRUE  FALSE  TRUE  TRUE   0.9360539\n",
      "INFO  [14:08:03.125] [bbotk]        TRUE        TRUE      TRUE           TRUE   TRUE FALSE  TRUE   0.9389779\n",
      "INFO  [14:08:03.125] [bbotk]        TRUE        TRUE      TRUE           TRUE   TRUE  TRUE FALSE   0.9389779\n",
      "INFO  [14:08:03.125] [bbotk]  warnings errors runtime_learners                                uhash\n",
      "INFO  [14:08:03.125] [bbotk]         0      0            0.012 ea978f79-9de7-4bef-89f4-df348f57531b\n",
      "INFO  [14:08:03.125] [bbotk]         0      0            0.010 ebe5e1cc-da94-4b4d-ba41-d3220a72f441\n",
      "INFO  [14:08:03.125] [bbotk]         0      0            0.015 a647d3af-36f0-44b4-b83f-8b5402015900\n",
      "INFO  [14:08:03.125] [bbotk]         0      0            0.013 e4cb87db-4fcf-4b88-9a7d-9d59f57fbcf6\n",
      "INFO  [14:08:03.125] [bbotk]         0      0            0.006 b71ef105-b32c-4816-89f6-ec14e568d61c\n",
      "INFO  [14:08:03.125] [bbotk]         0      0            0.008 4340747e-35dd-4c5d-a76c-e1caceb0d0b0\n",
      "INFO  [14:08:03.125] [bbotk]         0      0            0.008 5a7d8342-133a-4452-a9b2-7914555a80f6\n",
      "INFO  [14:08:03.130] [bbotk] Evaluating 6 configuration(s)\n",
      "INFO  [14:08:03.139] [mlr3] Running benchmark with 18 resampling iterations\n",
      "INFO  [14:08:03.141] [mlr3] Applying learner 'classif.rpart' on task 'penguins' (iter 1/3)\n",
      "INFO  [14:08:03.149] [mlr3] Applying learner 'classif.rpart' on task 'penguins' (iter 2/3)\n",
      "INFO  [14:08:03.157] [mlr3] Applying learner 'classif.rpart' on task 'penguins' (iter 3/3)\n",
      "INFO  [14:08:03.165] [mlr3] Applying learner 'classif.rpart' on task 'penguins' (iter 1/3)\n",
      "INFO  [14:08:03.172] [mlr3] Applying learner 'classif.rpart' on task 'penguins' (iter 2/3)\n",
      "INFO  [14:08:03.179] [mlr3] Applying learner 'classif.rpart' on task 'penguins' (iter 3/3)\n",
      "INFO  [14:08:03.187] [mlr3] Applying learner 'classif.rpart' on task 'penguins' (iter 1/3)\n",
      "INFO  [14:08:03.194] [mlr3] Applying learner 'classif.rpart' on task 'penguins' (iter 2/3)\n",
      "INFO  [14:08:03.202] [mlr3] Applying learner 'classif.rpart' on task 'penguins' (iter 3/3)\n",
      "INFO  [14:08:03.209] [mlr3] Applying learner 'classif.rpart' on task 'penguins' (iter 1/3)\n",
      "INFO  [14:08:03.219] [mlr3] Applying learner 'classif.rpart' on task 'penguins' (iter 2/3)\n",
      "INFO  [14:08:03.235] [mlr3] Applying learner 'classif.rpart' on task 'penguins' (iter 3/3)\n",
      "INFO  [14:08:03.247] [mlr3] Applying learner 'classif.rpart' on task 'penguins' (iter 1/3)\n",
      "INFO  [14:08:03.257] [mlr3] Applying learner 'classif.rpart' on task 'penguins' (iter 2/3)\n",
      "INFO  [14:08:03.264] [mlr3] Applying learner 'classif.rpart' on task 'penguins' (iter 3/3)\n",
      "INFO  [14:08:03.271] [mlr3] Applying learner 'classif.rpart' on task 'penguins' (iter 1/3)\n",
      "INFO  [14:08:03.278] [mlr3] Applying learner 'classif.rpart' on task 'penguins' (iter 2/3)\n",
      "INFO  [14:08:03.285] [mlr3] Applying learner 'classif.rpart' on task 'penguins' (iter 3/3)\n",
      "INFO  [14:08:03.292] [mlr3] Finished benchmark\n",
      "INFO  [14:08:03.329] [bbotk] Result of batch 3:\n",
      "INFO  [14:08:03.331] [bbotk]  bill_depth bill_length body_mass flipper_length island   sex  year classif.acc\n",
      "INFO  [14:08:03.331] [bbotk]       FALSE        TRUE     FALSE           TRUE   TRUE  TRUE  TRUE   0.9389779\n",
      "INFO  [14:08:03.331] [bbotk]        TRUE       FALSE     FALSE           TRUE   TRUE  TRUE  TRUE   0.8459700\n",
      "INFO  [14:08:03.331] [bbotk]        TRUE        TRUE     FALSE          FALSE   TRUE  TRUE  TRUE   0.9389016\n",
      "INFO  [14:08:03.331] [bbotk]        TRUE        TRUE     FALSE           TRUE  FALSE  TRUE  TRUE   0.9360539\n",
      "INFO  [14:08:03.331] [bbotk]        TRUE        TRUE     FALSE           TRUE   TRUE FALSE  TRUE   0.9389779\n",
      "INFO  [14:08:03.331] [bbotk]        TRUE        TRUE     FALSE           TRUE   TRUE  TRUE FALSE   0.9389779\n",
      "INFO  [14:08:03.331] [bbotk]  warnings errors runtime_learners                                uhash\n",
      "INFO  [14:08:03.331] [bbotk]         0      0            0.009 1897095a-e51c-4a61-8ce5-424b84395336\n",
      "INFO  [14:08:03.331] [bbotk]         0      0            0.009 69a2c5af-b3f6-4abe-8618-bdc5f2256763\n",
      "INFO  [14:08:03.331] [bbotk]         0      0            0.009 27261e78-34fd-4579-b81b-50b601ec49b0\n",
      "INFO  [14:08:03.331] [bbotk]         0      0            0.016 54a00ff7-8d1c-4d28-b907-5ea05600b6ed\n",
      "INFO  [14:08:03.331] [bbotk]         0      0            0.008 a7993d97-c529-4308-949d-fcd9c11d3220\n",
      "INFO  [14:08:03.331] [bbotk]         0      0            0.008 8be11b48-56bd-4a6a-9f6f-336f561a89ea\n",
      "INFO  [14:08:03.335] [bbotk] Evaluating 5 configuration(s)\n",
      "INFO  [14:08:03.342] [mlr3] Running benchmark with 15 resampling iterations\n",
      "INFO  [14:08:03.344] [mlr3] Applying learner 'classif.rpart' on task 'penguins' (iter 1/3)\n",
      "INFO  [14:08:03.351] [mlr3] Applying learner 'classif.rpart' on task 'penguins' (iter 2/3)\n",
      "INFO  [14:08:03.358] [mlr3] Applying learner 'classif.rpart' on task 'penguins' (iter 3/3)\n",
      "INFO  [14:08:03.365] [mlr3] Applying learner 'classif.rpart' on task 'penguins' (iter 1/3)\n",
      "INFO  [14:08:03.371] [mlr3] Applying learner 'classif.rpart' on task 'penguins' (iter 2/3)\n",
      "INFO  [14:08:03.378] [mlr3] Applying learner 'classif.rpart' on task 'penguins' (iter 3/3)\n",
      "INFO  [14:08:03.384] [mlr3] Applying learner 'classif.rpart' on task 'penguins' (iter 1/3)\n",
      "INFO  [14:08:03.391] [mlr3] Applying learner 'classif.rpart' on task 'penguins' (iter 2/3)\n",
      "INFO  [14:08:03.397] [mlr3] Applying learner 'classif.rpart' on task 'penguins' (iter 3/3)\n",
      "INFO  [14:08:03.404] [mlr3] Applying learner 'classif.rpart' on task 'penguins' (iter 1/3)\n",
      "INFO  [14:08:03.410] [mlr3] Applying learner 'classif.rpart' on task 'penguins' (iter 2/3)\n",
      "INFO  [14:08:03.416] [mlr3] Applying learner 'classif.rpart' on task 'penguins' (iter 3/3)\n",
      "INFO  [14:08:03.423] [mlr3] Applying learner 'classif.rpart' on task 'penguins' (iter 1/3)\n",
      "INFO  [14:08:03.429] [mlr3] Applying learner 'classif.rpart' on task 'penguins' (iter 2/3)\n",
      "INFO  [14:08:03.437] [mlr3] Applying learner 'classif.rpart' on task 'penguins' (iter 3/3)\n",
      "INFO  [14:08:03.444] [mlr3] Finished benchmark\n",
      "INFO  [14:08:03.496] [bbotk] Result of batch 4:\n",
      "INFO  [14:08:03.497] [bbotk]  bill_depth bill_length body_mass flipper_length island   sex  year classif.acc\n",
      "INFO  [14:08:03.497] [bbotk]       FALSE       FALSE     FALSE           TRUE   TRUE  TRUE  TRUE   0.8488685\n",
      "INFO  [14:08:03.497] [bbotk]       FALSE        TRUE     FALSE          FALSE   TRUE  TRUE  TRUE   0.9389016\n",
      "INFO  [14:08:03.497] [bbotk]       FALSE        TRUE     FALSE           TRUE  FALSE  TRUE  TRUE   0.9360539\n",
      "INFO  [14:08:03.497] [bbotk]       FALSE        TRUE     FALSE           TRUE   TRUE FALSE  TRUE   0.9389779\n",
      "INFO  [14:08:03.497] [bbotk]       FALSE        TRUE     FALSE           TRUE   TRUE  TRUE FALSE   0.9389779\n",
      "INFO  [14:08:03.497] [bbotk]  warnings errors runtime_learners                                uhash\n",
      "INFO  [14:08:03.497] [bbotk]         0      0            0.008 c89f027f-25f1-40a8-893a-80de83f64573\n",
      "INFO  [14:08:03.497] [bbotk]         0      0            0.007 c0939a6c-3025-41c0-a35b-7317f9aaa35d\n",
      "INFO  [14:08:03.497] [bbotk]         0      0            0.006 c6014efd-89c5-4704-bed0-f992032cf096\n",
      "INFO  [14:08:03.497] [bbotk]         0      0            0.006 984d7611-0628-4e07-8c2d-7dc80f1d1712\n",
      "INFO  [14:08:03.497] [bbotk]         0      0            0.006 d6864ac0-e392-4426-a921-d831b61c5387\n",
      "INFO  [14:08:03.501] [bbotk] Evaluating 4 configuration(s)\n",
      "INFO  [14:08:03.508] [mlr3] Running benchmark with 12 resampling iterations\n",
      "INFO  [14:08:03.510] [mlr3] Applying learner 'classif.rpart' on task 'penguins' (iter 1/3)\n",
      "INFO  [14:08:03.517] [mlr3] Applying learner 'classif.rpart' on task 'penguins' (iter 2/3)\n",
      "INFO  [14:08:03.524] [mlr3] Applying learner 'classif.rpart' on task 'penguins' (iter 3/3)\n",
      "INFO  [14:08:03.531] [mlr3] Applying learner 'classif.rpart' on task 'penguins' (iter 1/3)\n",
      "INFO  [14:08:03.537] [mlr3] Applying learner 'classif.rpart' on task 'penguins' (iter 2/3)\n",
      "INFO  [14:08:03.543] [mlr3] Applying learner 'classif.rpart' on task 'penguins' (iter 3/3)\n",
      "INFO  [14:08:03.550] [mlr3] Applying learner 'classif.rpart' on task 'penguins' (iter 1/3)\n",
      "INFO  [14:08:03.557] [mlr3] Applying learner 'classif.rpart' on task 'penguins' (iter 2/3)\n",
      "INFO  [14:08:03.565] [mlr3] Applying learner 'classif.rpart' on task 'penguins' (iter 3/3)\n",
      "INFO  [14:08:03.571] [mlr3] Applying learner 'classif.rpart' on task 'penguins' (iter 1/3)\n",
      "INFO  [14:08:03.578] [mlr3] Applying learner 'classif.rpart' on task 'penguins' (iter 2/3)\n",
      "INFO  [14:08:03.585] [mlr3] Applying learner 'classif.rpart' on task 'penguins' (iter 3/3)\n",
      "INFO  [14:08:03.591] [mlr3] Finished benchmark\n",
      "INFO  [14:08:03.621] [bbotk] Result of batch 5:\n",
      "INFO  [14:08:03.622] [bbotk]  bill_depth bill_length body_mass flipper_length island   sex  year classif.acc\n",
      "INFO  [14:08:03.622] [bbotk]       FALSE       FALSE     FALSE           TRUE   TRUE FALSE  TRUE   0.8372743\n",
      "INFO  [14:08:03.622] [bbotk]       FALSE        TRUE     FALSE          FALSE   TRUE FALSE  TRUE   0.9389016\n",
      "INFO  [14:08:03.622] [bbotk]       FALSE        TRUE     FALSE           TRUE  FALSE FALSE  TRUE   0.9360539\n",
      "INFO  [14:08:03.622] [bbotk]       FALSE        TRUE     FALSE           TRUE   TRUE FALSE FALSE   0.9389779\n",
      "INFO  [14:08:03.622] [bbotk]  warnings errors runtime_learners                                uhash\n",
      "INFO  [14:08:03.622] [bbotk]         0      0            0.006 a3d6358a-6fe6-4db3-beb2-d71b9ee35ceb\n",
      "INFO  [14:08:03.622] [bbotk]         0      0            0.006 d47e5814-5448-41ef-bb3a-c84611e262b2\n",
      "INFO  [14:08:03.622] [bbotk]         0      0            0.008 36b32186-07d8-4473-9f53-1a96681a182c\n",
      "INFO  [14:08:03.622] [bbotk]         0      0            0.005 b9ea14d6-44e9-4356-8119-0430ee66be7e\n",
      "INFO  [14:08:03.635] [bbotk] Finished optimizing after 23 evaluation(s)\n",
      "INFO  [14:08:03.635] [bbotk] Result:\n",
      "INFO  [14:08:03.636] [bbotk]  bill_depth bill_length body_mass flipper_length island    sex   year\n",
      "INFO  [14:08:03.636] [bbotk]      <lgcl>      <lgcl>    <lgcl>         <lgcl> <lgcl> <lgcl> <lgcl>\n",
      "INFO  [14:08:03.636] [bbotk]       FALSE        TRUE     FALSE           TRUE   TRUE  FALSE  FALSE\n",
      "INFO  [14:08:03.636] [bbotk]                           features n_features classif.acc\n",
      "INFO  [14:08:03.636] [bbotk]                             <list>      <int>       <num>\n",
      "INFO  [14:08:03.636] [bbotk]  bill_length,flipper_length,island          3   0.9389779\n"
     ]
    },
    {
     "data": {
      "text/html": [
       "<table class=\"dataframe\">\n",
       "<caption>A data.table: 1 x 10</caption>\n",
       "<thead>\n",
       "\t<tr><th scope=col>bill_depth</th><th scope=col>bill_length</th><th scope=col>body_mass</th><th scope=col>flipper_length</th><th scope=col>island</th><th scope=col>sex</th><th scope=col>year</th><th scope=col>features</th><th scope=col>n_features</th><th scope=col>classif.acc</th></tr>\n",
       "\t<tr><th scope=col>&lt;lgl&gt;</th><th scope=col>&lt;lgl&gt;</th><th scope=col>&lt;lgl&gt;</th><th scope=col>&lt;lgl&gt;</th><th scope=col>&lt;lgl&gt;</th><th scope=col>&lt;lgl&gt;</th><th scope=col>&lt;lgl&gt;</th><th scope=col>&lt;list&gt;</th><th scope=col>&lt;int&gt;</th><th scope=col>&lt;dbl&gt;</th></tr>\n",
       "</thead>\n",
       "<tbody>\n",
       "\t<tr><td>FALSE</td><td>TRUE</td><td>FALSE</td><td>TRUE</td><td>TRUE</td><td>FALSE</td><td>FALSE</td><td>bill_length   , flipper_length, island        </td><td>3</td><td>0.9389779</td></tr>\n",
       "</tbody>\n",
       "</table>\n"
      ],
      "text/latex": [
       "A data.table: 1 x 10\n",
       "\\begin{tabular}{llllllllll}\n",
       " bill\\_depth & bill\\_length & body\\_mass & flipper\\_length & island & sex & year & features & n\\_features & classif.acc\\\\\n",
       " <lgl> & <lgl> & <lgl> & <lgl> & <lgl> & <lgl> & <lgl> & <list> & <int> & <dbl>\\\\\n",
       "\\hline\n",
       "\t FALSE & TRUE & FALSE & TRUE & TRUE & FALSE & FALSE & bill\\_length   , flipper\\_length, island         & 3 & 0.9389779\\\\\n",
       "\\end{tabular}\n"
      ],
      "text/markdown": [
       "\n",
       "A data.table: 1 x 10\n",
       "\n",
       "| bill_depth &lt;lgl&gt; | bill_length &lt;lgl&gt; | body_mass &lt;lgl&gt; | flipper_length &lt;lgl&gt; | island &lt;lgl&gt; | sex &lt;lgl&gt; | year &lt;lgl&gt; | features &lt;list&gt; | n_features &lt;int&gt; | classif.acc &lt;dbl&gt; |\n",
       "|---|---|---|---|---|---|---|---|---|---|\n",
       "| FALSE | TRUE | FALSE | TRUE | TRUE | FALSE | FALSE | bill_length   , flipper_length, island         | 3 | 0.9389779 |\n",
       "\n"
      ],
      "text/plain": [
       "  bill_depth bill_length body_mass flipper_length island sex   year \n",
       "1 FALSE      TRUE        FALSE     TRUE           TRUE   FALSE FALSE\n",
       "  features                                       n_features classif.acc\n",
       "1 bill_length   , flipper_length, island         3          0.9389779  "
      ]
     },
     "metadata": {},
     "output_type": "display_data"
    },
    {
     "data": {
      "text/html": [
       "<table class=\"dataframe\">\n",
       "<caption>A data.table: 1 x 2</caption>\n",
       "<thead>\n",
       "\t<tr><th scope=col>features</th><th scope=col>classif.acc</th></tr>\n",
       "\t<tr><th scope=col>&lt;list&gt;</th><th scope=col>&lt;dbl&gt;</th></tr>\n",
       "</thead>\n",
       "<tbody>\n",
       "\t<tr><td>bill_length   , flipper_length, island        </td><td>0.9389779</td></tr>\n",
       "</tbody>\n",
       "</table>\n"
      ],
      "text/latex": [
       "A data.table: 1 x 2\n",
       "\\begin{tabular}{ll}\n",
       " features & classif.acc\\\\\n",
       " <list> & <dbl>\\\\\n",
       "\\hline\n",
       "\t bill\\_length   , flipper\\_length, island         & 0.9389779\\\\\n",
       "\\end{tabular}\n"
      ],
      "text/markdown": [
       "\n",
       "A data.table: 1 x 2\n",
       "\n",
       "| features &lt;list&gt; | classif.acc &lt;dbl&gt; |\n",
       "|---|---|\n",
       "| bill_length   , flipper_length, island         | 0.9389779 |\n",
       "\n"
      ],
      "text/plain": [
       "  features                                       classif.acc\n",
       "1 bill_length   , flipper_length, island         0.9389779  "
      ]
     },
     "metadata": {},
     "output_type": "display_data"
    }
   ],
   "source": [
    "tsk_pen <- tsk(\"penguins\")\n",
    "lrn_rpart <- lrn(\"classif.rpart\")\n",
    "\n",
    "instance <- fsi(\n",
    "  task = tsk_pen,\n",
    "  learner = lrn_rpart,\n",
    "  resampling = rsmp(\"cv\", folds = 3),\n",
    "  measure = msr(\"classif.acc\"),\n",
    "  terminator = trm(\"evals\", n_evals = 20)\n",
    ")\n",
    "\n",
    "fselect <- fs(\"sequential\", strategy = \"sbs\")\n",
    "\n",
    "fselect$optimize(instance)\n",
    "\n",
    "as.data.table(instance$result)[, .(features, classif.acc)]\n",
    "\n",
    "# features                                       classif.acc\n",
    "# 1 bill_length   , flipper_length, island         0.9389779"
   ]
  },
  {
   "cell_type": "code",
   "execution_count": 111,
   "id": "8d5112b3",
   "metadata": {
    "vscode": {
     "languageId": "r"
    }
   },
   "outputs": [
    {
     "data": {
      "image/png": "[encoded data removed]",
      "text/plain": [
       "plot without title"
      ]
     },
     "metadata": {
      "image/png": {
       "height": 420,
       "width": 420
      }
     },
     "output_type": "display_data"
    }
   ],
   "source": [
    "autoplot(instance, type = \"performance\")"
   ]
  },
  {
   "cell_type": "code",
   "execution_count": 112,
   "id": "ababcae2",
   "metadata": {
    "vscode": {
     "languageId": "r"
    }
   },
   "outputs": [
    {
     "ename": "ERROR",
     "evalue": "Error in self$assert(xs, sanitize = TRUE): Assertion on 'xs' failed: strategy: Must be element of set {'sfs','sbs'}, but is 'stepwise'.\n",
     "output_type": "error",
     "traceback": [
      "Error in self$assert(xs, sanitize = TRUE): Assertion on 'xs' failed: strategy: Must be element of set {'sfs','sbs'}, but is 'stepwise'.\nTraceback:\n",
      "1. dictionary_sugar_get(mlr_fselectors, .key, ...)",
      "2. (function (xs) \n . .__ParamSet__values(self = self, private = private, super = super, \n .     xs = xs))(base::quote(list(min_features = 1L, strategy = \"stepwise\")))",
      "3. .__ParamSet__values(self = self, private = private, super = super, \n .     xs = xs)",
      "4. self$assert(xs, sanitize = TRUE)",
      "5. .__ParamSet__assert(self = self, private = private, super = super, \n .     xs = xs, check_strict = check_strict, .var.name = .var.name, \n .     sanitize = sanitize)",
      "6. makeAssertion(if (sanitize) attr(checkresult, \"sanitized\") else xs, \n .     checkresult, .var.name, NULL)",
      "7. mstop(\"Assertion on '%s' failed: %s.\", var.name, res, call. = sys.call(-2L))",
      "8. stop(simpleError(sprintf(msg, ...), call.))"
     ]
    }
   ],
   "source": [
    "tsk_pen <- tsk(\"penguins\")\n",
    "lrn_rpart <- lrn(\"classif.rpart\")\n",
    "\n",
    "instance <- fsi(\n",
    "  task = tsk_pen,\n",
    "  learner = lrn_rpart,\n",
    "  resampling = rsmp(\"cv\", folds = 3),\n",
    "  measure = msr(\"classif.acc\"),\n",
    "  terminator = trm(\"evals\", n_evals = 20)\n",
    ")\n",
    "\n",
    "fselect <- fs(\"sequential\", strategy = \"stepwise\")\n",
    "\n",
    "fselect$optimize(instance)\n",
    "\n",
    "as.data.table(instance$result)[, .(features, classif.acc)]"
   ]
  },
  {
   "cell_type": "code",
   "execution_count": null,
   "id": "6eae3f26",
   "metadata": {
    "vscode": {
     "languageId": "r"
    }
   },
   "outputs": [
    {
     "name": "stdout",
     "output_type": "stream",
     "text": [
      "Start:  AIC=70.9\n",
      "mpg ~ cyl + disp + hp + drat + wt + qsec + vs + am + gear + carb\n",
      "\n",
      "       Df Sum of Sq    RSS    AIC\n",
      "- cyl   1    0.0799 147.57 68.915\n",
      "- vs    1    0.1601 147.66 68.932\n",
      "- carb  1    0.4067 147.90 68.986\n",
      "- gear  1    1.3531 148.85 69.190\n",
      "- drat  1    1.6270 149.12 69.249\n",
      "- disp  1    3.9167 151.41 69.736\n",
      "- hp    1    6.8399 154.33 70.348\n",
      "- qsec  1    8.8641 156.36 70.765\n",
      "<none>              147.49 70.898\n",
      "- am    1   10.5467 158.04 71.108\n",
      "- wt    1   27.0144 174.51 74.280\n",
      "\n",
      "Step:  AIC=68.92\n",
      "mpg ~ disp + hp + drat + wt + qsec + vs + am + gear + carb\n",
      "\n",
      "       Df Sum of Sq    RSS    AIC\n",
      "- vs    1    0.2685 147.84 66.973\n",
      "- carb  1    0.5201 148.09 67.028\n",
      "- gear  1    1.8211 149.40 67.308\n",
      "- drat  1    1.9826 149.56 67.342\n",
      "- disp  1    3.9009 151.47 67.750\n",
      "- hp    1    7.3632 154.94 68.473\n",
      "<none>              147.57 68.915\n",
      "- qsec  1   10.0933 157.67 69.032\n",
      "- am    1   11.8359 159.41 69.384\n",
      "- wt    1   27.0280 174.60 72.297\n",
      "\n",
      "Step:  AIC=66.97\n",
      "mpg ~ disp + hp + drat + wt + qsec + am + gear + carb\n",
      "\n",
      "       Df Sum of Sq    RSS    AIC\n",
      "- carb  1    0.6855 148.53 65.121\n",
      "- gear  1    2.1437 149.99 65.434\n",
      "- drat  1    2.2139 150.06 65.449\n",
      "- disp  1    3.6467 151.49 65.753\n",
      "- hp    1    7.1060 154.95 66.475\n",
      "<none>              147.84 66.973\n",
      "- am    1   11.5694 159.41 67.384\n",
      "- qsec  1   15.6830 163.53 68.200\n",
      "- wt    1   27.3799 175.22 70.410\n",
      "\n",
      "Step:  AIC=65.12\n",
      "mpg ~ disp + hp + drat + wt + qsec + am + gear\n",
      "\n",
      "       Df Sum of Sq    RSS    AIC\n",
      "- gear  1     1.565 150.09 63.457\n",
      "- drat  1     1.932 150.46 63.535\n",
      "<none>              148.53 65.121\n",
      "- disp  1    10.110 158.64 65.229\n",
      "- am    1    12.323 160.85 65.672\n",
      "- hp    1    14.826 163.35 66.166\n",
      "- qsec  1    26.408 174.94 68.358\n",
      "- wt    1    69.127 217.66 75.350\n",
      "\n",
      "Step:  AIC=63.46\n",
      "mpg ~ disp + hp + drat + wt + qsec + am\n",
      "\n",
      "       Df Sum of Sq    RSS    AIC\n",
      "- drat  1     3.345 153.44 62.162\n",
      "- disp  1     8.545 158.64 63.229\n",
      "<none>              150.09 63.457\n",
      "- hp    1    13.285 163.38 64.171\n",
      "- am    1    20.036 170.13 65.466\n",
      "- qsec  1    25.574 175.67 66.491\n",
      "- wt    1    67.572 217.66 73.351\n",
      "\n",
      "Step:  AIC=62.16\n",
      "mpg ~ disp + hp + wt + qsec + am\n",
      "\n",
      "       Df Sum of Sq    RSS    AIC\n",
      "- disp  1     6.629 160.07 61.515\n",
      "<none>              153.44 62.162\n",
      "- hp    1    12.572 166.01 62.682\n",
      "- qsec  1    26.470 179.91 65.255\n",
      "- am    1    32.198 185.63 66.258\n",
      "- wt    1    69.043 222.48 72.051\n",
      "\n",
      "Step:  AIC=61.52\n",
      "mpg ~ hp + wt + qsec + am\n",
      "\n",
      "       Df Sum of Sq    RSS    AIC\n",
      "- hp    1     9.219 169.29 61.307\n",
      "<none>              160.07 61.515\n",
      "- qsec  1    20.225 180.29 63.323\n",
      "- am    1    25.993 186.06 64.331\n",
      "- wt    1    78.494 238.56 72.284\n",
      "\n",
      "Step:  AIC=61.31\n",
      "mpg ~ wt + qsec + am\n",
      "\n",
      "       Df Sum of Sq    RSS    AIC\n",
      "<none>              169.29 61.307\n",
      "- am    1    26.178 195.46 63.908\n",
      "- qsec  1   109.034 278.32 75.217\n",
      "- wt    1   183.347 352.63 82.790\n"
     ]
    },
    {
     "data": {
      "text/plain": [
       "\n",
       "Call:\n",
       "lm(formula = mpg ~ wt + qsec + am, data = mtcars)\n",
       "\n",
       "Residuals:\n",
       "    Min      1Q  Median      3Q     Max \n",
       "-3.4811 -1.5555 -0.7257  1.4110  4.6610 \n",
       "\n",
       "Coefficients:\n",
       "            Estimate Std. Error t value Pr(>|t|)    \n",
       "(Intercept)   9.6178     6.9596   1.382 0.177915    \n",
       "wt           -3.9165     0.7112  -5.507 6.95e-06 ***\n",
       "qsec          1.2259     0.2887   4.247 0.000216 ***\n",
       "am            2.9358     1.4109   2.081 0.046716 *  \n",
       "---\n",
       "Signif. codes:  0 '***' 0.001 '**' 0.01 '*' 0.05 '.' 0.1 ' ' 1\n",
       "\n",
       "Residual standard error: 2.459 on 28 degrees of freedom\n",
       "Multiple R-squared:  0.8497,\tAdjusted R-squared:  0.8336 \n",
       "F-statistic: 52.75 on 3 and 28 DF,  p-value: 1.21e-11\n"
      ]
     },
     "metadata": {},
     "output_type": "display_data"
    }
   ],
   "source": [
    "full_model <- lm(mpg ~ ., data = mtcars)\n",
    "backward_model <- step(full_model, direction = \"backward\")\n",
    "summary(backward_model)"
   ]
  },
  {
   "cell_type": "code",
   "execution_count": null,
   "id": "d3befaeb",
   "metadata": {
    "vscode": {
     "languageId": "r"
    }
   },
   "outputs": [
    {
     "name": "stdout",
     "output_type": "stream",
     "text": [
      "Start:  AIC=115.94\n",
      "mpg ~ 1\n",
      "\n",
      "       Df Sum of Sq     RSS     AIC\n",
      "+ wt    1    847.73  278.32  73.217\n",
      "+ cyl   1    817.71  308.33  76.494\n",
      "+ disp  1    808.89  317.16  77.397\n",
      "+ hp    1    678.37  447.67  88.427\n",
      "+ drat  1    522.48  603.57  97.988\n",
      "+ vs    1    496.53  629.52  99.335\n",
      "+ am    1    405.15  720.90 103.672\n",
      "+ carb  1    341.78  784.27 106.369\n",
      "+ gear  1    259.75  866.30 109.552\n",
      "+ qsec  1    197.39  928.66 111.776\n",
      "<none>              1126.05 115.943\n",
      "\n",
      "Step:  AIC=73.22\n",
      "mpg ~ wt\n",
      "\n",
      "       Df Sum of Sq    RSS    AIC\n",
      "+ cyl   1    87.150 191.17 63.198\n",
      "+ hp    1    83.274 195.05 63.840\n",
      "+ qsec  1    82.858 195.46 63.908\n",
      "+ vs    1    54.228 224.09 68.283\n",
      "+ carb  1    44.602 233.72 69.628\n",
      "+ disp  1    31.639 246.68 71.356\n",
      "<none>              278.32 73.217\n",
      "+ drat  1     9.081 269.24 74.156\n",
      "+ gear  1     1.137 277.19 75.086\n",
      "+ am    1     0.002 278.32 75.217\n",
      "\n",
      "Step:  AIC=63.2\n",
      "mpg ~ wt + cyl\n",
      "\n",
      "       Df Sum of Sq    RSS    AIC\n",
      "+ hp    1   14.5514 176.62 62.665\n",
      "+ carb  1   13.7724 177.40 62.805\n",
      "<none>              191.17 63.198\n",
      "+ qsec  1   10.5674 180.60 63.378\n",
      "+ gear  1    3.0281 188.14 64.687\n",
      "+ disp  1    2.6796 188.49 64.746\n",
      "+ vs    1    0.7059 190.47 65.080\n",
      "+ am    1    0.1249 191.05 65.177\n",
      "+ drat  1    0.0010 191.17 65.198\n",
      "\n",
      "Step:  AIC=62.66\n",
      "mpg ~ wt + cyl + hp\n",
      "\n",
      "       Df Sum of Sq    RSS    AIC\n",
      "<none>              176.62 62.665\n",
      "+ am    1    6.6228 170.00 63.442\n",
      "+ disp  1    6.1762 170.44 63.526\n",
      "+ carb  1    2.5187 174.10 64.205\n",
      "+ drat  1    2.2453 174.38 64.255\n",
      "+ qsec  1    1.4010 175.22 64.410\n",
      "+ gear  1    0.8558 175.76 64.509\n",
      "+ vs    1    0.0599 176.56 64.654\n"
     ]
    },
    {
     "data": {
      "text/plain": [
       "\n",
       "Call:\n",
       "lm(formula = mpg ~ wt + cyl + hp, data = mtcars)\n",
       "\n",
       "Residuals:\n",
       "    Min      1Q  Median      3Q     Max \n",
       "-3.9290 -1.5598 -0.5311  1.1850  5.8986 \n",
       "\n",
       "Coefficients:\n",
       "            Estimate Std. Error t value Pr(>|t|)    \n",
       "(Intercept) 38.75179    1.78686  21.687  < 2e-16 ***\n",
       "wt          -3.16697    0.74058  -4.276 0.000199 ***\n",
       "cyl         -0.94162    0.55092  -1.709 0.098480 .  \n",
       "hp          -0.01804    0.01188  -1.519 0.140015    \n",
       "---\n",
       "Signif. codes:  0 '***' 0.001 '**' 0.01 '*' 0.05 '.' 0.1 ' ' 1\n",
       "\n",
       "Residual standard error: 2.512 on 28 degrees of freedom\n",
       "Multiple R-squared:  0.8431,\tAdjusted R-squared:  0.8263 \n",
       "F-statistic: 50.17 on 3 and 28 DF,  p-value: 2.184e-11\n"
      ]
     },
     "metadata": {},
     "output_type": "display_data"
    }
   ],
   "source": [
    "null_model <- lm(mpg ~ 1, data = mtcars)  # 只含截距\n",
    "forward_model <- step(\n",
    "  null_model,\n",
    "  scope = list(lower = null_model, upper = full_model),\n",
    "  direction = \"forward\"\n",
    ")\n",
    "summary(forward_model)\n"
   ]
  },
  {
   "cell_type": "code",
   "execution_count": 117,
   "id": "011848c9",
   "metadata": {
    "vscode": {
     "languageId": "r"
    }
   },
   "outputs": [
    {
     "name": "stdout",
     "output_type": "stream",
     "text": [
      "Start:  AIC=115.94\n",
      "mpg ~ 1\n",
      "\n",
      "       Df Sum of Sq     RSS     AIC\n",
      "+ wt    1    847.73  278.32  73.217\n",
      "+ cyl   1    817.71  308.33  76.494\n",
      "+ disp  1    808.89  317.16  77.397\n",
      "+ hp    1    678.37  447.67  88.427\n",
      "+ drat  1    522.48  603.57  97.988\n",
      "+ vs    1    496.53  629.52  99.335\n",
      "+ am    1    405.15  720.90 103.672\n",
      "+ carb  1    341.78  784.27 106.369\n",
      "+ gear  1    259.75  866.30 109.552\n",
      "+ qsec  1    197.39  928.66 111.776\n",
      "<none>              1126.05 115.943\n",
      "\n",
      "Step:  AIC=73.22\n",
      "mpg ~ wt\n",
      "\n",
      "       Df Sum of Sq     RSS     AIC\n",
      "+ cyl   1     87.15  191.17  63.198\n",
      "+ hp    1     83.27  195.05  63.840\n",
      "+ qsec  1     82.86  195.46  63.908\n",
      "+ vs    1     54.23  224.09  68.283\n",
      "+ carb  1     44.60  233.72  69.628\n",
      "+ disp  1     31.64  246.68  71.356\n",
      "<none>               278.32  73.217\n",
      "+ drat  1      9.08  269.24  74.156\n",
      "+ gear  1      1.14  277.19  75.086\n",
      "+ am    1      0.00  278.32  75.217\n",
      "- wt    1    847.73 1126.05 115.943\n",
      "\n",
      "Step:  AIC=63.2\n",
      "mpg ~ wt + cyl\n",
      "\n",
      "       Df Sum of Sq    RSS    AIC\n",
      "+ hp    1    14.551 176.62 62.665\n",
      "+ carb  1    13.772 177.40 62.805\n",
      "<none>              191.17 63.198\n",
      "+ qsec  1    10.567 180.60 63.378\n",
      "+ gear  1     3.028 188.14 64.687\n",
      "+ disp  1     2.680 188.49 64.746\n",
      "+ vs    1     0.706 190.47 65.080\n",
      "+ am    1     0.125 191.05 65.177\n",
      "+ drat  1     0.001 191.17 65.198\n",
      "- cyl   1    87.150 278.32 73.217\n",
      "- wt    1   117.162 308.33 76.494\n",
      "\n",
      "Step:  AIC=62.66\n",
      "mpg ~ wt + cyl + hp\n",
      "\n",
      "       Df Sum of Sq    RSS    AIC\n",
      "<none>              176.62 62.665\n",
      "- hp    1    14.551 191.17 63.198\n",
      "+ am    1     6.623 170.00 63.442\n",
      "+ disp  1     6.176 170.44 63.526\n",
      "- cyl   1    18.427 195.05 63.840\n",
      "+ carb  1     2.519 174.10 64.205\n",
      "+ drat  1     2.245 174.38 64.255\n",
      "+ qsec  1     1.401 175.22 64.410\n",
      "+ gear  1     0.856 175.76 64.509\n",
      "+ vs    1     0.060 176.56 64.654\n",
      "- wt    1   115.354 291.98 76.750\n"
     ]
    }
   ],
   "source": [
    "stepwise_model <- step(\n",
    "  null_model,\n",
    "  scope = list(lower = null_model, upper = full_model),\n",
    "  direction = \"both\"\n",
    ")\n"
   ]
  },
  {
   "cell_type": "code",
   "execution_count": null,
   "id": "b14761ef",
   "metadata": {
    "vscode": {
     "languageId": "r"
    }
   },
   "outputs": [
    {
     "name": "stdout",
     "output_type": "stream",
     "text": [
      "INFO  [14:19:41.561] [bbotk] Starting to optimize 7 parameter(s) with '<FSelectorBatchRFE>' and '<TerminatorEvals> [n_evals=20, k=0]'\n",
      "INFO  [14:19:41.565] [bbotk] Evaluating 1 configuration(s)\n",
      "INFO  [14:19:41.568] [mlr3] Running benchmark with 3 resampling iterations\n",
      "INFO  [14:19:41.572] [mlr3] Applying learner 'classif.rpart' on task 'penguins' (iter 1/3)\n",
      "INFO  [14:19:41.583] [mlr3] Applying learner 'classif.rpart' on task 'penguins' (iter 2/3)\n",
      "INFO  [14:19:41.593] [mlr3] Applying learner 'classif.rpart' on task 'penguins' (iter 3/3)\n",
      "INFO  [14:19:41.603] [mlr3] Finished benchmark\n",
      "INFO  [14:19:41.618] [bbotk] Result of batch 1:\n",
      "INFO  [14:19:41.620] [bbotk]  bill_depth bill_length body_mass flipper_length island  sex year classif.acc\n",
      "INFO  [14:19:41.620] [bbotk]        TRUE        TRUE      TRUE           TRUE   TRUE TRUE TRUE   0.9447241\n",
      "INFO  [14:19:41.620] [bbotk]  warnings errors runtime_learners                                uhash\n",
      "INFO  [14:19:41.620] [bbotk]         0      0             0.01 3d88a257-69d2-455e-b204-4de2d6e60fa8\n",
      "INFO  [14:19:41.630] [bbotk] Evaluating 1 configuration(s)\n",
      "INFO  [14:19:41.633] [mlr3] Running benchmark with 3 resampling iterations\n",
      "INFO  [14:19:41.635] [mlr3] Applying learner 'classif.rpart' on task 'penguins' (iter 1/3)\n",
      "INFO  [14:19:41.643] [mlr3] Applying learner 'classif.rpart' on task 'penguins' (iter 2/3)\n",
      "INFO  [14:19:41.650] [mlr3] Applying learner 'classif.rpart' on task 'penguins' (iter 3/3)\n",
      "INFO  [14:19:41.657] [mlr3] Finished benchmark\n",
      "INFO  [14:19:41.674] [bbotk] Result of batch 2:\n",
      "INFO  [14:19:41.675] [bbotk]  bill_depth bill_length body_mass flipper_length island   sex  year classif.acc\n",
      "INFO  [14:19:41.675] [bbotk]        TRUE        TRUE     FALSE           TRUE  FALSE FALSE FALSE   0.9418256\n",
      "INFO  [14:19:41.675] [bbotk]  warnings errors runtime_learners                                uhash\n",
      "INFO  [14:19:41.675] [bbotk]         0      0            0.008 8e61d3e4-77dc-44f9-85d1-bb777ff859d8\n",
      "INFO  [14:19:41.689] [bbotk] Finished optimizing after 2 evaluation(s)\n",
      "INFO  [14:19:41.689] [bbotk] Result:\n",
      "INFO  [14:19:41.691] [bbotk]  bill_depth bill_length body_mass flipper_length island    sex   year\n",
      "INFO  [14:19:41.691] [bbotk]      <lgcl>      <lgcl>    <lgcl>         <lgcl> <lgcl> <lgcl> <lgcl>\n",
      "INFO  [14:19:41.691] [bbotk]        TRUE        TRUE      TRUE           TRUE   TRUE   TRUE   TRUE\n",
      "INFO  [14:19:41.691] [bbotk]                                                 importance\n",
      "INFO  [14:19:41.691] [bbotk]                                                     <list>\n",
      "INFO  [14:19:41.691] [bbotk]  6.666667,6.333333,5.000000,4.000000,3.000000,2.000000,...\n",
      "INFO  [14:19:41.691] [bbotk]                                                        features n_features\n",
      "INFO  [14:19:41.691] [bbotk]                                                          <list>      <int>\n",
      "INFO  [14:19:41.691] [bbotk]  bill_depth,bill_length,body_mass,flipper_length,island,sex,...          7\n",
      "INFO  [14:19:41.691] [bbotk]  classif.acc\n",
      "INFO  [14:19:41.691] [bbotk]        <num>\n",
      "INFO  [14:19:41.691] [bbotk]    0.9447241\n"
     ]
    },
    {
     "data": {
      "text/html": [
       "<table class=\"dataframe\">\n",
       "<caption>A data.table: 1 x 11</caption>\n",
       "<thead>\n",
       "\t<tr><th scope=col>bill_depth</th><th scope=col>bill_length</th><th scope=col>body_mass</th><th scope=col>flipper_length</th><th scope=col>island</th><th scope=col>sex</th><th scope=col>year</th><th scope=col>importance</th><th scope=col>features</th><th scope=col>n_features</th><th scope=col>classif.acc</th></tr>\n",
       "\t<tr><th scope=col>&lt;lgl&gt;</th><th scope=col>&lt;lgl&gt;</th><th scope=col>&lt;lgl&gt;</th><th scope=col>&lt;lgl&gt;</th><th scope=col>&lt;lgl&gt;</th><th scope=col>&lt;lgl&gt;</th><th scope=col>&lt;lgl&gt;</th><th scope=col>&lt;list&gt;</th><th scope=col>&lt;list&gt;</th><th scope=col>&lt;int&gt;</th><th scope=col>&lt;dbl&gt;</th></tr>\n",
       "</thead>\n",
       "<tbody>\n",
       "\t<tr><td>TRUE</td><td>TRUE</td><td>TRUE</td><td>TRUE</td><td>TRUE</td><td>TRUE</td><td>TRUE</td><td>6.666667, 6.333333, 5.000000, 4.000000, 3.000000, 2.000000, 1.000000</td><td>bill_depth    , bill_length   , body_mass     , flipper_length, island        , sex           , year          </td><td>7</td><td>0.9447241</td></tr>\n",
       "</tbody>\n",
       "</table>\n"
      ],
      "text/latex": [
       "A data.table: 1 x 11\n",
       "\\begin{tabular}{lllllllllll}\n",
       " bill\\_depth & bill\\_length & body\\_mass & flipper\\_length & island & sex & year & importance & features & n\\_features & classif.acc\\\\\n",
       " <lgl> & <lgl> & <lgl> & <lgl> & <lgl> & <lgl> & <lgl> & <list> & <list> & <int> & <dbl>\\\\\n",
       "\\hline\n",
       "\t TRUE & TRUE & TRUE & TRUE & TRUE & TRUE & TRUE & 6.666667, 6.333333, 5.000000, 4.000000, 3.000000, 2.000000, 1.000000 & bill\\_depth    , bill\\_length   , body\\_mass     , flipper\\_length, island        , sex           , year           & 7 & 0.9447241\\\\\n",
       "\\end{tabular}\n"
      ],
      "text/markdown": [
       "\n",
       "A data.table: 1 x 11\n",
       "\n",
       "| bill_depth &lt;lgl&gt; | bill_length &lt;lgl&gt; | body_mass &lt;lgl&gt; | flipper_length &lt;lgl&gt; | island &lt;lgl&gt; | sex &lt;lgl&gt; | year &lt;lgl&gt; | importance &lt;list&gt; | features &lt;list&gt; | n_features &lt;int&gt; | classif.acc &lt;dbl&gt; |\n",
       "|---|---|---|---|---|---|---|---|---|---|---|\n",
       "| TRUE | TRUE | TRUE | TRUE | TRUE | TRUE | TRUE | 6.666667, 6.333333, 5.000000, 4.000000, 3.000000, 2.000000, 1.000000 | bill_depth    , bill_length   , body_mass     , flipper_length, island        , sex           , year           | 7 | 0.9447241 |\n",
       "\n"
      ],
      "text/plain": [
       "  bill_depth bill_length body_mass flipper_length island sex  year\n",
       "1 TRUE       TRUE        TRUE      TRUE           TRUE   TRUE TRUE\n",
       "  importance                                                          \n",
       "1 6.666667, 6.333333, 5.000000, 4.000000, 3.000000, 2.000000, 1.000000\n",
       "  features                                                                                                      \n",
       "1 bill_depth    , bill_length   , body_mass     , flipper_length, island        , sex           , year          \n",
       "  n_features classif.acc\n",
       "1 7          0.9447241  "
      ]
     },
     "metadata": {},
     "output_type": "display_data"
    },
    {
     "data": {
      "text/html": [
       "<table class=\"dataframe\">\n",
       "<caption>A data.table: 1 x 2</caption>\n",
       "<thead>\n",
       "\t<tr><th scope=col>features</th><th scope=col>classif.acc</th></tr>\n",
       "\t<tr><th scope=col>&lt;list&gt;</th><th scope=col>&lt;dbl&gt;</th></tr>\n",
       "</thead>\n",
       "<tbody>\n",
       "\t<tr><td>bill_depth    , bill_length   , body_mass     , flipper_length, island        , sex           , year          </td><td>0.9447241</td></tr>\n",
       "</tbody>\n",
       "</table>\n"
      ],
      "text/latex": [
       "A data.table: 1 x 2\n",
       "\\begin{tabular}{ll}\n",
       " features & classif.acc\\\\\n",
       " <list> & <dbl>\\\\\n",
       "\\hline\n",
       "\t bill\\_depth    , bill\\_length   , body\\_mass     , flipper\\_length, island        , sex           , year           & 0.9447241\\\\\n",
       "\\end{tabular}\n"
      ],
      "text/markdown": [
       "\n",
       "A data.table: 1 x 2\n",
       "\n",
       "| features &lt;list&gt; | classif.acc &lt;dbl&gt; |\n",
       "|---|---|\n",
       "| bill_depth    , bill_length   , body_mass     , flipper_length, island        , sex           , year           | 0.9447241 |\n",
       "\n"
      ],
      "text/plain": [
       "  features                                                                                                      \n",
       "1 bill_depth    , bill_length   , body_mass     , flipper_length, island        , sex           , year          \n",
       "  classif.acc\n",
       "1 0.9447241  "
      ]
     },
     "metadata": {},
     "output_type": "display_data"
    }
   ],
   "source": [
    "tsk_pen <- tsk(\"penguins\")\n",
    "lrn_rpart <- lrn(\"classif.rpart\")\n",
    "\n",
    "instance <- fsi(\n",
    "  task = tsk_pen,\n",
    "  learner = lrn_rpart,\n",
    "  resampling = rsmp(\"cv\", folds = 3),\n",
    "  measure = msr(\"classif.acc\"),\n",
    "  terminator = trm(\"evals\", n_evals = 20)\n",
    ")\n",
    "\n",
    "fselect <- fs(\"rfe\")\n",
    "\n",
    "fselect$optimize(instance)\n",
    "\n",
    "as.data.table(instance$result)[, .(features, classif.acc)]\n",
    "\n",
    "# features                                                                                                      \n",
    "# 1 bill_depth    , bill_length   , body_mass     , flipper_length, island        , sex           , year          \n",
    "#   classif.acc\n",
    "# 1 0.9447241"
   ]
  },
  {
   "cell_type": "code",
   "execution_count": null,
   "id": "9f52c1c5",
   "metadata": {
    "vscode": {
     "languageId": "r"
    }
   },
   "outputs": [
    {
     "name": "stdout",
     "output_type": "stream",
     "text": [
      "INFO  [14:21:53.626] [bbotk] Starting to optimize 7 parameter(s) with '<FSelectorBatchGeneticSearch>' and '<TerminatorEvals> [n_evals=20, k=0]'\n",
      "INFO  [14:21:53.920] [bbotk] Evaluating 1 configuration(s)\n",
      "INFO  [14:21:53.924] [mlr3] Running benchmark with 3 resampling iterations\n",
      "INFO  [14:21:53.930] [mlr3] Applying learner 'classif.rpart' on task 'penguins' (iter 1/3)\n",
      "INFO  [14:21:53.941] [mlr3] Applying learner 'classif.rpart' on task 'penguins' (iter 2/3)\n",
      "INFO  [14:21:53.952] [mlr3] Applying learner 'classif.rpart' on task 'penguins' (iter 3/3)\n",
      "INFO  [14:21:53.961] [mlr3] Finished benchmark\n",
      "INFO  [14:21:53.973] [bbotk] Result of batch 1:\n",
      "INFO  [14:21:53.975] [bbotk]  bill_depth bill_length body_mass flipper_length island   sex  year classif.acc\n",
      "INFO  [14:21:53.975] [bbotk]       FALSE       FALSE      TRUE          FALSE  FALSE FALSE FALSE   0.7180524\n",
      "INFO  [14:21:53.975] [bbotk]  warnings errors runtime_learners                                uhash\n",
      "INFO  [14:21:53.975] [bbotk]         0      0             0.01 26b8fb4d-066e-4f7a-94b7-e529cc43744f\n",
      "INFO  [14:21:53.978] [bbotk] Evaluating 1 configuration(s)\n",
      "INFO  [14:21:53.981] [mlr3] Running benchmark with 3 resampling iterations\n",
      "INFO  [14:21:53.983] [mlr3] Applying learner 'classif.rpart' on task 'penguins' (iter 1/3)\n",
      "INFO  [14:21:53.990] [mlr3] Applying learner 'classif.rpart' on task 'penguins' (iter 2/3)\n",
      "INFO  [14:21:53.997] [mlr3] Applying learner 'classif.rpart' on task 'penguins' (iter 3/3)\n",
      "INFO  [14:21:54.005] [mlr3] Finished benchmark\n",
      "INFO  [14:21:54.021] [bbotk] Result of batch 2:\n",
      "INFO  [14:21:54.022] [bbotk]  bill_depth bill_length body_mass flipper_length island   sex year classif.acc\n",
      "INFO  [14:21:54.022] [bbotk]       FALSE       FALSE     FALSE          FALSE  FALSE FALSE TRUE   0.3983219\n",
      "INFO  [14:21:54.022] [bbotk]  warnings errors runtime_learners                                uhash\n",
      "INFO  [14:21:54.022] [bbotk]         0      0            0.006 69b3648e-7729-40f8-9586-a1b9517aa037\n",
      "INFO  [14:21:54.026] [bbotk] Evaluating 1 configuration(s)\n",
      "INFO  [14:21:54.029] [mlr3] Running benchmark with 3 resampling iterations\n",
      "INFO  [14:21:54.031] [mlr3] Applying learner 'classif.rpart' on task 'penguins' (iter 1/3)\n",
      "INFO  [14:21:54.041] [mlr3] Applying learner 'classif.rpart' on task 'penguins' (iter 2/3)\n",
      "INFO  [14:21:54.051] [mlr3] Applying learner 'classif.rpart' on task 'penguins' (iter 3/3)\n",
      "INFO  [14:21:54.058] [mlr3] Finished benchmark\n",
      "INFO  [14:21:54.072] [bbotk] Result of batch 3:\n",
      "INFO  [14:21:54.073] [bbotk]  bill_depth bill_length body_mass flipper_length island   sex  year classif.acc\n",
      "INFO  [14:21:54.073] [bbotk]       FALSE       FALSE     FALSE           TRUE  FALSE FALSE FALSE   0.7617086\n",
      "INFO  [14:21:54.073] [bbotk]  warnings errors runtime_learners                                uhash\n",
      "INFO  [14:21:54.073] [bbotk]         0      0            0.009 a5ff8acb-2906-45af-ba7a-b123d23ed8f4\n",
      "INFO  [14:21:54.076] [bbotk] Evaluating 1 configuration(s)\n",
      "INFO  [14:21:54.079] [mlr3] Running benchmark with 3 resampling iterations\n",
      "INFO  [14:21:54.081] [mlr3] Applying learner 'classif.rpart' on task 'penguins' (iter 1/3)\n",
      "INFO  [14:21:54.087] [mlr3] Applying learner 'classif.rpart' on task 'penguins' (iter 2/3)\n",
      "INFO  [14:21:54.093] [mlr3] Applying learner 'classif.rpart' on task 'penguins' (iter 3/3)\n",
      "INFO  [14:21:54.099] [mlr3] Finished benchmark\n",
      "INFO  [14:21:54.113] [bbotk] Result of batch 4:\n",
      "INFO  [14:21:54.114] [bbotk]  bill_depth bill_length body_mass flipper_length island   sex year classif.acc\n",
      "INFO  [14:21:54.114] [bbotk]       FALSE       FALSE     FALSE           TRUE  FALSE FALSE TRUE   0.7675566\n",
      "INFO  [14:21:54.114] [bbotk]  warnings errors runtime_learners                                uhash\n",
      "INFO  [14:21:54.114] [bbotk]         0      0            0.007 1b316707-144b-48b1-8d1b-26dfe23e837c\n",
      "INFO  [14:21:54.117] [bbotk] Evaluating 1 configuration(s)\n",
      "INFO  [14:21:54.120] [mlr3] Running benchmark with 3 resampling iterations\n",
      "INFO  [14:21:54.122] [mlr3] Applying learner 'classif.rpart' on task 'penguins' (iter 1/3)\n",
      "INFO  [14:21:54.129] [mlr3] Applying learner 'classif.rpart' on task 'penguins' (iter 2/3)\n",
      "INFO  [14:21:54.135] [mlr3] Applying learner 'classif.rpart' on task 'penguins' (iter 3/3)\n",
      "INFO  [14:21:54.142] [mlr3] Finished benchmark\n",
      "INFO  [14:21:54.164] [bbotk] Result of batch 5:\n",
      "INFO  [14:21:54.166] [bbotk]  bill_depth bill_length body_mass flipper_length island   sex  year classif.acc\n",
      "INFO  [14:21:54.166] [bbotk]        TRUE       FALSE     FALSE          FALSE   TRUE FALSE FALSE   0.7848207\n",
      "INFO  [14:21:54.166] [bbotk]  warnings errors runtime_learners                                uhash\n",
      "INFO  [14:21:54.166] [bbotk]         0      0            0.006 47813e12-d2a7-45e5-8de2-656c8b0bb3da\n",
      "INFO  [14:21:54.171] [bbotk] Evaluating 1 configuration(s)\n",
      "INFO  [14:21:54.175] [mlr3] Running benchmark with 3 resampling iterations\n",
      "INFO  [14:21:54.179] [mlr3] Applying learner 'classif.rpart' on task 'penguins' (iter 1/3)\n",
      "INFO  [14:21:54.190] [mlr3] Applying learner 'classif.rpart' on task 'penguins' (iter 2/3)\n",
      "INFO  [14:21:54.199] [mlr3] Applying learner 'classif.rpart' on task 'penguins' (iter 3/3)\n",
      "INFO  [14:21:54.204] [mlr3] Finished benchmark\n",
      "INFO  [14:21:54.218] [bbotk] Result of batch 6:\n",
      "INFO  [14:21:54.220] [bbotk]  bill_depth bill_length body_mass flipper_length island   sex year classif.acc\n",
      "INFO  [14:21:54.220] [bbotk]       FALSE       FALSE     FALSE          FALSE  FALSE FALSE TRUE   0.3983219\n",
      "INFO  [14:21:54.220] [bbotk]  warnings errors runtime_learners                                uhash\n",
      "INFO  [14:21:54.220] [bbotk]         0      0            0.008 cd390fb0-5a1f-40d9-96da-ed84111f5047\n",
      "INFO  [14:21:54.222] [bbotk] Evaluating 1 configuration(s)\n",
      "INFO  [14:21:54.225] [mlr3] Running benchmark with 3 resampling iterations\n",
      "INFO  [14:21:54.228] [mlr3] Applying learner 'classif.rpart' on task 'penguins' (iter 1/3)\n",
      "INFO  [14:21:54.236] [mlr3] Applying learner 'classif.rpart' on task 'penguins' (iter 2/3)\n",
      "INFO  [14:21:54.243] [mlr3] Applying learner 'classif.rpart' on task 'penguins' (iter 3/3)\n",
      "INFO  [14:21:54.250] [mlr3] Finished benchmark\n",
      "INFO  [14:21:54.265] [bbotk] Result of batch 7:\n",
      "INFO  [14:21:54.266] [bbotk]  bill_depth bill_length body_mass flipper_length island   sex year classif.acc\n",
      "INFO  [14:21:54.266] [bbotk]        TRUE       FALSE     FALSE           TRUE  FALSE FALSE TRUE    0.764658\n",
      "INFO  [14:21:54.266] [bbotk]  warnings errors runtime_learners                                uhash\n",
      "INFO  [14:21:54.266] [bbotk]         0      0            0.007 626b32be-170a-4155-86de-584482f84108\n",
      "INFO  [14:21:54.269] [bbotk] Evaluating 1 configuration(s)\n",
      "INFO  [14:21:54.271] [mlr3] Running benchmark with 3 resampling iterations\n",
      "INFO  [14:21:54.274] [mlr3] Applying learner 'classif.rpart' on task 'penguins' (iter 1/3)\n",
      "INFO  [14:21:54.283] [mlr3] Applying learner 'classif.rpart' on task 'penguins' (iter 2/3)\n",
      "INFO  [14:21:54.289] [mlr3] Applying learner 'classif.rpart' on task 'penguins' (iter 3/3)\n",
      "INFO  [14:21:54.296] [mlr3] Finished benchmark\n",
      "INFO  [14:21:54.309] [bbotk] Result of batch 8:\n",
      "INFO  [14:21:54.311] [bbotk]  bill_depth bill_length body_mass flipper_length island   sex year classif.acc\n",
      "INFO  [14:21:54.311] [bbotk]       FALSE       FALSE     FALSE          FALSE  FALSE FALSE TRUE   0.3983219\n",
      "INFO  [14:21:54.311] [bbotk]  warnings errors runtime_learners                                uhash\n",
      "INFO  [14:21:54.311] [bbotk]         0      0            0.008 91d09f1d-3027-4510-a3ca-dac12e3f430d\n",
      "INFO  [14:21:54.314] [bbotk] Evaluating 1 configuration(s)\n",
      "INFO  [14:21:54.317] [mlr3] Running benchmark with 3 resampling iterations\n",
      "INFO  [14:21:54.319] [mlr3] Applying learner 'classif.rpart' on task 'penguins' (iter 1/3)\n",
      "INFO  [14:21:54.326] [mlr3] Applying learner 'classif.rpart' on task 'penguins' (iter 2/3)\n",
      "INFO  [14:21:54.333] [mlr3] Applying learner 'classif.rpart' on task 'penguins' (iter 3/3)\n",
      "INFO  [14:21:54.338] [mlr3] Finished benchmark\n",
      "INFO  [14:21:54.351] [bbotk] Result of batch 9:\n",
      "INFO  [14:21:54.353] [bbotk]  bill_depth bill_length body_mass flipper_length island   sex  year classif.acc\n",
      "INFO  [14:21:54.353] [bbotk]       FALSE        TRUE     FALSE           TRUE  FALSE FALSE FALSE   0.9273074\n",
      "INFO  [14:21:54.353] [bbotk]  warnings errors runtime_learners                                uhash\n",
      "INFO  [14:21:54.353] [bbotk]         0      0            0.005 c2fbe5ce-bc53-4fe9-a4ee-f3d36897cbce\n",
      "INFO  [14:21:54.355] [bbotk] Evaluating 1 configuration(s)\n",
      "INFO  [14:21:54.358] [mlr3] Running benchmark with 3 resampling iterations\n",
      "INFO  [14:21:54.360] [mlr3] Applying learner 'classif.rpart' on task 'penguins' (iter 1/3)\n",
      "INFO  [14:21:54.366] [mlr3] Applying learner 'classif.rpart' on task 'penguins' (iter 2/3)\n",
      "INFO  [14:21:54.371] [mlr3] Applying learner 'classif.rpart' on task 'penguins' (iter 3/3)\n",
      "INFO  [14:21:54.377] [mlr3] Finished benchmark\n",
      "INFO  [14:21:54.400] [bbotk] Result of batch 10:\n",
      "INFO  [14:21:54.402] [bbotk]  bill_depth bill_length body_mass flipper_length island   sex year classif.acc\n",
      "INFO  [14:21:54.402] [bbotk]       FALSE       FALSE     FALSE          FALSE  FALSE FALSE TRUE   0.3983219\n",
      "INFO  [14:21:54.402] [bbotk]  warnings errors runtime_learners                                uhash\n",
      "INFO  [14:21:54.402] [bbotk]         0      0            0.005 1516e90a-15c2-45ac-a13e-dff98de47480\n",
      "INFO  [14:21:54.406] [bbotk] Evaluating 1 configuration(s)\n",
      "INFO  [14:21:54.411] [mlr3] Running benchmark with 3 resampling iterations\n",
      "INFO  [14:21:54.414] [mlr3] Applying learner 'classif.rpart' on task 'penguins' (iter 1/3)\n",
      "INFO  [14:21:54.423] [mlr3] Applying learner 'classif.rpart' on task 'penguins' (iter 2/3)\n",
      "INFO  [14:21:54.429] [mlr3] Applying learner 'classif.rpart' on task 'penguins' (iter 3/3)\n",
      "INFO  [14:21:54.435] [mlr3] Finished benchmark\n",
      "INFO  [14:21:54.448] [bbotk] Result of batch 11:\n",
      "INFO  [14:21:54.449] [bbotk]  bill_depth bill_length body_mass flipper_length island   sex  year classif.acc\n",
      "INFO  [14:21:54.449] [bbotk]       FALSE        TRUE     FALSE          FALSE  FALSE FALSE FALSE    0.752835\n",
      "INFO  [14:21:54.449] [bbotk]  warnings errors runtime_learners                                uhash\n",
      "INFO  [14:21:54.449] [bbotk]         0      0             0.01 299c056a-bd6b-419d-a39e-da66be0a9605\n",
      "INFO  [14:21:54.452] [bbotk] Evaluating 1 configuration(s)\n",
      "INFO  [14:21:54.454] [mlr3] Running benchmark with 3 resampling iterations\n",
      "INFO  [14:21:54.456] [mlr3] Applying learner 'classif.rpart' on task 'penguins' (iter 1/3)\n",
      "INFO  [14:21:54.463] [mlr3] Applying learner 'classif.rpart' on task 'penguins' (iter 2/3)\n",
      "INFO  [14:21:54.469] [mlr3] Applying learner 'classif.rpart' on task 'penguins' (iter 3/3)\n",
      "INFO  [14:21:54.474] [mlr3] Finished benchmark\n",
      "INFO  [14:21:54.488] [bbotk] Result of batch 12:\n",
      "INFO  [14:21:54.490] [bbotk]  bill_depth bill_length body_mass flipper_length island   sex  year classif.acc\n",
      "INFO  [14:21:54.490] [bbotk]       FALSE       FALSE      TRUE          FALSE  FALSE FALSE FALSE   0.7180524\n",
      "INFO  [14:21:54.490] [bbotk]  warnings errors runtime_learners                                uhash\n",
      "INFO  [14:21:54.490] [bbotk]         0      0            0.005 37c7f668-2835-47eb-ae5c-a8deaebd86ce\n",
      "INFO  [14:21:54.493] [bbotk] Evaluating 1 configuration(s)\n",
      "INFO  [14:21:54.496] [mlr3] Running benchmark with 3 resampling iterations\n",
      "INFO  [14:21:54.499] [mlr3] Applying learner 'classif.rpart' on task 'penguins' (iter 1/3)\n",
      "INFO  [14:21:54.506] [mlr3] Applying learner 'classif.rpart' on task 'penguins' (iter 2/3)\n",
      "INFO  [14:21:54.512] [mlr3] Applying learner 'classif.rpart' on task 'penguins' (iter 3/3)\n",
      "INFO  [14:21:54.518] [mlr3] Finished benchmark\n",
      "INFO  [14:21:54.531] [bbotk] Result of batch 13:\n",
      "INFO  [14:21:54.532] [bbotk]  bill_depth bill_length body_mass flipper_length island   sex  year classif.acc\n",
      "INFO  [14:21:54.532] [bbotk]        TRUE       FALSE     FALSE          FALSE  FALSE FALSE FALSE   0.7325706\n",
      "INFO  [14:21:54.532] [bbotk]  warnings errors runtime_learners                                uhash\n",
      "INFO  [14:21:54.532] [bbotk]         0      0            0.007 8c7e6f81-31d8-4acc-9588-4b00641e1889\n",
      "INFO  [14:21:54.535] [bbotk] Evaluating 1 configuration(s)\n",
      "INFO  [14:21:54.537] [mlr3] Running benchmark with 3 resampling iterations\n",
      "INFO  [14:21:54.539] [mlr3] Applying learner 'classif.rpart' on task 'penguins' (iter 1/3)\n",
      "INFO  [14:21:54.546] [mlr3] Applying learner 'classif.rpart' on task 'penguins' (iter 2/3)\n",
      "INFO  [14:21:54.551] [mlr3] Applying learner 'classif.rpart' on task 'penguins' (iter 3/3)\n",
      "INFO  [14:21:54.557] [mlr3] Finished benchmark\n",
      "INFO  [14:21:54.569] [bbotk] Result of batch 14:\n",
      "INFO  [14:21:54.571] [bbotk]  bill_depth bill_length body_mass flipper_length island   sex  year classif.acc\n",
      "INFO  [14:21:54.571] [bbotk]       FALSE        TRUE     FALSE          FALSE  FALSE FALSE FALSE    0.752835\n",
      "INFO  [14:21:54.571] [bbotk]  warnings errors runtime_learners                                uhash\n",
      "INFO  [14:21:54.571] [bbotk]         0      0            0.006 485cb480-57aa-480b-bd29-c790043918c9\n",
      "INFO  [14:21:54.573] [bbotk] Evaluating 1 configuration(s)\n",
      "INFO  [14:21:54.576] [mlr3] Running benchmark with 3 resampling iterations\n",
      "INFO  [14:21:54.578] [mlr3] Applying learner 'classif.rpart' on task 'penguins' (iter 1/3)\n",
      "INFO  [14:21:54.584] [mlr3] Applying learner 'classif.rpart' on task 'penguins' (iter 2/3)\n",
      "INFO  [14:21:54.595] [mlr3] Applying learner 'classif.rpart' on task 'penguins' (iter 3/3)\n",
      "INFO  [14:21:54.605] [mlr3] Finished benchmark\n",
      "INFO  [14:21:54.626] [bbotk] Result of batch 15:\n",
      "INFO  [14:21:54.628] [bbotk]  bill_depth bill_length body_mass flipper_length island   sex  year classif.acc\n",
      "INFO  [14:21:54.628] [bbotk]        TRUE       FALSE     FALSE          FALSE   TRUE FALSE FALSE   0.7848207\n",
      "INFO  [14:21:54.628] [bbotk]  warnings errors runtime_learners                                uhash\n",
      "INFO  [14:21:54.628] [bbotk]         0      0            0.008 9684ec1e-67e8-4549-ac61-36b033a582d4\n",
      "INFO  [14:21:54.631] [bbotk] Evaluating 1 configuration(s)\n",
      "INFO  [14:21:54.633] [mlr3] Running benchmark with 3 resampling iterations\n",
      "INFO  [14:21:54.635] [mlr3] Applying learner 'classif.rpart' on task 'penguins' (iter 1/3)\n",
      "INFO  [14:21:54.642] [mlr3] Applying learner 'classif.rpart' on task 'penguins' (iter 2/3)\n",
      "INFO  [14:21:54.649] [mlr3] Applying learner 'classif.rpart' on task 'penguins' (iter 3/3)\n",
      "INFO  [14:21:54.654] [mlr3] Finished benchmark\n",
      "INFO  [14:21:54.667] [bbotk] Result of batch 16:\n",
      "INFO  [14:21:54.669] [bbotk]  bill_depth bill_length body_mass flipper_length island   sex  year classif.acc\n",
      "INFO  [14:21:54.669] [bbotk]       FALSE       FALSE      TRUE          FALSE  FALSE FALSE FALSE   0.7180524\n",
      "INFO  [14:21:54.669] [bbotk]  warnings errors runtime_learners                                uhash\n",
      "INFO  [14:21:54.669] [bbotk]         0      0            0.004 725c20fc-b2ff-4e5f-9fd8-99f37afeb4a2\n",
      "INFO  [14:21:54.672] [bbotk] Evaluating 1 configuration(s)\n",
      "INFO  [14:21:54.674] [mlr3] Running benchmark with 3 resampling iterations\n",
      "INFO  [14:21:54.677] [mlr3] Applying learner 'classif.rpart' on task 'penguins' (iter 1/3)\n",
      "INFO  [14:21:54.683] [mlr3] Applying learner 'classif.rpart' on task 'penguins' (iter 2/3)\n",
      "INFO  [14:21:54.689] [mlr3] Applying learner 'classif.rpart' on task 'penguins' (iter 3/3)\n",
      "INFO  [14:21:54.695] [mlr3] Finished benchmark\n",
      "INFO  [14:21:54.707] [bbotk] Result of batch 17:\n",
      "INFO  [14:21:54.709] [bbotk]  bill_depth bill_length body_mass flipper_length island   sex  year classif.acc\n",
      "INFO  [14:21:54.709] [bbotk]       FALSE        TRUE     FALSE          FALSE  FALSE FALSE FALSE    0.752835\n",
      "INFO  [14:21:54.709] [bbotk]  warnings errors runtime_learners                                uhash\n",
      "INFO  [14:21:54.709] [bbotk]         0      0            0.008 f0c9aa2f-3134-4267-8e55-181b42bcdfd6\n",
      "INFO  [14:21:54.711] [bbotk] Evaluating 1 configuration(s)\n",
      "INFO  [14:21:54.714] [mlr3] Running benchmark with 3 resampling iterations\n",
      "INFO  [14:21:54.716] [mlr3] Applying learner 'classif.rpart' on task 'penguins' (iter 1/3)\n",
      "INFO  [14:21:54.722] [mlr3] Applying learner 'classif.rpart' on task 'penguins' (iter 2/3)\n",
      "INFO  [14:21:54.728] [mlr3] Applying learner 'classif.rpart' on task 'penguins' (iter 3/3)\n",
      "INFO  [14:21:54.733] [mlr3] Finished benchmark\n",
      "INFO  [14:21:54.745] [bbotk] Result of batch 18:\n",
      "INFO  [14:21:54.747] [bbotk]  bill_depth bill_length body_mass flipper_length island   sex year classif.acc\n",
      "INFO  [14:21:54.747] [bbotk]       FALSE       FALSE     FALSE          FALSE  FALSE FALSE TRUE   0.3983219\n",
      "INFO  [14:21:54.747] [bbotk]  warnings errors runtime_learners                                uhash\n",
      "INFO  [14:21:54.747] [bbotk]         0      0            0.006 fb15226f-e3bb-46c8-a961-989a16b8a88d\n",
      "INFO  [14:21:54.749] [bbotk] Evaluating 1 configuration(s)\n",
      "INFO  [14:21:54.752] [mlr3] Running benchmark with 3 resampling iterations\n",
      "INFO  [14:21:54.754] [mlr3] Applying learner 'classif.rpart' on task 'penguins' (iter 1/3)\n",
      "INFO  [14:21:54.760] [mlr3] Applying learner 'classif.rpart' on task 'penguins' (iter 2/3)\n",
      "INFO  [14:21:54.766] [mlr3] Applying learner 'classif.rpart' on task 'penguins' (iter 3/3)\n",
      "INFO  [14:21:54.772] [mlr3] Finished benchmark\n",
      "INFO  [14:21:54.790] [bbotk] Result of batch 19:\n",
      "INFO  [14:21:54.793] [bbotk]  bill_depth bill_length body_mass flipper_length island  sex  year classif.acc\n",
      "INFO  [14:21:54.793] [bbotk]       FALSE       FALSE      TRUE          FALSE  FALSE TRUE FALSE   0.7499364\n",
      "INFO  [14:21:54.793] [bbotk]  warnings errors runtime_learners                                uhash\n",
      "INFO  [14:21:54.793] [bbotk]         0      0            0.007 5a562a02-af42-4cd2-b228-300cfcd3f05d\n",
      "INFO  [14:21:54.798] [bbotk] Evaluating 1 configuration(s)\n",
      "INFO  [14:21:54.802] [mlr3] Running benchmark with 3 resampling iterations\n",
      "INFO  [14:21:54.805] [mlr3] Applying learner 'classif.rpart' on task 'penguins' (iter 1/3)\n",
      "INFO  [14:21:54.816] [mlr3] Applying learner 'classif.rpart' on task 'penguins' (iter 2/3)\n",
      "INFO  [14:21:54.824] [mlr3] Applying learner 'classif.rpart' on task 'penguins' (iter 3/3)\n",
      "INFO  [14:21:54.830] [mlr3] Finished benchmark\n",
      "INFO  [14:21:54.843] [bbotk] Result of batch 20:\n",
      "INFO  [14:21:54.844] [bbotk]  bill_depth bill_length body_mass flipper_length island   sex year classif.acc\n",
      "INFO  [14:21:54.844] [bbotk]       FALSE       FALSE     FALSE          FALSE  FALSE FALSE TRUE   0.3983219\n",
      "INFO  [14:21:54.844] [bbotk]  warnings errors runtime_learners                                uhash\n",
      "INFO  [14:21:54.844] [bbotk]         0      0            0.008 00b225f3-4ed4-4ecd-83cb-e62b0138afa7\n",
      "INFO  [14:21:54.852] [bbotk] Finished optimizing after 20 evaluation(s)\n",
      "INFO  [14:21:54.852] [bbotk] Result:\n",
      "INFO  [14:21:54.854] [bbotk]  bill_depth bill_length body_mass flipper_length island    sex   year\n",
      "INFO  [14:21:54.854] [bbotk]      <lgcl>      <lgcl>    <lgcl>         <lgcl> <lgcl> <lgcl> <lgcl>\n",
      "INFO  [14:21:54.854] [bbotk]       FALSE        TRUE     FALSE           TRUE  FALSE  FALSE  FALSE\n",
      "INFO  [14:21:54.854] [bbotk]                    features n_features classif.acc\n",
      "INFO  [14:21:54.854] [bbotk]                      <list>      <int>       <num>\n",
      "INFO  [14:21:54.854] [bbotk]  bill_length,flipper_length          2   0.9273074\n"
     ]
    },
    {
     "data": {
      "text/html": [
       "<table class=\"dataframe\">\n",
       "<caption>A data.table: 1 x 10</caption>\n",
       "<thead>\n",
       "\t<tr><th scope=col>bill_depth</th><th scope=col>bill_length</th><th scope=col>body_mass</th><th scope=col>flipper_length</th><th scope=col>island</th><th scope=col>sex</th><th scope=col>year</th><th scope=col>features</th><th scope=col>n_features</th><th scope=col>classif.acc</th></tr>\n",
       "\t<tr><th scope=col>&lt;lgl&gt;</th><th scope=col>&lt;lgl&gt;</th><th scope=col>&lt;lgl&gt;</th><th scope=col>&lt;lgl&gt;</th><th scope=col>&lt;lgl&gt;</th><th scope=col>&lt;lgl&gt;</th><th scope=col>&lt;lgl&gt;</th><th scope=col>&lt;list&gt;</th><th scope=col>&lt;int&gt;</th><th scope=col>&lt;dbl&gt;</th></tr>\n",
       "</thead>\n",
       "<tbody>\n",
       "\t<tr><td>FALSE</td><td>TRUE</td><td>FALSE</td><td>TRUE</td><td>FALSE</td><td>FALSE</td><td>FALSE</td><td>bill_length   , flipper_length</td><td>2</td><td>0.9273074</td></tr>\n",
       "</tbody>\n",
       "</table>\n"
      ],
      "text/latex": [
       "A data.table: 1 x 10\n",
       "\\begin{tabular}{llllllllll}\n",
       " bill\\_depth & bill\\_length & body\\_mass & flipper\\_length & island & sex & year & features & n\\_features & classif.acc\\\\\n",
       " <lgl> & <lgl> & <lgl> & <lgl> & <lgl> & <lgl> & <lgl> & <list> & <int> & <dbl>\\\\\n",
       "\\hline\n",
       "\t FALSE & TRUE & FALSE & TRUE & FALSE & FALSE & FALSE & bill\\_length   , flipper\\_length & 2 & 0.9273074\\\\\n",
       "\\end{tabular}\n"
      ],
      "text/markdown": [
       "\n",
       "A data.table: 1 x 10\n",
       "\n",
       "| bill_depth &lt;lgl&gt; | bill_length &lt;lgl&gt; | body_mass &lt;lgl&gt; | flipper_length &lt;lgl&gt; | island &lt;lgl&gt; | sex &lt;lgl&gt; | year &lt;lgl&gt; | features &lt;list&gt; | n_features &lt;int&gt; | classif.acc &lt;dbl&gt; |\n",
       "|---|---|---|---|---|---|---|---|---|---|\n",
       "| FALSE | TRUE | FALSE | TRUE | FALSE | FALSE | FALSE | bill_length   , flipper_length | 2 | 0.9273074 |\n",
       "\n"
      ],
      "text/plain": [
       "  bill_depth bill_length body_mass flipper_length island sex   year \n",
       "1 FALSE      TRUE        FALSE     TRUE           FALSE  FALSE FALSE\n",
       "  features                       n_features classif.acc\n",
       "1 bill_length   , flipper_length 2          0.9273074  "
      ]
     },
     "metadata": {},
     "output_type": "display_data"
    },
    {
     "data": {
      "text/html": [
       "<table class=\"dataframe\">\n",
       "<caption>A data.table: 1 x 2</caption>\n",
       "<thead>\n",
       "\t<tr><th scope=col>features</th><th scope=col>classif.acc</th></tr>\n",
       "\t<tr><th scope=col>&lt;list&gt;</th><th scope=col>&lt;dbl&gt;</th></tr>\n",
       "</thead>\n",
       "<tbody>\n",
       "\t<tr><td>bill_length   , flipper_length</td><td>0.9273074</td></tr>\n",
       "</tbody>\n",
       "</table>\n"
      ],
      "text/latex": [
       "A data.table: 1 x 2\n",
       "\\begin{tabular}{ll}\n",
       " features & classif.acc\\\\\n",
       " <list> & <dbl>\\\\\n",
       "\\hline\n",
       "\t bill\\_length   , flipper\\_length & 0.9273074\\\\\n",
       "\\end{tabular}\n"
      ],
      "text/markdown": [
       "\n",
       "A data.table: 1 x 2\n",
       "\n",
       "| features &lt;list&gt; | classif.acc &lt;dbl&gt; |\n",
       "|---|---|\n",
       "| bill_length   , flipper_length | 0.9273074 |\n",
       "\n"
      ],
      "text/plain": [
       "  features                       classif.acc\n",
       "1 bill_length   , flipper_length 0.9273074  "
      ]
     },
     "metadata": {},
     "output_type": "display_data"
    }
   ],
   "source": [
    "tsk_pen <- tsk(\"penguins\")\n",
    "lrn_rpart <- lrn(\"classif.rpart\")\n",
    "\n",
    "instance <- fsi(\n",
    "  task = tsk_pen,\n",
    "  learner = lrn_rpart,\n",
    "  resampling = rsmp(\"cv\", folds = 3),\n",
    "  measure = msr(\"classif.acc\"),\n",
    "  terminator = trm(\"evals\", n_evals = 20)\n",
    ")\n",
    "\n",
    "fselect <- fs(\"genetic_search\")\n",
    "\n",
    "fselect$optimize(instance)\n",
    "\n",
    "as.data.table(instance$result)[, .(features, classif.acc)]\n",
    "\n",
    "# features                       classif.acc\n",
    "# 1 bill_length   , flipper_length 0.9273074"
   ]
  },
  {
   "cell_type": "code",
   "execution_count": null,
   "id": "5f12465d",
   "metadata": {
    "vscode": {
     "languageId": "r"
    }
   },
   "outputs": [
    {
     "name": "stdout",
     "output_type": "stream",
     "text": [
      "INFO  [14:25:08.128] [bbotk] Starting to optimize 7 parameter(s) with '<FSelectorBatchShadowVariableSearch>' and '<TerminatorEvals> [n_evals=20, k=0]'\n",
      "INFO  [14:25:08.137] [bbotk] Evaluating 14 configuration(s)\n",
      "INFO  [14:25:08.161] [mlr3] Running benchmark with 42 resampling iterations\n",
      "INFO  [14:25:08.227] [mlr3] Applying learner 'classif.rpart' on task 'penguins' (iter 1/3)\n",
      "INFO  [14:25:08.258] [mlr3] Applying learner 'classif.rpart' on task 'penguins' (iter 2/3)\n",
      "INFO  [14:25:08.276] [mlr3] Applying learner 'classif.rpart' on task 'penguins' (iter 3/3)\n",
      "INFO  [14:25:08.287] [mlr3] Applying learner 'classif.rpart' on task 'penguins' (iter 1/3)\n",
      "INFO  [14:25:08.297] [mlr3] Applying learner 'classif.rpart' on task 'penguins' (iter 2/3)\n",
      "INFO  [14:25:08.307] [mlr3] Applying learner 'classif.rpart' on task 'penguins' (iter 3/3)\n",
      "INFO  [14:25:08.345] [mlr3] Applying learner 'classif.rpart' on task 'penguins' (iter 1/3)\n",
      "INFO  [14:25:08.356] [mlr3] Applying learner 'classif.rpart' on task 'penguins' (iter 2/3)\n",
      "INFO  [14:25:08.366] [mlr3] Applying learner 'classif.rpart' on task 'penguins' (iter 3/3)\n",
      "INFO  [14:25:08.375] [mlr3] Applying learner 'classif.rpart' on task 'penguins' (iter 1/3)\n",
      "INFO  [14:25:08.386] [mlr3] Applying learner 'classif.rpart' on task 'penguins' (iter 2/3)\n",
      "INFO  [14:25:08.396] [mlr3] Applying learner 'classif.rpart' on task 'penguins' (iter 3/3)\n",
      "INFO  [14:25:08.406] [mlr3] Applying learner 'classif.rpart' on task 'penguins' (iter 1/3)\n",
      "INFO  [14:25:08.416] [mlr3] Applying learner 'classif.rpart' on task 'penguins' (iter 2/3)\n",
      "INFO  [14:25:08.426] [mlr3] Applying learner 'classif.rpart' on task 'penguins' (iter 3/3)\n",
      "INFO  [14:25:08.436] [mlr3] Applying learner 'classif.rpart' on task 'penguins' (iter 1/3)\n",
      "INFO  [14:25:08.456] [mlr3] Applying learner 'classif.rpart' on task 'penguins' (iter 2/3)\n",
      "INFO  [14:25:08.473] [mlr3] Applying learner 'classif.rpart' on task 'penguins' (iter 3/3)\n",
      "INFO  [14:25:08.486] [mlr3] Applying learner 'classif.rpart' on task 'penguins' (iter 1/3)\n",
      "INFO  [14:25:08.497] [mlr3] Applying learner 'classif.rpart' on task 'penguins' (iter 2/3)\n",
      "INFO  [14:25:08.508] [mlr3] Applying learner 'classif.rpart' on task 'penguins' (iter 3/3)\n",
      "INFO  [14:25:08.519] [mlr3] Applying learner 'classif.rpart' on task 'penguins' (iter 1/3)\n",
      "INFO  [14:25:08.530] [mlr3] Applying learner 'classif.rpart' on task 'penguins' (iter 2/3)\n",
      "INFO  [14:25:08.539] [mlr3] Applying learner 'classif.rpart' on task 'penguins' (iter 3/3)\n",
      "INFO  [14:25:08.549] [mlr3] Applying learner 'classif.rpart' on task 'penguins' (iter 1/3)\n",
      "INFO  [14:25:08.560] [mlr3] Applying learner 'classif.rpart' on task 'penguins' (iter 2/3)\n",
      "INFO  [14:25:08.571] [mlr3] Applying learner 'classif.rpart' on task 'penguins' (iter 3/3)\n",
      "INFO  [14:25:08.581] [mlr3] Applying learner 'classif.rpart' on task 'penguins' (iter 1/3)\n",
      "INFO  [14:25:08.590] [mlr3] Applying learner 'classif.rpart' on task 'penguins' (iter 2/3)\n",
      "INFO  [14:25:08.600] [mlr3] Applying learner 'classif.rpart' on task 'penguins' (iter 3/3)\n",
      "INFO  [14:25:08.610] [mlr3] Applying learner 'classif.rpart' on task 'penguins' (iter 1/3)\n",
      "INFO  [14:25:08.620] [mlr3] Applying learner 'classif.rpart' on task 'penguins' (iter 2/3)\n",
      "INFO  [14:25:08.639] [mlr3] Applying learner 'classif.rpart' on task 'penguins' (iter 3/3)\n",
      "INFO  [14:25:08.654] [mlr3] Applying learner 'classif.rpart' on task 'penguins' (iter 1/3)\n",
      "INFO  [14:25:08.665] [mlr3] Applying learner 'classif.rpart' on task 'penguins' (iter 2/3)\n",
      "INFO  [14:25:08.674] [mlr3] Applying learner 'classif.rpart' on task 'penguins' (iter 3/3)\n",
      "INFO  [14:25:08.683] [mlr3] Applying learner 'classif.rpart' on task 'penguins' (iter 1/3)\n",
      "INFO  [14:25:08.693] [mlr3] Applying learner 'classif.rpart' on task 'penguins' (iter 2/3)\n",
      "INFO  [14:25:08.702] [mlr3] Applying learner 'classif.rpart' on task 'penguins' (iter 3/3)\n",
      "INFO  [14:25:08.711] [mlr3] Applying learner 'classif.rpart' on task 'penguins' (iter 1/3)\n",
      "INFO  [14:25:08.720] [mlr3] Applying learner 'classif.rpart' on task 'penguins' (iter 2/3)\n",
      "INFO  [14:25:08.729] [mlr3] Applying learner 'classif.rpart' on task 'penguins' (iter 3/3)\n",
      "INFO  [14:25:08.740] [mlr3] Finished benchmark\n",
      "INFO  [14:25:08.824] [bbotk] Result of batch 1:\n",
      "INFO  [14:25:08.826] [bbotk]  bill_depth bill_length body_mass flipper_length island   sex  year\n",
      "INFO  [14:25:08.826] [bbotk]        TRUE       FALSE     FALSE          FALSE  FALSE FALSE FALSE\n",
      "INFO  [14:25:08.826] [bbotk]       FALSE        TRUE     FALSE          FALSE  FALSE FALSE FALSE\n",
      "INFO  [14:25:08.826] [bbotk]       FALSE       FALSE      TRUE          FALSE  FALSE FALSE FALSE\n",
      "INFO  [14:25:08.826] [bbotk]       FALSE       FALSE     FALSE           TRUE  FALSE FALSE FALSE\n",
      "INFO  [14:25:08.826] [bbotk]       FALSE       FALSE     FALSE          FALSE   TRUE FALSE FALSE\n",
      "INFO  [14:25:08.826] [bbotk]       FALSE       FALSE     FALSE          FALSE  FALSE  TRUE FALSE\n",
      "INFO  [14:25:08.826] [bbotk]       FALSE       FALSE     FALSE          FALSE  FALSE FALSE  TRUE\n",
      "INFO  [14:25:08.826] [bbotk]       FALSE       FALSE     FALSE          FALSE  FALSE FALSE FALSE\n",
      "INFO  [14:25:08.826] [bbotk]       FALSE       FALSE     FALSE          FALSE  FALSE FALSE FALSE\n",
      "INFO  [14:25:08.826] [bbotk]       FALSE       FALSE     FALSE          FALSE  FALSE FALSE FALSE\n",
      "INFO  [14:25:08.826] [bbotk]       FALSE       FALSE     FALSE          FALSE  FALSE FALSE FALSE\n",
      "INFO  [14:25:08.826] [bbotk]       FALSE       FALSE     FALSE          FALSE  FALSE FALSE FALSE\n",
      "INFO  [14:25:08.826] [bbotk]       FALSE       FALSE     FALSE          FALSE  FALSE FALSE FALSE\n",
      "INFO  [14:25:08.826] [bbotk]       FALSE       FALSE     FALSE          FALSE  FALSE FALSE FALSE\n",
      "INFO  [14:25:08.826] [bbotk]  permuted__bill_depth permuted__bill_length permuted__body_mass\n",
      "INFO  [14:25:08.826] [bbotk]                 FALSE                 FALSE               FALSE\n",
      "INFO  [14:25:08.826] [bbotk]                 FALSE                 FALSE               FALSE\n",
      "INFO  [14:25:08.826] [bbotk]                 FALSE                 FALSE               FALSE\n",
      "INFO  [14:25:08.826] [bbotk]                 FALSE                 FALSE               FALSE\n",
      "INFO  [14:25:08.826] [bbotk]                 FALSE                 FALSE               FALSE\n",
      "INFO  [14:25:08.826] [bbotk]                 FALSE                 FALSE               FALSE\n",
      "INFO  [14:25:08.826] [bbotk]                 FALSE                 FALSE               FALSE\n",
      "INFO  [14:25:08.826] [bbotk]                  TRUE                 FALSE               FALSE\n",
      "INFO  [14:25:08.826] [bbotk]                 FALSE                  TRUE               FALSE\n",
      "INFO  [14:25:08.826] [bbotk]                 FALSE                 FALSE                TRUE\n",
      "INFO  [14:25:08.826] [bbotk]                 FALSE                 FALSE               FALSE\n",
      "INFO  [14:25:08.826] [bbotk]                 FALSE                 FALSE               FALSE\n",
      "INFO  [14:25:08.826] [bbotk]                 FALSE                 FALSE               FALSE\n",
      "INFO  [14:25:08.826] [bbotk]                 FALSE                 FALSE               FALSE\n",
      "INFO  [14:25:08.826] [bbotk]  permuted__flipper_length permuted__island permuted__sex permuted__year\n",
      "INFO  [14:25:08.826] [bbotk]                     FALSE            FALSE         FALSE          FALSE\n",
      "INFO  [14:25:08.826] [bbotk]                     FALSE            FALSE         FALSE          FALSE\n",
      "INFO  [14:25:08.826] [bbotk]                     FALSE            FALSE         FALSE          FALSE\n",
      "INFO  [14:25:08.826] [bbotk]                     FALSE            FALSE         FALSE          FALSE\n",
      "INFO  [14:25:08.826] [bbotk]                     FALSE            FALSE         FALSE          FALSE\n",
      "INFO  [14:25:08.826] [bbotk]                     FALSE            FALSE         FALSE          FALSE\n",
      "INFO  [14:25:08.826] [bbotk]                     FALSE            FALSE         FALSE          FALSE\n",
      "INFO  [14:25:08.826] [bbotk]                     FALSE            FALSE         FALSE          FALSE\n",
      "INFO  [14:25:08.826] [bbotk]                     FALSE            FALSE         FALSE          FALSE\n",
      "INFO  [14:25:08.826] [bbotk]                     FALSE            FALSE         FALSE          FALSE\n",
      "INFO  [14:25:08.826] [bbotk]                      TRUE            FALSE         FALSE          FALSE\n",
      "INFO  [14:25:08.826] [bbotk]                     FALSE             TRUE         FALSE          FALSE\n",
      "INFO  [14:25:08.826] [bbotk]                     FALSE            FALSE          TRUE          FALSE\n",
      "INFO  [14:25:08.826] [bbotk]                     FALSE            FALSE         FALSE           TRUE\n",
      "INFO  [14:25:08.826] [bbotk]  classif.acc warnings errors runtime_learners\n",
      "INFO  [14:25:08.826] [bbotk]    0.7353420        0      0            0.027\n",
      "INFO  [14:25:08.826] [bbotk]    0.7499873        0      0            0.042\n",
      "INFO  [14:25:08.826] [bbotk]    0.7208747        0      0            0.019\n",
      "INFO  [14:25:08.826] [bbotk]    0.7934401        0      0            0.015\n",
      "INFO  [14:25:08.826] [bbotk]    0.6712179        0      0            0.019\n",
      "INFO  [14:25:08.826] [bbotk]    0.4418256        0      0            0.025\n",
      "INFO  [14:25:08.826] [bbotk]    0.4186372        0      0            0.019\n",
      "INFO  [14:25:08.826] [bbotk]    0.4069921        0      0            0.015\n",
      "INFO  [14:25:08.826] [bbotk]    0.4097635        0      0            0.015\n",
      "INFO  [14:25:08.826] [bbotk]    0.4098907        0      0            0.017\n",
      "INFO  [14:25:08.826] [bbotk]    0.3924485        0      0            0.020\n",
      "INFO  [14:25:08.826] [bbotk]    0.4418256        0      0            0.016\n",
      "INFO  [14:25:08.826] [bbotk]    0.4418256        0      0            0.017\n",
      "INFO  [14:25:08.826] [bbotk]    0.4418256        0      0            0.014\n",
      "INFO  [14:25:08.826] [bbotk]                                 uhash\n",
      "INFO  [14:25:08.826] [bbotk]  3276ad6f-f0c4-4517-a11a-6037248345a9\n",
      "INFO  [14:25:08.826] [bbotk]  35570072-a271-42c8-bf92-ca1b7234f10c\n",
      "INFO  [14:25:08.826] [bbotk]  b0e98e1b-28e0-4517-b09d-31e99b78a157\n",
      "INFO  [14:25:08.826] [bbotk]  bc17b019-ec7e-47d8-b648-7d3b98b6f95b\n",
      "INFO  [14:25:08.826] [bbotk]  5a04cf8d-ab3a-4d55-9aa4-78b50a9e7beb\n",
      "INFO  [14:25:08.826] [bbotk]  6bb8345d-6b0e-4d17-a464-2f949460a5dc\n",
      "INFO  [14:25:08.826] [bbotk]  227c763c-a864-412d-a53e-c6b7a1f2669c\n",
      "INFO  [14:25:08.826] [bbotk]  722dd9ec-5aa1-4a6a-a2fb-b021c0900b78\n",
      "INFO  [14:25:08.826] [bbotk]  1d2ab2be-a21e-4074-94f3-2f54456d2234\n",
      "INFO  [14:25:08.826] [bbotk]  9c6f32a8-427e-490d-b15e-c46c8de0c7c3\n",
      "INFO  [14:25:08.826] [bbotk]  625e472f-07bb-4341-a6ac-2a41dea97ba1\n",
      "INFO  [14:25:08.826] [bbotk]  90f88bfa-1ce8-438e-9cc7-78c064867da4\n",
      "INFO  [14:25:08.826] [bbotk]  639c9b6b-9d27-444e-a99f-872a56fded86\n",
      "INFO  [14:25:08.826] [bbotk]  8e9b28bb-7995-47ce-a2e8-e956f17e4459\n",
      "INFO  [14:25:08.831] [bbotk] Evaluating 13 configuration(s)\n",
      "INFO  [14:25:08.847] [mlr3] Running benchmark with 39 resampling iterations\n",
      "INFO  [14:25:08.850] [mlr3] Applying learner 'classif.rpart' on task 'penguins' (iter 1/3)\n",
      "INFO  [14:25:08.860] [mlr3] Applying learner 'classif.rpart' on task 'penguins' (iter 2/3)\n",
      "INFO  [14:25:08.870] [mlr3] Applying learner 'classif.rpart' on task 'penguins' (iter 3/3)\n",
      "INFO  [14:25:08.880] [mlr3] Applying learner 'classif.rpart' on task 'penguins' (iter 1/3)\n",
      "INFO  [14:25:08.889] [mlr3] Applying learner 'classif.rpart' on task 'penguins' (iter 2/3)\n",
      "INFO  [14:25:08.899] [mlr3] Applying learner 'classif.rpart' on task 'penguins' (iter 3/3)\n",
      "INFO  [14:25:08.909] [mlr3] Applying learner 'classif.rpart' on task 'penguins' (iter 1/3)\n",
      "INFO  [14:25:08.918] [mlr3] Applying learner 'classif.rpart' on task 'penguins' (iter 2/3)\n",
      "INFO  [14:25:08.935] [mlr3] Applying learner 'classif.rpart' on task 'penguins' (iter 3/3)\n",
      "INFO  [14:25:08.950] [mlr3] Applying learner 'classif.rpart' on task 'penguins' (iter 1/3)\n",
      "INFO  [14:25:08.964] [mlr3] Applying learner 'classif.rpart' on task 'penguins' (iter 2/3)\n",
      "INFO  [14:25:08.974] [mlr3] Applying learner 'classif.rpart' on task 'penguins' (iter 3/3)\n",
      "INFO  [14:25:08.984] [mlr3] Applying learner 'classif.rpart' on task 'penguins' (iter 1/3)\n",
      "INFO  [14:25:08.994] [mlr3] Applying learner 'classif.rpart' on task 'penguins' (iter 2/3)\n",
      "INFO  [14:25:09.005] [mlr3] Applying learner 'classif.rpart' on task 'penguins' (iter 3/3)\n",
      "INFO  [14:25:09.016] [mlr3] Applying learner 'classif.rpart' on task 'penguins' (iter 1/3)\n",
      "INFO  [14:25:09.027] [mlr3] Applying learner 'classif.rpart' on task 'penguins' (iter 2/3)\n",
      "INFO  [14:25:09.038] [mlr3] Applying learner 'classif.rpart' on task 'penguins' (iter 3/3)\n",
      "INFO  [14:25:09.047] [mlr3] Applying learner 'classif.rpart' on task 'penguins' (iter 1/3)\n",
      "INFO  [14:25:09.057] [mlr3] Applying learner 'classif.rpart' on task 'penguins' (iter 2/3)\n",
      "INFO  [14:25:09.067] [mlr3] Applying learner 'classif.rpart' on task 'penguins' (iter 3/3)\n",
      "INFO  [14:25:09.077] [mlr3] Applying learner 'classif.rpart' on task 'penguins' (iter 1/3)\n",
      "INFO  [14:25:09.096] [mlr3] Applying learner 'classif.rpart' on task 'penguins' (iter 2/3)\n",
      "INFO  [14:25:09.111] [mlr3] Applying learner 'classif.rpart' on task 'penguins' (iter 3/3)\n",
      "INFO  [14:25:09.126] [mlr3] Applying learner 'classif.rpart' on task 'penguins' (iter 1/3)\n",
      "INFO  [14:25:09.136] [mlr3] Applying learner 'classif.rpart' on task 'penguins' (iter 2/3)\n",
      "INFO  [14:25:09.145] [mlr3] Applying learner 'classif.rpart' on task 'penguins' (iter 3/3)\n",
      "INFO  [14:25:09.155] [mlr3] Applying learner 'classif.rpart' on task 'penguins' (iter 1/3)\n",
      "INFO  [14:25:09.165] [mlr3] Applying learner 'classif.rpart' on task 'penguins' (iter 2/3)\n",
      "INFO  [14:25:09.175] [mlr3] Applying learner 'classif.rpart' on task 'penguins' (iter 3/3)\n",
      "INFO  [14:25:09.184] [mlr3] Applying learner 'classif.rpart' on task 'penguins' (iter 1/3)\n",
      "INFO  [14:25:09.193] [mlr3] Applying learner 'classif.rpart' on task 'penguins' (iter 2/3)\n",
      "INFO  [14:25:09.203] [mlr3] Applying learner 'classif.rpart' on task 'penguins' (iter 3/3)\n",
      "INFO  [14:25:09.213] [mlr3] Applying learner 'classif.rpart' on task 'penguins' (iter 1/3)\n",
      "INFO  [14:25:09.223] [mlr3] Applying learner 'classif.rpart' on task 'penguins' (iter 2/3)\n",
      "INFO  [14:25:09.233] [mlr3] Applying learner 'classif.rpart' on task 'penguins' (iter 3/3)\n",
      "INFO  [14:25:09.243] [mlr3] Applying learner 'classif.rpart' on task 'penguins' (iter 1/3)\n",
      "INFO  [14:25:09.260] [mlr3] Applying learner 'classif.rpart' on task 'penguins' (iter 2/3)\n",
      "INFO  [14:25:09.276] [mlr3] Applying learner 'classif.rpart' on task 'penguins' (iter 3/3)\n",
      "INFO  [14:25:09.291] [mlr3] Finished benchmark\n",
      "INFO  [14:25:09.356] [bbotk] Result of batch 2:\n",
      "INFO  [14:25:09.358] [bbotk]  bill_depth bill_length body_mass flipper_length island   sex  year\n",
      "INFO  [14:25:09.358] [bbotk]        TRUE       FALSE     FALSE           TRUE  FALSE FALSE FALSE\n",
      "INFO  [14:25:09.358] [bbotk]       FALSE        TRUE     FALSE           TRUE  FALSE FALSE FALSE\n",
      "INFO  [14:25:09.358] [bbotk]       FALSE       FALSE      TRUE           TRUE  FALSE FALSE FALSE\n",
      "INFO  [14:25:09.358] [bbotk]       FALSE       FALSE     FALSE           TRUE   TRUE FALSE FALSE\n",
      "INFO  [14:25:09.358] [bbotk]       FALSE       FALSE     FALSE           TRUE  FALSE  TRUE FALSE\n",
      "INFO  [14:25:09.358] [bbotk]       FALSE       FALSE     FALSE           TRUE  FALSE FALSE  TRUE\n",
      "INFO  [14:25:09.358] [bbotk]       FALSE       FALSE     FALSE           TRUE  FALSE FALSE FALSE\n",
      "INFO  [14:25:09.358] [bbotk]       FALSE       FALSE     FALSE           TRUE  FALSE FALSE FALSE\n",
      "INFO  [14:25:09.358] [bbotk]       FALSE       FALSE     FALSE           TRUE  FALSE FALSE FALSE\n",
      "INFO  [14:25:09.358] [bbotk]       FALSE       FALSE     FALSE           TRUE  FALSE FALSE FALSE\n",
      "INFO  [14:25:09.358] [bbotk]       FALSE       FALSE     FALSE           TRUE  FALSE FALSE FALSE\n",
      "INFO  [14:25:09.358] [bbotk]       FALSE       FALSE     FALSE           TRUE  FALSE FALSE FALSE\n",
      "INFO  [14:25:09.358] [bbotk]       FALSE       FALSE     FALSE           TRUE  FALSE FALSE FALSE\n",
      "INFO  [14:25:09.358] [bbotk]  permuted__bill_depth permuted__bill_length permuted__body_mass\n",
      "INFO  [14:25:09.358] [bbotk]                 FALSE                 FALSE               FALSE\n",
      "INFO  [14:25:09.358] [bbotk]                 FALSE                 FALSE               FALSE\n",
      "INFO  [14:25:09.358] [bbotk]                 FALSE                 FALSE               FALSE\n",
      "INFO  [14:25:09.358] [bbotk]                 FALSE                 FALSE               FALSE\n",
      "INFO  [14:25:09.358] [bbotk]                 FALSE                 FALSE               FALSE\n",
      "INFO  [14:25:09.358] [bbotk]                 FALSE                 FALSE               FALSE\n",
      "INFO  [14:25:09.358] [bbotk]                  TRUE                 FALSE               FALSE\n",
      "INFO  [14:25:09.358] [bbotk]                 FALSE                  TRUE               FALSE\n",
      "INFO  [14:25:09.358] [bbotk]                 FALSE                 FALSE                TRUE\n",
      "INFO  [14:25:09.358] [bbotk]                 FALSE                 FALSE               FALSE\n",
      "INFO  [14:25:09.358] [bbotk]                 FALSE                 FALSE               FALSE\n",
      "INFO  [14:25:09.358] [bbotk]                 FALSE                 FALSE               FALSE\n",
      "INFO  [14:25:09.358] [bbotk]                 FALSE                 FALSE               FALSE\n",
      "INFO  [14:25:09.358] [bbotk]  permuted__flipper_length permuted__island permuted__sex permuted__year\n",
      "INFO  [14:25:09.358] [bbotk]                     FALSE            FALSE         FALSE          FALSE\n",
      "INFO  [14:25:09.358] [bbotk]                     FALSE            FALSE         FALSE          FALSE\n",
      "INFO  [14:25:09.358] [bbotk]                     FALSE            FALSE         FALSE          FALSE\n",
      "INFO  [14:25:09.358] [bbotk]                     FALSE            FALSE         FALSE          FALSE\n",
      "INFO  [14:25:09.358] [bbotk]                     FALSE            FALSE         FALSE          FALSE\n",
      "INFO  [14:25:09.358] [bbotk]                     FALSE            FALSE         FALSE          FALSE\n",
      "INFO  [14:25:09.358] [bbotk]                     FALSE            FALSE         FALSE          FALSE\n",
      "INFO  [14:25:09.358] [bbotk]                     FALSE            FALSE         FALSE          FALSE\n",
      "INFO  [14:25:09.358] [bbotk]                     FALSE            FALSE         FALSE          FALSE\n",
      "INFO  [14:25:09.358] [bbotk]                      TRUE            FALSE         FALSE          FALSE\n",
      "INFO  [14:25:09.358] [bbotk]                     FALSE             TRUE         FALSE          FALSE\n",
      "INFO  [14:25:09.358] [bbotk]                     FALSE            FALSE          TRUE          FALSE\n",
      "INFO  [14:25:09.358] [bbotk]                     FALSE            FALSE         FALSE           TRUE\n",
      "INFO  [14:25:09.358] [bbotk]  classif.acc warnings errors runtime_learners\n",
      "INFO  [14:25:09.358] [bbotk]    0.7789474        0      0            0.018\n",
      "INFO  [14:25:09.358] [bbotk]    0.9331045        0      0            0.016\n",
      "INFO  [14:25:09.358] [bbotk]    0.7818713        0      0            0.025\n",
      "INFO  [14:25:09.358] [bbotk]    0.8429952        0      0            0.020\n",
      "INFO  [14:25:09.358] [bbotk]    0.7992881        0      0            0.018\n",
      "INFO  [14:25:09.358] [bbotk]    0.7905416        0      0            0.017\n",
      "INFO  [14:25:09.358] [bbotk]    0.7935673        0      0            0.018\n",
      "INFO  [14:25:09.358] [bbotk]    0.7586575        0      0            0.029\n",
      "INFO  [14:25:09.358] [bbotk]    0.8022375        0      0            0.018\n",
      "INFO  [14:25:09.358] [bbotk]    0.7905924        0      0            0.015\n",
      "INFO  [14:25:09.358] [bbotk]    0.7934401        0      0            0.017\n",
      "INFO  [14:25:09.358] [bbotk]    0.7934401        0      0            0.016\n",
      "INFO  [14:25:09.358] [bbotk]    0.7818459        0      0            0.027\n",
      "INFO  [14:25:09.358] [bbotk]                                 uhash\n",
      "INFO  [14:25:09.358] [bbotk]  36c7afab-b059-4a95-b049-d6359018f490\n",
      "INFO  [14:25:09.358] [bbotk]  ed93b8a4-ba63-492d-8aed-f0d654dac288\n",
      "INFO  [14:25:09.358] [bbotk]  6baf50a9-4d6a-4488-bc1e-aff9356fdfd6\n",
      "INFO  [14:25:09.358] [bbotk]  31627003-9fb4-421e-b1b7-30a8d7cb1fce\n",
      "INFO  [14:25:09.358] [bbotk]  dcc51d3f-53c5-4e96-b18c-0c993c123141\n",
      "INFO  [14:25:09.358] [bbotk]  37575390-5e79-4d57-a851-84161f5d37a8\n",
      "INFO  [14:25:09.358] [bbotk]  709fa8fc-0826-4793-aee6-146f65bffef7\n",
      "INFO  [14:25:09.358] [bbotk]  0c058d81-b067-4bb0-80bc-cad0761c234c\n",
      "INFO  [14:25:09.358] [bbotk]  6152e54c-f9a3-4a63-84a8-aad263a9d55f\n",
      "INFO  [14:25:09.358] [bbotk]  040ebe5a-00e4-48f4-988f-6a94473d7807\n",
      "INFO  [14:25:09.358] [bbotk]  6dbae271-a133-4d20-a5ef-26921e1f4c7a\n",
      "INFO  [14:25:09.358] [bbotk]  40f16e41-e2f1-42d5-9022-62c42d18f886\n",
      "INFO  [14:25:09.358] [bbotk]  ed9ecb54-3f82-4adc-9019-f9e6a80998d3\n",
      "INFO  [14:25:09.368] [bbotk] Finished optimizing after 27 evaluation(s)\n",
      "INFO  [14:25:09.369] [bbotk] Result:\n",
      "INFO  [14:25:09.370] [bbotk]  bill_depth bill_length body_mass flipper_length island    sex   year\n",
      "INFO  [14:25:09.370] [bbotk]      <lgcl>      <lgcl>    <lgcl>         <lgcl> <lgcl> <lgcl> <lgcl>\n",
      "INFO  [14:25:09.370] [bbotk]       FALSE        TRUE     FALSE           TRUE  FALSE  FALSE  FALSE\n",
      "INFO  [14:25:09.370] [bbotk]                    features n_features classif.acc\n",
      "INFO  [14:25:09.370] [bbotk]                      <list>      <int>       <num>\n",
      "INFO  [14:25:09.370] [bbotk]  bill_length,flipper_length          2   0.9331045\n"
     ]
    },
    {
     "data": {
      "text/html": [
       "<table class=\"dataframe\">\n",
       "<caption>A data.table: 1 x 10</caption>\n",
       "<thead>\n",
       "\t<tr><th scope=col>bill_depth</th><th scope=col>bill_length</th><th scope=col>body_mass</th><th scope=col>flipper_length</th><th scope=col>island</th><th scope=col>sex</th><th scope=col>year</th><th scope=col>features</th><th scope=col>n_features</th><th scope=col>classif.acc</th></tr>\n",
       "\t<tr><th scope=col>&lt;lgl&gt;</th><th scope=col>&lt;lgl&gt;</th><th scope=col>&lt;lgl&gt;</th><th scope=col>&lt;lgl&gt;</th><th scope=col>&lt;lgl&gt;</th><th scope=col>&lt;lgl&gt;</th><th scope=col>&lt;lgl&gt;</th><th scope=col>&lt;list&gt;</th><th scope=col>&lt;int&gt;</th><th scope=col>&lt;dbl&gt;</th></tr>\n",
       "</thead>\n",
       "<tbody>\n",
       "\t<tr><td>FALSE</td><td>TRUE</td><td>FALSE</td><td>TRUE</td><td>FALSE</td><td>FALSE</td><td>FALSE</td><td>bill_length   , flipper_length</td><td>2</td><td>0.9331045</td></tr>\n",
       "</tbody>\n",
       "</table>\n"
      ],
      "text/latex": [
       "A data.table: 1 x 10\n",
       "\\begin{tabular}{llllllllll}\n",
       " bill\\_depth & bill\\_length & body\\_mass & flipper\\_length & island & sex & year & features & n\\_features & classif.acc\\\\\n",
       " <lgl> & <lgl> & <lgl> & <lgl> & <lgl> & <lgl> & <lgl> & <list> & <int> & <dbl>\\\\\n",
       "\\hline\n",
       "\t FALSE & TRUE & FALSE & TRUE & FALSE & FALSE & FALSE & bill\\_length   , flipper\\_length & 2 & 0.9331045\\\\\n",
       "\\end{tabular}\n"
      ],
      "text/markdown": [
       "\n",
       "A data.table: 1 x 10\n",
       "\n",
       "| bill_depth &lt;lgl&gt; | bill_length &lt;lgl&gt; | body_mass &lt;lgl&gt; | flipper_length &lt;lgl&gt; | island &lt;lgl&gt; | sex &lt;lgl&gt; | year &lt;lgl&gt; | features &lt;list&gt; | n_features &lt;int&gt; | classif.acc &lt;dbl&gt; |\n",
       "|---|---|---|---|---|---|---|---|---|---|\n",
       "| FALSE | TRUE | FALSE | TRUE | FALSE | FALSE | FALSE | bill_length   , flipper_length | 2 | 0.9331045 |\n",
       "\n"
      ],
      "text/plain": [
       "  bill_depth bill_length body_mass flipper_length island sex   year \n",
       "1 FALSE      TRUE        FALSE     TRUE           FALSE  FALSE FALSE\n",
       "  features                       n_features classif.acc\n",
       "1 bill_length   , flipper_length 2          0.9331045  "
      ]
     },
     "metadata": {},
     "output_type": "display_data"
    },
    {
     "data": {
      "text/html": [
       "<table class=\"dataframe\">\n",
       "<caption>A data.table: 1 x 2</caption>\n",
       "<thead>\n",
       "\t<tr><th scope=col>features</th><th scope=col>classif.acc</th></tr>\n",
       "\t<tr><th scope=col>&lt;list&gt;</th><th scope=col>&lt;dbl&gt;</th></tr>\n",
       "</thead>\n",
       "<tbody>\n",
       "\t<tr><td>bill_length   , flipper_length</td><td>0.9331045</td></tr>\n",
       "</tbody>\n",
       "</table>\n"
      ],
      "text/latex": [
       "A data.table: 1 x 2\n",
       "\\begin{tabular}{ll}\n",
       " features & classif.acc\\\\\n",
       " <list> & <dbl>\\\\\n",
       "\\hline\n",
       "\t bill\\_length   , flipper\\_length & 0.9331045\\\\\n",
       "\\end{tabular}\n"
      ],
      "text/markdown": [
       "\n",
       "A data.table: 1 x 2\n",
       "\n",
       "| features &lt;list&gt; | classif.acc &lt;dbl&gt; |\n",
       "|---|---|\n",
       "| bill_length   , flipper_length | 0.9331045 |\n",
       "\n"
      ],
      "text/plain": [
       "  features                       classif.acc\n",
       "1 bill_length   , flipper_length 0.9331045  "
      ]
     },
     "metadata": {},
     "output_type": "display_data"
    }
   ],
   "source": [
    "tsk_pen <- tsk(\"penguins\")\n",
    "lrn_rpart <- lrn(\"classif.rpart\")\n",
    "\n",
    "instance <- fsi(\n",
    "  task = tsk_pen,\n",
    "  learner = lrn_rpart,\n",
    "  resampling = rsmp(\"cv\", folds = 3),\n",
    "  measure = msr(\"classif.acc\"),\n",
    "  terminator = trm(\"evals\", n_evals = 20)\n",
    ")\n",
    "\n",
    "fselect <- fs(\"shadow_variable_search\")\n",
    "\n",
    "fselect$optimize(instance)\n",
    "\n",
    "as.data.table(instance$result)[, .(features, classif.acc)]\n",
    "\n",
    "# features                       classif.acc\n",
    "# 1 bill_length   , flipper_length 0.9331045"
   ]
  },
  {
   "cell_type": "code",
   "execution_count": 5,
   "id": "c20537f2",
   "metadata": {
    "vscode": {
     "languageId": "r"
    }
   },
   "outputs": [
    {
     "name": "stderr",
     "output_type": "stream",
     "text": [
      "-- \u001b[1mAttaching core tidyverse packages\u001b[22m ------------------------ tidyverse 2.0.0 --\n",
      "\u001b[32mv\u001b[39m \u001b[34mdplyr    \u001b[39m 1.1.4     \u001b[32mv\u001b[39m \u001b[34mreadr    \u001b[39m 2.1.5\n",
      "\u001b[32mv\u001b[39m \u001b[34mforcats  \u001b[39m 1.0.0     \u001b[32mv\u001b[39m \u001b[34mstringr  \u001b[39m 1.5.1\n",
      "\u001b[32mv\u001b[39m \u001b[34mggplot2  \u001b[39m 3.5.2     \u001b[32mv\u001b[39m \u001b[34mtibble   \u001b[39m 3.2.1\n",
      "\u001b[32mv\u001b[39m \u001b[34mlubridate\u001b[39m 1.9.4     \u001b[32mv\u001b[39m \u001b[34mtidyr    \u001b[39m 1.3.1\n",
      "\u001b[32mv\u001b[39m \u001b[34mpurrr    \u001b[39m 1.0.4     \n",
      "-- \u001b[1mConflicts\u001b[22m ------------------------------------------ tidyverse_conflicts() --\n",
      "\u001b[31mx\u001b[39m \u001b[34mdplyr\u001b[39m::\u001b[32mfilter()\u001b[39m masks \u001b[34mstats\u001b[39m::filter()\n",
      "\u001b[31mx\u001b[39m \u001b[34mdplyr\u001b[39m::\u001b[32mlag()\u001b[39m    masks \u001b[34mstats\u001b[39m::lag()\n",
      "\u001b[36mi\u001b[39m Use the conflicted package (\u001b[3m\u001b[34m<http://conflicted.r-lib.org/>\u001b[39m\u001b[23m) to force all conflicts to become errors\n"
     ]
    }
   ],
   "source": [
    "library(mlr3verse)\n",
    "library(tidyverse)"
   ]
  },
  {
   "cell_type": "code",
   "execution_count": 7,
   "id": "1c17b3b4",
   "metadata": {
    "vscode": {
     "languageId": "r"
    }
   },
   "outputs": [
    {
     "name": "stderr",
     "output_type": "stream",
     "text": [
      "Superclass MeasureClust has cloneable=FALSE, but subclass MeasureClustFPC has cloneable=TRUE. A subclass cannot be cloneable when its superclass is not cloneable, so cloning will be disabled for MeasureClustFPC.\n",
      "\n",
      "Superclass MeasureClust has cloneable=FALSE, but subclass MeasureClustFPC has cloneable=TRUE. A subclass cannot be cloneable when its superclass is not cloneable, so cloning will be disabled for MeasureClustFPC.\n",
      "\n",
      "Superclass MeasureClust has cloneable=FALSE, but subclass MeasureClustSil has cloneable=TRUE. A subclass cannot be cloneable when its superclass is not cloneable, so cloning will be disabled for MeasureClustSil.\n",
      "\n",
      "Superclass MeasureClust has cloneable=FALSE, but subclass MeasureClustFPC has cloneable=TRUE. A subclass cannot be cloneable when its superclass is not cloneable, so cloning will be disabled for MeasureClustFPC.\n",
      "\n"
     ]
    },
    {
     "data": {
      "text/html": [
       "<table class=\"dataframe\">\n",
       "<caption>A data.table: 75 x 7</caption>\n",
       "<thead>\n",
       "\t<tr><th scope=col>key</th><th scope=col>label</th><th scope=col>task_type</th><th scope=col>packages</th><th scope=col>predict_type</th><th scope=col>properties</th><th scope=col>task_properties</th></tr>\n",
       "\t<tr><th scope=col>&lt;chr&gt;</th><th scope=col>&lt;chr&gt;</th><th scope=col>&lt;chr&gt;</th><th scope=col>&lt;list&gt;</th><th scope=col>&lt;chr&gt;</th><th scope=col>&lt;list&gt;</th><th scope=col>&lt;list&gt;</th></tr>\n",
       "</thead>\n",
       "<tbody>\n",
       "\t<tr><td>aic              </td><td>Akaike Information Criterion              </td><td>NA     </td><td>mlr3</td><td>NA      </td><td>na_score              , requires_learner      , requires_model        , requires_no_prediction</td><td></td></tr>\n",
       "\t<tr><td>bic              </td><td>Bayesian Information Criterion            </td><td>NA     </td><td>mlr3</td><td>NA      </td><td>na_score              , requires_learner      , requires_model        , requires_no_prediction</td><td></td></tr>\n",
       "\t<tr><td>ci               </td><td>Default CI                                </td><td>NA     </td><td>mlr3        , mlr3measures, mlr3inferr  </td><td>response</td><td>primary_iters</td><td></td></tr>\n",
       "\t<tr><td>ci.con_z         </td><td>Conservative-Z CI                         </td><td>NA     </td><td>mlr3        , mlr3measures, mlr3inferr  </td><td>response</td><td>primary_iters</td><td></td></tr>\n",
       "\t<tr><td>ci.cor_t         </td><td>Corrected-T CI                            </td><td>NA     </td><td>mlr3        , mlr3measures, mlr3inferr  </td><td>response</td><td>primary_iters</td><td></td></tr>\n",
       "\t<tr><td>ci.holdout       </td><td>Holdout CI                                </td><td>NA     </td><td>mlr3        , mlr3measures, mlr3inferr  </td><td>response</td><td>primary_iters</td><td></td></tr>\n",
       "\t<tr><td>ci.ncv           </td><td>Nested CV CI                              </td><td>NA     </td><td>mlr3        , mlr3measures, mlr3inferr  </td><td>response</td><td>primary_iters</td><td></td></tr>\n",
       "\t<tr><td>ci.wald_cv       </td><td>Naive CV CI                               </td><td>NA     </td><td>mlr3        , mlr3measures, mlr3inferr  </td><td>response</td><td>primary_iters</td><td></td></tr>\n",
       "\t<tr><td>classif.acc      </td><td>Classification Accuracy                   </td><td>classif</td><td>mlr3        , mlr3measures</td><td>response</td><td></td><td></td></tr>\n",
       "\t<tr><td>classif.auc      </td><td>Area Under the ROC Curve                  </td><td>classif</td><td>mlr3        , mlr3measures</td><td>prob    </td><td></td><td>twoclass</td></tr>\n",
       "\t<tr><td>classif.bacc     </td><td>Balanced Accuracy                         </td><td>classif</td><td>mlr3        , mlr3measures</td><td>response</td><td></td><td></td></tr>\n",
       "\t<tr><td>classif.bbrier   </td><td>Binary Brier Score                        </td><td>classif</td><td>mlr3        , mlr3measures</td><td>prob    </td><td></td><td>twoclass</td></tr>\n",
       "\t<tr><td>classif.ce       </td><td>Classification Error                      </td><td>classif</td><td>mlr3        , mlr3measures</td><td>response</td><td></td><td></td></tr>\n",
       "\t<tr><td>classif.costs    </td><td>Cost-sensitive Classification             </td><td>classif</td><td>mlr3</td><td>response</td><td></td><td></td></tr>\n",
       "\t<tr><td>classif.dor      </td><td>Diagnostic Odds Ratio                     </td><td>classif</td><td>mlr3        , mlr3measures</td><td>response</td><td></td><td>twoclass</td></tr>\n",
       "\t<tr><td>classif.fbeta    </td><td>F-beta score                              </td><td>classif</td><td>mlr3        , mlr3measures</td><td>response</td><td></td><td>twoclass</td></tr>\n",
       "\t<tr><td>classif.fdr      </td><td>False Discovery Rate                      </td><td>classif</td><td>mlr3        , mlr3measures</td><td>response</td><td></td><td>twoclass</td></tr>\n",
       "\t<tr><td>classif.fn       </td><td>False Negatives                           </td><td>classif</td><td>mlr3        , mlr3measures</td><td>response</td><td></td><td>twoclass</td></tr>\n",
       "\t<tr><td>classif.fnr      </td><td>False Negative Rate                       </td><td>classif</td><td>mlr3        , mlr3measures</td><td>response</td><td></td><td>twoclass</td></tr>\n",
       "\t<tr><td>classif.fomr     </td><td>False Omission Rate                       </td><td>classif</td><td>mlr3        , mlr3measures</td><td>response</td><td></td><td>twoclass</td></tr>\n",
       "\t<tr><td>classif.fp       </td><td>False Positives                           </td><td>classif</td><td>mlr3        , mlr3measures</td><td>response</td><td></td><td>twoclass</td></tr>\n",
       "\t<tr><td>classif.fpr      </td><td>False Positive Rate                       </td><td>classif</td><td>mlr3        , mlr3measures</td><td>response</td><td></td><td>twoclass</td></tr>\n",
       "\t<tr><td>classif.logloss  </td><td>Log Loss                                  </td><td>classif</td><td>mlr3        , mlr3measures</td><td>prob    </td><td></td><td></td></tr>\n",
       "\t<tr><td>classif.mauc_au1p</td><td>Weighted average 1 vs. 1 multiclass AUC   </td><td>classif</td><td>mlr3        , mlr3measures</td><td>prob    </td><td></td><td></td></tr>\n",
       "\t<tr><td>classif.mauc_au1u</td><td>Average 1 vs. 1 multiclass AUC            </td><td>classif</td><td>mlr3        , mlr3measures</td><td>prob    </td><td></td><td></td></tr>\n",
       "\t<tr><td>classif.mauc_aunp</td><td>Weighted average 1 vs. rest multiclass AUC</td><td>classif</td><td>mlr3        , mlr3measures</td><td>prob    </td><td></td><td></td></tr>\n",
       "\t<tr><td>classif.mauc_aunu</td><td>Average 1 vs. rest multiclass AUC         </td><td>classif</td><td>mlr3        , mlr3measures</td><td>prob    </td><td></td><td></td></tr>\n",
       "\t<tr><td>classif.mauc_mu  </td><td>Multiclass mu AUC                         </td><td>classif</td><td>mlr3        , mlr3measures</td><td>prob    </td><td></td><td></td></tr>\n",
       "\t<tr><td>classif.mbrier   </td><td>Multiclass Brier Score                    </td><td>classif</td><td>mlr3        , mlr3measures</td><td>prob    </td><td></td><td></td></tr>\n",
       "\t<tr><td>classif.mcc      </td><td>Matthews Correlation Coefficient          </td><td>classif</td><td>mlr3        , mlr3measures</td><td>response</td><td></td><td></td></tr>\n",
       "\t<tr><td>...</td><td>...</td><td>...</td><td>...</td><td>...</td><td>...</td><td>...</td></tr>\n",
       "\t<tr><td>debug_classif       </td><td>Debug Classification Measure                       </td><td>NA  </td><td>mlr3</td><td>response</td><td>na_score</td><td></td></tr>\n",
       "\t<tr><td>internal_valid_score</td><td>Internal Validation Score                          </td><td>NA  </td><td>mlr3</td><td>NA      </td><td>na_score              , requires_learner      , requires_no_prediction</td><td></td></tr>\n",
       "\t<tr><td>oob_error           </td><td>Out-of-bag Error                                   </td><td>NA  </td><td>mlr3</td><td>NA      </td><td>na_score              , requires_learner      , requires_no_prediction</td><td></td></tr>\n",
       "\t<tr><td>regr.bias           </td><td>Bias                                               </td><td>regr</td><td>mlr3        , mlr3measures</td><td>response</td><td></td><td></td></tr>\n",
       "\t<tr><td>regr.ktau           </td><td>Kendall's tau                                      </td><td>regr</td><td>mlr3        , mlr3measures</td><td>response</td><td></td><td></td></tr>\n",
       "\t<tr><td>regr.mae            </td><td>Mean Absolute Error                                </td><td>regr</td><td>mlr3        , mlr3measures</td><td>response</td><td></td><td></td></tr>\n",
       "\t<tr><td>regr.mape           </td><td>Mean Absolute Percent Error                        </td><td>regr</td><td>mlr3        , mlr3measures</td><td>response</td><td></td><td></td></tr>\n",
       "\t<tr><td>regr.maxae          </td><td>Max Absolute Error                                 </td><td>regr</td><td>mlr3        , mlr3measures</td><td>response</td><td></td><td></td></tr>\n",
       "\t<tr><td>regr.medae          </td><td>Median Absolute Error                              </td><td>regr</td><td>mlr3        , mlr3measures</td><td>response</td><td></td><td></td></tr>\n",
       "\t<tr><td>regr.medse          </td><td>Median Squared Error                               </td><td>regr</td><td>mlr3        , mlr3measures</td><td>response</td><td></td><td></td></tr>\n",
       "\t<tr><td>regr.mse            </td><td>Mean Squared Error                                 </td><td>regr</td><td>mlr3        , mlr3measures</td><td>response</td><td></td><td></td></tr>\n",
       "\t<tr><td>regr.msle           </td><td>Mean Squared Log Error                             </td><td>regr</td><td>mlr3        , mlr3measures</td><td>response</td><td></td><td></td></tr>\n",
       "\t<tr><td>regr.pbias          </td><td>Percent Bias                                       </td><td>regr</td><td>mlr3        , mlr3measures</td><td>response</td><td></td><td></td></tr>\n",
       "\t<tr><td>regr.pinball        </td><td>Pinball                                            </td><td>regr</td><td>mlr3        , mlr3measures</td><td>response</td><td></td><td></td></tr>\n",
       "\t<tr><td>regr.rae            </td><td>Relative Absolute Error                            </td><td>regr</td><td>mlr3        , mlr3measures</td><td>response</td><td></td><td></td></tr>\n",
       "\t<tr><td>regr.rmse           </td><td>Root Mean Squared Error                            </td><td>regr</td><td>mlr3        , mlr3measures</td><td>response</td><td></td><td></td></tr>\n",
       "\t<tr><td>regr.rmsle          </td><td>Root Mean Squared Log Error                        </td><td>regr</td><td>mlr3        , mlr3measures</td><td>response</td><td></td><td></td></tr>\n",
       "\t<tr><td>regr.rrse           </td><td>Root Relative Squared Error                        </td><td>regr</td><td>mlr3        , mlr3measures</td><td>response</td><td></td><td></td></tr>\n",
       "\t<tr><td>regr.rse            </td><td>Relative Squared Error                             </td><td>regr</td><td>mlr3        , mlr3measures</td><td>response</td><td></td><td></td></tr>\n",
       "\t<tr><td>regr.rsq            </td><td>NA                                                 </td><td>regr</td><td>mlr3</td><td>response</td><td></td><td></td></tr>\n",
       "\t<tr><td>regr.sae            </td><td>Sum of Absolute Errors                             </td><td>regr</td><td>mlr3        , mlr3measures</td><td>response</td><td></td><td></td></tr>\n",
       "\t<tr><td>regr.smape          </td><td>Symmetric Mean Absolute Percent Error              </td><td>regr</td><td>mlr3        , mlr3measures</td><td>response</td><td></td><td></td></tr>\n",
       "\t<tr><td>regr.srho           </td><td>Spearman's rho                                     </td><td>regr</td><td>mlr3        , mlr3measures</td><td>response</td><td></td><td></td></tr>\n",
       "\t<tr><td>regr.sse            </td><td>Sum of Squared Errors                              </td><td>regr</td><td>mlr3        , mlr3measures</td><td>response</td><td></td><td></td></tr>\n",
       "\t<tr><td>selected_features   </td><td>Absolute or Relative Frequency of Selected Features</td><td>NA  </td><td>mlr3</td><td>NA      </td><td>requires_task         , requires_learner      , requires_model        , requires_no_prediction</td><td></td></tr>\n",
       "\t<tr><td>sim.jaccard         </td><td>Jaccard Similarity Index                           </td><td>NA  </td><td>mlr3        , mlr3measures</td><td>NA      </td><td>requires_model</td><td></td></tr>\n",
       "\t<tr><td>sim.phi             </td><td>Phi Coefficient Similarity                         </td><td>NA  </td><td>mlr3        , mlr3measures</td><td>NA      </td><td>requires_model</td><td></td></tr>\n",
       "\t<tr><td>time_both           </td><td>Elapsed Time                                       </td><td>NA  </td><td>mlr3</td><td>NA      </td><td>requires_learner      , requires_no_prediction</td><td></td></tr>\n",
       "\t<tr><td>time_predict        </td><td>Elapsed Time                                       </td><td>NA  </td><td>mlr3</td><td>NA      </td><td>requires_learner      , requires_no_prediction</td><td></td></tr>\n",
       "\t<tr><td>time_train          </td><td>Elapsed Time                                       </td><td>NA  </td><td>mlr3</td><td>NA      </td><td>requires_learner      , requires_no_prediction</td><td></td></tr>\n",
       "</tbody>\n",
       "</table>\n"
      ],
      "text/latex": [
       "A data.table: 75 x 7\n",
       "\\begin{tabular}{lllllll}\n",
       " key & label & task\\_type & packages & predict\\_type & properties & task\\_properties\\\\\n",
       " <chr> & <chr> & <chr> & <list> & <chr> & <list> & <list>\\\\\n",
       "\\hline\n",
       "\t aic               & Akaike Information Criterion               & NA      & mlr3 & NA       & na\\_score              , requires\\_learner      , requires\\_model        , requires\\_no\\_prediction & \\\\\n",
       "\t bic               & Bayesian Information Criterion             & NA      & mlr3 & NA       & na\\_score              , requires\\_learner      , requires\\_model        , requires\\_no\\_prediction & \\\\\n",
       "\t ci                & Default CI                                 & NA      & mlr3        , mlr3measures, mlr3inferr   & response & primary\\_iters & \\\\\n",
       "\t ci.con\\_z          & Conservative-Z CI                          & NA      & mlr3        , mlr3measures, mlr3inferr   & response & primary\\_iters & \\\\\n",
       "\t ci.cor\\_t          & Corrected-T CI                             & NA      & mlr3        , mlr3measures, mlr3inferr   & response & primary\\_iters & \\\\\n",
       "\t ci.holdout        & Holdout CI                                 & NA      & mlr3        , mlr3measures, mlr3inferr   & response & primary\\_iters & \\\\\n",
       "\t ci.ncv            & Nested CV CI                               & NA      & mlr3        , mlr3measures, mlr3inferr   & response & primary\\_iters & \\\\\n",
       "\t ci.wald\\_cv        & Naive CV CI                                & NA      & mlr3        , mlr3measures, mlr3inferr   & response & primary\\_iters & \\\\\n",
       "\t classif.acc       & Classification Accuracy                    & classif & mlr3        , mlr3measures & response &  & \\\\\n",
       "\t classif.auc       & Area Under the ROC Curve                   & classif & mlr3        , mlr3measures & prob     &  & twoclass\\\\\n",
       "\t classif.bacc      & Balanced Accuracy                          & classif & mlr3        , mlr3measures & response &  & \\\\\n",
       "\t classif.bbrier    & Binary Brier Score                         & classif & mlr3        , mlr3measures & prob     &  & twoclass\\\\\n",
       "\t classif.ce        & Classification Error                       & classif & mlr3        , mlr3measures & response &  & \\\\\n",
       "\t classif.costs     & Cost-sensitive Classification              & classif & mlr3 & response &  & \\\\\n",
       "\t classif.dor       & Diagnostic Odds Ratio                      & classif & mlr3        , mlr3measures & response &  & twoclass\\\\\n",
       "\t classif.fbeta     & F-beta score                               & classif & mlr3        , mlr3measures & response &  & twoclass\\\\\n",
       "\t classif.fdr       & False Discovery Rate                       & classif & mlr3        , mlr3measures & response &  & twoclass\\\\\n",
       "\t classif.fn        & False Negatives                            & classif & mlr3        , mlr3measures & response &  & twoclass\\\\\n",
       "\t classif.fnr       & False Negative Rate                        & classif & mlr3        , mlr3measures & response &  & twoclass\\\\\n",
       "\t classif.fomr      & False Omission Rate                        & classif & mlr3        , mlr3measures & response &  & twoclass\\\\\n",
       "\t classif.fp        & False Positives                            & classif & mlr3        , mlr3measures & response &  & twoclass\\\\\n",
       "\t classif.fpr       & False Positive Rate                        & classif & mlr3        , mlr3measures & response &  & twoclass\\\\\n",
       "\t classif.logloss   & Log Loss                                   & classif & mlr3        , mlr3measures & prob     &  & \\\\\n",
       "\t classif.mauc\\_au1p & Weighted average 1 vs. 1 multiclass AUC    & classif & mlr3        , mlr3measures & prob     &  & \\\\\n",
       "\t classif.mauc\\_au1u & Average 1 vs. 1 multiclass AUC             & classif & mlr3        , mlr3measures & prob     &  & \\\\\n",
       "\t classif.mauc\\_aunp & Weighted average 1 vs. rest multiclass AUC & classif & mlr3        , mlr3measures & prob     &  & \\\\\n",
       "\t classif.mauc\\_aunu & Average 1 vs. rest multiclass AUC          & classif & mlr3        , mlr3measures & prob     &  & \\\\\n",
       "\t classif.mauc\\_mu   & Multiclass mu AUC                          & classif & mlr3        , mlr3measures & prob     &  & \\\\\n",
       "\t classif.mbrier    & Multiclass Brier Score                     & classif & mlr3        , mlr3measures & prob     &  & \\\\\n",
       "\t classif.mcc       & Matthews Correlation Coefficient           & classif & mlr3        , mlr3measures & response &  & \\\\\n",
       "\t ... & ... & ... & ... & ... & ... & ...\\\\\n",
       "\t debug\\_classif        & Debug Classification Measure                        & NA   & mlr3 & response & na\\_score & \\\\\n",
       "\t internal\\_valid\\_score & Internal Validation Score                           & NA   & mlr3 & NA       & na\\_score              , requires\\_learner      , requires\\_no\\_prediction & \\\\\n",
       "\t oob\\_error            & Out-of-bag Error                                    & NA   & mlr3 & NA       & na\\_score              , requires\\_learner      , requires\\_no\\_prediction & \\\\\n",
       "\t regr.bias            & Bias                                                & regr & mlr3        , mlr3measures & response &  & \\\\\n",
       "\t regr.ktau            & Kendall's tau                                       & regr & mlr3        , mlr3measures & response &  & \\\\\n",
       "\t regr.mae             & Mean Absolute Error                                 & regr & mlr3        , mlr3measures & response &  & \\\\\n",
       "\t regr.mape            & Mean Absolute Percent Error                         & regr & mlr3        , mlr3measures & response &  & \\\\\n",
       "\t regr.maxae           & Max Absolute Error                                  & regr & mlr3        , mlr3measures & response &  & \\\\\n",
       "\t regr.medae           & Median Absolute Error                               & regr & mlr3        , mlr3measures & response &  & \\\\\n",
       "\t regr.medse           & Median Squared Error                                & regr & mlr3        , mlr3measures & response &  & \\\\\n",
       "\t regr.mse             & Mean Squared Error                                  & regr & mlr3        , mlr3measures & response &  & \\\\\n",
       "\t regr.msle            & Mean Squared Log Error                              & regr & mlr3        , mlr3measures & response &  & \\\\\n",
       "\t regr.pbias           & Percent Bias                                        & regr & mlr3        , mlr3measures & response &  & \\\\\n",
       "\t regr.pinball         & Pinball                                             & regr & mlr3        , mlr3measures & response &  & \\\\\n",
       "\t regr.rae             & Relative Absolute Error                             & regr & mlr3        , mlr3measures & response &  & \\\\\n",
       "\t regr.rmse            & Root Mean Squared Error                             & regr & mlr3        , mlr3measures & response &  & \\\\\n",
       "\t regr.rmsle           & Root Mean Squared Log Error                         & regr & mlr3        , mlr3measures & response &  & \\\\\n",
       "\t regr.rrse            & Root Relative Squared Error                         & regr & mlr3        , mlr3measures & response &  & \\\\\n",
       "\t regr.rse             & Relative Squared Error                              & regr & mlr3        , mlr3measures & response &  & \\\\\n",
       "\t regr.rsq             & NA                                                  & regr & mlr3 & response &  & \\\\\n",
       "\t regr.sae             & Sum of Absolute Errors                              & regr & mlr3        , mlr3measures & response &  & \\\\\n",
       "\t regr.smape           & Symmetric Mean Absolute Percent Error               & regr & mlr3        , mlr3measures & response &  & \\\\\n",
       "\t regr.srho            & Spearman's rho                                      & regr & mlr3        , mlr3measures & response &  & \\\\\n",
       "\t regr.sse             & Sum of Squared Errors                               & regr & mlr3        , mlr3measures & response &  & \\\\\n",
       "\t selected\\_features    & Absolute or Relative Frequency of Selected Features & NA   & mlr3 & NA       & requires\\_task         , requires\\_learner      , requires\\_model        , requires\\_no\\_prediction & \\\\\n",
       "\t sim.jaccard          & Jaccard Similarity Index                            & NA   & mlr3        , mlr3measures & NA       & requires\\_model & \\\\\n",
       "\t sim.phi              & Phi Coefficient Similarity                          & NA   & mlr3        , mlr3measures & NA       & requires\\_model & \\\\\n",
       "\t time\\_both            & Elapsed Time                                        & NA   & mlr3 & NA       & requires\\_learner      , requires\\_no\\_prediction & \\\\\n",
       "\t time\\_predict         & Elapsed Time                                        & NA   & mlr3 & NA       & requires\\_learner      , requires\\_no\\_prediction & \\\\\n",
       "\t time\\_train           & Elapsed Time                                        & NA   & mlr3 & NA       & requires\\_learner      , requires\\_no\\_prediction & \\\\\n",
       "\\end{tabular}\n"
      ],
      "text/markdown": [
       "\n",
       "A data.table: 75 x 7\n",
       "\n",
       "| key &lt;chr&gt; | label &lt;chr&gt; | task_type &lt;chr&gt; | packages &lt;list&gt; | predict_type &lt;chr&gt; | properties &lt;list&gt; | task_properties &lt;list&gt; |\n",
       "|---|---|---|---|---|---|---|\n",
       "| aic               | Akaike Information Criterion               | NA      | mlr3 | NA       | na_score              , requires_learner      , requires_model        , requires_no_prediction | <!----> |\n",
       "| bic               | Bayesian Information Criterion             | NA      | mlr3 | NA       | na_score              , requires_learner      , requires_model        , requires_no_prediction | <!----> |\n",
       "| ci                | Default CI                                 | NA      | mlr3        , mlr3measures, mlr3inferr   | response | primary_iters | <!----> |\n",
       "| ci.con_z          | Conservative-Z CI                          | NA      | mlr3        , mlr3measures, mlr3inferr   | response | primary_iters | <!----> |\n",
       "| ci.cor_t          | Corrected-T CI                             | NA      | mlr3        , mlr3measures, mlr3inferr   | response | primary_iters | <!----> |\n",
       "| ci.holdout        | Holdout CI                                 | NA      | mlr3        , mlr3measures, mlr3inferr   | response | primary_iters | <!----> |\n",
       "| ci.ncv            | Nested CV CI                               | NA      | mlr3        , mlr3measures, mlr3inferr   | response | primary_iters | <!----> |\n",
       "| ci.wald_cv        | Naive CV CI                                | NA      | mlr3        , mlr3measures, mlr3inferr   | response | primary_iters | <!----> |\n",
       "| classif.acc       | Classification Accuracy                    | classif | mlr3        , mlr3measures | response | <!----> | <!----> |\n",
       "| classif.auc       | Area Under the ROC Curve                   | classif | mlr3        , mlr3measures | prob     | <!----> | twoclass |\n",
       "| classif.bacc      | Balanced Accuracy                          | classif | mlr3        , mlr3measures | response | <!----> | <!----> |\n",
       "| classif.bbrier    | Binary Brier Score                         | classif | mlr3        , mlr3measures | prob     | <!----> | twoclass |\n",
       "| classif.ce        | Classification Error                       | classif | mlr3        , mlr3measures | response | <!----> | <!----> |\n",
       "| classif.costs     | Cost-sensitive Classification              | classif | mlr3 | response | <!----> | <!----> |\n",
       "| classif.dor       | Diagnostic Odds Ratio                      | classif | mlr3        , mlr3measures | response | <!----> | twoclass |\n",
       "| classif.fbeta     | F-beta score                               | classif | mlr3        , mlr3measures | response | <!----> | twoclass |\n",
       "| classif.fdr       | False Discovery Rate                       | classif | mlr3        , mlr3measures | response | <!----> | twoclass |\n",
       "| classif.fn        | False Negatives                            | classif | mlr3        , mlr3measures | response | <!----> | twoclass |\n",
       "| classif.fnr       | False Negative Rate                        | classif | mlr3        , mlr3measures | response | <!----> | twoclass |\n",
       "| classif.fomr      | False Omission Rate                        | classif | mlr3        , mlr3measures | response | <!----> | twoclass |\n",
       "| classif.fp        | False Positives                            | classif | mlr3        , mlr3measures | response | <!----> | twoclass |\n",
       "| classif.fpr       | False Positive Rate                        | classif | mlr3        , mlr3measures | response | <!----> | twoclass |\n",
       "| classif.logloss   | Log Loss                                   | classif | mlr3        , mlr3measures | prob     | <!----> | <!----> |\n",
       "| classif.mauc_au1p | Weighted average 1 vs. 1 multiclass AUC    | classif | mlr3        , mlr3measures | prob     | <!----> | <!----> |\n",
       "| classif.mauc_au1u | Average 1 vs. 1 multiclass AUC             | classif | mlr3        , mlr3measures | prob     | <!----> | <!----> |\n",
       "| classif.mauc_aunp | Weighted average 1 vs. rest multiclass AUC | classif | mlr3        , mlr3measures | prob     | <!----> | <!----> |\n",
       "| classif.mauc_aunu | Average 1 vs. rest multiclass AUC          | classif | mlr3        , mlr3measures | prob     | <!----> | <!----> |\n",
       "| classif.mauc_mu   | Multiclass mu AUC                          | classif | mlr3        , mlr3measures | prob     | <!----> | <!----> |\n",
       "| classif.mbrier    | Multiclass Brier Score                     | classif | mlr3        , mlr3measures | prob     | <!----> | <!----> |\n",
       "| classif.mcc       | Matthews Correlation Coefficient           | classif | mlr3        , mlr3measures | response | <!----> | <!----> |\n",
       "| ... | ... | ... | ... | ... | ... | ... |\n",
       "| debug_classif        | Debug Classification Measure                        | NA   | mlr3 | response | na_score | <!----> |\n",
       "| internal_valid_score | Internal Validation Score                           | NA   | mlr3 | NA       | na_score              , requires_learner      , requires_no_prediction | <!----> |\n",
       "| oob_error            | Out-of-bag Error                                    | NA   | mlr3 | NA       | na_score              , requires_learner      , requires_no_prediction | <!----> |\n",
       "| regr.bias            | Bias                                                | regr | mlr3        , mlr3measures | response | <!----> | <!----> |\n",
       "| regr.ktau            | Kendall's tau                                       | regr | mlr3        , mlr3measures | response | <!----> | <!----> |\n",
       "| regr.mae             | Mean Absolute Error                                 | regr | mlr3        , mlr3measures | response | <!----> | <!----> |\n",
       "| regr.mape            | Mean Absolute Percent Error                         | regr | mlr3        , mlr3measures | response | <!----> | <!----> |\n",
       "| regr.maxae           | Max Absolute Error                                  | regr | mlr3        , mlr3measures | response | <!----> | <!----> |\n",
       "| regr.medae           | Median Absolute Error                               | regr | mlr3        , mlr3measures | response | <!----> | <!----> |\n",
       "| regr.medse           | Median Squared Error                                | regr | mlr3        , mlr3measures | response | <!----> | <!----> |\n",
       "| regr.mse             | Mean Squared Error                                  | regr | mlr3        , mlr3measures | response | <!----> | <!----> |\n",
       "| regr.msle            | Mean Squared Log Error                              | regr | mlr3        , mlr3measures | response | <!----> | <!----> |\n",
       "| regr.pbias           | Percent Bias                                        | regr | mlr3        , mlr3measures | response | <!----> | <!----> |\n",
       "| regr.pinball         | Pinball                                             | regr | mlr3        , mlr3measures | response | <!----> | <!----> |\n",
       "| regr.rae             | Relative Absolute Error                             | regr | mlr3        , mlr3measures | response | <!----> | <!----> |\n",
       "| regr.rmse            | Root Mean Squared Error                             | regr | mlr3        , mlr3measures | response | <!----> | <!----> |\n",
       "| regr.rmsle           | Root Mean Squared Log Error                         | regr | mlr3        , mlr3measures | response | <!----> | <!----> |\n",
       "| regr.rrse            | Root Relative Squared Error                         | regr | mlr3        , mlr3measures | response | <!----> | <!----> |\n",
       "| regr.rse             | Relative Squared Error                              | regr | mlr3        , mlr3measures | response | <!----> | <!----> |\n",
       "| regr.rsq             | NA                                                  | regr | mlr3 | response | <!----> | <!----> |\n",
       "| regr.sae             | Sum of Absolute Errors                              | regr | mlr3        , mlr3measures | response | <!----> | <!----> |\n",
       "| regr.smape           | Symmetric Mean Absolute Percent Error               | regr | mlr3        , mlr3measures | response | <!----> | <!----> |\n",
       "| regr.srho            | Spearman's rho                                      | regr | mlr3        , mlr3measures | response | <!----> | <!----> |\n",
       "| regr.sse             | Sum of Squared Errors                               | regr | mlr3        , mlr3measures | response | <!----> | <!----> |\n",
       "| selected_features    | Absolute or Relative Frequency of Selected Features | NA   | mlr3 | NA       | requires_task         , requires_learner      , requires_model        , requires_no_prediction | <!----> |\n",
       "| sim.jaccard          | Jaccard Similarity Index                            | NA   | mlr3        , mlr3measures | NA       | requires_model | <!----> |\n",
       "| sim.phi              | Phi Coefficient Similarity                          | NA   | mlr3        , mlr3measures | NA       | requires_model | <!----> |\n",
       "| time_both            | Elapsed Time                                        | NA   | mlr3 | NA       | requires_learner      , requires_no_prediction | <!----> |\n",
       "| time_predict         | Elapsed Time                                        | NA   | mlr3 | NA       | requires_learner      , requires_no_prediction | <!----> |\n",
       "| time_train           | Elapsed Time                                        | NA   | mlr3 | NA       | requires_learner      , requires_no_prediction | <!----> |\n",
       "\n"
      ],
      "text/plain": [
       "    key                  label                                              \n",
       "1   aic                  Akaike Information Criterion                       \n",
       "2   bic                  Bayesian Information Criterion                     \n",
       "3   ci                   Default CI                                         \n",
       "4   ci.con_z             Conservative-Z CI                                  \n",
       "5   ci.cor_t             Corrected-T CI                                     \n",
       "6   ci.holdout           Holdout CI                                         \n",
       "7   ci.ncv               Nested CV CI                                       \n",
       "8   ci.wald_cv           Naive CV CI                                        \n",
       "9   classif.acc          Classification Accuracy                            \n",
       "10  classif.auc          Area Under the ROC Curve                           \n",
       "11  classif.bacc         Balanced Accuracy                                  \n",
       "12  classif.bbrier       Binary Brier Score                                 \n",
       "13  classif.ce           Classification Error                               \n",
       "14  classif.costs        Cost-sensitive Classification                      \n",
       "15  classif.dor          Diagnostic Odds Ratio                              \n",
       "16  classif.fbeta        F-beta score                                       \n",
       "17  classif.fdr          False Discovery Rate                               \n",
       "18  classif.fn           False Negatives                                    \n",
       "19  classif.fnr          False Negative Rate                                \n",
       "20  classif.fomr         False Omission Rate                                \n",
       "21  classif.fp           False Positives                                    \n",
       "22  classif.fpr          False Positive Rate                                \n",
       "23  classif.logloss      Log Loss                                           \n",
       "24  classif.mauc_au1p    Weighted average 1 vs. 1 multiclass AUC            \n",
       "25  classif.mauc_au1u    Average 1 vs. 1 multiclass AUC                     \n",
       "26  classif.mauc_aunp    Weighted average 1 vs. rest multiclass AUC         \n",
       "27  classif.mauc_aunu    Average 1 vs. rest multiclass AUC                  \n",
       "28  classif.mauc_mu      Multiclass mu AUC                                  \n",
       "29  classif.mbrier       Multiclass Brier Score                             \n",
       "30  classif.mcc          Matthews Correlation Coefficient                   \n",
       "... ...                  ...                                                \n",
       "46  debug_classif        Debug Classification Measure                       \n",
       "47  internal_valid_score Internal Validation Score                          \n",
       "48  oob_error            Out-of-bag Error                                   \n",
       "49  regr.bias            Bias                                               \n",
       "50  regr.ktau            Kendall's tau                                      \n",
       "51  regr.mae             Mean Absolute Error                                \n",
       "52  regr.mape            Mean Absolute Percent Error                        \n",
       "53  regr.maxae           Max Absolute Error                                 \n",
       "54  regr.medae           Median Absolute Error                              \n",
       "55  regr.medse           Median Squared Error                               \n",
       "56  regr.mse             Mean Squared Error                                 \n",
       "57  regr.msle            Mean Squared Log Error                             \n",
       "58  regr.pbias           Percent Bias                                       \n",
       "59  regr.pinball         Pinball                                            \n",
       "60  regr.rae             Relative Absolute Error                            \n",
       "61  regr.rmse            Root Mean Squared Error                            \n",
       "62  regr.rmsle           Root Mean Squared Log Error                        \n",
       "63  regr.rrse            Root Relative Squared Error                        \n",
       "64  regr.rse             Relative Squared Error                             \n",
       "65  regr.rsq             NA                                                 \n",
       "66  regr.sae             Sum of Absolute Errors                             \n",
       "67  regr.smape           Symmetric Mean Absolute Percent Error              \n",
       "68  regr.srho            Spearman's rho                                     \n",
       "69  regr.sse             Sum of Squared Errors                              \n",
       "70  selected_features    Absolute or Relative Frequency of Selected Features\n",
       "71  sim.jaccard          Jaccard Similarity Index                           \n",
       "72  sim.phi              Phi Coefficient Similarity                         \n",
       "73  time_both            Elapsed Time                                       \n",
       "74  time_predict         Elapsed Time                                       \n",
       "75  time_train           Elapsed Time                                       \n",
       "    task_type packages                                 predict_type\n",
       "1   NA        mlr3                                     NA          \n",
       "2   NA        mlr3                                     NA          \n",
       "3   NA        mlr3        , mlr3measures, mlr3inferr   response    \n",
       "4   NA        mlr3        , mlr3measures, mlr3inferr   response    \n",
       "5   NA        mlr3        , mlr3measures, mlr3inferr   response    \n",
       "6   NA        mlr3        , mlr3measures, mlr3inferr   response    \n",
       "7   NA        mlr3        , mlr3measures, mlr3inferr   response    \n",
       "8   NA        mlr3        , mlr3measures, mlr3inferr   response    \n",
       "9   classif   mlr3        , mlr3measures               response    \n",
       "10  classif   mlr3        , mlr3measures               prob        \n",
       "11  classif   mlr3        , mlr3measures               response    \n",
       "12  classif   mlr3        , mlr3measures               prob        \n",
       "13  classif   mlr3        , mlr3measures               response    \n",
       "14  classif   mlr3                                     response    \n",
       "15  classif   mlr3        , mlr3measures               response    \n",
       "16  classif   mlr3        , mlr3measures               response    \n",
       "17  classif   mlr3        , mlr3measures               response    \n",
       "18  classif   mlr3        , mlr3measures               response    \n",
       "19  classif   mlr3        , mlr3measures               response    \n",
       "20  classif   mlr3        , mlr3measures               response    \n",
       "21  classif   mlr3        , mlr3measures               response    \n",
       "22  classif   mlr3        , mlr3measures               response    \n",
       "23  classif   mlr3        , mlr3measures               prob        \n",
       "24  classif   mlr3        , mlr3measures               prob        \n",
       "25  classif   mlr3        , mlr3measures               prob        \n",
       "26  classif   mlr3        , mlr3measures               prob        \n",
       "27  classif   mlr3        , mlr3measures               prob        \n",
       "28  classif   mlr3        , mlr3measures               prob        \n",
       "29  classif   mlr3        , mlr3measures               prob        \n",
       "30  classif   mlr3        , mlr3measures               response    \n",
       "... ...       ...                                      ...         \n",
       "46  NA        mlr3                                     response    \n",
       "47  NA        mlr3                                     NA          \n",
       "48  NA        mlr3                                     NA          \n",
       "49  regr      mlr3        , mlr3measures               response    \n",
       "50  regr      mlr3        , mlr3measures               response    \n",
       "51  regr      mlr3        , mlr3measures               response    \n",
       "52  regr      mlr3        , mlr3measures               response    \n",
       "53  regr      mlr3        , mlr3measures               response    \n",
       "54  regr      mlr3        , mlr3measures               response    \n",
       "55  regr      mlr3        , mlr3measures               response    \n",
       "56  regr      mlr3        , mlr3measures               response    \n",
       "57  regr      mlr3        , mlr3measures               response    \n",
       "58  regr      mlr3        , mlr3measures               response    \n",
       "59  regr      mlr3        , mlr3measures               response    \n",
       "60  regr      mlr3        , mlr3measures               response    \n",
       "61  regr      mlr3        , mlr3measures               response    \n",
       "62  regr      mlr3        , mlr3measures               response    \n",
       "63  regr      mlr3        , mlr3measures               response    \n",
       "64  regr      mlr3        , mlr3measures               response    \n",
       "65  regr      mlr3                                     response    \n",
       "66  regr      mlr3        , mlr3measures               response    \n",
       "67  regr      mlr3        , mlr3measures               response    \n",
       "68  regr      mlr3        , mlr3measures               response    \n",
       "69  regr      mlr3        , mlr3measures               response    \n",
       "70  NA        mlr3                                     NA          \n",
       "71  NA        mlr3        , mlr3measures               NA          \n",
       "72  NA        mlr3        , mlr3measures               NA          \n",
       "73  NA        mlr3                                     NA          \n",
       "74  NA        mlr3                                     NA          \n",
       "75  NA        mlr3                                     NA          \n",
       "    properties                                                                                    \n",
       "1   na_score              , requires_learner      , requires_model        , requires_no_prediction\n",
       "2   na_score              , requires_learner      , requires_model        , requires_no_prediction\n",
       "3   primary_iters                                                                                 \n",
       "4   primary_iters                                                                                 \n",
       "5   primary_iters                                                                                 \n",
       "6   primary_iters                                                                                 \n",
       "7   primary_iters                                                                                 \n",
       "8   primary_iters                                                                                 \n",
       "9                                                                                                 \n",
       "10                                                                                                \n",
       "11                                                                                                \n",
       "12                                                                                                \n",
       "13                                                                                                \n",
       "14                                                                                                \n",
       "15                                                                                                \n",
       "16                                                                                                \n",
       "17                                                                                                \n",
       "18                                                                                                \n",
       "19                                                                                                \n",
       "20                                                                                                \n",
       "21                                                                                                \n",
       "22                                                                                                \n",
       "23                                                                                                \n",
       "24                                                                                                \n",
       "25                                                                                                \n",
       "26                                                                                                \n",
       "27                                                                                                \n",
       "28                                                                                                \n",
       "29                                                                                                \n",
       "30                                                                                                \n",
       "... ...                                                                                           \n",
       "46  na_score                                                                                      \n",
       "47  na_score              , requires_learner      , requires_no_prediction                        \n",
       "48  na_score              , requires_learner      , requires_no_prediction                        \n",
       "49                                                                                                \n",
       "50                                                                                                \n",
       "51                                                                                                \n",
       "52                                                                                                \n",
       "53                                                                                                \n",
       "54                                                                                                \n",
       "55                                                                                                \n",
       "56                                                                                                \n",
       "57                                                                                                \n",
       "58                                                                                                \n",
       "59                                                                                                \n",
       "60                                                                                                \n",
       "61                                                                                                \n",
       "62                                                                                                \n",
       "63                                                                                                \n",
       "64                                                                                                \n",
       "65                                                                                                \n",
       "66                                                                                                \n",
       "67                                                                                                \n",
       "68                                                                                                \n",
       "69                                                                                                \n",
       "70  requires_task         , requires_learner      , requires_model        , requires_no_prediction\n",
       "71  requires_model                                                                                \n",
       "72  requires_model                                                                                \n",
       "73  requires_learner      , requires_no_prediction                                                \n",
       "74  requires_learner      , requires_no_prediction                                                \n",
       "75  requires_learner      , requires_no_prediction                                                \n",
       "    task_properties\n",
       "1                  \n",
       "2                  \n",
       "3                  \n",
       "4                  \n",
       "5                  \n",
       "6                  \n",
       "7                  \n",
       "8                  \n",
       "9                  \n",
       "10  twoclass       \n",
       "11                 \n",
       "12  twoclass       \n",
       "13                 \n",
       "14                 \n",
       "15  twoclass       \n",
       "16  twoclass       \n",
       "17  twoclass       \n",
       "18  twoclass       \n",
       "19  twoclass       \n",
       "20  twoclass       \n",
       "21  twoclass       \n",
       "22  twoclass       \n",
       "23                 \n",
       "24                 \n",
       "25                 \n",
       "26                 \n",
       "27                 \n",
       "28                 \n",
       "29                 \n",
       "30                 \n",
       "... ...            \n",
       "46                 \n",
       "47                 \n",
       "48                 \n",
       "49                 \n",
       "50                 \n",
       "51                 \n",
       "52                 \n",
       "53                 \n",
       "54                 \n",
       "55                 \n",
       "56                 \n",
       "57                 \n",
       "58                 \n",
       "59                 \n",
       "60                 \n",
       "61                 \n",
       "62                 \n",
       "63                 \n",
       "64                 \n",
       "65                 \n",
       "66                 \n",
       "67                 \n",
       "68                 \n",
       "69                 \n",
       "70                 \n",
       "71                 \n",
       "72                 \n",
       "73                 \n",
       "74                 \n",
       "75                 "
      ]
     },
     "metadata": {},
     "output_type": "display_data"
    }
   ],
   "source": [
    "msr() %>% as.data.table()"
   ]
  },
  {
   "cell_type": "code",
   "execution_count": 8,
   "id": "33a3c3da",
   "metadata": {
    "vscode": {
     "languageId": "r"
    }
   },
   "outputs": [
    {
     "data": {
      "text/plain": [
       "<DictionaryMeasure> with 75 stored values\n",
       "Keys: aic, bic, ci, ci.con_z, ci.cor_t, ci.holdout, ci.ncv, ci.wald_cv,\n",
       "  classif.acc, classif.auc, classif.bacc, classif.bbrier, classif.ce,\n",
       "  classif.costs, classif.dor, classif.fbeta, classif.fdr, classif.fn,\n",
       "  classif.fnr, classif.fomr, classif.fp, classif.fpr, classif.logloss,\n",
       "  classif.mauc_au1p, classif.mauc_au1u, classif.mauc_aunp,\n",
       "  classif.mauc_aunu, classif.mauc_mu, classif.mbrier, classif.mcc,\n",
       "  classif.npv, classif.ppv, classif.prauc, classif.precision,\n",
       "  classif.recall, classif.sensitivity, classif.specificity, classif.tn,\n",
       "  classif.tnr, classif.tp, classif.tpr, clust.ch, clust.dunn,\n",
       "  clust.silhouette, clust.wss, debug_classif, internal_valid_score,\n",
       "  oob_error, regr.bias, regr.ktau, regr.mae, regr.mape, regr.maxae,\n",
       "  regr.medae, regr.medse, regr.mse, regr.msle, regr.pbias,\n",
       "  regr.pinball, regr.rae, regr.rmse, regr.rmsle, regr.rrse, regr.rse,\n",
       "  regr.rsq, regr.sae, regr.smape, regr.srho, regr.sse,\n",
       "  selected_features, sim.jaccard, sim.phi, time_both, time_predict,\n",
       "  time_train"
      ]
     },
     "metadata": {},
     "output_type": "display_data"
    }
   ],
   "source": [
    "msr()"
   ]
  },
  {
   "cell_type": "code",
   "execution_count": null,
   "id": "60c46b84",
   "metadata": {
    "vscode": {
     "languageId": "r"
    }
   },
   "outputs": [
    {
     "ename": "ERROR",
     "evalue": "Error: attempt to apply non-function\n",
     "output_type": "error",
     "traceback": [
      "Error: attempt to apply non-function\nTraceback:\n"
     ]
    }
   ],
   "source": [
    "library(mlr3verse)\n",
    "\n",
    "tsk_mtcars <- tsk(\"mtcars\")\n",
    "lrn_ranger <- lrn(\"regr.ranger\")\n",
    "msr_mse <- msr(\"aic\")\n",
    "\n",
    "lrn_ranger$train(tsk_mtcars)\n"
   ]
  },
  {
   "cell_type": "code",
   "execution_count": 20,
   "id": "93eb2fb7",
   "metadata": {
    "vscode": {
     "languageId": "r"
    }
   },
   "outputs": [
    {
     "data": {
      "text/html": [
       "0.780509523809524"
      ],
      "text/latex": [
       "0.780509523809524"
      ],
      "text/markdown": [
       "0.780509523809524"
      ],
      "text/plain": [
       "[1] 0.7805095"
      ]
     },
     "metadata": {},
     "output_type": "display_data"
    }
   ],
   "source": [
    "tsk_german <- tsk(\"german_credit\")\n",
    "lrn_rpart <- lrn(\"classif.rpart\", predict_type = \"prob\")\n",
    "msr_acc <- msr(\"classif.auc\")\n",
    "\n",
    "lrn_rpart$train(tsk_german)\n",
    "msr_acc$score(lrn_rpart$predict(tsk_german))"
   ]
  },
  {
   "cell_type": "code",
   "execution_count": null,
   "id": "a4b2192d",
   "metadata": {
    "vscode": {
     "languageId": "r"
    }
   },
   "outputs": [
    {
     "data": {
      "text/html": [
       "<table class=\"dataframe\">\n",
       "<caption>A data.table: 24 x 2</caption>\n",
       "<thead>\n",
       "\t<tr><th scope=col>key</th><th scope=col>label</th></tr>\n",
       "\t<tr><th scope=col>&lt;chr&gt;</th><th scope=col>&lt;chr&gt;</th></tr>\n",
       "</thead>\n",
       "<tbody>\n",
       "\t<tr><td>clust.MBatchKMeans</td><td>Mini Batch K-Means                   </td></tr>\n",
       "\t<tr><td>clust.SimpleKMeans</td><td>K-Means (Weka)                       </td></tr>\n",
       "\t<tr><td>clust.agnes       </td><td>Agglomerative Hierarchical Clustering</td></tr>\n",
       "\t<tr><td>clust.ap          </td><td>Affinity Propagation Clustering      </td></tr>\n",
       "\t<tr><td>clust.bico        </td><td>BICO Clustering                      </td></tr>\n",
       "\t<tr><td>clust.birch       </td><td>BIRCH Clustering                     </td></tr>\n",
       "\t<tr><td>clust.cmeans      </td><td>Fuzzy C-Means Clustering Learner     </td></tr>\n",
       "\t<tr><td>clust.cobweb      </td><td>Cobweb Clustering                    </td></tr>\n",
       "\t<tr><td>clust.dbscan      </td><td>Density-Based Clustering             </td></tr>\n",
       "\t<tr><td>clust.dbscan_fpc  </td><td>Density-Based Clustering with fpc    </td></tr>\n",
       "\t<tr><td>clust.diana       </td><td>Divisive Hierarchical Clustering     </td></tr>\n",
       "\t<tr><td>clust.em          </td><td>Expectation-Maximization Clustering  </td></tr>\n",
       "\t<tr><td>clust.fanny       </td><td>Fuzzy Analysis Clustering            </td></tr>\n",
       "\t<tr><td>clust.featureless </td><td>Featureless Clustering               </td></tr>\n",
       "\t<tr><td>clust.ff          </td><td>Farthest First Clustering            </td></tr>\n",
       "\t<tr><td>clust.hclust      </td><td>Agglomerative Hierarchical Clustering</td></tr>\n",
       "\t<tr><td>clust.hdbscan     </td><td>HDBSCAN Clustering                   </td></tr>\n",
       "\t<tr><td>clust.kkmeans     </td><td>Kernel K-Means                       </td></tr>\n",
       "\t<tr><td>clust.kmeans      </td><td>K-Means                              </td></tr>\n",
       "\t<tr><td>clust.mclust      </td><td>Gaussian Mixture Models Clustering   </td></tr>\n",
       "\t<tr><td>clust.meanshift   </td><td>Mean Shift Clustering                </td></tr>\n",
       "\t<tr><td>clust.optics      </td><td>OPTICS Clustering                    </td></tr>\n",
       "\t<tr><td>clust.pam         </td><td>Partitioning Around Medoids          </td></tr>\n",
       "\t<tr><td>clust.xmeans      </td><td>X-means                              </td></tr>\n",
       "</tbody>\n",
       "</table>\n"
      ],
      "text/latex": [
       "A data.table: 24 x 2\n",
       "\\begin{tabular}{ll}\n",
       " key & label\\\\\n",
       " <chr> & <chr>\\\\\n",
       "\\hline\n",
       "\t clust.MBatchKMeans & Mini Batch K-Means                   \\\\\n",
       "\t clust.SimpleKMeans & K-Means (Weka)                       \\\\\n",
       "\t clust.agnes        & Agglomerative Hierarchical Clustering\\\\\n",
       "\t clust.ap           & Affinity Propagation Clustering      \\\\\n",
       "\t clust.bico         & BICO Clustering                      \\\\\n",
       "\t clust.birch        & BIRCH Clustering                     \\\\\n",
       "\t clust.cmeans       & Fuzzy C-Means Clustering Learner     \\\\\n",
       "\t clust.cobweb       & Cobweb Clustering                    \\\\\n",
       "\t clust.dbscan       & Density-Based Clustering             \\\\\n",
       "\t clust.dbscan\\_fpc   & Density-Based Clustering with fpc    \\\\\n",
       "\t clust.diana        & Divisive Hierarchical Clustering     \\\\\n",
       "\t clust.em           & Expectation-Maximization Clustering  \\\\\n",
       "\t clust.fanny        & Fuzzy Analysis Clustering            \\\\\n",
       "\t clust.featureless  & Featureless Clustering               \\\\\n",
       "\t clust.ff           & Farthest First Clustering            \\\\\n",
       "\t clust.hclust       & Agglomerative Hierarchical Clustering\\\\\n",
       "\t clust.hdbscan      & HDBSCAN Clustering                   \\\\\n",
       "\t clust.kkmeans      & Kernel K-Means                       \\\\\n",
       "\t clust.kmeans       & K-Means                              \\\\\n",
       "\t clust.mclust       & Gaussian Mixture Models Clustering   \\\\\n",
       "\t clust.meanshift    & Mean Shift Clustering                \\\\\n",
       "\t clust.optics       & OPTICS Clustering                    \\\\\n",
       "\t clust.pam          & Partitioning Around Medoids          \\\\\n",
       "\t clust.xmeans       & X-means                              \\\\\n",
       "\\end{tabular}\n"
      ],
      "text/markdown": [
       "\n",
       "A data.table: 24 x 2\n",
       "\n",
       "| key &lt;chr&gt; | label &lt;chr&gt; |\n",
       "|---|---|\n",
       "| clust.MBatchKMeans | Mini Batch K-Means                    |\n",
       "| clust.SimpleKMeans | K-Means (Weka)                        |\n",
       "| clust.agnes        | Agglomerative Hierarchical Clustering |\n",
       "| clust.ap           | Affinity Propagation Clustering       |\n",
       "| clust.bico         | BICO Clustering                       |\n",
       "| clust.birch        | BIRCH Clustering                      |\n",
       "| clust.cmeans       | Fuzzy C-Means Clustering Learner      |\n",
       "| clust.cobweb       | Cobweb Clustering                     |\n",
       "| clust.dbscan       | Density-Based Clustering              |\n",
       "| clust.dbscan_fpc   | Density-Based Clustering with fpc     |\n",
       "| clust.diana        | Divisive Hierarchical Clustering      |\n",
       "| clust.em           | Expectation-Maximization Clustering   |\n",
       "| clust.fanny        | Fuzzy Analysis Clustering             |\n",
       "| clust.featureless  | Featureless Clustering                |\n",
       "| clust.ff           | Farthest First Clustering             |\n",
       "| clust.hclust       | Agglomerative Hierarchical Clustering |\n",
       "| clust.hdbscan      | HDBSCAN Clustering                    |\n",
       "| clust.kkmeans      | Kernel K-Means                        |\n",
       "| clust.kmeans       | K-Means                               |\n",
       "| clust.mclust       | Gaussian Mixture Models Clustering    |\n",
       "| clust.meanshift    | Mean Shift Clustering                 |\n",
       "| clust.optics       | OPTICS Clustering                     |\n",
       "| clust.pam          | Partitioning Around Medoids           |\n",
       "| clust.xmeans       | X-means                               |\n",
       "\n"
      ],
      "text/plain": [
       "   key                label                                \n",
       "1  clust.MBatchKMeans Mini Batch K-Means                   \n",
       "2  clust.SimpleKMeans K-Means (Weka)                       \n",
       "3  clust.agnes        Agglomerative Hierarchical Clustering\n",
       "4  clust.ap           Affinity Propagation Clustering      \n",
       "5  clust.bico         BICO Clustering                      \n",
       "6  clust.birch        BIRCH Clustering                     \n",
       "7  clust.cmeans       Fuzzy C-Means Clustering Learner     \n",
       "8  clust.cobweb       Cobweb Clustering                    \n",
       "9  clust.dbscan       Density-Based Clustering             \n",
       "10 clust.dbscan_fpc   Density-Based Clustering with fpc    \n",
       "11 clust.diana        Divisive Hierarchical Clustering     \n",
       "12 clust.em           Expectation-Maximization Clustering  \n",
       "13 clust.fanny        Fuzzy Analysis Clustering            \n",
       "14 clust.featureless  Featureless Clustering               \n",
       "15 clust.ff           Farthest First Clustering            \n",
       "16 clust.hclust       Agglomerative Hierarchical Clustering\n",
       "17 clust.hdbscan      HDBSCAN Clustering                   \n",
       "18 clust.kkmeans      Kernel K-Means                       \n",
       "19 clust.kmeans       K-Means                              \n",
       "20 clust.mclust       Gaussian Mixture Models Clustering   \n",
       "21 clust.meanshift    Mean Shift Clustering                \n",
       "22 clust.optics       OPTICS Clustering                    \n",
       "23 clust.pam          Partitioning Around Medoids          \n",
       "24 clust.xmeans       X-means                              "
      ]
     },
     "metadata": {},
     "output_type": "display_data"
    }
   ],
   "source": [
    "lrn() %>%\n",
    "  as.data.table() %>%\n",
    "  select(key, label) %>%\n",
    "  filter(str_detect(key, \"clust\"))\n",
    "\n",
    "#   key                label                                \n",
    "# 1  clust.MBatchKMeans Mini Batch K-Means                   \n",
    "# 2  clust.SimpleKMeans K-Means (Weka)                       \n",
    "# 3  clust.agnes        Agglomerative Hierarchical Clustering\n",
    "# 4  clust.ap           Affinity Propagation Clustering      \n",
    "# 5  clust.bico         BICO Clustering                      \n",
    "# 6  clust.birch        BIRCH Clustering                     \n",
    "# 7  clust.cmeans       Fuzzy C-Means Clustering Learner     \n",
    "# 8  clust.cobweb       Cobweb Clustering                    \n",
    "# 9  clust.dbscan       Density-Based Clustering             \n",
    "# 10 clust.dbscan_fpc   Density-Based Clustering with fpc    \n",
    "# 11 clust.diana        Divisive Hierarchical Clustering     \n",
    "# 12 clust.em           Expectation-Maximization Clustering  \n",
    "# 13 clust.fanny        Fuzzy Analysis Clustering            \n",
    "# 14 clust.featureless  Featureless Clustering               \n",
    "# 15 clust.ff           Farthest First Clustering            \n",
    "# 16 clust.hclust       Agglomerative Hierarchical Clustering\n",
    "# 17 clust.hdbscan      HDBSCAN Clustering                   \n",
    "# 18 clust.kkmeans      Kernel K-Means                       \n",
    "# 19 clust.kmeans       K-Means                              \n",
    "# 20 clust.mclust       Gaussian Mixture Models Clustering   \n",
    "# 21 clust.meanshift    Mean Shift Clustering                \n",
    "# 22 clust.optics       OPTICS Clustering                    \n",
    "# 23 clust.pam          Partitioning Around Medoids          \n",
    "# 24 clust.xmeans       X-means"
   ]
  },
  {
   "cell_type": "code",
   "execution_count": 42,
   "id": "a8652fa7",
   "metadata": {
    "vscode": {
     "languageId": "r"
    }
   },
   "outputs": [
    {
     "data": {
      "text/plain": [
       "<DictionaryLearner> with 181 stored values\n",
       "Keys: classif.AdaBoostM1, classif.C50, classif.IBk, classif.J48,\n",
       "  classif.JRip, classif.LMT, classif.OneR, classif.PART, classif.abess,\n",
       "  classif.bart, classif.bayes_net, classif.catboost, classif.cforest,\n",
       "  classif.ctree, classif.cv_glmnet, classif.debug,\n",
       "  classif.decision_stump, classif.decision_table, classif.earth,\n",
       "  classif.featureless, classif.fnn, classif.gam, classif.gamboost,\n",
       "  classif.gausspr, classif.gbm, classif.glmboost, classif.glmer,\n",
       "  classif.glmnet, classif.imbalanced_rfsrc, classif.kknn,\n",
       "  classif.kstar, classif.ksvm, classif.lda, classif.liblinear,\n",
       "  classif.lightgbm, classif.log_reg, classif.logistic, classif.lssvm,\n",
       "  classif.mob, classif.multilayer_perceptron, classif.multinom,\n",
       "  classif.naive_bayes, classif.naive_bayes_multinomial,\n",
       "  classif.naive_bayes_weka, classif.nnet, classif.priority_lasso,\n",
       "  classif.qda, classif.randomForest, classif.random_forest_weka,\n",
       "  classif.random_tree, classif.ranger, classif.reptree, classif.rfsrc,\n",
       "  classif.rpart, classif.rpf, classif.sgd, classif.simple_logistic,\n",
       "  classif.smo, classif.svm, classif.voted_perceptron, classif.xgboost,\n",
       "  clust.MBatchKMeans, clust.SimpleKMeans, clust.agnes, clust.ap,\n",
       "  clust.bico, clust.birch, clust.cmeans, clust.cobweb, clust.dbscan,\n",
       "  clust.dbscan_fpc, clust.diana, clust.em, clust.fanny,\n",
       "  clust.featureless, clust.ff, clust.hclust, clust.hdbscan,\n",
       "  clust.kkmeans, clust.kmeans, clust.mclust, clust.meanshift,\n",
       "  clust.optics, clust.pam, clust.xmeans, dens.hist, dens.kde,\n",
       "  dens.kde_ks, dens.locfit, dens.logspline, dens.mixed, dens.nonpar,\n",
       "  dens.pen, dens.plug, dens.spline, regr.IBk, regr.M5Rules, regr.abess,\n",
       "  regr.bart, regr.catboost, regr.cforest, regr.ctree, regr.cubist,\n",
       "  regr.cv_glmnet, regr.debug, regr.decision_stump, regr.decision_table,\n",
       "  regr.earth, regr.featureless, regr.fnn, regr.gam, regr.gamboost,\n",
       "  regr.gaussian_processes, regr.gausspr, regr.gbm, regr.glm,\n",
       "  regr.glmboost, regr.glmnet, regr.kknn, regr.km, regr.kstar,\n",
       "  regr.ksvm, regr.liblinear, regr.lightgbm, regr.linear_regression,\n",
       "  regr.lm, regr.lmer, regr.m5p, regr.mars, regr.mob,\n",
       "  regr.multilayer_perceptron, regr.nnet, regr.priority_lasso,\n",
       "  regr.randomForest, regr.random_forest_weka, regr.random_tree,\n",
       "  regr.ranger, regr.reptree, regr.rfsrc, regr.rpart, regr.rpf,\n",
       "  regr.rsm, regr.rvm, regr.sgd, regr.simple_linear_regression,\n",
       "  regr.smo_reg, regr.svm, regr.xgboost, surv.akritas, surv.aorsf,\n",
       "  surv.bart, surv.blackboost, surv.cforest, surv.coxboost, surv.coxph,\n",
       "  surv.coxtime, surv.ctree, surv.cv_coxboost, surv.cv_glmnet,\n",
       "  surv.deephit, surv.deepsurv, surv.dnnsurv, surv.flexible,\n",
       "  surv.gamboost, surv.gbm, surv.glmboost, surv.glmnet, surv.kaplan,\n",
       "  surv.loghaz, surv.mboost, surv.nelson, surv.parametric,\n",
       "  surv.pchazard, surv.penalized, surv.priority_lasso, surv.ranger,\n",
       "  surv.rfsrc, surv.rpart, surv.svm, surv.xgboost.aft, surv.xgboost.cox"
      ]
     },
     "metadata": {},
     "output_type": "display_data"
    }
   ],
   "source": [
    "lrn()"
   ]
  },
  {
   "cell_type": "code",
   "execution_count": null,
   "id": "7bd280e3",
   "metadata": {
    "vscode": {
     "languageId": "r"
    }
   },
   "outputs": [],
   "source": []
  }
 ],
 "metadata": {
  "kernelspec": {
   "display_name": "R",
   "language": "R",
   "name": "ir"
  },
  "language_info": {
   "codemirror_mode": "r",
   "file_extension": ".r",
   "mimetype": "text/x-r-source",
   "name": "R",
   "pygments_lexer": "r",
   "version": "4.4.2"
  }
 },
 "nbformat": 4,
 "nbformat_minor": 5
}
